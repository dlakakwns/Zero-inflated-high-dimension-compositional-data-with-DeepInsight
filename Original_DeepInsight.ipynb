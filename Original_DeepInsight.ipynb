{
 "cells": [
  {
   "cell_type": "code",
   "execution_count": 1,
   "id": "498587fa-02ba-43cb-a502-78e2a60274b4",
   "metadata": {},
   "outputs": [
    {
     "name": "stderr",
     "output_type": "stream",
     "text": [
      "INFO: Using numpy backend\n"
     ]
    }
   ],
   "source": [
    "from pyDeepInsight import ImageTransformer, CAMFeatureSelector\n",
    "\n",
    "import pandas as pd\n",
    "import numpy as np\n",
    "from sklearn.model_selection import train_test_split\n",
    "from sklearn.preprocessing import MinMaxScaler, LabelEncoder\n",
    "import torch\n",
    "import torchvision.transforms as transforms\n",
    "import timm\n",
    "from torch.utils.data import TensorDataset, DataLoader\n",
    "import torch.nn as nn\n",
    "import torch.optim as optim\n",
    "from sklearn.metrics import accuracy_score\n",
    "from geomstats.learning.frechet_mean import FrechetMean\n",
    "from geomstats.learning.pca import TangentPCA\n",
    "from geomstats.geometry.hypersphere import Hypersphere\n",
    "from IPython.display import display, clear_output\n",
    "import torchvision.models as models\n",
    "import matplotlib.pyplot as plt\n",
    "import matplotlib.ticker as ticker\n",
    "import seaborn as sns\n",
    "import torch\n",
    "import torchvision\n",
    "import torchvision.transforms as transforms\n",
    "from torch.utils.data import TensorDataset, DataLoader\n",
    "import torch.nn as nn\n",
    "import torch.optim as optim\n",
    "from sklearn.metrics import roc_auc_score, ConfusionMatrixDisplay, confusion_matrix\n",
    "from sklearn.metrics import accuracy_score, ConfusionMatrixDisplay, roc_auc_score, roc_curve\n",
    "import warnings\n",
    "\n",
    "warnings.filterwarnings(\"ignore\")"
   ]
  },
  {
   "cell_type": "code",
   "execution_count": 2,
   "id": "893d59d8-e8a1-42ff-9259-a89a3d13e375",
   "metadata": {},
   "outputs": [],
   "source": [
    "data = pd.read_csv('ibd_data_set.csv',index_col=0)\n",
    "data = data.div(data.sum(axis=1), axis=0) #Convert the data into compositional data through division by the total sum.\n",
    "data = np.sqrt(data) #Apply a square-root transformation to the data to map it into directional space.\n",
    "X=data.values \n",
    "sample=pd.read_csv('ibd_response.csv',index_col=0)\n",
    "y=sample['ibd'] \n",
    "le = LabelEncoder()\n",
    "y_enc = le.fit_transform(y)\n",
    "num_classes = np.unique(y_enc).size"
   ]
  },
  {
   "cell_type": "code",
   "execution_count": 3,
   "id": "bba67c9c-0b7e-4184-a9ee-ebacc563b8c9",
   "metadata": {},
   "outputs": [
    {
     "name": "stderr",
     "output_type": "stream",
     "text": [
      "[I 2024-10-12 14:11:53,313] A new study created in memory with name: no-name-9f4efa64-564a-452d-b66c-3f81789a49b7\n",
      "WARNING: Maximum number of iterations 32 reached. The mean may be inaccurate\n"
     ]
    },
    {
     "name": "stdout",
     "output_type": "stream",
     "text": [
      "SVD 수렴 문제 발생: SVD did not converge. 계속 진행합니다.\n"
     ]
    },
    {
     "name": "stderr",
     "output_type": "stream",
     "text": [
      "[I 2024-10-12 14:16:09,559] Trial 0 finished with value: 0.6537878787878788 and parameters: {'lr': 0.00016633333694351636, 'weight_decay': 8.159105651079604e-05}. Best is trial 0 with value: 0.6537878787878788.\n",
      "WARNING: Maximum number of iterations 32 reached. The mean may be inaccurate\n"
     ]
    },
    {
     "name": "stdout",
     "output_type": "stream",
     "text": [
      "SVD 수렴 문제 발생: SVD did not converge. 계속 진행합니다.\n"
     ]
    },
    {
     "name": "stderr",
     "output_type": "stream",
     "text": [
      "[I 2024-10-12 14:20:39,579] Trial 1 finished with value: 0.6065573770491803 and parameters: {'lr': 0.0029138433131604673, 'weight_decay': 0.0010419721171673678}. Best is trial 0 with value: 0.6537878787878788.\n",
      "WARNING: Maximum number of iterations 32 reached. The mean may be inaccurate\n"
     ]
    },
    {
     "name": "stdout",
     "output_type": "stream",
     "text": [
      "SVD 수렴 문제 발생: SVD did not converge. 계속 진행합니다.\n"
     ]
    },
    {
     "name": "stderr",
     "output_type": "stream",
     "text": [
      "[I 2024-10-12 14:25:14,800] Trial 2 finished with value: 0.6443548387096774 and parameters: {'lr': 2.7129602746642173e-05, 'weight_decay': 1.6432211283200826e-05}. Best is trial 0 with value: 0.6537878787878788.\n",
      "WARNING: Maximum number of iterations 32 reached. The mean may be inaccurate\n"
     ]
    },
    {
     "name": "stdout",
     "output_type": "stream",
     "text": [
      "SVD 수렴 문제 발생: SVD did not converge. 계속 진행합니다.\n"
     ]
    },
    {
     "name": "stderr",
     "output_type": "stream",
     "text": [
      "[I 2024-10-12 14:29:51,159] Trial 3 finished with value: 0.503512880562061 and parameters: {'lr': 8.17395759804342e-05, 'weight_decay': 0.0030244755675737835}. Best is trial 0 with value: 0.6537878787878788.\n",
      "WARNING: Maximum number of iterations 32 reached. The mean may be inaccurate\n"
     ]
    },
    {
     "name": "stdout",
     "output_type": "stream",
     "text": [
      "SVD 수렴 문제 발생: SVD did not converge. 계속 진행합니다.\n"
     ]
    },
    {
     "name": "stderr",
     "output_type": "stream",
     "text": [
      "[I 2024-10-12 14:34:27,760] Trial 4 finished with value: 0.565183450429352 and parameters: {'lr': 0.00016992584034451635, 'weight_decay': 0.0003605886470166395}. Best is trial 0 with value: 0.6537878787878788.\n",
      "WARNING: Maximum number of iterations 32 reached. The mean may be inaccurate\n"
     ]
    },
    {
     "name": "stdout",
     "output_type": "stream",
     "text": [
      "SVD 수렴 문제 발생: SVD did not converge. 계속 진행합니다.\n"
     ]
    },
    {
     "name": "stderr",
     "output_type": "stream",
     "text": [
      "[I 2024-10-12 14:38:58,265] Trial 5 finished with value: 0.5335314091680815 and parameters: {'lr': 0.009217918068645404, 'weight_decay': 0.0012738771845539965}. Best is trial 0 with value: 0.6537878787878788.\n",
      "WARNING: Maximum number of iterations 32 reached. The mean may be inaccurate\n"
     ]
    },
    {
     "name": "stdout",
     "output_type": "stream",
     "text": [
      "SVD 수렴 문제 발생: SVD did not converge. 계속 진행합니다.\n"
     ]
    },
    {
     "name": "stderr",
     "output_type": "stream",
     "text": [
      "[I 2024-10-12 14:43:34,775] Trial 6 finished with value: 0.5042935206869633 and parameters: {'lr': 5.9827554135100255e-05, 'weight_decay': 1.4704336647853627e-06}. Best is trial 0 with value: 0.6537878787878788.\n",
      "WARNING: Maximum number of iterations 32 reached. The mean may be inaccurate\n"
     ]
    },
    {
     "name": "stdout",
     "output_type": "stream",
     "text": [
      "SVD 수렴 문제 발생: SVD did not converge. 계속 진행합니다.\n"
     ]
    },
    {
     "name": "stderr",
     "output_type": "stream",
     "text": [
      "[I 2024-10-12 14:48:10,094] Trial 7 finished with value: 0.6909090909090909 and parameters: {'lr': 0.000784475268211495, 'weight_decay': 0.002899032428601814}. Best is trial 7 with value: 0.6909090909090909.\n",
      "WARNING: Maximum number of iterations 32 reached. The mean may be inaccurate\n"
     ]
    },
    {
     "name": "stdout",
     "output_type": "stream",
     "text": [
      "SVD 수렴 문제 발생: SVD did not converge. 계속 진행합니다.\n"
     ]
    },
    {
     "name": "stderr",
     "output_type": "stream",
     "text": [
      "[I 2024-10-12 14:52:46,343] Trial 8 finished with value: 0.7083333333333334 and parameters: {'lr': 0.00013318726991121187, 'weight_decay': 1.3197737653909162e-06}. Best is trial 8 with value: 0.7083333333333334.\n",
      "WARNING: Maximum number of iterations 32 reached. The mean may be inaccurate\n"
     ]
    },
    {
     "name": "stdout",
     "output_type": "stream",
     "text": [
      "SVD 수렴 문제 발생: SVD did not converge. 계속 진행합니다.\n"
     ]
    },
    {
     "name": "stderr",
     "output_type": "stream",
     "text": [
      "[I 2024-10-12 14:57:22,977] Trial 9 finished with value: 0.7396825396825396 and parameters: {'lr': 0.00010032043634024532, 'weight_decay': 2.8008073238716307e-05}. Best is trial 9 with value: 0.7396825396825396.\n",
      "WARNING: Maximum number of iterations 32 reached. The mean may be inaccurate\n",
      "[I 2024-10-12 15:02:00,879] Trial 10 finished with value: 0.7348484848484849 and parameters: {'lr': 1.023605841544089e-06, 'weight_decay': 1.594634286037614e-05}. Best is trial 9 with value: 0.7396825396825396.\n"
     ]
    },
    {
     "name": "stdout",
     "output_type": "stream",
     "text": [
      "SVD 수렴 문제 발생: SVD did not converge. 계속 진행합니다.\n"
     ]
    },
    {
     "name": "stderr",
     "output_type": "stream",
     "text": [
      "WARNING: Maximum number of iterations 32 reached. The mean may be inaccurate\n"
     ]
    },
    {
     "name": "stdout",
     "output_type": "stream",
     "text": [
      "SVD 수렴 문제 발생: SVD did not converge. 계속 진행합니다.\n"
     ]
    },
    {
     "name": "stderr",
     "output_type": "stream",
     "text": [
      "[I 2024-10-12 15:06:35,242] Trial 11 finished with value: 0.5096774193548387 and parameters: {'lr': 1.1399960687206262e-06, 'weight_decay': 1.6057165446737886e-05}. Best is trial 9 with value: 0.7396825396825396.\n",
      "WARNING: Maximum number of iterations 32 reached. The mean may be inaccurate\n"
     ]
    },
    {
     "name": "stdout",
     "output_type": "stream",
     "text": [
      "SVD 수렴 문제 발생: SVD did not converge. 계속 진행합니다.\n"
     ]
    },
    {
     "name": "stderr",
     "output_type": "stream",
     "text": [
      "[I 2024-10-12 15:11:11,637] Trial 12 finished with value: 0.6276346604215457 and parameters: {'lr': 5.566160358140416e-06, 'weight_decay': 1.4164941595726621e-05}. Best is trial 9 with value: 0.7396825396825396.\n",
      "WARNING: Maximum number of iterations 32 reached. The mean may be inaccurate\n"
     ]
    },
    {
     "name": "stdout",
     "output_type": "stream",
     "text": [
      "SVD 수렴 문제 발생: SVD did not converge. 계속 진행합니다.\n"
     ]
    },
    {
     "name": "stderr",
     "output_type": "stream",
     "text": [
      "[I 2024-10-12 15:15:47,574] Trial 13 finished with value: 0.6825757575757576 and parameters: {'lr': 6.766915478688816e-06, 'weight_decay': 6.0819917879523834e-05}. Best is trial 9 with value: 0.7396825396825396.\n",
      "WARNING: Maximum number of iterations 32 reached. The mean may be inaccurate\n"
     ]
    },
    {
     "name": "stdout",
     "output_type": "stream",
     "text": [
      "SVD 수렴 문제 발생: SVD did not converge. 계속 진행합니다.\n"
     ]
    },
    {
     "name": "stderr",
     "output_type": "stream",
     "text": [
      "[I 2024-10-12 15:20:23,631] Trial 14 finished with value: 0.6842105263157895 and parameters: {'lr': 1.0608017008507481e-06, 'weight_decay': 4.87450165495763e-06}. Best is trial 9 with value: 0.7396825396825396.\n",
      "WARNING: Maximum number of iterations 32 reached. The mean may be inaccurate\n"
     ]
    },
    {
     "name": "stdout",
     "output_type": "stream",
     "text": [
      "SVD 수렴 문제 발생: SVD did not converge. 계속 진행합니다.\n"
     ]
    },
    {
     "name": "stderr",
     "output_type": "stream",
     "text": [
      "[I 2024-10-12 15:24:58,227] Trial 15 finished with value: 0.7056451612903225 and parameters: {'lr': 0.0008611294185054442, 'weight_decay': 0.00022589206802938692}. Best is trial 9 with value: 0.7396825396825396.\n",
      "WARNING: Maximum number of iterations 32 reached. The mean may be inaccurate\n"
     ]
    },
    {
     "name": "stdout",
     "output_type": "stream",
     "text": [
      "SVD 수렴 문제 발생: SVD did not converge. 계속 진행합니다.\n"
     ]
    },
    {
     "name": "stderr",
     "output_type": "stream",
     "text": [
      "[I 2024-10-12 15:29:34,230] Trial 16 finished with value: 0.5898078529657478 and parameters: {'lr': 2.442625639323315e-05, 'weight_decay': 3.716958461501205e-05}. Best is trial 9 with value: 0.7396825396825396.\n",
      "WARNING: Maximum number of iterations 32 reached. The mean may be inaccurate\n"
     ]
    },
    {
     "name": "stdout",
     "output_type": "stream",
     "text": [
      "SVD 수렴 문제 발생: SVD did not converge. 계속 진행합니다.\n"
     ]
    },
    {
     "name": "stderr",
     "output_type": "stream",
     "text": [
      "[I 2024-10-12 15:34:09,666] Trial 17 finished with value: 0.6377829820452771 and parameters: {'lr': 7.409082754419508e-06, 'weight_decay': 4.858716830798288e-06}. Best is trial 9 with value: 0.7396825396825396.\n",
      "WARNING: Maximum number of iterations 32 reached. The mean may be inaccurate\n"
     ]
    },
    {
     "name": "stdout",
     "output_type": "stream",
     "text": [
      "SVD 수렴 문제 발생: SVD did not converge. 계속 진행합니다.\n"
     ]
    },
    {
     "name": "stderr",
     "output_type": "stream",
     "text": [
      "[I 2024-10-12 15:38:43,648] Trial 18 finished with value: 0.6893939393939394 and parameters: {'lr': 0.0004172469638025315, 'weight_decay': 0.00020998818667232211}. Best is trial 9 with value: 0.7396825396825396.\n",
      "WARNING: Maximum number of iterations 32 reached. The mean may be inaccurate\n"
     ]
    },
    {
     "name": "stdout",
     "output_type": "stream",
     "text": [
      "SVD 수렴 문제 발생: SVD did not converge. 계속 진행합니다.\n"
     ]
    },
    {
     "name": "stderr",
     "output_type": "stream",
     "text": [
      "[I 2024-10-12 15:43:18,992] Trial 19 finished with value: 0.7103905674281504 and parameters: {'lr': 2.0569993790272835e-05, 'weight_decay': 4.980562869268999e-06}. Best is trial 9 with value: 0.7396825396825396.\n",
      "WARNING: Maximum number of iterations 32 reached. The mean may be inaccurate\n"
     ]
    },
    {
     "name": "stdout",
     "output_type": "stream",
     "text": [
      "SVD 수렴 문제 발생: SVD did not converge. 계속 진행합니다.\n"
     ]
    },
    {
     "name": "stderr",
     "output_type": "stream",
     "text": [
      "[I 2024-10-12 15:47:53,659] Trial 20 finished with value: 0.6393939393939394 and parameters: {'lr': 3.0149337537795643e-06, 'weight_decay': 0.00845593285518516}. Best is trial 9 with value: 0.7396825396825396.\n",
      "WARNING: Maximum number of iterations 32 reached. The mean may be inaccurate\n",
      "[I 2024-10-12 15:52:29,396] Trial 21 finished with value: 0.7291666666666666 and parameters: {'lr': 2.693523940125096e-05, 'weight_decay': 4.441434750925631e-06}. Best is trial 9 with value: 0.7396825396825396.\n"
     ]
    },
    {
     "name": "stdout",
     "output_type": "stream",
     "text": [
      "SVD 수렴 문제 발생: SVD did not converge. 계속 진행합니다.\n"
     ]
    },
    {
     "name": "stderr",
     "output_type": "stream",
     "text": [
      "WARNING: Maximum number of iterations 32 reached. The mean may be inaccurate\n"
     ]
    },
    {
     "name": "stdout",
     "output_type": "stream",
     "text": [
      "SVD 수렴 문제 발생: SVD did not converge. 계속 진행합니다.\n"
     ]
    },
    {
     "name": "stderr",
     "output_type": "stream",
     "text": [
      "[I 2024-10-12 15:57:03,000] Trial 22 finished with value: 0.7306451612903226 and parameters: {'lr': 1.634210772909875e-05, 'weight_decay': 2.7130733702750576e-05}. Best is trial 9 with value: 0.7396825396825396.\n",
      "WARNING: Maximum number of iterations 32 reached. The mean may be inaccurate\n"
     ]
    },
    {
     "name": "stdout",
     "output_type": "stream",
     "text": [
      "SVD 수렴 문제 발생: SVD did not converge. 계속 진행합니다.\n"
     ]
    },
    {
     "name": "stderr",
     "output_type": "stream",
     "text": [
      "[I 2024-10-12 16:01:37,241] Trial 23 finished with value: 0.6400679117147707 and parameters: {'lr': 2.612974630526393e-06, 'weight_decay': 3.5304659923261795e-05}. Best is trial 9 with value: 0.7396825396825396.\n",
      "WARNING: Maximum number of iterations 32 reached. The mean may be inaccurate\n"
     ]
    },
    {
     "name": "stdout",
     "output_type": "stream",
     "text": [
      "SVD 수렴 문제 발생: SVD did not converge. 계속 진행합니다.\n"
     ]
    },
    {
     "name": "stderr",
     "output_type": "stream",
     "text": [
      "[I 2024-10-12 16:06:12,198] Trial 24 finished with value: 0.8045454545454546 and parameters: {'lr': 1.4656698550481804e-05, 'weight_decay': 1.0316038422539446e-05}. Best is trial 24 with value: 0.8045454545454546.\n",
      "WARNING: Maximum number of iterations 32 reached. The mean may be inaccurate\n"
     ]
    },
    {
     "name": "stdout",
     "output_type": "stream",
     "text": [
      "SVD 수렴 문제 발생: SVD did not converge. 계속 진행합니다.\n"
     ]
    },
    {
     "name": "stderr",
     "output_type": "stream",
     "text": [
      "[I 2024-10-12 16:10:48,207] Trial 25 finished with value: 0.6902927580893683 and parameters: {'lr': 4.8177026381261924e-05, 'weight_decay': 9.554202492083753e-06}. Best is trial 24 with value: 0.8045454545454546.\n",
      "WARNING: Maximum number of iterations 32 reached. The mean may be inaccurate\n"
     ]
    },
    {
     "name": "stdout",
     "output_type": "stream",
     "text": [
      "SVD 수렴 문제 발생: SVD did not converge. 계속 진행합니다.\n"
     ]
    },
    {
     "name": "stderr",
     "output_type": "stream",
     "text": [
      "[I 2024-10-12 16:15:23,597] Trial 26 finished with value: 0.6221701795472288 and parameters: {'lr': 0.0003280044214320365, 'weight_decay': 2.8510516317374994e-06}. Best is trial 24 with value: 0.8045454545454546.\n",
      "WARNING: Maximum number of iterations 32 reached. The mean may be inaccurate\n"
     ]
    },
    {
     "name": "stdout",
     "output_type": "stream",
     "text": [
      "SVD 수렴 문제 발생: SVD did not converge. 계속 진행합니다.\n"
     ]
    },
    {
     "name": "stderr",
     "output_type": "stream",
     "text": [
      "[I 2024-10-12 16:19:57,792] Trial 27 finished with value: 0.5053030303030304 and parameters: {'lr': 2.543275997038214e-06, 'weight_decay': 8.457268891757495e-06}. Best is trial 24 with value: 0.8045454545454546.\n",
      "WARNING: Maximum number of iterations 32 reached. The mean may be inaccurate\n"
     ]
    },
    {
     "name": "stdout",
     "output_type": "stream",
     "text": [
      "SVD 수렴 문제 발생: SVD did not converge. 계속 진행합니다.\n"
     ]
    },
    {
     "name": "stderr",
     "output_type": "stream",
     "text": [
      "[I 2024-10-12 16:24:32,999] Trial 28 finished with value: 0.6963309914129586 and parameters: {'lr': 1.2793992101286141e-05, 'weight_decay': 0.00015060700117423554}. Best is trial 24 with value: 0.8045454545454546.\n",
      "WARNING: Maximum number of iterations 32 reached. The mean may be inaccurate\n"
     ]
    },
    {
     "name": "stdout",
     "output_type": "stream",
     "text": [
      "SVD 수렴 문제 발생: SVD did not converge. 계속 진행합니다.\n"
     ]
    },
    {
     "name": "stderr",
     "output_type": "stream",
     "text": [
      "[I 2024-10-12 16:29:05,755] Trial 29 finished with value: 0.6090909090909091 and parameters: {'lr': 0.00020739672154366376, 'weight_decay': 7.513363585940223e-05}. Best is trial 24 with value: 0.8045454545454546.\n",
      "WARNING: Maximum number of iterations 32 reached. The mean may be inaccurate\n"
     ]
    },
    {
     "name": "stdout",
     "output_type": "stream",
     "text": [
      "SVD 수렴 문제 발생: SVD did not converge. 계속 진행합니다.\n"
     ]
    },
    {
     "name": "stderr",
     "output_type": "stream",
     "text": [
      "[I 2024-10-12 16:33:40,647] Trial 30 finished with value: 0.6705698672911787 and parameters: {'lr': 4.4278635094899446e-05, 'weight_decay': 5.6466769631736676e-05}. Best is trial 24 with value: 0.8045454545454546.\n",
      "WARNING: Maximum number of iterations 32 reached. The mean may be inaccurate\n"
     ]
    },
    {
     "name": "stdout",
     "output_type": "stream",
     "text": [
      "SVD 수렴 문제 발생: SVD did not converge. 계속 진행합니다.\n"
     ]
    },
    {
     "name": "stderr",
     "output_type": "stream",
     "text": [
      "[I 2024-10-12 16:38:14,837] Trial 31 finished with value: 0.7096774193548387 and parameters: {'lr': 8.568699548161523e-06, 'weight_decay': 2.7538891050047538e-05}. Best is trial 24 with value: 0.8045454545454546.\n",
      "WARNING: Maximum number of iterations 32 reached. The mean may be inaccurate\n"
     ]
    },
    {
     "name": "stdout",
     "output_type": "stream",
     "text": [
      "SVD 수렴 문제 발생: SVD did not converge. 계속 진행합니다.\n"
     ]
    },
    {
     "name": "stderr",
     "output_type": "stream",
     "text": [
      "[I 2024-10-12 16:42:49,384] Trial 32 finished with value: 0.6143939393939394 and parameters: {'lr': 3.976700176292865e-06, 'weight_decay': 2.4936216076377737e-05}. Best is trial 24 with value: 0.8045454545454546.\n",
      "WARNING: Maximum number of iterations 32 reached. The mean may be inaccurate\n"
     ]
    },
    {
     "name": "stdout",
     "output_type": "stream",
     "text": [
      "SVD 수렴 문제 발생: SVD did not converge. 계속 진행합니다.\n"
     ]
    },
    {
     "name": "stderr",
     "output_type": "stream",
     "text": [
      "[I 2024-10-12 16:47:23,376] Trial 33 finished with value: 0.6548387096774194 and parameters: {'lr': 1.3254365616634577e-05, 'weight_decay': 0.00010356267934644427}. Best is trial 24 with value: 0.8045454545454546.\n",
      "WARNING: Maximum number of iterations 32 reached. The mean may be inaccurate\n"
     ]
    },
    {
     "name": "stdout",
     "output_type": "stream",
     "text": [
      "SVD 수렴 문제 발생: SVD did not converge. 계속 진행합니다.\n"
     ]
    },
    {
     "name": "stderr",
     "output_type": "stream",
     "text": [
      "[I 2024-10-12 16:51:57,723] Trial 34 finished with value: 0.6229508196721312 and parameters: {'lr': 9.733486776054718e-05, 'weight_decay': 9.674014209623245e-06}. Best is trial 24 with value: 0.8045454545454546.\n",
      "WARNING: Maximum number of iterations 32 reached. The mean may be inaccurate\n"
     ]
    },
    {
     "name": "stdout",
     "output_type": "stream",
     "text": [
      "SVD 수렴 문제 발생: SVD did not converge. 계속 진행합니다.\n"
     ]
    },
    {
     "name": "stderr",
     "output_type": "stream",
     "text": [
      "[I 2024-10-12 16:56:32,121] Trial 35 finished with value: 0.5628415300546448 and parameters: {'lr': 1.6883835621047294e-06, 'weight_decay': 2.102347611201615e-05}. Best is trial 24 with value: 0.8045454545454546.\n",
      "WARNING: Maximum number of iterations 32 reached. The mean may be inaccurate\n"
     ]
    },
    {
     "name": "stdout",
     "output_type": "stream",
     "text": [
      "SVD 수렴 문제 발생: SVD did not converge. 계속 진행합니다.\n"
     ]
    },
    {
     "name": "stderr",
     "output_type": "stream",
     "text": [
      "[I 2024-10-12 17:01:07,124] Trial 36 finished with value: 0.686182669789227 and parameters: {'lr': 1.3991485719903468e-05, 'weight_decay': 4.54462837278668e-05}. Best is trial 24 with value: 0.8045454545454546.\n",
      "WARNING: Maximum number of iterations 32 reached. The mean may be inaccurate\n"
     ]
    },
    {
     "name": "stdout",
     "output_type": "stream",
     "text": [
      "SVD 수렴 문제 발생: SVD did not converge. 계속 진행합니다.\n"
     ]
    },
    {
     "name": "stderr",
     "output_type": "stream",
     "text": [
      "[I 2024-10-12 17:05:39,083] Trial 37 finished with value: 0.7895161290322581 and parameters: {'lr': 0.0019749523197744377, 'weight_decay': 3.003474223337163e-06}. Best is trial 24 with value: 0.8045454545454546.\n",
      "WARNING: Maximum number of iterations 32 reached. The mean may be inaccurate\n"
     ]
    },
    {
     "name": "stdout",
     "output_type": "stream",
     "text": [
      "SVD 수렴 문제 발생: SVD did not converge. 계속 진행합니다.\n"
     ]
    },
    {
     "name": "stderr",
     "output_type": "stream",
     "text": [
      "[I 2024-10-12 17:10:11,039] Trial 38 finished with value: 0.6690085870413739 and parameters: {'lr': 0.002772754374857571, 'weight_decay': 2.4092114765734014e-06}. Best is trial 24 with value: 0.8045454545454546.\n",
      "WARNING: Maximum number of iterations 32 reached. The mean may be inaccurate\n"
     ]
    },
    {
     "name": "stdout",
     "output_type": "stream",
     "text": [
      "SVD 수렴 문제 발생: SVD did not converge. 계속 진행합니다.\n"
     ]
    },
    {
     "name": "stderr",
     "output_type": "stream",
     "text": [
      "[I 2024-10-12 17:14:42,226] Trial 39 finished with value: 0.5462121212121213 and parameters: {'lr': 0.005482588068421882, 'weight_decay': 1.0040092306847561e-06}. Best is trial 24 with value: 0.8045454545454546.\n",
      "WARNING: Maximum number of iterations 32 reached. The mean may be inaccurate\n"
     ]
    },
    {
     "name": "stdout",
     "output_type": "stream",
     "text": [
      "SVD 수렴 문제 발생: SVD did not converge. 계속 진행합니다.\n"
     ]
    },
    {
     "name": "stderr",
     "output_type": "stream",
     "text": [
      "[I 2024-10-12 17:19:16,262] Trial 40 finished with value: 0.5667447306791569 and parameters: {'lr': 0.0013828601502886685, 'weight_decay': 2.3594835899482637e-06}. Best is trial 24 with value: 0.8045454545454546.\n",
      "WARNING: Maximum number of iterations 32 reached. The mean may be inaccurate\n"
     ]
    },
    {
     "name": "stdout",
     "output_type": "stream",
     "text": [
      "SVD 수렴 문제 발생: SVD did not converge. 계속 진행합니다.\n"
     ]
    },
    {
     "name": "stderr",
     "output_type": "stream",
     "text": [
      "[I 2024-10-12 17:23:50,869] Trial 41 finished with value: 0.597623089983022 and parameters: {'lr': 6.242605940590339e-05, 'weight_decay': 1.3878166485007827e-05}. Best is trial 24 with value: 0.8045454545454546.\n",
      "WARNING: Maximum number of iterations 32 reached. The mean may be inaccurate\n"
     ]
    },
    {
     "name": "stdout",
     "output_type": "stream",
     "text": [
      "SVD 수렴 문제 발생: SVD did not converge. 계속 진행합니다.\n"
     ]
    },
    {
     "name": "stderr",
     "output_type": "stream",
     "text": [
      "[I 2024-10-12 17:28:25,551] Trial 42 finished with value: 0.6681818181818182 and parameters: {'lr': 0.0002599734586937274, 'weight_decay': 7.244694213047041e-06}. Best is trial 24 with value: 0.8045454545454546.\n",
      "WARNING: Maximum number of iterations 32 reached. The mean may be inaccurate\n"
     ]
    },
    {
     "name": "stdout",
     "output_type": "stream",
     "text": [
      "SVD 수렴 문제 발생: SVD did not converge. 계속 진행합니다.\n"
     ]
    },
    {
     "name": "stderr",
     "output_type": "stream",
     "text": [
      "[I 2024-10-12 17:32:59,726] Trial 43 finished with value: 0.6079587324981577 and parameters: {'lr': 0.0005394465469224215, 'weight_decay': 1.4260557796908007e-05}. Best is trial 24 with value: 0.8045454545454546.\n",
      "WARNING: Maximum number of iterations 32 reached. The mean may be inaccurate\n"
     ]
    },
    {
     "name": "stdout",
     "output_type": "stream",
     "text": [
      "SVD 수렴 문제 발생: SVD did not converge. 계속 진행합니다.\n"
     ]
    },
    {
     "name": "stderr",
     "output_type": "stream",
     "text": [
      "[I 2024-10-12 17:37:31,813] Trial 44 finished with value: 0.6620967741935484 and parameters: {'lr': 0.00201502258215178, 'weight_decay': 2.1699420406597562e-05}. Best is trial 24 with value: 0.8045454545454546.\n",
      "WARNING: Maximum number of iterations 32 reached. The mean may be inaccurate\n"
     ]
    },
    {
     "name": "stdout",
     "output_type": "stream",
     "text": [
      "SVD 수렴 문제 발생: SVD did not converge. 계속 진행합니다.\n"
     ]
    },
    {
     "name": "stderr",
     "output_type": "stream",
     "text": [
      "[I 2024-10-12 17:42:06,910] Trial 45 finished with value: 0.6140215716486903 and parameters: {'lr': 0.00010365329189717165, 'weight_decay': 0.00010527278394314848}. Best is trial 24 with value: 0.8045454545454546.\n",
      "WARNING: Maximum number of iterations 32 reached. The mean may be inaccurate\n"
     ]
    },
    {
     "name": "stdout",
     "output_type": "stream",
     "text": [
      "SVD 수렴 문제 발생: SVD did not converge. 계속 진행합니다.\n"
     ]
    },
    {
     "name": "stderr",
     "output_type": "stream",
     "text": [
      "[I 2024-10-12 17:46:37,530] Trial 46 finished with value: 0.5286458333333334 and parameters: {'lr': 0.004698335249434824, 'weight_decay': 0.0004942419491510312}. Best is trial 24 with value: 0.8045454545454546.\n",
      "WARNING: Maximum number of iterations 32 reached. The mean may be inaccurate\n",
      "[I 2024-10-12 17:51:14,042] Trial 47 finished with value: 0.60967993754879 and parameters: {'lr': 4.788097415630343e-06, 'weight_decay': 3.5347855132702347e-06}. Best is trial 24 with value: 0.8045454545454546.\n"
     ]
    },
    {
     "name": "stdout",
     "output_type": "stream",
     "text": [
      "SVD 수렴 문제 발생: SVD did not converge. 계속 진행합니다.\n"
     ]
    },
    {
     "name": "stderr",
     "output_type": "stream",
     "text": [
      "WARNING: Maximum number of iterations 32 reached. The mean may be inaccurate\n"
     ]
    },
    {
     "name": "stdout",
     "output_type": "stream",
     "text": [
      "SVD 수렴 문제 발생: SVD did not converge. 계속 진행합니다.\n"
     ]
    },
    {
     "name": "stderr",
     "output_type": "stream",
     "text": [
      "[I 2024-10-12 17:55:48,635] Trial 48 finished with value: 0.7287878787878789 and parameters: {'lr': 0.00014408977988533797, 'weight_decay': 1.7565885334578245e-06}. Best is trial 24 with value: 0.8045454545454546.\n",
      "WARNING: Maximum number of iterations 32 reached. The mean may be inaccurate\n"
     ]
    },
    {
     "name": "stdout",
     "output_type": "stream",
     "text": [
      "SVD 수렴 문제 발생: SVD did not converge. 계속 진행합니다.\n"
     ]
    },
    {
     "name": "stderr",
     "output_type": "stream",
     "text": [
      "[I 2024-10-12 18:00:23,938] Trial 49 finished with value: 0.7142857142857142 and parameters: {'lr': 3.761610553101767e-05, 'weight_decay': 6.8515654204793056e-06}. Best is trial 24 with value: 0.8045454545454546.\n",
      "WARNING: Maximum number of iterations 32 reached. The mean may be inaccurate\n"
     ]
    },
    {
     "name": "stdout",
     "output_type": "stream",
     "text": [
      "SVD 수렴 문제 발생: SVD did not converge. 계속 진행합니다.\n"
     ]
    },
    {
     "name": "stderr",
     "output_type": "stream",
     "text": [
      "[I 2024-10-12 18:04:59,134] Trial 50 finished with value: 0.6753968253968254 and parameters: {'lr': 1.535098759556698e-06, 'weight_decay': 3.36640154347228e-05}. Best is trial 24 with value: 0.8045454545454546.\n",
      "WARNING: Maximum number of iterations 32 reached. The mean may be inaccurate\n"
     ]
    },
    {
     "name": "stdout",
     "output_type": "stream",
     "text": [
      "SVD 수렴 문제 발생: SVD did not converge. 계속 진행합니다.\n"
     ]
    },
    {
     "name": "stderr",
     "output_type": "stream",
     "text": [
      "[I 2024-10-12 18:09:33,732] Trial 51 finished with value: 0.7083333333333333 and parameters: {'lr': 2.99698735748145e-05, 'weight_decay': 3.6671221798076494e-06}. Best is trial 24 with value: 0.8045454545454546.\n",
      "WARNING: Maximum number of iterations 32 reached. The mean may be inaccurate\n"
     ]
    },
    {
     "name": "stdout",
     "output_type": "stream",
     "text": [
      "SVD 수렴 문제 발생: SVD did not converge. 계속 진행합니다.\n"
     ]
    },
    {
     "name": "stderr",
     "output_type": "stream",
     "text": [
      "[I 2024-10-12 18:14:07,581] Trial 52 finished with value: 0.6128024980483997 and parameters: {'lr': 2.033067311269612e-05, 'weight_decay': 1.215931478071291e-05}. Best is trial 24 with value: 0.8045454545454546.\n",
      "WARNING: Maximum number of iterations 32 reached. The mean may be inaccurate\n"
     ]
    },
    {
     "name": "stdout",
     "output_type": "stream",
     "text": [
      "SVD 수렴 문제 발생: SVD did not converge. 계속 진행합니다.\n"
     ]
    },
    {
     "name": "stderr",
     "output_type": "stream",
     "text": [
      "[I 2024-10-12 18:18:40,830] Trial 53 finished with value: 0.6986729117876659 and parameters: {'lr': 9.690103486403271e-06, 'weight_decay': 5.010927675210817e-06}. Best is trial 24 with value: 0.8045454545454546.\n",
      "WARNING: Maximum number of iterations 32 reached. The mean may be inaccurate\n"
     ]
    },
    {
     "name": "stdout",
     "output_type": "stream",
     "text": [
      "SVD 수렴 문제 발생: SVD did not converge. 계속 진행합니다.\n"
     ]
    },
    {
     "name": "stderr",
     "output_type": "stream",
     "text": [
      "[I 2024-10-12 18:23:13,883] Trial 54 finished with value: 0.6838709677419355 and parameters: {'lr': 6.894672806307531e-05, 'weight_decay': 1.85136150733928e-05}. Best is trial 24 with value: 0.8045454545454546.\n",
      "WARNING: Maximum number of iterations 32 reached. The mean may be inaccurate\n"
     ]
    },
    {
     "name": "stdout",
     "output_type": "stream",
     "text": [
      "SVD 수렴 문제 발생: SVD did not converge. 계속 진행합니다.\n"
     ]
    },
    {
     "name": "stderr",
     "output_type": "stream",
     "text": [
      "[I 2024-10-12 18:27:47,107] Trial 55 finished with value: 0.5893939393939394 and parameters: {'lr': 1.7813382123652338e-05, 'weight_decay': 1.0569077843854541e-05}. Best is trial 24 with value: 0.8045454545454546.\n",
      "WARNING: Maximum number of iterations 32 reached. The mean may be inaccurate\n"
     ]
    },
    {
     "name": "stdout",
     "output_type": "stream",
     "text": [
      "SVD 수렴 문제 발생: SVD did not converge. 계속 진행합니다.\n"
     ]
    },
    {
     "name": "stderr",
     "output_type": "stream",
     "text": [
      "[I 2024-10-12 18:32:19,090] Trial 56 finished with value: 0.633879781420765 and parameters: {'lr': 3.45823059276949e-05, 'weight_decay': 5.884336530390901e-06}. Best is trial 24 with value: 0.8045454545454546.\n",
      "WARNING: Maximum number of iterations 32 reached. The mean may be inaccurate\n"
     ]
    },
    {
     "name": "stdout",
     "output_type": "stream",
     "text": [
      "SVD 수렴 문제 발생: SVD did not converge. 계속 진행합니다.\n"
     ]
    },
    {
     "name": "stderr",
     "output_type": "stream",
     "text": [
      "[I 2024-10-12 18:36:49,685] Trial 57 finished with value: 0.6648690292758089 and parameters: {'lr': 0.0006941285341863262, 'weight_decay': 3.590881914647173e-06}. Best is trial 24 with value: 0.8045454545454546.\n",
      "WARNING: Maximum number of iterations 32 reached. The mean may be inaccurate\n"
     ]
    },
    {
     "name": "stdout",
     "output_type": "stream",
     "text": [
      "SVD 수렴 문제 발생: SVD did not converge. 계속 진행합니다.\n"
     ]
    },
    {
     "name": "stderr",
     "output_type": "stream",
     "text": [
      "[I 2024-10-12 18:41:19,969] Trial 58 finished with value: 0.6862903225806452 and parameters: {'lr': 0.0012932284056952437, 'weight_decay': 1.8295052075816511e-06}. Best is trial 24 with value: 0.8045454545454546.\n",
      "WARNING: Maximum number of iterations 32 reached. The mean may be inaccurate\n"
     ]
    },
    {
     "name": "stdout",
     "output_type": "stream",
     "text": [
      "SVD 수렴 문제 발생: SVD did not converge. 계속 진행합니다.\n"
     ]
    },
    {
     "name": "stderr",
     "output_type": "stream",
     "text": [
      "[I 2024-10-12 18:45:46,603] Trial 59 finished with value: 0.492583918813427 and parameters: {'lr': 0.007459162128707053, 'weight_decay': 5.929449996171419e-05}. Best is trial 24 with value: 0.8045454545454546.\n",
      "WARNING: Maximum number of iterations 32 reached. The mean may be inaccurate\n"
     ]
    },
    {
     "name": "stdout",
     "output_type": "stream",
     "text": [
      "SVD 수렴 문제 발생: SVD did not converge. 계속 진행합니다.\n"
     ]
    },
    {
     "name": "stderr",
     "output_type": "stream",
     "text": [
      "[I 2024-10-12 18:50:18,966] Trial 60 finished with value: 0.6266129032258064 and parameters: {'lr': 5.949338213211637e-06, 'weight_decay': 3.066902860049487e-05}. Best is trial 24 with value: 0.8045454545454546.\n",
      "WARNING: Maximum number of iterations 32 reached. The mean may be inaccurate\n"
     ]
    },
    {
     "name": "stdout",
     "output_type": "stream",
     "text": [
      "SVD 수렴 문제 발생: SVD did not converge. 계속 진행합니다.\n"
     ]
    },
    {
     "name": "stderr",
     "output_type": "stream",
     "text": [
      "[I 2024-10-12 18:54:51,170] Trial 61 finished with value: 0.5998329156223894 and parameters: {'lr': 0.00013709889555585996, 'weight_decay': 1.5692863222492882e-06}. Best is trial 24 with value: 0.8045454545454546.\n",
      "WARNING: Maximum number of iterations 32 reached. The mean may be inaccurate\n",
      "[I 2024-10-12 18:59:25,028] Trial 62 finished with value: 0.6113636363636363 and parameters: {'lr': 0.00021505020875738475, 'weight_decay': 1.1578480656812251e-06}. Best is trial 24 with value: 0.8045454545454546.\n"
     ]
    },
    {
     "name": "stdout",
     "output_type": "stream",
     "text": [
      "SVD 수렴 문제 발생: SVD did not converge. 계속 진행합니다.\n"
     ]
    },
    {
     "name": "stderr",
     "output_type": "stream",
     "text": [
      "WARNING: Maximum number of iterations 32 reached. The mean may be inaccurate\n",
      "[I 2024-10-12 19:03:57,455] Trial 63 finished with value: 0.6568181818181819 and parameters: {'lr': 0.0001353530617059612, 'weight_decay': 3.125179623944602e-06}. Best is trial 24 with value: 0.8045454545454546.\n"
     ]
    },
    {
     "name": "stdout",
     "output_type": "stream",
     "text": [
      "SVD 수렴 문제 발생: SVD did not converge. 계속 진행합니다.\n"
     ]
    },
    {
     "name": "stderr",
     "output_type": "stream",
     "text": [
      "WARNING: Maximum number of iterations 32 reached. The mean may be inaccurate\n"
     ]
    },
    {
     "name": "stdout",
     "output_type": "stream",
     "text": [
      "SVD 수렴 문제 발생: SVD did not converge. 계속 진행합니다.\n"
     ]
    },
    {
     "name": "stderr",
     "output_type": "stream",
     "text": [
      "[I 2024-10-12 19:08:29,814] Trial 64 finished with value: 0.6621212121212121 and parameters: {'lr': 2.3937195711713184e-05, 'weight_decay': 1.9994849531252063e-06}. Best is trial 24 with value: 0.8045454545454546.\n",
      "WARNING: Maximum number of iterations 32 reached. The mean may be inaccurate\n"
     ]
    },
    {
     "name": "stdout",
     "output_type": "stream",
     "text": [
      "SVD 수렴 문제 발생: SVD did not converge. 계속 진행합니다.\n"
     ]
    },
    {
     "name": "stderr",
     "output_type": "stream",
     "text": [
      "[I 2024-10-12 19:13:01,943] Trial 65 finished with value: 0.7759764185703758 and parameters: {'lr': 4.7629070538239537e-05, 'weight_decay': 4.407420918299444e-06}. Best is trial 24 with value: 0.8045454545454546.\n",
      "WARNING: Maximum number of iterations 32 reached. The mean may be inaccurate\n"
     ]
    },
    {
     "name": "stdout",
     "output_type": "stream",
     "text": [
      "SVD 수렴 문제 발생: SVD did not converge. 계속 진행합니다.\n"
     ]
    },
    {
     "name": "stderr",
     "output_type": "stream",
     "text": [
      "[I 2024-10-12 19:17:34,198] Trial 66 finished with value: 0.6047765793528505 and parameters: {'lr': 4.8951285805847846e-05, 'weight_decay': 7.744272235775988e-06}. Best is trial 24 with value: 0.8045454545454546.\n",
      "WARNING: Maximum number of iterations 32 reached. The mean may be inaccurate\n"
     ]
    },
    {
     "name": "stdout",
     "output_type": "stream",
     "text": [
      "SVD 수렴 문제 발생: SVD did not converge. 계속 진행합니다.\n"
     ]
    },
    {
     "name": "stderr",
     "output_type": "stream",
     "text": [
      "[I 2024-10-12 19:22:06,057] Trial 67 finished with value: 0.6950710108604845 and parameters: {'lr': 1.0110917982411728e-05, 'weight_decay': 4.459936215016688e-05}. Best is trial 24 with value: 0.8045454545454546.\n",
      "WARNING: Maximum number of iterations 32 reached. The mean may be inaccurate\n"
     ]
    },
    {
     "name": "stdout",
     "output_type": "stream",
     "text": [
      "SVD 수렴 문제 발생: SVD did not converge. 계속 진행합니다.\n"
     ]
    },
    {
     "name": "stderr",
     "output_type": "stream",
     "text": [
      "[I 2024-10-12 19:26:38,451] Trial 68 finished with value: 0.7436507936507937 and parameters: {'lr': 1.6245554811899884e-05, 'weight_decay': 4.399929537674662e-06}. Best is trial 24 with value: 0.8045454545454546.\n",
      "WARNING: Maximum number of iterations 32 reached. The mean may be inaccurate\n"
     ]
    },
    {
     "name": "stdout",
     "output_type": "stream",
     "text": [
      "SVD 수렴 문제 발생: SVD did not converge. 계속 진행합니다.\n"
     ]
    },
    {
     "name": "stderr",
     "output_type": "stream",
     "text": [
      "[I 2024-10-12 19:31:10,718] Trial 69 finished with value: 0.6848484848484848 and parameters: {'lr': 3.699105454924607e-06, 'weight_decay': 6.261454037898086e-06}. Best is trial 24 with value: 0.8045454545454546.\n",
      "WARNING: Maximum number of iterations 32 reached. The mean may be inaccurate\n"
     ]
    },
    {
     "name": "stdout",
     "output_type": "stream",
     "text": [
      "SVD 수렴 문제 발생: SVD did not converge. 계속 진행합니다.\n"
     ]
    },
    {
     "name": "stderr",
     "output_type": "stream",
     "text": [
      "[I 2024-10-12 19:35:42,397] Trial 70 finished with value: 0.614516129032258 and parameters: {'lr': 1.5989352016788676e-05, 'weight_decay': 1.0558354589196292e-05}. Best is trial 24 with value: 0.8045454545454546.\n",
      "WARNING: Maximum number of iterations 32 reached. The mean may be inaccurate\n"
     ]
    },
    {
     "name": "stdout",
     "output_type": "stream",
     "text": [
      "SVD 수렴 문제 발생: SVD did not converge. 계속 진행합니다.\n"
     ]
    },
    {
     "name": "stderr",
     "output_type": "stream",
     "text": [
      "[I 2024-10-12 19:40:14,805] Trial 71 finished with value: 0.5606060606060607 and parameters: {'lr': 2.8705852707331316e-05, 'weight_decay': 4.415083425599955e-06}. Best is trial 24 with value: 0.8045454545454546.\n",
      "WARNING: Maximum number of iterations 32 reached. The mean may be inaccurate\n"
     ]
    },
    {
     "name": "stdout",
     "output_type": "stream",
     "text": [
      "SVD 수렴 문제 발생: SVD did not converge. 계속 진행합니다.\n"
     ]
    },
    {
     "name": "stderr",
     "output_type": "stream",
     "text": [
      "[I 2024-10-12 19:44:46,910] Trial 72 finished with value: 0.6681818181818182 and parameters: {'lr': 9.067968973000369e-05, 'weight_decay': 1.7065244624446937e-05}. Best is trial 24 with value: 0.8045454545454546.\n",
      "WARNING: Maximum number of iterations 32 reached. The mean may be inaccurate\n"
     ]
    },
    {
     "name": "stdout",
     "output_type": "stream",
     "text": [
      "SVD 수렴 문제 발생: SVD did not converge. 계속 진행합니다.\n"
     ]
    },
    {
     "name": "stderr",
     "output_type": "stream",
     "text": [
      "[I 2024-10-12 19:49:17,951] Trial 73 finished with value: 0.5838709677419355 and parameters: {'lr': 1.1271671966326426e-05, 'weight_decay': 2.544300950072961e-06}. Best is trial 24 with value: 0.8045454545454546.\n",
      "WARNING: Maximum number of iterations 32 reached. The mean may be inaccurate\n"
     ]
    },
    {
     "name": "stdout",
     "output_type": "stream",
     "text": [
      "SVD 수렴 문제 발생: SVD did not converge. 계속 진행합니다.\n"
     ]
    },
    {
     "name": "stderr",
     "output_type": "stream",
     "text": [
      "[I 2024-10-12 19:53:49,019] Trial 74 finished with value: 0.5745901639344262 and parameters: {'lr': 7.3341134250227535e-06, 'weight_decay': 4.45557923835853e-06}. Best is trial 24 with value: 0.8045454545454546.\n",
      "WARNING: Maximum number of iterations 32 reached. The mean may be inaccurate\n"
     ]
    },
    {
     "name": "stdout",
     "output_type": "stream",
     "text": [
      "SVD 수렴 문제 발생: SVD did not converge. 계속 진행합니다.\n"
     ]
    },
    {
     "name": "stderr",
     "output_type": "stream",
     "text": [
      "[I 2024-10-12 19:58:19,810] Trial 75 finished with value: 0.6596409055425448 and parameters: {'lr': 5.331519686420294e-05, 'weight_decay': 8.635778534428688e-06}. Best is trial 24 with value: 0.8045454545454546.\n",
      "WARNING: Maximum number of iterations 32 reached. The mean may be inaccurate\n"
     ]
    },
    {
     "name": "stdout",
     "output_type": "stream",
     "text": [
      "SVD 수렴 문제 발생: SVD did not converge. 계속 진행합니다.\n"
     ]
    },
    {
     "name": "stderr",
     "output_type": "stream",
     "text": [
      "[I 2024-10-12 20:02:49,928] Trial 76 finished with value: 0.6742424242424243 and parameters: {'lr': 2.284567578211034e-05, 'weight_decay': 2.391161511602152e-05}. Best is trial 24 with value: 0.8045454545454546.\n",
      "WARNING: Maximum number of iterations 32 reached. The mean may be inaccurate\n"
     ]
    },
    {
     "name": "stdout",
     "output_type": "stream",
     "text": [
      "SVD 수렴 문제 발생: SVD did not converge. 계속 진행합니다.\n"
     ]
    },
    {
     "name": "stderr",
     "output_type": "stream",
     "text": [
      "[I 2024-10-12 20:07:19,952] Trial 77 finished with value: 0.6338797814207651 and parameters: {'lr': 6.78974801804918e-05, 'weight_decay': 1.3077952565017508e-05}. Best is trial 24 with value: 0.8045454545454546.\n",
      "WARNING: Maximum number of iterations 32 reached. The mean may be inaccurate\n"
     ]
    },
    {
     "name": "stdout",
     "output_type": "stream",
     "text": [
      "SVD 수렴 문제 발생: SVD did not converge. 계속 진행합니다.\n"
     ]
    },
    {
     "name": "stderr",
     "output_type": "stream",
     "text": [
      "[I 2024-10-12 20:11:50,068] Trial 78 finished with value: 0.6583333333333332 and parameters: {'lr': 1.4510931475845143e-05, 'weight_decay': 7.855701065652299e-05}. Best is trial 24 with value: 0.8045454545454546.\n",
      "WARNING: Maximum number of iterations 32 reached. The mean may be inaccurate\n"
     ]
    },
    {
     "name": "stdout",
     "output_type": "stream",
     "text": [
      "SVD 수렴 문제 발생: SVD did not converge. 계속 진행합니다.\n"
     ]
    },
    {
     "name": "stderr",
     "output_type": "stream",
     "text": [
      "[I 2024-10-12 20:16:19,148] Trial 79 finished with value: 0.6575757575757576 and parameters: {'lr': 4.0098947890838996e-05, 'weight_decay': 6.207969843512221e-06}. Best is trial 24 with value: 0.8045454545454546.\n",
      "WARNING: Maximum number of iterations 32 reached. The mean may be inaccurate\n"
     ]
    },
    {
     "name": "stdout",
     "output_type": "stream",
     "text": [
      "SVD 수렴 문제 발생: SVD did not converge. 계속 진행합니다.\n"
     ]
    },
    {
     "name": "stderr",
     "output_type": "stream",
     "text": [
      "[I 2024-10-12 20:20:48,806] Trial 80 finished with value: 0.7467741935483871 and parameters: {'lr': 2.9714442568731724e-05, 'weight_decay': 0.005963402771979548}. Best is trial 24 with value: 0.8045454545454546.\n",
      "WARNING: Maximum number of iterations 32 reached. The mean may be inaccurate\n"
     ]
    },
    {
     "name": "stdout",
     "output_type": "stream",
     "text": [
      "SVD 수렴 문제 발생: SVD did not converge. 계속 진행합니다.\n"
     ]
    },
    {
     "name": "stderr",
     "output_type": "stream",
     "text": [
      "[I 2024-10-12 20:25:18,710] Trial 81 finished with value: 0.6346604215456675 and parameters: {'lr': 2.9295248230171705e-05, 'weight_decay': 0.0007289771576483202}. Best is trial 24 with value: 0.8045454545454546.\n",
      "WARNING: Maximum number of iterations 32 reached. The mean may be inaccurate\n",
      "[I 2024-10-12 20:29:49,223] Trial 82 finished with value: 0.675 and parameters: {'lr': 1.9821030716784353e-05, 'weight_decay': 0.007613565055825386}. Best is trial 24 with value: 0.8045454545454546.\n"
     ]
    },
    {
     "name": "stdout",
     "output_type": "stream",
     "text": [
      "SVD 수렴 문제 발생: SVD did not converge. 계속 진행합니다.\n"
     ]
    },
    {
     "name": "stderr",
     "output_type": "stream",
     "text": [
      "WARNING: Maximum number of iterations 32 reached. The mean may be inaccurate\n",
      "[I 2024-10-12 20:34:18,433] Trial 83 finished with value: 0.6181818181818183 and parameters: {'lr': 0.00034722944153646977, 'weight_decay': 0.001535300780708152}. Best is trial 24 with value: 0.8045454545454546.\n"
     ]
    },
    {
     "name": "stdout",
     "output_type": "stream",
     "text": [
      "SVD 수렴 문제 발생: SVD did not converge. 계속 진행합니다.\n"
     ]
    },
    {
     "name": "stderr",
     "output_type": "stream",
     "text": [
      "WARNING: Maximum number of iterations 32 reached. The mean may be inaccurate\n",
      "[I 2024-10-12 20:38:47,464] Trial 84 finished with value: 0.7161290322580646 and parameters: {'lr': 8.355235937099888e-06, 'weight_decay': 0.0032453723400840667}. Best is trial 24 with value: 0.8045454545454546.\n"
     ]
    },
    {
     "name": "stdout",
     "output_type": "stream",
     "text": [
      "SVD 수렴 문제 발생: SVD did not converge. 계속 진행합니다.\n"
     ]
    },
    {
     "name": "stderr",
     "output_type": "stream",
     "text": [
      "WARNING: Maximum number of iterations 32 reached. The mean may be inaccurate\n"
     ]
    },
    {
     "name": "stdout",
     "output_type": "stream",
     "text": [
      "SVD 수렴 문제 발생: SVD did not converge. 계속 진행합니다.\n"
     ]
    },
    {
     "name": "stderr",
     "output_type": "stream",
     "text": [
      "[I 2024-10-12 20:43:16,462] Trial 85 finished with value: 0.493734335839599 and parameters: {'lr': 7.870199297831755e-05, 'weight_decay': 1.6762932665621295e-05}. Best is trial 24 with value: 0.8045454545454546.\n",
      "WARNING: Maximum number of iterations 32 reached. The mean may be inaccurate\n"
     ]
    },
    {
     "name": "stdout",
     "output_type": "stream",
     "text": [
      "SVD 수렴 문제 발생: SVD did not converge. 계속 진행합니다.\n"
     ]
    },
    {
     "name": "stderr",
     "output_type": "stream",
     "text": [
      "[I 2024-10-12 20:47:46,424] Trial 86 finished with value: 0.6354410616705699 and parameters: {'lr': 1.7313502570616722e-06, 'weight_decay': 4.410810894126197e-05}. Best is trial 24 with value: 0.8045454545454546.\n",
      "WARNING: Maximum number of iterations 32 reached. The mean may be inaccurate\n",
      "[I 2024-10-12 20:52:17,954] Trial 87 finished with value: 0.6151444184231069 and parameters: {'lr': 3.242964313627496e-05, 'weight_decay': 3.995078637412289e-06}. Best is trial 24 with value: 0.8045454545454546.\n"
     ]
    },
    {
     "name": "stdout",
     "output_type": "stream",
     "text": [
      "SVD 수렴 문제 발생: SVD did not converge. 계속 진행합니다.\n"
     ]
    },
    {
     "name": "stderr",
     "output_type": "stream",
     "text": [
      "WARNING: Maximum number of iterations 32 reached. The mean may be inaccurate\n"
     ]
    },
    {
     "name": "stdout",
     "output_type": "stream",
     "text": [
      "SVD 수렴 문제 발생: SVD did not converge. 계속 진행합니다.\n"
     ]
    },
    {
     "name": "stderr",
     "output_type": "stream",
     "text": [
      "[I 2024-10-12 20:56:46,862] Trial 88 finished with value: 0.7113636363636364 and parameters: {'lr': 1.6390956364636878e-05, 'weight_decay': 0.0001250095188765996}. Best is trial 24 with value: 0.8045454545454546.\n",
      "WARNING: Maximum number of iterations 32 reached. The mean may be inaccurate\n"
     ]
    },
    {
     "name": "stdout",
     "output_type": "stream",
     "text": [
      "SVD 수렴 문제 발생: SVD did not converge. 계속 진행합니다.\n"
     ]
    },
    {
     "name": "stderr",
     "output_type": "stream",
     "text": [
      "[I 2024-10-12 21:01:17,126] Trial 89 finished with value: 0.6772291820191599 and parameters: {'lr': 1.1879621282633706e-05, 'weight_decay': 0.00032970502679018115}. Best is trial 24 with value: 0.8045454545454546.\n",
      "WARNING: Maximum number of iterations 32 reached. The mean may be inaccurate\n"
     ]
    },
    {
     "name": "stdout",
     "output_type": "stream",
     "text": [
      "SVD 수렴 문제 발생: SVD did not converge. 계속 진행합니다.\n"
     ]
    },
    {
     "name": "stderr",
     "output_type": "stream",
     "text": [
      "[I 2024-10-12 21:05:47,870] Trial 90 finished with value: 0.5563492063492064 and parameters: {'lr': 4.3858340685420236e-05, 'weight_decay': 3.1110453602110914e-06}. Best is trial 24 with value: 0.8045454545454546.\n",
      "WARNING: Maximum number of iterations 32 reached. The mean may be inaccurate\n",
      "[I 2024-10-12 21:10:18,943] Trial 91 finished with value: 0.6276346604215456 and parameters: {'lr': 0.00011283752464851386, 'weight_decay': 1.753649030764556e-06}. Best is trial 24 with value: 0.8045454545454546.\n"
     ]
    },
    {
     "name": "stdout",
     "output_type": "stream",
     "text": [
      "SVD 수렴 문제 발생: SVD did not converge. 계속 진행합니다.\n"
     ]
    },
    {
     "name": "stderr",
     "output_type": "stream",
     "text": [
      "WARNING: Maximum number of iterations 32 reached. The mean may be inaccurate\n"
     ]
    },
    {
     "name": "stdout",
     "output_type": "stream",
     "text": [
      "SVD 수렴 문제 발생: SVD did not converge. 계속 진행합니다.\n"
     ]
    },
    {
     "name": "stderr",
     "output_type": "stream",
     "text": [
      "[I 2024-10-12 21:14:47,313] Trial 92 finished with value: 0.5765151515151514 and parameters: {'lr': 0.0001806418550537367, 'weight_decay': 1.32716916549358e-06}. Best is trial 24 with value: 0.8045454545454546.\n",
      "WARNING: Maximum number of iterations 32 reached. The mean may be inaccurate\n"
     ]
    },
    {
     "name": "stdout",
     "output_type": "stream",
     "text": [
      "SVD 수렴 문제 발생: SVD did not converge. 계속 진행합니다.\n"
     ]
    },
    {
     "name": "stderr",
     "output_type": "stream",
     "text": [
      "[I 2024-10-12 21:19:16,402] Trial 93 finished with value: 0.6338797814207651 and parameters: {'lr': 2.6110526011017874e-05, 'weight_decay': 2.2663990940788667e-06}. Best is trial 24 with value: 0.8045454545454546.\n",
      "WARNING: Maximum number of iterations 32 reached. The mean may be inaccurate\n"
     ]
    },
    {
     "name": "stdout",
     "output_type": "stream",
     "text": [
      "SVD 수렴 문제 발생: SVD did not converge. 계속 진행합니다.\n"
     ]
    },
    {
     "name": "stderr",
     "output_type": "stream",
     "text": [
      "[I 2024-10-12 21:23:45,549] Trial 94 finished with value: 0.6970486111111112 and parameters: {'lr': 5.759305874319538e-05, 'weight_decay': 2.9576800654786135e-06}. Best is trial 24 with value: 0.8045454545454546.\n",
      "WARNING: Maximum number of iterations 32 reached. The mean may be inaccurate\n"
     ]
    },
    {
     "name": "stdout",
     "output_type": "stream",
     "text": [
      "SVD 수렴 문제 발생: SVD did not converge. 계속 진행합니다.\n"
     ]
    },
    {
     "name": "stderr",
     "output_type": "stream",
     "text": [
      "[I 2024-10-12 21:28:14,479] Trial 95 finished with value: 0.6807181889149102 and parameters: {'lr': 3.705739994216464e-05, 'weight_decay': 5.263199244630899e-06}. Best is trial 24 with value: 0.8045454545454546.\n",
      "WARNING: Maximum number of iterations 32 reached. The mean may be inaccurate\n"
     ]
    },
    {
     "name": "stdout",
     "output_type": "stream",
     "text": [
      "SVD 수렴 문제 발생: SVD did not converge. 계속 진행합니다.\n"
     ]
    },
    {
     "name": "stderr",
     "output_type": "stream",
     "text": [
      "[I 2024-10-12 21:32:39,089] Trial 96 finished with value: 0.562968515742129 and parameters: {'lr': 0.003889097123035494, 'weight_decay': 2.0089406096913774e-05}. Best is trial 24 with value: 0.8045454545454546.\n",
      "WARNING: Maximum number of iterations 32 reached. The mean may be inaccurate\n",
      "[I 2024-10-12 21:37:07,921] Trial 97 finished with value: 0.711943793911007 and parameters: {'lr': 0.0011190566575032968, 'weight_decay': 7.72361933202604e-06}. Best is trial 24 with value: 0.8045454545454546.\n"
     ]
    },
    {
     "name": "stdout",
     "output_type": "stream",
     "text": [
      "SVD 수렴 문제 발생: SVD did not converge. 계속 진행합니다.\n"
     ]
    },
    {
     "name": "stderr",
     "output_type": "stream",
     "text": [
      "WARNING: Maximum number of iterations 32 reached. The mean may be inaccurate\n"
     ]
    },
    {
     "name": "stdout",
     "output_type": "stream",
     "text": [
      "SVD 수렴 문제 발생: SVD did not converge. 계속 진행합니다.\n"
     ]
    },
    {
     "name": "stderr",
     "output_type": "stream",
     "text": [
      "[I 2024-10-12 21:41:36,126] Trial 98 finished with value: 0.7137096774193549 and parameters: {'lr': 7.727395346947811e-05, 'weight_decay': 1.097719246701452e-05}. Best is trial 24 with value: 0.8045454545454546.\n",
      "WARNING: Maximum number of iterations 32 reached. The mean may be inaccurate\n"
     ]
    },
    {
     "name": "stdout",
     "output_type": "stream",
     "text": [
      "SVD 수렴 문제 발생: SVD did not converge. 계속 진행합니다.\n"
     ]
    },
    {
     "name": "stderr",
     "output_type": "stream",
     "text": [
      "[I 2024-10-12 21:46:04,668] Trial 99 finished with value: 0.7083333333333334 and parameters: {'lr': 2.2716177621655943e-06, 'weight_decay': 2.150286244174673e-06}. Best is trial 24 with value: 0.8045454545454546.\n",
      "WARNING: Maximum number of iterations 32 reached. The mean may be inaccurate\n"
     ]
    },
    {
     "name": "stdout",
     "output_type": "stream",
     "text": [
      "SVD 수렴 문제 발생: SVD did not converge. 계속 진행합니다.\n"
     ]
    },
    {
     "name": "stderr",
     "output_type": "stream",
     "text": [
      "[I 2024-10-12 21:50:27,007] Trial 100 finished with value: 0.6120967741935484 and parameters: {'lr': 0.009548903883575802, 'weight_decay': 1.5757745918317534e-06}. Best is trial 24 with value: 0.8045454545454546.\n",
      "WARNING: Maximum number of iterations 32 reached. The mean may be inaccurate\n"
     ]
    },
    {
     "name": "stdout",
     "output_type": "stream",
     "text": [
      "SVD 수렴 문제 발생: SVD did not converge. 계속 진행합니다.\n"
     ]
    },
    {
     "name": "stderr",
     "output_type": "stream",
     "text": [
      "[I 2024-10-12 21:54:56,576] Trial 101 finished with value: 0.6325396825396825 and parameters: {'lr': 4.5883715228312805e-06, 'weight_decay': 0.005894266191458426}. Best is trial 24 with value: 0.8045454545454546.\n",
      "WARNING: Maximum number of iterations 32 reached. The mean may be inaccurate\n"
     ]
    },
    {
     "name": "stdout",
     "output_type": "stream",
     "text": [
      "SVD 수렴 문제 발생: SVD did not converge. 계속 진행합니다.\n"
     ]
    },
    {
     "name": "stderr",
     "output_type": "stream",
     "text": [
      "[I 2024-10-12 21:59:24,574] Trial 102 finished with value: 0.7298387096774193 and parameters: {'lr': 1.2599373402057192e-06, 'weight_decay': 0.004706648015207686}. Best is trial 24 with value: 0.8045454545454546.\n",
      "WARNING: Maximum number of iterations 32 reached. The mean may be inaccurate\n"
     ]
    },
    {
     "name": "stdout",
     "output_type": "stream",
     "text": [
      "SVD 수렴 문제 발생: SVD did not converge. 계속 진행합니다.\n"
     ]
    },
    {
     "name": "stderr",
     "output_type": "stream",
     "text": [
      "[I 2024-10-12 22:03:52,741] Trial 103 finished with value: 0.6590909090909091 and parameters: {'lr': 1.8280182554957558e-06, 'weight_decay': 0.0054471395233289385}. Best is trial 24 with value: 0.8045454545454546.\n",
      "WARNING: Maximum number of iterations 32 reached. The mean may be inaccurate\n"
     ]
    },
    {
     "name": "stdout",
     "output_type": "stream",
     "text": [
      "SVD 수렴 문제 발생: SVD did not converge. 계속 진행합니다.\n"
     ]
    },
    {
     "name": "stderr",
     "output_type": "stream",
     "text": [
      "[I 2024-10-12 22:08:20,216] Trial 104 finished with value: 0.7201612903225807 and parameters: {'lr': 1.2061504349086501e-06, 'weight_decay': 0.003929436703116643}. Best is trial 24 with value: 0.8045454545454546.\n",
      "WARNING: Maximum number of iterations 32 reached. The mean may be inaccurate\n"
     ]
    },
    {
     "name": "stdout",
     "output_type": "stream",
     "text": [
      "SVD 수렴 문제 발생: SVD did not converge. 계속 진행합니다.\n"
     ]
    },
    {
     "name": "stderr",
     "output_type": "stream",
     "text": [
      "[I 2024-10-12 22:12:47,651] Trial 105 finished with value: 0.6440281030444965 and parameters: {'lr': 1.3403666709706368e-06, 'weight_decay': 0.002130221388344213}. Best is trial 24 with value: 0.8045454545454546.\n",
      "WARNING: Maximum number of iterations 32 reached. The mean may be inaccurate\n"
     ]
    },
    {
     "name": "stdout",
     "output_type": "stream",
     "text": [
      "SVD 수렴 문제 발생: SVD did not converge. 계속 진행합니다.\n"
     ]
    },
    {
     "name": "stderr",
     "output_type": "stream",
     "text": [
      "[I 2024-10-12 22:17:14,966] Trial 106 finished with value: 0.6475806451612903 and parameters: {'lr': 0.0004932033564070184, 'weight_decay': 0.009531706364128764}. Best is trial 24 with value: 0.8045454545454546.\n",
      "WARNING: Maximum number of iterations 32 reached. The mean may be inaccurate\n"
     ]
    },
    {
     "name": "stdout",
     "output_type": "stream",
     "text": [
      "SVD 수렴 문제 발생: SVD did not converge. 계속 진행합니다.\n"
     ]
    },
    {
     "name": "stderr",
     "output_type": "stream",
     "text": [
      "[I 2024-10-12 22:21:43,123] Trial 107 finished with value: 0.6145910095799557 and parameters: {'lr': 1.815543150945178e-05, 'weight_decay': 2.7002285109029203e-05}. Best is trial 24 with value: 0.8045454545454546.\n",
      "WARNING: Maximum number of iterations 32 reached. The mean may be inaccurate\n"
     ]
    },
    {
     "name": "stdout",
     "output_type": "stream",
     "text": [
      "SVD 수렴 문제 발생: SVD did not converge. 계속 진행합니다.\n"
     ]
    },
    {
     "name": "stderr",
     "output_type": "stream",
     "text": [
      "[I 2024-10-12 22:26:11,771] Trial 108 finished with value: 0.6026986506746627 and parameters: {'lr': 3.1646578062806313e-06, 'weight_decay': 9.097219864871753e-06}. Best is trial 24 with value: 0.8045454545454546.\n",
      "WARNING: Maximum number of iterations 32 reached. The mean may be inaccurate\n",
      "[I 2024-10-12 22:30:41,634] Trial 109 finished with value: 0.7309941520467836 and parameters: {'lr': 0.00011763627814283394, 'weight_decay': 5.510216818695193e-06}. Best is trial 24 with value: 0.8045454545454546.\n"
     ]
    },
    {
     "name": "stdout",
     "output_type": "stream",
     "text": [
      "SVD 수렴 문제 발생: SVD did not converge. 계속 진행합니다.\n"
     ]
    },
    {
     "name": "stderr",
     "output_type": "stream",
     "text": [
      "WARNING: Maximum number of iterations 32 reached. The mean may be inaccurate\n"
     ]
    },
    {
     "name": "stdout",
     "output_type": "stream",
     "text": [
      "SVD 수렴 문제 발생: SVD did not converge. 계속 진행합니다.\n"
     ]
    },
    {
     "name": "stderr",
     "output_type": "stream",
     "text": [
      "[I 2024-10-12 22:35:09,184] Trial 110 finished with value: 0.7878787878787878 and parameters: {'lr': 5.967384784384591e-06, 'weight_decay': 5.448844919653132e-06}. Best is trial 24 with value: 0.8045454545454546.\n",
      "WARNING: Maximum number of iterations 32 reached. The mean may be inaccurate\n"
     ]
    },
    {
     "name": "stdout",
     "output_type": "stream",
     "text": [
      "SVD 수렴 문제 발생: SVD did not converge. 계속 진행합니다.\n"
     ]
    },
    {
     "name": "stderr",
     "output_type": "stream",
     "text": [
      "[I 2024-10-12 22:39:37,248] Trial 111 finished with value: 0.7088709677419355 and parameters: {'lr': 6.204609962676516e-06, 'weight_decay': 5.487745051183586e-06}. Best is trial 24 with value: 0.8045454545454546.\n",
      "WARNING: Maximum number of iterations 32 reached. The mean may be inaccurate\n"
     ]
    },
    {
     "name": "stdout",
     "output_type": "stream",
     "text": [
      "SVD 수렴 문제 발생: SVD did not converge. 계속 진행합니다.\n"
     ]
    },
    {
     "name": "stderr",
     "output_type": "stream",
     "text": [
      "[I 2024-10-12 22:44:06,102] Trial 112 finished with value: 0.6867167919799498 and parameters: {'lr': 2.169064781968714e-05, 'weight_decay': 6.9192032959280275e-06}. Best is trial 24 with value: 0.8045454545454546.\n",
      "WARNING: Maximum number of iterations 32 reached. The mean may be inaccurate\n"
     ]
    },
    {
     "name": "stdout",
     "output_type": "stream",
     "text": [
      "SVD 수렴 문제 발생: SVD did not converge. 계속 진행합니다.\n"
     ]
    },
    {
     "name": "stderr",
     "output_type": "stream",
     "text": [
      "[I 2024-10-12 22:48:34,108] Trial 113 finished with value: 0.6401515151515152 and parameters: {'lr': 2.385256855331523e-06, 'weight_decay': 4.203870518033423e-06}. Best is trial 24 with value: 0.8045454545454546.\n",
      "WARNING: Maximum number of iterations 32 reached. The mean may be inaccurate\n"
     ]
    },
    {
     "name": "stdout",
     "output_type": "stream",
     "text": [
      "SVD 수렴 문제 발생: SVD did not converge. 계속 진행합니다.\n"
     ]
    },
    {
     "name": "stderr",
     "output_type": "stream",
     "text": [
      "[I 2024-10-12 22:53:02,836] Trial 114 finished with value: 0.7127244340359095 and parameters: {'lr': 1.0989974267187811e-06, 'weight_decay': 1.3916222742784663e-05}. Best is trial 24 with value: 0.8045454545454546.\n",
      "WARNING: Maximum number of iterations 32 reached. The mean may be inaccurate\n"
     ]
    },
    {
     "name": "stdout",
     "output_type": "stream",
     "text": [
      "SVD 수렴 문제 발생: SVD did not converge. 계속 진행합니다.\n"
     ]
    },
    {
     "name": "stderr",
     "output_type": "stream",
     "text": [
      "[I 2024-10-12 22:57:31,125] Trial 115 finished with value: 0.6799375487900079 and parameters: {'lr': 8.959996214825566e-06, 'weight_decay': 4.649014488452363e-06}. Best is trial 24 with value: 0.8045454545454546.\n",
      "WARNING: Maximum number of iterations 32 reached. The mean may be inaccurate\n"
     ]
    },
    {
     "name": "stdout",
     "output_type": "stream",
     "text": [
      "SVD 수렴 문제 발생: SVD did not converge. 계속 진행합니다.\n"
     ]
    },
    {
     "name": "stderr",
     "output_type": "stream",
     "text": [
      "[I 2024-10-12 23:01:59,693] Trial 116 finished with value: 0.5942275042444821 and parameters: {'lr': 1.3744250205940603e-05, 'weight_decay': 3.465730428053944e-06}. Best is trial 24 with value: 0.8045454545454546.\n",
      "WARNING: Maximum number of iterations 32 reached. The mean may be inaccurate\n"
     ]
    },
    {
     "name": "stdout",
     "output_type": "stream",
     "text": [
      "SVD 수렴 문제 발생: SVD did not converge. 계속 진행합니다.\n"
     ]
    },
    {
     "name": "stderr",
     "output_type": "stream",
     "text": [
      "[I 2024-10-12 23:06:28,602] Trial 117 finished with value: 0.5292740046838407 and parameters: {'lr': 1.4653132748573723e-06, 'weight_decay': 5.785665470819207e-06}. Best is trial 24 with value: 0.8045454545454546.\n",
      "WARNING: Maximum number of iterations 32 reached. The mean may be inaccurate\n",
      "[I 2024-10-12 23:10:58,501] Trial 118 finished with value: 0.6911290322580645 and parameters: {'lr': 4.913013276508933e-06, 'weight_decay': 1.1541895445087902e-05}. Best is trial 24 with value: 0.8045454545454546.\n"
     ]
    },
    {
     "name": "stdout",
     "output_type": "stream",
     "text": [
      "SVD 수렴 문제 발생: SVD did not converge. 계속 진행합니다.\n"
     ]
    },
    {
     "name": "stderr",
     "output_type": "stream",
     "text": [
      "WARNING: Maximum number of iterations 32 reached. The mean may be inaccurate\n",
      "[I 2024-10-12 23:15:24,131] Trial 119 finished with value: 0.6674242424242425 and parameters: {'lr': 0.002433977888890988, 'weight_decay': 8.965510314862722e-06}. Best is trial 24 with value: 0.8045454545454546.\n"
     ]
    },
    {
     "name": "stdout",
     "output_type": "stream",
     "text": [
      "SVD 수렴 문제 발생: SVD did not converge. 계속 진행합니다.\n"
     ]
    },
    {
     "name": "stderr",
     "output_type": "stream",
     "text": [
      "WARNING: Maximum number of iterations 32 reached. The mean may be inaccurate\n"
     ]
    },
    {
     "name": "stdout",
     "output_type": "stream",
     "text": [
      "SVD 수렴 문제 발생: SVD did not converge. 계속 진행합니다.\n"
     ]
    },
    {
     "name": "stderr",
     "output_type": "stream",
     "text": [
      "[I 2024-10-12 23:19:50,898] Trial 120 finished with value: 0.6377829820452772 and parameters: {'lr': 2.5356633670453907e-05, 'weight_decay': 0.004680334728751464}. Best is trial 24 with value: 0.8045454545454546.\n",
      "WARNING: Maximum number of iterations 32 reached. The mean may be inaccurate\n"
     ]
    },
    {
     "name": "stdout",
     "output_type": "stream",
     "text": [
      "SVD 수렴 문제 발생: SVD did not converge. 계속 진행합니다.\n"
     ]
    },
    {
     "name": "stderr",
     "output_type": "stream",
     "text": [
      "[I 2024-10-12 23:24:18,784] Trial 121 finished with value: 0.6666666666666666 and parameters: {'lr': 1.0103404925633288e-06, 'weight_decay': 2.7677182557952932e-06}. Best is trial 24 with value: 0.8045454545454546.\n",
      "WARNING: Maximum number of iterations 32 reached. The mean may be inaccurate\n"
     ]
    },
    {
     "name": "stdout",
     "output_type": "stream",
     "text": [
      "SVD 수렴 문제 발생: SVD did not converge. 계속 진행합니다.\n"
     ]
    },
    {
     "name": "stderr",
     "output_type": "stream",
     "text": [
      "[I 2024-10-12 23:28:47,269] Trial 122 finished with value: 0.7071428571428572 and parameters: {'lr': 0.00012499184885424294, 'weight_decay': 0.006977250843467593}. Best is trial 24 with value: 0.8045454545454546.\n",
      "WARNING: Maximum number of iterations 32 reached. The mean may be inaccurate\n"
     ]
    },
    {
     "name": "stdout",
     "output_type": "stream",
     "text": [
      "SVD 수렴 문제 발생: SVD did not converge. 계속 진행합니다.\n"
     ]
    },
    {
     "name": "stderr",
     "output_type": "stream",
     "text": [
      "[I 2024-10-12 23:33:16,133] Trial 123 finished with value: 0.5959016393442622 and parameters: {'lr': 0.0001542938292975129, 'weight_decay': 3.845376947294833e-06}. Best is trial 24 with value: 0.8045454545454546.\n",
      "WARNING: Maximum number of iterations 32 reached. The mean may be inaccurate\n",
      "[I 2024-10-12 23:37:46,247] Trial 124 finished with value: 0.6083333333333333 and parameters: {'lr': 9.583823489672266e-05, 'weight_decay': 7.0979056731090716e-06}. Best is trial 24 with value: 0.8045454545454546.\n"
     ]
    },
    {
     "name": "stdout",
     "output_type": "stream",
     "text": [
      "SVD 수렴 문제 발생: SVD did not converge. 계속 진행합니다.\n"
     ]
    },
    {
     "name": "stderr",
     "output_type": "stream",
     "text": [
      "WARNING: Maximum number of iterations 32 reached. The mean may be inaccurate\n"
     ]
    },
    {
     "name": "stdout",
     "output_type": "stream",
     "text": [
      "SVD 수렴 문제 발생: SVD did not converge. 계속 진행합니다.\n"
     ]
    },
    {
     "name": "stderr",
     "output_type": "stream",
     "text": [
      "[I 2024-10-12 23:42:13,591] Trial 125 finished with value: 0.6431818181818182 and parameters: {'lr': 4.2412651624434946e-05, 'weight_decay': 4.999307495524429e-06}. Best is trial 24 with value: 0.8045454545454546.\n",
      "WARNING: Maximum number of iterations 32 reached. The mean may be inaccurate\n"
     ]
    },
    {
     "name": "stdout",
     "output_type": "stream",
     "text": [
      "SVD 수렴 문제 발생: SVD did not converge. 계속 진행합니다.\n"
     ]
    },
    {
     "name": "stderr",
     "output_type": "stream",
     "text": [
      "[I 2024-10-12 23:46:42,065] Trial 126 finished with value: 0.7258064516129032 and parameters: {'lr': 0.0002356757526886977, 'weight_decay': 2.5677585576173334e-06}. Best is trial 24 with value: 0.8045454545454546.\n",
      "WARNING: Maximum number of iterations 32 reached. The mean may be inaccurate\n"
     ]
    },
    {
     "name": "stdout",
     "output_type": "stream",
     "text": [
      "SVD 수렴 문제 발생: SVD did not converge. 계속 진행합니다.\n"
     ]
    },
    {
     "name": "stderr",
     "output_type": "stream",
     "text": [
      "[I 2024-10-12 23:51:10,540] Trial 127 finished with value: 0.6315401621223287 and parameters: {'lr': 5.418198271756537e-05, 'weight_decay': 3.060823668419972e-05}. Best is trial 24 with value: 0.8045454545454546.\n",
      "WARNING: Maximum number of iterations 32 reached. The mean may be inaccurate\n"
     ]
    },
    {
     "name": "stdout",
     "output_type": "stream",
     "text": [
      "SVD 수렴 문제 발생: SVD did not converge. 계속 진행합니다.\n"
     ]
    },
    {
     "name": "stderr",
     "output_type": "stream",
     "text": [
      "[I 2024-10-12 23:55:38,668] Trial 128 finished with value: 0.6106060606060606 and parameters: {'lr': 1.1502405187432315e-05, 'weight_decay': 1.914077232938755e-06}. Best is trial 24 with value: 0.8045454545454546.\n",
      "WARNING: Maximum number of iterations 32 reached. The mean may be inaccurate\n"
     ]
    },
    {
     "name": "stdout",
     "output_type": "stream",
     "text": [
      "SVD 수렴 문제 발생: SVD did not converge. 계속 진행합니다.\n"
     ]
    },
    {
     "name": "stderr",
     "output_type": "stream",
     "text": [
      "[I 2024-10-13 00:00:07,173] Trial 129 finished with value: 0.5879032258064516 and parameters: {'lr': 0.00027575924275757103, 'weight_decay': 1.1753814721071013e-06}. Best is trial 24 with value: 0.8045454545454546.\n",
      "WARNING: Maximum number of iterations 32 reached. The mean may be inaccurate\n"
     ]
    },
    {
     "name": "stdout",
     "output_type": "stream",
     "text": [
      "SVD 수렴 문제 발생: SVD did not converge. 계속 진행합니다.\n"
     ]
    },
    {
     "name": "stderr",
     "output_type": "stream",
     "text": [
      "[I 2024-10-13 00:04:35,979] Trial 130 finished with value: 0.7048387096774194 and parameters: {'lr': 1.6892977138071164e-05, 'weight_decay': 1.70313505207164e-05}. Best is trial 24 with value: 0.8045454545454546.\n",
      "WARNING: Maximum number of iterations 32 reached. The mean may be inaccurate\n"
     ]
    },
    {
     "name": "stdout",
     "output_type": "stream",
     "text": [
      "SVD 수렴 문제 발생: SVD did not converge. 계속 진행합니다.\n"
     ]
    },
    {
     "name": "stderr",
     "output_type": "stream",
     "text": [
      "[I 2024-10-13 00:09:05,553] Trial 131 finished with value: 0.681060606060606 and parameters: {'lr': 0.00021866594779073494, 'weight_decay': 2.3682074845859334e-06}. Best is trial 24 with value: 0.8045454545454546.\n",
      "WARNING: Maximum number of iterations 32 reached. The mean may be inaccurate\n"
     ]
    },
    {
     "name": "stdout",
     "output_type": "stream",
     "text": [
      "SVD 수렴 문제 발생: SVD did not converge. 계속 진행합니다.\n"
     ]
    },
    {
     "name": "stderr",
     "output_type": "stream",
     "text": [
      "[I 2024-10-13 00:13:35,571] Trial 132 finished with value: 0.6000000000000001 and parameters: {'lr': 0.00015799518583200717, 'weight_decay': 3.3249099745380414e-06}. Best is trial 24 with value: 0.8045454545454546.\n",
      "WARNING: Maximum number of iterations 32 reached. The mean may be inaccurate\n"
     ]
    },
    {
     "name": "stdout",
     "output_type": "stream",
     "text": [
      "SVD 수렴 문제 발생: SVD did not converge. 계속 진행합니다.\n"
     ]
    },
    {
     "name": "stderr",
     "output_type": "stream",
     "text": [
      "[I 2024-10-13 00:18:04,402] Trial 133 finished with value: 0.7401837928153718 and parameters: {'lr': 0.0001115044853179429, 'weight_decay': 0.00020915191458015136}. Best is trial 24 with value: 0.8045454545454546.\n",
      "WARNING: Maximum number of iterations 32 reached. The mean may be inaccurate\n"
     ]
    },
    {
     "name": "stdout",
     "output_type": "stream",
     "text": [
      "SVD 수렴 문제 발생: SVD did not converge. 계속 진행합니다.\n"
     ]
    },
    {
     "name": "stderr",
     "output_type": "stream",
     "text": [
      "[I 2024-10-13 00:22:34,079] Trial 134 finished with value: 0.5538461538461539 and parameters: {'lr': 0.00011311521961738667, 'weight_decay': 0.0008974929343552183}. Best is trial 24 with value: 0.8045454545454546.\n",
      "WARNING: Maximum number of iterations 32 reached. The mean may be inaccurate\n"
     ]
    },
    {
     "name": "stdout",
     "output_type": "stream",
     "text": [
      "SVD 수렴 문제 발생: SVD did not converge. 계속 진행합니다.\n"
     ]
    },
    {
     "name": "stderr",
     "output_type": "stream",
     "text": [
      "[I 2024-10-13 00:27:03,705] Trial 135 finished with value: 0.6123802505526899 and parameters: {'lr': 6.799067269926003e-05, 'weight_decay': 0.0026265259797746483}. Best is trial 24 with value: 0.8045454545454546.\n",
      "WARNING: Maximum number of iterations 32 reached. The mean may be inaccurate\n"
     ]
    },
    {
     "name": "stdout",
     "output_type": "stream",
     "text": [
      "SVD 수렴 문제 발생: SVD did not converge. 계속 진행합니다.\n"
     ]
    },
    {
     "name": "stderr",
     "output_type": "stream",
     "text": [
      "[I 2024-10-13 00:31:32,103] Trial 136 finished with value: 0.659640905542545 and parameters: {'lr': 3.13076196966685e-05, 'weight_decay': 0.0003352880780701611}. Best is trial 24 with value: 0.8045454545454546.\n",
      "WARNING: Maximum number of iterations 32 reached. The mean may be inaccurate\n"
     ]
    },
    {
     "name": "stdout",
     "output_type": "stream",
     "text": [
      "SVD 수렴 문제 발생: SVD did not converge. 계속 진행합니다.\n"
     ]
    },
    {
     "name": "stderr",
     "output_type": "stream",
     "text": [
      "[I 2024-10-13 00:36:00,603] Trial 137 finished with value: 0.550351288056206 and parameters: {'lr': 7.794749262501326e-05, 'weight_decay': 5.23847898926337e-05}. Best is trial 24 with value: 0.8045454545454546.\n",
      "WARNING: Maximum number of iterations 32 reached. The mean may be inaccurate\n"
     ]
    },
    {
     "name": "stdout",
     "output_type": "stream",
     "text": [
      "SVD 수렴 문제 발생: SVD did not converge. 계속 진행합니다.\n"
     ]
    },
    {
     "name": "stderr",
     "output_type": "stream",
     "text": [
      "[I 2024-10-13 00:40:30,183] Trial 138 finished with value: 0.6860655737704918 and parameters: {'lr': 2.143589272952837e-05, 'weight_decay': 0.00016439992525689226}. Best is trial 24 with value: 0.8045454545454546.\n",
      "WARNING: Maximum number of iterations 32 reached. The mean may be inaccurate\n"
     ]
    },
    {
     "name": "stdout",
     "output_type": "stream",
     "text": [
      "SVD 수렴 문제 발생: SVD did not converge. 계속 진행합니다.\n"
     ]
    },
    {
     "name": "stderr",
     "output_type": "stream",
     "text": [
      "[I 2024-10-13 00:44:59,646] Trial 139 finished with value: 0.7090909090909091 and parameters: {'lr': 2.1126983733309193e-06, 'weight_decay': 3.978945617853918e-05}. Best is trial 24 with value: 0.8045454545454546.\n",
      "WARNING: Maximum number of iterations 32 reached. The mean may be inaccurate\n"
     ]
    },
    {
     "name": "stdout",
     "output_type": "stream",
     "text": [
      "SVD 수렴 문제 발생: SVD did not converge. 계속 진행합니다.\n"
     ]
    },
    {
     "name": "stderr",
     "output_type": "stream",
     "text": [
      "[I 2024-10-13 00:49:29,376] Trial 140 finished with value: 0.5895357406042742 and parameters: {'lr': 0.00018498524603243916, 'weight_decay': 0.0014506529704788884}. Best is trial 24 with value: 0.8045454545454546.\n",
      "WARNING: Maximum number of iterations 32 reached. The mean may be inaccurate\n"
     ]
    },
    {
     "name": "stdout",
     "output_type": "stream",
     "text": [
      "SVD 수렴 문제 발생: SVD did not converge. 계속 진행합니다.\n"
     ]
    },
    {
     "name": "stderr",
     "output_type": "stream",
     "text": [
      "[I 2024-10-13 00:53:58,706] Trial 141 finished with value: 0.6564516129032258 and parameters: {'lr': 8.812714231533221e-05, 'weight_decay': 2.7653839402474467e-06}. Best is trial 24 with value: 0.8045454545454546.\n",
      "WARNING: Maximum number of iterations 32 reached. The mean may be inaccurate\n"
     ]
    },
    {
     "name": "stdout",
     "output_type": "stream",
     "text": [
      "SVD 수렴 문제 발생: SVD did not converge. 계속 진행합니다.\n"
     ]
    },
    {
     "name": "stderr",
     "output_type": "stream",
     "text": [
      "[I 2024-10-13 00:58:28,218] Trial 142 finished with value: 0.6653225806451613 and parameters: {'lr': 0.0001384585091070175, 'weight_decay': 4.036205734911032e-06}. Best is trial 24 with value: 0.8045454545454546.\n",
      "WARNING: Maximum number of iterations 32 reached. The mean may be inaccurate\n"
     ]
    },
    {
     "name": "stdout",
     "output_type": "stream",
     "text": [
      "SVD 수렴 문제 발생: SVD did not converge. 계속 진행합니다.\n"
     ]
    },
    {
     "name": "stderr",
     "output_type": "stream",
     "text": [
      "[I 2024-10-13 01:02:56,638] Trial 143 finished with value: 0.592741935483871 and parameters: {'lr': 0.00011270374641720015, 'weight_decay': 0.00025585492358113276}. Best is trial 24 with value: 0.8045454545454546.\n",
      "WARNING: Maximum number of iterations 32 reached. The mean may be inaccurate\n",
      "[I 2024-10-13 01:07:27,502] Trial 144 finished with value: 0.6558061821219716 and parameters: {'lr': 0.00028639053943664404, 'weight_decay': 0.0006425935135452318}. Best is trial 24 with value: 0.8045454545454546.\n"
     ]
    },
    {
     "name": "stdout",
     "output_type": "stream",
     "text": [
      "SVD 수렴 문제 발생: SVD did not converge. 계속 진행합니다.\n"
     ]
    },
    {
     "name": "stderr",
     "output_type": "stream",
     "text": [
      "WARNING: Maximum number of iterations 32 reached. The mean may be inaccurate\n"
     ]
    },
    {
     "name": "stdout",
     "output_type": "stream",
     "text": [
      "SVD 수렴 문제 발생: SVD did not converge. 계속 진행합니다.\n"
     ]
    },
    {
     "name": "stderr",
     "output_type": "stream",
     "text": [
      "[I 2024-10-13 01:11:56,127] Trial 145 finished with value: 0.55 and parameters: {'lr': 0.00020834412500338507, 'weight_decay': 6.342409738028737e-06}. Best is trial 24 with value: 0.8045454545454546.\n",
      "WARNING: Maximum number of iterations 32 reached. The mean may be inaccurate\n"
     ]
    },
    {
     "name": "stdout",
     "output_type": "stream",
     "text": [
      "SVD 수렴 문제 발생: SVD did not converge. 계속 진행합니다.\n"
     ]
    },
    {
     "name": "stderr",
     "output_type": "stream",
     "text": [
      "[I 2024-10-13 01:16:24,708] Trial 146 finished with value: 0.7033567525370803 and parameters: {'lr': 3.6634474797165894e-05, 'weight_decay': 2.404883154616333e-05}. Best is trial 24 with value: 0.8045454545454546.\n",
      "WARNING: Maximum number of iterations 32 reached. The mean may be inaccurate\n"
     ]
    },
    {
     "name": "stdout",
     "output_type": "stream",
     "text": [
      "SVD 수렴 문제 발생: SVD did not converge. 계속 진행합니다.\n"
     ]
    },
    {
     "name": "stderr",
     "output_type": "stream",
     "text": [
      "[I 2024-10-13 01:20:53,848] Trial 147 finished with value: 0.7174603174603175 and parameters: {'lr': 6.218713836740248e-05, 'weight_decay': 2.6487533081126765e-06}. Best is trial 24 with value: 0.8045454545454546.\n",
      "WARNING: Maximum number of iterations 32 reached. The mean may be inaccurate\n",
      "[I 2024-10-13 01:25:22,630] Trial 148 finished with value: 0.7244340359094458 and parameters: {'lr': 1.4688449716407506e-05, 'weight_decay': 1.5399953870865803e-06}. Best is trial 24 with value: 0.8045454545454546.\n"
     ]
    },
    {
     "name": "stdout",
     "output_type": "stream",
     "text": [
      "SVD 수렴 문제 발생: SVD did not converge. 계속 진행합니다.\n"
     ]
    },
    {
     "name": "stderr",
     "output_type": "stream",
     "text": [
      "WARNING: Maximum number of iterations 32 reached. The mean may be inaccurate\n"
     ]
    },
    {
     "name": "stdout",
     "output_type": "stream",
     "text": [
      "SVD 수렴 문제 발생: SVD did not converge. 계속 진행합니다.\n"
     ]
    },
    {
     "name": "stderr",
     "output_type": "stream",
     "text": [
      "[I 2024-10-13 01:29:49,467] Trial 149 finished with value: 0.7798387096774194 and parameters: {'lr': 4.892491158014341e-05, 'weight_decay': 4.6865046333165905e-06}. Best is trial 24 with value: 0.8045454545454546.\n",
      "WARNING: Maximum number of iterations 32 reached. The mean may be inaccurate\n"
     ]
    },
    {
     "name": "stdout",
     "output_type": "stream",
     "text": [
      "SVD 수렴 문제 발생: SVD did not converge. 계속 진행합니다.\n"
     ]
    },
    {
     "name": "stderr",
     "output_type": "stream",
     "text": [
      "[I 2024-10-13 01:34:17,684] Trial 150 finished with value: 0.6207184628237259 and parameters: {'lr': 4.772534973705689e-05, 'weight_decay': 7.896000963852715e-06}. Best is trial 24 with value: 0.8045454545454546.\n",
      "WARNING: Maximum number of iterations 32 reached. The mean may be inaccurate\n"
     ]
    },
    {
     "name": "stdout",
     "output_type": "stream",
     "text": [
      "SVD 수렴 문제 발생: SVD did not converge. 계속 진행합니다.\n"
     ]
    },
    {
     "name": "stderr",
     "output_type": "stream",
     "text": [
      "[I 2024-10-13 01:38:46,200] Trial 151 finished with value: 0.6483870967741936 and parameters: {'lr': 2.883434603027556e-05, 'weight_decay': 4.621222620333732e-06}. Best is trial 24 with value: 0.8045454545454546.\n",
      "WARNING: Maximum number of iterations 32 reached. The mean may be inaccurate\n"
     ]
    },
    {
     "name": "stdout",
     "output_type": "stream",
     "text": [
      "SVD 수렴 문제 발생: SVD did not converge. 계속 진행합니다.\n"
     ]
    },
    {
     "name": "stderr",
     "output_type": "stream",
     "text": [
      "[I 2024-10-13 01:43:13,612] Trial 152 finished with value: 0.6362217017954723 and parameters: {'lr': 9.555433321296094e-05, 'weight_decay': 3.3235032891861965e-06}. Best is trial 24 with value: 0.8045454545454546.\n",
      "WARNING: Maximum number of iterations 32 reached. The mean may be inaccurate\n"
     ]
    },
    {
     "name": "stdout",
     "output_type": "stream",
     "text": [
      "SVD 수렴 문제 발생: SVD did not converge. 계속 진행합니다.\n"
     ]
    },
    {
     "name": "stderr",
     "output_type": "stream",
     "text": [
      "[I 2024-10-13 01:47:39,383] Trial 153 finished with value: 0.5696969696969697 and parameters: {'lr': 0.0008805117992479451, 'weight_decay': 5.55793482189777e-06}. Best is trial 24 with value: 0.8045454545454546.\n",
      "WARNING: Maximum number of iterations 32 reached. The mean may be inaccurate\n"
     ]
    },
    {
     "name": "stdout",
     "output_type": "stream",
     "text": [
      "SVD 수렴 문제 발생: SVD did not converge. 계속 진행합니다.\n"
     ]
    },
    {
     "name": "stderr",
     "output_type": "stream",
     "text": [
      "[I 2024-10-13 01:52:07,229] Trial 154 finished with value: 0.6295454545454545 and parameters: {'lr': 7.450203229475109e-06, 'weight_decay': 3.903599624735262e-06}. Best is trial 24 with value: 0.8045454545454546.\n",
      "WARNING: Maximum number of iterations 32 reached. The mean may be inaccurate\n"
     ]
    },
    {
     "name": "stdout",
     "output_type": "stream",
     "text": [
      "SVD 수렴 문제 발생: SVD did not converge. 계속 진행합니다.\n"
     ]
    },
    {
     "name": "stderr",
     "output_type": "stream",
     "text": [
      "[I 2024-10-13 01:56:32,518] Trial 155 finished with value: 0.6761904761904762 and parameters: {'lr': 0.0015689469219153638, 'weight_decay': 2.197266480819484e-06}. Best is trial 24 with value: 0.8045454545454546.\n",
      "WARNING: Maximum number of iterations 32 reached. The mean may be inaccurate\n"
     ]
    },
    {
     "name": "stdout",
     "output_type": "stream",
     "text": [
      "SVD 수렴 문제 발생: SVD did not converge. 계속 진행합니다.\n"
     ]
    },
    {
     "name": "stderr",
     "output_type": "stream",
     "text": [
      "[I 2024-10-13 02:00:59,276] Trial 156 finished with value: 0.6174603174603175 and parameters: {'lr': 1.0319767945866102e-05, 'weight_decay': 7.002982944949618e-05}. Best is trial 24 with value: 0.8045454545454546.\n",
      "WARNING: Maximum number of iterations 32 reached. The mean may be inaccurate\n"
     ]
    },
    {
     "name": "stdout",
     "output_type": "stream",
     "text": [
      "SVD 수렴 문제 발생: SVD did not converge. 계속 진행합니다.\n"
     ]
    },
    {
     "name": "stderr",
     "output_type": "stream",
     "text": [
      "[I 2024-10-13 02:05:25,937] Trial 157 finished with value: 0.6825757575757576 and parameters: {'lr': 2.007813401562199e-05, 'weight_decay': 1.369196399977593e-05}. Best is trial 24 with value: 0.8045454545454546.\n",
      "WARNING: Maximum number of iterations 32 reached. The mean may be inaccurate\n"
     ]
    },
    {
     "name": "stdout",
     "output_type": "stream",
     "text": [
      "SVD 수렴 문제 발생: SVD did not converge. 계속 진행합니다.\n"
     ]
    },
    {
     "name": "stderr",
     "output_type": "stream",
     "text": [
      "[I 2024-10-13 02:09:52,740] Trial 158 finished with value: 0.7923497267759563 and parameters: {'lr': 4.664912834216722e-05, 'weight_decay': 2.101369278249255e-05}. Best is trial 24 with value: 0.8045454545454546.\n",
      "WARNING: Maximum number of iterations 32 reached. The mean may be inaccurate\n"
     ]
    },
    {
     "name": "stdout",
     "output_type": "stream",
     "text": [
      "SVD 수렴 문제 발생: SVD did not converge. 계속 진행합니다.\n"
     ]
    },
    {
     "name": "stderr",
     "output_type": "stream",
     "text": [
      "[I 2024-10-13 02:14:20,843] Trial 159 finished with value: 0.7538688282977155 and parameters: {'lr': 4.751120768321439e-05, 'weight_decay': 1.6514341247373903e-05}. Best is trial 24 with value: 0.8045454545454546.\n",
      "WARNING: Maximum number of iterations 32 reached. The mean may be inaccurate\n",
      "[I 2024-10-13 02:18:49,685] Trial 160 finished with value: 0.6382623224728488 and parameters: {'lr': 4.082981369706592e-05, 'weight_decay': 1.9237960271124155e-05}. Best is trial 24 with value: 0.8045454545454546.\n"
     ]
    },
    {
     "name": "stdout",
     "output_type": "stream",
     "text": [
      "SVD 수렴 문제 발생: SVD did not converge. 계속 진행합니다.\n"
     ]
    },
    {
     "name": "stderr",
     "output_type": "stream",
     "text": [
      "WARNING: Maximum number of iterations 32 reached. The mean may be inaccurate\n"
     ]
    },
    {
     "name": "stdout",
     "output_type": "stream",
     "text": [
      "SVD 수렴 문제 발생: SVD did not converge. 계속 진행합니다.\n"
     ]
    },
    {
     "name": "stderr",
     "output_type": "stream",
     "text": [
      "[I 2024-10-13 02:23:16,835] Trial 161 finished with value: 0.7096018735362997 and parameters: {'lr': 5.5707654225626615e-05, 'weight_decay': 2.275519095441576e-05}. Best is trial 24 with value: 0.8045454545454546.\n",
      "WARNING: Maximum number of iterations 32 reached. The mean may be inaccurate\n"
     ]
    },
    {
     "name": "stdout",
     "output_type": "stream",
     "text": [
      "SVD 수렴 문제 발생: SVD did not converge. 계속 진행합니다.\n"
     ]
    },
    {
     "name": "stderr",
     "output_type": "stream",
     "text": [
      "[I 2024-10-13 02:27:44,462] Trial 162 finished with value: 0.7629032258064516 and parameters: {'lr': 3.450055491934104e-05, 'weight_decay': 3.3141736456851753e-05}. Best is trial 24 with value: 0.8045454545454546.\n",
      "WARNING: Maximum number of iterations 32 reached. The mean may be inaccurate\n",
      "[I 2024-10-13 02:32:13,431] Trial 163 finished with value: 0.7010148321623731 and parameters: {'lr': 3.52235016222421e-05, 'weight_decay': 3.4120650860141904e-05}. Best is trial 24 with value: 0.8045454545454546.\n"
     ]
    },
    {
     "name": "stdout",
     "output_type": "stream",
     "text": [
      "SVD 수렴 문제 발생: SVD did not converge. 계속 진행합니다.\n"
     ]
    },
    {
     "name": "stderr",
     "output_type": "stream",
     "text": [
      "WARNING: Maximum number of iterations 32 reached. The mean may be inaccurate\n"
     ]
    },
    {
     "name": "stdout",
     "output_type": "stream",
     "text": [
      "SVD 수렴 문제 발생: SVD did not converge. 계속 진행합니다.\n"
     ]
    },
    {
     "name": "stderr",
     "output_type": "stream",
     "text": [
      "[I 2024-10-13 02:36:39,806] Trial 164 finished with value: 0.7523809523809524 and parameters: {'lr': 4.651405534846855e-05, 'weight_decay': 1.602385151512578e-05}. Best is trial 24 with value: 0.8045454545454546.\n",
      "WARNING: Maximum number of iterations 32 reached. The mean may be inaccurate\n"
     ]
    },
    {
     "name": "stdout",
     "output_type": "stream",
     "text": [
      "SVD 수렴 문제 발생: SVD did not converge. 계속 진행합니다.\n"
     ]
    },
    {
     "name": "stderr",
     "output_type": "stream",
     "text": [
      "[I 2024-10-13 02:41:06,910] Trial 165 finished with value: 0.6765151515151515 and parameters: {'lr': 4.795083316928267e-05, 'weight_decay': 2.7692603524831715e-05}. Best is trial 24 with value: 0.8045454545454546.\n",
      "WARNING: Maximum number of iterations 32 reached. The mean may be inaccurate\n"
     ]
    },
    {
     "name": "stdout",
     "output_type": "stream",
     "text": [
      "SVD 수렴 문제 발생: SVD did not converge. 계속 진행합니다.\n"
     ]
    },
    {
     "name": "stderr",
     "output_type": "stream",
     "text": [
      "[I 2024-10-13 02:45:33,676] Trial 166 finished with value: 0.7369242779078845 and parameters: {'lr': 6.931521306936189e-05, 'weight_decay': 1.6131356969150442e-05}. Best is trial 24 with value: 0.8045454545454546.\n",
      "WARNING: Maximum number of iterations 32 reached. The mean may be inaccurate\n"
     ]
    },
    {
     "name": "stdout",
     "output_type": "stream",
     "text": [
      "SVD 수렴 문제 발생: SVD did not converge. 계속 진행합니다.\n"
     ]
    },
    {
     "name": "stderr",
     "output_type": "stream",
     "text": [
      "[I 2024-10-13 02:50:01,868] Trial 167 finished with value: 0.644808743169399 and parameters: {'lr': 6.711745515449954e-05, 'weight_decay': 1.4933317468163914e-05}. Best is trial 24 with value: 0.8045454545454546.\n",
      "WARNING: Maximum number of iterations 32 reached. The mean may be inaccurate\n"
     ]
    },
    {
     "name": "stdout",
     "output_type": "stream",
     "text": [
      "SVD 수렴 문제 발생: SVD did not converge. 계속 진행합니다.\n"
     ]
    },
    {
     "name": "stderr",
     "output_type": "stream",
     "text": [
      "[I 2024-10-13 02:54:29,040] Trial 168 finished with value: 0.6094325718496684 and parameters: {'lr': 5.2084862471485185e-05, 'weight_decay': 2.1405587753763522e-05}. Best is trial 24 with value: 0.8045454545454546.\n",
      "WARNING: Maximum number of iterations 32 reached. The mean may be inaccurate\n"
     ]
    },
    {
     "name": "stdout",
     "output_type": "stream",
     "text": [
      "SVD 수렴 문제 발생: SVD did not converge. 계속 진행합니다.\n"
     ]
    },
    {
     "name": "stderr",
     "output_type": "stream",
     "text": [
      "[I 2024-10-13 02:58:56,977] Trial 169 finished with value: 0.6162895927601809 and parameters: {'lr': 7.676570778226012e-05, 'weight_decay': 1.6503639097031828e-05}. Best is trial 24 with value: 0.8045454545454546.\n",
      "WARNING: Maximum number of iterations 32 reached. The mean may be inaccurate\n"
     ]
    },
    {
     "name": "stdout",
     "output_type": "stream",
     "text": [
      "SVD 수렴 문제 발생: SVD did not converge. 계속 진행합니다.\n"
     ]
    },
    {
     "name": "stderr",
     "output_type": "stream",
     "text": [
      "[I 2024-10-13 03:03:25,004] Trial 170 finished with value: 0.5923141186299081 and parameters: {'lr': 3.99889420184349e-05, 'weight_decay': 1.269820149485772e-05}. Best is trial 24 with value: 0.8045454545454546.\n",
      "WARNING: Maximum number of iterations 32 reached. The mean may be inaccurate\n"
     ]
    },
    {
     "name": "stdout",
     "output_type": "stream",
     "text": [
      "SVD 수렴 문제 발생: SVD did not converge. 계속 진행합니다.\n"
     ]
    },
    {
     "name": "stderr",
     "output_type": "stream",
     "text": [
      "[I 2024-10-13 03:07:52,487] Trial 171 finished with value: 0.6374269005847953 and parameters: {'lr': 5.9404147914878014e-05, 'weight_decay': 1.9440689855241315e-05}. Best is trial 24 with value: 0.8045454545454546.\n",
      "WARNING: Maximum number of iterations 32 reached. The mean may be inaccurate\n"
     ]
    },
    {
     "name": "stdout",
     "output_type": "stream",
     "text": [
      "SVD 수렴 문제 발생: SVD did not converge. 계속 진행합니다.\n"
     ]
    },
    {
     "name": "stderr",
     "output_type": "stream",
     "text": [
      "[I 2024-10-13 03:12:20,368] Trial 172 finished with value: 0.580952380952381 and parameters: {'lr': 2.5725922128983688e-05, 'weight_decay': 1.0731663794318363e-05}. Best is trial 24 with value: 0.8045454545454546.\n",
      "WARNING: Maximum number of iterations 32 reached. The mean may be inaccurate\n"
     ]
    },
    {
     "name": "stdout",
     "output_type": "stream",
     "text": [
      "SVD 수렴 문제 발생: SVD did not converge. 계속 진행합니다.\n"
     ]
    },
    {
     "name": "stderr",
     "output_type": "stream",
     "text": [
      "[I 2024-10-13 03:16:48,599] Trial 173 finished with value: 0.5202398800599699 and parameters: {'lr': 3.266811155354011e-05, 'weight_decay': 3.773514449300988e-05}. Best is trial 24 with value: 0.8045454545454546.\n",
      "WARNING: Maximum number of iterations 32 reached. The mean may be inaccurate\n"
     ]
    },
    {
     "name": "stdout",
     "output_type": "stream",
     "text": [
      "SVD 수렴 문제 발생: SVD did not converge. 계속 진행합니다.\n"
     ]
    },
    {
     "name": "stderr",
     "output_type": "stream",
     "text": [
      "[I 2024-10-13 03:21:16,252] Trial 174 finished with value: 0.6209553158705701 and parameters: {'lr': 4.4794634996811e-05, 'weight_decay': 9.921461581147884e-06}. Best is trial 24 with value: 0.8045454545454546.\n",
      "WARNING: Maximum number of iterations 32 reached. The mean may be inaccurate\n"
     ]
    },
    {
     "name": "stdout",
     "output_type": "stream",
     "text": [
      "SVD 수렴 문제 발생: SVD did not converge. 계속 진행합니다.\n"
     ]
    },
    {
     "name": "stderr",
     "output_type": "stream",
     "text": [
      "[I 2024-10-13 03:25:42,683] Trial 175 finished with value: 0.6879032258064517 and parameters: {'lr': 7.81828158972633e-05, 'weight_decay': 3.0813478154366366e-05}. Best is trial 24 with value: 0.8045454545454546.\n",
      "WARNING: Maximum number of iterations 32 reached. The mean may be inaccurate\n"
     ]
    },
    {
     "name": "stdout",
     "output_type": "stream",
     "text": [
      "SVD 수렴 문제 발생: SVD did not converge. 계속 진행합니다.\n"
     ]
    },
    {
     "name": "stderr",
     "output_type": "stream",
     "text": [
      "[I 2024-10-13 03:30:10,408] Trial 176 finished with value: 0.6056451612903226 and parameters: {'lr': 5.232495085376526e-05, 'weight_decay': 1.5230937846830984e-05}. Best is trial 24 with value: 0.8045454545454546.\n",
      "WARNING: Maximum number of iterations 32 reached. The mean may be inaccurate\n"
     ]
    },
    {
     "name": "stdout",
     "output_type": "stream",
     "text": [
      "SVD 수렴 문제 발생: SVD did not converge. 계속 진행합니다.\n"
     ]
    },
    {
     "name": "stderr",
     "output_type": "stream",
     "text": [
      "[I 2024-10-13 03:34:38,008] Trial 177 finished with value: 0.6073517126148705 and parameters: {'lr': 1.2236916665315992e-06, 'weight_decay': 2.772968919753139e-05}. Best is trial 24 with value: 0.8045454545454546.\n",
      "WARNING: Maximum number of iterations 32 reached. The mean may be inaccurate\n"
     ]
    },
    {
     "name": "stdout",
     "output_type": "stream",
     "text": [
      "SVD 수렴 문제 발생: SVD did not converge. 계속 진행합니다.\n"
     ]
    },
    {
     "name": "stderr",
     "output_type": "stream",
     "text": [
      "[I 2024-10-13 03:39:05,291] Trial 178 finished with value: 0.6222410865874363 and parameters: {'lr': 3.007327936463565e-05, 'weight_decay': 1.914328620251455e-05}. Best is trial 24 with value: 0.8045454545454546.\n",
      "WARNING: Maximum number of iterations 32 reached. The mean may be inaccurate\n"
     ]
    },
    {
     "name": "stdout",
     "output_type": "stream",
     "text": [
      "SVD 수렴 문제 발생: SVD did not converge. 계속 진행합니다.\n"
     ]
    },
    {
     "name": "stderr",
     "output_type": "stream",
     "text": [
      "[I 2024-10-13 03:43:33,465] Trial 179 finished with value: 0.6572989851678377 and parameters: {'lr': 6.433879199359712e-05, 'weight_decay': 2.3835076443810024e-05}. Best is trial 24 with value: 0.8045454545454546.\n",
      "WARNING: Maximum number of iterations 32 reached. The mean may be inaccurate\n"
     ]
    },
    {
     "name": "stdout",
     "output_type": "stream",
     "text": [
      "SVD 수렴 문제 발생: SVD did not converge. 계속 진행합니다.\n"
     ]
    },
    {
     "name": "stderr",
     "output_type": "stream",
     "text": [
      "[I 2024-10-13 03:48:02,211] Trial 180 finished with value: 0.6604215456674473 and parameters: {'lr': 3.3358058341410374e-06, 'weight_decay': 1.233532938795259e-05}. Best is trial 24 with value: 0.8045454545454546.\n",
      "WARNING: Maximum number of iterations 32 reached. The mean may be inaccurate\n"
     ]
    },
    {
     "name": "stdout",
     "output_type": "stream",
     "text": [
      "SVD 수렴 문제 발생: SVD did not converge. 계속 진행합니다.\n"
     ]
    },
    {
     "name": "stderr",
     "output_type": "stream",
     "text": [
      "[I 2024-10-13 03:52:30,396] Trial 181 finished with value: 0.5258064516129033 and parameters: {'lr': 2.4701915704480767e-05, 'weight_decay': 1.681825450528719e-05}. Best is trial 24 with value: 0.8045454545454546.\n",
      "WARNING: Maximum number of iterations 32 reached. The mean may be inaccurate\n"
     ]
    },
    {
     "name": "stdout",
     "output_type": "stream",
     "text": [
      "SVD 수렴 문제 발생: SVD did not converge. 계속 진행합니다.\n"
     ]
    },
    {
     "name": "stderr",
     "output_type": "stream",
     "text": [
      "[I 2024-10-13 03:56:59,391] Trial 182 finished with value: 0.6075757575757575 and parameters: {'lr': 4.065495790240487e-05, 'weight_decay': 8.407244226960208e-06}. Best is trial 24 with value: 0.8045454545454546.\n",
      "WARNING: Maximum number of iterations 32 reached. The mean may be inaccurate\n"
     ]
    },
    {
     "name": "stdout",
     "output_type": "stream",
     "text": [
      "SVD 수렴 문제 발생: SVD did not converge. 계속 진행합니다.\n"
     ]
    },
    {
     "name": "stderr",
     "output_type": "stream",
     "text": [
      "[I 2024-10-13 04:01:27,377] Trial 183 finished with value: 0.6072218128224024 and parameters: {'lr': 1.8664901648484827e-05, 'weight_decay': 6.180934972087198e-06}. Best is trial 24 with value: 0.8045454545454546.\n",
      "WARNING: Maximum number of iterations 32 reached. The mean may be inaccurate\n"
     ]
    },
    {
     "name": "stdout",
     "output_type": "stream",
     "text": [
      "SVD 수렴 문제 발생: SVD did not converge. 계속 진행합니다.\n"
     ]
    },
    {
     "name": "stderr",
     "output_type": "stream",
     "text": [
      "[I 2024-10-13 04:05:55,492] Trial 184 finished with value: 0.6588602654176424 and parameters: {'lr': 3.354697907913099e-05, 'weight_decay': 5.163877220911848e-06}. Best is trial 24 with value: 0.8045454545454546.\n",
      "WARNING: Maximum number of iterations 32 reached. The mean may be inaccurate\n"
     ]
    },
    {
     "name": "stdout",
     "output_type": "stream",
     "text": [
      "SVD 수렴 문제 발생: SVD did not converge. 계속 진행합니다.\n"
     ]
    },
    {
     "name": "stderr",
     "output_type": "stream",
     "text": [
      "[I 2024-10-13 04:10:23,820] Trial 185 finished with value: 0.663544106167057 and parameters: {'lr': 2.628131314783044e-05, 'weight_decay': 2.1467807729756567e-05}. Best is trial 24 with value: 0.8045454545454546.\n",
      "WARNING: Maximum number of iterations 32 reached. The mean may be inaccurate\n"
     ]
    },
    {
     "name": "stdout",
     "output_type": "stream",
     "text": [
      "SVD 수렴 문제 발생: SVD did not converge. 계속 진행합니다.\n"
     ]
    },
    {
     "name": "stderr",
     "output_type": "stream",
     "text": [
      "[I 2024-10-13 04:14:52,193] Trial 186 finished with value: 0.5772727272727273 and parameters: {'lr': 5.114212700565349e-05, 'weight_decay': 0.004843512340857726}. Best is trial 24 with value: 0.8045454545454546.\n",
      "WARNING: Maximum number of iterations 32 reached. The mean may be inaccurate\n",
      "[I 2024-10-13 04:19:21,772] Trial 187 finished with value: 0.6432474629195941 and parameters: {'lr': 3.729494774263134e-05, 'weight_decay': 0.0004643783873978903}. Best is trial 24 with value: 0.8045454545454546.\n"
     ]
    },
    {
     "name": "stdout",
     "output_type": "stream",
     "text": [
      "SVD 수렴 문제 발생: SVD did not converge. 계속 진행합니다.\n"
     ]
    },
    {
     "name": "stderr",
     "output_type": "stream",
     "text": [
      "WARNING: Maximum number of iterations 32 reached. The mean may be inaccurate\n"
     ]
    },
    {
     "name": "stdout",
     "output_type": "stream",
     "text": [
      "SVD 수렴 문제 발생: SVD did not converge. 계속 진행합니다.\n"
     ]
    },
    {
     "name": "stderr",
     "output_type": "stream",
     "text": [
      "[I 2024-10-13 04:23:49,421] Trial 188 finished with value: 0.6516129032258065 and parameters: {'lr': 1.572095238055587e-06, 'weight_decay': 5.163160117646209e-05}. Best is trial 24 with value: 0.8045454545454546.\n",
      "WARNING: Maximum number of iterations 32 reached. The mean may be inaccurate\n"
     ]
    },
    {
     "name": "stdout",
     "output_type": "stream",
     "text": [
      "SVD 수렴 문제 발생: SVD did not converge. 계속 진행합니다.\n"
     ]
    },
    {
     "name": "stderr",
     "output_type": "stream",
     "text": [
      "[I 2024-10-13 04:28:18,539] Trial 189 finished with value: 0.6952380952380952 and parameters: {'lr': 1.2729415855208512e-05, 'weight_decay': 0.006127524494956493}. Best is trial 24 with value: 0.8045454545454546.\n",
      "WARNING: Maximum number of iterations 32 reached. The mean may be inaccurate\n"
     ]
    },
    {
     "name": "stdout",
     "output_type": "stream",
     "text": [
      "SVD 수렴 문제 발생: SVD did not converge. 계속 진행합니다.\n"
     ]
    },
    {
     "name": "stderr",
     "output_type": "stream",
     "text": [
      "[I 2024-10-13 04:32:46,465] Trial 190 finished with value: 0.701014832162373 and parameters: {'lr': 4.76070998374752e-05, 'weight_decay': 4.35509512723245e-06}. Best is trial 24 with value: 0.8045454545454546.\n",
      "WARNING: Maximum number of iterations 32 reached. The mean may be inaccurate\n"
     ]
    },
    {
     "name": "stdout",
     "output_type": "stream",
     "text": [
      "SVD 수렴 문제 발생: SVD did not converge. 계속 진행합니다.\n"
     ]
    },
    {
     "name": "stderr",
     "output_type": "stream",
     "text": [
      "[I 2024-10-13 04:37:14,277] Trial 191 finished with value: 0.6704545454545454 and parameters: {'lr': 0.00010072352278135392, 'weight_decay': 2.6522041147008846e-05}. Best is trial 24 with value: 0.8045454545454546.\n",
      "WARNING: Maximum number of iterations 32 reached. The mean may be inaccurate\n"
     ]
    },
    {
     "name": "stdout",
     "output_type": "stream",
     "text": [
      "SVD 수렴 문제 발생: SVD did not converge. 계속 진행합니다.\n"
     ]
    },
    {
     "name": "stderr",
     "output_type": "stream",
     "text": [
      "[I 2024-10-13 04:41:42,491] Trial 192 finished with value: 0.6315378610460578 and parameters: {'lr': 8.539572886959683e-05, 'weight_decay': 6.582571312959533e-06}. Best is trial 24 with value: 0.8045454545454546.\n",
      "WARNING: Maximum number of iterations 32 reached. The mean may be inaccurate\n"
     ]
    },
    {
     "name": "stdout",
     "output_type": "stream",
     "text": [
      "SVD 수렴 문제 발생: SVD did not converge. 계속 진행합니다.\n"
     ]
    },
    {
     "name": "stderr",
     "output_type": "stream",
     "text": [
      "[I 2024-10-13 04:46:09,844] Trial 193 finished with value: 0.6268540202966433 and parameters: {'lr': 0.0001336040094474771, 'weight_decay': 3.4044778100522377e-06}. Best is trial 24 with value: 0.8045454545454546.\n",
      "WARNING: Maximum number of iterations 32 reached. The mean may be inaccurate\n"
     ]
    },
    {
     "name": "stdout",
     "output_type": "stream",
     "text": [
      "SVD 수렴 문제 발생: SVD did not converge. 계속 진행합니다.\n"
     ]
    },
    {
     "name": "stderr",
     "output_type": "stream",
     "text": [
      "[I 2024-10-13 04:50:38,409] Trial 194 finished with value: 0.5821665438467207 and parameters: {'lr': 6.641442895290048e-05, 'weight_decay': 1.488648831894457e-05}. Best is trial 24 with value: 0.8045454545454546.\n",
      "WARNING: Maximum number of iterations 32 reached. The mean may be inaccurate\n"
     ]
    },
    {
     "name": "stdout",
     "output_type": "stream",
     "text": [
      "SVD 수렴 문제 발생: SVD did not converge. 계속 진행합니다.\n"
     ]
    },
    {
     "name": "stderr",
     "output_type": "stream",
     "text": [
      "[I 2024-10-13 04:55:06,681] Trial 195 finished with value: 0.654176424668228 and parameters: {'lr': 0.00011108528546622366, 'weight_decay': 4.812447113880104e-06}. Best is trial 24 with value: 0.8045454545454546.\n",
      "WARNING: Maximum number of iterations 32 reached. The mean may be inaccurate\n"
     ]
    },
    {
     "name": "stdout",
     "output_type": "stream",
     "text": [
      "SVD 수렴 문제 발생: SVD did not converge. 계속 진행합니다.\n"
     ]
    },
    {
     "name": "stderr",
     "output_type": "stream",
     "text": [
      "[I 2024-10-13 04:59:34,546] Trial 196 finished with value: 0.7111274871039057 and parameters: {'lr': 1.5572095781136575e-05, 'weight_decay': 1.1554920968548294e-05}. Best is trial 24 with value: 0.8045454545454546.\n",
      "WARNING: Maximum number of iterations 32 reached. The mean may be inaccurate\n",
      "[I 2024-10-13 05:04:01,593] Trial 197 finished with value: 0.5745511319281811 and parameters: {'lr': 2.1582966351302558e-05, 'weight_decay': 0.00986343289603232}. Best is trial 24 with value: 0.8045454545454546.\n"
     ]
    },
    {
     "name": "stdout",
     "output_type": "stream",
     "text": [
      "SVD 수렴 문제 발생: SVD did not converge. 계속 진행합니다.\n"
     ]
    },
    {
     "name": "stderr",
     "output_type": "stream",
     "text": [
      "WARNING: Maximum number of iterations 32 reached. The mean may be inaccurate\n"
     ]
    },
    {
     "name": "stdout",
     "output_type": "stream",
     "text": [
      "SVD 수렴 문제 발생: SVD did not converge. 계속 진행합니다.\n"
     ]
    },
    {
     "name": "stderr",
     "output_type": "stream",
     "text": [
      "[I 2024-10-13 05:08:27,073] Trial 198 finished with value: 0.6541353383458646 and parameters: {'lr': 4.226979216622371e-05, 'weight_decay': 9.142829275212559e-06}. Best is trial 24 with value: 0.8045454545454546.\n",
      "WARNING: Maximum number of iterations 32 reached. The mean may be inaccurate\n"
     ]
    },
    {
     "name": "stdout",
     "output_type": "stream",
     "text": [
      "SVD 수렴 문제 발생: SVD did not converge. 계속 진행합니다.\n"
     ]
    },
    {
     "name": "stderr",
     "output_type": "stream",
     "text": [
      "[I 2024-10-13 05:12:54,465] Trial 199 finished with value: 0.6886877828054299 and parameters: {'lr': 3.177493043207695e-05, 'weight_decay': 1.891001158869796e-05}. Best is trial 24 with value: 0.8045454545454546.\n",
      "WARNING: Maximum number of iterations 32 reached. The mean may be inaccurate\n"
     ]
    },
    {
     "name": "stdout",
     "output_type": "stream",
     "text": [
      "SVD 수렴 문제 발생: SVD did not converge. 계속 진행합니다.\n"
     ]
    },
    {
     "name": "stderr",
     "output_type": "stream",
     "text": [
      "[I 2024-10-13 05:17:21,648] Trial 200 finished with value: 0.6946969696969696 and parameters: {'lr': 7.749232681075147e-05, 'weight_decay': 3.393438509652103e-05}. Best is trial 24 with value: 0.8045454545454546.\n",
      "WARNING: Maximum number of iterations 32 reached. The mean may be inaccurate\n"
     ]
    },
    {
     "name": "stdout",
     "output_type": "stream",
     "text": [
      "SVD 수렴 문제 발생: SVD did not converge. 계속 진행합니다.\n"
     ]
    },
    {
     "name": "stderr",
     "output_type": "stream",
     "text": [
      "[I 2024-10-13 05:21:44,953] Trial 201 finished with value: 0.6123015873015873 and parameters: {'lr': 0.00400191067593079, 'weight_decay': 2.674782064499901e-06}. Best is trial 24 with value: 0.8045454545454546.\n",
      "WARNING: Maximum number of iterations 32 reached. The mean may be inaccurate\n"
     ]
    },
    {
     "name": "stdout",
     "output_type": "stream",
     "text": [
      "SVD 수렴 문제 발생: SVD did not converge. 계속 진행합니다.\n"
     ]
    },
    {
     "name": "stderr",
     "output_type": "stream",
     "text": [
      "[I 2024-10-13 05:26:12,620] Trial 202 finished with value: 0.6215538847117795 and parameters: {'lr': 0.00015079897281535619, 'weight_decay': 1.9026675695035035e-06}. Best is trial 24 with value: 0.8045454545454546.\n",
      "WARNING: Maximum number of iterations 32 reached. The mean may be inaccurate\n"
     ]
    },
    {
     "name": "stdout",
     "output_type": "stream",
     "text": [
      "SVD 수렴 문제 발생: SVD did not converge. 계속 진행합니다.\n"
     ]
    },
    {
     "name": "stderr",
     "output_type": "stream",
     "text": [
      "[I 2024-10-13 05:30:38,886] Trial 203 finished with value: 0.609090909090909 and parameters: {'lr': 5.7540086364906154e-05, 'weight_decay': 3.933520871447177e-06}. Best is trial 24 with value: 0.8045454545454546.\n",
      "WARNING: Maximum number of iterations 32 reached. The mean may be inaccurate\n"
     ]
    },
    {
     "name": "stdout",
     "output_type": "stream",
     "text": [
      "SVD 수렴 문제 발생: SVD did not converge. 계속 진행합니다.\n"
     ]
    },
    {
     "name": "stderr",
     "output_type": "stream",
     "text": [
      "[I 2024-10-13 05:35:05,322] Trial 204 finished with value: 0.7362903225806452 and parameters: {'lr': 0.00012269105245069103, 'weight_decay': 3.0567980352361387e-06}. Best is trial 24 with value: 0.8045454545454546.\n",
      "WARNING: Maximum number of iterations 32 reached. The mean may be inaccurate\n"
     ]
    },
    {
     "name": "stdout",
     "output_type": "stream",
     "text": [
      "SVD 수렴 문제 발생: SVD did not converge. 계속 진행합니다.\n"
     ]
    },
    {
     "name": "stderr",
     "output_type": "stream",
     "text": [
      "[I 2024-10-13 05:39:32,163] Trial 205 finished with value: 0.5939907550077042 and parameters: {'lr': 1.0467593821140724e-06, 'weight_decay': 3.1155016391974122e-06}. Best is trial 24 with value: 0.8045454545454546.\n",
      "WARNING: Maximum number of iterations 32 reached. The mean may be inaccurate\n",
      "[I 2024-10-13 05:44:00,038] Trial 206 finished with value: 0.6818181818181818 and parameters: {'lr': 9.355227394020812e-05, 'weight_decay': 5.803579074368044e-06}. Best is trial 24 with value: 0.8045454545454546.\n"
     ]
    },
    {
     "name": "stdout",
     "output_type": "stream",
     "text": [
      "SVD 수렴 문제 발생: SVD did not converge. 계속 진행합니다.\n"
     ]
    },
    {
     "name": "stderr",
     "output_type": "stream",
     "text": [
      "WARNING: Maximum number of iterations 32 reached. The mean may be inaccurate\n"
     ]
    },
    {
     "name": "stdout",
     "output_type": "stream",
     "text": [
      "SVD 수렴 문제 발생: SVD did not converge. 계속 진행합니다.\n"
     ]
    },
    {
     "name": "stderr",
     "output_type": "stream",
     "text": [
      "[I 2024-10-13 05:48:25,938] Trial 207 finished with value: 0.5677419354838711 and parameters: {'lr': 0.00012091294629644117, 'weight_decay': 7.618570145688404e-06}. Best is trial 24 with value: 0.8045454545454546.\n",
      "WARNING: Maximum number of iterations 32 reached. The mean may be inaccurate\n"
     ]
    },
    {
     "name": "stdout",
     "output_type": "stream",
     "text": [
      "SVD 수렴 문제 발생: SVD did not converge. 계속 진행합니다.\n"
     ]
    },
    {
     "name": "stderr",
     "output_type": "stream",
     "text": [
      "[I 2024-10-13 05:52:52,683] Trial 208 finished with value: 0.6190476190476191 and parameters: {'lr': 3.6489487949662876e-05, 'weight_decay': 2.293481243436942e-05}. Best is trial 24 with value: 0.8045454545454546.\n",
      "WARNING: Maximum number of iterations 32 reached. The mean may be inaccurate\n"
     ]
    },
    {
     "name": "stdout",
     "output_type": "stream",
     "text": [
      "SVD 수렴 문제 발생: SVD did not converge. 계속 진행합니다.\n"
     ]
    },
    {
     "name": "stderr",
     "output_type": "stream",
     "text": [
      "[I 2024-10-13 05:57:18,730] Trial 209 finished with value: 0.5987509758001561 and parameters: {'lr': 2.007666701112158e-06, 'weight_decay': 4.475818847631749e-06}. Best is trial 24 with value: 0.8045454545454546.\n",
      "WARNING: Maximum number of iterations 32 reached. The mean may be inaccurate\n"
     ]
    },
    {
     "name": "stdout",
     "output_type": "stream",
     "text": [
      "SVD 수렴 문제 발생: SVD did not converge. 계속 진행합니다.\n"
     ]
    },
    {
     "name": "stderr",
     "output_type": "stream",
     "text": [
      "[I 2024-10-13 06:01:44,149] Trial 210 finished with value: 0.7439500390320063 and parameters: {'lr': 0.00017816054590402334, 'weight_decay': 4.1012233344271477e-05}. Best is trial 24 with value: 0.8045454545454546.\n",
      "WARNING: Maximum number of iterations 32 reached. The mean may be inaccurate\n"
     ]
    },
    {
     "name": "stdout",
     "output_type": "stream",
     "text": [
      "SVD 수렴 문제 발생: SVD did not converge. 계속 진행합니다.\n"
     ]
    },
    {
     "name": "stderr",
     "output_type": "stream",
     "text": [
      "[I 2024-10-13 06:06:10,594] Trial 211 finished with value: 0.6201612903225806 and parameters: {'lr': 0.00016591343454945911, 'weight_decay': 3.8566124135370186e-05}. Best is trial 24 with value: 0.8045454545454546.\n",
      "WARNING: Maximum number of iterations 32 reached. The mean may be inaccurate\n"
     ]
    },
    {
     "name": "stdout",
     "output_type": "stream",
     "text": [
      "SVD 수렴 문제 발생: SVD did not converge. 계속 진행합니다.\n"
     ]
    },
    {
     "name": "stderr",
     "output_type": "stream",
     "text": [
      "[I 2024-10-13 06:10:30,896] Trial 212 finished with value: 0.6274871039056743 and parameters: {'lr': 0.006800765139425538, 'weight_decay': 8.754438507303136e-05}. Best is trial 24 with value: 0.8045454545454546.\n",
      "WARNING: Maximum number of iterations 32 reached. The mean may be inaccurate\n"
     ]
    },
    {
     "name": "stdout",
     "output_type": "stream",
     "text": [
      "SVD 수렴 문제 발생: SVD did not converge. 계속 진행합니다.\n"
     ]
    },
    {
     "name": "stderr",
     "output_type": "stream",
     "text": [
      "[I 2024-10-13 06:14:56,796] Trial 213 finished with value: 0.6878787878787879 and parameters: {'lr': 0.00013038522241993211, 'weight_decay': 2.8346358055807405e-05}. Best is trial 24 with value: 0.8045454545454546.\n",
      "WARNING: Maximum number of iterations 32 reached. The mean may be inaccurate\n"
     ]
    },
    {
     "name": "stdout",
     "output_type": "stream",
     "text": [
      "SVD 수렴 문제 발생: SVD did not converge. 계속 진행합니다.\n"
     ]
    },
    {
     "name": "stderr",
     "output_type": "stream",
     "text": [
      "[I 2024-10-13 06:19:23,951] Trial 214 finished with value: 0.6713505074160812 and parameters: {'lr': 0.00017997410717331778, 'weight_decay': 4.353043158362331e-05}. Best is trial 24 with value: 0.8045454545454546.\n",
      "WARNING: Maximum number of iterations 32 reached. The mean may be inaccurate\n"
     ]
    },
    {
     "name": "stdout",
     "output_type": "stream",
     "text": [
      "SVD 수렴 문제 발생: SVD did not converge. 계속 진행합니다.\n"
     ]
    },
    {
     "name": "stderr",
     "output_type": "stream",
     "text": [
      "[I 2024-10-13 06:23:50,502] Trial 215 finished with value: 0.582258064516129 and parameters: {'lr': 0.00010055648598691953, 'weight_decay': 0.003884676290441755}. Best is trial 24 with value: 0.8045454545454546.\n",
      "WARNING: Maximum number of iterations 32 reached. The mean may be inaccurate\n"
     ]
    },
    {
     "name": "stdout",
     "output_type": "stream",
     "text": [
      "SVD 수렴 문제 발생: SVD did not converge. 계속 진행합니다.\n"
     ]
    },
    {
     "name": "stderr",
     "output_type": "stream",
     "text": [
      "[I 2024-10-13 06:28:16,312] Trial 216 finished with value: 0.6479313036690086 and parameters: {'lr': 6.548279970849556e-05, 'weight_decay': 1.7315896989461785e-05}. Best is trial 24 with value: 0.8045454545454546.\n",
      "WARNING: Maximum number of iterations 32 reached. The mean may be inaccurate\n"
     ]
    },
    {
     "name": "stdout",
     "output_type": "stream",
     "text": [
      "SVD 수렴 문제 발생: SVD did not converge. 계속 진행합니다.\n"
     ]
    },
    {
     "name": "stderr",
     "output_type": "stream",
     "text": [
      "[I 2024-10-13 06:32:41,823] Trial 217 finished with value: 0.6213895394223263 and parameters: {'lr': 4.6490257798357616e-05, 'weight_decay': 0.007617448111477083}. Best is trial 24 with value: 0.8045454545454546.\n",
      "WARNING: Maximum number of iterations 32 reached. The mean may be inaccurate\n"
     ]
    },
    {
     "name": "stdout",
     "output_type": "stream",
     "text": [
      "SVD 수렴 문제 발생: SVD did not converge. 계속 진행합니다.\n"
     ]
    },
    {
     "name": "stderr",
     "output_type": "stream",
     "text": [
      "[I 2024-10-13 06:37:06,436] Trial 218 finished with value: 0.6762295081967213 and parameters: {'lr': 2.640901548883489e-05, 'weight_decay': 3.6796674426165904e-06}. Best is trial 24 with value: 0.8045454545454546.\n",
      "WARNING: Maximum number of iterations 32 reached. The mean may be inaccurate\n"
     ]
    },
    {
     "name": "stdout",
     "output_type": "stream",
     "text": [
      "SVD 수렴 문제 발생: SVD did not converge. 계속 진행합니다.\n"
     ]
    },
    {
     "name": "stderr",
     "output_type": "stream",
     "text": [
      "[I 2024-10-13 06:41:31,371] Trial 219 finished with value: 0.7606060606060605 and parameters: {'lr': 1.320910054588937e-06, 'weight_decay': 3.152069502652871e-05}. Best is trial 24 with value: 0.8045454545454546.\n",
      "WARNING: Maximum number of iterations 32 reached. The mean may be inaccurate\n"
     ]
    },
    {
     "name": "stdout",
     "output_type": "stream",
     "text": [
      "SVD 수렴 문제 발생: SVD did not converge. 계속 진행합니다.\n"
     ]
    },
    {
     "name": "stderr",
     "output_type": "stream",
     "text": [
      "[I 2024-10-13 06:45:56,651] Trial 220 finished with value: 0.7022727272727273 and parameters: {'lr': 1.371956294148894e-06, 'weight_decay': 3.269946620421173e-05}. Best is trial 24 with value: 0.8045454545454546.\n",
      "WARNING: Maximum number of iterations 32 reached. The mean may be inaccurate\n"
     ]
    },
    {
     "name": "stdout",
     "output_type": "stream",
     "text": [
      "SVD 수렴 문제 발생: SVD did not converge. 계속 진행합니다.\n"
     ]
    },
    {
     "name": "stderr",
     "output_type": "stream",
     "text": [
      "[I 2024-10-13 06:50:23,199] Trial 221 finished with value: 0.5815768930523029 and parameters: {'lr': 0.00011551321683151932, 'weight_decay': 2.4487919426802496e-05}. Best is trial 24 with value: 0.8045454545454546.\n",
      "WARNING: Maximum number of iterations 32 reached. The mean may be inaccurate\n"
     ]
    },
    {
     "name": "stdout",
     "output_type": "stream",
     "text": [
      "SVD 수렴 문제 발생: SVD did not converge. 계속 진행합니다.\n"
     ]
    },
    {
     "name": "stderr",
     "output_type": "stream",
     "text": [
      "[I 2024-10-13 06:54:49,434] Trial 222 finished with value: 0.6168017686072218 and parameters: {'lr': 2.7188777455534284e-06, 'weight_decay': 6.42010951760739e-05}. Best is trial 24 with value: 0.8045454545454546.\n",
      "WARNING: Maximum number of iterations 32 reached. The mean may be inaccurate\n",
      "[I 2024-10-13 06:59:16,326] Trial 223 finished with value: 0.6530303030303031 and parameters: {'lr': 1.7735256663958606e-05, 'weight_decay': 4.534927086134203e-05}. Best is trial 24 with value: 0.8045454545454546.\n"
     ]
    },
    {
     "name": "stdout",
     "output_type": "stream",
     "text": [
      "SVD 수렴 문제 발생: SVD did not converge. 계속 진행합니다.\n"
     ]
    },
    {
     "name": "stderr",
     "output_type": "stream",
     "text": [
      "WARNING: Maximum number of iterations 32 reached. The mean may be inaccurate\n",
      "[I 2024-10-13 07:03:41,660] Trial 224 finished with value: 0.5983870967741935 and parameters: {'lr': 1.8365637815754108e-06, 'weight_decay': 2.1541145936173833e-05}. Best is trial 24 with value: 0.8045454545454546.\n"
     ]
    },
    {
     "name": "stdout",
     "output_type": "stream",
     "text": [
      "SVD 수렴 문제 발생: SVD did not converge. 계속 진행합니다.\n"
     ]
    },
    {
     "name": "stderr",
     "output_type": "stream",
     "text": [
      "WARNING: Maximum number of iterations 32 reached. The mean may be inaccurate\n"
     ]
    },
    {
     "name": "stdout",
     "output_type": "stream",
     "text": [
      "SVD 수렴 문제 발생: SVD did not converge. 계속 진행합니다.\n"
     ]
    },
    {
     "name": "stderr",
     "output_type": "stream",
     "text": [
      "[I 2024-10-13 07:08:05,140] Trial 225 finished with value: 0.6276346604215457 and parameters: {'lr': 1.407117204928915e-06, 'weight_decay': 2.8956911664893302e-05}. Best is trial 24 with value: 0.8045454545454546.\n",
      "WARNING: Maximum number of iterations 32 reached. The mean may be inaccurate\n",
      "[I 2024-10-13 07:12:31,281] Trial 226 finished with value: 0.6399331662489558 and parameters: {'lr': 5.200957377520772e-06, 'weight_decay': 1.486534658649482e-05}. Best is trial 24 with value: 0.8045454545454546.\n"
     ]
    },
    {
     "name": "stdout",
     "output_type": "stream",
     "text": [
      "SVD 수렴 문제 발생: SVD did not converge. 계속 진행합니다.\n"
     ]
    },
    {
     "name": "stderr",
     "output_type": "stream",
     "text": [
      "WARNING: Maximum number of iterations 32 reached. The mean may be inaccurate\n"
     ]
    },
    {
     "name": "stdout",
     "output_type": "stream",
     "text": [
      "SVD 수렴 문제 발생: SVD did not converge. 계속 진행합니다.\n"
     ]
    },
    {
     "name": "stderr",
     "output_type": "stream",
     "text": [
      "[I 2024-10-13 07:16:56,213] Trial 227 finished with value: 0.6764922623434045 and parameters: {'lr': 8.568515547378736e-05, 'weight_decay': 3.7394216773605313e-05}. Best is trial 24 with value: 0.8045454545454546.\n",
      "WARNING: Maximum number of iterations 32 reached. The mean may be inaccurate\n"
     ]
    },
    {
     "name": "stdout",
     "output_type": "stream",
     "text": [
      "SVD 수렴 문제 발생: SVD did not converge. 계속 진행합니다.\n"
     ]
    },
    {
     "name": "stderr",
     "output_type": "stream",
     "text": [
      "[I 2024-10-13 07:21:21,840] Trial 228 finished with value: 0.7431818181818183 and parameters: {'lr': 1.1857548690796321e-06, 'weight_decay': 5.280416401420797e-06}. Best is trial 24 with value: 0.8045454545454546.\n",
      "WARNING: Maximum number of iterations 32 reached. The mean may be inaccurate\n"
     ]
    },
    {
     "name": "stdout",
     "output_type": "stream",
     "text": [
      "SVD 수렴 문제 발생: SVD did not converge. 계속 진행합니다.\n"
     ]
    },
    {
     "name": "stderr",
     "output_type": "stream",
     "text": [
      "[I 2024-10-13 07:25:48,269] Trial 229 finished with value: 0.7553030303030304 and parameters: {'lr': 1.021762745180368e-06, 'weight_decay': 4.2496506813347545e-06}. Best is trial 24 with value: 0.8045454545454546.\n",
      "WARNING: Maximum number of iterations 32 reached. The mean may be inaccurate\n"
     ]
    },
    {
     "name": "stdout",
     "output_type": "stream",
     "text": [
      "SVD 수렴 문제 발생: SVD did not converge. 계속 진행합니다.\n"
     ]
    },
    {
     "name": "stderr",
     "output_type": "stream",
     "text": [
      "[I 2024-10-13 07:30:14,407] Trial 230 finished with value: 0.5348484848484849 and parameters: {'lr': 1.058717292311509e-06, 'weight_decay': 5.252903351227914e-06}. Best is trial 24 with value: 0.8045454545454546.\n",
      "WARNING: Maximum number of iterations 32 reached. The mean may be inaccurate\n",
      "[I 2024-10-13 07:34:41,398] Trial 231 finished with value: 0.7024193548387098 and parameters: {'lr': 1.002107497306795e-06, 'weight_decay': 4.3720467013182105e-06}. Best is trial 24 with value: 0.8045454545454546.\n"
     ]
    },
    {
     "name": "stdout",
     "output_type": "stream",
     "text": [
      "SVD 수렴 문제 발생: SVD did not converge. 계속 진행합니다.\n"
     ]
    },
    {
     "name": "stderr",
     "output_type": "stream",
     "text": [
      "WARNING: Maximum number of iterations 32 reached. The mean may be inaccurate\n"
     ]
    },
    {
     "name": "stdout",
     "output_type": "stream",
     "text": [
      "SVD 수렴 문제 발생: SVD did not converge. 계속 진행합니다.\n"
     ]
    },
    {
     "name": "stderr",
     "output_type": "stream",
     "text": [
      "[I 2024-10-13 07:39:05,011] Trial 232 finished with value: 0.5887096774193549 and parameters: {'lr': 1.2166113066424623e-06, 'weight_decay': 3.2427731996095105e-06}. Best is trial 24 with value: 0.8045454545454546.\n",
      "WARNING: Maximum number of iterations 32 reached. The mean may be inaccurate\n",
      "[I 2024-10-13 07:43:31,746] Trial 233 finished with value: 0.6643247462919594 and parameters: {'lr': 1.4994230543813433e-06, 'weight_decay': 5.1548819658311164e-06}. Best is trial 24 with value: 0.8045454545454546.\n"
     ]
    },
    {
     "name": "stdout",
     "output_type": "stream",
     "text": [
      "SVD 수렴 문제 발생: SVD did not converge. 계속 진행합니다.\n"
     ]
    },
    {
     "name": "stderr",
     "output_type": "stream",
     "text": [
      "WARNING: Maximum number of iterations 32 reached. The mean may be inaccurate\n",
      "[I 2024-10-13 07:47:58,420] Trial 234 finished with value: 0.6947697111631538 and parameters: {'lr': 1.1694069154948049e-06, 'weight_decay': 3.782506184007146e-06}. Best is trial 24 with value: 0.8045454545454546.\n"
     ]
    },
    {
     "name": "stdout",
     "output_type": "stream",
     "text": [
      "SVD 수렴 문제 발생: SVD did not converge. 계속 진행합니다.\n"
     ]
    },
    {
     "name": "stderr",
     "output_type": "stream",
     "text": [
      "WARNING: Maximum number of iterations 32 reached. The mean may be inaccurate\n"
     ]
    },
    {
     "name": "stdout",
     "output_type": "stream",
     "text": [
      "SVD 수렴 문제 발생: SVD did not converge. 계속 진행합니다.\n"
     ]
    },
    {
     "name": "stderr",
     "output_type": "stream",
     "text": [
      "[I 2024-10-13 07:52:24,209] Trial 235 finished with value: 0.5831244778613199 and parameters: {'lr': 1.353348634721137e-06, 'weight_decay': 7.2843477932041145e-06}. Best is trial 24 with value: 0.8045454545454546.\n",
      "WARNING: Maximum number of iterations 32 reached. The mean may be inaccurate\n"
     ]
    },
    {
     "name": "stdout",
     "output_type": "stream",
     "text": [
      "SVD 수렴 문제 발생: SVD did not converge. 계속 진행합니다.\n"
     ]
    },
    {
     "name": "stderr",
     "output_type": "stream",
     "text": [
      "[I 2024-10-13 07:56:51,488] Trial 236 finished with value: 0.7134038800705467 and parameters: {'lr': 1.6353614491573494e-06, 'weight_decay': 5.623443035018134e-06}. Best is trial 24 with value: 0.8045454545454546.\n",
      "WARNING: Maximum number of iterations 32 reached. The mean may be inaccurate\n"
     ]
    },
    {
     "name": "stdout",
     "output_type": "stream",
     "text": [
      "SVD 수렴 문제 발생: SVD did not converge. 계속 진행합니다.\n"
     ]
    },
    {
     "name": "stderr",
     "output_type": "stream",
     "text": [
      "[I 2024-10-13 08:01:18,081] Trial 237 finished with value: 0.5774193548387097 and parameters: {'lr': 1.2074814552773227e-06, 'weight_decay': 4.593479318623725e-06}. Best is trial 24 with value: 0.8045454545454546.\n",
      "WARNING: Maximum number of iterations 32 reached. The mean may be inaccurate\n"
     ]
    },
    {
     "name": "stdout",
     "output_type": "stream",
     "text": [
      "SVD 수렴 문제 발생: SVD did not converge. 계속 진행합니다.\n"
     ]
    },
    {
     "name": "stderr",
     "output_type": "stream",
     "text": [
      "[I 2024-10-13 08:05:45,034] Trial 238 finished with value: 0.6333333333333333 and parameters: {'lr': 4.2563966005471116e-05, 'weight_decay': 1.964337014514039e-05}. Best is trial 24 with value: 0.8045454545454546.\n",
      "WARNING: Maximum number of iterations 32 reached. The mean may be inaccurate\n"
     ]
    },
    {
     "name": "stdout",
     "output_type": "stream",
     "text": [
      "SVD 수렴 문제 발생: SVD did not converge. 계속 진행합니다.\n"
     ]
    },
    {
     "name": "stderr",
     "output_type": "stream",
     "text": [
      "[I 2024-10-13 08:10:12,096] Trial 239 finished with value: 0.6098484848484849 and parameters: {'lr': 1.0034292075063603e-06, 'weight_decay': 0.0019414269022893374}. Best is trial 24 with value: 0.8045454545454546.\n",
      "WARNING: Maximum number of iterations 32 reached. The mean may be inaccurate\n"
     ]
    },
    {
     "name": "stdout",
     "output_type": "stream",
     "text": [
      "SVD 수렴 문제 발생: SVD did not converge. 계속 진행합니다.\n"
     ]
    },
    {
     "name": "stderr",
     "output_type": "stream",
     "text": [
      "[I 2024-10-13 08:14:39,681] Trial 240 finished with value: 0.5964090554254488 and parameters: {'lr': 5.845146650078216e-05, 'weight_decay': 3.0460402497338913e-06}. Best is trial 24 with value: 0.8045454545454546.\n",
      "WARNING: Maximum number of iterations 32 reached. The mean may be inaccurate\n"
     ]
    },
    {
     "name": "stdout",
     "output_type": "stream",
     "text": [
      "SVD 수렴 문제 발생: SVD did not converge. 계속 진행합니다.\n"
     ]
    },
    {
     "name": "stderr",
     "output_type": "stream",
     "text": [
      "[I 2024-10-13 08:19:06,395] Trial 241 finished with value: 0.6568181818181819 and parameters: {'lr': 1.2683164570785389e-06, 'weight_decay': 6.267329232163974e-06}. Best is trial 24 with value: 0.8045454545454546.\n",
      "WARNING: Maximum number of iterations 32 reached. The mean may be inaccurate\n"
     ]
    },
    {
     "name": "stdout",
     "output_type": "stream",
     "text": [
      "SVD 수렴 문제 발생: SVD did not converge. 계속 진행합니다.\n"
     ]
    },
    {
     "name": "stderr",
     "output_type": "stream",
     "text": [
      "[I 2024-10-13 08:23:32,770] Trial 242 finished with value: 0.6772727272727274 and parameters: {'lr': 0.0006741468603213447, 'weight_decay': 1.3324865599922451e-05}. Best is trial 24 with value: 0.8045454545454546.\n",
      "WARNING: Maximum number of iterations 32 reached. The mean may be inaccurate\n"
     ]
    },
    {
     "name": "stdout",
     "output_type": "stream",
     "text": [
      "SVD 수렴 문제 발생: SVD did not converge. 계속 진행합니다.\n"
     ]
    },
    {
     "name": "stderr",
     "output_type": "stream",
     "text": [
      "[I 2024-10-13 08:27:59,648] Trial 243 finished with value: 0.7268170426065164 and parameters: {'lr': 0.0001488226699593428, 'weight_decay': 3.994243918348936e-06}. Best is trial 24 with value: 0.8045454545454546.\n",
      "WARNING: Maximum number of iterations 32 reached. The mean may be inaccurate\n"
     ]
    },
    {
     "name": "stdout",
     "output_type": "stream",
     "text": [
      "SVD 수렴 문제 발생: SVD did not converge. 계속 진행합니다.\n"
     ]
    },
    {
     "name": "stderr",
     "output_type": "stream",
     "text": [
      "[I 2024-10-13 08:32:25,384] Trial 244 finished with value: 0.5370967741935484 and parameters: {'lr': 8.601827372175664e-06, 'weight_decay': 0.00018735183076508635}. Best is trial 24 with value: 0.8045454545454546.\n",
      "WARNING: Maximum number of iterations 32 reached. The mean may be inaccurate\n"
     ]
    },
    {
     "name": "stdout",
     "output_type": "stream",
     "text": [
      "SVD 수렴 문제 발생: SVD did not converge. 계속 진행합니다.\n"
     ]
    },
    {
     "name": "stderr",
     "output_type": "stream",
     "text": [
      "[I 2024-10-13 08:36:51,185] Trial 245 finished with value: 0.658069270449521 and parameters: {'lr': 2.2593057859136697e-05, 'weight_decay': 3.330448884601918e-05}. Best is trial 24 with value: 0.8045454545454546.\n",
      "WARNING: Maximum number of iterations 32 reached. The mean may be inaccurate\n"
     ]
    },
    {
     "name": "stdout",
     "output_type": "stream",
     "text": [
      "SVD 수렴 문제 발생: SVD did not converge. 계속 진행합니다.\n"
     ]
    },
    {
     "name": "stderr",
     "output_type": "stream",
     "text": [
      "[I 2024-10-13 08:41:16,979] Trial 246 finished with value: 0.670843776106934 and parameters: {'lr': 3.5438464853652114e-05, 'weight_decay': 2.6523391762259806e-05}. Best is trial 24 with value: 0.8045454545454546.\n",
      "WARNING: Maximum number of iterations 32 reached. The mean may be inaccurate\n"
     ]
    },
    {
     "name": "stdout",
     "output_type": "stream",
     "text": [
      "SVD 수렴 문제 발생: SVD did not converge. 계속 진행합니다.\n"
     ]
    },
    {
     "name": "stderr",
     "output_type": "stream",
     "text": [
      "[I 2024-10-13 08:45:43,290] Trial 247 finished with value: 0.6425269645608629 and parameters: {'lr': 5.239514762244667e-05, 'weight_decay': 1.7079431593544398e-05}. Best is trial 24 with value: 0.8045454545454546.\n",
      "WARNING: Maximum number of iterations 32 reached. The mean may be inaccurate\n"
     ]
    },
    {
     "name": "stdout",
     "output_type": "stream",
     "text": [
      "SVD 수렴 문제 발생: SVD did not converge. 계속 진행합니다.\n"
     ]
    },
    {
     "name": "stderr",
     "output_type": "stream",
     "text": [
      "[I 2024-10-13 08:50:08,554] Trial 248 finished with value: 0.6851574212893553 and parameters: {'lr': 0.0003738599582495443, 'weight_decay': 4.985982572899393e-06}. Best is trial 24 with value: 0.8045454545454546.\n",
      "WARNING: Maximum number of iterations 32 reached. The mean may be inaccurate\n"
     ]
    },
    {
     "name": "stdout",
     "output_type": "stream",
     "text": [
      "SVD 수렴 문제 발생: SVD did not converge. 계속 진행합니다.\n"
     ]
    },
    {
     "name": "stderr",
     "output_type": "stream",
     "text": [
      "[I 2024-10-13 08:54:34,316] Trial 249 finished with value: 0.6977272727272728 and parameters: {'lr': 4.254506270130002e-06, 'weight_decay': 2.3648549206730777e-06}. Best is trial 24 with value: 0.8045454545454546.\n",
      "WARNING: Maximum number of iterations 32 reached. The mean may be inaccurate\n"
     ]
    },
    {
     "name": "stdout",
     "output_type": "stream",
     "text": [
      "SVD 수렴 문제 발생: SVD did not converge. 계속 진행합니다.\n"
     ]
    },
    {
     "name": "stderr",
     "output_type": "stream",
     "text": [
      "[I 2024-10-13 08:59:00,250] Trial 250 finished with value: 0.575 and parameters: {'lr': 1.2544087024905754e-05, 'weight_decay': 3.673607868975938e-06}. Best is trial 24 with value: 0.8045454545454546.\n",
      "WARNING: Maximum number of iterations 32 reached. The mean may be inaccurate\n"
     ]
    },
    {
     "name": "stdout",
     "output_type": "stream",
     "text": [
      "SVD 수렴 문제 발생: SVD did not converge. 계속 진행합니다.\n"
     ]
    },
    {
     "name": "stderr",
     "output_type": "stream",
     "text": [
      "[I 2024-10-13 09:03:25,778] Trial 251 finished with value: 0.6840909090909091 and parameters: {'lr': 0.00010531377189795984, 'weight_decay': 2.1202445414526373e-05}. Best is trial 24 with value: 0.8045454545454546.\n",
      "WARNING: Maximum number of iterations 32 reached. The mean may be inaccurate\n",
      "[I 2024-10-13 09:07:51,597] Trial 252 finished with value: 0.6666666666666666 and parameters: {'lr': 7.248278480923904e-05, 'weight_decay': 6.606149858299794e-06}. Best is trial 24 with value: 0.8045454545454546.\n"
     ]
    },
    {
     "name": "stdout",
     "output_type": "stream",
     "text": [
      "SVD 수렴 문제 발생: SVD did not converge. 계속 진행합니다.\n"
     ]
    },
    {
     "name": "stderr",
     "output_type": "stream",
     "text": [
      "WARNING: Maximum number of iterations 32 reached. The mean may be inaccurate\n",
      "[I 2024-10-13 09:12:15,463] Trial 253 finished with value: 0.6783762685402029 and parameters: {'lr': 4.539773316033762e-05, 'weight_decay': 1.1367585607519035e-05}. Best is trial 24 with value: 0.8045454545454546.\n"
     ]
    },
    {
     "name": "stdout",
     "output_type": "stream",
     "text": [
      "SVD 수렴 문제 발생: SVD did not converge. 계속 진행합니다.\n"
     ]
    },
    {
     "name": "stderr",
     "output_type": "stream",
     "text": [
      "WARNING: Maximum number of iterations 32 reached. The mean may be inaccurate\n"
     ]
    },
    {
     "name": "stdout",
     "output_type": "stream",
     "text": [
      "SVD 수렴 문제 발생: SVD did not converge. 계속 진행합니다.\n"
     ]
    },
    {
     "name": "stderr",
     "output_type": "stream",
     "text": [
      "[I 2024-10-13 09:16:38,539] Trial 254 finished with value: 0.6189393939393939 and parameters: {'lr': 3.133032391042073e-05, 'weight_decay': 4.614802054169012e-06}. Best is trial 24 with value: 0.8045454545454546.\n",
      "WARNING: Maximum number of iterations 32 reached. The mean may be inaccurate\n"
     ]
    },
    {
     "name": "stdout",
     "output_type": "stream",
     "text": [
      "SVD 수렴 문제 발생: SVD did not converge. 계속 진행합니다.\n"
     ]
    },
    {
     "name": "stderr",
     "output_type": "stream",
     "text": [
      "[I 2024-10-13 09:21:02,975] Trial 255 finished with value: 0.6910631741140216 and parameters: {'lr': 1.707203390623066e-06, 'weight_decay': 0.00013191829147022512}. Best is trial 24 with value: 0.8045454545454546.\n",
      "WARNING: Maximum number of iterations 32 reached. The mean may be inaccurate\n"
     ]
    },
    {
     "name": "stdout",
     "output_type": "stream",
     "text": [
      "SVD 수렴 문제 발생: SVD did not converge. 계속 진행합니다.\n"
     ]
    },
    {
     "name": "stderr",
     "output_type": "stream",
     "text": [
      "[I 2024-10-13 09:25:28,685] Trial 256 finished with value: 0.6416861826697892 and parameters: {'lr': 0.00018843881051074172, 'weight_decay': 1.314886902171556e-06}. Best is trial 24 with value: 0.8045454545454546.\n",
      "WARNING: Maximum number of iterations 32 reached. The mean may be inaccurate\n"
     ]
    },
    {
     "name": "stdout",
     "output_type": "stream",
     "text": [
      "SVD 수렴 문제 발생: SVD did not converge. 계속 진행합니다.\n"
     ]
    },
    {
     "name": "stderr",
     "output_type": "stream",
     "text": [
      "[I 2024-10-13 09:29:52,818] Trial 257 finished with value: 0.6306451612903227 and parameters: {'lr': 6.7613828155454115e-06, 'weight_decay': 5.221028890550212e-05}. Best is trial 24 with value: 0.8045454545454546.\n",
      "WARNING: Maximum number of iterations 32 reached. The mean may be inaccurate\n"
     ]
    },
    {
     "name": "stdout",
     "output_type": "stream",
     "text": [
      "SVD 수렴 문제 발생: SVD did not converge. 계속 진행합니다.\n"
     ]
    },
    {
     "name": "stderr",
     "output_type": "stream",
     "text": [
      "[I 2024-10-13 09:34:18,181] Trial 258 finished with value: 0.6621212121212121 and parameters: {'lr': 1.4565750050677792e-05, 'weight_decay': 0.0002592784697971666}. Best is trial 24 with value: 0.8045454545454546.\n",
      "WARNING: Maximum number of iterations 32 reached. The mean may be inaccurate\n",
      "[I 2024-10-13 09:38:43,716] Trial 259 finished with value: 0.6620967741935484 and parameters: {'lr': 3.9616730071404334e-05, 'weight_decay': 2.4576949652781624e-05}. Best is trial 24 with value: 0.8045454545454546.\n"
     ]
    },
    {
     "name": "stdout",
     "output_type": "stream",
     "text": [
      "SVD 수렴 문제 발생: SVD did not converge. 계속 진행합니다.\n"
     ]
    },
    {
     "name": "stderr",
     "output_type": "stream",
     "text": [
      "WARNING: Maximum number of iterations 32 reached. The mean may be inaccurate\n"
     ]
    },
    {
     "name": "stdout",
     "output_type": "stream",
     "text": [
      "SVD 수렴 문제 발생: SVD did not converge. 계속 진행합니다.\n"
     ]
    },
    {
     "name": "stderr",
     "output_type": "stream",
     "text": [
      "[I 2024-10-13 09:43:06,829] Trial 260 finished with value: 0.6104605776736924 and parameters: {'lr': 0.0001220916137091215, 'weight_decay': 2.7817520435131207e-06}. Best is trial 24 with value: 0.8045454545454546.\n",
      "WARNING: Maximum number of iterations 32 reached. The mean may be inaccurate\n"
     ]
    },
    {
     "name": "stdout",
     "output_type": "stream",
     "text": [
      "SVD 수렴 문제 발생: SVD did not converge. 계속 진행합니다.\n"
     ]
    },
    {
     "name": "stderr",
     "output_type": "stream",
     "text": [
      "[I 2024-10-13 09:47:32,287] Trial 261 finished with value: 0.7121212121212122 and parameters: {'lr': 2.805324440370137e-05, 'weight_decay': 0.006182689907271452}. Best is trial 24 with value: 0.8045454545454546.\n",
      "WARNING: Maximum number of iterations 32 reached. The mean may be inaccurate\n"
     ]
    },
    {
     "name": "stdout",
     "output_type": "stream",
     "text": [
      "SVD 수렴 문제 발생: SVD did not converge. 계속 진행합니다.\n"
     ]
    },
    {
     "name": "stderr",
     "output_type": "stream",
     "text": [
      "[I 2024-10-13 09:51:57,600] Trial 262 finished with value: 0.7074652777777778 and parameters: {'lr': 8.58195676436046e-05, 'weight_decay': 1.469160806573697e-05}. Best is trial 24 with value: 0.8045454545454546.\n",
      "WARNING: Maximum number of iterations 32 reached. The mean may be inaccurate\n"
     ]
    },
    {
     "name": "stdout",
     "output_type": "stream",
     "text": [
      "SVD 수렴 문제 발생: SVD did not converge. 계속 진행합니다.\n"
     ]
    },
    {
     "name": "stderr",
     "output_type": "stream",
     "text": [
      "[I 2024-10-13 09:56:20,868] Trial 263 finished with value: 0.5772569444444444 and parameters: {'lr': 0.0018772786841982942, 'weight_decay': 9.64814142819397e-06}. Best is trial 24 with value: 0.8045454545454546.\n",
      "WARNING: Maximum number of iterations 32 reached. The mean may be inaccurate\n"
     ]
    },
    {
     "name": "stdout",
     "output_type": "stream",
     "text": [
      "SVD 수렴 문제 발생: SVD did not converge. 계속 진행합니다.\n"
     ]
    },
    {
     "name": "stderr",
     "output_type": "stream",
     "text": [
      "[I 2024-10-13 10:00:46,366] Trial 264 finished with value: 0.6323185011709602 and parameters: {'lr': 0.00013976188915276408, 'weight_decay': 5.83194702597342e-06}. Best is trial 24 with value: 0.8045454545454546.\n",
      "WARNING: Maximum number of iterations 32 reached. The mean may be inaccurate\n",
      "[I 2024-10-13 10:05:12,673] Trial 265 finished with value: 0.6886363636363637 and parameters: {'lr': 1.3376764402784102e-06, 'weight_decay': 3.703493796163788e-06}. Best is trial 24 with value: 0.8045454545454546.\n"
     ]
    },
    {
     "name": "stdout",
     "output_type": "stream",
     "text": [
      "SVD 수렴 문제 발생: SVD did not converge. 계속 진행합니다.\n"
     ]
    },
    {
     "name": "stderr",
     "output_type": "stream",
     "text": [
      "WARNING: Maximum number of iterations 32 reached. The mean may be inaccurate\n"
     ]
    },
    {
     "name": "stdout",
     "output_type": "stream",
     "text": [
      "SVD 수렴 문제 발생: SVD did not converge. 계속 진행합니다.\n"
     ]
    },
    {
     "name": "stderr",
     "output_type": "stream",
     "text": [
      "[I 2024-10-13 10:09:37,192] Trial 266 finished with value: 0.6401249024199844 and parameters: {'lr': 5.761759772783334e-05, 'weight_decay': 3.1006374967597554e-05}. Best is trial 24 with value: 0.8045454545454546.\n",
      "WARNING: Maximum number of iterations 32 reached. The mean may be inaccurate\n"
     ]
    },
    {
     "name": "stdout",
     "output_type": "stream",
     "text": [
      "SVD 수렴 문제 발생: SVD did not converge. 계속 진행합니다.\n"
     ]
    },
    {
     "name": "stderr",
     "output_type": "stream",
     "text": [
      "[I 2024-10-13 10:14:03,001] Trial 267 finished with value: 0.7462121212121212 and parameters: {'lr': 5.0065632817998906e-05, 'weight_decay': 1.0026607445136142e-06}. Best is trial 24 with value: 0.8045454545454546.\n",
      "WARNING: Maximum number of iterations 32 reached. The mean may be inaccurate\n"
     ]
    },
    {
     "name": "stdout",
     "output_type": "stream",
     "text": [
      "SVD 수렴 문제 발생: SVD did not converge. 계속 진행합니다.\n"
     ]
    },
    {
     "name": "stderr",
     "output_type": "stream",
     "text": [
      "[I 2024-10-13 10:18:27,999] Trial 268 finished with value: 0.7024193548387098 and parameters: {'lr': 5.0163568694442416e-05, 'weight_decay': 0.0010208340167529937}. Best is trial 24 with value: 0.8045454545454546.\n",
      "WARNING: Maximum number of iterations 32 reached. The mean may be inaccurate\n"
     ]
    },
    {
     "name": "stdout",
     "output_type": "stream",
     "text": [
      "SVD 수렴 문제 발생: SVD did not converge. 계속 진행합니다.\n"
     ]
    },
    {
     "name": "stderr",
     "output_type": "stream",
     "text": [
      "[I 2024-10-13 10:22:52,943] Trial 269 finished with value: 0.6190125276344879 and parameters: {'lr': 6.631588186226471e-05, 'weight_decay': 1.8308455973196255e-05}. Best is trial 24 with value: 0.8045454545454546.\n",
      "WARNING: Maximum number of iterations 32 reached. The mean may be inaccurate\n"
     ]
    },
    {
     "name": "stdout",
     "output_type": "stream",
     "text": [
      "SVD 수렴 문제 발생: SVD did not converge. 계속 진행합니다.\n"
     ]
    },
    {
     "name": "stderr",
     "output_type": "stream",
     "text": [
      "[I 2024-10-13 10:27:18,585] Trial 270 finished with value: 0.6018735362997658 and parameters: {'lr': 3.7245060045735806e-05, 'weight_decay': 7.024650305855759e-06}. Best is trial 24 with value: 0.8045454545454546.\n",
      "WARNING: Maximum number of iterations 32 reached. The mean may be inaccurate\n"
     ]
    },
    {
     "name": "stdout",
     "output_type": "stream",
     "text": [
      "SVD 수렴 문제 발생: SVD did not converge. 계속 진행합니다.\n"
     ]
    },
    {
     "name": "stderr",
     "output_type": "stream",
     "text": [
      "[I 2024-10-13 10:31:44,031] Trial 271 finished with value: 0.6087301587301587 and parameters: {'lr': 1.086419609669155e-05, 'weight_decay': 2.4663250061892858e-05}. Best is trial 24 with value: 0.8045454545454546.\n",
      "WARNING: Maximum number of iterations 32 reached. The mean may be inaccurate\n"
     ]
    },
    {
     "name": "stdout",
     "output_type": "stream",
     "text": [
      "SVD 수렴 문제 발생: SVD did not converge. 계속 진행합니다.\n"
     ]
    },
    {
     "name": "stderr",
     "output_type": "stream",
     "text": [
      "[I 2024-10-13 10:36:09,849] Trial 272 finished with value: 0.7476190476190476 and parameters: {'lr': 4.747338836642251e-05, 'weight_decay': 4.40811509553855e-06}. Best is trial 24 with value: 0.8045454545454546.\n",
      "WARNING: Maximum number of iterations 32 reached. The mean may be inaccurate\n"
     ]
    },
    {
     "name": "stdout",
     "output_type": "stream",
     "text": [
      "SVD 수렴 문제 발생: SVD did not converge. 계속 진행합니다.\n"
     ]
    },
    {
     "name": "stderr",
     "output_type": "stream",
     "text": [
      "[I 2024-10-13 10:40:35,824] Trial 273 finished with value: 0.6217741935483871 and parameters: {'lr': 4.7274935850990495e-05, 'weight_decay': 1.2254527676723993e-05}. Best is trial 24 with value: 0.8045454545454546.\n",
      "WARNING: Maximum number of iterations 32 reached. The mean may be inaccurate\n"
     ]
    },
    {
     "name": "stdout",
     "output_type": "stream",
     "text": [
      "SVD 수렴 문제 발생: SVD did not converge. 계속 진행합니다.\n"
     ]
    },
    {
     "name": "stderr",
     "output_type": "stream",
     "text": [
      "[I 2024-10-13 10:45:03,147] Trial 274 finished with value: 0.6198282591725215 and parameters: {'lr': 5.840051596405864e-05, 'weight_decay': 4.344111499667371e-06}. Best is trial 24 with value: 0.8045454545454546.\n",
      "WARNING: Maximum number of iterations 32 reached. The mean may be inaccurate\n"
     ]
    },
    {
     "name": "stdout",
     "output_type": "stream",
     "text": [
      "SVD 수렴 문제 발생: SVD did not converge. 계속 진행합니다.\n"
     ]
    },
    {
     "name": "stderr",
     "output_type": "stream",
     "text": [
      "[I 2024-10-13 10:49:29,536] Trial 275 finished with value: 0.7243920412675018 and parameters: {'lr': 7.147260382675202e-05, 'weight_decay': 0.004433209673645979}. Best is trial 24 with value: 0.8045454545454546.\n",
      "WARNING: Maximum number of iterations 32 reached. The mean may be inaccurate\n"
     ]
    },
    {
     "name": "stdout",
     "output_type": "stream",
     "text": [
      "SVD 수렴 문제 발생: SVD did not converge. 계속 진행합니다.\n"
     ]
    },
    {
     "name": "stderr",
     "output_type": "stream",
     "text": [
      "[I 2024-10-13 10:53:56,239] Trial 276 finished with value: 0.6744730679156908 and parameters: {'lr': 1.0228076219067422e-06, 'weight_decay': 3.9468555485099625e-05}. Best is trial 24 with value: 0.8045454545454546.\n",
      "WARNING: Maximum number of iterations 32 reached. The mean may be inaccurate\n"
     ]
    },
    {
     "name": "stdout",
     "output_type": "stream",
     "text": [
      "SVD 수렴 문제 발생: SVD did not converge. 계속 진행합니다.\n"
     ]
    },
    {
     "name": "stderr",
     "output_type": "stream",
     "text": [
      "[I 2024-10-13 10:58:23,505] Trial 277 finished with value: 0.6530303030303031 and parameters: {'lr': 4.4374721958536735e-05, 'weight_decay': 1.7821611735093073e-05}. Best is trial 24 with value: 0.8045454545454546.\n",
      "WARNING: Maximum number of iterations 32 reached. The mean may be inaccurate\n"
     ]
    },
    {
     "name": "stdout",
     "output_type": "stream",
     "text": [
      "SVD 수렴 문제 발생: SVD did not converge. 계속 진행합니다.\n"
     ]
    },
    {
     "name": "stderr",
     "output_type": "stream",
     "text": [
      "[I 2024-10-13 11:02:50,559] Trial 278 finished with value: 0.7161290322580645 and parameters: {'lr': 5.886887636974103e-05, 'weight_decay': 1.0666552765353564e-06}. Best is trial 24 with value: 0.8045454545454546.\n",
      "WARNING: Maximum number of iterations 32 reached. The mean may be inaccurate\n"
     ]
    },
    {
     "name": "stdout",
     "output_type": "stream",
     "text": [
      "SVD 수렴 문제 발생: SVD did not converge. 계속 진행합니다.\n"
     ]
    },
    {
     "name": "stderr",
     "output_type": "stream",
     "text": [
      "[I 2024-10-13 11:07:18,580] Trial 279 finished with value: 0.6479313036690086 and parameters: {'lr': 9.339320377287031e-05, 'weight_decay': 4.986591952385325e-06}. Best is trial 24 with value: 0.8045454545454546.\n",
      "WARNING: Maximum number of iterations 32 reached. The mean may be inaccurate\n"
     ]
    },
    {
     "name": "stdout",
     "output_type": "stream",
     "text": [
      "SVD 수렴 문제 발생: SVD did not converge. 계속 진행합니다.\n"
     ]
    },
    {
     "name": "stderr",
     "output_type": "stream",
     "text": [
      "[I 2024-10-13 11:11:46,201] Trial 280 finished with value: 0.5969049373618276 and parameters: {'lr': 3.865651178823546e-05, 'weight_decay': 8.4148833639696e-06}. Best is trial 24 with value: 0.8045454545454546.\n",
      "WARNING: Maximum number of iterations 32 reached. The mean may be inaccurate\n"
     ]
    },
    {
     "name": "stdout",
     "output_type": "stream",
     "text": [
      "SVD 수렴 문제 발생: SVD did not converge. 계속 진행합니다.\n"
     ]
    },
    {
     "name": "stderr",
     "output_type": "stream",
     "text": [
      "[I 2024-10-13 11:16:13,673] Trial 281 finished with value: 0.6378787878787879 and parameters: {'lr': 4.956651387007408e-05, 'weight_decay': 3.1458727051612257e-06}. Best is trial 24 with value: 0.8045454545454546.\n",
      "WARNING: Maximum number of iterations 32 reached. The mean may be inaccurate\n"
     ]
    },
    {
     "name": "stdout",
     "output_type": "stream",
     "text": [
      "SVD 수렴 문제 발생: SVD did not converge. 계속 진행합니다.\n"
     ]
    },
    {
     "name": "stderr",
     "output_type": "stream",
     "text": [
      "[I 2024-10-13 11:20:42,506] Trial 282 finished with value: 0.6783762685402029 and parameters: {'lr': 2.285900396046736e-06, 'weight_decay': 2.0937487673226315e-05}. Best is trial 24 with value: 0.8045454545454546.\n",
      "WARNING: Maximum number of iterations 32 reached. The mean may be inaccurate\n"
     ]
    },
    {
     "name": "stdout",
     "output_type": "stream",
     "text": [
      "SVD 수렴 문제 발생: SVD did not converge. 계속 진행합니다.\n"
     ]
    },
    {
     "name": "stderr",
     "output_type": "stream",
     "text": [
      "[I 2024-10-13 11:25:11,141] Trial 283 finished with value: 0.7064793130366901 and parameters: {'lr': 1.6669480416591786e-06, 'weight_decay': 5.6566286984450446e-06}. Best is trial 24 with value: 0.8045454545454546.\n",
      "WARNING: Maximum number of iterations 32 reached. The mean may be inaccurate\n"
     ]
    },
    {
     "name": "stdout",
     "output_type": "stream",
     "text": [
      "SVD 수렴 문제 발생: SVD did not converge. 계속 진행합니다.\n"
     ]
    },
    {
     "name": "stderr",
     "output_type": "stream",
     "text": [
      "[I 2024-10-13 11:29:39,673] Trial 284 finished with value: 0.667447306791569 and parameters: {'lr': 1.1413101644017126e-06, 'weight_decay': 1.468727730443607e-05}. Best is trial 24 with value: 0.8045454545454546.\n",
      "WARNING: Maximum number of iterations 32 reached. The mean may be inaccurate\n"
     ]
    },
    {
     "name": "stdout",
     "output_type": "stream",
     "text": [
      "SVD 수렴 문제 발생: SVD did not converge. 계속 진행합니다.\n"
     ]
    },
    {
     "name": "stderr",
     "output_type": "stream",
     "text": [
      "[I 2024-10-13 11:34:08,438] Trial 285 finished with value: 0.6298387096774193 and parameters: {'lr': 7.618539350904018e-05, 'weight_decay': 3.050173118855704e-05}. Best is trial 24 with value: 0.8045454545454546.\n",
      "WARNING: Maximum number of iterations 32 reached. The mean may be inaccurate\n"
     ]
    },
    {
     "name": "stdout",
     "output_type": "stream",
     "text": [
      "SVD 수렴 문제 발생: SVD did not converge. 계속 진행합니다.\n"
     ]
    },
    {
     "name": "stderr",
     "output_type": "stream",
     "text": [
      "[I 2024-10-13 11:38:37,532] Trial 286 finished with value: 0.6377829820452771 and parameters: {'lr': 3.3449634843444786e-05, 'weight_decay': 3.989561466412734e-06}. Best is trial 24 with value: 0.8045454545454546.\n",
      "WARNING: Maximum number of iterations 32 reached. The mean may be inaccurate\n"
     ]
    },
    {
     "name": "stdout",
     "output_type": "stream",
     "text": [
      "SVD 수렴 문제 발생: SVD did not converge. 계속 진행합니다.\n"
     ]
    },
    {
     "name": "stderr",
     "output_type": "stream",
     "text": [
      "[I 2024-10-13 11:43:07,007] Trial 287 finished with value: 0.7540983606557377 and parameters: {'lr': 1.434751879171909e-06, 'weight_decay': 2.628504749724091e-05}. Best is trial 24 with value: 0.8045454545454546.\n",
      "WARNING: Maximum number of iterations 32 reached. The mean may be inaccurate\n",
      "[I 2024-10-13 11:47:38,350] Trial 288 finished with value: 0.6734848484848485 and parameters: {'lr': 5.271198369104518e-05, 'weight_decay': 2.8401450016553022e-05}. Best is trial 24 with value: 0.8045454545454546.\n"
     ]
    },
    {
     "name": "stdout",
     "output_type": "stream",
     "text": [
      "SVD 수렴 문제 발생: SVD did not converge. 계속 진행합니다.\n"
     ]
    },
    {
     "name": "stderr",
     "output_type": "stream",
     "text": [
      "WARNING: Maximum number of iterations 32 reached. The mean may be inaccurate\n"
     ]
    },
    {
     "name": "stdout",
     "output_type": "stream",
     "text": [
      "SVD 수렴 문제 발생: SVD did not converge. 계속 진행합니다.\n"
     ]
    },
    {
     "name": "stderr",
     "output_type": "stream",
     "text": [
      "[I 2024-10-13 11:52:05,891] Trial 289 finished with value: 0.6791569086651054 and parameters: {'lr': 1.7206977136064198e-05, 'weight_decay': 2.4335566581125295e-05}. Best is trial 24 with value: 0.8045454545454546.\n",
      "WARNING: Maximum number of iterations 32 reached. The mean may be inaccurate\n"
     ]
    },
    {
     "name": "stdout",
     "output_type": "stream",
     "text": [
      "SVD 수렴 문제 발생: SVD did not converge. 계속 진행합니다.\n"
     ]
    },
    {
     "name": "stderr",
     "output_type": "stream",
     "text": [
      "[I 2024-10-13 11:56:33,809] Trial 290 finished with value: 0.5288624787775891 and parameters: {'lr': 3.629557656428102e-06, 'weight_decay': 4.173864428953944e-05}. Best is trial 24 with value: 0.8045454545454546.\n",
      "WARNING: Maximum number of iterations 32 reached. The mean may be inaccurate\n"
     ]
    },
    {
     "name": "stdout",
     "output_type": "stream",
     "text": [
      "SVD 수렴 문제 발생: SVD did not converge. 계속 진행합니다.\n"
     ]
    },
    {
     "name": "stderr",
     "output_type": "stream",
     "text": [
      "[I 2024-10-13 12:01:01,921] Trial 291 finished with value: 0.6129032258064515 and parameters: {'lr': 1.3996676040035687e-06, 'weight_decay': 3.425931456276731e-05}. Best is trial 24 with value: 0.8045454545454546.\n",
      "WARNING: Maximum number of iterations 32 reached. The mean may be inaccurate\n"
     ]
    },
    {
     "name": "stdout",
     "output_type": "stream",
     "text": [
      "SVD 수렴 문제 발생: SVD did not converge. 계속 진행합니다.\n"
     ]
    },
    {
     "name": "stderr",
     "output_type": "stream",
     "text": [
      "[I 2024-10-13 12:05:31,102] Trial 292 finished with value: 0.6733870967741935 and parameters: {'lr': 4.275465231641778e-05, 'weight_decay': 1.5002646455409987e-05}. Best is trial 24 with value: 0.8045454545454546.\n",
      "WARNING: Maximum number of iterations 32 reached. The mean may be inaccurate\n"
     ]
    },
    {
     "name": "stdout",
     "output_type": "stream",
     "text": [
      "SVD 수렴 문제 발생: SVD did not converge. 계속 진행합니다.\n"
     ]
    },
    {
     "name": "stderr",
     "output_type": "stream",
     "text": [
      "[I 2024-10-13 12:09:59,759] Trial 293 finished with value: 0.7065972222222222 and parameters: {'lr': 0.0005023679022252024, 'weight_decay': 2.0693510037140547e-05}. Best is trial 24 with value: 0.8045454545454546.\n",
      "WARNING: Maximum number of iterations 32 reached. The mean may be inaccurate\n"
     ]
    },
    {
     "name": "stdout",
     "output_type": "stream",
     "text": [
      "SVD 수렴 문제 발생: SVD did not converge. 계속 진행합니다.\n"
     ]
    },
    {
     "name": "stderr",
     "output_type": "stream",
     "text": [
      "[I 2024-10-13 12:14:29,235] Trial 294 finished with value: 0.6401249024199844 and parameters: {'lr': 6.389476190736909e-05, 'weight_decay': 2.4352354420978934e-05}. Best is trial 24 with value: 0.8045454545454546.\n",
      "WARNING: Maximum number of iterations 32 reached. The mean may be inaccurate\n"
     ]
    },
    {
     "name": "stdout",
     "output_type": "stream",
     "text": [
      "SVD 수렴 문제 발생: SVD did not converge. 계속 진행합니다.\n"
     ]
    },
    {
     "name": "stderr",
     "output_type": "stream",
     "text": [
      "[I 2024-10-13 12:18:57,841] Trial 295 finished with value: 0.5563743551952837 and parameters: {'lr': 0.00010398520183689948, 'weight_decay': 1.1025522708968478e-05}. Best is trial 24 with value: 0.8045454545454546.\n",
      "WARNING: Maximum number of iterations 32 reached. The mean may be inaccurate\n"
     ]
    },
    {
     "name": "stdout",
     "output_type": "stream",
     "text": [
      "SVD 수렴 문제 발생: SVD did not converge. 계속 진행합니다.\n"
     ]
    },
    {
     "name": "stderr",
     "output_type": "stream",
     "text": [
      "[I 2024-10-13 12:23:26,445] Trial 296 finished with value: 0.7242424242424242 and parameters: {'lr': 1.9363373614988117e-06, 'weight_decay': 9.204063492704957e-05}. Best is trial 24 with value: 0.8045454545454546.\n",
      "WARNING: Maximum number of iterations 32 reached. The mean may be inaccurate\n"
     ]
    },
    {
     "name": "stdout",
     "output_type": "stream",
     "text": [
      "SVD 수렴 문제 발생: SVD did not converge. 계속 진행합니다.\n"
     ]
    },
    {
     "name": "stderr",
     "output_type": "stream",
     "text": [
      "[I 2024-10-13 12:27:55,825] Trial 297 finished with value: 0.6591478696741855 and parameters: {'lr': 8.387230640188936e-05, 'weight_decay': 1.7098812982919013e-05}. Best is trial 24 with value: 0.8045454545454546.\n",
      "WARNING: Maximum number of iterations 32 reached. The mean may be inaccurate\n"
     ]
    },
    {
     "name": "stdout",
     "output_type": "stream",
     "text": [
      "SVD 수렴 문제 발생: SVD did not converge. 계속 진행합니다.\n"
     ]
    },
    {
     "name": "stderr",
     "output_type": "stream",
     "text": [
      "[I 2024-10-13 12:32:23,215] Trial 298 finished with value: 0.6809137803979366 and parameters: {'lr': 0.0010520984664992193, 'weight_decay': 3.447901209627473e-06}. Best is trial 24 with value: 0.8045454545454546.\n",
      "WARNING: Maximum number of iterations 32 reached. The mean may be inaccurate\n"
     ]
    },
    {
     "name": "stdout",
     "output_type": "stream",
     "text": [
      "SVD 수렴 문제 발생: SVD did not converge. 계속 진행합니다.\n"
     ]
    },
    {
     "name": "stderr",
     "output_type": "stream",
     "text": [
      "[I 2024-10-13 12:36:51,826] Trial 299 finished with value: 0.5417642466822794 and parameters: {'lr': 5.810738677733163e-06, 'weight_decay': 7.3592589082137975e-06}. Best is trial 24 with value: 0.8045454545454546.\n",
      "WARNING: Maximum number of iterations 32 reached. The mean may be inaccurate\n"
     ]
    },
    {
     "name": "stdout",
     "output_type": "stream",
     "text": [
      "SVD 수렴 문제 발생: SVD did not converge. 계속 진행합니다.\n"
     ]
    },
    {
     "name": "stderr",
     "output_type": "stream",
     "text": [
      "[I 2024-10-13 12:41:16,850] Trial 300 finished with value: 0.5306451612903226 and parameters: {'lr': 0.003130378903877908, 'weight_decay': 5.4996420300959596e-06}. Best is trial 24 with value: 0.8045454545454546.\n",
      "WARNING: Maximum number of iterations 32 reached. The mean may be inaccurate\n"
     ]
    },
    {
     "name": "stdout",
     "output_type": "stream",
     "text": [
      "SVD 수렴 문제 발생: SVD did not converge. 계속 진행합니다.\n"
     ]
    },
    {
     "name": "stderr",
     "output_type": "stream",
     "text": [
      "[I 2024-10-13 12:45:46,146] Trial 301 finished with value: 0.6120218579234973 and parameters: {'lr': 3.503209859369837e-05, 'weight_decay': 2.080880816879151e-06}. Best is trial 24 with value: 0.8045454545454546.\n",
      "WARNING: Maximum number of iterations 32 reached. The mean may be inaccurate\n"
     ]
    },
    {
     "name": "stdout",
     "output_type": "stream",
     "text": [
      "SVD 수렴 문제 발생: SVD did not converge. 계속 진행합니다.\n"
     ]
    },
    {
     "name": "stderr",
     "output_type": "stream",
     "text": [
      "[I 2024-10-13 12:50:15,116] Trial 302 finished with value: 0.6674242424242424 and parameters: {'lr': 2.7986004817286035e-06, 'weight_decay': 3.602492268259952e-05}. Best is trial 24 with value: 0.8045454545454546.\n",
      "WARNING: Maximum number of iterations 32 reached. The mean may be inaccurate\n"
     ]
    },
    {
     "name": "stdout",
     "output_type": "stream",
     "text": [
      "SVD 수렴 문제 발생: SVD did not converge. 계속 진행합니다.\n"
     ]
    },
    {
     "name": "stderr",
     "output_type": "stream",
     "text": [
      "[I 2024-10-13 12:54:44,879] Trial 303 finished with value: 0.5912698412698412 and parameters: {'lr': 1.0052567381882208e-06, 'weight_decay': 4.720795350390047e-06}. Best is trial 24 with value: 0.8045454545454546.\n",
      "WARNING: Maximum number of iterations 32 reached. The mean may be inaccurate\n"
     ]
    },
    {
     "name": "stdout",
     "output_type": "stream",
     "text": [
      "SVD 수렴 문제 발생: SVD did not converge. 계속 진행합니다.\n"
     ]
    },
    {
     "name": "stderr",
     "output_type": "stream",
     "text": [
      "[I 2024-10-13 12:59:14,132] Trial 304 finished with value: 0.6037878787878788 and parameters: {'lr': 5.065820961827373e-05, 'weight_decay': 0.0005497361528763153}. Best is trial 24 with value: 0.8045454545454546.\n",
      "WARNING: Maximum number of iterations 32 reached. The mean may be inaccurate\n"
     ]
    },
    {
     "name": "stdout",
     "output_type": "stream",
     "text": [
      "SVD 수렴 문제 발생: SVD did not converge. 계속 진행합니다.\n"
     ]
    },
    {
     "name": "stderr",
     "output_type": "stream",
     "text": [
      "[I 2024-10-13 13:03:43,562] Trial 305 finished with value: 0.6404761904761904 and parameters: {'lr': 2.6238925107594572e-05, 'weight_decay': 2.8763399147290045e-05}. Best is trial 24 with value: 0.8045454545454546.\n",
      "WARNING: Maximum number of iterations 32 reached. The mean may be inaccurate\n"
     ]
    },
    {
     "name": "stdout",
     "output_type": "stream",
     "text": [
      "SVD 수렴 문제 발생: SVD did not converge. 계속 진행합니다.\n"
     ]
    },
    {
     "name": "stderr",
     "output_type": "stream",
     "text": [
      "[I 2024-10-13 13:08:12,985] Trial 306 finished with value: 0.6900858704137391 and parameters: {'lr': 4.094905638673978e-05, 'weight_decay': 9.554997620313823e-06}. Best is trial 24 with value: 0.8045454545454546.\n",
      "WARNING: Maximum number of iterations 32 reached. The mean may be inaccurate\n"
     ]
    },
    {
     "name": "stdout",
     "output_type": "stream",
     "text": [
      "SVD 수렴 문제 발생: SVD did not converge. 계속 진행합니다.\n"
     ]
    },
    {
     "name": "stderr",
     "output_type": "stream",
     "text": [
      "[I 2024-10-13 13:12:44,029] Trial 307 finished with value: 0.6198830409356725 and parameters: {'lr': 8.878790541505144e-06, 'weight_decay': 2.753663435101882e-06}. Best is trial 24 with value: 0.8045454545454546.\n",
      "WARNING: Maximum number of iterations 32 reached. The mean may be inaccurate\n"
     ]
    },
    {
     "name": "stdout",
     "output_type": "stream",
     "text": [
      "SVD 수렴 문제 발생: SVD did not converge. 계속 진행합니다.\n"
     ]
    },
    {
     "name": "stderr",
     "output_type": "stream",
     "text": [
      "[I 2024-10-13 13:17:15,278] Trial 308 finished with value: 0.6446969696969698 and parameters: {'lr': 6.903841376258176e-05, 'weight_decay': 1.6675477841412872e-06}. Best is trial 24 with value: 0.8045454545454546.\n",
      "WARNING: Maximum number of iterations 32 reached. The mean may be inaccurate\n"
     ]
    },
    {
     "name": "stdout",
     "output_type": "stream",
     "text": [
      "SVD 수렴 문제 발생: SVD did not converge. 계속 진행합니다.\n"
     ]
    },
    {
     "name": "stderr",
     "output_type": "stream",
     "text": [
      "[I 2024-10-13 13:21:46,717] Trial 309 finished with value: 0.7284878863826233 and parameters: {'lr': 2.0096409467515293e-05, 'weight_decay': 4.9416275482575095e-05}. Best is trial 24 with value: 0.8045454545454546.\n",
      "WARNING: Maximum number of iterations 32 reached. The mean may be inaccurate\n"
     ]
    },
    {
     "name": "stdout",
     "output_type": "stream",
     "text": [
      "SVD 수렴 문제 발생: SVD did not converge. 계속 진행합니다.\n"
     ]
    },
    {
     "name": "stderr",
     "output_type": "stream",
     "text": [
      "[I 2024-10-13 13:26:17,827] Trial 310 finished with value: 0.5454545454545454 and parameters: {'lr': 1.5545354372381296e-06, 'weight_decay': 2.0801926918663213e-05}. Best is trial 24 with value: 0.8045454545454546.\n",
      "WARNING: Maximum number of iterations 32 reached. The mean may be inaccurate\n"
     ]
    },
    {
     "name": "stdout",
     "output_type": "stream",
     "text": [
      "SVD 수렴 문제 발생: SVD did not converge. 계속 진행합니다.\n"
     ]
    },
    {
     "name": "stderr",
     "output_type": "stream",
     "text": [
      "[I 2024-10-13 13:30:48,689] Trial 311 finished with value: 0.6908665105386417 and parameters: {'lr': 1.2286419298219145e-06, 'weight_decay': 6.5329668986881354e-06}. Best is trial 24 with value: 0.8045454545454546.\n",
      "WARNING: Maximum number of iterations 32 reached. The mean may be inaccurate\n"
     ]
    },
    {
     "name": "stdout",
     "output_type": "stream",
     "text": [
      "SVD 수렴 문제 발생: SVD did not converge. 계속 진행합니다.\n"
     ]
    },
    {
     "name": "stderr",
     "output_type": "stream",
     "text": [
      "[I 2024-10-13 13:35:19,228] Trial 312 finished with value: 0.7571428571428571 and parameters: {'lr': 2.9121662251586267e-05, 'weight_decay': 4.301402457656672e-06}. Best is trial 24 with value: 0.8045454545454546.\n",
      "WARNING: Maximum number of iterations 32 reached. The mean may be inaccurate\n"
     ]
    },
    {
     "name": "stdout",
     "output_type": "stream",
     "text": [
      "SVD 수렴 문제 발생: SVD did not converge. 계속 진행합니다.\n"
     ]
    },
    {
     "name": "stderr",
     "output_type": "stream",
     "text": [
      "[I 2024-10-13 13:39:49,883] Trial 313 finished with value: 0.6900858704137393 and parameters: {'lr': 3.0283184453813556e-05, 'weight_decay': 3.96997850556493e-06}. Best is trial 24 with value: 0.8045454545454546.\n",
      "WARNING: Maximum number of iterations 32 reached. The mean may be inaccurate\n"
     ]
    },
    {
     "name": "stdout",
     "output_type": "stream",
     "text": [
      "SVD 수렴 문제 발생: SVD did not converge. 계속 진행합니다.\n"
     ]
    },
    {
     "name": "stderr",
     "output_type": "stream",
     "text": [
      "[I 2024-10-13 13:44:21,295] Trial 314 finished with value: 0.6887096774193548 and parameters: {'lr': 2.996998826705385e-05, 'weight_decay': 4.512854218064553e-06}. Best is trial 24 with value: 0.8045454545454546.\n",
      "WARNING: Maximum number of iterations 32 reached. The mean may be inaccurate\n"
     ]
    },
    {
     "name": "stdout",
     "output_type": "stream",
     "text": [
      "SVD 수렴 문제 발생: SVD did not converge. 계속 진행합니다.\n"
     ]
    },
    {
     "name": "stderr",
     "output_type": "stream",
     "text": [
      "[I 2024-10-13 13:48:51,474] Trial 315 finished with value: 0.5961680176860722 and parameters: {'lr': 4.2867894518152795e-05, 'weight_decay': 3.4249093208532467e-06}. Best is trial 24 with value: 0.8045454545454546.\n",
      "WARNING: Maximum number of iterations 32 reached. The mean may be inaccurate\n"
     ]
    },
    {
     "name": "stdout",
     "output_type": "stream",
     "text": [
      "SVD 수렴 문제 발생: SVD did not converge. 계속 진행합니다.\n"
     ]
    },
    {
     "name": "stderr",
     "output_type": "stream",
     "text": [
      "[I 2024-10-13 13:53:22,921] Trial 316 finished with value: 0.5415959252971138 and parameters: {'lr': 3.556899462476387e-05, 'weight_decay': 5.717267646762037e-06}. Best is trial 24 with value: 0.8045454545454546.\n",
      "WARNING: Maximum number of iterations 32 reached. The mean may be inaccurate\n"
     ]
    },
    {
     "name": "stdout",
     "output_type": "stream",
     "text": [
      "SVD 수렴 문제 발생: SVD did not converge. 계속 진행합니다.\n"
     ]
    },
    {
     "name": "stderr",
     "output_type": "stream",
     "text": [
      "[I 2024-10-13 13:57:54,748] Trial 317 finished with value: 0.6771956856702619 and parameters: {'lr': 2.4238795622629375e-05, 'weight_decay': 1.2831853188905676e-05}. Best is trial 24 with value: 0.8045454545454546.\n",
      "WARNING: Maximum number of iterations 32 reached. The mean may be inaccurate\n"
     ]
    },
    {
     "name": "stdout",
     "output_type": "stream",
     "text": [
      "SVD 수렴 문제 발생: SVD did not converge. 계속 진행합니다.\n"
     ]
    },
    {
     "name": "stderr",
     "output_type": "stream",
     "text": [
      "[I 2024-10-13 14:02:26,937] Trial 318 finished with value: 0.6697892271662764 and parameters: {'lr': 0.00011789043904622808, 'weight_decay': 4.249379325059749e-06}. Best is trial 24 with value: 0.8045454545454546.\n",
      "WARNING: Maximum number of iterations 32 reached. The mean may be inaccurate\n"
     ]
    },
    {
     "name": "stdout",
     "output_type": "stream",
     "text": [
      "SVD 수렴 문제 발생: SVD did not converge. 계속 진행합니다.\n"
     ]
    },
    {
     "name": "stderr",
     "output_type": "stream",
     "text": [
      "[I 2024-10-13 14:06:59,191] Trial 319 finished with value: 0.687743950039032 and parameters: {'lr': 5.650328893215834e-05, 'weight_decay': 5.224159679955741e-06}. Best is trial 24 with value: 0.8045454545454546.\n",
      "WARNING: Maximum number of iterations 32 reached. The mean may be inaccurate\n"
     ]
    },
    {
     "name": "stdout",
     "output_type": "stream",
     "text": [
      "SVD 수렴 문제 발생: SVD did not converge. 계속 진행합니다.\n"
     ]
    },
    {
     "name": "stderr",
     "output_type": "stream",
     "text": [
      "[I 2024-10-13 14:11:31,163] Trial 320 finished with value: 0.6431818181818183 and parameters: {'lr': 4.913433531093517e-05, 'weight_decay': 2.9842212611200433e-06}. Best is trial 24 with value: 0.8045454545454546.\n",
      "WARNING: Maximum number of iterations 32 reached. The mean may be inaccurate\n"
     ]
    },
    {
     "name": "stdout",
     "output_type": "stream",
     "text": [
      "SVD 수렴 문제 발생: SVD did not converge. 계속 진행합니다.\n"
     ]
    },
    {
     "name": "stderr",
     "output_type": "stream",
     "text": [
      "[I 2024-10-13 14:16:01,874] Trial 321 finished with value: 0.5977272727272727 and parameters: {'lr': 9.210351359639585e-05, 'weight_decay': 7.675050363835347e-06}. Best is trial 24 with value: 0.8045454545454546.\n",
      "WARNING: Maximum number of iterations 32 reached. The mean may be inaccurate\n"
     ]
    },
    {
     "name": "stdout",
     "output_type": "stream",
     "text": [
      "SVD 수렴 문제 발생: SVD did not converge. 계속 진행합니다.\n"
     ]
    },
    {
     "name": "stderr",
     "output_type": "stream",
     "text": [
      "[I 2024-10-13 14:20:32,408] Trial 322 finished with value: 0.6786885245901639 and parameters: {'lr': 7.208948591570883e-05, 'weight_decay': 3.6079472629439423e-06}. Best is trial 24 with value: 0.8045454545454546.\n",
      "WARNING: Maximum number of iterations 32 reached. The mean may be inaccurate\n"
     ]
    },
    {
     "name": "stdout",
     "output_type": "stream",
     "text": [
      "SVD 수렴 문제 발생: SVD did not converge. 계속 진행합니다.\n"
     ]
    },
    {
     "name": "stderr",
     "output_type": "stream",
     "text": [
      "[I 2024-10-13 14:25:03,136] Trial 323 finished with value: 0.6807181889149102 and parameters: {'lr': 4.2442955056327756e-05, 'weight_decay': 1.6596488611512834e-05}. Best is trial 24 with value: 0.8045454545454546.\n",
      "WARNING: Maximum number of iterations 32 reached. The mean may be inaccurate\n"
     ]
    },
    {
     "name": "stdout",
     "output_type": "stream",
     "text": [
      "SVD 수렴 문제 발생: SVD did not converge. 계속 진행합니다.\n"
     ]
    },
    {
     "name": "stderr",
     "output_type": "stream",
     "text": [
      "[I 2024-10-13 14:29:34,587] Trial 324 finished with value: 0.6471506635441061 and parameters: {'lr': 6.054544320992003e-05, 'weight_decay': 2.4575382937799997e-06}. Best is trial 24 with value: 0.8045454545454546.\n",
      "WARNING: Maximum number of iterations 32 reached. The mean may be inaccurate\n"
     ]
    },
    {
     "name": "stdout",
     "output_type": "stream",
     "text": [
      "SVD 수렴 문제 발생: SVD did not converge. 계속 진행합니다.\n"
     ]
    },
    {
     "name": "stderr",
     "output_type": "stream",
     "text": [
      "[I 2024-10-13 14:34:05,506] Trial 325 finished with value: 0.6151444184231069 and parameters: {'lr': 1.2202082151097617e-06, 'weight_decay': 4.648773889772146e-06}. Best is trial 24 with value: 0.8045454545454546.\n",
      "WARNING: Maximum number of iterations 32 reached. The mean may be inaccurate\n",
      "[I 2024-10-13 14:38:37,713] Trial 326 finished with value: 0.728030303030303 and parameters: {'lr': 0.00013521096267183504, 'weight_decay': 6.219550127579838e-06}. Best is trial 24 with value: 0.8045454545454546.\n"
     ]
    },
    {
     "name": "stdout",
     "output_type": "stream",
     "text": [
      "SVD 수렴 문제 발생: SVD did not converge. 계속 진행합니다.\n"
     ]
    },
    {
     "name": "stderr",
     "output_type": "stream",
     "text": [
      "WARNING: Maximum number of iterations 32 reached. The mean may be inaccurate\n"
     ]
    },
    {
     "name": "stdout",
     "output_type": "stream",
     "text": [
      "SVD 수렴 문제 발생: SVD did not converge. 계속 진행합니다.\n"
     ]
    },
    {
     "name": "stderr",
     "output_type": "stream",
     "text": [
      "[I 2024-10-13 14:43:08,065] Trial 327 finished with value: 0.6574770258980785 and parameters: {'lr': 3.397999137539617e-05, 'weight_decay': 4.0092876701163885e-06}. Best is trial 24 with value: 0.8045454545454546.\n",
      "WARNING: Maximum number of iterations 32 reached. The mean may be inaccurate\n"
     ]
    },
    {
     "name": "stdout",
     "output_type": "stream",
     "text": [
      "SVD 수렴 문제 발생: SVD did not converge. 계속 진행합니다.\n"
     ]
    },
    {
     "name": "stderr",
     "output_type": "stream",
     "text": [
      "[I 2024-10-13 14:47:33,438] Trial 328 finished with value: 0.5003903200624512 and parameters: {'lr': 0.007888258227955556, 'weight_decay': 5.9216649430929834e-05}. Best is trial 24 with value: 0.8045454545454546.\n",
      "WARNING: Maximum number of iterations 32 reached. The mean may be inaccurate\n"
     ]
    },
    {
     "name": "stdout",
     "output_type": "stream",
     "text": [
      "SVD 수렴 문제 발생: SVD did not converge. 계속 진행합니다.\n"
     ]
    },
    {
     "name": "stderr",
     "output_type": "stream",
     "text": [
      "[I 2024-10-13 14:52:04,164] Trial 329 finished with value: 0.6697892271662763 and parameters: {'lr': 1.4928790599966743e-06, 'weight_decay': 8.776722945784472e-06}. Best is trial 24 with value: 0.8045454545454546.\n",
      "WARNING: Maximum number of iterations 32 reached. The mean may be inaccurate\n"
     ]
    },
    {
     "name": "stdout",
     "output_type": "stream",
     "text": [
      "SVD 수렴 문제 발생: SVD did not converge. 계속 진행합니다.\n"
     ]
    },
    {
     "name": "stderr",
     "output_type": "stream",
     "text": [
      "[I 2024-10-13 14:56:34,382] Trial 330 finished with value: 0.6237314597970336 and parameters: {'lr': 5.171404771559188e-05, 'weight_decay': 1.2932742448678614e-06}. Best is trial 24 with value: 0.8045454545454546.\n",
      "WARNING: Maximum number of iterations 32 reached. The mean may be inaccurate\n"
     ]
    },
    {
     "name": "stdout",
     "output_type": "stream",
     "text": [
      "SVD 수렴 문제 발생: SVD did not converge. 계속 진행합니다.\n"
     ]
    },
    {
     "name": "stderr",
     "output_type": "stream",
     "text": [
      "[I 2024-10-13 15:01:05,217] Trial 331 finished with value: 0.6276346604215457 and parameters: {'lr': 0.0001023672113956661, 'weight_decay': 1.2755373999297241e-05}. Best is trial 24 with value: 0.8045454545454546.\n",
      "WARNING: Maximum number of iterations 32 reached. The mean may be inaccurate\n"
     ]
    },
    {
     "name": "stdout",
     "output_type": "stream",
     "text": [
      "SVD 수렴 문제 발생: SVD did not converge. 계속 진행합니다.\n"
     ]
    },
    {
     "name": "stderr",
     "output_type": "stream",
     "text": [
      "[I 2024-10-13 15:05:36,714] Trial 332 finished with value: 0.6169354838709677 and parameters: {'lr': 0.00016186793111557651, 'weight_decay': 0.00011964167685860324}. Best is trial 24 with value: 0.8045454545454546.\n",
      "WARNING: Maximum number of iterations 32 reached. The mean may be inaccurate\n"
     ]
    },
    {
     "name": "stdout",
     "output_type": "stream",
     "text": [
      "SVD 수렴 문제 발생: SVD did not converge. 계속 진행합니다.\n"
     ]
    },
    {
     "name": "stderr",
     "output_type": "stream",
     "text": [
      "[I 2024-10-13 15:10:08,200] Trial 333 finished with value: 0.6627634660421545 and parameters: {'lr': 8.14757291665575e-05, 'weight_decay': 0.00039768541040104014}. Best is trial 24 with value: 0.8045454545454546.\n",
      "WARNING: Maximum number of iterations 32 reached. The mean may be inaccurate\n"
     ]
    },
    {
     "name": "stdout",
     "output_type": "stream",
     "text": [
      "SVD 수렴 문제 발생: SVD did not converge. 계속 진행합니다.\n"
     ]
    },
    {
     "name": "stderr",
     "output_type": "stream",
     "text": [
      "[I 2024-10-13 15:14:38,476] Trial 334 finished with value: 0.7220921155347384 and parameters: {'lr': 2.752253537551442e-05, 'weight_decay': 3.189642506713974e-06}. Best is trial 24 with value: 0.8045454545454546.\n",
      "WARNING: Maximum number of iterations 32 reached. The mean may be inaccurate\n"
     ]
    },
    {
     "name": "stdout",
     "output_type": "stream",
     "text": [
      "SVD 수렴 문제 발생: SVD did not converge. 계속 진행합니다.\n"
     ]
    },
    {
     "name": "stderr",
     "output_type": "stream",
     "text": [
      "[I 2024-10-13 15:19:09,636] Trial 335 finished with value: 0.6956856702619414 and parameters: {'lr': 4.1538407963332625e-05, 'weight_decay': 4.983540689882207e-06}. Best is trial 24 with value: 0.8045454545454546.\n",
      "WARNING: Maximum number of iterations 32 reached. The mean may be inaccurate\n",
      "[I 2024-10-13 15:23:41,998] Trial 336 finished with value: 0.6760343481654957 and parameters: {'lr': 2.0437643464343173e-06, 'weight_decay': 1.8147967292957295e-05}. Best is trial 24 with value: 0.8045454545454546.\n"
     ]
    },
    {
     "name": "stdout",
     "output_type": "stream",
     "text": [
      "SVD 수렴 문제 발생: SVD did not converge. 계속 진행합니다.\n"
     ]
    },
    {
     "name": "stderr",
     "output_type": "stream",
     "text": [
      "WARNING: Maximum number of iterations 32 reached. The mean may be inaccurate\n"
     ]
    },
    {
     "name": "stdout",
     "output_type": "stream",
     "text": [
      "SVD 수렴 문제 발생: SVD did not converge. 계속 진행합니다.\n"
     ]
    },
    {
     "name": "stderr",
     "output_type": "stream",
     "text": [
      "[I 2024-10-13 15:28:11,588] Trial 337 finished with value: 0.682279469164715 and parameters: {'lr': 7.370935772891942e-06, 'weight_decay': 6.5607583619539505e-06}. Best is trial 24 with value: 0.8045454545454546.\n",
      "WARNING: Maximum number of iterations 32 reached. The mean may be inaccurate\n"
     ]
    },
    {
     "name": "stdout",
     "output_type": "stream",
     "text": [
      "SVD 수렴 문제 발생: SVD did not converge. 계속 진행합니다.\n"
     ]
    },
    {
     "name": "stderr",
     "output_type": "stream",
     "text": [
      "[I 2024-10-13 15:32:42,857] Trial 338 finished with value: 0.6606060606060606 and parameters: {'lr': 6.373001461853966e-05, 'weight_decay': 2.4536960597766038e-05}. Best is trial 24 with value: 0.8045454545454546.\n",
      "WARNING: Maximum number of iterations 32 reached. The mean may be inaccurate\n"
     ]
    },
    {
     "name": "stdout",
     "output_type": "stream",
     "text": [
      "SVD 수렴 문제 발생: SVD did not converge. 계속 진행합니다.\n"
     ]
    },
    {
     "name": "stderr",
     "output_type": "stream",
     "text": [
      "[I 2024-10-13 15:37:13,556] Trial 339 finished with value: 0.6314516129032258 and parameters: {'lr': 1.1946844821200811e-06, 'weight_decay': 0.0007616169387305009}. Best is trial 24 with value: 0.8045454545454546.\n",
      "WARNING: Maximum number of iterations 32 reached. The mean may be inaccurate\n"
     ]
    },
    {
     "name": "stdout",
     "output_type": "stream",
     "text": [
      "SVD 수렴 문제 발생: SVD did not converge. 계속 진행합니다.\n"
     ]
    },
    {
     "name": "stderr",
     "output_type": "stream",
     "text": [
      "[I 2024-10-13 15:41:45,308] Trial 340 finished with value: 0.6159250585480094 and parameters: {'lr': 3.670558384113077e-05, 'weight_decay': 3.111426351638939e-05}. Best is trial 24 with value: 0.8045454545454546.\n",
      "WARNING: Maximum number of iterations 32 reached. The mean may be inaccurate\n"
     ]
    },
    {
     "name": "stdout",
     "output_type": "stream",
     "text": [
      "SVD 수렴 문제 발생: SVD did not converge. 계속 진행합니다.\n"
     ]
    },
    {
     "name": "stderr",
     "output_type": "stream",
     "text": [
      "[I 2024-10-13 15:46:17,035] Trial 341 finished with value: 0.6568181818181817 and parameters: {'lr': 2.2912971980043808e-05, 'weight_decay': 0.0013449384954301276}. Best is trial 24 with value: 0.8045454545454546.\n",
      "WARNING: Maximum number of iterations 32 reached. The mean may be inaccurate\n"
     ]
    },
    {
     "name": "stdout",
     "output_type": "stream",
     "text": [
      "SVD 수렴 문제 발생: SVD did not converge. 계속 진행합니다.\n"
     ]
    },
    {
     "name": "stderr",
     "output_type": "stream",
     "text": [
      "[I 2024-10-13 15:50:48,944] Trial 342 finished with value: 0.6992424242424242 and parameters: {'lr': 4.812313864253661e-05, 'weight_decay': 1.0521031461812573e-05}. Best is trial 24 with value: 0.8045454545454546.\n",
      "WARNING: Maximum number of iterations 32 reached. The mean may be inaccurate\n",
      "[I 2024-10-13 15:55:22,057] Trial 343 finished with value: 0.6991935483870968 and parameters: {'lr': 2.9915019599220383e-05, 'weight_decay': 1.4583304753224381e-05}. Best is trial 24 with value: 0.8045454545454546.\n"
     ]
    },
    {
     "name": "stdout",
     "output_type": "stream",
     "text": [
      "SVD 수렴 문제 발생: SVD did not converge. 계속 진행합니다.\n"
     ]
    },
    {
     "name": "stderr",
     "output_type": "stream",
     "text": [
      "WARNING: Maximum number of iterations 32 reached. The mean may be inaccurate\n"
     ]
    },
    {
     "name": "stdout",
     "output_type": "stream",
     "text": [
      "SVD 수렴 문제 발생: SVD did not converge. 계속 진행합니다.\n"
     ]
    },
    {
     "name": "stderr",
     "output_type": "stream",
     "text": [
      "[I 2024-10-13 15:59:51,222] Trial 344 finished with value: 0.6409836065573771 and parameters: {'lr': 1.0194141076640482e-06, 'weight_decay': 5.424535355587153e-06}. Best is trial 24 with value: 0.8045454545454546.\n",
      "WARNING: Maximum number of iterations 32 reached. The mean may be inaccurate\n",
      "[I 2024-10-13 16:04:24,135] Trial 345 finished with value: 0.6725806451612903 and parameters: {'lr': 5.513581679510433e-05, 'weight_decay': 4.068874058036083e-06}. Best is trial 24 with value: 0.8045454545454546.\n"
     ]
    },
    {
     "name": "stdout",
     "output_type": "stream",
     "text": [
      "SVD 수렴 문제 발생: SVD did not converge. 계속 진행합니다.\n"
     ]
    },
    {
     "name": "stderr",
     "output_type": "stream",
     "text": [
      "WARNING: Maximum number of iterations 32 reached. The mean may be inaccurate\n"
     ]
    },
    {
     "name": "stdout",
     "output_type": "stream",
     "text": [
      "SVD 수렴 문제 발생: SVD did not converge. 계속 진행합니다.\n"
     ]
    },
    {
     "name": "stderr",
     "output_type": "stream",
     "text": [
      "[I 2024-10-13 16:08:53,805] Trial 346 finished with value: 0.7098484848484848 and parameters: {'lr': 1.7883426685793397e-06, 'weight_decay': 2.0531935700743376e-05}. Best is trial 24 with value: 0.8045454545454546.\n",
      "WARNING: Maximum number of iterations 32 reached. The mean may be inaccurate\n"
     ]
    },
    {
     "name": "stdout",
     "output_type": "stream",
     "text": [
      "SVD 수렴 문제 발생: SVD did not converge. 계속 진행합니다.\n"
     ]
    },
    {
     "name": "stderr",
     "output_type": "stream",
     "text": [
      "[I 2024-10-13 16:13:25,234] Trial 347 finished with value: 0.6287878787878788 and parameters: {'lr': 0.00012032938230382844, 'weight_decay': 2.1926437210866033e-06}. Best is trial 24 with value: 0.8045454545454546.\n",
      "WARNING: Maximum number of iterations 32 reached. The mean may be inaccurate\n"
     ]
    },
    {
     "name": "stdout",
     "output_type": "stream",
     "text": [
      "SVD 수렴 문제 발생: SVD did not converge. 계속 진행합니다.\n"
     ]
    },
    {
     "name": "stderr",
     "output_type": "stream",
     "text": [
      "[I 2024-10-13 16:17:57,118] Trial 348 finished with value: 0.6491935483870969 and parameters: {'lr': 1.4209957048463296e-06, 'weight_decay': 4.335795756393017e-05}. Best is trial 24 with value: 0.8045454545454546.\n",
      "WARNING: Maximum number of iterations 32 reached. The mean may be inaccurate\n"
     ]
    },
    {
     "name": "stdout",
     "output_type": "stream",
     "text": [
      "SVD 수렴 문제 발생: SVD did not converge. 계속 진행합니다.\n"
     ]
    },
    {
     "name": "stderr",
     "output_type": "stream",
     "text": [
      "[I 2024-10-13 16:22:27,785] Trial 349 finished with value: 0.6705698672911787 and parameters: {'lr': 8.041602533237644e-05, 'weight_decay': 3.1659391252764076e-06}. Best is trial 24 with value: 0.8045454545454546.\n",
      "WARNING: Maximum number of iterations 32 reached. The mean may be inaccurate\n"
     ]
    },
    {
     "name": "stdout",
     "output_type": "stream",
     "text": [
      "SVD 수렴 문제 발생: SVD did not converge. 계속 진행합니다.\n"
     ]
    },
    {
     "name": "stderr",
     "output_type": "stream",
     "text": [
      "[I 2024-10-13 16:26:59,515] Trial 350 finished with value: 0.6515151515151515 and parameters: {'lr': 0.00023181278627516856, 'weight_decay': 5.240685224385188e-06}. Best is trial 24 with value: 0.8045454545454546.\n",
      "WARNING: Maximum number of iterations 32 reached. The mean may be inaccurate\n"
     ]
    },
    {
     "name": "stdout",
     "output_type": "stream",
     "text": [
      "SVD 수렴 문제 발생: SVD did not converge. 계속 진행합니다.\n"
     ]
    },
    {
     "name": "stderr",
     "output_type": "stream",
     "text": [
      "[I 2024-10-13 16:31:30,531] Trial 351 finished with value: 0.6106934001670844 and parameters: {'lr': 3.7369515497974054e-05, 'weight_decay': 2.46921440253985e-05}. Best is trial 24 with value: 0.8045454545454546.\n",
      "WARNING: Maximum number of iterations 32 reached. The mean may be inaccurate\n"
     ]
    },
    {
     "name": "stdout",
     "output_type": "stream",
     "text": [
      "SVD 수렴 문제 발생: SVD did not converge. 계속 진행합니다.\n"
     ]
    },
    {
     "name": "stderr",
     "output_type": "stream",
     "text": [
      "[I 2024-10-13 16:36:01,354] Trial 352 finished with value: 0.5659090909090909 and parameters: {'lr': 4.4786652967491235e-05, 'weight_decay': 8.1316770868027e-06}. Best is trial 24 with value: 0.8045454545454546.\n",
      "WARNING: Maximum number of iterations 32 reached. The mean may be inaccurate\n"
     ]
    },
    {
     "name": "stdout",
     "output_type": "stream",
     "text": [
      "SVD 수렴 문제 발생: SVD did not converge. 계속 진행합니다.\n"
     ]
    },
    {
     "name": "stderr",
     "output_type": "stream",
     "text": [
      "[I 2024-10-13 16:40:34,346] Trial 353 finished with value: 0.5050741608118657 and parameters: {'lr': 6.441053520529869e-05, 'weight_decay': 0.0017405145061164416}. Best is trial 24 with value: 0.8045454545454546.\n",
      "WARNING: Maximum number of iterations 32 reached. The mean may be inaccurate\n"
     ]
    },
    {
     "name": "stdout",
     "output_type": "stream",
     "text": [
      "SVD 수렴 문제 발생: SVD did not converge. 계속 진행합니다.\n"
     ]
    },
    {
     "name": "stderr",
     "output_type": "stream",
     "text": [
      "[I 2024-10-13 16:45:05,828] Trial 354 finished with value: 0.6529108327192337 and parameters: {'lr': 8.904530848935022e-05, 'weight_decay': 0.0026243714408733243}. Best is trial 24 with value: 0.8045454545454546.\n",
      "WARNING: Maximum number of iterations 32 reached. The mean may be inaccurate\n"
     ]
    },
    {
     "name": "stdout",
     "output_type": "stream",
     "text": [
      "SVD 수렴 문제 발생: SVD did not converge. 계속 진행합니다.\n"
     ]
    },
    {
     "name": "stderr",
     "output_type": "stream",
     "text": [
      "[I 2024-10-13 16:49:33,131] Trial 355 finished with value: 0.7325757575757575 and parameters: {'lr': 0.005047459606612444, 'weight_decay': 3.740648132369229e-06}. Best is trial 24 with value: 0.8045454545454546.\n",
      "WARNING: Maximum number of iterations 32 reached. The mean may be inaccurate\n",
      "[I 2024-10-13 16:54:03,605] Trial 356 finished with value: 0.646774193548387 and parameters: {'lr': 0.005809553514354049, 'weight_decay': 3.680574506689443e-06}. Best is trial 24 with value: 0.8045454545454546.\n"
     ]
    },
    {
     "name": "stdout",
     "output_type": "stream",
     "text": [
      "SVD 수렴 문제 발생: SVD did not converge. 계속 진행합니다.\n"
     ]
    },
    {
     "name": "stderr",
     "output_type": "stream",
     "text": [
      "WARNING: Maximum number of iterations 32 reached. The mean may be inaccurate\n"
     ]
    },
    {
     "name": "stdout",
     "output_type": "stream",
     "text": [
      "SVD 수렴 문제 발생: SVD did not converge. 계속 진행합니다.\n"
     ]
    },
    {
     "name": "stderr",
     "output_type": "stream",
     "text": [
      "[I 2024-10-13 16:58:32,054] Trial 357 finished with value: 0.6901515151515151 and parameters: {'lr': 0.001540996407359633, 'weight_decay': 3.1189152137690224e-06}. Best is trial 24 with value: 0.8045454545454546.\n",
      "WARNING: Maximum number of iterations 32 reached. The mean may be inaccurate\n"
     ]
    },
    {
     "name": "stdout",
     "output_type": "stream",
     "text": [
      "SVD 수렴 문제 발생: SVD did not converge. 계속 진행합니다.\n"
     ]
    },
    {
     "name": "stderr",
     "output_type": "stream",
     "text": [
      "[I 2024-10-13 17:03:00,054] Trial 358 finished with value: 0.6101694915254237 and parameters: {'lr': 0.0033520671758068906, 'weight_decay': 2.788248868524796e-06}. Best is trial 24 with value: 0.8045454545454546.\n",
      "WARNING: Maximum number of iterations 32 reached. The mean may be inaccurate\n"
     ]
    },
    {
     "name": "stdout",
     "output_type": "stream",
     "text": [
      "SVD 수렴 문제 발생: SVD did not converge. 계속 진행합니다.\n"
     ]
    },
    {
     "name": "stderr",
     "output_type": "stream",
     "text": [
      "[I 2024-10-13 17:07:30,803] Trial 359 finished with value: 0.4957064793130367 and parameters: {'lr': 3.29161335584521e-05, 'weight_decay': 3.55929943797773e-05}. Best is trial 24 with value: 0.8045454545454546.\n",
      "WARNING: Maximum number of iterations 32 reached. The mean may be inaccurate\n"
     ]
    },
    {
     "name": "stdout",
     "output_type": "stream",
     "text": [
      "SVD 수렴 문제 발생: SVD did not converge. 계속 진행합니다.\n"
     ]
    },
    {
     "name": "stderr",
     "output_type": "stream",
     "text": [
      "[I 2024-10-13 17:11:59,810] Trial 360 finished with value: 0.6401249024199844 and parameters: {'lr': 0.0012160129382997379, 'weight_decay': 4.077373220543298e-06}. Best is trial 24 with value: 0.8045454545454546.\n",
      "WARNING: Maximum number of iterations 32 reached. The mean may be inaccurate\n"
     ]
    },
    {
     "name": "stdout",
     "output_type": "stream",
     "text": [
      "SVD 수렴 문제 발생: SVD did not converge. 계속 진행합니다.\n"
     ]
    },
    {
     "name": "stderr",
     "output_type": "stream",
     "text": [
      "[I 2024-10-13 17:16:25,998] Trial 361 finished with value: 0.619047619047619 and parameters: {'lr': 0.004546647717224592, 'weight_decay': 2.8614202515223135e-05}. Best is trial 24 with value: 0.8045454545454546.\n",
      "WARNING: Maximum number of iterations 32 reached. The mean may be inaccurate\n"
     ]
    },
    {
     "name": "stdout",
     "output_type": "stream",
     "text": [
      "SVD 수렴 문제 발생: SVD did not converge. 계속 진행합니다.\n"
     ]
    },
    {
     "name": "stderr",
     "output_type": "stream",
     "text": [
      "[I 2024-10-13 17:20:57,272] Trial 362 finished with value: 0.49836065573770494 and parameters: {'lr': 1.0268802504214076e-05, 'weight_decay': 1.827160334794438e-05}. Best is trial 24 with value: 0.8045454545454546.\n",
      "WARNING: Maximum number of iterations 32 reached. The mean may be inaccurate\n"
     ]
    },
    {
     "name": "stdout",
     "output_type": "stream",
     "text": [
      "SVD 수렴 문제 발생: SVD did not converge. 계속 진행합니다.\n"
     ]
    },
    {
     "name": "stderr",
     "output_type": "stream",
     "text": [
      "[I 2024-10-13 17:25:28,038] Trial 363 finished with value: 0.6494925839188135 and parameters: {'lr': 1.2049927532175767e-06, 'weight_decay': 1.4610291056035448e-05}. Best is trial 24 with value: 0.8045454545454546.\n",
      "WARNING: Maximum number of iterations 32 reached. The mean may be inaccurate\n"
     ]
    },
    {
     "name": "stdout",
     "output_type": "stream",
     "text": [
      "SVD 수렴 문제 발생: SVD did not converge. 계속 진행합니다.\n"
     ]
    },
    {
     "name": "stderr",
     "output_type": "stream",
     "text": [
      "[I 2024-10-13 17:29:59,015] Trial 364 finished with value: 0.7423887587822015 and parameters: {'lr': 5.5425674885508154e-05, 'weight_decay': 2.3368052354143154e-06}. Best is trial 24 with value: 0.8045454545454546.\n",
      "WARNING: Maximum number of iterations 32 reached. The mean may be inaccurate\n"
     ]
    },
    {
     "name": "stdout",
     "output_type": "stream",
     "text": [
      "SVD 수렴 문제 발생: SVD did not converge. 계속 진행합니다.\n"
     ]
    },
    {
     "name": "stderr",
     "output_type": "stream",
     "text": [
      "[I 2024-10-13 17:34:30,941] Trial 365 finished with value: 0.6878787878787879 and parameters: {'lr': 5.8534212099191514e-05, 'weight_decay': 1.6638045849038224e-06}. Best is trial 24 with value: 0.8045454545454546.\n",
      "WARNING: Maximum number of iterations 32 reached. The mean may be inaccurate\n"
     ]
    },
    {
     "name": "stdout",
     "output_type": "stream",
     "text": [
      "SVD 수렴 문제 발생: SVD did not converge. 계속 진행합니다.\n"
     ]
    },
    {
     "name": "stderr",
     "output_type": "stream",
     "text": [
      "[I 2024-10-13 17:39:02,531] Trial 366 finished with value: 0.6666666666666666 and parameters: {'lr': 5.1496518067109065e-05, 'weight_decay': 2.1804933461607727e-06}. Best is trial 24 with value: 0.8045454545454546.\n",
      "WARNING: Maximum number of iterations 32 reached. The mean may be inaccurate\n"
     ]
    },
    {
     "name": "stdout",
     "output_type": "stream",
     "text": [
      "SVD 수렴 문제 발생: SVD did not converge. 계속 진행합니다.\n"
     ]
    },
    {
     "name": "stderr",
     "output_type": "stream",
     "text": [
      "[I 2024-10-13 17:43:33,402] Trial 367 finished with value: 0.5951612903225807 and parameters: {'lr': 0.00065233705596197, 'weight_decay': 2.6598288174154664e-06}. Best is trial 24 with value: 0.8045454545454546.\n",
      "WARNING: Maximum number of iterations 32 reached. The mean may be inaccurate\n"
     ]
    },
    {
     "name": "stdout",
     "output_type": "stream",
     "text": [
      "SVD 수렴 문제 발생: SVD did not converge. 계속 진행합니다.\n"
     ]
    },
    {
     "name": "stderr",
     "output_type": "stream",
     "text": [
      "[I 2024-10-13 17:48:04,865] Trial 368 finished with value: 0.6735445836403833 and parameters: {'lr': 4.228034850885039e-05, 'weight_decay': 7.158975733803878e-05}. Best is trial 24 with value: 0.8045454545454546.\n",
      "WARNING: Maximum number of iterations 32 reached. The mean may be inaccurate\n"
     ]
    },
    {
     "name": "stdout",
     "output_type": "stream",
     "text": [
      "SVD 수렴 문제 발생: SVD did not converge. 계속 진행합니다.\n"
     ]
    },
    {
     "name": "stderr",
     "output_type": "stream",
     "text": [
      "[I 2024-10-13 17:52:35,650] Trial 369 finished with value: 0.6627634660421546 and parameters: {'lr': 7.214855297810774e-05, 'weight_decay': 4.550405312841826e-06}. Best is trial 24 with value: 0.8045454545454546.\n",
      "WARNING: Maximum number of iterations 32 reached. The mean may be inaccurate\n"
     ]
    },
    {
     "name": "stdout",
     "output_type": "stream",
     "text": [
      "SVD 수렴 문제 발생: SVD did not converge. 계속 진행합니다.\n"
     ]
    },
    {
     "name": "stderr",
     "output_type": "stream",
     "text": [
      "[I 2024-10-13 17:57:06,284] Trial 370 finished with value: 0.6696969696969697 and parameters: {'lr': 4.823545635682088e-05, 'weight_decay': 1.8204250480669048e-06}. Best is trial 24 with value: 0.8045454545454546.\n",
      "WARNING: Maximum number of iterations 32 reached. The mean may be inaccurate\n"
     ]
    },
    {
     "name": "stdout",
     "output_type": "stream",
     "text": [
      "SVD 수렴 문제 발생: SVD did not converge. 계속 진행합니다.\n"
     ]
    },
    {
     "name": "stderr",
     "output_type": "stream",
     "text": [
      "[I 2024-10-13 18:01:36,100] Trial 371 finished with value: 0.7642466822794691 and parameters: {'lr': 2.2467317510033643e-05, 'weight_decay': 2.4237284986882456e-06}. Best is trial 24 with value: 0.8045454545454546.\n",
      "WARNING: Maximum number of iterations 32 reached. The mean may be inaccurate\n"
     ]
    },
    {
     "name": "stdout",
     "output_type": "stream",
     "text": [
      "SVD 수렴 문제 발생: SVD did not converge. 계속 진행합니다.\n"
     ]
    },
    {
     "name": "stderr",
     "output_type": "stream",
     "text": [
      "[I 2024-10-13 18:06:04,902] Trial 372 finished with value: 0.7588709677419354 and parameters: {'lr': 2.1400618214741072e-05, 'weight_decay': 2.1738458355472817e-06}. Best is trial 24 with value: 0.8045454545454546.\n",
      "WARNING: Maximum number of iterations 32 reached. The mean may be inaccurate\n"
     ]
    },
    {
     "name": "stdout",
     "output_type": "stream",
     "text": [
      "SVD 수렴 문제 발생: SVD did not converge. 계속 진행합니다.\n"
     ]
    },
    {
     "name": "stderr",
     "output_type": "stream",
     "text": [
      "[I 2024-10-13 18:10:33,841] Trial 373 finished with value: 0.6022727272727273 and parameters: {'lr': 1.7951506895740417e-05, 'weight_decay': 1.9456471215600004e-06}. Best is trial 24 with value: 0.8045454545454546.\n",
      "WARNING: Maximum number of iterations 32 reached. The mean may be inaccurate\n"
     ]
    },
    {
     "name": "stdout",
     "output_type": "stream",
     "text": [
      "SVD 수렴 문제 발생: SVD did not converge. 계속 진행합니다.\n"
     ]
    },
    {
     "name": "stderr",
     "output_type": "stream",
     "text": [
      "[I 2024-10-13 18:15:02,651] Trial 374 finished with value: 0.6807181889149102 and parameters: {'lr': 2.086724092245551e-05, 'weight_decay': 1.1818623850458328e-06}. Best is trial 24 with value: 0.8045454545454546.\n",
      "WARNING: Maximum number of iterations 32 reached. The mean may be inaccurate\n"
     ]
    },
    {
     "name": "stdout",
     "output_type": "stream",
     "text": [
      "SVD 수렴 문제 발생: SVD did not converge. 계속 진행합니다.\n"
     ]
    },
    {
     "name": "stderr",
     "output_type": "stream",
     "text": [
      "[I 2024-10-13 18:19:31,463] Trial 375 finished with value: 0.7621212121212122 and parameters: {'lr': 1.4770873146475777e-05, 'weight_decay': 1.4402983330308589e-06}. Best is trial 24 with value: 0.8045454545454546.\n",
      "WARNING: Maximum number of iterations 32 reached. The mean may be inaccurate\n"
     ]
    },
    {
     "name": "stdout",
     "output_type": "stream",
     "text": [
      "SVD 수렴 문제 발생: SVD did not converge. 계속 진행합니다.\n"
     ]
    },
    {
     "name": "stderr",
     "output_type": "stream",
     "text": [
      "[I 2024-10-13 18:24:00,317] Trial 376 finished with value: 0.6869633099141296 and parameters: {'lr': 1.4117528116312021e-05, 'weight_decay': 1.007845224415075e-06}. Best is trial 24 with value: 0.8045454545454546.\n",
      "WARNING: Maximum number of iterations 32 reached. The mean may be inaccurate\n",
      "[I 2024-10-13 18:28:29,854] Trial 377 finished with value: 0.6886363636363638 and parameters: {'lr': 2.0502433457566713e-05, 'weight_decay': 1.3354623495910023e-06}. Best is trial 24 with value: 0.8045454545454546.\n"
     ]
    },
    {
     "name": "stdout",
     "output_type": "stream",
     "text": [
      "SVD 수렴 문제 발생: SVD did not converge. 계속 진행합니다.\n"
     ]
    },
    {
     "name": "stderr",
     "output_type": "stream",
     "text": [
      "WARNING: Maximum number of iterations 32 reached. The mean may be inaccurate\n"
     ]
    },
    {
     "name": "stdout",
     "output_type": "stream",
     "text": [
      "SVD 수렴 문제 발생: SVD did not converge. 계속 진행합니다.\n"
     ]
    },
    {
     "name": "stderr",
     "output_type": "stream",
     "text": [
      "[I 2024-10-13 18:32:57,753] Trial 378 finished with value: 0.7475806451612902 and parameters: {'lr': 1.722716635891191e-05, 'weight_decay': 1.7813489665133189e-06}. Best is trial 24 with value: 0.8045454545454546.\n",
      "WARNING: Maximum number of iterations 32 reached. The mean may be inaccurate\n"
     ]
    },
    {
     "name": "stdout",
     "output_type": "stream",
     "text": [
      "SVD 수렴 문제 발생: SVD did not converge. 계속 진행합니다.\n"
     ]
    },
    {
     "name": "stderr",
     "output_type": "stream",
     "text": [
      "[I 2024-10-13 18:37:27,887] Trial 379 finished with value: 0.6241935483870967 and parameters: {'lr': 1.896076953839077e-05, 'weight_decay': 1.5855552610406088e-06}. Best is trial 24 with value: 0.8045454545454546.\n",
      "WARNING: Maximum number of iterations 32 reached. The mean may be inaccurate\n"
     ]
    },
    {
     "name": "stdout",
     "output_type": "stream",
     "text": [
      "SVD 수렴 문제 발생: SVD did not converge. 계속 진행합니다.\n"
     ]
    },
    {
     "name": "stderr",
     "output_type": "stream",
     "text": [
      "[I 2024-10-13 18:41:56,676] Trial 380 finished with value: 0.7696969696969698 and parameters: {'lr': 1.2828164933282912e-05, 'weight_decay': 1.373387556628355e-06}. Best is trial 24 with value: 0.8045454545454546.\n",
      "WARNING: Maximum number of iterations 32 reached. The mean may be inaccurate\n"
     ]
    },
    {
     "name": "stdout",
     "output_type": "stream",
     "text": [
      "SVD 수렴 문제 발생: SVD did not converge. 계속 진행합니다.\n"
     ]
    },
    {
     "name": "stderr",
     "output_type": "stream",
     "text": [
      "[I 2024-10-13 18:46:25,908] Trial 381 finished with value: 0.7462919594067134 and parameters: {'lr': 1.5581299628222497e-05, 'weight_decay': 1.2838442272914654e-06}. Best is trial 24 with value: 0.8045454545454546.\n",
      "WARNING: Maximum number of iterations 32 reached. The mean may be inaccurate\n"
     ]
    },
    {
     "name": "stdout",
     "output_type": "stream",
     "text": [
      "SVD 수렴 문제 발생: SVD did not converge. 계속 진행합니다.\n"
     ]
    },
    {
     "name": "stderr",
     "output_type": "stream",
     "text": [
      "[I 2024-10-13 18:50:55,733] Trial 382 finished with value: 0.5932203389830508 and parameters: {'lr': 1.2620369323529378e-05, 'weight_decay': 1.5006616915749907e-06}. Best is trial 24 with value: 0.8045454545454546.\n",
      "WARNING: Maximum number of iterations 32 reached. The mean may be inaccurate\n"
     ]
    },
    {
     "name": "stdout",
     "output_type": "stream",
     "text": [
      "SVD 수렴 문제 발생: SVD did not converge. 계속 진행합니다.\n"
     ]
    },
    {
     "name": "stderr",
     "output_type": "stream",
     "text": [
      "[I 2024-10-13 18:55:25,890] Trial 383 finished with value: 0.7597641857037583 and parameters: {'lr': 1.5870973858859954e-05, 'weight_decay': 1.1959560408370355e-06}. Best is trial 24 with value: 0.8045454545454546.\n",
      "WARNING: Maximum number of iterations 32 reached. The mean may be inaccurate\n"
     ]
    },
    {
     "name": "stdout",
     "output_type": "stream",
     "text": [
      "SVD 수렴 문제 발생: SVD did not converge. 계속 진행합니다.\n"
     ]
    },
    {
     "name": "stderr",
     "output_type": "stream",
     "text": [
      "[I 2024-10-13 18:59:56,160] Trial 384 finished with value: 0.6935483870967742 and parameters: {'lr': 1.7415858866375635e-05, 'weight_decay': 2.5170017175713813e-06}. Best is trial 24 with value: 0.8045454545454546.\n",
      "WARNING: Maximum number of iterations 32 reached. The mean may be inaccurate\n"
     ]
    },
    {
     "name": "stdout",
     "output_type": "stream",
     "text": [
      "SVD 수렴 문제 발생: SVD did not converge. 계속 진행합니다.\n"
     ]
    },
    {
     "name": "stderr",
     "output_type": "stream",
     "text": [
      "[I 2024-10-13 19:04:25,188] Trial 385 finished with value: 0.682279469164715 and parameters: {'lr': 1.4913058776159535e-05, 'weight_decay': 1.3328839809120862e-06}. Best is trial 24 with value: 0.8045454545454546.\n",
      "WARNING: Maximum number of iterations 32 reached. The mean may be inaccurate\n"
     ]
    },
    {
     "name": "stdout",
     "output_type": "stream",
     "text": [
      "SVD 수렴 문제 발생: SVD did not converge. 계속 진행합니다.\n"
     ]
    },
    {
     "name": "stderr",
     "output_type": "stream",
     "text": [
      "[I 2024-10-13 19:08:54,814] Trial 386 finished with value: 0.6042154566744731 and parameters: {'lr': 1.4916052564529692e-05, 'weight_decay': 1.0406969761969761e-06}. Best is trial 24 with value: 0.8045454545454546.\n",
      "WARNING: Maximum number of iterations 32 reached. The mean may be inaccurate\n",
      "[I 2024-10-13 19:13:25,770] Trial 387 finished with value: 0.7184966838614592 and parameters: {'lr': 1.6883609718927434e-05, 'weight_decay': 1.4296608366392652e-06}. Best is trial 24 with value: 0.8045454545454546.\n"
     ]
    },
    {
     "name": "stdout",
     "output_type": "stream",
     "text": [
      "SVD 수렴 문제 발생: SVD did not converge. 계속 진행합니다.\n"
     ]
    },
    {
     "name": "stderr",
     "output_type": "stream",
     "text": [
      "WARNING: Maximum number of iterations 32 reached. The mean may be inaccurate\n"
     ]
    },
    {
     "name": "stdout",
     "output_type": "stream",
     "text": [
      "SVD 수렴 문제 발생: SVD did not converge. 계속 진행합니다.\n"
     ]
    },
    {
     "name": "stderr",
     "output_type": "stream",
     "text": [
      "[I 2024-10-13 19:17:54,231] Trial 388 finished with value: 0.6549570647931303 and parameters: {'lr': 1.1530963603209886e-05, 'weight_decay': 1.2352181669665775e-06}. Best is trial 24 with value: 0.8045454545454546.\n",
      "WARNING: Maximum number of iterations 32 reached. The mean may be inaccurate\n"
     ]
    },
    {
     "name": "stdout",
     "output_type": "stream",
     "text": [
      "SVD 수렴 문제 발생: SVD did not converge. 계속 진행합니다.\n"
     ]
    },
    {
     "name": "stderr",
     "output_type": "stream",
     "text": [
      "[I 2024-10-13 19:22:23,211] Trial 389 finished with value: 0.6507575757575758 and parameters: {'lr': 2.3213647428926733e-05, 'weight_decay': 1.0233912415632156e-06}. Best is trial 24 with value: 0.8045454545454546.\n",
      "WARNING: Maximum number of iterations 32 reached. The mean may be inaccurate\n"
     ]
    },
    {
     "name": "stdout",
     "output_type": "stream",
     "text": [
      "SVD 수렴 문제 발생: SVD did not converge. 계속 진행합니다.\n"
     ]
    },
    {
     "name": "stderr",
     "output_type": "stream",
     "text": [
      "[I 2024-10-13 19:26:51,671] Trial 390 finished with value: 0.6470154753131908 and parameters: {'lr': 1.3249697668936023e-05, 'weight_decay': 1.7846626149753152e-06}. Best is trial 24 with value: 0.8045454545454546.\n",
      "WARNING: Maximum number of iterations 32 reached. The mean may be inaccurate\n"
     ]
    },
    {
     "name": "stdout",
     "output_type": "stream",
     "text": [
      "SVD 수렴 문제 발생: SVD did not converge. 계속 진행합니다.\n"
     ]
    },
    {
     "name": "stderr",
     "output_type": "stream",
     "text": [
      "[I 2024-10-13 19:31:20,264] Trial 391 finished with value: 0.6710758377425043 and parameters: {'lr': 1.6764674216944187e-05, 'weight_decay': 1.538866735420929e-06}. Best is trial 24 with value: 0.8045454545454546.\n",
      "WARNING: Maximum number of iterations 32 reached. The mean may be inaccurate\n"
     ]
    },
    {
     "name": "stdout",
     "output_type": "stream",
     "text": [
      "SVD 수렴 문제 발생: SVD did not converge. 계속 진행합니다.\n"
     ]
    },
    {
     "name": "stderr",
     "output_type": "stream",
     "text": [
      "[I 2024-10-13 19:35:50,830] Trial 392 finished with value: 0.682258064516129 and parameters: {'lr': 2.1720697251586426e-05, 'weight_decay': 1.161035199873295e-06}. Best is trial 24 with value: 0.8045454545454546.\n",
      "WARNING: Maximum number of iterations 32 reached. The mean may be inaccurate\n"
     ]
    },
    {
     "name": "stdout",
     "output_type": "stream",
     "text": [
      "SVD 수렴 문제 발생: SVD did not converge. 계속 진행합니다.\n"
     ]
    },
    {
     "name": "stderr",
     "output_type": "stream",
     "text": [
      "[I 2024-10-13 19:40:19,685] Trial 393 finished with value: 0.7158469945355191 and parameters: {'lr': 1.2520060800564413e-05, 'weight_decay': 1.5209728273303023e-06}. Best is trial 24 with value: 0.8045454545454546.\n",
      "WARNING: Maximum number of iterations 32 reached. The mean may be inaccurate\n"
     ]
    },
    {
     "name": "stdout",
     "output_type": "stream",
     "text": [
      "SVD 수렴 문제 발생: SVD did not converge. 계속 진행합니다.\n"
     ]
    },
    {
     "name": "stderr",
     "output_type": "stream",
     "text": [
      "[I 2024-10-13 19:44:48,932] Trial 394 finished with value: 0.6612021857923497 and parameters: {'lr': 1.567663270843397e-05, 'weight_decay': 1.7420459975871614e-06}. Best is trial 24 with value: 0.8045454545454546.\n",
      "WARNING: Maximum number of iterations 32 reached. The mean may be inaccurate\n"
     ]
    },
    {
     "name": "stdout",
     "output_type": "stream",
     "text": [
      "SVD 수렴 문제 발생: SVD did not converge. 계속 진행합니다.\n"
     ]
    },
    {
     "name": "stderr",
     "output_type": "stream",
     "text": [
      "[I 2024-10-13 19:49:17,586] Trial 395 finished with value: 0.6494607087827426 and parameters: {'lr': 2.294727936999705e-05, 'weight_decay': 1.2737053597848163e-06}. Best is trial 24 with value: 0.8045454545454546.\n",
      "WARNING: Maximum number of iterations 32 reached. The mean may be inaccurate\n"
     ]
    },
    {
     "name": "stdout",
     "output_type": "stream",
     "text": [
      "SVD 수렴 문제 발생: SVD did not converge. 계속 진행합니다.\n"
     ]
    },
    {
     "name": "stderr",
     "output_type": "stream",
     "text": [
      "[I 2024-10-13 19:53:47,349] Trial 396 finished with value: 0.5803030303030303 and parameters: {'lr': 1.0775721475946771e-05, 'weight_decay': 2.0834019301500483e-06}. Best is trial 24 with value: 0.8045454545454546.\n",
      "WARNING: Maximum number of iterations 32 reached. The mean may be inaccurate\n"
     ]
    },
    {
     "name": "stdout",
     "output_type": "stream",
     "text": [
      "SVD 수렴 문제 발생: SVD did not converge. 계속 진행합니다.\n"
     ]
    },
    {
     "name": "stderr",
     "output_type": "stream",
     "text": [
      "[I 2024-10-13 19:58:16,189] Trial 397 finished with value: 0.6848484848484848 and parameters: {'lr': 1.9096649609241553e-05, 'weight_decay': 1.0089801708146577e-06}. Best is trial 24 with value: 0.8045454545454546.\n",
      "WARNING: Maximum number of iterations 32 reached. The mean may be inaccurate\n"
     ]
    },
    {
     "name": "stdout",
     "output_type": "stream",
     "text": [
      "SVD 수렴 문제 발생: SVD did not converge. 계속 진행합니다.\n"
     ]
    },
    {
     "name": "stderr",
     "output_type": "stream",
     "text": [
      "[I 2024-10-13 20:02:44,197] Trial 398 finished with value: 0.6332497911445281 and parameters: {'lr': 2.6858253566580713e-05, 'weight_decay': 1.3756006234845615e-06}. Best is trial 24 with value: 0.8045454545454546.\n",
      "WARNING: Maximum number of iterations 32 reached. The mean may be inaccurate\n"
     ]
    },
    {
     "name": "stdout",
     "output_type": "stream",
     "text": [
      "SVD 수렴 문제 발생: SVD did not converge. 계속 진행합니다.\n"
     ]
    },
    {
     "name": "stderr",
     "output_type": "stream",
     "text": [
      "[I 2024-10-13 20:07:13,030] Trial 399 finished with value: 0.7295504789977892 and parameters: {'lr': 1.5087995745616617e-05, 'weight_decay': 1.2189326921631638e-06}. Best is trial 24 with value: 0.8045454545454546.\n",
      "WARNING: Maximum number of iterations 32 reached. The mean may be inaccurate\n"
     ]
    },
    {
     "name": "stdout",
     "output_type": "stream",
     "text": [
      "SVD 수렴 문제 발생: SVD did not converge. 계속 진행합니다.\n"
     ]
    },
    {
     "name": "stderr",
     "output_type": "stream",
     "text": [
      "[I 2024-10-13 20:11:41,014] Trial 400 finished with value: 0.6721311475409836 and parameters: {'lr': 1.9195936629380505e-05, 'weight_decay': 1.7787804379612383e-06}. Best is trial 24 with value: 0.8045454545454546.\n",
      "WARNING: Maximum number of iterations 32 reached. The mean may be inaccurate\n"
     ]
    },
    {
     "name": "stdout",
     "output_type": "stream",
     "text": [
      "SVD 수렴 문제 발생: SVD did not converge. 계속 진행합니다.\n"
     ]
    },
    {
     "name": "stderr",
     "output_type": "stream",
     "text": [
      "[I 2024-10-13 20:16:09,182] Trial 401 finished with value: 0.672911787665886 and parameters: {'lr': 2.5067350166208088e-05, 'weight_decay': 1.4723469901240955e-06}. Best is trial 24 with value: 0.8045454545454546.\n",
      "WARNING: Maximum number of iterations 32 reached. The mean may be inaccurate\n"
     ]
    },
    {
     "name": "stdout",
     "output_type": "stream",
     "text": [
      "SVD 수렴 문제 발생: SVD did not converge. 계속 진행합니다.\n"
     ]
    },
    {
     "name": "stderr",
     "output_type": "stream",
     "text": [
      "[I 2024-10-13 20:20:37,465] Trial 402 finished with value: 0.5772727272727274 and parameters: {'lr': 9.418826881231765e-06, 'weight_decay': 1.1843586879036135e-06}. Best is trial 24 with value: 0.8045454545454546.\n",
      "WARNING: Maximum number of iterations 32 reached. The mean may be inaccurate\n"
     ]
    },
    {
     "name": "stdout",
     "output_type": "stream",
     "text": [
      "SVD 수렴 문제 발생: SVD did not converge. 계속 진행합니다.\n"
     ]
    },
    {
     "name": "stderr",
     "output_type": "stream",
     "text": [
      "[I 2024-10-13 20:25:05,444] Trial 403 finished with value: 0.6819672131147541 and parameters: {'lr': 1.235998659853883e-05, 'weight_decay': 2.0099735601862397e-06}. Best is trial 24 with value: 0.8045454545454546.\n",
      "WARNING: Maximum number of iterations 32 reached. The mean may be inaccurate\n"
     ]
    },
    {
     "name": "stdout",
     "output_type": "stream",
     "text": [
      "SVD 수렴 문제 발생: SVD did not converge. 계속 진행합니다.\n"
     ]
    },
    {
     "name": "stderr",
     "output_type": "stream",
     "text": [
      "[I 2024-10-13 20:29:33,536] Trial 404 finished with value: 0.659640905542545 and parameters: {'lr': 1.3911077785093863e-05, 'weight_decay': 1.941821684119392e-06}. Best is trial 24 with value: 0.8045454545454546.\n",
      "WARNING: Maximum number of iterations 32 reached. The mean may be inaccurate\n"
     ]
    },
    {
     "name": "stdout",
     "output_type": "stream",
     "text": [
      "SVD 수렴 문제 발생: SVD did not converge. 계속 진행합니다.\n"
     ]
    },
    {
     "name": "stderr",
     "output_type": "stream",
     "text": [
      "[I 2024-10-13 20:34:02,109] Trial 405 finished with value: 0.5879032258064516 and parameters: {'lr': 2.6218311600479603e-05, 'weight_decay': 1.4971852496606656e-06}. Best is trial 24 with value: 0.8045454545454546.\n",
      "WARNING: Maximum number of iterations 32 reached. The mean may be inaccurate\n"
     ]
    },
    {
     "name": "stdout",
     "output_type": "stream",
     "text": [
      "SVD 수렴 문제 발생: SVD did not converge. 계속 진행합니다.\n"
     ]
    },
    {
     "name": "stderr",
     "output_type": "stream",
     "text": [
      "[I 2024-10-13 20:38:30,769] Trial 406 finished with value: 0.6174863387978142 and parameters: {'lr': 1.644617353659406e-05, 'weight_decay': 1.6855833913051917e-06}. Best is trial 24 with value: 0.8045454545454546.\n",
      "WARNING: Maximum number of iterations 32 reached. The mean may be inaccurate\n"
     ]
    },
    {
     "name": "stdout",
     "output_type": "stream",
     "text": [
      "SVD 수렴 문제 발생: SVD did not converge. 계속 진행합니다.\n"
     ]
    },
    {
     "name": "stderr",
     "output_type": "stream",
     "text": [
      "[I 2024-10-13 20:43:00,357] Trial 407 finished with value: 0.6602800294767871 and parameters: {'lr': 1.8501782634073306e-05, 'weight_decay': 2.5167583524454185e-06}. Best is trial 24 with value: 0.8045454545454546.\n",
      "WARNING: Maximum number of iterations 32 reached. The mean may be inaccurate\n"
     ]
    },
    {
     "name": "stdout",
     "output_type": "stream",
     "text": [
      "SVD 수렴 문제 발생: SVD did not converge. 계속 진행합니다.\n"
     ]
    },
    {
     "name": "stderr",
     "output_type": "stream",
     "text": [
      "[I 2024-10-13 20:47:25,652] Trial 408 finished with value: 0.5991803278688524 and parameters: {'lr': 0.002335947006466132, 'weight_decay': 1.2000754010875537e-06}. Best is trial 24 with value: 0.8045454545454546.\n",
      "WARNING: Maximum number of iterations 32 reached. The mean may be inaccurate\n"
     ]
    },
    {
     "name": "stdout",
     "output_type": "stream",
     "text": [
      "SVD 수렴 문제 발생: SVD did not converge. 계속 진행합니다.\n"
     ]
    },
    {
     "name": "stderr",
     "output_type": "stream",
     "text": [
      "[I 2024-10-13 20:51:54,637] Trial 409 finished with value: 0.6725806451612903 and parameters: {'lr': 2.179195714015922e-05, 'weight_decay': 1.39467996914995e-06}. Best is trial 24 with value: 0.8045454545454546.\n",
      "WARNING: Maximum number of iterations 32 reached. The mean may be inaccurate\n"
     ]
    },
    {
     "name": "stdout",
     "output_type": "stream",
     "text": [
      "SVD 수렴 문제 발생: SVD did not converge. 계속 진행합니다.\n"
     ]
    },
    {
     "name": "stderr",
     "output_type": "stream",
     "text": [
      "[I 2024-10-13 20:56:23,024] Trial 410 finished with value: 0.7251461988304094 and parameters: {'lr': 2.9295718644057816e-05, 'weight_decay': 1.0262785232686237e-06}. Best is trial 24 with value: 0.8045454545454546.\n",
      "WARNING: Maximum number of iterations 32 reached. The mean may be inaccurate\n"
     ]
    },
    {
     "name": "stdout",
     "output_type": "stream",
     "text": [
      "SVD 수렴 문제 발생: SVD did not converge. 계속 진행합니다.\n"
     ]
    },
    {
     "name": "stderr",
     "output_type": "stream",
     "text": [
      "[I 2024-10-13 21:00:51,433] Trial 411 finished with value: 0.7053030303030303 and parameters: {'lr': 1.4393205322725828e-05, 'weight_decay': 2.024341430514588e-06}. Best is trial 24 with value: 0.8045454545454546.\n",
      "WARNING: Maximum number of iterations 32 reached. The mean may be inaccurate\n"
     ]
    },
    {
     "name": "stdout",
     "output_type": "stream",
     "text": [
      "SVD 수렴 문제 발생: SVD did not converge. 계속 진행합니다.\n"
     ]
    },
    {
     "name": "stderr",
     "output_type": "stream",
     "text": [
      "[I 2024-10-13 21:05:20,633] Trial 412 finished with value: 0.6932084309133489 and parameters: {'lr': 2.4048816586323426e-05, 'weight_decay': 2.5505120299731814e-06}. Best is trial 24 with value: 0.8045454545454546.\n",
      "WARNING: Maximum number of iterations 32 reached. The mean may be inaccurate\n"
     ]
    },
    {
     "name": "stdout",
     "output_type": "stream",
     "text": [
      "SVD 수렴 문제 발생: SVD did not converge. 계속 진행합니다.\n"
     ]
    },
    {
     "name": "stderr",
     "output_type": "stream",
     "text": [
      "[I 2024-10-13 21:09:49,670] Trial 413 finished with value: 0.6987673343605547 and parameters: {'lr': 1.8409156392496e-05, 'weight_decay': 1.612760156946055e-06}. Best is trial 24 with value: 0.8045454545454546.\n",
      "WARNING: Maximum number of iterations 32 reached. The mean may be inaccurate\n",
      "[I 2024-10-13 21:14:18,599] Trial 414 finished with value: 0.5964090554254489 and parameters: {'lr': 3.0512930100134913e-05, 'weight_decay': 1.1933073905853006e-06}. Best is trial 24 with value: 0.8045454545454546.\n"
     ]
    },
    {
     "name": "stdout",
     "output_type": "stream",
     "text": [
      "SVD 수렴 문제 발생: SVD did not converge. 계속 진행합니다.\n"
     ]
    },
    {
     "name": "stderr",
     "output_type": "stream",
     "text": [
      "WARNING: Maximum number of iterations 32 reached. The mean may be inaccurate\n"
     ]
    },
    {
     "name": "stdout",
     "output_type": "stream",
     "text": [
      "SVD 수렴 문제 발생: SVD did not converge. 계속 진행합니다.\n"
     ]
    },
    {
     "name": "stderr",
     "output_type": "stream",
     "text": [
      "[I 2024-10-13 21:18:46,228] Trial 415 finished with value: 0.6818181818181818 and parameters: {'lr': 1.3438038405618144e-05, 'weight_decay': 1.8745911032401824e-06}. Best is trial 24 with value: 0.8045454545454546.\n",
      "WARNING: Maximum number of iterations 32 reached. The mean may be inaccurate\n"
     ]
    },
    {
     "name": "stdout",
     "output_type": "stream",
     "text": [
      "SVD 수렴 문제 발생: SVD did not converge. 계속 진행합니다.\n"
     ]
    },
    {
     "name": "stderr",
     "output_type": "stream",
     "text": [
      "[I 2024-10-13 21:23:13,715] Trial 416 finished with value: 0.5306451612903226 and parameters: {'lr': 1.0638532865052862e-05, 'weight_decay': 2.2986271876671917e-06}. Best is trial 24 with value: 0.8045454545454546.\n",
      "WARNING: Maximum number of iterations 32 reached. The mean may be inaccurate\n"
     ]
    },
    {
     "name": "stdout",
     "output_type": "stream",
     "text": [
      "SVD 수렴 문제 발생: SVD did not converge. 계속 진행합니다.\n"
     ]
    },
    {
     "name": "stderr",
     "output_type": "stream",
     "text": [
      "[I 2024-10-13 21:27:42,187] Trial 417 finished with value: 0.6949152542372881 and parameters: {'lr': 1.9654437743537285e-05, 'weight_decay': 1.4221059856259066e-06}. Best is trial 24 with value: 0.8045454545454546.\n",
      "WARNING: Maximum number of iterations 32 reached. The mean may be inaccurate\n",
      "[I 2024-10-13 21:32:11,424] Trial 418 finished with value: 0.6697892271662762 and parameters: {'lr': 2.7109127441399807e-05, 'weight_decay': 2.9358931836127196e-06}. Best is trial 24 with value: 0.8045454545454546.\n"
     ]
    },
    {
     "name": "stdout",
     "output_type": "stream",
     "text": [
      "SVD 수렴 문제 발생: SVD did not converge. 계속 진행합니다.\n"
     ]
    },
    {
     "name": "stderr",
     "output_type": "stream",
     "text": [
      "WARNING: Maximum number of iterations 32 reached. The mean may be inaccurate\n"
     ]
    },
    {
     "name": "stdout",
     "output_type": "stream",
     "text": [
      "SVD 수렴 문제 발생: SVD did not converge. 계속 진행합니다.\n"
     ]
    },
    {
     "name": "stderr",
     "output_type": "stream",
     "text": [
      "[I 2024-10-13 21:36:39,036] Trial 419 finished with value: 0.7172131147540983 and parameters: {'lr': 3.3874502758049806e-05, 'weight_decay': 2.3139912198221613e-06}. Best is trial 24 with value: 0.8045454545454546.\n",
      "WARNING: Maximum number of iterations 32 reached. The mean may be inaccurate\n"
     ]
    },
    {
     "name": "stdout",
     "output_type": "stream",
     "text": [
      "SVD 수렴 문제 발생: SVD did not converge. 계속 진행합니다.\n"
     ]
    },
    {
     "name": "stderr",
     "output_type": "stream",
     "text": [
      "[I 2024-10-13 21:41:06,843] Trial 420 finished with value: 0.6883680555555556 and parameters: {'lr': 1.5936910678673308e-05, 'weight_decay': 1.1894651166832194e-06}. Best is trial 24 with value: 0.8045454545454546.\n",
      "WARNING: Maximum number of iterations 32 reached. The mean may be inaccurate\n",
      "[I 2024-10-13 21:45:36,375] Trial 421 finished with value: 0.6620967741935484 and parameters: {'lr': 9.054376766957629e-06, 'weight_decay': 1.7712306734196426e-06}. Best is trial 24 with value: 0.8045454545454546.\n"
     ]
    },
    {
     "name": "stdout",
     "output_type": "stream",
     "text": [
      "SVD 수렴 문제 발생: SVD did not converge. 계속 진행합니다.\n"
     ]
    },
    {
     "name": "stderr",
     "output_type": "stream",
     "text": [
      "WARNING: Maximum number of iterations 32 reached. The mean may be inaccurate\n"
     ]
    },
    {
     "name": "stdout",
     "output_type": "stream",
     "text": [
      "SVD 수렴 문제 발생: SVD did not converge. 계속 진행합니다.\n"
     ]
    },
    {
     "name": "stderr",
     "output_type": "stream",
     "text": [
      "[I 2024-10-13 21:50:05,373] Trial 422 finished with value: 0.6370023419203747 and parameters: {'lr': 2.435462127507382e-05, 'weight_decay': 3.299918461347665e-06}. Best is trial 24 with value: 0.8045454545454546.\n",
      "WARNING: Maximum number of iterations 32 reached. The mean may be inaccurate\n"
     ]
    },
    {
     "name": "stdout",
     "output_type": "stream",
     "text": [
      "SVD 수렴 문제 발생: SVD did not converge. 계속 진행합니다.\n"
     ]
    },
    {
     "name": "stderr",
     "output_type": "stream",
     "text": [
      "[I 2024-10-13 21:54:35,797] Trial 423 finished with value: 0.5904761904761905 and parameters: {'lr': 2.112382376838787e-05, 'weight_decay': 2.034412836138868e-06}. Best is trial 24 with value: 0.8045454545454546.\n",
      "WARNING: Maximum number of iterations 32 reached. The mean may be inaccurate\n"
     ]
    },
    {
     "name": "stdout",
     "output_type": "stream",
     "text": [
      "SVD 수렴 문제 발생: SVD did not converge. 계속 진행합니다.\n"
     ]
    },
    {
     "name": "stderr",
     "output_type": "stream",
     "text": [
      "[I 2024-10-13 21:59:05,581] Trial 424 finished with value: 0.6526151444184232 and parameters: {'lr': 1.1659783179611929e-05, 'weight_decay': 1.4467540389774008e-06}. Best is trial 24 with value: 0.8045454545454546.\n",
      "WARNING: Maximum number of iterations 32 reached. The mean may be inaccurate\n"
     ]
    },
    {
     "name": "stdout",
     "output_type": "stream",
     "text": [
      "SVD 수렴 문제 발생: SVD did not converge. 계속 진행합니다.\n"
     ]
    },
    {
     "name": "stderr",
     "output_type": "stream",
     "text": [
      "[I 2024-10-13 22:03:35,937] Trial 425 finished with value: 0.6846774193548387 and parameters: {'lr': 4.491485928122547e-06, 'weight_decay': 1.0777407655272764e-06}. Best is trial 24 with value: 0.8045454545454546.\n",
      "WARNING: Maximum number of iterations 32 reached. The mean may be inaccurate\n"
     ]
    },
    {
     "name": "stdout",
     "output_type": "stream",
     "text": [
      "SVD 수렴 문제 발생: SVD did not converge. 계속 진행합니다.\n"
     ]
    },
    {
     "name": "stderr",
     "output_type": "stream",
     "text": [
      "[I 2024-10-13 22:08:05,432] Trial 426 finished with value: 0.680327868852459 and parameters: {'lr': 1.5966244911634114e-05, 'weight_decay': 2.853137185844233e-06}. Best is trial 24 with value: 0.8045454545454546.\n",
      "WARNING: Maximum number of iterations 32 reached. The mean may be inaccurate\n"
     ]
    },
    {
     "name": "stdout",
     "output_type": "stream",
     "text": [
      "SVD 수렴 문제 발생: SVD did not converge. 계속 진행합니다.\n"
     ]
    },
    {
     "name": "stderr",
     "output_type": "stream",
     "text": [
      "[I 2024-10-13 22:12:34,740] Trial 427 finished with value: 0.6346604215456675 and parameters: {'lr': 3.062819655834596e-05, 'weight_decay': 3.59400622509442e-06}. Best is trial 24 with value: 0.8045454545454546.\n",
      "WARNING: Maximum number of iterations 32 reached. The mean may be inaccurate\n"
     ]
    },
    {
     "name": "stdout",
     "output_type": "stream",
     "text": [
      "SVD 수렴 문제 발생: SVD did not converge. 계속 진행합니다.\n"
     ]
    },
    {
     "name": "stderr",
     "output_type": "stream",
     "text": [
      "[I 2024-10-13 22:17:03,570] Trial 428 finished with value: 0.6258064516129033 and parameters: {'lr': 3.9427309393474925e-05, 'weight_decay': 1.0027830196705023e-06}. Best is trial 24 with value: 0.8045454545454546.\n",
      "WARNING: Maximum number of iterations 32 reached. The mean may be inaccurate\n"
     ]
    },
    {
     "name": "stdout",
     "output_type": "stream",
     "text": [
      "SVD 수렴 문제 발생: SVD did not converge. 계속 진행합니다.\n"
     ]
    },
    {
     "name": "stderr",
     "output_type": "stream",
     "text": [
      "[I 2024-10-13 22:21:33,176] Trial 429 finished with value: 0.7818717759764187 and parameters: {'lr': 2.164557432075727e-05, 'weight_decay': 4.377299183320235e-06}. Best is trial 24 with value: 0.8045454545454546.\n",
      "WARNING: Maximum number of iterations 32 reached. The mean may be inaccurate\n"
     ]
    },
    {
     "name": "stdout",
     "output_type": "stream",
     "text": [
      "SVD 수렴 문제 발생: SVD did not converge. 계속 진행합니다.\n"
     ]
    },
    {
     "name": "stderr",
     "output_type": "stream",
     "text": [
      "[I 2024-10-13 22:26:02,576] Trial 430 finished with value: 0.6032258064516128 and parameters: {'lr': 2.4801486972463227e-05, 'weight_decay': 4.083443084252385e-05}. Best is trial 24 with value: 0.8045454545454546.\n",
      "WARNING: Maximum number of iterations 32 reached. The mean may be inaccurate\n"
     ]
    },
    {
     "name": "stdout",
     "output_type": "stream",
     "text": [
      "SVD 수렴 문제 발생: SVD did not converge. 계속 진행합니다.\n"
     ]
    },
    {
     "name": "stderr",
     "output_type": "stream",
     "text": [
      "[I 2024-10-13 22:30:32,171] Trial 431 finished with value: 0.6811475409836065 and parameters: {'lr': 3.5876656421490447e-05, 'weight_decay': 1.3847966561298135e-06}. Best is trial 24 with value: 0.8045454545454546.\n",
      "WARNING: Maximum number of iterations 32 reached. The mean may be inaccurate\n"
     ]
    },
    {
     "name": "stdout",
     "output_type": "stream",
     "text": [
      "SVD 수렴 문제 발생: SVD did not converge. 계속 진행합니다.\n"
     ]
    },
    {
     "name": "stderr",
     "output_type": "stream",
     "text": [
      "[I 2024-10-13 22:35:00,507] Trial 432 finished with value: 0.6112903225806452 and parameters: {'lr': 2.2107044893642017e-05, 'weight_decay': 1.6819073822584774e-06}. Best is trial 24 with value: 0.8045454545454546.\n",
      "WARNING: Maximum number of iterations 32 reached. The mean may be inaccurate\n"
     ]
    },
    {
     "name": "stdout",
     "output_type": "stream",
     "text": [
      "SVD 수렴 문제 발생: SVD did not converge. 계속 진행합니다.\n"
     ]
    },
    {
     "name": "stderr",
     "output_type": "stream",
     "text": [
      "[I 2024-10-13 22:39:29,321] Trial 433 finished with value: 0.6175386882829772 and parameters: {'lr': 1.9146378524168582e-05, 'weight_decay': 2.3303365526432923e-06}. Best is trial 24 with value: 0.8045454545454546.\n",
      "WARNING: Maximum number of iterations 32 reached. The mean may be inaccurate\n"
     ]
    },
    {
     "name": "stdout",
     "output_type": "stream",
     "text": [
      "SVD 수렴 문제 발생: SVD did not converge. 계속 진행합니다.\n"
     ]
    },
    {
     "name": "stderr",
     "output_type": "stream",
     "text": [
      "[I 2024-10-13 22:43:58,343] Trial 434 finished with value: 0.759090909090909 and parameters: {'lr': 7.81840400848121e-06, 'weight_decay': 4.392431847006322e-06}. Best is trial 24 with value: 0.8045454545454546.\n",
      "WARNING: Maximum number of iterations 32 reached. The mean may be inaccurate\n"
     ]
    },
    {
     "name": "stdout",
     "output_type": "stream",
     "text": [
      "SVD 수렴 문제 발생: SVD did not converge. 계속 진행합니다.\n"
     ]
    },
    {
     "name": "stderr",
     "output_type": "stream",
     "text": [
      "[I 2024-10-13 22:48:27,778] Trial 435 finished with value: 0.643247462919594 and parameters: {'lr': 6.4704643984403495e-06, 'weight_decay': 4.504950925819186e-06}. Best is trial 24 with value: 0.8045454545454546.\n",
      "WARNING: Maximum number of iterations 32 reached. The mean may be inaccurate\n"
     ]
    },
    {
     "name": "stdout",
     "output_type": "stream",
     "text": [
      "SVD 수렴 문제 발생: SVD did not converge. 계속 진행합니다.\n"
     ]
    },
    {
     "name": "stderr",
     "output_type": "stream",
     "text": [
      "[I 2024-10-13 22:52:57,312] Trial 436 finished with value: 0.6522727272727272 and parameters: {'lr': 6.9781368042616386e-06, 'weight_decay': 4.11542158850485e-06}. Best is trial 24 with value: 0.8045454545454546.\n",
      "WARNING: Maximum number of iterations 32 reached. The mean may be inaccurate\n"
     ]
    },
    {
     "name": "stdout",
     "output_type": "stream",
     "text": [
      "SVD 수렴 문제 발생: SVD did not converge. 계속 진행합니다.\n"
     ]
    },
    {
     "name": "stderr",
     "output_type": "stream",
     "text": [
      "[I 2024-10-13 22:57:27,280] Trial 437 finished with value: 0.701014832162373 and parameters: {'lr': 5.527942411153746e-06, 'weight_decay': 3.2958613074294842e-06}. Best is trial 24 with value: 0.8045454545454546.\n",
      "WARNING: Maximum number of iterations 32 reached. The mean may be inaccurate\n"
     ]
    },
    {
     "name": "stdout",
     "output_type": "stream",
     "text": [
      "SVD 수렴 문제 발생: SVD did not converge. 계속 진행합니다.\n"
     ]
    },
    {
     "name": "stderr",
     "output_type": "stream",
     "text": [
      "[I 2024-10-13 23:01:56,179] Trial 438 finished with value: 0.6621212121212121 and parameters: {'lr': 8.168055703491228e-06, 'weight_decay': 6.033272108340957e-06}. Best is trial 24 with value: 0.8045454545454546.\n",
      "WARNING: Maximum number of iterations 32 reached. The mean may be inaccurate\n"
     ]
    },
    {
     "name": "stdout",
     "output_type": "stream",
     "text": [
      "SVD 수렴 문제 발생: SVD did not converge. 계속 진행합니다.\n"
     ]
    },
    {
     "name": "stderr",
     "output_type": "stream",
     "text": [
      "[I 2024-10-13 23:06:24,640] Trial 439 finished with value: 0.6463700234192038 and parameters: {'lr': 1.0313957123718917e-05, 'weight_decay': 4.764446729931818e-06}. Best is trial 24 with value: 0.8045454545454546.\n",
      "WARNING: Maximum number of iterations 32 reached. The mean may be inaccurate\n"
     ]
    },
    {
     "name": "stdout",
     "output_type": "stream",
     "text": [
      "SVD 수렴 문제 발생: SVD did not converge. 계속 진행합니다.\n"
     ]
    },
    {
     "name": "stderr",
     "output_type": "stream",
     "text": [
      "[I 2024-10-13 23:10:53,067] Trial 440 finished with value: 0.638709677419355 and parameters: {'lr': 1.2592289813388578e-05, 'weight_decay': 3.687131341601974e-06}. Best is trial 24 with value: 0.8045454545454546.\n",
      "WARNING: Maximum number of iterations 32 reached. The mean may be inaccurate\n"
     ]
    },
    {
     "name": "stdout",
     "output_type": "stream",
     "text": [
      "SVD 수렴 문제 발생: SVD did not converge. 계속 진행합니다.\n"
     ]
    },
    {
     "name": "stderr",
     "output_type": "stream",
     "text": [
      "[I 2024-10-13 23:15:22,316] Trial 441 finished with value: 0.6865079365079365 and parameters: {'lr': 2.8023008529681192e-05, 'weight_decay': 2.9346855680904663e-06}. Best is trial 24 with value: 0.8045454545454546.\n",
      "WARNING: Maximum number of iterations 32 reached. The mean may be inaccurate\n"
     ]
    },
    {
     "name": "stdout",
     "output_type": "stream",
     "text": [
      "SVD 수렴 문제 발생: SVD did not converge. 계속 진행합니다.\n"
     ]
    },
    {
     "name": "stderr",
     "output_type": "stream",
     "text": [
      "[I 2024-10-13 23:19:50,979] Trial 442 finished with value: 0.6088992974238876 and parameters: {'lr': 3.082189684737514e-05, 'weight_decay': 7.045765115118105e-06}. Best is trial 24 with value: 0.8045454545454546.\n",
      "WARNING: Maximum number of iterations 32 reached. The mean may be inaccurate\n"
     ]
    },
    {
     "name": "stdout",
     "output_type": "stream",
     "text": [
      "SVD 수렴 문제 발생: SVD did not converge. 계속 진행합니다.\n"
     ]
    },
    {
     "name": "stderr",
     "output_type": "stream",
     "text": [
      "[I 2024-10-13 23:24:19,941] Trial 443 finished with value: 0.6901639344262295 and parameters: {'lr': 1.690589963470571e-05, 'weight_decay': 4.2456490432601244e-06}. Best is trial 24 with value: 0.8045454545454546.\n",
      "WARNING: Maximum number of iterations 32 reached. The mean may be inaccurate\n"
     ]
    },
    {
     "name": "stdout",
     "output_type": "stream",
     "text": [
      "SVD 수렴 문제 발생: SVD did not converge. 계속 진행합니다.\n"
     ]
    },
    {
     "name": "stderr",
     "output_type": "stream",
     "text": [
      "[I 2024-10-13 23:28:48,267] Trial 444 finished with value: 0.6765151515151515 and parameters: {'lr': 1.5369972332281325e-05, 'weight_decay': 5.508213968002766e-06}. Best is trial 24 with value: 0.8045454545454546.\n",
      "WARNING: Maximum number of iterations 32 reached. The mean may be inaccurate\n"
     ]
    },
    {
     "name": "stdout",
     "output_type": "stream",
     "text": [
      "SVD 수렴 문제 발생: SVD did not converge. 계속 진행합니다.\n"
     ]
    },
    {
     "name": "stderr",
     "output_type": "stream",
     "text": [
      "[I 2024-10-13 23:33:15,901] Trial 445 finished with value: 0.6477272727272727 and parameters: {'lr': 2.0355456108699397e-05, 'weight_decay': 2.7238853713577836e-06}. Best is trial 24 with value: 0.8045454545454546.\n",
      "WARNING: Maximum number of iterations 32 reached. The mean may be inaccurate\n"
     ]
    },
    {
     "name": "stdout",
     "output_type": "stream",
     "text": [
      "SVD 수렴 문제 발생: SVD did not converge. 계속 진행합니다.\n"
     ]
    },
    {
     "name": "stderr",
     "output_type": "stream",
     "text": [
      "[I 2024-10-13 23:37:44,557] Trial 446 finished with value: 0.7369242779078845 and parameters: {'lr': 3.139936869980296e-06, 'weight_decay': 1.2106637886546115e-06}. Best is trial 24 with value: 0.8045454545454546.\n",
      "WARNING: Maximum number of iterations 32 reached. The mean may be inaccurate\n"
     ]
    },
    {
     "name": "stdout",
     "output_type": "stream",
     "text": [
      "SVD 수렴 문제 발생: SVD did not converge. 계속 진행합니다.\n"
     ]
    },
    {
     "name": "stderr",
     "output_type": "stream",
     "text": [
      "[I 2024-10-13 23:42:12,999] Trial 447 finished with value: 0.593939393939394 and parameters: {'lr': 3.846187901522849e-06, 'weight_decay': 3.5703334125756326e-06}. Best is trial 24 with value: 0.8045454545454546.\n",
      "WARNING: Maximum number of iterations 32 reached. The mean may be inaccurate\n"
     ]
    },
    {
     "name": "stdout",
     "output_type": "stream",
     "text": [
      "SVD 수렴 문제 발생: SVD did not converge. 계속 진행합니다.\n"
     ]
    },
    {
     "name": "stderr",
     "output_type": "stream",
     "text": [
      "[I 2024-10-13 23:46:41,443] Trial 448 finished with value: 0.6628787878787878 and parameters: {'lr': 3.5535478046933694e-05, 'weight_decay': 1.970200687217937e-06}. Best is trial 24 with value: 0.8045454545454546.\n",
      "WARNING: Maximum number of iterations 32 reached. The mean may be inaccurate\n"
     ]
    },
    {
     "name": "stdout",
     "output_type": "stream",
     "text": [
      "SVD 수렴 문제 발생: SVD did not converge. 계속 진행합니다.\n"
     ]
    },
    {
     "name": "stderr",
     "output_type": "stream",
     "text": [
      "[I 2024-10-13 23:51:09,942] Trial 449 finished with value: 0.6994535519125683 and parameters: {'lr': 2.2259111324180006e-05, 'weight_decay': 1.5367626424062606e-06}. Best is trial 24 with value: 0.8045454545454546.\n",
      "WARNING: Maximum number of iterations 32 reached. The mean may be inaccurate\n"
     ]
    },
    {
     "name": "stdout",
     "output_type": "stream",
     "text": [
      "SVD 수렴 문제 발생: SVD did not converge. 계속 진행합니다.\n"
     ]
    },
    {
     "name": "stderr",
     "output_type": "stream",
     "text": [
      "[I 2024-10-13 23:55:37,643] Trial 450 finished with value: 0.6276346604215457 and parameters: {'lr': 8.604705869440571e-06, 'weight_decay': 4.572649992295157e-06}. Best is trial 24 with value: 0.8045454545454546.\n",
      "WARNING: Maximum number of iterations 32 reached. The mean may be inaccurate\n",
      "[I 2024-10-14 00:00:06,506] Trial 451 finished with value: 0.6613636363636364 and parameters: {'lr': 1.3961057382495344e-05, 'weight_decay': 2.3815955680497126e-06}. Best is trial 24 with value: 0.8045454545454546.\n"
     ]
    },
    {
     "name": "stdout",
     "output_type": "stream",
     "text": [
      "SVD 수렴 문제 발생: SVD did not converge. 계속 진행합니다.\n"
     ]
    },
    {
     "name": "stderr",
     "output_type": "stream",
     "text": [
      "WARNING: Maximum number of iterations 32 reached. The mean may be inaccurate\n"
     ]
    },
    {
     "name": "stdout",
     "output_type": "stream",
     "text": [
      "SVD 수렴 문제 발생: SVD did not converge. 계속 진행합니다.\n"
     ]
    },
    {
     "name": "stderr",
     "output_type": "stream",
     "text": [
      "[I 2024-10-14 00:04:34,129] Trial 452 finished with value: 0.7161458333333334 and parameters: {'lr': 1.045539483090757e-05, 'weight_decay': 6.366305061019501e-06}. Best is trial 24 with value: 0.8045454545454546.\n",
      "WARNING: Maximum number of iterations 32 reached. The mean may be inaccurate\n"
     ]
    },
    {
     "name": "stdout",
     "output_type": "stream",
     "text": [
      "SVD 수렴 문제 발생: SVD did not converge. 계속 진행합니다.\n"
     ]
    },
    {
     "name": "stderr",
     "output_type": "stream",
     "text": [
      "[I 2024-10-14 00:09:02,818] Trial 453 finished with value: 0.7610859728506787 and parameters: {'lr': 4.0734088355489205e-05, 'weight_decay': 1.3178534789371544e-06}. Best is trial 24 with value: 0.8045454545454546.\n",
      "WARNING: Maximum number of iterations 32 reached. The mean may be inaccurate\n",
      "[I 2024-10-14 00:13:32,529] Trial 454 finished with value: 0.6252927400468384 and parameters: {'lr': 2.876514947993058e-05, 'weight_decay': 1.7846436911379457e-06}. Best is trial 24 with value: 0.8045454545454546.\n"
     ]
    },
    {
     "name": "stdout",
     "output_type": "stream",
     "text": [
      "SVD 수렴 문제 발생: SVD did not converge. 계속 진행합니다.\n"
     ]
    },
    {
     "name": "stderr",
     "output_type": "stream",
     "text": [
      "WARNING: Maximum number of iterations 32 reached. The mean may be inaccurate\n"
     ]
    },
    {
     "name": "stdout",
     "output_type": "stream",
     "text": [
      "SVD 수렴 문제 발생: SVD did not converge. 계속 진행합니다.\n"
     ]
    },
    {
     "name": "stderr",
     "output_type": "stream",
     "text": [
      "[I 2024-10-14 00:18:00,646] Trial 455 finished with value: 0.5492063492063491 and parameters: {'lr': 3.9320960957274444e-05, 'weight_decay': 3.320261466400084e-06}. Best is trial 24 with value: 0.8045454545454546.\n",
      "WARNING: Maximum number of iterations 32 reached. The mean may be inaccurate\n"
     ]
    },
    {
     "name": "stdout",
     "output_type": "stream",
     "text": [
      "SVD 수렴 문제 발생: SVD did not converge. 계속 진행합니다.\n"
     ]
    },
    {
     "name": "stderr",
     "output_type": "stream",
     "text": [
      "[I 2024-10-14 00:22:28,821] Trial 456 finished with value: 0.7000000000000001 and parameters: {'lr': 2.59782425999522e-05, 'weight_decay': 1.3681005575605436e-06}. Best is trial 24 with value: 0.8045454545454546.\n",
      "WARNING: Maximum number of iterations 32 reached. The mean may be inaccurate\n",
      "[I 2024-10-14 00:26:58,928] Trial 457 finished with value: 0.6613636363636364 and parameters: {'lr': 3.406956820065877e-05, 'weight_decay': 2.14237682118746e-06}. Best is trial 24 with value: 0.8045454545454546.\n"
     ]
    },
    {
     "name": "stdout",
     "output_type": "stream",
     "text": [
      "SVD 수렴 문제 발생: SVD did not converge. 계속 진행합니다.\n"
     ]
    },
    {
     "name": "stderr",
     "output_type": "stream",
     "text": [
      "WARNING: Maximum number of iterations 32 reached. The mean may be inaccurate\n"
     ]
    },
    {
     "name": "stdout",
     "output_type": "stream",
     "text": [
      "SVD 수렴 문제 발생: SVD did not converge. 계속 진행합니다.\n"
     ]
    },
    {
     "name": "stderr",
     "output_type": "stream",
     "text": [
      "[I 2024-10-14 00:31:27,860] Trial 458 finished with value: 0.775 and parameters: {'lr': 1.87091981977422e-05, 'weight_decay': 5.1704444308023275e-06}. Best is trial 24 with value: 0.8045454545454546.\n",
      "WARNING: Maximum number of iterations 32 reached. The mean may be inaccurate\n"
     ]
    },
    {
     "name": "stdout",
     "output_type": "stream",
     "text": [
      "SVD 수렴 문제 발생: SVD did not converge. 계속 진행합니다.\n"
     ]
    },
    {
     "name": "stderr",
     "output_type": "stream",
     "text": [
      "[I 2024-10-14 00:35:57,793] Trial 459 finished with value: 0.6459677419354839 and parameters: {'lr': 1.8631603059884665e-05, 'weight_decay': 5.689591717467619e-06}. Best is trial 24 with value: 0.8045454545454546.\n",
      "WARNING: Maximum number of iterations 32 reached. The mean may be inaccurate\n"
     ]
    },
    {
     "name": "stdout",
     "output_type": "stream",
     "text": [
      "SVD 수렴 문제 발생: SVD did not converge. 계속 진행합니다.\n"
     ]
    },
    {
     "name": "stderr",
     "output_type": "stream",
     "text": [
      "[I 2024-10-14 00:40:28,574] Trial 460 finished with value: 0.6959677419354838 and parameters: {'lr': 2.3854700800160042e-05, 'weight_decay': 5.046463702262401e-06}. Best is trial 24 with value: 0.8045454545454546.\n",
      "WARNING: Maximum number of iterations 32 reached. The mean may be inaccurate\n"
     ]
    },
    {
     "name": "stdout",
     "output_type": "stream",
     "text": [
      "SVD 수렴 문제 발생: SVD did not converge. 계속 진행합니다.\n"
     ]
    },
    {
     "name": "stderr",
     "output_type": "stream",
     "text": [
      "[I 2024-10-14 00:44:58,564] Trial 461 finished with value: 0.7017543859649124 and parameters: {'lr': 4.212669375321349e-05, 'weight_decay': 4.035087500578548e-06}. Best is trial 24 with value: 0.8045454545454546.\n",
      "WARNING: Maximum number of iterations 32 reached. The mean may be inaccurate\n"
     ]
    },
    {
     "name": "stdout",
     "output_type": "stream",
     "text": [
      "SVD 수렴 문제 발생: SVD did not converge. 계속 진행합니다.\n"
     ]
    },
    {
     "name": "stderr",
     "output_type": "stream",
     "text": [
      "[I 2024-10-14 00:49:28,980] Trial 462 finished with value: 0.7462121212121212 and parameters: {'lr': 3.1450620857640966e-05, 'weight_decay': 7.773105649070064e-06}. Best is trial 24 with value: 0.8045454545454546.\n",
      "WARNING: Maximum number of iterations 32 reached. The mean may be inaccurate\n"
     ]
    },
    {
     "name": "stdout",
     "output_type": "stream",
     "text": [
      "SVD 수렴 문제 발생: SVD did not converge. 계속 진행합니다.\n"
     ]
    },
    {
     "name": "stderr",
     "output_type": "stream",
     "text": [
      "[I 2024-10-14 00:53:59,274] Trial 463 finished with value: 0.7620967741935483 and parameters: {'lr': 2.0531613729827657e-05, 'weight_decay': 6.7170151349716055e-06}. Best is trial 24 with value: 0.8045454545454546.\n",
      "WARNING: Maximum number of iterations 32 reached. The mean may be inaccurate\n"
     ]
    },
    {
     "name": "stdout",
     "output_type": "stream",
     "text": [
      "SVD 수렴 문제 발생: SVD did not converge. 계속 진행합니다.\n"
     ]
    },
    {
     "name": "stderr",
     "output_type": "stream",
     "text": [
      "[I 2024-10-14 00:58:30,093] Trial 464 finished with value: 0.6721311475409836 and parameters: {'lr': 1.778516159544699e-05, 'weight_decay': 7.1671466428579656e-06}. Best is trial 24 with value: 0.8045454545454546.\n",
      "WARNING: Maximum number of iterations 32 reached. The mean may be inaccurate\n"
     ]
    },
    {
     "name": "stdout",
     "output_type": "stream",
     "text": [
      "SVD 수렴 문제 발생: SVD did not converge. 계속 진행합니다.\n"
     ]
    },
    {
     "name": "stderr",
     "output_type": "stream",
     "text": [
      "[I 2024-10-14 01:03:00,635] Trial 465 finished with value: 0.5234375 and parameters: {'lr': 1.2929020540680245e-05, 'weight_decay': 9.444512148883327e-06}. Best is trial 24 with value: 0.8045454545454546.\n",
      "WARNING: Maximum number of iterations 32 reached. The mean may be inaccurate\n"
     ]
    },
    {
     "name": "stdout",
     "output_type": "stream",
     "text": [
      "SVD 수렴 문제 발생: SVD did not converge. 계속 진행합니다.\n"
     ]
    },
    {
     "name": "stderr",
     "output_type": "stream",
     "text": [
      "[I 2024-10-14 01:07:31,645] Trial 466 finished with value: 0.718939393939394 and parameters: {'lr': 2.0006179075107222e-05, 'weight_decay': 5.992650957947392e-06}. Best is trial 24 with value: 0.8045454545454546.\n",
      "WARNING: Maximum number of iterations 32 reached. The mean may be inaccurate\n"
     ]
    },
    {
     "name": "stdout",
     "output_type": "stream",
     "text": [
      "SVD 수렴 문제 발생: SVD did not converge. 계속 진행합니다.\n"
     ]
    },
    {
     "name": "stderr",
     "output_type": "stream",
     "text": [
      "[I 2024-10-14 01:12:01,987] Trial 467 finished with value: 0.7111631537861045 and parameters: {'lr': 2.0580806284619693e-05, 'weight_decay': 5.129414223655195e-06}. Best is trial 24 with value: 0.8045454545454546.\n",
      "WARNING: Maximum number of iterations 32 reached. The mean may be inaccurate\n"
     ]
    },
    {
     "name": "stdout",
     "output_type": "stream",
     "text": [
      "SVD 수렴 문제 발생: SVD did not converge. 계속 진행합니다.\n"
     ]
    },
    {
     "name": "stderr",
     "output_type": "stream",
     "text": [
      "[I 2024-10-14 01:16:32,555] Trial 468 finished with value: 0.6161290322580646 and parameters: {'lr': 2.441989487778171e-05, 'weight_decay': 6.851430569232357e-06}. Best is trial 24 with value: 0.8045454545454546.\n",
      "WARNING: Maximum number of iterations 32 reached. The mean may be inaccurate\n"
     ]
    },
    {
     "name": "stdout",
     "output_type": "stream",
     "text": [
      "SVD 수렴 문제 발생: SVD did not converge. 계속 진행합니다.\n"
     ]
    },
    {
     "name": "stderr",
     "output_type": "stream",
     "text": [
      "[I 2024-10-14 01:21:02,216] Trial 469 finished with value: 0.6049960967993755 and parameters: {'lr': 1.5063115796283484e-05, 'weight_decay': 1.0535199673304299e-05}. Best is trial 24 with value: 0.8045454545454546.\n",
      "WARNING: Maximum number of iterations 32 reached. The mean may be inaccurate\n"
     ]
    },
    {
     "name": "stdout",
     "output_type": "stream",
     "text": [
      "SVD 수렴 문제 발생: SVD did not converge. 계속 진행합니다.\n"
     ]
    },
    {
     "name": "stderr",
     "output_type": "stream",
     "text": [
      "[I 2024-10-14 01:25:30,234] Trial 470 finished with value: 0.629976580796253 and parameters: {'lr': 1.647970346770475e-05, 'weight_decay': 4.553872272510038e-06}. Best is trial 24 with value: 0.8045454545454546.\n",
      "WARNING: Maximum number of iterations 32 reached. The mean may be inaccurate\n"
     ]
    },
    {
     "name": "stdout",
     "output_type": "stream",
     "text": [
      "SVD 수렴 문제 발생: SVD did not converge. 계속 진행합니다.\n"
     ]
    },
    {
     "name": "stderr",
     "output_type": "stream",
     "text": [
      "[I 2024-10-14 01:29:59,204] Trial 471 finished with value: 0.6806451612903226 and parameters: {'lr': 1.2366596785358549e-05, 'weight_decay': 6.243581224184513e-06}. Best is trial 24 with value: 0.8045454545454546.\n",
      "WARNING: Maximum number of iterations 32 reached. The mean may be inaccurate\n"
     ]
    },
    {
     "name": "stdout",
     "output_type": "stream",
     "text": [
      "SVD 수렴 문제 발생: SVD did not converge. 계속 진행합니다.\n"
     ]
    },
    {
     "name": "stderr",
     "output_type": "stream",
     "text": [
      "[I 2024-10-14 01:34:28,800] Trial 472 finished with value: 0.568939393939394 and parameters: {'lr': 2.6504074081921882e-06, 'weight_decay': 9.016848376581215e-06}. Best is trial 24 with value: 0.8045454545454546.\n",
      "WARNING: Maximum number of iterations 32 reached. The mean may be inaccurate\n"
     ]
    },
    {
     "name": "stdout",
     "output_type": "stream",
     "text": [
      "SVD 수렴 문제 발생: SVD did not converge. 계속 진행합니다.\n"
     ]
    },
    {
     "name": "stderr",
     "output_type": "stream",
     "text": [
      "[I 2024-10-14 01:38:57,274] Trial 473 finished with value: 0.7543859649122807 and parameters: {'lr': 2.2272214114871466e-05, 'weight_decay': 5.148920173580236e-06}. Best is trial 24 with value: 0.8045454545454546.\n",
      "WARNING: Maximum number of iterations 32 reached. The mean may be inaccurate\n"
     ]
    },
    {
     "name": "stdout",
     "output_type": "stream",
     "text": [
      "SVD 수렴 문제 발생: SVD did not converge. 계속 진행합니다.\n"
     ]
    },
    {
     "name": "stderr",
     "output_type": "stream",
     "text": [
      "[I 2024-10-14 01:43:26,304] Trial 474 finished with value: 0.7181409295352325 and parameters: {'lr': 2.824882763573365e-05, 'weight_decay': 4.998470632982143e-06}. Best is trial 24 with value: 0.8045454545454546.\n",
      "WARNING: Maximum number of iterations 32 reached. The mean may be inaccurate\n",
      "[I 2024-10-14 01:47:56,895] Trial 475 finished with value: 0.7462919594067134 and parameters: {'lr': 2.3041283571905895e-05, 'weight_decay': 7.66624744888352e-06}. Best is trial 24 with value: 0.8045454545454546.\n"
     ]
    },
    {
     "name": "stdout",
     "output_type": "stream",
     "text": [
      "SVD 수렴 문제 발생: SVD did not converge. 계속 진행합니다.\n"
     ]
    },
    {
     "name": "stderr",
     "output_type": "stream",
     "text": [
      "WARNING: Maximum number of iterations 32 reached. The mean may be inaccurate\n"
     ]
    },
    {
     "name": "stdout",
     "output_type": "stream",
     "text": [
      "SVD 수렴 문제 발생: SVD did not converge. 계속 진행합니다.\n"
     ]
    },
    {
     "name": "stderr",
     "output_type": "stream",
     "text": [
      "[I 2024-10-14 01:52:25,096] Trial 476 finished with value: 0.6462121212121212 and parameters: {'lr': 3.9134144502963145e-05, 'weight_decay': 5.958094968112638e-06}. Best is trial 24 with value: 0.8045454545454546.\n",
      "WARNING: Maximum number of iterations 32 reached. The mean may be inaccurate\n"
     ]
    },
    {
     "name": "stdout",
     "output_type": "stream",
     "text": [
      "SVD 수렴 문제 발생: SVD did not converge. 계속 진행합니다.\n"
     ]
    },
    {
     "name": "stderr",
     "output_type": "stream",
     "text": [
      "[I 2024-10-14 01:56:54,408] Trial 477 finished with value: 0.6541764246682279 and parameters: {'lr': 7.61904773493931e-06, 'weight_decay': 4.154979930851718e-06}. Best is trial 24 with value: 0.8045454545454546.\n",
      "WARNING: Maximum number of iterations 32 reached. The mean may be inaccurate\n"
     ]
    },
    {
     "name": "stdout",
     "output_type": "stream",
     "text": [
      "SVD 수렴 문제 발생: SVD did not converge. 계속 진행합니다.\n"
     ]
    },
    {
     "name": "stderr",
     "output_type": "stream",
     "text": [
      "[I 2024-10-14 02:01:24,061] Trial 478 finished with value: 0.7139219015280135 and parameters: {'lr': 2.656214792291851e-05, 'weight_decay': 5.08697167326241e-06}. Best is trial 24 with value: 0.8045454545454546.\n",
      "WARNING: Maximum number of iterations 32 reached. The mean may be inaccurate\n"
     ]
    },
    {
     "name": "stdout",
     "output_type": "stream",
     "text": [
      "SVD 수렴 문제 발생: SVD did not converge. 계속 진행합니다.\n"
     ]
    },
    {
     "name": "stderr",
     "output_type": "stream",
     "text": [
      "[I 2024-10-14 02:05:53,180] Trial 479 finished with value: 0.6712121212121213 and parameters: {'lr': 3.363898124781405e-05, 'weight_decay': 3.7606574382408693e-06}. Best is trial 24 with value: 0.8045454545454546.\n",
      "WARNING: Maximum number of iterations 32 reached. The mean may be inaccurate\n"
     ]
    },
    {
     "name": "stdout",
     "output_type": "stream",
     "text": [
      "SVD 수렴 문제 발생: SVD did not converge. 계속 진행합니다.\n"
     ]
    },
    {
     "name": "stderr",
     "output_type": "stream",
     "text": [
      "[I 2024-10-14 02:10:22,063] Trial 480 finished with value: 0.765704584040747 and parameters: {'lr': 4.465661832544626e-05, 'weight_decay': 6.653293282943412e-06}. Best is trial 24 with value: 0.8045454545454546.\n",
      "WARNING: Maximum number of iterations 32 reached. The mean may be inaccurate\n"
     ]
    },
    {
     "name": "stdout",
     "output_type": "stream",
     "text": [
      "SVD 수렴 문제 발생: SVD did not converge. 계속 진행합니다.\n"
     ]
    },
    {
     "name": "stderr",
     "output_type": "stream",
     "text": [
      "[I 2024-10-14 02:14:51,755] Trial 481 finished with value: 0.660483870967742 and parameters: {'lr': 2.0646315054337387e-05, 'weight_decay': 8.334317261703833e-06}. Best is trial 24 with value: 0.8045454545454546.\n",
      "WARNING: Maximum number of iterations 32 reached. The mean may be inaccurate\n"
     ]
    },
    {
     "name": "stdout",
     "output_type": "stream",
     "text": [
      "SVD 수렴 문제 발생: SVD did not converge. 계속 진행합니다.\n"
     ]
    },
    {
     "name": "stderr",
     "output_type": "stream",
     "text": [
      "[I 2024-10-14 02:19:21,646] Trial 482 finished with value: 0.6040322580645161 and parameters: {'lr': 4.813738724403731e-06, 'weight_decay': 7.264698943834025e-06}. Best is trial 24 with value: 0.8045454545454546.\n",
      "WARNING: Maximum number of iterations 32 reached. The mean may be inaccurate\n",
      "[I 2024-10-14 02:23:52,523] Trial 483 finished with value: 0.6590909090909091 and parameters: {'lr': 4.346215333388147e-05, 'weight_decay': 1.2244172387646665e-05}. Best is trial 24 with value: 0.8045454545454546.\n"
     ]
    },
    {
     "name": "stdout",
     "output_type": "stream",
     "text": [
      "SVD 수렴 문제 발생: SVD did not converge. 계속 진행합니다.\n"
     ]
    },
    {
     "name": "stderr",
     "output_type": "stream",
     "text": [
      "WARNING: Maximum number of iterations 32 reached. The mean may be inaccurate\n"
     ]
    },
    {
     "name": "stdout",
     "output_type": "stream",
     "text": [
      "SVD 수렴 문제 발생: SVD did not converge. 계속 진행합니다.\n"
     ]
    },
    {
     "name": "stderr",
     "output_type": "stream",
     "text": [
      "[I 2024-10-14 02:28:20,276] Trial 484 finished with value: 0.669123065585851 and parameters: {'lr': 2.4789758833332856e-05, 'weight_decay': 6.6469022188694624e-06}. Best is trial 24 with value: 0.8045454545454546.\n",
      "WARNING: Maximum number of iterations 32 reached. The mean may be inaccurate\n",
      "[I 2024-10-14 02:32:50,572] Trial 485 finished with value: 0.5963541666666666 and parameters: {'lr': 3.2054925209737804e-05, 'weight_decay': 5.494932414845712e-06}. Best is trial 24 with value: 0.8045454545454546.\n"
     ]
    },
    {
     "name": "stdout",
     "output_type": "stream",
     "text": [
      "SVD 수렴 문제 발생: SVD did not converge. 계속 진행합니다.\n"
     ]
    },
    {
     "name": "stderr",
     "output_type": "stream",
     "text": [
      "WARNING: Maximum number of iterations 32 reached. The mean may be inaccurate\n"
     ]
    },
    {
     "name": "stdout",
     "output_type": "stream",
     "text": [
      "SVD 수렴 문제 발생: SVD did not converge. 계속 진행합니다.\n"
     ]
    },
    {
     "name": "stderr",
     "output_type": "stream",
     "text": [
      "[I 2024-10-14 02:37:18,833] Trial 486 finished with value: 0.682279469164715 and parameters: {'lr': 1.9573271466277555e-05, 'weight_decay': 1.0216206387958727e-05}. Best is trial 24 with value: 0.8045454545454546.\n",
      "WARNING: Maximum number of iterations 32 reached. The mean may be inaccurate\n"
     ]
    },
    {
     "name": "stdout",
     "output_type": "stream",
     "text": [
      "SVD 수렴 문제 발생: SVD did not converge. 계속 진행합니다.\n"
     ]
    },
    {
     "name": "stderr",
     "output_type": "stream",
     "text": [
      "[I 2024-10-14 02:41:48,345] Trial 487 finished with value: 0.6900858704137393 and parameters: {'lr': 1.0403157056260228e-05, 'weight_decay': 6.134446465395233e-06}. Best is trial 24 with value: 0.8045454545454546.\n",
      "WARNING: Maximum number of iterations 32 reached. The mean may be inaccurate\n"
     ]
    },
    {
     "name": "stdout",
     "output_type": "stream",
     "text": [
      "SVD 수렴 문제 발생: SVD did not converge. 계속 진행합니다.\n"
     ]
    },
    {
     "name": "stderr",
     "output_type": "stream",
     "text": [
      "[I 2024-10-14 02:46:17,608] Trial 488 finished with value: 0.6128787878787878 and parameters: {'lr': 4.55113750713083e-05, 'weight_decay': 8.608199605318976e-06}. Best is trial 24 with value: 0.8045454545454546.\n",
      "WARNING: Maximum number of iterations 32 reached. The mean may be inaccurate\n"
     ]
    },
    {
     "name": "stdout",
     "output_type": "stream",
     "text": [
      "SVD 수렴 문제 발생: SVD did not converge. 계속 진행합니다.\n"
     ]
    },
    {
     "name": "stderr",
     "output_type": "stream",
     "text": [
      "[I 2024-10-14 02:50:47,932] Trial 489 finished with value: 0.6862903225806452 and parameters: {'lr': 2.8559592022323443e-05, 'weight_decay': 4.8289455389544345e-06}. Best is trial 24 with value: 0.8045454545454546.\n",
      "WARNING: Maximum number of iterations 32 reached. The mean may be inaccurate\n"
     ]
    },
    {
     "name": "stdout",
     "output_type": "stream",
     "text": [
      "SVD 수렴 문제 발생: SVD did not converge. 계속 진행합니다.\n"
     ]
    },
    {
     "name": "stderr",
     "output_type": "stream",
     "text": [
      "[I 2024-10-14 02:55:18,236] Trial 490 finished with value: 0.8166666666666667 and parameters: {'lr': 5.953085385304724e-06, 'weight_decay': 3.3129820853775895e-06}. Best is trial 490 with value: 0.8166666666666667.\n",
      "WARNING: Maximum number of iterations 32 reached. The mean may be inaccurate\n"
     ]
    },
    {
     "name": "stdout",
     "output_type": "stream",
     "text": [
      "SVD 수렴 문제 발생: SVD did not converge. 계속 진행합니다.\n"
     ]
    },
    {
     "name": "stderr",
     "output_type": "stream",
     "text": [
      "[I 2024-10-14 02:59:48,047] Trial 491 finished with value: 0.6540322580645161 and parameters: {'lr': 6.15555273592243e-06, 'weight_decay': 3.3500166832115314e-06}. Best is trial 490 with value: 0.8166666666666667.\n",
      "WARNING: Maximum number of iterations 32 reached. The mean may be inaccurate\n"
     ]
    },
    {
     "name": "stdout",
     "output_type": "stream",
     "text": [
      "SVD 수렴 문제 발생: SVD did not converge. 계속 진행합니다.\n"
     ]
    },
    {
     "name": "stderr",
     "output_type": "stream",
     "text": [
      "[I 2024-10-14 03:04:18,618] Trial 492 finished with value: 0.7007575757575758 and parameters: {'lr': 5.354336453697696e-06, 'weight_decay': 3.851606089596193e-06}. Best is trial 490 with value: 0.8166666666666667.\n",
      "WARNING: Maximum number of iterations 32 reached. The mean may be inaccurate\n"
     ]
    },
    {
     "name": "stdout",
     "output_type": "stream",
     "text": [
      "SVD 수렴 문제 발생: SVD did not converge. 계속 진행합니다.\n"
     ]
    },
    {
     "name": "stderr",
     "output_type": "stream",
     "text": [
      "[I 2024-10-14 03:08:49,108] Trial 493 finished with value: 0.580015612802498 and parameters: {'lr': 6.53026149024921e-06, 'weight_decay': 3.243460427111204e-06}. Best is trial 490 with value: 0.8166666666666667.\n",
      "WARNING: Maximum number of iterations 32 reached. The mean may be inaccurate\n"
     ]
    },
    {
     "name": "stdout",
     "output_type": "stream",
     "text": [
      "SVD 수렴 문제 발생: SVD did not converge. 계속 진행합니다.\n"
     ]
    },
    {
     "name": "stderr",
     "output_type": "stream",
     "text": [
      "[I 2024-10-14 03:13:20,715] Trial 494 finished with value: 0.6947697111631538 and parameters: {'lr': 9.190376505586098e-06, 'weight_decay': 2.753531858609808e-06}. Best is trial 490 with value: 0.8166666666666667.\n",
      "WARNING: Maximum number of iterations 32 reached. The mean may be inaccurate\n"
     ]
    },
    {
     "name": "stdout",
     "output_type": "stream",
     "text": [
      "SVD 수렴 문제 발생: SVD did not converge. 계속 진행합니다.\n"
     ]
    },
    {
     "name": "stderr",
     "output_type": "stream",
     "text": [
      "[I 2024-10-14 03:17:51,883] Trial 495 finished with value: 0.6357560568086884 and parameters: {'lr': 4.87649217203542e-06, 'weight_decay': 4.284471220260292e-06}. Best is trial 490 with value: 0.8166666666666667.\n",
      "WARNING: Maximum number of iterations 32 reached. The mean may be inaccurate\n",
      "[I 2024-10-14 03:22:24,383] Trial 496 finished with value: 0.5822580645161289 and parameters: {'lr': 1.3080301286889155e-05, 'weight_decay': 5.687136341561674e-06}. Best is trial 490 with value: 0.8166666666666667.\n"
     ]
    },
    {
     "name": "stdout",
     "output_type": "stream",
     "text": [
      "SVD 수렴 문제 발생: SVD did not converge. 계속 진행합니다.\n"
     ]
    },
    {
     "name": "stderr",
     "output_type": "stream",
     "text": [
      "WARNING: Maximum number of iterations 32 reached. The mean may be inaccurate\n"
     ]
    },
    {
     "name": "stdout",
     "output_type": "stream",
     "text": [
      "SVD 수렴 문제 발생: SVD did not converge. 계속 진행합니다.\n"
     ]
    },
    {
     "name": "stderr",
     "output_type": "stream",
     "text": [
      "[I 2024-10-14 03:26:55,104] Trial 497 finished with value: 0.6886363636363637 and parameters: {'lr': 6.175885687434894e-06, 'weight_decay': 4.6639399556708625e-06}. Best is trial 490 with value: 0.8166666666666667.\n",
      "WARNING: Maximum number of iterations 32 reached. The mean may be inaccurate\n"
     ]
    },
    {
     "name": "stdout",
     "output_type": "stream",
     "text": [
      "SVD 수렴 문제 발생: SVD did not converge. 계속 진행합니다.\n"
     ]
    },
    {
     "name": "stderr",
     "output_type": "stream",
     "text": [
      "[I 2024-10-14 03:31:26,537] Trial 498 finished with value: 0.6263817243920413 and parameters: {'lr': 4.244243402783173e-06, 'weight_decay': 3.6102151084555008e-06}. Best is trial 490 with value: 0.8166666666666667.\n",
      "WARNING: Maximum number of iterations 32 reached. The mean may be inaccurate\n",
      "[I 2024-10-14 03:35:59,805] Trial 499 finished with value: 0.5815768930523029 and parameters: {'lr': 2.269304254162636e-05, 'weight_decay': 3.0055061952921793e-06}. Best is trial 490 with value: 0.8166666666666667.\n"
     ]
    },
    {
     "name": "stdout",
     "output_type": "stream",
     "text": [
      "SVD 수렴 문제 발생: SVD did not converge. 계속 진행합니다.\n"
     ]
    },
    {
     "name": "stderr",
     "output_type": "stream",
     "text": [
      "WARNING: Maximum number of iterations 32 reached. The mean may be inaccurate\n"
     ]
    },
    {
     "name": "stdout",
     "output_type": "stream",
     "text": [
      "SVD 수렴 문제 발생: SVD did not converge. 계속 진행합니다.\n"
     ]
    },
    {
     "name": "stderr",
     "output_type": "stream",
     "text": [
      "[I 2024-10-14 03:40:30,617] Trial 500 finished with value: 0.6661290322580646 and parameters: {'lr': 1.7521409539225463e-05, 'weight_decay': 6.314239412431573e-06}. Best is trial 490 with value: 0.8166666666666667.\n",
      "WARNING: Maximum number of iterations 32 reached. The mean may be inaccurate\n"
     ]
    },
    {
     "name": "stdout",
     "output_type": "stream",
     "text": [
      "SVD 수렴 문제 발생: SVD did not converge. 계속 진행합니다.\n"
     ]
    },
    {
     "name": "stderr",
     "output_type": "stream",
     "text": [
      "[I 2024-10-14 03:45:02,026] Trial 501 finished with value: 0.5911290322580645 and parameters: {'lr': 8.29082168332978e-06, 'weight_decay': 4.189136470404327e-06}. Best is trial 490 with value: 0.8166666666666667.\n",
      "WARNING: Maximum number of iterations 32 reached. The mean may be inaccurate\n"
     ]
    },
    {
     "name": "stdout",
     "output_type": "stream",
     "text": [
      "SVD 수렴 문제 발생: SVD did not converge. 계속 진행합니다.\n"
     ]
    },
    {
     "name": "stderr",
     "output_type": "stream",
     "text": [
      "[I 2024-10-14 03:49:33,987] Trial 502 finished with value: 0.5787878787878787 and parameters: {'lr': 2.052053879503947e-06, 'weight_decay': 5.111799202754149e-06}. Best is trial 490 with value: 0.8166666666666667.\n",
      "WARNING: Maximum number of iterations 32 reached. The mean may be inaccurate\n"
     ]
    },
    {
     "name": "stdout",
     "output_type": "stream",
     "text": [
      "SVD 수렴 문제 발생: SVD did not converge. 계속 진행합니다.\n"
     ]
    },
    {
     "name": "stderr",
     "output_type": "stream",
     "text": [
      "[I 2024-10-14 03:54:05,267] Trial 503 finished with value: 0.7396825396825396 and parameters: {'lr': 7.73792128058162e-06, 'weight_decay': 7.778500352542504e-06}. Best is trial 490 with value: 0.8166666666666667.\n",
      "WARNING: Maximum number of iterations 32 reached. The mean may be inaccurate\n"
     ]
    },
    {
     "name": "stdout",
     "output_type": "stream",
     "text": [
      "SVD 수렴 문제 발생: SVD did not converge. 계속 진행합니다.\n"
     ]
    },
    {
     "name": "stderr",
     "output_type": "stream",
     "text": [
      "[I 2024-10-14 03:58:35,535] Trial 504 finished with value: 0.624512099921936 and parameters: {'lr': 1.4567593807547402e-05, 'weight_decay': 2.6113119041684595e-06}. Best is trial 490 with value: 0.8166666666666667.\n",
      "WARNING: Maximum number of iterations 32 reached. The mean may be inaccurate\n"
     ]
    },
    {
     "name": "stdout",
     "output_type": "stream",
     "text": [
      "SVD 수렴 문제 발생: SVD did not converge. 계속 진행합니다.\n"
     ]
    },
    {
     "name": "stderr",
     "output_type": "stream",
     "text": [
      "[I 2024-10-14 04:03:06,849] Trial 505 finished with value: 0.6409090909090909 and parameters: {'lr': 3.646957128135252e-06, 'weight_decay': 3.2359479190583886e-06}. Best is trial 490 with value: 0.8166666666666667.\n",
      "WARNING: Maximum number of iterations 32 reached. The mean may be inaccurate\n"
     ]
    },
    {
     "name": "stdout",
     "output_type": "stream",
     "text": [
      "SVD 수렴 문제 발생: SVD did not converge. 계속 진행합니다.\n"
     ]
    },
    {
     "name": "stderr",
     "output_type": "stream",
     "text": [
      "[I 2024-10-14 04:07:36,796] Trial 506 finished with value: 0.663544106167057 and parameters: {'lr': 1.1826952227651979e-05, 'weight_decay': 3.834257818918171e-06}. Best is trial 490 with value: 0.8166666666666667.\n",
      "WARNING: Maximum number of iterations 32 reached. The mean may be inaccurate\n"
     ]
    },
    {
     "name": "stdout",
     "output_type": "stream",
     "text": [
      "SVD 수렴 문제 발생: SVD did not converge. 계속 진행합니다.\n"
     ]
    },
    {
     "name": "stderr",
     "output_type": "stream",
     "text": [
      "[I 2024-10-14 04:12:07,403] Trial 507 finished with value: 0.7037878787878789 and parameters: {'lr': 2.1085805590259362e-05, 'weight_decay': 5.431975377109483e-06}. Best is trial 490 with value: 0.8166666666666667.\n",
      "WARNING: Maximum number of iterations 32 reached. The mean may be inaccurate\n"
     ]
    },
    {
     "name": "stdout",
     "output_type": "stream",
     "text": [
      "SVD 수렴 문제 발생: SVD did not converge. 계속 진행합니다.\n"
     ]
    },
    {
     "name": "stderr",
     "output_type": "stream",
     "text": [
      "[I 2024-10-14 04:16:37,209] Trial 508 finished with value: 0.5402029664324746 and parameters: {'lr': 1.7336290478688786e-05, 'weight_decay': 6.709341814742698e-06}. Best is trial 490 with value: 0.8166666666666667.\n",
      "WARNING: Maximum number of iterations 32 reached. The mean may be inaccurate\n"
     ]
    },
    {
     "name": "stdout",
     "output_type": "stream",
     "text": [
      "SVD 수렴 문제 발생: SVD did not converge. 계속 진행합니다.\n"
     ]
    },
    {
     "name": "stderr",
     "output_type": "stream",
     "text": [
      "[I 2024-10-14 04:21:07,825] Trial 509 finished with value: 0.5878787878787879 and parameters: {'lr': 3.655155902209826e-05, 'weight_decay': 3.938787458488426e-06}. Best is trial 490 with value: 0.8166666666666667.\n",
      "WARNING: Maximum number of iterations 32 reached. The mean may be inaccurate\n"
     ]
    },
    {
     "name": "stdout",
     "output_type": "stream",
     "text": [
      "SVD 수렴 문제 발생: SVD did not converge. 계속 진행합니다.\n"
     ]
    },
    {
     "name": "stderr",
     "output_type": "stream",
     "text": [
      "[I 2024-10-14 04:25:37,872] Trial 510 finished with value: 0.6189393939393939 and parameters: {'lr': 2.445580206127126e-05, 'weight_decay': 4.691270327886955e-06}. Best is trial 490 with value: 0.8166666666666667.\n",
      "WARNING: Maximum number of iterations 32 reached. The mean may be inaccurate\n"
     ]
    },
    {
     "name": "stdout",
     "output_type": "stream",
     "text": [
      "SVD 수렴 문제 발생: SVD did not converge. 계속 진행합니다.\n"
     ]
    },
    {
     "name": "stderr",
     "output_type": "stream",
     "text": [
      "[I 2024-10-14 04:30:08,330] Trial 511 finished with value: 0.4972677595628415 and parameters: {'lr': 2.750998688722655e-05, 'weight_decay': 2.703587935653876e-06}. Best is trial 490 with value: 0.8166666666666667.\n",
      "WARNING: Maximum number of iterations 32 reached. The mean may be inaccurate\n",
      "[I 2024-10-14 04:34:38,413] Trial 512 finished with value: 0.6516129032258065 and parameters: {'lr': 0.00042214737745109945, 'weight_decay': 5.5254036964112476e-06}. Best is trial 490 with value: 0.8166666666666667.\n"
     ]
    },
    {
     "name": "stdout",
     "output_type": "stream",
     "text": [
      "SVD 수렴 문제 발생: SVD did not converge. 계속 진행합니다.\n"
     ]
    },
    {
     "name": "stderr",
     "output_type": "stream",
     "text": [
      "WARNING: Maximum number of iterations 32 reached. The mean may be inaccurate\n"
     ]
    },
    {
     "name": "stdout",
     "output_type": "stream",
     "text": [
      "SVD 수렴 문제 발생: SVD did not converge. 계속 진행합니다.\n"
     ]
    },
    {
     "name": "stderr",
     "output_type": "stream",
     "text": [
      "[I 2024-10-14 04:39:06,799] Trial 513 finished with value: 0.7234848484848485 and parameters: {'lr': 1.4431906399848563e-05, 'weight_decay': 3.3034313473828207e-06}. Best is trial 490 with value: 0.8166666666666667.\n",
      "WARNING: Maximum number of iterations 32 reached. The mean may be inaccurate\n"
     ]
    },
    {
     "name": "stdout",
     "output_type": "stream",
     "text": [
      "SVD 수렴 문제 발생: SVD did not converge. 계속 진행합니다.\n"
     ]
    },
    {
     "name": "stderr",
     "output_type": "stream",
     "text": [
      "[I 2024-10-14 04:43:35,721] Trial 514 finished with value: 0.6613636363636365 and parameters: {'lr': 1.954061536624882e-05, 'weight_decay': 7.191546844651e-06}. Best is trial 490 with value: 0.8166666666666667.\n",
      "WARNING: Maximum number of iterations 32 reached. The mean may be inaccurate\n"
     ]
    },
    {
     "name": "stdout",
     "output_type": "stream",
     "text": [
      "SVD 수렴 문제 발생: SVD did not converge. 계속 진행합니다.\n"
     ]
    },
    {
     "name": "stderr",
     "output_type": "stream",
     "text": [
      "[I 2024-10-14 04:48:04,915] Trial 515 finished with value: 0.6854838709677419 and parameters: {'lr': 1.1407741423439055e-05, 'weight_decay': 4.460063914247816e-06}. Best is trial 490 with value: 0.8166666666666667.\n",
      "WARNING: Maximum number of iterations 32 reached. The mean may be inaccurate\n",
      "[I 2024-10-14 04:52:35,828] Trial 516 finished with value: 0.6424242424242425 and parameters: {'lr': 1.5961954932358232e-06, 'weight_decay': 8.668308047100241e-06}. Best is trial 490 with value: 0.8166666666666667.\n"
     ]
    },
    {
     "name": "stdout",
     "output_type": "stream",
     "text": [
      "SVD 수렴 문제 발생: SVD did not converge. 계속 진행합니다.\n"
     ]
    },
    {
     "name": "stderr",
     "output_type": "stream",
     "text": [
      "WARNING: Maximum number of iterations 32 reached. The mean may be inaccurate\n"
     ]
    },
    {
     "name": "stdout",
     "output_type": "stream",
     "text": [
      "SVD 수렴 문제 발생: SVD did not converge. 계속 진행합니다.\n"
     ]
    },
    {
     "name": "stderr",
     "output_type": "stream",
     "text": [
      "[I 2024-10-14 04:57:03,352] Trial 517 finished with value: 0.6975806451612904 and parameters: {'lr': 3.4230081099755366e-05, 'weight_decay': 2.328352254451819e-05}. Best is trial 490 with value: 0.8166666666666667.\n",
      "WARNING: Maximum number of iterations 32 reached. The mean may be inaccurate\n"
     ]
    },
    {
     "name": "stdout",
     "output_type": "stream",
     "text": [
      "SVD 수렴 문제 발생: SVD did not converge. 계속 진행합니다.\n"
     ]
    },
    {
     "name": "stderr",
     "output_type": "stream",
     "text": [
      "[I 2024-10-14 05:01:33,365] Trial 518 finished with value: 0.6040100250626567 and parameters: {'lr': 5.6995859686476214e-06, 'weight_decay': 5.177633608535938e-06}. Best is trial 490 with value: 0.8166666666666667.\n",
      "WARNING: Maximum number of iterations 32 reached. The mean may be inaccurate\n"
     ]
    },
    {
     "name": "stdout",
     "output_type": "stream",
     "text": [
      "SVD 수렴 문제 발생: SVD did not converge. 계속 진행합니다.\n"
     ]
    },
    {
     "name": "stderr",
     "output_type": "stream",
     "text": [
      "[I 2024-10-14 05:06:02,066] Trial 519 finished with value: 0.6803030303030303 and parameters: {'lr': 1.6668283427872833e-05, 'weight_decay': 3.6619596497197666e-06}. Best is trial 490 with value: 0.8166666666666667.\n",
      "WARNING: Maximum number of iterations 32 reached. The mean may be inaccurate\n"
     ]
    },
    {
     "name": "stdout",
     "output_type": "stream",
     "text": [
      "SVD 수렴 문제 발생: SVD did not converge. 계속 진행합니다.\n"
     ]
    },
    {
     "name": "stderr",
     "output_type": "stream",
     "text": [
      "[I 2024-10-14 05:10:31,748] Trial 520 finished with value: 0.7253968253968255 and parameters: {'lr': 2.1673693203220927e-05, 'weight_decay': 6.467870950832113e-06}. Best is trial 490 with value: 0.8166666666666667.\n",
      "WARNING: Maximum number of iterations 32 reached. The mean may be inaccurate\n",
      "[I 2024-10-14 05:15:02,714] Trial 521 finished with value: 0.6858813700918964 and parameters: {'lr': 2.8018995219775844e-05, 'weight_decay': 2.975134962838322e-06}. Best is trial 490 with value: 0.8166666666666667.\n"
     ]
    },
    {
     "name": "stdout",
     "output_type": "stream",
     "text": [
      "SVD 수렴 문제 발생: SVD did not converge. 계속 진행합니다.\n"
     ]
    },
    {
     "name": "stderr",
     "output_type": "stream",
     "text": [
      "WARNING: Maximum number of iterations 32 reached. The mean may be inaccurate\n"
     ]
    },
    {
     "name": "stdout",
     "output_type": "stream",
     "text": [
      "SVD 수렴 문제 발생: SVD did not converge. 계속 진행합니다.\n"
     ]
    },
    {
     "name": "stderr",
     "output_type": "stream",
     "text": [
      "[I 2024-10-14 05:19:32,817] Trial 522 finished with value: 0.565183450429352 and parameters: {'lr': 9.584086653670442e-06, 'weight_decay': 2.1939571218910086e-06}. Best is trial 490 with value: 0.8166666666666667.\n",
      "WARNING: Maximum number of iterations 32 reached. The mean may be inaccurate\n"
     ]
    },
    {
     "name": "stdout",
     "output_type": "stream",
     "text": [
      "SVD 수렴 문제 발생: SVD did not converge. 계속 진행합니다.\n"
     ]
    },
    {
     "name": "stderr",
     "output_type": "stream",
     "text": [
      "[I 2024-10-14 05:24:03,179] Trial 523 finished with value: 0.6065573770491803 and parameters: {'lr': 3.211818205186226e-05, 'weight_decay': 2.9311248645810987e-05}. Best is trial 490 with value: 0.8166666666666667.\n",
      "WARNING: Maximum number of iterations 32 reached. The mean may be inaccurate\n",
      "[I 2024-10-14 05:28:35,467] Trial 524 finished with value: 0.7236533957845434 and parameters: {'lr': 2.258269976967733e-05, 'weight_decay': 4.283298123478831e-06}. Best is trial 490 with value: 0.8166666666666667.\n"
     ]
    },
    {
     "name": "stdout",
     "output_type": "stream",
     "text": [
      "SVD 수렴 문제 발생: SVD did not converge. 계속 진행합니다.\n"
     ]
    },
    {
     "name": "stderr",
     "output_type": "stream",
     "text": [
      "WARNING: Maximum number of iterations 32 reached. The mean may be inaccurate\n",
      "[I 2024-10-14 05:33:06,021] Trial 525 finished with value: 0.6016129032258064 and parameters: {'lr': 3.915374083217346e-05, 'weight_decay': 5.857009881714515e-06}. Best is trial 490 with value: 0.8166666666666667.\n"
     ]
    },
    {
     "name": "stdout",
     "output_type": "stream",
     "text": [
      "SVD 수렴 문제 발생: SVD did not converge. 계속 진행합니다.\n"
     ]
    },
    {
     "name": "stderr",
     "output_type": "stream",
     "text": [
      "WARNING: Maximum number of iterations 32 reached. The mean may be inaccurate\n"
     ]
    },
    {
     "name": "stdout",
     "output_type": "stream",
     "text": [
      "SVD 수렴 문제 발생: SVD did not converge. 계속 진행합니다.\n"
     ]
    },
    {
     "name": "stderr",
     "output_type": "stream",
     "text": [
      "[I 2024-10-14 05:37:35,564] Trial 526 finished with value: 0.7435483870967742 and parameters: {'lr': 1.4546890106481304e-05, 'weight_decay': 2.5998246968294992e-06}. Best is trial 490 with value: 0.8166666666666667.\n",
      "WARNING: Maximum number of iterations 32 reached. The mean may be inaccurate\n"
     ]
    },
    {
     "name": "stdout",
     "output_type": "stream",
     "text": [
      "SVD 수렴 문제 발생: SVD did not converge. 계속 진행합니다.\n"
     ]
    },
    {
     "name": "stderr",
     "output_type": "stream",
     "text": [
      "[I 2024-10-14 05:42:06,489] Trial 527 finished with value: 0.6664167916041979 and parameters: {'lr': 2.288698191939812e-06, 'weight_decay': 4.782103032081312e-06}. Best is trial 490 with value: 0.8166666666666667.\n",
      "WARNING: Maximum number of iterations 32 reached. The mean may be inaccurate\n"
     ]
    },
    {
     "name": "stdout",
     "output_type": "stream",
     "text": [
      "SVD 수렴 문제 발생: SVD did not converge. 계속 진행합니다.\n"
     ]
    },
    {
     "name": "stderr",
     "output_type": "stream",
     "text": [
      "[I 2024-10-14 05:46:37,315] Trial 528 finished with value: 0.5984848484848485 and parameters: {'lr': 1.443635060140578e-06, 'weight_decay': 1.0217087771518148e-05}. Best is trial 490 with value: 0.8166666666666667.\n",
      "WARNING: Maximum number of iterations 32 reached. The mean may be inaccurate\n"
     ]
    },
    {
     "name": "stdout",
     "output_type": "stream",
     "text": [
      "SVD 수렴 문제 발생: SVD did not converge. 계속 진행합니다.\n"
     ]
    },
    {
     "name": "stderr",
     "output_type": "stream",
     "text": [
      "[I 2024-10-14 05:51:01,883] Trial 529 finished with value: 0.596031746031746 and parameters: {'lr': 0.00959817857760553, 'weight_decay': 3.424603637649218e-06}. Best is trial 490 with value: 0.8166666666666667.\n",
      "WARNING: Maximum number of iterations 32 reached. The mean may be inaccurate\n"
     ]
    },
    {
     "name": "stdout",
     "output_type": "stream",
     "text": [
      "SVD 수렴 문제 발생: SVD did not converge. 계속 진행합니다.\n"
     ]
    },
    {
     "name": "stderr",
     "output_type": "stream",
     "text": [
      "[I 2024-10-14 05:55:32,973] Trial 530 finished with value: 0.6621392190152802 and parameters: {'lr': 1.008467745830633e-06, 'weight_decay': 6.97656278331808e-06}. Best is trial 490 with value: 0.8166666666666667.\n",
      "WARNING: Maximum number of iterations 32 reached. The mean may be inaccurate\n"
     ]
    },
    {
     "name": "stdout",
     "output_type": "stream",
     "text": [
      "SVD 수렴 문제 발생: SVD did not converge. 계속 진행합니다.\n"
     ]
    },
    {
     "name": "stderr",
     "output_type": "stream",
     "text": [
      "[I 2024-10-14 06:00:04,031] Trial 531 finished with value: 0.7106060606060607 and parameters: {'lr': 7.207153583204203e-06, 'weight_decay': 2.1028517249028266e-05}. Best is trial 490 with value: 0.8166666666666667.\n",
      "WARNING: Maximum number of iterations 32 reached. The mean may be inaccurate\n"
     ]
    },
    {
     "name": "stdout",
     "output_type": "stream",
     "text": [
      "SVD 수렴 문제 발생: SVD did not converge. 계속 진행합니다.\n"
     ]
    },
    {
     "name": "stderr",
     "output_type": "stream",
     "text": [
      "[I 2024-10-14 06:04:34,695] Trial 532 finished with value: 0.576271186440678 and parameters: {'lr': 1.7934349428368566e-05, 'weight_decay': 3.305719183522077e-05}. Best is trial 490 with value: 0.8166666666666667.\n",
      "WARNING: Maximum number of iterations 32 reached. The mean may be inaccurate\n"
     ]
    },
    {
     "name": "stdout",
     "output_type": "stream",
     "text": [
      "SVD 수렴 문제 발생: SVD did not converge. 계속 진행합니다.\n"
     ]
    },
    {
     "name": "stderr",
     "output_type": "stream",
     "text": [
      "[I 2024-10-14 06:09:05,259] Trial 533 finished with value: 0.6256448047162859 and parameters: {'lr': 5.3806293570290174e-05, 'weight_decay': 3.874754447641165e-06}. Best is trial 490 with value: 0.8166666666666667.\n",
      "WARNING: Maximum number of iterations 32 reached. The mean may be inaccurate\n"
     ]
    },
    {
     "name": "stdout",
     "output_type": "stream",
     "text": [
      "SVD 수렴 문제 발생: SVD did not converge. 계속 진행합니다.\n"
     ]
    },
    {
     "name": "stderr",
     "output_type": "stream",
     "text": [
      "[I 2024-10-14 06:13:34,500] Trial 534 finished with value: 0.585480093676815 and parameters: {'lr': 0.0008766279705130307, 'weight_decay': 4.999455154882625e-06}. Best is trial 490 with value: 0.8166666666666667.\n",
      "WARNING: Maximum number of iterations 32 reached. The mean may be inaccurate\n"
     ]
    },
    {
     "name": "stdout",
     "output_type": "stream",
     "text": [
      "SVD 수렴 문제 발생: SVD did not converge. 계속 진행합니다.\n"
     ]
    },
    {
     "name": "stderr",
     "output_type": "stream",
     "text": [
      "[I 2024-10-14 06:18:05,357] Trial 535 finished with value: 0.7419354838709677 and parameters: {'lr': 2.715798601159237e-05, 'weight_decay': 7.988330729028071e-06}. Best is trial 490 with value: 0.8166666666666667.\n",
      "WARNING: Maximum number of iterations 32 reached. The mean may be inaccurate\n"
     ]
    },
    {
     "name": "stdout",
     "output_type": "stream",
     "text": [
      "SVD 수렴 문제 발생: SVD did not converge. 계속 진행합니다.\n"
     ]
    },
    {
     "name": "stderr",
     "output_type": "stream",
     "text": [
      "[I 2024-10-14 06:22:35,611] Trial 536 finished with value: 0.7111631537861045 and parameters: {'lr': 4.348516525906251e-05, 'weight_decay': 2.3003300661164923e-06}. Best is trial 490 with value: 0.8166666666666667.\n",
      "WARNING: Maximum number of iterations 32 reached. The mean may be inaccurate\n"
     ]
    },
    {
     "name": "stdout",
     "output_type": "stream",
     "text": [
      "SVD 수렴 문제 발생: SVD did not converge. 계속 진행합니다.\n"
     ]
    },
    {
     "name": "stderr",
     "output_type": "stream",
     "text": [
      "[I 2024-10-14 06:27:05,358] Trial 537 finished with value: 0.6174863387978142 and parameters: {'lr': 1.1178415214918661e-05, 'weight_decay': 2.5645015614784303e-05}. Best is trial 490 with value: 0.8166666666666667.\n",
      "WARNING: Maximum number of iterations 32 reached. The mean may be inaccurate\n"
     ]
    },
    {
     "name": "stdout",
     "output_type": "stream",
     "text": [
      "SVD 수렴 문제 발생: SVD did not converge. 계속 진행합니다.\n"
     ]
    },
    {
     "name": "stderr",
     "output_type": "stream",
     "text": [
      "[I 2024-10-14 06:31:35,648] Trial 538 finished with value: 0.6057767369242779 and parameters: {'lr': 2.2619504794417893e-05, 'weight_decay': 2.8437069042138593e-06}. Best is trial 490 with value: 0.8166666666666667.\n",
      "WARNING: Maximum number of iterations 32 reached. The mean may be inaccurate\n"
     ]
    },
    {
     "name": "stdout",
     "output_type": "stream",
     "text": [
      "SVD 수렴 문제 발생: SVD did not converge. 계속 진행합니다.\n"
     ]
    },
    {
     "name": "stderr",
     "output_type": "stream",
     "text": [
      "[I 2024-10-14 06:36:06,772] Trial 539 finished with value: 0.650231124807396 and parameters: {'lr': 3.1941095998179486e-06, 'weight_decay': 5.714999235419018e-06}. Best is trial 490 with value: 0.8166666666666667.\n",
      "WARNING: Maximum number of iterations 32 reached. The mean may be inaccurate\n"
     ]
    },
    {
     "name": "stdout",
     "output_type": "stream",
     "text": [
      "SVD 수렴 문제 발생: SVD did not converge. 계속 진행합니다.\n"
     ]
    },
    {
     "name": "stderr",
     "output_type": "stream",
     "text": [
      "[I 2024-10-14 06:40:37,432] Trial 540 finished with value: 0.6378787878787879 and parameters: {'lr': 1.920073576775803e-05, 'weight_decay': 4.347824433472773e-06}. Best is trial 490 with value: 0.8166666666666667.\n",
      "WARNING: Maximum number of iterations 32 reached. The mean may be inaccurate\n"
     ]
    },
    {
     "name": "stdout",
     "output_type": "stream",
     "text": [
      "SVD 수렴 문제 발생: SVD did not converge. 계속 진행합니다.\n"
     ]
    },
    {
     "name": "stderr",
     "output_type": "stream",
     "text": [
      "[I 2024-10-14 06:45:08,439] Trial 541 finished with value: 0.7326649958228906 and parameters: {'lr': 3.766400199437067e-05, 'weight_decay': 1.1834478349083409e-05}. Best is trial 490 with value: 0.8166666666666667.\n",
      "WARNING: Maximum number of iterations 32 reached. The mean may be inaccurate\n"
     ]
    },
    {
     "name": "stdout",
     "output_type": "stream",
     "text": [
      "SVD 수렴 문제 발생: SVD did not converge. 계속 진행합니다.\n"
     ]
    },
    {
     "name": "stderr",
     "output_type": "stream",
     "text": [
      "[I 2024-10-14 06:49:38,659] Trial 542 finished with value: 0.5962121212121212 and parameters: {'lr': 1.2929360287842283e-05, 'weight_decay': 3.605866765956192e-06}. Best is trial 490 with value: 0.8166666666666667.\n",
      "WARNING: Maximum number of iterations 32 reached. The mean may be inaccurate\n"
     ]
    },
    {
     "name": "stdout",
     "output_type": "stream",
     "text": [
      "SVD 수렴 문제 발생: SVD did not converge. 계속 진행합니다.\n"
     ]
    },
    {
     "name": "stderr",
     "output_type": "stream",
     "text": [
      "[I 2024-10-14 06:54:10,021] Trial 543 finished with value: 0.6323185011709602 and parameters: {'lr': 1.6410533156298844e-05, 'weight_decay': 1.6864200749005545e-06}. Best is trial 490 with value: 0.8166666666666667.\n",
      "WARNING: Maximum number of iterations 32 reached. The mean may be inaccurate\n"
     ]
    },
    {
     "name": "stdout",
     "output_type": "stream",
     "text": [
      "SVD 수렴 문제 발생: SVD did not converge. 계속 진행합니다.\n"
     ]
    },
    {
     "name": "stderr",
     "output_type": "stream",
     "text": [
      "[I 2024-10-14 06:58:40,954] Trial 544 finished with value: 0.6381724392041267 and parameters: {'lr': 3.1447921843495275e-05, 'weight_decay': 4.429764370342287e-06}. Best is trial 490 with value: 0.8166666666666667.\n",
      "WARNING: Maximum number of iterations 32 reached. The mean may be inaccurate\n"
     ]
    },
    {
     "name": "stdout",
     "output_type": "stream",
     "text": [
      "SVD 수렴 문제 발생: SVD did not converge. 계속 진행합니다.\n"
     ]
    },
    {
     "name": "stderr",
     "output_type": "stream",
     "text": [
      "[I 2024-10-14 07:03:12,585] Trial 545 finished with value: 0.6186440677966103 and parameters: {'lr': 4.811387339006046e-05, 'weight_decay': 6.376795440797415e-06}. Best is trial 490 with value: 0.8166666666666667.\n",
      "WARNING: Maximum number of iterations 32 reached. The mean may be inaccurate\n"
     ]
    },
    {
     "name": "stdout",
     "output_type": "stream",
     "text": [
      "SVD 수렴 문제 발생: SVD did not converge. 계속 진행합니다.\n"
     ]
    },
    {
     "name": "stderr",
     "output_type": "stream",
     "text": [
      "[I 2024-10-14 07:07:43,106] Trial 546 finished with value: 0.6772727272727274 and parameters: {'lr': 1.7549006701227552e-06, 'weight_decay': 3.000286686987842e-06}. Best is trial 490 with value: 0.8166666666666667.\n",
      "WARNING: Maximum number of iterations 32 reached. The mean may be inaccurate\n"
     ]
    },
    {
     "name": "stdout",
     "output_type": "stream",
     "text": [
      "SVD 수렴 문제 발생: SVD did not converge. 계속 진행합니다.\n"
     ]
    },
    {
     "name": "stderr",
     "output_type": "stream",
     "text": [
      "[I 2024-10-14 07:12:14,235] Trial 547 finished with value: 0.5446969696969697 and parameters: {'lr': 2.574578315196845e-05, 'weight_decay': 2.0728582417627524e-06}. Best is trial 490 with value: 0.8166666666666667.\n",
      "WARNING: Maximum number of iterations 32 reached. The mean may be inaccurate\n"
     ]
    },
    {
     "name": "stdout",
     "output_type": "stream",
     "text": [
      "SVD 수렴 문제 발생: SVD did not converge. 계속 진행합니다.\n"
     ]
    },
    {
     "name": "stderr",
     "output_type": "stream",
     "text": [
      "[I 2024-10-14 07:16:45,155] Trial 548 finished with value: 0.6736924277907884 and parameters: {'lr': 4.223359654431149e-06, 'weight_decay': 5.450457828366533e-06}. Best is trial 490 with value: 0.8166666666666667.\n",
      "WARNING: Maximum number of iterations 32 reached. The mean may be inaccurate\n",
      "[I 2024-10-14 07:21:16,707] Trial 549 finished with value: 0.6315378610460578 and parameters: {'lr': 2.0306705144729633e-05, 'weight_decay': 3.780759106264128e-06}. Best is trial 490 with value: 0.8166666666666667.\n"
     ]
    },
    {
     "name": "stdout",
     "output_type": "stream",
     "text": [
      "SVD 수렴 문제 발생: SVD did not converge. 계속 진행합니다.\n"
     ]
    },
    {
     "name": "stderr",
     "output_type": "stream",
     "text": [
      "WARNING: Maximum number of iterations 32 reached. The mean may be inaccurate\n"
     ]
    },
    {
     "name": "stdout",
     "output_type": "stream",
     "text": [
      "SVD 수렴 문제 발생: SVD did not converge. 계속 진행합니다.\n"
     ]
    },
    {
     "name": "stderr",
     "output_type": "stream",
     "text": [
      "[I 2024-10-14 07:25:47,046] Trial 550 finished with value: 0.6994535519125683 and parameters: {'lr': 1.5209177652511298e-05, 'weight_decay': 1.5193358522028157e-06}. Best is trial 490 with value: 0.8166666666666667.\n",
      "WARNING: Maximum number of iterations 32 reached. The mean may be inaccurate\n"
     ]
    },
    {
     "name": "stdout",
     "output_type": "stream",
     "text": [
      "SVD 수렴 문제 발생: SVD did not converge. 계속 진행합니다.\n"
     ]
    },
    {
     "name": "stderr",
     "output_type": "stream",
     "text": [
      "[I 2024-10-14 07:30:18,367] Trial 551 finished with value: 0.6258064516129033 and parameters: {'lr': 3.616472879652916e-05, 'weight_decay': 8.943631310688392e-06}. Best is trial 490 with value: 0.8166666666666667.\n",
      "WARNING: Maximum number of iterations 32 reached. The mean may be inaccurate\n"
     ]
    },
    {
     "name": "stdout",
     "output_type": "stream",
     "text": [
      "SVD 수렴 문제 발생: SVD did not converge. 계속 진행합니다.\n"
     ]
    },
    {
     "name": "stderr",
     "output_type": "stream",
     "text": [
      "[I 2024-10-14 07:34:49,347] Trial 552 finished with value: 0.5709677419354838 and parameters: {'lr': 5.768005221886745e-05, 'weight_decay': 7.4758719967728036e-06}. Best is trial 490 with value: 0.8166666666666667.\n",
      "WARNING: Maximum number of iterations 32 reached. The mean may be inaccurate\n"
     ]
    },
    {
     "name": "stdout",
     "output_type": "stream",
     "text": [
      "SVD 수렴 문제 발생: SVD did not converge. 계속 진행합니다.\n"
     ]
    },
    {
     "name": "stderr",
     "output_type": "stream",
     "text": [
      "[I 2024-10-14 07:39:19,091] Trial 553 finished with value: 0.709090909090909 and parameters: {'lr': 8.998547084920654e-06, 'weight_decay': 5.14402932373462e-05}. Best is trial 490 with value: 0.8166666666666667.\n",
      "WARNING: Maximum number of iterations 32 reached. The mean may be inaccurate\n"
     ]
    },
    {
     "name": "stdout",
     "output_type": "stream",
     "text": [
      "SVD 수렴 문제 발생: SVD did not converge. 계속 진행합니다.\n"
     ]
    },
    {
     "name": "stderr",
     "output_type": "stream",
     "text": [
      "[I 2024-10-14 07:43:48,141] Trial 554 finished with value: 0.6651053864168618 and parameters: {'lr': 2.97018153738217e-05, 'weight_decay': 2.522344373044109e-06}. Best is trial 490 with value: 0.8166666666666667.\n",
      "WARNING: Maximum number of iterations 32 reached. The mean may be inaccurate\n"
     ]
    },
    {
     "name": "stdout",
     "output_type": "stream",
     "text": [
      "SVD 수렴 문제 발생: SVD did not converge. 계속 진행합니다.\n"
     ]
    },
    {
     "name": "stderr",
     "output_type": "stream",
     "text": [
      "[I 2024-10-14 07:48:17,586] Trial 555 finished with value: 0.6291959406713505 and parameters: {'lr': 2.4024852078123275e-05, 'weight_decay': 1.989998342684842e-05}. Best is trial 490 with value: 0.8166666666666667.\n",
      "WARNING: Maximum number of iterations 32 reached. The mean may be inaccurate\n"
     ]
    },
    {
     "name": "stdout",
     "output_type": "stream",
     "text": [
      "SVD 수렴 문제 발생: SVD did not converge. 계속 진행합니다.\n"
     ]
    },
    {
     "name": "stderr",
     "output_type": "stream",
     "text": [
      "[I 2024-10-14 07:52:47,734] Trial 556 finished with value: 0.6394453004622496 and parameters: {'lr': 1.2796930967954498e-05, 'weight_decay': 4.936659268086849e-06}. Best is trial 490 with value: 0.8166666666666667.\n",
      "WARNING: Maximum number of iterations 32 reached. The mean may be inaccurate\n"
     ]
    },
    {
     "name": "stdout",
     "output_type": "stream",
     "text": [
      "SVD 수렴 문제 발생: SVD did not converge. 계속 진행합니다.\n"
     ]
    },
    {
     "name": "stderr",
     "output_type": "stream",
     "text": [
      "[I 2024-10-14 07:57:18,163] Trial 557 finished with value: 0.5308352849336456 and parameters: {'lr': 4.923579600411399e-06, 'weight_decay': 5.916957269632513e-06}. Best is trial 490 with value: 0.8166666666666667.\n",
      "WARNING: Maximum number of iterations 32 reached. The mean may be inaccurate\n"
     ]
    },
    {
     "name": "stdout",
     "output_type": "stream",
     "text": [
      "SVD 수렴 문제 발생: SVD did not converge. 계속 진행합니다.\n"
     ]
    },
    {
     "name": "stderr",
     "output_type": "stream",
     "text": [
      "[I 2024-10-14 08:01:48,774] Trial 558 finished with value: 0.6741935483870969 and parameters: {'lr': 1.240175260276696e-06, 'weight_decay': 3.3324108840305374e-06}. Best is trial 490 with value: 0.8166666666666667.\n",
      "WARNING: Maximum number of iterations 32 reached. The mean may be inaccurate\n"
     ]
    },
    {
     "name": "stdout",
     "output_type": "stream",
     "text": [
      "SVD 수렴 문제 발생: SVD did not converge. 계속 진행합니다.\n"
     ]
    },
    {
     "name": "stderr",
     "output_type": "stream",
     "text": [
      "[I 2024-10-14 08:06:20,134] Trial 559 finished with value: 0.6901515151515152 and parameters: {'lr': 1.7607929856471707e-05, 'weight_decay': 1.262332453995831e-06}. Best is trial 490 with value: 0.8166666666666667.\n",
      "WARNING: Maximum number of iterations 32 reached. The mean may be inaccurate\n"
     ]
    },
    {
     "name": "stdout",
     "output_type": "stream",
     "text": [
      "SVD 수렴 문제 발생: SVD did not converge. 계속 진행합니다.\n"
     ]
    },
    {
     "name": "stderr",
     "output_type": "stream",
     "text": [
      "[I 2024-10-14 08:10:52,069] Trial 560 finished with value: 0.6624895572263994 and parameters: {'lr': 4.31342852640384e-05, 'weight_decay': 2.8648167449244196e-05}. Best is trial 490 with value: 0.8166666666666667.\n",
      "WARNING: Maximum number of iterations 32 reached. The mean may be inaccurate\n"
     ]
    },
    {
     "name": "stdout",
     "output_type": "stream",
     "text": [
      "SVD 수렴 문제 발생: SVD did not converge. 계속 진행합니다.\n"
     ]
    },
    {
     "name": "stderr",
     "output_type": "stream",
     "text": [
      "[I 2024-10-14 08:15:23,084] Trial 561 finished with value: 0.6470154753131909 and parameters: {'lr': 2.149717133572777e-05, 'weight_decay': 4.279115113996935e-06}. Best is trial 490 with value: 0.8166666666666667.\n",
      "WARNING: Maximum number of iterations 32 reached. The mean may be inaccurate\n"
     ]
    },
    {
     "name": "stdout",
     "output_type": "stream",
     "text": [
      "SVD 수렴 문제 발생: SVD did not converge. 계속 진행합니다.\n"
     ]
    },
    {
     "name": "stderr",
     "output_type": "stream",
     "text": [
      "[I 2024-10-14 08:19:55,312] Trial 562 finished with value: 0.580015612802498 and parameters: {'lr': 6.445786793324356e-06, 'weight_decay': 6.698198651165523e-06}. Best is trial 490 with value: 0.8166666666666667.\n",
      "WARNING: Maximum number of iterations 32 reached. The mean may be inaccurate\n"
     ]
    },
    {
     "name": "stdout",
     "output_type": "stream",
     "text": [
      "SVD 수렴 문제 발생: SVD did not converge. 계속 진행합니다.\n"
     ]
    },
    {
     "name": "stderr",
     "output_type": "stream",
     "text": [
      "[I 2024-10-14 08:24:26,729] Trial 563 finished with value: 0.7134502923976608 and parameters: {'lr': 3.234537367826971e-05, 'weight_decay': 1.8984762080596527e-06}. Best is trial 490 with value: 0.8166666666666667.\n",
      "WARNING: Maximum number of iterations 32 reached. The mean may be inaccurate\n"
     ]
    },
    {
     "name": "stdout",
     "output_type": "stream",
     "text": [
      "SVD 수렴 문제 발생: SVD did not converge. 계속 진행합니다.\n"
     ]
    },
    {
     "name": "stderr",
     "output_type": "stream",
     "text": [
      "[I 2024-10-14 08:28:57,686] Trial 564 finished with value: 0.600924499229584 and parameters: {'lr': 2.5850230793252326e-05, 'weight_decay': 1.3006046029055742e-05}. Best is trial 490 with value: 0.8166666666666667.\n",
      "WARNING: Maximum number of iterations 32 reached. The mean may be inaccurate\n",
      "[I 2024-10-14 08:33:30,258] Trial 565 finished with value: 0.667741935483871 and parameters: {'lr': 0.00030863581634188675, 'weight_decay': 3.965272710723029e-06}. Best is trial 490 with value: 0.8166666666666667.\n"
     ]
    },
    {
     "name": "stdout",
     "output_type": "stream",
     "text": [
      "SVD 수렴 문제 발생: SVD did not converge. 계속 진행합니다.\n"
     ]
    },
    {
     "name": "stderr",
     "output_type": "stream",
     "text": [
      "WARNING: Maximum number of iterations 32 reached. The mean may be inaccurate\n"
     ]
    },
    {
     "name": "stdout",
     "output_type": "stream",
     "text": [
      "SVD 수렴 문제 발생: SVD did not converge. 계속 진행합니다.\n"
     ]
    },
    {
     "name": "stderr",
     "output_type": "stream",
     "text": [
      "[I 2024-10-14 08:38:00,710] Trial 566 finished with value: 0.5919354838709677 and parameters: {'lr': 9.767791343570946e-06, 'weight_decay': 3.595991764054836e-05}. Best is trial 490 with value: 0.8166666666666667.\n",
      "WARNING: Maximum number of iterations 32 reached. The mean may be inaccurate\n"
     ]
    },
    {
     "name": "stdout",
     "output_type": "stream",
     "text": [
      "SVD 수렴 문제 발생: SVD did not converge. 계속 진행합니다.\n"
     ]
    },
    {
     "name": "stderr",
     "output_type": "stream",
     "text": [
      "[I 2024-10-14 08:42:32,664] Trial 567 finished with value: 0.5469953775038521 and parameters: {'lr': 4.940391153052109e-05, 'weight_decay': 3.08501005250058e-06}. Best is trial 490 with value: 0.8166666666666667.\n",
      "WARNING: Maximum number of iterations 32 reached. The mean may be inaccurate\n"
     ]
    },
    {
     "name": "stdout",
     "output_type": "stream",
     "text": [
      "SVD 수렴 문제 발생: SVD did not converge. 계속 진행합니다.\n"
     ]
    },
    {
     "name": "stderr",
     "output_type": "stream",
     "text": [
      "[I 2024-10-14 08:47:04,052] Trial 568 finished with value: 0.6697892271662764 and parameters: {'lr': 1.3817964437739536e-05, 'weight_decay': 4.8441433975474625e-06}. Best is trial 490 with value: 0.8166666666666667.\n",
      "WARNING: Maximum number of iterations 32 reached. The mean may be inaccurate\n"
     ]
    },
    {
     "name": "stdout",
     "output_type": "stream",
     "text": [
      "SVD 수렴 문제 발생: SVD did not converge. 계속 진행합니다.\n"
     ]
    },
    {
     "name": "stderr",
     "output_type": "stream",
     "text": [
      "[I 2024-10-14 08:51:35,418] Trial 569 finished with value: 0.7041373926619827 and parameters: {'lr': 1.771520094634936e-05, 'weight_decay': 2.376521845654394e-06}. Best is trial 490 with value: 0.8166666666666667.\n",
      "WARNING: Maximum number of iterations 32 reached. The mean may be inaccurate\n"
     ]
    },
    {
     "name": "stdout",
     "output_type": "stream",
     "text": [
      "SVD 수렴 문제 발생: SVD did not converge. 계속 진행합니다.\n"
     ]
    },
    {
     "name": "stderr",
     "output_type": "stream",
     "text": [
      "[I 2024-10-14 08:56:06,898] Trial 570 finished with value: 0.7181889149102264 and parameters: {'lr': 6.291614651808393e-05, 'weight_decay': 5.491077878094338e-06}. Best is trial 490 with value: 0.8166666666666667.\n",
      "WARNING: Maximum number of iterations 32 reached. The mean may be inaccurate\n"
     ]
    },
    {
     "name": "stdout",
     "output_type": "stream",
     "text": [
      "SVD 수렴 문제 발생: SVD did not converge. 계속 진행합니다.\n"
     ]
    },
    {
     "name": "stderr",
     "output_type": "stream",
     "text": [
      "[I 2024-10-14 09:00:38,717] Trial 571 finished with value: 0.702576112412178 and parameters: {'lr': 7.843197768440766e-06, 'weight_decay': 1.507110127928991e-06}. Best is trial 490 with value: 0.8166666666666667.\n",
      "WARNING: Maximum number of iterations 32 reached. The mean may be inaccurate\n"
     ]
    },
    {
     "name": "stdout",
     "output_type": "stream",
     "text": [
      "SVD 수렴 문제 발생: SVD did not converge. 계속 진행합니다.\n"
     ]
    },
    {
     "name": "stderr",
     "output_type": "stream",
     "text": [
      "[I 2024-10-14 09:05:10,972] Trial 572 finished with value: 0.6568181818181819 and parameters: {'lr': 3.940929019632029e-05, 'weight_decay': 8.598880992907571e-06}. Best is trial 490 with value: 0.8166666666666667.\n",
      "WARNING: Maximum number of iterations 32 reached. The mean may be inaccurate\n"
     ]
    },
    {
     "name": "stdout",
     "output_type": "stream",
     "text": [
      "SVD 수렴 문제 발생: SVD did not converge. 계속 진행합니다.\n"
     ]
    },
    {
     "name": "stderr",
     "output_type": "stream",
     "text": [
      "[I 2024-10-14 09:09:44,043] Trial 573 finished with value: 0.6022727272727273 and parameters: {'lr': 1.401801192336573e-06, 'weight_decay': 3.7969034201120245e-06}. Best is trial 490 with value: 0.8166666666666667.\n",
      "WARNING: Maximum number of iterations 32 reached. The mean may be inaccurate\n"
     ]
    },
    {
     "name": "stdout",
     "output_type": "stream",
     "text": [
      "SVD 수렴 문제 발생: SVD did not converge. 계속 진행합니다.\n"
     ]
    },
    {
     "name": "stderr",
     "output_type": "stream",
     "text": [
      "[I 2024-10-14 09:14:17,294] Trial 574 finished with value: 0.6533957845433255 and parameters: {'lr': 2.8618177907635583e-05, 'weight_decay': 2.3959111962449547e-05}. Best is trial 490 with value: 0.8166666666666667.\n",
      "WARNING: Maximum number of iterations 32 reached. The mean may be inaccurate\n"
     ]
    },
    {
     "name": "stdout",
     "output_type": "stream",
     "text": [
      "SVD 수렴 문제 발생: SVD did not converge. 계속 진행합니다.\n"
     ]
    },
    {
     "name": "stderr",
     "output_type": "stream",
     "text": [
      "[I 2024-10-14 09:18:50,250] Trial 575 finished with value: 0.6863636363636364 and parameters: {'lr': 1.98889805676047e-05, 'weight_decay': 1.850400249461846e-05}. Best is trial 490 with value: 0.8166666666666667.\n",
      "WARNING: Maximum number of iterations 32 reached. The mean may be inaccurate\n",
      "[I 2024-10-14 09:23:23,524] Trial 576 finished with value: 0.5807291666666666 and parameters: {'lr': 1.5279599456179185e-05, 'weight_decay': 1.050443477305074e-05}. Best is trial 490 with value: 0.8166666666666667.\n"
     ]
    },
    {
     "name": "stdout",
     "output_type": "stream",
     "text": [
      "SVD 수렴 문제 발생: SVD did not converge. 계속 진행합니다.\n"
     ]
    },
    {
     "name": "stderr",
     "output_type": "stream",
     "text": [
      "WARNING: Maximum number of iterations 32 reached. The mean may be inaccurate\n"
     ]
    },
    {
     "name": "stdout",
     "output_type": "stream",
     "text": [
      "SVD 수렴 문제 발생: SVD did not converge. 계속 진행합니다.\n"
     ]
    },
    {
     "name": "stderr",
     "output_type": "stream",
     "text": [
      "[I 2024-10-14 09:27:55,220] Trial 577 finished with value: 0.7492424242424242 and parameters: {'lr': 1.1287448248523606e-05, 'weight_decay': 1.2183494648542638e-06}. Best is trial 490 with value: 0.8166666666666667.\n",
      "WARNING: Maximum number of iterations 32 reached. The mean may be inaccurate\n"
     ]
    },
    {
     "name": "stdout",
     "output_type": "stream",
     "text": [
      "SVD 수렴 문제 발생: SVD did not converge. 계속 진행합니다.\n"
     ]
    },
    {
     "name": "stderr",
     "output_type": "stream",
     "text": [
      "[I 2024-10-14 09:32:29,119] Trial 578 finished with value: 0.60967993754879 and parameters: {'lr': 2.2765123707469202e-05, 'weight_decay': 2.843246548882538e-06}. Best is trial 490 with value: 0.8166666666666667.\n",
      "WARNING: Maximum number of iterations 32 reached. The mean may be inaccurate\n"
     ]
    },
    {
     "name": "stdout",
     "output_type": "stream",
     "text": [
      "SVD 수렴 문제 발생: SVD did not converge. 계속 진행합니다.\n"
     ]
    },
    {
     "name": "stderr",
     "output_type": "stream",
     "text": [
      "[I 2024-10-14 09:37:01,229] Trial 579 finished with value: 0.7428571428571429 and parameters: {'lr': 3.4368837082884894e-05, 'weight_decay': 0.00016218609882697987}. Best is trial 490 with value: 0.8166666666666667.\n",
      "WARNING: Maximum number of iterations 32 reached. The mean may be inaccurate\n"
     ]
    },
    {
     "name": "stdout",
     "output_type": "stream",
     "text": [
      "SVD 수렴 문제 발생: SVD did not converge. 계속 진행합니다.\n"
     ]
    },
    {
     "name": "stderr",
     "output_type": "stream",
     "text": [
      "[I 2024-10-14 09:41:34,001] Trial 580 finished with value: 0.564516129032258 and parameters: {'lr': 1.805157299853545e-05, 'weight_decay': 4.514044026497416e-06}. Best is trial 490 with value: 0.8166666666666667.\n",
      "WARNING: Maximum number of iterations 32 reached. The mean may be inaccurate\n"
     ]
    },
    {
     "name": "stdout",
     "output_type": "stream",
     "text": [
      "SVD 수렴 문제 발생: SVD did not converge. 계속 진행합니다.\n"
     ]
    },
    {
     "name": "stderr",
     "output_type": "stream",
     "text": [
      "[I 2024-10-14 09:46:07,655] Trial 581 finished with value: 0.6875522138680035 and parameters: {'lr': 5.507570568082955e-06, 'weight_decay': 6.523433614855979e-06}. Best is trial 490 with value: 0.8166666666666667.\n",
      "WARNING: Maximum number of iterations 32 reached. The mean may be inaccurate\n"
     ]
    },
    {
     "name": "stdout",
     "output_type": "stream",
     "text": [
      "SVD 수렴 문제 발생: SVD did not converge. 계속 진행합니다.\n"
     ]
    },
    {
     "name": "stderr",
     "output_type": "stream",
     "text": [
      "[I 2024-10-14 09:50:42,523] Trial 582 finished with value: 0.725 and parameters: {'lr': 4.491714757438009e-05, 'weight_decay': 1.64677653931858e-05}. Best is trial 490 with value: 0.8166666666666667.\n",
      "WARNING: Maximum number of iterations 32 reached. The mean may be inaccurate\n"
     ]
    },
    {
     "name": "stdout",
     "output_type": "stream",
     "text": [
      "SVD 수렴 문제 발생: SVD did not converge. 계속 진행합니다.\n"
     ]
    },
    {
     "name": "stderr",
     "output_type": "stream",
     "text": [
      "[I 2024-10-14 09:55:16,552] Trial 583 finished with value: 0.5959677419354839 and parameters: {'lr': 5.499975128973612e-05, 'weight_decay': 1.7103806367928474e-06}. Best is trial 490 with value: 0.8166666666666667.\n",
      "WARNING: Maximum number of iterations 32 reached. The mean may be inaccurate\n"
     ]
    },
    {
     "name": "stdout",
     "output_type": "stream",
     "text": [
      "SVD 수렴 문제 발생: SVD did not converge. 계속 진행합니다.\n"
     ]
    },
    {
     "name": "stderr",
     "output_type": "stream",
     "text": [
      "[I 2024-10-14 09:59:49,623] Trial 584 finished with value: 0.7049180327868853 and parameters: {'lr': 2.553794504512184e-05, 'weight_decay': 3.441338850119579e-06}. Best is trial 490 with value: 0.8166666666666667.\n",
      "WARNING: Maximum number of iterations 32 reached. The mean may be inaccurate\n"
     ]
    },
    {
     "name": "stdout",
     "output_type": "stream",
     "text": [
      "SVD 수렴 문제 발생: SVD did not converge. 계속 진행합니다.\n"
     ]
    },
    {
     "name": "stderr",
     "output_type": "stream",
     "text": [
      "[I 2024-10-14 10:04:23,130] Trial 585 finished with value: 0.6181818181818182 and parameters: {'lr': 1.7984759426473686e-06, 'weight_decay': 5.158274381461429e-06}. Best is trial 490 with value: 0.8166666666666667.\n",
      "WARNING: Maximum number of iterations 32 reached. The mean may be inaccurate\n"
     ]
    },
    {
     "name": "stdout",
     "output_type": "stream",
     "text": [
      "SVD 수렴 문제 발생: SVD did not converge. 계속 진행합니다.\n"
     ]
    },
    {
     "name": "stderr",
     "output_type": "stream",
     "text": [
      "[I 2024-10-14 10:08:57,608] Trial 586 finished with value: 0.6658860265417642 and parameters: {'lr': 2.4086241994861164e-06, 'weight_decay': 0.00010450095534019461}. Best is trial 490 with value: 0.8166666666666667.\n",
      "WARNING: Maximum number of iterations 32 reached. The mean may be inaccurate\n"
     ]
    },
    {
     "name": "stdout",
     "output_type": "stream",
     "text": [
      "SVD 수렴 문제 발생: SVD did not converge. 계속 진행합니다.\n"
     ]
    },
    {
     "name": "stderr",
     "output_type": "stream",
     "text": [
      "[I 2024-10-14 10:13:31,472] Trial 587 finished with value: 0.6143939393939394 and parameters: {'lr': 1.4494315561318552e-05, 'weight_decay': 2.2846745106916168e-06}. Best is trial 490 with value: 0.8166666666666667.\n",
      "WARNING: Maximum number of iterations 32 reached. The mean may be inaccurate\n"
     ]
    },
    {
     "name": "stdout",
     "output_type": "stream",
     "text": [
      "SVD 수렴 문제 발생: SVD did not converge. 계속 진행합니다.\n"
     ]
    },
    {
     "name": "stderr",
     "output_type": "stream",
     "text": [
      "[I 2024-10-14 10:18:06,074] Trial 588 finished with value: 0.6908665105386417 and parameters: {'lr': 3.631313756945472e-05, 'weight_decay': 4.137386337586201e-06}. Best is trial 490 with value: 0.8166666666666667.\n",
      "WARNING: Maximum number of iterations 32 reached. The mean may be inaccurate\n"
     ]
    },
    {
     "name": "stdout",
     "output_type": "stream",
     "text": [
      "SVD 수렴 문제 발생: SVD did not converge. 계속 진행합니다.\n"
     ]
    },
    {
     "name": "stderr",
     "output_type": "stream",
     "text": [
      "[I 2024-10-14 10:22:40,838] Trial 589 finished with value: 0.5431432973805855 and parameters: {'lr': 2.983884968711063e-05, 'weight_decay': 7.088947366159019e-06}. Best is trial 490 with value: 0.8166666666666667.\n",
      "WARNING: Maximum number of iterations 32 reached. The mean may be inaccurate\n"
     ]
    },
    {
     "name": "stdout",
     "output_type": "stream",
     "text": [
      "SVD 수렴 문제 발생: SVD did not converge. 계속 진행합니다.\n"
     ]
    },
    {
     "name": "stderr",
     "output_type": "stream",
     "text": [
      "[I 2024-10-14 10:27:15,341] Trial 590 finished with value: 0.6088709677419355 and parameters: {'lr': 1.1436528311450813e-06, 'weight_decay': 1.3728971297012646e-06}. Best is trial 490 with value: 0.8166666666666667.\n",
      "WARNING: Maximum number of iterations 32 reached. The mean may be inaccurate\n"
     ]
    },
    {
     "name": "stdout",
     "output_type": "stream",
     "text": [
      "SVD 수렴 문제 발생: SVD did not converge. 계속 진행합니다.\n"
     ]
    },
    {
     "name": "stderr",
     "output_type": "stream",
     "text": [
      "[I 2024-10-14 10:31:50,509] Trial 591 finished with value: 0.7396825396825397 and parameters: {'lr': 2.169630415896572e-05, 'weight_decay': 3.1126894943313077e-06}. Best is trial 490 with value: 0.8166666666666667.\n",
      "WARNING: Maximum number of iterations 32 reached. The mean may be inaccurate\n"
     ]
    },
    {
     "name": "stdout",
     "output_type": "stream",
     "text": [
      "SVD 수렴 문제 발생: SVD did not converge. 계속 진행합니다.\n"
     ]
    },
    {
     "name": "stderr",
     "output_type": "stream",
     "text": [
      "[I 2024-10-14 10:36:25,790] Trial 592 finished with value: 0.6330645161290323 and parameters: {'lr': 4.266002506329918e-05, 'weight_decay': 2.6478004515145873e-05}. Best is trial 490 with value: 0.8166666666666667.\n",
      "WARNING: Maximum number of iterations 32 reached. The mean may be inaccurate\n"
     ]
    },
    {
     "name": "stdout",
     "output_type": "stream",
     "text": [
      "SVD 수렴 문제 발생: SVD did not converge. 계속 진행합니다.\n"
     ]
    },
    {
     "name": "stderr",
     "output_type": "stream",
     "text": [
      "[I 2024-10-14 10:41:01,081] Trial 593 finished with value: 0.7188905547226387 and parameters: {'lr': 1.8002709059363397e-05, 'weight_decay': 5.855246699475241e-06}. Best is trial 490 with value: 0.8166666666666667.\n",
      "WARNING: Maximum number of iterations 32 reached. The mean may be inaccurate\n"
     ]
    },
    {
     "name": "stdout",
     "output_type": "stream",
     "text": [
      "SVD 수렴 문제 발생: SVD did not converge. 계속 진행합니다.\n"
     ]
    },
    {
     "name": "stderr",
     "output_type": "stream",
     "text": [
      "[I 2024-10-14 10:45:35,977] Trial 594 finished with value: 0.65 and parameters: {'lr': 1.2492511686989288e-05, 'weight_decay': 2.0038769606204333e-06}. Best is trial 490 with value: 0.8166666666666667.\n",
      "WARNING: Maximum number of iterations 32 reached. The mean may be inaccurate\n"
     ]
    },
    {
     "name": "stdout",
     "output_type": "stream",
     "text": [
      "SVD 수렴 문제 발생: SVD did not converge. 계속 진행합니다.\n"
     ]
    },
    {
     "name": "stderr",
     "output_type": "stream",
     "text": [
      "[I 2024-10-14 10:50:10,265] Trial 595 finished with value: 0.7002341920374707 and parameters: {'lr': 7.390394988935635e-06, 'weight_decay': 3.312389853473134e-05}. Best is trial 490 with value: 0.8166666666666667.\n",
      "WARNING: Maximum number of iterations 32 reached. The mean may be inaccurate\n"
     ]
    },
    {
     "name": "stdout",
     "output_type": "stream",
     "text": [
      "SVD 수렴 문제 발생: SVD did not converge. 계속 진행합니다.\n"
     ]
    },
    {
     "name": "stderr",
     "output_type": "stream",
     "text": [
      "[I 2024-10-14 10:54:44,362] Trial 596 finished with value: 0.707258064516129 and parameters: {'lr': 5.20350103120162e-05, 'weight_decay': 1.0318179006676936e-06}. Best is trial 490 with value: 0.8166666666666667.\n",
      "WARNING: Maximum number of iterations 32 reached. The mean may be inaccurate\n"
     ]
    },
    {
     "name": "stdout",
     "output_type": "stream",
     "text": [
      "SVD 수렴 문제 발생: SVD did not converge. 계속 진행합니다.\n"
     ]
    },
    {
     "name": "stderr",
     "output_type": "stream",
     "text": [
      "[I 2024-10-14 10:59:18,370] Trial 597 finished with value: 0.4605776736924278 and parameters: {'lr': 1.0114413485861146e-06, 'weight_decay': 4.643397485543819e-06}. Best is trial 490 with value: 0.8166666666666667.\n",
      "WARNING: Maximum number of iterations 32 reached. The mean may be inaccurate\n"
     ]
    },
    {
     "name": "stdout",
     "output_type": "stream",
     "text": [
      "SVD 수렴 문제 발생: SVD did not converge. 계속 진행합니다.\n"
     ]
    },
    {
     "name": "stderr",
     "output_type": "stream",
     "text": [
      "[I 2024-10-14 11:03:52,540] Trial 598 finished with value: 0.7133382461311718 and parameters: {'lr': 2.4208774275569745e-05, 'weight_decay': 7.768571182478635e-06}. Best is trial 490 with value: 0.8166666666666667.\n",
      "WARNING: Maximum number of iterations 32 reached. The mean may be inaccurate\n"
     ]
    },
    {
     "name": "stdout",
     "output_type": "stream",
     "text": [
      "SVD 수렴 문제 발생: SVD did not converge. 계속 진행합니다.\n"
     ]
    },
    {
     "name": "stderr",
     "output_type": "stream",
     "text": [
      "[I 2024-10-14 11:08:26,661] Trial 599 finished with value: 0.6196969696969697 and parameters: {'lr': 9.952406098519338e-06, 'weight_decay': 3.829203583821028e-06}. Best is trial 490 with value: 0.8166666666666667.\n",
      "WARNING: Maximum number of iterations 32 reached. The mean may be inaccurate\n"
     ]
    },
    {
     "name": "stdout",
     "output_type": "stream",
     "text": [
      "SVD 수렴 문제 발생: SVD did not converge. 계속 진행합니다.\n"
     ]
    },
    {
     "name": "stderr",
     "output_type": "stream",
     "text": [
      "[I 2024-10-14 11:13:02,003] Trial 600 finished with value: 0.6893052302888368 and parameters: {'lr': 3.253876787092731e-05, 'weight_decay': 2.7000243575629755e-06}. Best is trial 490 with value: 0.8166666666666667.\n",
      "WARNING: Maximum number of iterations 32 reached. The mean may be inaccurate\n"
     ]
    },
    {
     "name": "stdout",
     "output_type": "stream",
     "text": [
      "SVD 수렴 문제 발생: SVD did not converge. 계속 진행합니다.\n"
     ]
    },
    {
     "name": "stderr",
     "output_type": "stream",
     "text": [
      "[I 2024-10-14 11:17:36,814] Trial 601 finished with value: 0.6591478696741855 and parameters: {'lr': 1.5211211689294473e-05, 'weight_decay': 5.588688480753701e-06}. Best is trial 490 with value: 0.8166666666666667.\n",
      "WARNING: Maximum number of iterations 32 reached. The mean may be inaccurate\n"
     ]
    },
    {
     "name": "stdout",
     "output_type": "stream",
     "text": [
      "SVD 수렴 문제 발생: SVD did not converge. 계속 진행합니다.\n"
     ]
    },
    {
     "name": "stderr",
     "output_type": "stream",
     "text": [
      "[I 2024-10-14 11:22:11,847] Trial 602 finished with value: 0.6712121212121211 and parameters: {'lr': 3.8326731231635025e-06, 'weight_decay': 2.2480490649167256e-05}. Best is trial 490 with value: 0.8166666666666667.\n",
      "WARNING: Maximum number of iterations 32 reached. The mean may be inaccurate\n"
     ]
    },
    {
     "name": "stdout",
     "output_type": "stream",
     "text": [
      "SVD 수렴 문제 발생: SVD did not converge. 계속 진행합니다.\n"
     ]
    },
    {
     "name": "stderr",
     "output_type": "stream",
     "text": [
      "[I 2024-10-14 11:26:44,206] Trial 603 finished with value: 0.5530492898913951 and parameters: {'lr': 0.0018532959043595072, 'weight_decay': 1.4075199808734553e-05}. Best is trial 490 with value: 0.8166666666666667.\n",
      "WARNING: Maximum number of iterations 32 reached. The mean may be inaccurate\n"
     ]
    },
    {
     "name": "stdout",
     "output_type": "stream",
     "text": [
      "SVD 수렴 문제 발생: SVD did not converge. 계속 진행합니다.\n"
     ]
    },
    {
     "name": "stderr",
     "output_type": "stream",
     "text": [
      "[I 2024-10-14 11:31:18,681] Trial 604 finished with value: 0.6768149882903981 and parameters: {'lr': 6.412142193972072e-05, 'weight_decay': 1.5663918922549006e-06}. Best is trial 490 with value: 0.8166666666666667.\n",
      "WARNING: Maximum number of iterations 32 reached. The mean may be inaccurate\n"
     ]
    },
    {
     "name": "stdout",
     "output_type": "stream",
     "text": [
      "SVD 수렴 문제 발생: SVD did not converge. 계속 진행합니다.\n"
     ]
    },
    {
     "name": "stderr",
     "output_type": "stream",
     "text": [
      "[I 2024-10-14 11:35:52,211] Trial 605 finished with value: 0.6166666666666667 and parameters: {'lr': 2.715662902146501e-05, 'weight_decay': 3.4372662385043e-06}. Best is trial 490 with value: 0.8166666666666667.\n",
      "WARNING: Maximum number of iterations 32 reached. The mean may be inaccurate\n"
     ]
    },
    {
     "name": "stdout",
     "output_type": "stream",
     "text": [
      "SVD 수렴 문제 발생: SVD did not converge. 계속 진행합니다.\n"
     ]
    },
    {
     "name": "stderr",
     "output_type": "stream",
     "text": [
      "[I 2024-10-14 11:40:25,638] Trial 606 finished with value: 0.7064793130366901 and parameters: {'lr': 1.4393336175155585e-06, 'weight_decay': 9.920430624587519e-06}. Best is trial 490 with value: 0.8166666666666667.\n",
      "WARNING: Maximum number of iterations 32 reached. The mean may be inaccurate\n"
     ]
    },
    {
     "name": "stdout",
     "output_type": "stream",
     "text": [
      "SVD 수렴 문제 발생: SVD did not converge. 계속 진행합니다.\n"
     ]
    },
    {
     "name": "stderr",
     "output_type": "stream",
     "text": [
      "[I 2024-10-14 11:44:59,184] Trial 607 finished with value: 0.6649175412293853 and parameters: {'lr': 2.150163999435691e-05, 'weight_decay': 5.212604774523542e-06}. Best is trial 490 with value: 0.8166666666666667.\n",
      "WARNING: Maximum number of iterations 32 reached. The mean may be inaccurate\n",
      "[I 2024-10-14 11:49:34,615] Trial 608 finished with value: 0.7150663544106167 and parameters: {'lr': 3.768180041716978e-05, 'weight_decay': 4.490642966761727e-06}. Best is trial 490 with value: 0.8166666666666667.\n"
     ]
    },
    {
     "name": "stdout",
     "output_type": "stream",
     "text": [
      "SVD 수렴 문제 발생: SVD did not converge. 계속 진행합니다.\n"
     ]
    },
    {
     "name": "stderr",
     "output_type": "stream",
     "text": [
      "WARNING: Maximum number of iterations 32 reached. The mean may be inaccurate\n"
     ]
    },
    {
     "name": "stdout",
     "output_type": "stream",
     "text": [
      "SVD 수렴 문제 발생: SVD did not converge. 계속 진행합니다.\n"
     ]
    },
    {
     "name": "stderr",
     "output_type": "stream",
     "text": [
      "[I 2024-10-14 11:54:09,034] Trial 609 finished with value: 0.6494925839188134 and parameters: {'lr': 1.5469111558834606e-05, 'weight_decay': 6.100217265868178e-05}. Best is trial 490 with value: 0.8166666666666667.\n",
      "WARNING: Maximum number of iterations 32 reached. The mean may be inaccurate\n"
     ]
    },
    {
     "name": "stdout",
     "output_type": "stream",
     "text": [
      "SVD 수렴 문제 발생: SVD did not converge. 계속 진행합니다.\n"
     ]
    },
    {
     "name": "stderr",
     "output_type": "stream",
     "text": [
      "[I 2024-10-14 11:58:44,074] Trial 610 finished with value: 0.7221311475409837 and parameters: {'lr': 1.9022392626503285e-05, 'weight_decay': 6.459056081333045e-06}. Best is trial 490 with value: 0.8166666666666667.\n",
      "WARNING: Maximum number of iterations 32 reached. The mean may be inaccurate\n"
     ]
    },
    {
     "name": "stdout",
     "output_type": "stream",
     "text": [
      "SVD 수렴 문제 발생: SVD did not converge. 계속 진행합니다.\n"
     ]
    },
    {
     "name": "stderr",
     "output_type": "stream",
     "text": [
      "[I 2024-10-14 12:03:19,354] Trial 611 finished with value: 0.6263482280431433 and parameters: {'lr': 1.1726386268515125e-05, 'weight_decay': 1.241271316866537e-06}. Best is trial 490 with value: 0.8166666666666667.\n",
      "WARNING: Maximum number of iterations 32 reached. The mean may be inaccurate\n"
     ]
    },
    {
     "name": "stdout",
     "output_type": "stream",
     "text": [
      "SVD 수렴 문제 발생: SVD did not converge. 계속 진행합니다.\n"
     ]
    },
    {
     "name": "stderr",
     "output_type": "stream",
     "text": [
      "[I 2024-10-14 12:07:54,540] Trial 612 finished with value: 0.7301587301587301 and parameters: {'lr': 4.539668381918626e-05, 'weight_decay': 1.9241145539443144e-06}. Best is trial 490 with value: 0.8166666666666667.\n",
      "WARNING: Maximum number of iterations 32 reached. The mean may be inaccurate\n"
     ]
    },
    {
     "name": "stdout",
     "output_type": "stream",
     "text": [
      "SVD 수렴 문제 발생: SVD did not converge. 계속 진행합니다.\n"
     ]
    },
    {
     "name": "stderr",
     "output_type": "stream",
     "text": [
      "[I 2024-10-14 12:12:29,685] Trial 613 finished with value: 0.5909090909090909 and parameters: {'lr': 3.08106782466229e-05, 'weight_decay': 2.8664011515214778e-06}. Best is trial 490 with value: 0.8166666666666667.\n",
      "WARNING: Maximum number of iterations 32 reached. The mean may be inaccurate\n"
     ]
    },
    {
     "name": "stdout",
     "output_type": "stream",
     "text": [
      "SVD 수렴 문제 발생: SVD did not converge. 계속 진행합니다.\n"
     ]
    },
    {
     "name": "stderr",
     "output_type": "stream",
     "text": [
      "[I 2024-10-14 12:17:03,752] Trial 614 finished with value: 0.7142857142857142 and parameters: {'lr': 2.409041351248825e-05, 'weight_decay': 2.430719622085113e-06}. Best is trial 490 with value: 0.8166666666666667.\n",
      "WARNING: Maximum number of iterations 32 reached. The mean may be inaccurate\n"
     ]
    },
    {
     "name": "stdout",
     "output_type": "stream",
     "text": [
      "SVD 수렴 문제 발생: SVD did not converge. 계속 진행합니다.\n"
     ]
    },
    {
     "name": "stderr",
     "output_type": "stream",
     "text": [
      "[I 2024-10-14 12:21:38,592] Trial 615 finished with value: 0.5356060606060606 and parameters: {'lr': 1.761608677900531e-05, 'weight_decay': 3.939612032568393e-06}. Best is trial 490 with value: 0.8166666666666667.\n",
      "WARNING: Maximum number of iterations 32 reached. The mean may be inaccurate\n"
     ]
    },
    {
     "name": "stdout",
     "output_type": "stream",
     "text": [
      "SVD 수렴 문제 발생: SVD did not converge. 계속 진행합니다.\n"
     ]
    },
    {
     "name": "stderr",
     "output_type": "stream",
     "text": [
      "[I 2024-10-14 12:26:12,781] Trial 616 finished with value: 0.6741854636591479 and parameters: {'lr': 2.7828010468238785e-06, 'weight_decay': 4.905669358003429e-06}. Best is trial 490 with value: 0.8166666666666667.\n",
      "WARNING: Maximum number of iterations 32 reached. The mean may be inaccurate\n"
     ]
    },
    {
     "name": "stdout",
     "output_type": "stream",
     "text": [
      "SVD 수렴 문제 발생: SVD did not converge. 계속 진행합니다.\n"
     ]
    },
    {
     "name": "stderr",
     "output_type": "stream",
     "text": [
      "[I 2024-10-14 12:30:47,076] Trial 617 finished with value: 0.5977272727272728 and parameters: {'lr': 5.396766195471428e-05, 'weight_decay': 3.9693097232034464e-05}. Best is trial 490 with value: 0.8166666666666667.\n",
      "WARNING: Maximum number of iterations 32 reached. The mean may be inaccurate\n"
     ]
    },
    {
     "name": "stdout",
     "output_type": "stream",
     "text": [
      "SVD 수렴 문제 발생: SVD did not converge. 계속 진행합니다.\n"
     ]
    },
    {
     "name": "stderr",
     "output_type": "stream",
     "text": [
      "[I 2024-10-14 12:35:22,200] Trial 618 finished with value: 0.5815768930523029 and parameters: {'lr': 6.147433075362605e-06, 'weight_decay': 7.441255260905335e-06}. Best is trial 490 with value: 0.8166666666666667.\n",
      "WARNING: Maximum number of iterations 32 reached. The mean may be inaccurate\n"
     ]
    },
    {
     "name": "stdout",
     "output_type": "stream",
     "text": [
      "SVD 수렴 문제 발생: SVD did not converge. 계속 진행합니다.\n"
     ]
    },
    {
     "name": "stderr",
     "output_type": "stream",
     "text": [
      "[I 2024-10-14 12:39:57,752] Trial 619 finished with value: 0.6888888888888889 and parameters: {'lr': 4.024093175329899e-05, 'weight_decay': 3.46973489589152e-06}. Best is trial 490 with value: 0.8166666666666667.\n",
      "WARNING: Maximum number of iterations 32 reached. The mean may be inaccurate\n"
     ]
    },
    {
     "name": "stdout",
     "output_type": "stream",
     "text": [
      "SVD 수렴 문제 발생: SVD did not converge. 계속 진행합니다.\n"
     ]
    },
    {
     "name": "stderr",
     "output_type": "stream",
     "text": [
      "[I 2024-10-14 12:44:32,017] Trial 620 finished with value: 0.7333333333333333 and parameters: {'lr': 2.082249387459619e-05, 'weight_decay': 1.9858577231690447e-05}. Best is trial 490 with value: 0.8166666666666667.\n",
      "WARNING: Maximum number of iterations 32 reached. The mean may be inaccurate\n"
     ]
    },
    {
     "name": "stdout",
     "output_type": "stream",
     "text": [
      "SVD 수렴 문제 발생: SVD did not converge. 계속 진행합니다.\n"
     ]
    },
    {
     "name": "stderr",
     "output_type": "stream",
     "text": [
      "[I 2024-10-14 12:49:07,242] Trial 621 finished with value: 0.7196969696969696 and parameters: {'lr': 2.776792658556416e-05, 'weight_decay': 1.6027468361471347e-06}. Best is trial 490 with value: 0.8166666666666667.\n",
      "WARNING: Maximum number of iterations 32 reached. The mean may be inaccurate\n"
     ]
    },
    {
     "name": "stdout",
     "output_type": "stream",
     "text": [
      "SVD 수렴 문제 발생: SVD did not converge. 계속 진행합니다.\n"
     ]
    },
    {
     "name": "stderr",
     "output_type": "stream",
     "text": [
      "[I 2024-10-14 12:53:43,081] Trial 622 finished with value: 0.646774193548387 and parameters: {'lr': 8.113527924412643e-06, 'weight_decay': 2.7371471077930295e-05}. Best is trial 490 with value: 0.8166666666666667.\n",
      "WARNING: Maximum number of iterations 32 reached. The mean may be inaccurate\n"
     ]
    },
    {
     "name": "stdout",
     "output_type": "stream",
     "text": [
      "SVD 수렴 문제 발생: SVD did not converge. 계속 진행합니다.\n"
     ]
    },
    {
     "name": "stderr",
     "output_type": "stream",
     "text": [
      "[I 2024-10-14 12:58:19,076] Trial 623 finished with value: 0.6315378610460578 and parameters: {'lr': 1.2853649011120325e-05, 'weight_decay': 6.123454283232844e-06}. Best is trial 490 with value: 0.8166666666666667.\n",
      "WARNING: Maximum number of iterations 32 reached. The mean may be inaccurate\n",
      "[I 2024-10-14 13:02:55,591] Trial 624 finished with value: 0.6697892271662763 and parameters: {'lr': 1.013205983561622e-05, 'weight_decay': 1.1391838665814718e-06}. Best is trial 490 with value: 0.8166666666666667.\n"
     ]
    },
    {
     "name": "stdout",
     "output_type": "stream",
     "text": [
      "SVD 수렴 문제 발생: SVD did not converge. 계속 진행합니다.\n"
     ]
    },
    {
     "name": "stderr",
     "output_type": "stream",
     "text": [
      "WARNING: Maximum number of iterations 32 reached. The mean may be inaccurate\n",
      "[I 2024-10-14 13:07:32,266] Trial 625 finished with value: 0.628030303030303 and parameters: {'lr': 3.387867380817514e-05, 'weight_decay': 8.174697427705517e-06}. Best is trial 490 with value: 0.8166666666666667.\n"
     ]
    },
    {
     "name": "stdout",
     "output_type": "stream",
     "text": [
      "SVD 수렴 문제 발생: SVD did not converge. 계속 진행합니다.\n"
     ]
    },
    {
     "name": "stderr",
     "output_type": "stream",
     "text": [
      "WARNING: Maximum number of iterations 32 reached. The mean may be inaccurate\n"
     ]
    },
    {
     "name": "stdout",
     "output_type": "stream",
     "text": [
      "SVD 수렴 문제 발생: SVD did not converge. 계속 진행합니다.\n"
     ]
    },
    {
     "name": "stderr",
     "output_type": "stream",
     "text": [
      "[I 2024-10-14 13:12:06,949] Trial 626 finished with value: 0.6432474629195941 and parameters: {'lr': 1.2203772630650792e-06, 'weight_decay': 1.6536626725560276e-05}. Best is trial 490 with value: 0.8166666666666667.\n",
      "WARNING: Maximum number of iterations 32 reached. The mean may be inaccurate\n"
     ]
    },
    {
     "name": "stdout",
     "output_type": "stream",
     "text": [
      "SVD 수렴 문제 발생: SVD did not converge. 계속 진행합니다.\n"
     ]
    },
    {
     "name": "stderr",
     "output_type": "stream",
     "text": [
      "[I 2024-10-14 13:16:43,081] Trial 627 finished with value: 0.7704160246533128 and parameters: {'lr': 1.607924332546891e-05, 'weight_decay': 4.4437220192938745e-06}. Best is trial 490 with value: 0.8166666666666667.\n",
      "WARNING: Maximum number of iterations 32 reached. The mean may be inaccurate\n"
     ]
    },
    {
     "name": "stdout",
     "output_type": "stream",
     "text": [
      "SVD 수렴 문제 발생: SVD did not converge. 계속 진행합니다.\n"
     ]
    },
    {
     "name": "stderr",
     "output_type": "stream",
     "text": [
      "[I 2024-10-14 13:21:18,576] Trial 628 finished with value: 0.6716791979949874 and parameters: {'lr': 1.4968707352273768e-05, 'weight_decay': 4.861918208334084e-05}. Best is trial 490 with value: 0.8166666666666667.\n",
      "WARNING: Maximum number of iterations 32 reached. The mean may be inaccurate\n"
     ]
    },
    {
     "name": "stdout",
     "output_type": "stream",
     "text": [
      "SVD 수렴 문제 발생: SVD did not converge. 계속 진행합니다.\n"
     ]
    },
    {
     "name": "stderr",
     "output_type": "stream",
     "text": [
      "[I 2024-10-14 13:25:54,052] Trial 629 finished with value: 0.6341269841269841 and parameters: {'lr': 1.6775002586185736e-05, 'weight_decay': 4.3987433754134734e-06}. Best is trial 490 with value: 0.8166666666666667.\n",
      "WARNING: Maximum number of iterations 32 reached. The mean may be inaccurate\n"
     ]
    },
    {
     "name": "stdout",
     "output_type": "stream",
     "text": [
      "SVD 수렴 문제 발생: SVD did not converge. 계속 진행합니다.\n"
     ]
    },
    {
     "name": "stderr",
     "output_type": "stream",
     "text": [
      "[I 2024-10-14 13:30:28,282] Trial 630 finished with value: 0.7016129032258065 and parameters: {'lr': 1.3301176293685207e-05, 'weight_decay': 8.582695159215128e-05}. Best is trial 490 with value: 0.8166666666666667.\n",
      "WARNING: Maximum number of iterations 32 reached. The mean may be inaccurate\n"
     ]
    },
    {
     "name": "stdout",
     "output_type": "stream",
     "text": [
      "SVD 수렴 문제 발생: SVD did not converge. 계속 진행합니다.\n"
     ]
    },
    {
     "name": "stderr",
     "output_type": "stream",
     "text": [
      "[I 2024-10-14 13:35:03,694] Trial 631 finished with value: 0.5613636363636364 and parameters: {'lr': 1.1115559042124572e-05, 'weight_decay': 3.227405051968549e-06}. Best is trial 490 with value: 0.8166666666666667.\n",
      "WARNING: Maximum number of iterations 32 reached. The mean may be inaccurate\n"
     ]
    },
    {
     "name": "stdout",
     "output_type": "stream",
     "text": [
      "SVD 수렴 문제 발생: SVD did not converge. 계속 진행합니다.\n"
     ]
    },
    {
     "name": "stderr",
     "output_type": "stream",
     "text": [
      "[I 2024-10-14 13:39:39,302] Trial 632 finished with value: 0.6400679117147707 and parameters: {'lr': 1.9318385178561766e-05, 'weight_decay': 5.321663580714301e-06}. Best is trial 490 with value: 0.8166666666666667.\n",
      "WARNING: Maximum number of iterations 32 reached. The mean may be inaccurate\n"
     ]
    },
    {
     "name": "stdout",
     "output_type": "stream",
     "text": [
      "SVD 수렴 문제 발생: SVD did not converge. 계속 진행합니다.\n"
     ]
    },
    {
     "name": "stderr",
     "output_type": "stream",
     "text": [
      "[I 2024-10-14 13:44:14,316] Trial 633 finished with value: 0.6736924277907884 and parameters: {'lr': 1.7165886738106255e-05, 'weight_decay': 4.090289537342661e-06}. Best is trial 490 with value: 0.8166666666666667.\n",
      "WARNING: Maximum number of iterations 32 reached. The mean may be inaccurate\n"
     ]
    },
    {
     "name": "stdout",
     "output_type": "stream",
     "text": [
      "SVD 수렴 문제 발생: SVD did not converge. 계속 진행합니다.\n"
     ]
    },
    {
     "name": "stderr",
     "output_type": "stream",
     "text": [
      "[I 2024-10-14 13:48:49,750] Trial 634 finished with value: 0.6825396825396826 and parameters: {'lr': 2.2772679011894432e-05, 'weight_decay': 4.771600254675622e-06}. Best is trial 490 with value: 0.8166666666666667.\n",
      "WARNING: Maximum number of iterations 32 reached. The mean may be inaccurate\n"
     ]
    },
    {
     "name": "stdout",
     "output_type": "stream",
     "text": [
      "SVD 수렴 문제 발생: SVD did not converge. 계속 진행합니다.\n"
     ]
    },
    {
     "name": "stderr",
     "output_type": "stream",
     "text": [
      "[I 2024-10-14 13:53:25,148] Trial 635 finished with value: 0.6088992974238876 and parameters: {'lr': 1.4111222651866271e-05, 'weight_decay': 3.580317171751405e-06}. Best is trial 490 with value: 0.8166666666666667.\n",
      "WARNING: Maximum number of iterations 32 reached. The mean may be inaccurate\n",
      "[I 2024-10-14 13:58:01,593] Trial 636 finished with value: 0.7185483870967743 and parameters: {'lr': 1.813798688309632e-05, 'weight_decay': 5.87454684819616e-06}. Best is trial 490 with value: 0.8166666666666667.\n"
     ]
    },
    {
     "name": "stdout",
     "output_type": "stream",
     "text": [
      "SVD 수렴 문제 발생: SVD did not converge. 계속 진행합니다.\n"
     ]
    },
    {
     "name": "stderr",
     "output_type": "stream",
     "text": [
      "WARNING: Maximum number of iterations 32 reached. The mean may be inaccurate\n"
     ]
    },
    {
     "name": "stdout",
     "output_type": "stream",
     "text": [
      "SVD 수렴 문제 발생: SVD did not converge. 계속 진행합니다.\n"
     ]
    },
    {
     "name": "stderr",
     "output_type": "stream",
     "text": [
      "[I 2024-10-14 14:02:35,720] Trial 637 finished with value: 0.7033567525370804 and parameters: {'lr': 8.83649371253254e-06, 'weight_decay': 2.536970987980866e-06}. Best is trial 490 with value: 0.8166666666666667.\n",
      "WARNING: Maximum number of iterations 32 reached. The mean may be inaccurate\n"
     ]
    },
    {
     "name": "stdout",
     "output_type": "stream",
     "text": [
      "SVD 수렴 문제 발생: SVD did not converge. 계속 진행합니다.\n"
     ]
    },
    {
     "name": "stderr",
     "output_type": "stream",
     "text": [
      "[I 2024-10-14 14:07:11,582] Trial 638 finished with value: 0.6282372598162071 and parameters: {'lr': 2.4571870306328387e-05, 'weight_decay': 4.104256370673469e-06}. Best is trial 490 with value: 0.8166666666666667.\n",
      "WARNING: Maximum number of iterations 32 reached. The mean may be inaccurate\n"
     ]
    },
    {
     "name": "stdout",
     "output_type": "stream",
     "text": [
      "SVD 수렴 문제 발생: SVD did not converge. 계속 진행합니다.\n"
     ]
    },
    {
     "name": "stderr",
     "output_type": "stream",
     "text": [
      "[I 2024-10-14 14:11:47,838] Trial 639 finished with value: 0.5886363636363636 and parameters: {'lr': 1.587158857852544e-06, 'weight_decay': 3.1159924709399384e-06}. Best is trial 490 with value: 0.8166666666666667.\n",
      "WARNING: Maximum number of iterations 32 reached. The mean may be inaccurate\n"
     ]
    },
    {
     "name": "stdout",
     "output_type": "stream",
     "text": [
      "SVD 수렴 문제 발생: SVD did not converge. 계속 진행합니다.\n"
     ]
    },
    {
     "name": "stderr",
     "output_type": "stream",
     "text": [
      "[I 2024-10-14 14:16:23,052] Trial 640 finished with value: 0.6825757575757575 and parameters: {'lr': 1.2470806804425232e-05, 'weight_decay': 5.051005544252923e-06}. Best is trial 490 with value: 0.8166666666666667.\n",
      "WARNING: Maximum number of iterations 32 reached. The mean may be inaccurate\n"
     ]
    },
    {
     "name": "stdout",
     "output_type": "stream",
     "text": [
      "SVD 수렴 문제 발생: SVD did not converge. 계속 진행합니다.\n"
     ]
    },
    {
     "name": "stderr",
     "output_type": "stream",
     "text": [
      "[I 2024-10-14 14:20:56,943] Trial 641 finished with value: 0.7478532396565183 and parameters: {'lr': 4.815089853890427e-06, 'weight_decay': 6.356810173809248e-06}. Best is trial 490 with value: 0.8166666666666667.\n",
      "WARNING: Maximum number of iterations 32 reached. The mean may be inaccurate\n"
     ]
    },
    {
     "name": "stdout",
     "output_type": "stream",
     "text": [
      "SVD 수렴 문제 발생: SVD did not converge. 계속 진행합니다.\n"
     ]
    },
    {
     "name": "stderr",
     "output_type": "stream",
     "text": [
      "[I 2024-10-14 14:25:32,770] Trial 642 finished with value: 0.6034348165495707 and parameters: {'lr': 2.0675136966300705e-05, 'weight_decay': 3.6337093063610615e-06}. Best is trial 490 with value: 0.8166666666666667.\n",
      "WARNING: Maximum number of iterations 32 reached. The mean may be inaccurate\n"
     ]
    },
    {
     "name": "stdout",
     "output_type": "stream",
     "text": [
      "SVD 수렴 문제 발생: SVD did not converge. 계속 진행합니다.\n"
     ]
    },
    {
     "name": "stderr",
     "output_type": "stream",
     "text": [
      "[I 2024-10-14 14:30:07,666] Trial 643 finished with value: 0.6494925839188134 and parameters: {'lr': 1.6531114962078365e-05, 'weight_decay': 2.0954988266648377e-06}. Best is trial 490 with value: 0.8166666666666667.\n",
      "WARNING: Maximum number of iterations 32 reached. The mean may be inaccurate\n"
     ]
    },
    {
     "name": "stdout",
     "output_type": "stream",
     "text": [
      "SVD 수렴 문제 발생: SVD did not converge. 계속 진행합니다.\n"
     ]
    },
    {
     "name": "stderr",
     "output_type": "stream",
     "text": [
      "[I 2024-10-14 14:34:42,892] Trial 644 finished with value: 0.6943548387096774 and parameters: {'lr': 2.746101214417633e-05, 'weight_decay': 4.431098623997934e-06}. Best is trial 490 with value: 0.8166666666666667.\n",
      "WARNING: Maximum number of iterations 32 reached. The mean may be inaccurate\n"
     ]
    },
    {
     "name": "stdout",
     "output_type": "stream",
     "text": [
      "SVD 수렴 문제 발생: SVD did not converge. 계속 진행합니다.\n"
     ]
    },
    {
     "name": "stderr",
     "output_type": "stream",
     "text": [
      "[I 2024-10-14 14:39:17,044] Trial 645 finished with value: 0.672911787665886 and parameters: {'lr': 1.4573274518410336e-05, 'weight_decay': 1.3773577405428172e-06}. Best is trial 490 with value: 0.8166666666666667.\n",
      "WARNING: Maximum number of iterations 32 reached. The mean may be inaccurate\n",
      "[I 2024-10-14 14:43:53,066] Trial 646 finished with value: 0.5007575757575757 and parameters: {'lr': 2.107497707256571e-06, 'weight_decay': 5.264041056738653e-06}. Best is trial 490 with value: 0.8166666666666667.\n"
     ]
    },
    {
     "name": "stdout",
     "output_type": "stream",
     "text": [
      "SVD 수렴 문제 발생: SVD did not converge. 계속 진행합니다.\n"
     ]
    },
    {
     "name": "stderr",
     "output_type": "stream",
     "text": [
      "WARNING: Maximum number of iterations 32 reached. The mean may be inaccurate\n"
     ]
    },
    {
     "name": "stdout",
     "output_type": "stream",
     "text": [
      "SVD 수렴 문제 발생: SVD did not converge. 계속 진행합니다.\n"
     ]
    },
    {
     "name": "stderr",
     "output_type": "stream",
     "text": [
      "[I 2024-10-14 14:48:26,254] Trial 647 finished with value: 0.5253708040593286 and parameters: {'lr': 1.0684294596532996e-05, 'weight_decay': 2.9413284191325746e-06}. Best is trial 490 with value: 0.8166666666666667.\n",
      "WARNING: Maximum number of iterations 32 reached. The mean may be inaccurate\n"
     ]
    },
    {
     "name": "stdout",
     "output_type": "stream",
     "text": [
      "SVD 수렴 문제 발생: SVD did not converge. 계속 진행합니다.\n"
     ]
    },
    {
     "name": "stderr",
     "output_type": "stream",
     "text": [
      "[I 2024-10-14 14:53:00,798] Trial 648 finished with value: 0.6362847222222222 and parameters: {'lr': 1.0152164388854094e-06, 'weight_decay': 1.8289514180298284e-06}. Best is trial 490 with value: 0.8166666666666667.\n",
      "WARNING: Maximum number of iterations 32 reached. The mean may be inaccurate\n"
     ]
    },
    {
     "name": "stdout",
     "output_type": "stream",
     "text": [
      "SVD 수렴 문제 발생: SVD did not converge. 계속 진행합니다.\n"
     ]
    },
    {
     "name": "stderr",
     "output_type": "stream",
     "text": [
      "[I 2024-10-14 14:57:35,162] Trial 649 finished with value: 0.5441061670569867 and parameters: {'lr': 0.0006004623304278328, 'weight_decay': 4.123874309139547e-06}. Best is trial 490 with value: 0.8166666666666667.\n",
      "WARNING: Maximum number of iterations 32 reached. The mean may be inaccurate\n"
     ]
    },
    {
     "name": "stdout",
     "output_type": "stream",
     "text": [
      "SVD 수렴 문제 발생: SVD did not converge. 계속 진행합니다.\n"
     ]
    },
    {
     "name": "stderr",
     "output_type": "stream",
     "text": [
      "[I 2024-10-14 15:02:09,818] Trial 650 finished with value: 0.6871212121212121 and parameters: {'lr': 2.0669904717003894e-05, 'weight_decay': 2.4242003172304923e-06}. Best is trial 490 with value: 0.8166666666666667.\n",
      "WARNING: Maximum number of iterations 32 reached. The mean may be inaccurate\n"
     ]
    },
    {
     "name": "stdout",
     "output_type": "stream",
     "text": [
      "SVD 수렴 문제 발생: SVD did not converge. 계속 진행합니다.\n"
     ]
    },
    {
     "name": "stderr",
     "output_type": "stream",
     "text": [
      "[I 2024-10-14 15:06:44,777] Trial 651 finished with value: 0.7346774193548387 and parameters: {'lr': 2.4978724259602328e-05, 'weight_decay': 5.4517272749817394e-06}. Best is trial 490 with value: 0.8166666666666667.\n",
      "WARNING: Maximum number of iterations 32 reached. The mean may be inaccurate\n"
     ]
    },
    {
     "name": "stdout",
     "output_type": "stream",
     "text": [
      "SVD 수렴 문제 발생: SVD did not converge. 계속 진행합니다.\n"
     ]
    },
    {
     "name": "stderr",
     "output_type": "stream",
     "text": [
      "[I 2024-10-14 15:11:19,060] Trial 652 finished with value: 0.6619828259172522 and parameters: {'lr': 1.3269247781192212e-06, 'weight_decay': 6.484494797293325e-06}. Best is trial 490 with value: 0.8166666666666667.\n",
      "WARNING: Maximum number of iterations 32 reached. The mean may be inaccurate\n",
      "[I 2024-10-14 15:15:54,911] Trial 653 finished with value: 0.697111631537861 and parameters: {'lr': 1.955758012399557e-05, 'weight_decay': 3.535619777164936e-06}. Best is trial 490 with value: 0.8166666666666667.\n"
     ]
    },
    {
     "name": "stdout",
     "output_type": "stream",
     "text": [
      "SVD 수렴 문제 발생: SVD did not converge. 계속 진행합니다.\n"
     ]
    },
    {
     "name": "stderr",
     "output_type": "stream",
     "text": [
      "WARNING: Maximum number of iterations 32 reached. The mean may be inaccurate\n"
     ]
    },
    {
     "name": "stdout",
     "output_type": "stream",
     "text": [
      "SVD 수렴 문제 발생: SVD did not converge. 계속 진행합니다.\n"
     ]
    },
    {
     "name": "stderr",
     "output_type": "stream",
     "text": [
      "[I 2024-10-14 15:20:28,823] Trial 654 finished with value: 0.66553480475382 and parameters: {'lr': 1.556545135883712e-05, 'weight_decay': 1.3717848018054137e-06}. Best is trial 490 with value: 0.8166666666666667.\n",
      "WARNING: Maximum number of iterations 32 reached. The mean may be inaccurate\n"
     ]
    },
    {
     "name": "stdout",
     "output_type": "stream",
     "text": [
      "SVD 수렴 문제 발생: SVD did not converge. 계속 진행합니다.\n"
     ]
    },
    {
     "name": "stderr",
     "output_type": "stream",
     "text": [
      "[I 2024-10-14 15:25:04,514] Trial 655 finished with value: 0.610939907550077 and parameters: {'lr': 3.0330332909067442e-05, 'weight_decay': 7.457714270850677e-06}. Best is trial 490 with value: 0.8166666666666667.\n",
      "WARNING: Maximum number of iterations 32 reached. The mean may be inaccurate\n"
     ]
    },
    {
     "name": "stdout",
     "output_type": "stream",
     "text": [
      "SVD 수렴 문제 발생: SVD did not converge. 계속 진행합니다.\n"
     ]
    },
    {
     "name": "stderr",
     "output_type": "stream",
     "text": [
      "[I 2024-10-14 15:29:39,882] Trial 656 finished with value: 0.6466165413533834 and parameters: {'lr': 6.780905461881251e-06, 'weight_decay': 4.699944051938611e-06}. Best is trial 490 with value: 0.8166666666666667.\n",
      "WARNING: Maximum number of iterations 32 reached. The mean may be inaccurate\n"
     ]
    },
    {
     "name": "stdout",
     "output_type": "stream",
     "text": [
      "SVD 수렴 문제 발생: SVD did not converge. 계속 진행합니다.\n"
     ]
    },
    {
     "name": "stderr",
     "output_type": "stream",
     "text": [
      "[I 2024-10-14 15:34:15,998] Trial 657 finished with value: 0.7137096774193548 and parameters: {'lr': 1.2540738557897418e-05, 'weight_decay': 3.0368039927294736e-06}. Best is trial 490 with value: 0.8166666666666667.\n",
      "WARNING: Maximum number of iterations 32 reached. The mean may be inaccurate\n"
     ]
    },
    {
     "name": "stdout",
     "output_type": "stream",
     "text": [
      "SVD 수렴 문제 발생: SVD did not converge. 계속 진행합니다.\n"
     ]
    },
    {
     "name": "stderr",
     "output_type": "stream",
     "text": [
      "[I 2024-10-14 15:38:51,256] Trial 658 finished with value: 0.7595628415300546 and parameters: {'lr': 2.222631716779401e-05, 'weight_decay': 3.92528543947862e-06}. Best is trial 490 with value: 0.8166666666666667.\n",
      "WARNING: Maximum number of iterations 32 reached. The mean may be inaccurate\n"
     ]
    },
    {
     "name": "stdout",
     "output_type": "stream",
     "text": [
      "SVD 수렴 문제 발생: SVD did not converge. 계속 진행합니다.\n"
     ]
    },
    {
     "name": "stderr",
     "output_type": "stream",
     "text": [
      "[I 2024-10-14 15:43:27,791] Trial 659 finished with value: 0.6992424242424242 and parameters: {'lr': 2.0888919004335495e-05, 'weight_decay': 3.6775253291705435e-06}. Best is trial 490 with value: 0.8166666666666667.\n",
      "WARNING: Maximum number of iterations 32 reached. The mean may be inaccurate\n"
     ]
    },
    {
     "name": "stdout",
     "output_type": "stream",
     "text": [
      "SVD 수렴 문제 발생: SVD did not converge. 계속 진행합니다.\n"
     ]
    },
    {
     "name": "stderr",
     "output_type": "stream",
     "text": [
      "[I 2024-10-14 15:47:59,462] Trial 660 finished with value: 0.5964285714285714 and parameters: {'lr': 0.00662634808316423, 'weight_decay': 4.151788402135486e-06}. Best is trial 490 with value: 0.8166666666666667.\n",
      "[I 2024-10-14 15:52:34,995] Trial 661 finished with value: 0.5956284153005464 and parameters: {'lr': 2.3702730745805596e-05, 'weight_decay': 2.8020424283490582e-06}. Best is trial 490 with value: 0.8166666666666667.\n",
      "WARNING: Maximum number of iterations 32 reached. The mean may be inaccurate\n"
     ]
    },
    {
     "name": "stdout",
     "output_type": "stream",
     "text": [
      "SVD 수렴 문제 발생: SVD did not converge. 계속 진행합니다.\n"
     ]
    },
    {
     "name": "stderr",
     "output_type": "stream",
     "text": [
      "[I 2024-10-14 15:57:10,694] Trial 662 finished with value: 0.652615144418423 and parameters: {'lr': 2.758353369960601e-05, 'weight_decay': 4.8023082065144405e-06}. Best is trial 490 with value: 0.8166666666666667.\n",
      "WARNING: Maximum number of iterations 32 reached. The mean may be inaccurate\n"
     ]
    },
    {
     "name": "stdout",
     "output_type": "stream",
     "text": [
      "SVD 수렴 문제 발생: SVD did not converge. 계속 진행합니다.\n"
     ]
    },
    {
     "name": "stderr",
     "output_type": "stream",
     "text": [
      "[I 2024-10-14 16:01:47,181] Trial 663 finished with value: 0.7159090909090908 and parameters: {'lr': 1.7830036648868914e-05, 'weight_decay': 3.3195564129029983e-06}. Best is trial 490 with value: 0.8166666666666667.\n",
      "WARNING: Maximum number of iterations 32 reached. The mean may be inaccurate\n"
     ]
    },
    {
     "name": "stdout",
     "output_type": "stream",
     "text": [
      "SVD 수렴 문제 발생: SVD did not converge. 계속 진행합니다.\n"
     ]
    },
    {
     "name": "stderr",
     "output_type": "stream",
     "text": [
      "[I 2024-10-14 16:06:24,008] Trial 664 finished with value: 0.6252927400468383 and parameters: {'lr': 2.2520451705058077e-05, 'weight_decay': 1.0062879897189181e-06}. Best is trial 490 with value: 0.8166666666666667.\n",
      "WARNING: Maximum number of iterations 32 reached. The mean may be inaccurate\n"
     ]
    },
    {
     "name": "stdout",
     "output_type": "stream",
     "text": [
      "SVD 수렴 문제 발생: SVD did not converge. 계속 진행합니다.\n"
     ]
    },
    {
     "name": "stderr",
     "output_type": "stream",
     "text": [
      "[I 2024-10-14 16:11:01,822] Trial 665 finished with value: 0.6315378610460578 and parameters: {'lr': 3.133152901335284e-05, 'weight_decay': 5.717540451127375e-06}. Best is trial 490 with value: 0.8166666666666667.\n",
      "WARNING: Maximum number of iterations 32 reached. The mean may be inaccurate\n",
      "[I 2024-10-14 16:15:39,723] Trial 666 finished with value: 0.663544106167057 and parameters: {'lr': 1.6610762094380717e-05, 'weight_decay': 0.0002728988424846605}. Best is trial 490 with value: 0.8166666666666667.\n"
     ]
    },
    {
     "name": "stdout",
     "output_type": "stream",
     "text": [
      "SVD 수렴 문제 발생: SVD did not converge. 계속 진행합니다.\n"
     ]
    },
    {
     "name": "stderr",
     "output_type": "stream",
     "text": [
      "WARNING: Maximum number of iterations 32 reached. The mean may be inaccurate\n"
     ]
    },
    {
     "name": "stdout",
     "output_type": "stream",
     "text": [
      "SVD 수렴 문제 발생: SVD did not converge. 계속 진행합니다.\n"
     ]
    },
    {
     "name": "stderr",
     "output_type": "stream",
     "text": [
      "[I 2024-10-14 16:20:14,797] Trial 667 finished with value: 0.6696969696969697 and parameters: {'lr': 1.4329399089469482e-05, 'weight_decay': 4.112940979589957e-06}. Best is trial 490 with value: 0.8166666666666667.\n",
      "WARNING: Maximum number of iterations 32 reached. The mean may be inaccurate\n"
     ]
    },
    {
     "name": "stdout",
     "output_type": "stream",
     "text": [
      "SVD 수렴 문제 발생: SVD did not converge. 계속 진행합니다.\n"
     ]
    },
    {
     "name": "stderr",
     "output_type": "stream",
     "text": [
      "[I 2024-10-14 16:24:52,067] Trial 668 finished with value: 0.6588541666666666 and parameters: {'lr': 1.9440408925792937e-05, 'weight_decay': 2.1523298532049954e-06}. Best is trial 490 with value: 0.8166666666666667.\n",
      "WARNING: Maximum number of iterations 32 reached. The mean may be inaccurate\n"
     ]
    },
    {
     "name": "stdout",
     "output_type": "stream",
     "text": [
      "SVD 수렴 문제 발생: SVD did not converge. 계속 진행합니다.\n"
     ]
    },
    {
     "name": "stderr",
     "output_type": "stream",
     "text": [
      "[I 2024-10-14 16:29:28,264] Trial 669 finished with value: 0.6407685881370092 and parameters: {'lr': 2.3366138775567585e-05, 'weight_decay': 2.651457484567114e-06}. Best is trial 490 with value: 0.8166666666666667.\n",
      "WARNING: Maximum number of iterations 32 reached. The mean may be inaccurate\n"
     ]
    },
    {
     "name": "stdout",
     "output_type": "stream",
     "text": [
      "SVD 수렴 문제 발생: SVD did not converge. 계속 진행합니다.\n"
     ]
    },
    {
     "name": "stderr",
     "output_type": "stream",
     "text": [
      "[I 2024-10-14 16:34:05,805] Trial 670 finished with value: 0.6024305555555555 and parameters: {'lr': 2.6863086520332684e-05, 'weight_decay': 3.4695658879004827e-06}. Best is trial 490 with value: 0.8166666666666667.\n",
      "WARNING: Maximum number of iterations 32 reached. The mean may be inaccurate\n"
     ]
    },
    {
     "name": "stdout",
     "output_type": "stream",
     "text": [
      "SVD 수렴 문제 발생: SVD did not converge. 계속 진행합니다.\n"
     ]
    },
    {
     "name": "stderr",
     "output_type": "stream",
     "text": [
      "[I 2024-10-14 16:38:43,349] Trial 671 finished with value: 0.669008587041374 and parameters: {'lr': 3.381147220303623e-05, 'weight_decay': 5.034748597303147e-06}. Best is trial 490 with value: 0.8166666666666667.\n",
      "WARNING: Maximum number of iterations 32 reached. The mean may be inaccurate\n"
     ]
    },
    {
     "name": "stdout",
     "output_type": "stream",
     "text": [
      "SVD 수렴 문제 발생: SVD did not converge. 계속 진행합니다.\n"
     ]
    },
    {
     "name": "stderr",
     "output_type": "stream",
     "text": [
      "[I 2024-10-14 16:43:19,535] Trial 672 finished with value: 0.6354410616705699 and parameters: {'lr': 3.925785674979801e-05, 'weight_decay': 1.6667199567110933e-06}. Best is trial 490 with value: 0.8166666666666667.\n",
      "WARNING: Maximum number of iterations 32 reached. The mean may be inaccurate\n"
     ]
    },
    {
     "name": "stdout",
     "output_type": "stream",
     "text": [
      "SVD 수렴 문제 발생: SVD did not converge. 계속 진행합니다.\n"
     ]
    },
    {
     "name": "stderr",
     "output_type": "stream",
     "text": [
      "[I 2024-10-14 16:47:55,974] Trial 673 finished with value: 0.6616541353383458 and parameters: {'lr': 9.688001460499029e-06, 'weight_decay': 6.440592985141599e-06}. Best is trial 490 with value: 0.8166666666666667.\n",
      "WARNING: Maximum number of iterations 32 reached. The mean may be inaccurate\n"
     ]
    },
    {
     "name": "stdout",
     "output_type": "stream",
     "text": [
      "SVD 수렴 문제 발생: SVD did not converge. 계속 진행합니다.\n"
     ]
    },
    {
     "name": "stderr",
     "output_type": "stream",
     "text": [
      "[I 2024-10-14 16:52:31,920] Trial 674 finished with value: 0.7024193548387097 and parameters: {'lr': 1.6988797672937926e-05, 'weight_decay': 4.059179714094047e-06}. Best is trial 490 with value: 0.8166666666666667.\n",
      "WARNING: Maximum number of iterations 32 reached. The mean may be inaccurate\n"
     ]
    },
    {
     "name": "stdout",
     "output_type": "stream",
     "text": [
      "SVD 수렴 문제 발생: SVD did not converge. 계속 진행합니다.\n"
     ]
    },
    {
     "name": "stderr",
     "output_type": "stream",
     "text": [
      "[I 2024-10-14 16:57:09,154] Trial 675 finished with value: 0.6262295081967213 and parameters: {'lr': 5.578634629935264e-06, 'weight_decay': 4.725136003084022e-06}. Best is trial 490 with value: 0.8166666666666667.\n",
      "WARNING: Maximum number of iterations 32 reached. The mean may be inaccurate\n"
     ]
    },
    {
     "name": "stdout",
     "output_type": "stream",
     "text": [
      "SVD 수렴 문제 발생: SVD did not converge. 계속 진행합니다.\n"
     ]
    },
    {
     "name": "stderr",
     "output_type": "stream",
     "text": [
      "[I 2024-10-14 17:01:46,329] Trial 676 finished with value: 0.6781305114638447 and parameters: {'lr': 1.1944113645591394e-05, 'weight_decay': 2.879761825207851e-06}. Best is trial 490 with value: 0.8166666666666667.\n",
      "WARNING: Maximum number of iterations 32 reached. The mean may be inaccurate\n"
     ]
    },
    {
     "name": "stdout",
     "output_type": "stream",
     "text": [
      "SVD 수렴 문제 발생: SVD did not converge. 계속 진행합니다.\n"
     ]
    },
    {
     "name": "stderr",
     "output_type": "stream",
     "text": [
      "[I 2024-10-14 17:06:23,052] Trial 677 finished with value: 0.707442888725129 and parameters: {'lr': 1.953256845810176e-05, 'weight_decay': 9.318444279228242e-06}. Best is trial 490 with value: 0.8166666666666667.\n",
      "WARNING: Maximum number of iterations 32 reached. The mean may be inaccurate\n"
     ]
    },
    {
     "name": "stdout",
     "output_type": "stream",
     "text": [
      "SVD 수렴 문제 발생: SVD did not converge. 계속 진행합니다.\n"
     ]
    },
    {
     "name": "stderr",
     "output_type": "stream",
     "text": [
      "[I 2024-10-14 17:10:59,105] Trial 678 finished with value: 0.7088212334113974 and parameters: {'lr': 2.5823683217376266e-05, 'weight_decay': 5.946350400157289e-06}. Best is trial 490 with value: 0.8166666666666667.\n",
      "WARNING: Maximum number of iterations 32 reached. The mean may be inaccurate\n"
     ]
    },
    {
     "name": "stdout",
     "output_type": "stream",
     "text": [
      "SVD 수렴 문제 발생: SVD did not converge. 계속 진행합니다.\n"
     ]
    },
    {
     "name": "stderr",
     "output_type": "stream",
     "text": [
      "[I 2024-10-14 17:15:35,944] Trial 679 finished with value: 0.7037582903463523 and parameters: {'lr': 1.3588558691580954e-05, 'weight_decay': 2.323258134226765e-06}. Best is trial 490 with value: 0.8166666666666667.\n",
      "WARNING: Maximum number of iterations 32 reached. The mean may be inaccurate\n"
     ]
    },
    {
     "name": "stdout",
     "output_type": "stream",
     "text": [
      "SVD 수렴 문제 발생: SVD did not converge. 계속 진행합니다.\n"
     ]
    },
    {
     "name": "stderr",
     "output_type": "stream",
     "text": [
      "[I 2024-10-14 17:20:12,303] Trial 680 finished with value: 0.7127244340359095 and parameters: {'lr': 3.671677913882317e-05, 'weight_decay': 3.680409193411763e-06}. Best is trial 490 with value: 0.8166666666666667.\n",
      "WARNING: Maximum number of iterations 32 reached. The mean may be inaccurate\n"
     ]
    },
    {
     "name": "stdout",
     "output_type": "stream",
     "text": [
      "SVD 수렴 문제 발생: SVD did not converge. 계속 진행합니다.\n"
     ]
    },
    {
     "name": "stderr",
     "output_type": "stream",
     "text": [
      "WARNING: Maximum number of iterations 32 reached. The mean may be inaccurate\n",
      "[I 2024-10-14 17:29:25,846] Trial 682 finished with value: 0.6483870967741936 and parameters: {'lr': 2.9806293204015414e-05, 'weight_decay': 4.440380703370297e-06}. Best is trial 490 with value: 0.8166666666666667.\n"
     ]
    },
    {
     "name": "stdout",
     "output_type": "stream",
     "text": [
      "SVD 수렴 문제 발생: SVD did not converge. 계속 진행합니다.\n"
     ]
    },
    {
     "name": "stderr",
     "output_type": "stream",
     "text": [
      "WARNING: Maximum number of iterations 32 reached. The mean may be inaccurate\n"
     ]
    },
    {
     "name": "stdout",
     "output_type": "stream",
     "text": [
      "SVD 수렴 문제 발생: SVD did not converge. 계속 진행합니다.\n"
     ]
    },
    {
     "name": "stderr",
     "output_type": "stream",
     "text": [
      "[I 2024-10-14 17:34:01,157] Trial 683 finished with value: 0.6401515151515151 and parameters: {'lr': 1.5557425323435675e-05, 'weight_decay': 1.8182879752125838e-06}. Best is trial 490 with value: 0.8166666666666667.\n",
      "WARNING: Maximum number of iterations 32 reached. The mean may be inaccurate\n"
     ]
    },
    {
     "name": "stdout",
     "output_type": "stream",
     "text": [
      "SVD 수렴 문제 발생: SVD did not converge. 계속 진행합니다.\n"
     ]
    },
    {
     "name": "stderr",
     "output_type": "stream",
     "text": [
      "[I 2024-10-14 17:38:38,171] Trial 684 finished with value: 0.7002341920374707 and parameters: {'lr': 7.135741171423028e-06, 'weight_decay': 1.2169221432151065e-06}. Best is trial 490 with value: 0.8166666666666667.\n",
      "WARNING: Maximum number of iterations 32 reached. The mean may be inaccurate\n"
     ]
    },
    {
     "name": "stdout",
     "output_type": "stream",
     "text": [
      "SVD 수렴 문제 발생: SVD did not converge. 계속 진행합니다.\n"
     ]
    },
    {
     "name": "stderr",
     "output_type": "stream",
     "text": [
      "[I 2024-10-14 17:43:14,872] Trial 685 finished with value: 0.7228727556596408 and parameters: {'lr': 3.986886098487493e-06, 'weight_decay': 3.1228994383580972e-06}. Best is trial 490 with value: 0.8166666666666667.\n",
      "WARNING: Maximum number of iterations 32 reached. The mean may be inaccurate\n"
     ]
    },
    {
     "name": "stdout",
     "output_type": "stream",
     "text": [
      "SVD 수렴 문제 발생: SVD did not converge. 계속 진행합니다.\n"
     ]
    },
    {
     "name": "stderr",
     "output_type": "stream",
     "text": [
      "[I 2024-10-14 17:47:52,097] Trial 686 finished with value: 0.6651053864168619 and parameters: {'lr': 8.78520412481807e-06, 'weight_decay': 5.46309032248871e-06}. Best is trial 490 with value: 0.8166666666666667.\n",
      "WARNING: Maximum number of iterations 32 reached. The mean may be inaccurate\n"
     ]
    },
    {
     "name": "stdout",
     "output_type": "stream",
     "text": [
      "SVD 수렴 문제 발생: SVD did not converge. 계속 진행합니다.\n"
     ]
    },
    {
     "name": "stderr",
     "output_type": "stream",
     "text": [
      "[I 2024-10-14 17:52:29,811] Trial 687 finished with value: 0.6532258064516129 and parameters: {'lr': 1.9073930111050948e-05, 'weight_decay': 3.8924544756813556e-06}. Best is trial 490 with value: 0.8166666666666667.\n",
      "WARNING: Maximum number of iterations 32 reached. The mean may be inaccurate\n"
     ]
    },
    {
     "name": "stdout",
     "output_type": "stream",
     "text": [
      "SVD 수렴 문제 발생: SVD did not converge. 계속 진행합니다.\n"
     ]
    },
    {
     "name": "stderr",
     "output_type": "stream",
     "text": [
      "[I 2024-10-14 17:57:02,809] Trial 688 finished with value: 0.5581576893052302 and parameters: {'lr': 0.00268536611589214, 'weight_decay': 6.981289041265752e-06}. Best is trial 490 with value: 0.8166666666666667.\n",
      "WARNING: Maximum number of iterations 32 reached. The mean may be inaccurate\n"
     ]
    },
    {
     "name": "stdout",
     "output_type": "stream",
     "text": [
      "SVD 수렴 문제 발생: SVD did not converge. 계속 진행합니다.\n"
     ]
    },
    {
     "name": "stderr",
     "output_type": "stream",
     "text": [
      "[I 2024-10-14 18:01:39,084] Trial 689 finished with value: 0.6128024980483997 and parameters: {'lr': 4.440452568844864e-05, 'weight_decay': 1.4674855023880223e-06}. Best is trial 490 with value: 0.8166666666666667.\n",
      "WARNING: Maximum number of iterations 32 reached. The mean may be inaccurate\n",
      "[I 2024-10-14 18:06:17,263] Trial 690 finished with value: 0.6129032258064516 and parameters: {'lr': 2.491507374197728e-05, 'weight_decay': 5.336206701932387e-06}. Best is trial 490 with value: 0.8166666666666667.\n"
     ]
    },
    {
     "name": "stdout",
     "output_type": "stream",
     "text": [
      "SVD 수렴 문제 발생: SVD did not converge. 계속 진행합니다.\n"
     ]
    },
    {
     "name": "stderr",
     "output_type": "stream",
     "text": [
      "WARNING: Maximum number of iterations 32 reached. The mean may be inaccurate\n"
     ]
    },
    {
     "name": "stdout",
     "output_type": "stream",
     "text": [
      "SVD 수렴 문제 발생: SVD did not converge. 계속 진행합니다.\n"
     ]
    },
    {
     "name": "stderr",
     "output_type": "stream",
     "text": [
      "[I 2024-10-14 18:10:48,888] Trial 691 finished with value: 0.7492424242424244 and parameters: {'lr': 3.340243033680209e-05, 'weight_decay': 2.5499203174395345e-06}. Best is trial 490 with value: 0.8166666666666667.\n",
      "WARNING: Maximum number of iterations 32 reached. The mean may be inaccurate\n"
     ]
    },
    {
     "name": "stdout",
     "output_type": "stream",
     "text": [
      "SVD 수렴 문제 발생: SVD did not converge. 계속 진행합니다.\n"
     ]
    },
    {
     "name": "stderr",
     "output_type": "stream",
     "text": [
      "[I 2024-10-14 18:15:20,307] Trial 692 finished with value: 0.6651053864168619 and parameters: {'lr': 1.5684341476269774e-05, 'weight_decay': 3.4712467209470726e-06}. Best is trial 490 with value: 0.8166666666666667.\n",
      "WARNING: Maximum number of iterations 32 reached. The mean may be inaccurate\n"
     ]
    },
    {
     "name": "stdout",
     "output_type": "stream",
     "text": [
      "SVD 수렴 문제 발생: SVD did not converge. 계속 진행합니다.\n"
     ]
    },
    {
     "name": "stderr",
     "output_type": "stream",
     "text": [
      "[I 2024-10-14 18:19:50,514] Trial 693 finished with value: 0.6385245901639344 and parameters: {'lr': 1.2176145305068464e-05, 'weight_decay': 4.52234463326209e-06}. Best is trial 490 with value: 0.8166666666666667.\n",
      "WARNING: Maximum number of iterations 32 reached. The mean may be inaccurate\n"
     ]
    },
    {
     "name": "stdout",
     "output_type": "stream",
     "text": [
      "SVD 수렴 문제 발생: SVD did not converge. 계속 진행합니다.\n"
     ]
    },
    {
     "name": "stderr",
     "output_type": "stream",
     "text": [
      "[I 2024-10-14 18:24:22,714] Trial 694 finished with value: 0.6287878787878788 and parameters: {'lr': 6.134004265644988e-05, 'weight_decay': 2.1105503699737457e-06}. Best is trial 490 with value: 0.8166666666666667.\n",
      "WARNING: Maximum number of iterations 32 reached. The mean may be inaccurate\n"
     ]
    },
    {
     "name": "stdout",
     "output_type": "stream",
     "text": [
      "SVD 수렴 문제 발생: SVD did not converge. 계속 진행합니다.\n"
     ]
    },
    {
     "name": "stderr",
     "output_type": "stream",
     "text": [
      "[I 2024-10-14 18:28:56,280] Trial 695 finished with value: 0.7509211495946941 and parameters: {'lr': 2.2104361687287075e-05, 'weight_decay': 5.9951604324603915e-06}. Best is trial 490 with value: 0.8166666666666667.\n",
      "WARNING: Maximum number of iterations 32 reached. The mean may be inaccurate\n"
     ]
    },
    {
     "name": "stdout",
     "output_type": "stream",
     "text": [
      "SVD 수렴 문제 발생: SVD did not converge. 계속 진행합니다.\n"
     ]
    },
    {
     "name": "stderr",
     "output_type": "stream",
     "text": [
      "[I 2024-10-14 18:33:30,170] Trial 696 finished with value: 0.575 and parameters: {'lr': 0.00104839939418103, 'weight_decay': 4.0752903729489835e-06}. Best is trial 490 with value: 0.8166666666666667.\n",
      "WARNING: Maximum number of iterations 32 reached. The mean may be inaccurate\n"
     ]
    },
    {
     "name": "stdout",
     "output_type": "stream",
     "text": [
      "SVD 수렴 문제 발생: SVD did not converge. 계속 진행합니다.\n"
     ]
    },
    {
     "name": "stderr",
     "output_type": "stream",
     "text": [
      "[I 2024-10-14 18:38:02,362] Trial 697 finished with value: 0.525062656641604 and parameters: {'lr': 0.003991661636248455, 'weight_decay': 8.99176793324476e-06}. Best is trial 490 with value: 0.8166666666666667.\n",
      "WARNING: Maximum number of iterations 32 reached. The mean may be inaccurate\n"
     ]
    },
    {
     "name": "stdout",
     "output_type": "stream",
     "text": [
      "SVD 수렴 문제 발생: SVD did not converge. 계속 진행합니다.\n"
     ]
    },
    {
     "name": "stderr",
     "output_type": "stream",
     "text": [
      "[I 2024-10-14 18:42:39,468] Trial 698 finished with value: 0.6182756079587325 and parameters: {'lr': 2.8099319794843655e-05, 'weight_decay': 3.2568409360243413e-06}. Best is trial 490 with value: 0.8166666666666667.\n",
      "WARNING: Maximum number of iterations 32 reached. The mean may be inaccurate\n",
      "[I 2024-10-14 18:47:17,493] Trial 699 finished with value: 0.6757553426676491 and parameters: {'lr': 1.7740034495515676e-05, 'weight_decay': 6.183871991143457e-05}. Best is trial 490 with value: 0.8166666666666667.\n"
     ]
    },
    {
     "name": "stdout",
     "output_type": "stream",
     "text": [
      "SVD 수렴 문제 발생: SVD did not converge. 계속 진행합니다.\n"
     ]
    },
    {
     "name": "stderr",
     "output_type": "stream",
     "text": [
      "WARNING: Maximum number of iterations 32 reached. The mean may be inaccurate\n"
     ]
    },
    {
     "name": "stdout",
     "output_type": "stream",
     "text": [
      "SVD 수렴 문제 발생: SVD did not converge. 계속 진행합니다.\n"
     ]
    },
    {
     "name": "stderr",
     "output_type": "stream",
     "text": [
      "[I 2024-10-14 18:51:54,427] Trial 700 finished with value: 0.5887988209285188 and parameters: {'lr': 1.446128417624383e-05, 'weight_decay': 1.6491006337211487e-06}. Best is trial 490 with value: 0.8166666666666667.\n",
      "WARNING: Maximum number of iterations 32 reached. The mean may be inaccurate\n"
     ]
    },
    {
     "name": "stdout",
     "output_type": "stream",
     "text": [
      "SVD 수렴 문제 발생: SVD did not converge. 계속 진행합니다.\n"
     ]
    },
    {
     "name": "stderr",
     "output_type": "stream",
     "text": [
      "[I 2024-10-14 18:56:31,579] Trial 701 finished with value: 0.6241709653647751 and parameters: {'lr': 1.0135831534444932e-05, 'weight_decay': 4.670119271287696e-06}. Best is trial 490 with value: 0.8166666666666667.\n",
      "WARNING: Maximum number of iterations 32 reached. The mean may be inaccurate\n",
      "[I 2024-10-14 19:01:09,470] Trial 702 finished with value: 0.6674242424242425 and parameters: {'lr': 3.1510225443987103e-06, 'weight_decay': 1.2810960808484838e-06}. Best is trial 490 with value: 0.8166666666666667.\n"
     ]
    },
    {
     "name": "stdout",
     "output_type": "stream",
     "text": [
      "SVD 수렴 문제 발생: SVD did not converge. 계속 진행합니다.\n"
     ]
    },
    {
     "name": "stderr",
     "output_type": "stream",
     "text": [
      "WARNING: Maximum number of iterations 32 reached. The mean may be inaccurate\n"
     ]
    },
    {
     "name": "stdout",
     "output_type": "stream",
     "text": [
      "SVD 수렴 문제 발생: SVD did not converge. 계속 진행합니다.\n"
     ]
    },
    {
     "name": "stderr",
     "output_type": "stream",
     "text": [
      "[I 2024-10-14 19:05:46,172] Trial 703 finished with value: 0.5973266499582289 and parameters: {'lr': 4.888332958711729e-05, 'weight_decay': 7.298666355279487e-06}. Best is trial 490 with value: 0.8166666666666667.\n",
      "WARNING: Maximum number of iterations 32 reached. The mean may be inaccurate\n"
     ]
    },
    {
     "name": "stdout",
     "output_type": "stream",
     "text": [
      "SVD 수렴 문제 발생: SVD did not converge. 계속 진행합니다.\n"
     ]
    },
    {
     "name": "stderr",
     "output_type": "stream",
     "text": [
      "[I 2024-10-14 19:10:23,416] Trial 704 finished with value: 0.6155737704918033 and parameters: {'lr': 3.869056648429013e-05, 'weight_decay': 5.456134954770575e-06}. Best is trial 490 with value: 0.8166666666666667.\n",
      "WARNING: Maximum number of iterations 32 reached. The mean may be inaccurate\n"
     ]
    },
    {
     "name": "stdout",
     "output_type": "stream",
     "text": [
      "SVD 수렴 문제 발생: SVD did not converge. 계속 진행합니다.\n"
     ]
    },
    {
     "name": "stderr",
     "output_type": "stream",
     "text": [
      "[I 2024-10-14 19:14:59,944] Trial 705 finished with value: 0.5604996096799375 and parameters: {'lr': 2.1114002218369648e-05, 'weight_decay': 3.2082444798556055e-06}. Best is trial 490 with value: 0.8166666666666667.\n",
      "WARNING: Maximum number of iterations 32 reached. The mean may be inaccurate\n"
     ]
    },
    {
     "name": "stdout",
     "output_type": "stream",
     "text": [
      "SVD 수렴 문제 발생: SVD did not converge. 계속 진행합니다.\n"
     ]
    },
    {
     "name": "stderr",
     "output_type": "stream",
     "text": [
      "[I 2024-10-14 19:19:35,216] Trial 706 finished with value: 0.6790322580645161 and parameters: {'lr': 4.997180410098276e-06, 'weight_decay': 2.481300734358446e-06}. Best is trial 490 with value: 0.8166666666666667.\n",
      "WARNING: Maximum number of iterations 32 reached. The mean may be inaccurate\n"
     ]
    },
    {
     "name": "stdout",
     "output_type": "stream",
     "text": [
      "SVD 수렴 문제 발생: SVD did not converge. 계속 진행합니다.\n"
     ]
    },
    {
     "name": "stderr",
     "output_type": "stream",
     "text": [
      "[I 2024-10-14 19:24:11,156] Trial 707 finished with value: 0.6492424242424243 and parameters: {'lr': 2.990247170867203e-05, 'weight_decay': 7.032229144495237e-05}. Best is trial 490 with value: 0.8166666666666667.\n",
      "WARNING: Maximum number of iterations 32 reached. The mean may be inaccurate\n"
     ]
    },
    {
     "name": "stdout",
     "output_type": "stream",
     "text": [
      "SVD 수렴 문제 발생: SVD did not converge. 계속 진행합니다.\n"
     ]
    },
    {
     "name": "stderr",
     "output_type": "stream",
     "text": [
      "[I 2024-10-14 19:28:46,184] Trial 708 finished with value: 0.667447306791569 and parameters: {'lr': 2.5203332631318088e-05, 'weight_decay': 4.3058959809524165e-06}. Best is trial 490 with value: 0.8166666666666667.\n",
      "WARNING: Maximum number of iterations 32 reached. The mean may be inaccurate\n"
     ]
    },
    {
     "name": "stdout",
     "output_type": "stream",
     "text": [
      "SVD 수렴 문제 발생: SVD did not converge. 계속 진행합니다.\n"
     ]
    },
    {
     "name": "stderr",
     "output_type": "stream",
     "text": [
      "[I 2024-10-14 19:33:20,948] Trial 709 finished with value: 0.5951612903225807 and parameters: {'lr': 1.8429669621943333e-05, 'weight_decay': 6.077013412770469e-06}. Best is trial 490 with value: 0.8166666666666667.\n",
      "WARNING: Maximum number of iterations 32 reached. The mean may be inaccurate\n"
     ]
    },
    {
     "name": "stdout",
     "output_type": "stream",
     "text": [
      "SVD 수렴 문제 발생: SVD did not converge. 계속 진행합니다.\n"
     ]
    },
    {
     "name": "stderr",
     "output_type": "stream",
     "text": [
      "[I 2024-10-14 19:37:55,113] Trial 710 finished with value: 0.5636363636363636 and parameters: {'lr': 1.149141948268263e-05, 'weight_decay': 1.941203667191806e-06}. Best is trial 490 with value: 0.8166666666666667.\n",
      "WARNING: Maximum number of iterations 32 reached. The mean may be inaccurate\n"
     ]
    },
    {
     "name": "stdout",
     "output_type": "stream",
     "text": [
      "SVD 수렴 문제 발생: SVD did not converge. 계속 진행합니다.\n"
     ]
    },
    {
     "name": "stderr",
     "output_type": "stream",
     "text": [
      "[I 2024-10-14 19:42:29,107] Trial 711 finished with value: 0.6401249024199843 and parameters: {'lr': 8.054813886854861e-06, 'weight_decay': 3.6872158160233974e-06}. Best is trial 490 with value: 0.8166666666666667.\n",
      "WARNING: Maximum number of iterations 32 reached. The mean may be inaccurate\n"
     ]
    },
    {
     "name": "stdout",
     "output_type": "stream",
     "text": [
      "SVD 수렴 문제 발생: SVD did not converge. 계속 진행합니다.\n"
     ]
    },
    {
     "name": "stderr",
     "output_type": "stream",
     "text": [
      "[I 2024-10-14 19:47:03,544] Trial 712 finished with value: 0.6533957845433255 and parameters: {'lr': 3.8058133970373376e-05, 'weight_decay': 2.80356345149024e-06}. Best is trial 490 with value: 0.8166666666666667.\n",
      "WARNING: Maximum number of iterations 32 reached. The mean may be inaccurate\n"
     ]
    },
    {
     "name": "stdout",
     "output_type": "stream",
     "text": [
      "SVD 수렴 문제 발생: SVD did not converge. 계속 진행합니다.\n"
     ]
    },
    {
     "name": "stderr",
     "output_type": "stream",
     "text": [
      "[I 2024-10-14 19:51:37,974] Trial 713 finished with value: 0.6379310344827587 and parameters: {'lr': 1.3820183343229277e-05, 'weight_decay': 1.0901213687800326e-06}. Best is trial 490 with value: 0.8166666666666667.\n",
      "WARNING: Maximum number of iterations 32 reached. The mean may be inaccurate\n"
     ]
    },
    {
     "name": "stdout",
     "output_type": "stream",
     "text": [
      "SVD 수렴 문제 발생: SVD did not converge. 계속 진행합니다.\n"
     ]
    },
    {
     "name": "stderr",
     "output_type": "stream",
     "text": [
      "[I 2024-10-14 19:56:13,488] Trial 714 finished with value: 0.5823575331772053 and parameters: {'lr': 5.380206863969935e-05, 'weight_decay': 5.024704999217731e-06}. Best is trial 490 with value: 0.8166666666666667.\n",
      "WARNING: Maximum number of iterations 32 reached. The mean may be inaccurate\n"
     ]
    },
    {
     "name": "stdout",
     "output_type": "stream",
     "text": [
      "SVD 수렴 문제 발생: SVD did not converge. 계속 진행합니다.\n"
     ]
    },
    {
     "name": "stderr",
     "output_type": "stream",
     "text": [
      "[I 2024-10-14 20:00:47,520] Trial 715 finished with value: 0.628688524590164 and parameters: {'lr': 7.401875546145248e-05, 'weight_decay': 4.0234961554929836e-06}. Best is trial 490 with value: 0.8166666666666667.\n",
      "WARNING: Maximum number of iterations 32 reached. The mean may be inaccurate\n"
     ]
    },
    {
     "name": "stdout",
     "output_type": "stream",
     "text": [
      "SVD 수렴 문제 발생: SVD did not converge. 계속 진행합니다.\n"
     ]
    },
    {
     "name": "stderr",
     "output_type": "stream",
     "text": [
      "[I 2024-10-14 20:05:22,504] Trial 716 finished with value: 0.6338797814207651 and parameters: {'lr': 1.7263181396082034e-05, 'weight_decay': 1.5629124230929982e-06}. Best is trial 490 with value: 0.8166666666666667.\n",
      "WARNING: Maximum number of iterations 32 reached. The mean may be inaccurate\n"
     ]
    },
    {
     "name": "stdout",
     "output_type": "stream",
     "text": [
      "SVD 수렴 문제 발생: SVD did not converge. 계속 진행합니다.\n"
     ]
    },
    {
     "name": "stderr",
     "output_type": "stream",
     "text": [
      "[I 2024-10-14 20:09:58,324] Trial 717 finished with value: 0.618939393939394 and parameters: {'lr': 2.356016771920047e-05, 'weight_decay': 8.386952875112814e-06}. Best is trial 490 with value: 0.8166666666666667.\n",
      "WARNING: Maximum number of iterations 32 reached. The mean may be inaccurate\n"
     ]
    },
    {
     "name": "stdout",
     "output_type": "stream",
     "text": [
      "SVD 수렴 문제 발생: SVD did not converge. 계속 진행합니다.\n"
     ]
    },
    {
     "name": "stderr",
     "output_type": "stream",
     "text": [
      "[I 2024-10-14 20:14:32,971] Trial 718 finished with value: 0.7120967741935483 and parameters: {'lr': 3.166707500896652e-05, 'weight_decay': 0.00012935439797763946}. Best is trial 490 with value: 0.8166666666666667.\n",
      "WARNING: Maximum number of iterations 32 reached. The mean may be inaccurate\n"
     ]
    },
    {
     "name": "stdout",
     "output_type": "stream",
     "text": [
      "SVD 수렴 문제 발생: SVD did not converge. 계속 진행합니다.\n"
     ]
    },
    {
     "name": "stderr",
     "output_type": "stream",
     "text": [
      "[I 2024-10-14 20:19:07,326] Trial 719 finished with value: 0.6621212121212121 and parameters: {'lr': 2.182923523717239e-05, 'weight_decay': 6.868539649193011e-06}. Best is trial 490 with value: 0.8166666666666667.\n",
      "WARNING: Maximum number of iterations 32 reached. The mean may be inaccurate\n"
     ]
    },
    {
     "name": "stdout",
     "output_type": "stream",
     "text": [
      "SVD 수렴 문제 발생: SVD did not converge. 계속 진행합니다.\n"
     ]
    },
    {
     "name": "stderr",
     "output_type": "stream",
     "text": [
      "[I 2024-10-14 20:23:42,633] Trial 720 finished with value: 0.615909090909091 and parameters: {'lr': 6.408690932925783e-06, 'weight_decay': 4.961651523467663e-06}. Best is trial 490 with value: 0.8166666666666667.\n",
      "WARNING: Maximum number of iterations 32 reached. The mean may be inaccurate\n"
     ]
    },
    {
     "name": "stdout",
     "output_type": "stream",
     "text": [
      "SVD 수렴 문제 발생: SVD did not converge. 계속 진행합니다.\n"
     ]
    },
    {
     "name": "stderr",
     "output_type": "stream",
     "text": [
      "[I 2024-10-14 20:28:17,532] Trial 721 finished with value: 0.6363636363636362 and parameters: {'lr': 4.692033646695016e-05, 'weight_decay': 3.401051463025892e-06}. Best is trial 490 with value: 0.8166666666666667.\n",
      "WARNING: Maximum number of iterations 32 reached. The mean may be inaccurate\n"
     ]
    },
    {
     "name": "stdout",
     "output_type": "stream",
     "text": [
      "SVD 수렴 문제 발생: SVD did not converge. 계속 진행합니다.\n"
     ]
    },
    {
     "name": "stderr",
     "output_type": "stream",
     "text": [
      "[I 2024-10-14 20:32:53,379] Trial 722 finished with value: 0.5680327868852459 and parameters: {'lr': 1.5109842641775098e-05, 'weight_decay': 1.1014228147224918e-05}. Best is trial 490 with value: 0.8166666666666667.\n",
      "WARNING: Maximum number of iterations 32 reached. The mean may be inaccurate\n"
     ]
    },
    {
     "name": "stdout",
     "output_type": "stream",
     "text": [
      "SVD 수렴 문제 발생: SVD did not converge. 계속 진행합니다.\n"
     ]
    },
    {
     "name": "stderr",
     "output_type": "stream",
     "text": [
      "[I 2024-10-14 20:37:27,370] Trial 723 finished with value: 0.5424448217317487 and parameters: {'lr': 0.0007649358444673812, 'weight_decay': 2.1771599686858215e-06}. Best is trial 490 with value: 0.8166666666666667.\n",
      "WARNING: Maximum number of iterations 32 reached. The mean may be inaccurate\n"
     ]
    },
    {
     "name": "stdout",
     "output_type": "stream",
     "text": [
      "SVD 수렴 문제 발생: SVD did not converge. 계속 진행합니다.\n"
     ]
    },
    {
     "name": "stderr",
     "output_type": "stream",
     "text": [
      "[I 2024-10-14 20:42:03,264] Trial 724 finished with value: 0.6515151515151516 and parameters: {'lr': 2.6731080543567752e-05, 'weight_decay': 2.81604225185557e-06}. Best is trial 490 with value: 0.8166666666666667.\n",
      "WARNING: Maximum number of iterations 32 reached. The mean may be inaccurate\n"
     ]
    },
    {
     "name": "stdout",
     "output_type": "stream",
     "text": [
      "SVD 수렴 문제 발생: SVD did not converge. 계속 진행합니다.\n"
     ]
    },
    {
     "name": "stderr",
     "output_type": "stream",
     "text": [
      "[I 2024-10-14 20:46:39,335] Trial 725 finished with value: 0.7919354838709678 and parameters: {'lr': 2.0097736753111797e-05, 'weight_decay': 6.028422090448239e-06}. Best is trial 490 with value: 0.8166666666666667.\n",
      "WARNING: Maximum number of iterations 32 reached. The mean may be inaccurate\n"
     ]
    },
    {
     "name": "stdout",
     "output_type": "stream",
     "text": [
      "SVD 수렴 문제 발생: SVD did not converge. 계속 진행합니다.\n"
     ]
    },
    {
     "name": "stderr",
     "output_type": "stream",
     "text": [
      "[I 2024-10-14 20:51:15,409] Trial 726 finished with value: 0.6879032258064516 and parameters: {'lr': 1.3130728863605126e-05, 'weight_decay': 8.19530587515697e-06}. Best is trial 490 with value: 0.8166666666666667.\n",
      "WARNING: Maximum number of iterations 32 reached. The mean may be inaccurate\n"
     ]
    },
    {
     "name": "stdout",
     "output_type": "stream",
     "text": [
      "SVD 수렴 문제 발생: SVD did not converge. 계속 진행합니다.\n"
     ]
    },
    {
     "name": "stderr",
     "output_type": "stream",
     "text": [
      "[I 2024-10-14 20:55:51,453] Trial 727 finished with value: 0.7459677419354839 and parameters: {'lr': 1.856922453851959e-05, 'weight_decay': 6.46332433363981e-06}. Best is trial 490 with value: 0.8166666666666667.\n",
      "WARNING: Maximum number of iterations 32 reached. The mean may be inaccurate\n"
     ]
    },
    {
     "name": "stdout",
     "output_type": "stream",
     "text": [
      "SVD 수렴 문제 발생: SVD did not converge. 계속 진행합니다.\n"
     ]
    },
    {
     "name": "stderr",
     "output_type": "stream",
     "text": [
      "[I 2024-10-14 21:00:26,371] Trial 728 finished with value: 0.6193548387096774 and parameters: {'lr': 1.621935434044231e-05, 'weight_decay': 5.996561502563493e-06}. Best is trial 490 with value: 0.8166666666666667.\n",
      "WARNING: Maximum number of iterations 32 reached. The mean may be inaccurate\n"
     ]
    },
    {
     "name": "stdout",
     "output_type": "stream",
     "text": [
      "SVD 수렴 문제 발생: SVD did not converge. 계속 진행합니다.\n"
     ]
    },
    {
     "name": "stderr",
     "output_type": "stream",
     "text": [
      "[I 2024-10-14 21:05:02,597] Trial 729 finished with value: 0.6959677419354839 and parameters: {'lr': 1.1815622512207844e-05, 'weight_decay': 1.428271632279449e-06}. Best is trial 490 with value: 0.8166666666666667.\n",
      "WARNING: Maximum number of iterations 32 reached. The mean may be inaccurate\n"
     ]
    },
    {
     "name": "stdout",
     "output_type": "stream",
     "text": [
      "SVD 수렴 문제 발생: SVD did not converge. 계속 진행합니다.\n"
     ]
    },
    {
     "name": "stderr",
     "output_type": "stream",
     "text": [
      "[I 2024-10-14 21:09:37,634] Trial 730 finished with value: 0.6040100250626567 and parameters: {'lr': 3.5490786317765695e-05, 'weight_decay': 1.184459451596375e-06}. Best is trial 490 with value: 0.8166666666666667.\n",
      "WARNING: Maximum number of iterations 32 reached. The mean may be inaccurate\n"
     ]
    },
    {
     "name": "stdout",
     "output_type": "stream",
     "text": [
      "SVD 수렴 문제 발생: SVD did not converge. 계속 진행합니다.\n"
     ]
    },
    {
     "name": "stderr",
     "output_type": "stream",
     "text": [
      "[I 2024-10-14 21:14:13,582] Trial 731 finished with value: 0.652615144418423 and parameters: {'lr': 2.038537370400928e-05, 'weight_decay': 1.8209280953060584e-06}. Best is trial 490 with value: 0.8166666666666667.\n",
      "WARNING: Maximum number of iterations 32 reached. The mean may be inaccurate\n"
     ]
    },
    {
     "name": "stdout",
     "output_type": "stream",
     "text": [
      "SVD 수렴 문제 발생: SVD did not converge. 계속 진행합니다.\n"
     ]
    },
    {
     "name": "stderr",
     "output_type": "stream",
     "text": [
      "[I 2024-10-14 21:18:49,159] Trial 732 finished with value: 0.637904468412943 and parameters: {'lr': 4.4046545972862235e-05, 'weight_decay': 4.151100150916429e-06}. Best is trial 490 with value: 0.8166666666666667.\n",
      "WARNING: Maximum number of iterations 32 reached. The mean may be inaccurate\n"
     ]
    },
    {
     "name": "stdout",
     "output_type": "stream",
     "text": [
      "SVD 수렴 문제 발생: SVD did not converge. 계속 진행합니다.\n"
     ]
    },
    {
     "name": "stderr",
     "output_type": "stream",
     "text": [
      "[I 2024-10-14 21:23:25,793] Trial 733 finished with value: 0.7111631537861046 and parameters: {'lr': 6.54078721722091e-05, 'weight_decay': 9.332374445225138e-06}. Best is trial 490 with value: 0.8166666666666667.\n",
      "WARNING: Maximum number of iterations 32 reached. The mean may be inaccurate\n",
      "[I 2024-10-14 21:28:02,471] Trial 734 finished with value: 0.6553030303030303 and parameters: {'lr': 9.710641993891217e-06, 'weight_decay': 6.891184600364041e-06}. Best is trial 490 with value: 0.8166666666666667.\n"
     ]
    },
    {
     "name": "stdout",
     "output_type": "stream",
     "text": [
      "SVD 수렴 문제 발생: SVD did not converge. 계속 진행합니다.\n"
     ]
    },
    {
     "name": "stderr",
     "output_type": "stream",
     "text": [
      "WARNING: Maximum number of iterations 32 reached. The mean may be inaccurate\n"
     ]
    },
    {
     "name": "stdout",
     "output_type": "stream",
     "text": [
      "SVD 수렴 문제 발생: SVD did not converge. 계속 진행합니다.\n"
     ]
    },
    {
     "name": "stderr",
     "output_type": "stream",
     "text": [
      "[I 2024-10-14 21:32:37,244] Trial 735 finished with value: 0.581060606060606 and parameters: {'lr': 4.451963134185993e-06, 'weight_decay': 1.0100945619003847e-06}. Best is trial 490 with value: 0.8166666666666667.\n",
      "WARNING: Maximum number of iterations 32 reached. The mean may be inaccurate\n"
     ]
    },
    {
     "name": "stdout",
     "output_type": "stream",
     "text": [
      "SVD 수렴 문제 발생: SVD did not converge. 계속 진행합니다.\n"
     ]
    },
    {
     "name": "stderr",
     "output_type": "stream",
     "text": [
      "[I 2024-10-14 21:37:12,973] Trial 736 finished with value: 0.7583333333333333 and parameters: {'lr': 1.3809548865535059e-05, 'weight_decay': 4.8608823853148035e-06}. Best is trial 490 with value: 0.8166666666666667.\n",
      "WARNING: Maximum number of iterations 32 reached. The mean may be inaccurate\n"
     ]
    },
    {
     "name": "stdout",
     "output_type": "stream",
     "text": [
      "SVD 수렴 문제 발생: SVD did not converge. 계속 진행합니다.\n"
     ]
    },
    {
     "name": "stderr",
     "output_type": "stream",
     "text": [
      "[I 2024-10-14 21:41:48,072] Trial 737 finished with value: 0.6725806451612903 and parameters: {'lr': 1.3827516277686861e-05, 'weight_decay': 5.703049522716958e-06}. Best is trial 490 with value: 0.8166666666666667.\n",
      "WARNING: Maximum number of iterations 32 reached. The mean may be inaccurate\n"
     ]
    },
    {
     "name": "stdout",
     "output_type": "stream",
     "text": [
      "SVD 수렴 문제 발생: SVD did not converge. 계속 진행합니다.\n"
     ]
    },
    {
     "name": "stderr",
     "output_type": "stream",
     "text": [
      "[I 2024-10-14 21:46:22,909] Trial 738 finished with value: 0.7103825136612022 and parameters: {'lr': 1.1872856087429215e-05, 'weight_decay': 4.330949033478732e-05}. Best is trial 490 with value: 0.8166666666666667.\n",
      "WARNING: Maximum number of iterations 32 reached. The mean may be inaccurate\n"
     ]
    },
    {
     "name": "stdout",
     "output_type": "stream",
     "text": [
      "SVD 수렴 문제 발생: SVD did not converge. 계속 진행합니다.\n"
     ]
    },
    {
     "name": "stderr",
     "output_type": "stream",
     "text": [
      "[I 2024-10-14 21:50:57,822] Trial 739 finished with value: 0.7694235588972431 and parameters: {'lr': 9.916630166190322e-06, 'weight_decay': 7.090258166118391e-06}. Best is trial 490 with value: 0.8166666666666667.\n",
      "WARNING: Maximum number of iterations 32 reached. The mean may be inaccurate\n"
     ]
    },
    {
     "name": "stdout",
     "output_type": "stream",
     "text": [
      "SVD 수렴 문제 발생: SVD did not converge. 계속 진행합니다.\n"
     ]
    },
    {
     "name": "stderr",
     "output_type": "stream",
     "text": [
      "[I 2024-10-14 21:55:33,995] Trial 740 finished with value: 0.7181663837011885 and parameters: {'lr': 9.50280267120055e-06, 'weight_decay': 7.908399218924863e-06}. Best is trial 490 with value: 0.8166666666666667.\n",
      "WARNING: Maximum number of iterations 32 reached. The mean may be inaccurate\n"
     ]
    },
    {
     "name": "stdout",
     "output_type": "stream",
     "text": [
      "SVD 수렴 문제 발생: SVD did not converge. 계속 진행합니다.\n"
     ]
    },
    {
     "name": "stderr",
     "output_type": "stream",
     "text": [
      "[I 2024-10-14 22:00:09,974] Trial 741 finished with value: 0.6742815033161386 and parameters: {'lr': 8.101217935063441e-06, 'weight_decay': 8.682550621135666e-06}. Best is trial 490 with value: 0.8166666666666667.\n",
      "WARNING: Maximum number of iterations 32 reached. The mean may be inaccurate\n"
     ]
    },
    {
     "name": "stdout",
     "output_type": "stream",
     "text": [
      "SVD 수렴 문제 발생: SVD did not converge. 계속 진행합니다.\n"
     ]
    },
    {
     "name": "stderr",
     "output_type": "stream",
     "text": [
      "[I 2024-10-14 22:04:45,503] Trial 742 finished with value: 0.662878787878788 and parameters: {'lr': 1.0392880320599543e-05, 'weight_decay': 1.1054840401362544e-05}. Best is trial 490 with value: 0.8166666666666667.\n",
      "WARNING: Maximum number of iterations 32 reached. The mean may be inaccurate\n"
     ]
    },
    {
     "name": "stdout",
     "output_type": "stream",
     "text": [
      "SVD 수렴 문제 발생: SVD did not converge. 계속 진행합니다.\n"
     ]
    },
    {
     "name": "stderr",
     "output_type": "stream",
     "text": [
      "[I 2024-10-14 22:09:21,862] Trial 743 finished with value: 0.7090909090909091 and parameters: {'lr': 8.346661562871287e-06, 'weight_decay': 7.250508976743701e-06}. Best is trial 490 with value: 0.8166666666666667.\n",
      "WARNING: Maximum number of iterations 32 reached. The mean may be inaccurate\n"
     ]
    },
    {
     "name": "stdout",
     "output_type": "stream",
     "text": [
      "SVD 수렴 문제 발생: SVD did not converge. 계속 진행합니다.\n"
     ]
    },
    {
     "name": "stderr",
     "output_type": "stream",
     "text": [
      "[I 2024-10-14 22:13:57,757] Trial 744 finished with value: 0.5766129032258065 and parameters: {'lr': 1.0993227320944432e-05, 'weight_decay': 7.722246721816717e-06}. Best is trial 490 with value: 0.8166666666666667.\n",
      "WARNING: Maximum number of iterations 32 reached. The mean may be inaccurate\n"
     ]
    },
    {
     "name": "stdout",
     "output_type": "stream",
     "text": [
      "SVD 수렴 문제 발생: SVD did not converge. 계속 진행합니다.\n"
     ]
    },
    {
     "name": "stderr",
     "output_type": "stream",
     "text": [
      "[I 2024-10-14 22:18:34,658] Trial 745 finished with value: 0.5979703356752537 and parameters: {'lr': 9.073309009211117e-06, 'weight_decay': 5.910875364876524e-06}. Best is trial 490 with value: 0.8166666666666667.\n",
      "WARNING: Maximum number of iterations 32 reached. The mean may be inaccurate\n"
     ]
    },
    {
     "name": "stdout",
     "output_type": "stream",
     "text": [
      "SVD 수렴 문제 발생: SVD did not converge. 계속 진행합니다.\n"
     ]
    },
    {
     "name": "stderr",
     "output_type": "stream",
     "text": [
      "[I 2024-10-14 22:23:11,357] Trial 746 finished with value: 0.6290322580645161 and parameters: {'lr': 1.298212985201172e-05, 'weight_decay': 8.929920817533135e-06}. Best is trial 490 with value: 0.8166666666666667.\n",
      "WARNING: Maximum number of iterations 32 reached. The mean may be inaccurate\n"
     ]
    },
    {
     "name": "stdout",
     "output_type": "stream",
     "text": [
      "SVD 수렴 문제 발생: SVD did not converge. 계속 진행합니다.\n"
     ]
    },
    {
     "name": "stderr",
     "output_type": "stream",
     "text": [
      "[I 2024-10-14 22:27:48,404] Trial 747 finished with value: 0.6393442622950819 and parameters: {'lr': 1.1381375554930619e-05, 'weight_decay': 6.554380481390305e-06}. Best is trial 490 with value: 0.8166666666666667.\n",
      "WARNING: Maximum number of iterations 32 reached. The mean may be inaccurate\n"
     ]
    },
    {
     "name": "stdout",
     "output_type": "stream",
     "text": [
      "SVD 수렴 문제 발생: SVD did not converge. 계속 진행합니다.\n"
     ]
    },
    {
     "name": "stderr",
     "output_type": "stream",
     "text": [
      "[I 2024-10-14 22:32:23,614] Trial 748 finished with value: 0.5969049373618276 and parameters: {'lr': 8.153444535011899e-06, 'weight_decay': 1.0949528202647e-05}. Best is trial 490 with value: 0.8166666666666667.\n",
      "WARNING: Maximum number of iterations 32 reached. The mean may be inaccurate\n"
     ]
    },
    {
     "name": "stdout",
     "output_type": "stream",
     "text": [
      "SVD 수렴 문제 발생: SVD did not converge. 계속 진행합니다.\n"
     ]
    },
    {
     "name": "stderr",
     "output_type": "stream",
     "text": [
      "[I 2024-10-14 22:37:00,355] Trial 749 finished with value: 0.5870413739266198 and parameters: {'lr': 1.0792479074220489e-05, 'weight_decay': 6.193856612768145e-06}. Best is trial 490 with value: 0.8166666666666667.\n",
      "WARNING: Maximum number of iterations 32 reached. The mean may be inaccurate\n"
     ]
    },
    {
     "name": "stdout",
     "output_type": "stream",
     "text": [
      "SVD 수렴 문제 발생: SVD did not converge. 계속 진행합니다.\n"
     ]
    },
    {
     "name": "stderr",
     "output_type": "stream",
     "text": [
      "[I 2024-10-14 22:41:36,353] Trial 750 finished with value: 0.6475806451612904 and parameters: {'lr': 7.112172403777694e-06, 'weight_decay': 1.4113061534335027e-06}. Best is trial 490 with value: 0.8166666666666667.\n",
      "WARNING: Maximum number of iterations 32 reached. The mean may be inaccurate\n"
     ]
    },
    {
     "name": "stdout",
     "output_type": "stream",
     "text": [
      "SVD 수렴 문제 발생: SVD did not converge. 계속 진행합니다.\n"
     ]
    },
    {
     "name": "stderr",
     "output_type": "stream",
     "text": [
      "[I 2024-10-14 22:46:12,148] Trial 751 finished with value: 0.6949152542372881 and parameters: {'lr': 1.3740355317288862e-05, 'weight_decay': 7.143498923969822e-06}. Best is trial 490 with value: 0.8166666666666667.\n",
      "WARNING: Maximum number of iterations 32 reached. The mean may be inaccurate\n"
     ]
    },
    {
     "name": "stdout",
     "output_type": "stream",
     "text": [
      "SVD 수렴 문제 발생: SVD did not converge. 계속 진행합니다.\n"
     ]
    },
    {
     "name": "stderr",
     "output_type": "stream",
     "text": [
      "[I 2024-10-14 22:50:47,944] Trial 752 finished with value: 0.6324143692564745 and parameters: {'lr': 1.5664014034537012e-05, 'weight_decay': 5.196027619803262e-06}. Best is trial 490 with value: 0.8166666666666667.\n",
      "WARNING: Maximum number of iterations 32 reached. The mean may be inaccurate\n"
     ]
    },
    {
     "name": "stdout",
     "output_type": "stream",
     "text": [
      "SVD 수렴 문제 발생: SVD did not converge. 계속 진행합니다.\n"
     ]
    },
    {
     "name": "stderr",
     "output_type": "stream",
     "text": [
      "[I 2024-10-14 22:55:23,410] Trial 753 finished with value: 0.6627634660421545 and parameters: {'lr': 9.647385599603557e-06, 'weight_decay': 5.081017402923541e-06}. Best is trial 490 with value: 0.8166666666666667.\n",
      "WARNING: Maximum number of iterations 32 reached. The mean may be inaccurate\n"
     ]
    },
    {
     "name": "stdout",
     "output_type": "stream",
     "text": [
      "SVD 수렴 문제 발생: SVD did not converge. 계속 진행합니다.\n"
     ]
    },
    {
     "name": "stderr",
     "output_type": "stream",
     "text": [
      "[I 2024-10-14 22:59:59,335] Trial 754 finished with value: 0.6064516129032258 and parameters: {'lr': 6.0833494734733085e-06, 'weight_decay': 9.075878046012844e-06}. Best is trial 490 with value: 0.8166666666666667.\n",
      "WARNING: Maximum number of iterations 32 reached. The mean may be inaccurate\n"
     ]
    },
    {
     "name": "stdout",
     "output_type": "stream",
     "text": [
      "SVD 수렴 문제 발생: SVD did not converge. 계속 진행합니다.\n"
     ]
    },
    {
     "name": "stderr",
     "output_type": "stream",
     "text": [
      "[I 2024-10-14 23:04:33,762] Trial 755 finished with value: 0.7252146760343482 and parameters: {'lr': 1.2378158976481818e-05, 'weight_decay': 1.8566025136199267e-06}. Best is trial 490 with value: 0.8166666666666667.\n",
      "WARNING: Maximum number of iterations 32 reached. The mean may be inaccurate\n"
     ]
    },
    {
     "name": "stdout",
     "output_type": "stream",
     "text": [
      "SVD 수렴 문제 발생: SVD did not converge. 계속 진행합니다.\n"
     ]
    },
    {
     "name": "stderr",
     "output_type": "stream",
     "text": [
      "[I 2024-10-14 23:09:09,264] Trial 756 finished with value: 0.6803030303030303 and parameters: {'lr': 1.5418912128105865e-05, 'weight_decay': 5.4540331272329714e-05}. Best is trial 490 with value: 0.8166666666666667.\n",
      "WARNING: Maximum number of iterations 32 reached. The mean may be inaccurate\n"
     ]
    },
    {
     "name": "stdout",
     "output_type": "stream",
     "text": [
      "SVD 수렴 문제 발생: SVD did not converge. 계속 진행합니다.\n"
     ]
    },
    {
     "name": "stderr",
     "output_type": "stream",
     "text": [
      "[I 2024-10-14 23:13:44,324] Trial 757 finished with value: 0.6908665105386416 and parameters: {'lr': 7.812192920669546e-06, 'weight_decay': 7.123763551313287e-06}. Best is trial 490 with value: 0.8166666666666667.\n",
      "WARNING: Maximum number of iterations 32 reached. The mean may be inaccurate\n"
     ]
    },
    {
     "name": "stdout",
     "output_type": "stream",
     "text": [
      "SVD 수렴 문제 발생: SVD did not converge. 계속 진행합니다.\n"
     ]
    },
    {
     "name": "stderr",
     "output_type": "stream",
     "text": [
      "[I 2024-10-14 23:18:19,393] Trial 758 finished with value: 0.7378787878787878 and parameters: {'lr': 1.34107056772488e-05, 'weight_decay': 2.2038298137758894e-06}. Best is trial 490 with value: 0.8166666666666667.\n",
      "WARNING: Maximum number of iterations 32 reached. The mean may be inaccurate\n",
      "[I 2024-10-14 23:22:54,971] Trial 759 finished with value: 0.7135050741608118 and parameters: {'lr': 9.97041955929211e-06, 'weight_decay': 5.961098904412448e-06}. Best is trial 490 with value: 0.8166666666666667.\n"
     ]
    },
    {
     "name": "stdout",
     "output_type": "stream",
     "text": [
      "SVD 수렴 문제 발생: SVD did not converge. 계속 진행합니다.\n"
     ]
    },
    {
     "name": "stderr",
     "output_type": "stream",
     "text": [
      "WARNING: Maximum number of iterations 32 reached. The mean may be inaccurate\n"
     ]
    },
    {
     "name": "stdout",
     "output_type": "stream",
     "text": [
      "SVD 수렴 문제 발생: SVD did not converge. 계속 진행합니다.\n"
     ]
    },
    {
     "name": "stderr",
     "output_type": "stream",
     "text": [
      "[I 2024-10-14 23:27:27,878] Trial 760 finished with value: 0.6825396825396824 and parameters: {'lr': 1.8313755671428263e-05, 'weight_decay': 1.453822544489541e-06}. Best is trial 490 with value: 0.8166666666666667.\n",
      "WARNING: Maximum number of iterations 32 reached. The mean may be inaccurate\n"
     ]
    },
    {
     "name": "stdout",
     "output_type": "stream",
     "text": [
      "SVD 수렴 문제 발생: SVD did not converge. 계속 진행합니다.\n"
     ]
    },
    {
     "name": "stderr",
     "output_type": "stream",
     "text": [
      "[I 2024-10-14 23:32:01,895] Trial 761 finished with value: 0.7697111631537861 and parameters: {'lr': 1.6032565292599733e-05, 'weight_decay': 1.1602523640531157e-06}. Best is trial 490 with value: 0.8166666666666667.\n",
      "WARNING: Maximum number of iterations 32 reached. The mean may be inaccurate\n"
     ]
    },
    {
     "name": "stdout",
     "output_type": "stream",
     "text": [
      "SVD 수렴 문제 발생: SVD did not converge. 계속 진행합니다.\n"
     ]
    },
    {
     "name": "stderr",
     "output_type": "stream",
     "text": [
      "[I 2024-10-14 23:36:36,365] Trial 762 finished with value: 0.7080405932864949 and parameters: {'lr': 1.6157533606168923e-05, 'weight_decay': 1.173304894813688e-06}. Best is trial 490 with value: 0.8166666666666667.\n",
      "WARNING: Maximum number of iterations 32 reached. The mean may be inaccurate\n"
     ]
    },
    {
     "name": "stdout",
     "output_type": "stream",
     "text": [
      "SVD 수렴 문제 발생: SVD did not converge. 계속 진행합니다.\n"
     ]
    },
    {
     "name": "stderr",
     "output_type": "stream",
     "text": [
      "[I 2024-10-14 23:41:10,517] Trial 763 finished with value: 0.5790322580645162 and parameters: {'lr': 1.5553882711943645e-05, 'weight_decay': 1.6904377162306837e-06}. Best is trial 490 with value: 0.8166666666666667.\n",
      "WARNING: Maximum number of iterations 32 reached. The mean may be inaccurate\n"
     ]
    },
    {
     "name": "stdout",
     "output_type": "stream",
     "text": [
      "SVD 수렴 문제 발생: SVD did not converge. 계속 진행합니다.\n"
     ]
    },
    {
     "name": "stderr",
     "output_type": "stream",
     "text": [
      "[I 2024-10-14 23:45:45,101] Trial 764 finished with value: 0.6627634660421545 and parameters: {'lr': 1.9217789832105666e-05, 'weight_decay': 1.184975043616961e-06}. Best is trial 490 with value: 0.8166666666666667.\n",
      "WARNING: Maximum number of iterations 32 reached. The mean may be inaccurate\n",
      "[I 2024-10-14 23:50:20,953] Trial 765 finished with value: 0.6431818181818182 and parameters: {'lr': 1.7379702577471425e-05, 'weight_decay': 1.2412423476556705e-06}. Best is trial 490 with value: 0.8166666666666667.\n"
     ]
    },
    {
     "name": "stdout",
     "output_type": "stream",
     "text": [
      "SVD 수렴 문제 발생: SVD did not converge. 계속 진행합니다.\n"
     ]
    },
    {
     "name": "stderr",
     "output_type": "stream",
     "text": [
      "WARNING: Maximum number of iterations 32 reached. The mean may be inaccurate\n",
      "[I 2024-10-14 23:54:55,696] Trial 766 finished with value: 0.6856060606060607 and parameters: {'lr': 6.93804924929099e-06, 'weight_decay': 1.4242498930034458e-06}. Best is trial 490 with value: 0.8166666666666667.\n"
     ]
    },
    {
     "name": "stdout",
     "output_type": "stream",
     "text": [
      "SVD 수렴 문제 발생: SVD did not converge. 계속 진행합니다.\n"
     ]
    },
    {
     "name": "stderr",
     "output_type": "stream",
     "text": [
      "WARNING: Maximum number of iterations 32 reached. The mean may be inaccurate\n"
     ]
    },
    {
     "name": "stdout",
     "output_type": "stream",
     "text": [
      "SVD 수렴 문제 발생: SVD did not converge. 계속 진행합니다.\n"
     ]
    },
    {
     "name": "stderr",
     "output_type": "stream",
     "text": [
      "[I 2024-10-14 23:59:28,368] Trial 767 finished with value: 0.667447306791569 and parameters: {'lr': 5.661176676955474e-06, 'weight_decay': 1.0827433125272484e-06}. Best is trial 490 with value: 0.8166666666666667.\n",
      "WARNING: Maximum number of iterations 32 reached. The mean may be inaccurate\n"
     ]
    },
    {
     "name": "stdout",
     "output_type": "stream",
     "text": [
      "SVD 수렴 문제 발생: SVD did not converge. 계속 진행합니다.\n"
     ]
    },
    {
     "name": "stderr",
     "output_type": "stream",
     "text": [
      "[I 2024-10-15 00:04:03,248] Trial 768 finished with value: 0.6738095238095239 and parameters: {'lr': 1.1037628203284769e-05, 'weight_decay': 1.1365317970935087e-06}. Best is trial 490 with value: 0.8166666666666667.\n",
      "WARNING: Maximum number of iterations 32 reached. The mean may be inaccurate\n"
     ]
    },
    {
     "name": "stdout",
     "output_type": "stream",
     "text": [
      "SVD 수렴 문제 발생: SVD did not converge. 계속 진행합니다.\n"
     ]
    },
    {
     "name": "stderr",
     "output_type": "stream",
     "text": [
      "[I 2024-10-15 00:08:37,815] Trial 769 finished with value: 0.6856702619414483 and parameters: {'lr': 1.677780097548342e-05, 'weight_decay': 1.3913191259375235e-06}. Best is trial 490 with value: 0.8166666666666667.\n",
      "WARNING: Maximum number of iterations 32 reached. The mean may be inaccurate\n"
     ]
    },
    {
     "name": "stdout",
     "output_type": "stream",
     "text": [
      "SVD 수렴 문제 발생: SVD did not converge. 계속 진행합니다.\n"
     ]
    },
    {
     "name": "stderr",
     "output_type": "stream",
     "text": [
      "[I 2024-10-15 00:13:12,306] Trial 770 finished with value: 0.6942355889724311 and parameters: {'lr': 1.3237501679154535e-05, 'weight_decay': 1.0107378056765014e-06}. Best is trial 490 with value: 0.8166666666666667.\n",
      "WARNING: Maximum number of iterations 32 reached. The mean may be inaccurate\n"
     ]
    },
    {
     "name": "stdout",
     "output_type": "stream",
     "text": [
      "SVD 수렴 문제 발생: SVD did not converge. 계속 진행합니다.\n"
     ]
    },
    {
     "name": "stderr",
     "output_type": "stream",
     "text": [
      "[I 2024-10-15 00:17:46,667] Trial 771 finished with value: 0.5725865880619012 and parameters: {'lr': 1.970344338680527e-05, 'weight_decay': 1.769332047920049e-06}. Best is trial 490 with value: 0.8166666666666667.\n",
      "WARNING: Maximum number of iterations 32 reached. The mean may be inaccurate\n",
      "[I 2024-10-15 00:22:22,029] Trial 772 finished with value: 0.6729117876658861 and parameters: {'lr': 0.0002632405338340515, 'weight_decay': 1.3718561355286891e-06}. Best is trial 490 with value: 0.8166666666666667.\n"
     ]
    },
    {
     "name": "stdout",
     "output_type": "stream",
     "text": [
      "SVD 수렴 문제 발생: SVD did not converge. 계속 진행합니다.\n"
     ]
    },
    {
     "name": "stderr",
     "output_type": "stream",
     "text": [
      "WARNING: Maximum number of iterations 32 reached. The mean may be inaccurate\n"
     ]
    },
    {
     "name": "stdout",
     "output_type": "stream",
     "text": [
      "SVD 수렴 문제 발생: SVD did not converge. 계속 진행합니다.\n"
     ]
    },
    {
     "name": "stderr",
     "output_type": "stream",
     "text": [
      "[I 2024-10-15 00:26:55,928] Trial 773 finished with value: 0.7112903225806452 and parameters: {'lr': 5.157282608821103e-05, 'weight_decay': 1.2472316005845634e-06}. Best is trial 490 with value: 0.8166666666666667.\n",
      "WARNING: Maximum number of iterations 32 reached. The mean may be inaccurate\n"
     ]
    },
    {
     "name": "stdout",
     "output_type": "stream",
     "text": [
      "SVD 수렴 문제 발생: SVD did not converge. 계속 진행합니다.\n"
     ]
    },
    {
     "name": "stderr",
     "output_type": "stream",
     "text": [
      "[I 2024-10-15 00:31:29,743] Trial 774 finished with value: 0.6549570647931304 and parameters: {'lr': 9.045079208992962e-06, 'weight_decay': 1.5070843570342236e-06}. Best is trial 490 with value: 0.8166666666666667.\n",
      "WARNING: Maximum number of iterations 32 reached. The mean may be inaccurate\n"
     ]
    },
    {
     "name": "stdout",
     "output_type": "stream",
     "text": [
      "SVD 수렴 문제 발생: SVD did not converge. 계속 진행합니다.\n"
     ]
    },
    {
     "name": "stderr",
     "output_type": "stream",
     "text": [
      "[I 2024-10-15 00:36:04,407] Trial 775 finished with value: 0.568576388888889 and parameters: {'lr': 6.34981944356082e-05, 'weight_decay': 1.0194261036507393e-06}. Best is trial 490 with value: 0.8166666666666667.\n",
      "WARNING: Maximum number of iterations 32 reached. The mean may be inaccurate\n"
     ]
    },
    {
     "name": "stdout",
     "output_type": "stream",
     "text": [
      "SVD 수렴 문제 발생: SVD did not converge. 계속 진행합니다.\n"
     ]
    },
    {
     "name": "stderr",
     "output_type": "stream",
     "text": [
      "[I 2024-10-15 00:40:38,886] Trial 776 finished with value: 0.5934426229508196 and parameters: {'lr': 1.4715175031129187e-05, 'weight_decay': 2.2049525578340016e-06}. Best is trial 490 with value: 0.8166666666666667.\n",
      "WARNING: Maximum number of iterations 32 reached. The mean may be inaccurate\n"
     ]
    },
    {
     "name": "stdout",
     "output_type": "stream",
     "text": [
      "SVD 수렴 문제 발생: SVD did not converge. 계속 진행합니다.\n"
     ]
    },
    {
     "name": "stderr",
     "output_type": "stream",
     "text": [
      "[I 2024-10-15 00:45:14,493] Trial 777 finished with value: 0.5830645161290323 and parameters: {'lr': 2.021559524188405e-05, 'weight_decay': 1.7080713279964295e-06}. Best is trial 490 with value: 0.8166666666666667.\n",
      "WARNING: Maximum number of iterations 32 reached. The mean may be inaccurate\n"
     ]
    },
    {
     "name": "stdout",
     "output_type": "stream",
     "text": [
      "SVD 수렴 문제 발생: SVD did not converge. 계속 진행합니다.\n"
     ]
    },
    {
     "name": "stderr",
     "output_type": "stream",
     "text": [
      "[I 2024-10-15 00:49:49,685] Trial 778 finished with value: 0.718496683861459 and parameters: {'lr': 1.1610228699859151e-05, 'weight_decay': 1.2038388239408027e-05}. Best is trial 490 with value: 0.8166666666666667.\n",
      "WARNING: Maximum number of iterations 32 reached. The mean may be inaccurate\n"
     ]
    },
    {
     "name": "stdout",
     "output_type": "stream",
     "text": [
      "SVD 수렴 문제 발생: SVD did not converge. 계속 진행합니다.\n"
     ]
    },
    {
     "name": "stderr",
     "output_type": "stream",
     "text": [
      "[I 2024-10-15 00:54:25,418] Trial 779 finished with value: 0.6589205397301349 and parameters: {'lr': 1.701615477603351e-05, 'weight_decay': 2.6242983514159716e-06}. Best is trial 490 with value: 0.8166666666666667.\n",
      "WARNING: Maximum number of iterations 32 reached. The mean may be inaccurate\n",
      "[I 2024-10-15 00:59:01,218] Trial 780 finished with value: 0.7045454545454545 and parameters: {'lr': 2.3160818511038328e-05, 'weight_decay': 1.9801852492490055e-06}. Best is trial 490 with value: 0.8166666666666667.\n"
     ]
    },
    {
     "name": "stdout",
     "output_type": "stream",
     "text": [
      "SVD 수렴 문제 발생: SVD did not converge. 계속 진행합니다.\n"
     ]
    },
    {
     "name": "stderr",
     "output_type": "stream",
     "text": [
      "WARNING: Maximum number of iterations 32 reached. The mean may be inaccurate\n"
     ]
    },
    {
     "name": "stdout",
     "output_type": "stream",
     "text": [
      "SVD 수렴 문제 발생: SVD did not converge. 계속 진행합니다.\n"
     ]
    },
    {
     "name": "stderr",
     "output_type": "stream",
     "text": [
      "[I 2024-10-15 01:03:32,632] Trial 781 finished with value: 0.5803030303030303 and parameters: {'lr': 7.632229257926208e-05, 'weight_decay': 1.586323790420879e-06}. Best is trial 490 with value: 0.8166666666666667.\n",
      "WARNING: Maximum number of iterations 32 reached. The mean may be inaccurate\n"
     ]
    },
    {
     "name": "stdout",
     "output_type": "stream",
     "text": [
      "SVD 수렴 문제 발생: SVD did not converge. 계속 진행합니다.\n"
     ]
    },
    {
     "name": "stderr",
     "output_type": "stream",
     "text": [
      "[I 2024-10-15 01:08:06,782] Trial 782 finished with value: 0.75 and parameters: {'lr': 6.8859625755158745e-06, 'weight_decay': 1.2818588951096338e-06}. Best is trial 490 with value: 0.8166666666666667.\n",
      "WARNING: Maximum number of iterations 32 reached. The mean may be inaccurate\n"
     ]
    },
    {
     "name": "stdout",
     "output_type": "stream",
     "text": [
      "SVD 수렴 문제 발생: SVD did not converge. 계속 진행합니다.\n"
     ]
    },
    {
     "name": "stderr",
     "output_type": "stream",
     "text": [
      "[I 2024-10-15 01:12:41,610] Trial 783 finished with value: 0.6346604215456674 and parameters: {'lr': 1.4048320382506058e-05, 'weight_decay': 8.336044139744051e-06}. Best is trial 490 with value: 0.8166666666666667.\n",
      "WARNING: Maximum number of iterations 32 reached. The mean may be inaccurate\n"
     ]
    },
    {
     "name": "stdout",
     "output_type": "stream",
     "text": [
      "SVD 수렴 문제 발생: SVD did not converge. 계속 진행합니다.\n"
     ]
    },
    {
     "name": "stderr",
     "output_type": "stream",
     "text": [
      "[I 2024-10-15 01:17:17,132] Trial 784 finished with value: 0.6962121212121213 and parameters: {'lr': 1.9237677617308912e-05, 'weight_decay': 2.4319605121411137e-06}. Best is trial 490 with value: 0.8166666666666667.\n",
      "WARNING: Maximum number of iterations 32 reached. The mean may be inaccurate\n"
     ]
    },
    {
     "name": "stdout",
     "output_type": "stream",
     "text": [
      "SVD 수렴 문제 발생: SVD did not converge. 계속 진행합니다.\n"
     ]
    },
    {
     "name": "stderr",
     "output_type": "stream",
     "text": [
      "[I 2024-10-15 01:21:51,785] Trial 785 finished with value: 0.6920454545454545 and parameters: {'lr': 0.00041321923413480783, 'weight_decay': 2.8750404974182977e-06}. Best is trial 490 with value: 0.8166666666666667.\n",
      "WARNING: Maximum number of iterations 32 reached. The mean may be inaccurate\n"
     ]
    },
    {
     "name": "stdout",
     "output_type": "stream",
     "text": [
      "SVD 수렴 문제 발생: SVD did not converge. 계속 진행합니다.\n"
     ]
    },
    {
     "name": "stderr",
     "output_type": "stream",
     "text": [
      "[I 2024-10-15 01:26:28,755] Trial 786 finished with value: 0.5887096774193548 and parameters: {'lr': 5.581667405561861e-05, 'weight_decay': 1.0218394837107094e-05}. Best is trial 490 with value: 0.8166666666666667.\n",
      "WARNING: Maximum number of iterations 32 reached. The mean may be inaccurate\n"
     ]
    },
    {
     "name": "stdout",
     "output_type": "stream",
     "text": [
      "SVD 수렴 문제 발생: SVD did not converge. 계속 진행합니다.\n"
     ]
    },
    {
     "name": "stderr",
     "output_type": "stream",
     "text": [
      "[I 2024-10-15 01:31:04,672] Trial 787 finished with value: 0.7338709677419354 and parameters: {'lr': 2.4005443857245762e-05, 'weight_decay': 0.00020266936025457142}. Best is trial 490 with value: 0.8166666666666667.\n",
      "WARNING: Maximum number of iterations 32 reached. The mean may be inaccurate\n",
      "[I 2024-10-15 01:35:42,701] Trial 788 finished with value: 0.5512159174649962 and parameters: {'lr': 1.1054907288711963e-05, 'weight_decay': 1.6209218383016581e-06}. Best is trial 490 with value: 0.8166666666666667.\n"
     ]
    },
    {
     "name": "stdout",
     "output_type": "stream",
     "text": [
      "SVD 수렴 문제 발생: SVD did not converge. 계속 진행합니다.\n"
     ]
    },
    {
     "name": "stderr",
     "output_type": "stream",
     "text": [
      "WARNING: Maximum number of iterations 32 reached. The mean may be inaccurate\n"
     ]
    },
    {
     "name": "stdout",
     "output_type": "stream",
     "text": [
      "SVD 수렴 문제 발생: SVD did not converge. 계속 진행합니다.\n"
     ]
    },
    {
     "name": "stderr",
     "output_type": "stream",
     "text": [
      "[I 2024-10-15 01:40:12,055] Trial 789 finished with value: 0.543939393939394 and parameters: {'lr': 0.007842180892632892, 'weight_decay': 3.5018539913317895e-06}. Best is trial 490 with value: 0.8166666666666667.\n",
      "WARNING: Maximum number of iterations 32 reached. The mean may be inaccurate\n",
      "[I 2024-10-15 01:44:49,632] Trial 790 finished with value: 0.8008064516129032 and parameters: {'lr': 1.6169354545947692e-05, 'weight_decay': 1.1983310917490207e-06}. Best is trial 490 with value: 0.8166666666666667.\n"
     ]
    },
    {
     "name": "stdout",
     "output_type": "stream",
     "text": [
      "SVD 수렴 문제 발생: SVD did not converge. 계속 진행합니다.\n"
     ]
    },
    {
     "name": "stderr",
     "output_type": "stream",
     "text": [
      "WARNING: Maximum number of iterations 32 reached. The mean may be inaccurate\n"
     ]
    },
    {
     "name": "stdout",
     "output_type": "stream",
     "text": [
      "SVD 수렴 문제 발생: SVD did not converge. 계속 진행합니다.\n"
     ]
    },
    {
     "name": "stderr",
     "output_type": "stream",
     "text": [
      "[I 2024-10-15 01:49:26,654] Trial 791 finished with value: 0.7009189640768588 and parameters: {'lr': 1.566820072476491e-05, 'weight_decay': 1.406900609424635e-06}. Best is trial 490 with value: 0.8166666666666667.\n",
      "WARNING: Maximum number of iterations 32 reached. The mean may be inaccurate\n"
     ]
    },
    {
     "name": "stdout",
     "output_type": "stream",
     "text": [
      "SVD 수렴 문제 발생: SVD did not converge. 계속 진행합니다.\n"
     ]
    },
    {
     "name": "stderr",
     "output_type": "stream",
     "text": [
      "[I 2024-10-15 01:54:04,101] Trial 792 finished with value: 0.6325757575757576 and parameters: {'lr': 1.243937864085045e-05, 'weight_decay': 1.0735802605017367e-06}. Best is trial 490 with value: 0.8166666666666667.\n",
      "WARNING: Maximum number of iterations 32 reached. The mean may be inaccurate\n"
     ]
    },
    {
     "name": "stdout",
     "output_type": "stream",
     "text": [
      "SVD 수렴 문제 발생: SVD did not converge. 계속 진행합니다.\n"
     ]
    },
    {
     "name": "stderr",
     "output_type": "stream",
     "text": [
      "[I 2024-10-15 01:58:41,328] Trial 793 finished with value: 0.6338709677419354 and parameters: {'lr': 9.276767195811007e-06, 'weight_decay': 1.0293946790781986e-06}. Best is trial 490 with value: 0.8166666666666667.\n",
      "WARNING: Maximum number of iterations 32 reached. The mean may be inaccurate\n"
     ]
    },
    {
     "name": "stdout",
     "output_type": "stream",
     "text": [
      "SVD 수렴 문제 발생: SVD did not converge. 계속 진행합니다.\n"
     ]
    },
    {
     "name": "stderr",
     "output_type": "stream",
     "text": [
      "[I 2024-10-15 02:03:19,061] Trial 794 finished with value: 0.6494925839188134 and parameters: {'lr': 1.217782705193527e-05, 'weight_decay': 1.1194578086710046e-06}. Best is trial 490 with value: 0.8166666666666667.\n",
      "WARNING: Maximum number of iterations 32 reached. The mean may be inaccurate\n"
     ]
    },
    {
     "name": "stdout",
     "output_type": "stream",
     "text": [
      "SVD 수렴 문제 발생: SVD did not converge. 계속 진행합니다.\n"
     ]
    },
    {
     "name": "stderr",
     "output_type": "stream",
     "text": [
      "[I 2024-10-15 02:07:56,431] Trial 795 finished with value: 0.7969924812030075 and parameters: {'lr': 1.4990762674266627e-05, 'weight_decay': 1.1915475118641445e-06}. Best is trial 490 with value: 0.8166666666666667.\n",
      "WARNING: Maximum number of iterations 32 reached. The mean may be inaccurate\n"
     ]
    },
    {
     "name": "stdout",
     "output_type": "stream",
     "text": [
      "SVD 수렴 문제 발생: SVD did not converge. 계속 진행합니다.\n"
     ]
    },
    {
     "name": "stderr",
     "output_type": "stream",
     "text": [
      "[I 2024-10-15 02:12:32,699] Trial 796 finished with value: 0.6838407494145198 and parameters: {'lr': 1.6532357829561717e-05, 'weight_decay': 1.3265624669484274e-06}. Best is trial 490 with value: 0.8166666666666667.\n",
      "WARNING: Maximum number of iterations 32 reached. The mean may be inaccurate\n"
     ]
    },
    {
     "name": "stdout",
     "output_type": "stream",
     "text": [
      "SVD 수렴 문제 발생: SVD did not converge. 계속 진행합니다.\n"
     ]
    },
    {
     "name": "stderr",
     "output_type": "stream",
     "text": [
      "[I 2024-10-15 02:17:09,966] Trial 797 finished with value: 0.6741935483870968 and parameters: {'lr': 1.4694301772932127e-05, 'weight_decay': 1.2043498175363457e-06}. Best is trial 490 with value: 0.8166666666666667.\n",
      "WARNING: Maximum number of iterations 32 reached. The mean may be inaccurate\n"
     ]
    },
    {
     "name": "stdout",
     "output_type": "stream",
     "text": [
      "SVD 수렴 문제 발생: SVD did not converge. 계속 진행합니다.\n"
     ]
    },
    {
     "name": "stderr",
     "output_type": "stream",
     "text": [
      "[I 2024-10-15 02:21:46,624] Trial 798 finished with value: 0.6314516129032258 and parameters: {'lr': 1.729897459124461e-05, 'weight_decay': 1.0246177143007727e-06}. Best is trial 490 with value: 0.8166666666666667.\n",
      "WARNING: Maximum number of iterations 32 reached. The mean may be inaccurate\n"
     ]
    },
    {
     "name": "stdout",
     "output_type": "stream",
     "text": [
      "SVD 수렴 문제 발생: SVD did not converge. 계속 진행합니다.\n"
     ]
    },
    {
     "name": "stderr",
     "output_type": "stream",
     "text": [
      "[I 2024-10-15 02:26:23,552] Trial 799 finished with value: 0.6643247462919594 and parameters: {'lr': 1.4239754274292151e-05, 'weight_decay': 1.0053572100099208e-06}. Best is trial 490 with value: 0.8166666666666667.\n",
      "WARNING: Maximum number of iterations 32 reached. The mean may be inaccurate\n"
     ]
    },
    {
     "name": "stdout",
     "output_type": "stream",
     "text": [
      "SVD 수렴 문제 발생: SVD did not converge. 계속 진행합니다.\n"
     ]
    },
    {
     "name": "stderr",
     "output_type": "stream",
     "text": [
      "[I 2024-10-15 02:31:00,538] Trial 800 finished with value: 0.692741935483871 and parameters: {'lr': 1.779825805622399e-05, 'weight_decay': 1.3045636044631041e-06}. Best is trial 490 with value: 0.8166666666666667.\n",
      "WARNING: Maximum number of iterations 32 reached. The mean may be inaccurate\n"
     ]
    },
    {
     "name": "stdout",
     "output_type": "stream",
     "text": [
      "SVD 수렴 문제 발생: SVD did not converge. 계속 진행합니다.\n"
     ]
    },
    {
     "name": "stderr",
     "output_type": "stream",
     "text": [
      "[I 2024-10-15 02:35:36,617] Trial 801 finished with value: 0.6037878787878788 and parameters: {'lr': 3.3416628114626918e-06, 'weight_decay': 1.2542552493539325e-06}. Best is trial 490 with value: 0.8166666666666667.\n",
      "WARNING: Maximum number of iterations 32 reached. The mean may be inaccurate\n",
      "[I 2024-10-15 02:40:15,453] Trial 802 finished with value: 0.6693548387096774 and parameters: {'lr': 1.352068126380916e-05, 'weight_decay': 1.2023937097179316e-06}. Best is trial 490 with value: 0.8166666666666667.\n"
     ]
    },
    {
     "name": "stdout",
     "output_type": "stream",
     "text": [
      "SVD 수렴 문제 발생: SVD did not converge. 계속 진행합니다.\n"
     ]
    },
    {
     "name": "stderr",
     "output_type": "stream",
     "text": [
      "WARNING: Maximum number of iterations 32 reached. The mean may be inaccurate\n"
     ]
    },
    {
     "name": "stdout",
     "output_type": "stream",
     "text": [
      "SVD 수렴 문제 발생: SVD did not converge. 계속 진행합니다.\n"
     ]
    },
    {
     "name": "stderr",
     "output_type": "stream",
     "text": [
      "[I 2024-10-15 02:44:52,095] Trial 803 finished with value: 0.6190476190476191 and parameters: {'lr': 1.7985522960550933e-05, 'weight_decay': 1.4860920376060693e-06}. Best is trial 490 with value: 0.8166666666666667.\n",
      "WARNING: Maximum number of iterations 32 reached. The mean may be inaccurate\n"
     ]
    },
    {
     "name": "stdout",
     "output_type": "stream",
     "text": [
      "SVD 수렴 문제 발생: SVD did not converge. 계속 진행합니다.\n"
     ]
    },
    {
     "name": "stderr",
     "output_type": "stream",
     "text": [
      "[I 2024-10-15 02:49:30,472] Trial 804 finished with value: 0.6782258064516129 and parameters: {'lr': 1.9811311970042387e-05, 'weight_decay': 1.348744645693312e-06}. Best is trial 490 with value: 0.8166666666666667.\n",
      "WARNING: Maximum number of iterations 32 reached. The mean may be inaccurate\n"
     ]
    },
    {
     "name": "stdout",
     "output_type": "stream",
     "text": [
      "SVD 수렴 문제 발생: SVD did not converge. 계속 진행합니다.\n"
     ]
    },
    {
     "name": "stderr",
     "output_type": "stream",
     "text": [
      "[I 2024-10-15 02:54:08,794] Trial 805 finished with value: 0.6742424242424243 and parameters: {'lr': 1.508275070448787e-05, 'weight_decay': 1.1941039261590107e-06}. Best is trial 490 with value: 0.8166666666666667.\n",
      "WARNING: Maximum number of iterations 32 reached. The mean may be inaccurate\n",
      "[I 2024-10-15 02:58:48,198] Trial 806 finished with value: 0.7451612903225806 and parameters: {'lr': 2.0685563305916916e-05, 'weight_decay': 1.503695253495115e-06}. Best is trial 490 with value: 0.8166666666666667.\n"
     ]
    },
    {
     "name": "stdout",
     "output_type": "stream",
     "text": [
      "SVD 수렴 문제 발생: SVD did not converge. 계속 진행합니다.\n"
     ]
    },
    {
     "name": "stderr",
     "output_type": "stream",
     "text": [
      "WARNING: Maximum number of iterations 32 reached. The mean may be inaccurate\n"
     ]
    },
    {
     "name": "stdout",
     "output_type": "stream",
     "text": [
      "SVD 수렴 문제 발생: SVD did not converge. 계속 진행합니다.\n"
     ]
    },
    {
     "name": "stderr",
     "output_type": "stream",
     "text": [
      "[I 2024-10-15 03:03:25,322] Trial 807 finished with value: 0.6185483870967742 and parameters: {'lr': 1.332546039379379e-05, 'weight_decay': 1.2815310450439644e-06}. Best is trial 490 with value: 0.8166666666666667.\n",
      "WARNING: Maximum number of iterations 32 reached. The mean may be inaccurate\n"
     ]
    },
    {
     "name": "stdout",
     "output_type": "stream",
     "text": [
      "SVD 수렴 문제 발생: SVD did not converge. 계속 진행합니다.\n"
     ]
    },
    {
     "name": "stderr",
     "output_type": "stream",
     "text": [
      "[I 2024-10-15 03:08:02,932] Trial 808 finished with value: 0.7477272727272727 and parameters: {'lr': 4.303921428203831e-05, 'weight_decay': 1.0100988600821954e-06}. Best is trial 490 with value: 0.8166666666666667.\n",
      "WARNING: Maximum number of iterations 32 reached. The mean may be inaccurate\n"
     ]
    },
    {
     "name": "stdout",
     "output_type": "stream",
     "text": [
      "SVD 수렴 문제 발생: SVD did not converge. 계속 진행합니다.\n"
     ]
    },
    {
     "name": "stderr",
     "output_type": "stream",
     "text": [
      "[I 2024-10-15 03:12:39,573] Trial 809 finished with value: 0.7252146760343481 and parameters: {'lr': 1.6022003537998585e-05, 'weight_decay': 1.6211974816510379e-06}. Best is trial 490 with value: 0.8166666666666667.\n",
      "WARNING: Maximum number of iterations 32 reached. The mean may be inaccurate\n"
     ]
    },
    {
     "name": "stdout",
     "output_type": "stream",
     "text": [
      "SVD 수렴 문제 발생: SVD did not converge. 계속 진행합니다.\n"
     ]
    },
    {
     "name": "stderr",
     "output_type": "stream",
     "text": [
      "[I 2024-10-15 03:17:16,559] Trial 810 finished with value: 0.6927044952100221 and parameters: {'lr': 1.1448792645565096e-05, 'weight_decay': 1.722365683588648e-06}. Best is trial 490 with value: 0.8166666666666667.\n",
      "WARNING: Maximum number of iterations 32 reached. The mean may be inaccurate\n"
     ]
    },
    {
     "name": "stdout",
     "output_type": "stream",
     "text": [
      "SVD 수렴 문제 발생: SVD did not converge. 계속 진행합니다.\n"
     ]
    },
    {
     "name": "stderr",
     "output_type": "stream",
     "text": [
      "[I 2024-10-15 03:21:52,761] Trial 811 finished with value: 0.711943793911007 and parameters: {'lr': 2.3064797369744472e-05, 'weight_decay': 1.0122636565446368e-06}. Best is trial 490 with value: 0.8166666666666667.\n",
      "WARNING: Maximum number of iterations 32 reached. The mean may be inaccurate\n"
     ]
    },
    {
     "name": "stdout",
     "output_type": "stream",
     "text": [
      "SVD 수렴 문제 발생: SVD did not converge. 계속 진행합니다.\n"
     ]
    },
    {
     "name": "stderr",
     "output_type": "stream",
     "text": [
      "[I 2024-10-15 03:26:29,048] Trial 812 finished with value: 0.6035372144436256 and parameters: {'lr': 1.656844395814288e-05, 'weight_decay': 1.244575061369642e-06}. Best is trial 490 with value: 0.8166666666666667.\n",
      "WARNING: Maximum number of iterations 32 reached. The mean may be inaccurate\n"
     ]
    },
    {
     "name": "stdout",
     "output_type": "stream",
     "text": [
      "SVD 수렴 문제 발생: SVD did not converge. 계속 진행합니다.\n"
     ]
    },
    {
     "name": "stderr",
     "output_type": "stream",
     "text": [
      "[I 2024-10-15 03:31:05,069] Trial 813 finished with value: 0.6172131147540983 and parameters: {'lr': 2.5554426546154523e-05, 'weight_decay': 1.4953020778356214e-06}. Best is trial 490 with value: 0.8166666666666667.\n",
      "WARNING: Maximum number of iterations 32 reached. The mean may be inaccurate\n"
     ]
    },
    {
     "name": "stdout",
     "output_type": "stream",
     "text": [
      "SVD 수렴 문제 발생: SVD did not converge. 계속 진행합니다.\n"
     ]
    },
    {
     "name": "stderr",
     "output_type": "stream",
     "text": [
      "[I 2024-10-15 03:35:39,978] Trial 814 finished with value: 0.6265151515151515 and parameters: {'lr': 1.3170879947684717e-05, 'weight_decay': 1.2571611648599773e-06}. Best is trial 490 with value: 0.8166666666666667.\n",
      "WARNING: Maximum number of iterations 32 reached. The mean may be inaccurate\n"
     ]
    },
    {
     "name": "stdout",
     "output_type": "stream",
     "text": [
      "SVD 수렴 문제 발생: SVD did not converge. 계속 진행합니다.\n"
     ]
    },
    {
     "name": "stderr",
     "output_type": "stream",
     "text": [
      "[I 2024-10-15 03:40:16,438] Trial 815 finished with value: 0.7023809523809524 and parameters: {'lr': 4.758961290267598e-05, 'weight_decay': 7.4523688484772875e-06}. Best is trial 490 with value: 0.8166666666666667.\n",
      "WARNING: Maximum number of iterations 32 reached. The mean may be inaccurate\n"
     ]
    },
    {
     "name": "stdout",
     "output_type": "stream",
     "text": [
      "SVD 수렴 문제 발생: SVD did not converge. 계속 진행합니다.\n"
     ]
    },
    {
     "name": "stderr",
     "output_type": "stream",
     "text": [
      "[I 2024-10-15 03:44:51,798] Trial 816 finished with value: 0.5628415300546448 and parameters: {'lr': 1.9898042627715802e-05, 'weight_decay': 3.565757647972462e-05}. Best is trial 490 with value: 0.8166666666666667.\n",
      "WARNING: Maximum number of iterations 32 reached. The mean may be inaccurate\n"
     ]
    },
    {
     "name": "stdout",
     "output_type": "stream",
     "text": [
      "SVD 수렴 문제 발생: SVD did not converge. 계속 진행합니다.\n"
     ]
    },
    {
     "name": "stderr",
     "output_type": "stream",
     "text": [
      "[I 2024-10-15 03:49:28,940] Trial 817 finished with value: 0.682279469164715 and parameters: {'lr': 5.9290773104046516e-05, 'weight_decay': 1.7943541361941247e-06}. Best is trial 490 with value: 0.8166666666666667.\n",
      "WARNING: Maximum number of iterations 32 reached. The mean may be inaccurate\n"
     ]
    },
    {
     "name": "stdout",
     "output_type": "stream",
     "text": [
      "SVD 수렴 문제 발생: SVD did not converge. 계속 진행합니다.\n"
     ]
    },
    {
     "name": "stderr",
     "output_type": "stream",
     "text": [
      "[I 2024-10-15 03:54:04,447] Trial 818 finished with value: 0.6502732240437158 and parameters: {'lr': 1.5740234336229564e-05, 'weight_decay': 1.4602740071659044e-06}. Best is trial 490 with value: 0.8166666666666667.\n",
      "WARNING: Maximum number of iterations 32 reached. The mean may be inaccurate\n"
     ]
    },
    {
     "name": "stdout",
     "output_type": "stream",
     "text": [
      "SVD 수렴 문제 발생: SVD did not converge. 계속 진행합니다.\n"
     ]
    },
    {
     "name": "stderr",
     "output_type": "stream",
     "text": [
      "[I 2024-10-15 03:58:40,283] Trial 819 finished with value: 0.5701078582434514 and parameters: {'lr': 3.719457635812694e-05, 'weight_decay': 1.009873196103808e-06}. Best is trial 490 with value: 0.8166666666666667.\n",
      "WARNING: Maximum number of iterations 32 reached. The mean may be inaccurate\n"
     ]
    },
    {
     "name": "stdout",
     "output_type": "stream",
     "text": [
      "SVD 수렴 문제 발생: SVD did not converge. 계속 진행합니다.\n"
     ]
    },
    {
     "name": "stderr",
     "output_type": "stream",
     "text": [
      "[I 2024-10-15 04:03:15,782] Trial 820 finished with value: 0.5741935483870968 and parameters: {'lr': 2.749518877638481e-06, 'weight_decay': 6.48444196459468e-06}. Best is trial 490 with value: 0.8166666666666667.\n",
      "WARNING: Maximum number of iterations 32 reached. The mean may be inaccurate\n"
     ]
    },
    {
     "name": "stdout",
     "output_type": "stream",
     "text": [
      "SVD 수렴 문제 발생: SVD did not converge. 계속 진행합니다.\n"
     ]
    },
    {
     "name": "stderr",
     "output_type": "stream",
     "text": [
      "[I 2024-10-15 04:07:52,109] Trial 821 finished with value: 0.6833333333333333 and parameters: {'lr': 2.1409181921759284e-05, 'weight_decay': 4.265851681036084e-05}. Best is trial 490 with value: 0.8166666666666667.\n",
      "WARNING: Maximum number of iterations 32 reached. The mean may be inaccurate\n"
     ]
    },
    {
     "name": "stdout",
     "output_type": "stream",
     "text": [
      "SVD 수렴 문제 발생: SVD did not converge. 계속 진행합니다.\n"
     ]
    },
    {
     "name": "stderr",
     "output_type": "stream",
     "text": [
      "[I 2024-10-15 04:12:28,612] Trial 822 finished with value: 0.6766129032258064 and parameters: {'lr': 1.768511019169934e-05, 'weight_decay': 1.2670613115292146e-05}. Best is trial 490 with value: 0.8166666666666667.\n",
      "WARNING: Maximum number of iterations 32 reached. The mean may be inaccurate\n"
     ]
    },
    {
     "name": "stdout",
     "output_type": "stream",
     "text": [
      "SVD 수렴 문제 발생: SVD did not converge. 계속 진행합니다.\n"
     ]
    },
    {
     "name": "stderr",
     "output_type": "stream",
     "text": [
      "[I 2024-10-15 04:17:05,004] Trial 823 finished with value: 0.7072599531615924 and parameters: {'lr': 2.8245114397041348e-05, 'weight_decay': 8.772046474875345e-06}. Best is trial 490 with value: 0.8166666666666667.\n",
      "WARNING: Maximum number of iterations 32 reached. The mean may be inaccurate\n"
     ]
    },
    {
     "name": "stdout",
     "output_type": "stream",
     "text": [
      "SVD 수렴 문제 발생: SVD did not converge. 계속 진행합니다.\n"
     ]
    },
    {
     "name": "stderr",
     "output_type": "stream",
     "text": [
      "[I 2024-10-15 04:21:43,012] Trial 824 finished with value: 0.6619828259172521 and parameters: {'lr': 1.2412306684050741e-05, 'weight_decay': 1.2294477950056987e-06}. Best is trial 490 with value: 0.8166666666666667.\n",
      "WARNING: Maximum number of iterations 32 reached. The mean may be inaccurate\n"
     ]
    },
    {
     "name": "stdout",
     "output_type": "stream",
     "text": [
      "SVD 수렴 문제 발생: SVD did not converge. 계속 진행합니다.\n"
     ]
    },
    {
     "name": "stderr",
     "output_type": "stream",
     "text": [
      "[I 2024-10-15 04:26:20,848] Trial 825 finished with value: 0.7155737704918033 and parameters: {'lr': 1.1018765052609827e-05, 'weight_decay': 5.724589491472732e-06}. Best is trial 490 with value: 0.8166666666666667.\n",
      "WARNING: Maximum number of iterations 32 reached. The mean may be inaccurate\n"
     ]
    },
    {
     "name": "stdout",
     "output_type": "stream",
     "text": [
      "SVD 수렴 문제 발생: SVD did not converge. 계속 진행합니다.\n"
     ]
    },
    {
     "name": "stderr",
     "output_type": "stream",
     "text": [
      "[I 2024-10-15 04:30:58,104] Trial 826 finished with value: 0.6556240369799692 and parameters: {'lr': 6.90209989254873e-05, 'weight_decay': 1.8773886918809456e-06}. Best is trial 490 with value: 0.8166666666666667.\n",
      "WARNING: Maximum number of iterations 32 reached. The mean may be inaccurate\n"
     ]
    },
    {
     "name": "stdout",
     "output_type": "stream",
     "text": [
      "SVD 수렴 문제 발생: SVD did not converge. 계속 진행합니다.\n"
     ]
    },
    {
     "name": "stderr",
     "output_type": "stream",
     "text": [
      "[I 2024-10-15 04:35:34,583] Trial 827 finished with value: 0.734090909090909 and parameters: {'lr': 1.4525788917425705e-05, 'weight_decay': 9.941786769706827e-06}. Best is trial 490 with value: 0.8166666666666667.\n",
      "WARNING: Maximum number of iterations 32 reached. The mean may be inaccurate\n"
     ]
    },
    {
     "name": "stdout",
     "output_type": "stream",
     "text": [
      "SVD 수렴 문제 발생: SVD did not converge. 계속 진행합니다.\n"
     ]
    },
    {
     "name": "stderr",
     "output_type": "stream",
     "text": [
      "[I 2024-10-15 04:40:12,093] Trial 828 finished with value: 0.7265151515151514 and parameters: {'lr': 2.031962056069611e-05, 'weight_decay': 1.1913817892542196e-06}. Best is trial 490 with value: 0.8166666666666667.\n",
      "WARNING: Maximum number of iterations 32 reached. The mean may be inaccurate\n"
     ]
    },
    {
     "name": "stdout",
     "output_type": "stream",
     "text": [
      "SVD 수렴 문제 발생: SVD did not converge. 계속 진행합니다.\n"
     ]
    },
    {
     "name": "stderr",
     "output_type": "stream",
     "text": [
      "[I 2024-10-15 04:44:49,187] Trial 829 finished with value: 0.6348484848484849 and parameters: {'lr': 3.192714257561623e-05, 'weight_decay': 5.2441292736362235e-06}. Best is trial 490 with value: 0.8166666666666667.\n",
      "WARNING: Maximum number of iterations 32 reached. The mean may be inaccurate\n"
     ]
    },
    {
     "name": "stdout",
     "output_type": "stream",
     "text": [
      "SVD 수렴 문제 발생: SVD did not converge. 계속 진행합니다.\n"
     ]
    },
    {
     "name": "stderr",
     "output_type": "stream",
     "text": [
      "[I 2024-10-15 04:49:26,023] Trial 830 finished with value: 0.6416861826697892 and parameters: {'lr': 2.393770946520536e-05, 'weight_decay': 1.5406388281038491e-06}. Best is trial 490 with value: 0.8166666666666667.\n",
      "WARNING: Maximum number of iterations 32 reached. The mean may be inaccurate\n"
     ]
    },
    {
     "name": "stdout",
     "output_type": "stream",
     "text": [
      "SVD 수렴 문제 발생: SVD did not converge. 계속 진행합니다.\n"
     ]
    },
    {
     "name": "stderr",
     "output_type": "stream",
     "text": [
      "[I 2024-10-15 04:54:03,988] Trial 831 finished with value: 0.624512099921936 and parameters: {'lr': 4.636952181803637e-05, 'weight_decay': 7.849053757918073e-05}. Best is trial 490 with value: 0.8166666666666667.\n",
      "WARNING: Maximum number of iterations 32 reached. The mean may be inaccurate\n"
     ]
    },
    {
     "name": "stdout",
     "output_type": "stream",
     "text": [
      "SVD 수렴 문제 발생: SVD did not converge. 계속 진행합니다.\n"
     ]
    },
    {
     "name": "stderr",
     "output_type": "stream",
     "text": [
      "[I 2024-10-15 04:58:39,709] Trial 832 finished with value: 0.6028002947678703 and parameters: {'lr': 1.7550536781661183e-05, 'weight_decay': 7.110837893616743e-06}. Best is trial 490 with value: 0.8166666666666667.\n",
      "WARNING: Maximum number of iterations 32 reached. The mean may be inaccurate\n",
      "[I 2024-10-15 05:03:16,237] Trial 833 finished with value: 0.5550351288056206 and parameters: {'lr': 1.4723969878547239e-05, 'weight_decay': 4.7038738573899675e-06}. Best is trial 490 with value: 0.8166666666666667.\n"
     ]
    },
    {
     "name": "stdout",
     "output_type": "stream",
     "text": [
      "SVD 수렴 문제 발생: SVD did not converge. 계속 진행합니다.\n"
     ]
    },
    {
     "name": "stderr",
     "output_type": "stream",
     "text": [
      "WARNING: Maximum number of iterations 32 reached. The mean may be inaccurate\n"
     ]
    },
    {
     "name": "stdout",
     "output_type": "stream",
     "text": [
      "SVD 수렴 문제 발생: SVD did not converge. 계속 진행합니다.\n"
     ]
    },
    {
     "name": "stderr",
     "output_type": "stream",
     "text": [
      "[I 2024-10-15 05:07:52,279] Trial 834 finished with value: 0.7192336035372144 and parameters: {'lr': 3.770343302422955e-05, 'weight_decay': 5.1247929513709186e-05}. Best is trial 490 with value: 0.8166666666666667.\n",
      "WARNING: Maximum number of iterations 32 reached. The mean may be inaccurate\n"
     ]
    },
    {
     "name": "stdout",
     "output_type": "stream",
     "text": [
      "SVD 수렴 문제 발생: SVD did not converge. 계속 진행합니다.\n"
     ]
    },
    {
     "name": "stderr",
     "output_type": "stream",
     "text": [
      "[I 2024-10-15 05:12:29,320] Trial 835 finished with value: 0.5909445745511319 and parameters: {'lr': 2.8275612498376097e-05, 'weight_decay': 1.4343396450896621e-06}. Best is trial 490 with value: 0.8166666666666667.\n",
      "WARNING: Maximum number of iterations 32 reached. The mean may be inaccurate\n"
     ]
    },
    {
     "name": "stdout",
     "output_type": "stream",
     "text": [
      "SVD 수렴 문제 발생: SVD did not converge. 계속 진행합니다.\n"
     ]
    },
    {
     "name": "stderr",
     "output_type": "stream",
     "text": [
      "[I 2024-10-15 05:17:05,220] Trial 836 finished with value: 0.5245901639344263 and parameters: {'lr': 0.0016940820122227274, 'weight_decay': 6.031595020373833e-06}. Best is trial 490 with value: 0.8166666666666667.\n",
      "WARNING: Maximum number of iterations 32 reached. The mean may be inaccurate\n"
     ]
    },
    {
     "name": "stdout",
     "output_type": "stream",
     "text": [
      "SVD 수렴 문제 발생: SVD did not converge. 계속 진행합니다.\n"
     ]
    },
    {
     "name": "stderr",
     "output_type": "stream",
     "text": [
      "[I 2024-10-15 05:21:43,517] Trial 837 finished with value: 0.646774193548387 and parameters: {'lr': 5.5585683617244956e-05, 'weight_decay': 7.3913924075369115e-06}. Best is trial 490 with value: 0.8166666666666667.\n",
      "WARNING: Maximum number of iterations 32 reached. The mean may be inaccurate\n"
     ]
    },
    {
     "name": "stdout",
     "output_type": "stream",
     "text": [
      "SVD 수렴 문제 발생: SVD did not converge. 계속 진행합니다.\n"
     ]
    },
    {
     "name": "stderr",
     "output_type": "stream",
     "text": [
      "[I 2024-10-15 05:26:18,855] Trial 838 finished with value: 0.6290322580645161 and parameters: {'lr': 0.0013767224165930503, 'weight_decay': 1.9030518425801623e-06}. Best is trial 490 with value: 0.8166666666666667.\n",
      "WARNING: Maximum number of iterations 32 reached. The mean may be inaccurate\n"
     ]
    },
    {
     "name": "stdout",
     "output_type": "stream",
     "text": [
      "SVD 수렴 문제 발생: SVD did not converge. 계속 진행합니다.\n"
     ]
    },
    {
     "name": "stderr",
     "output_type": "stream",
     "text": [
      "[I 2024-10-15 05:30:57,165] Trial 839 finished with value: 0.6390977443609023 and parameters: {'lr': 1.925763231342296e-05, 'weight_decay': 3.8260852994398225e-06}. Best is trial 490 with value: 0.8166666666666667.\n",
      "WARNING: Maximum number of iterations 32 reached. The mean may be inaccurate\n"
     ]
    },
    {
     "name": "stdout",
     "output_type": "stream",
     "text": [
      "SVD 수렴 문제 발생: SVD did not converge. 계속 진행합니다.\n"
     ]
    },
    {
     "name": "stderr",
     "output_type": "stream",
     "text": [
      "[I 2024-10-15 05:35:35,464] Trial 840 finished with value: 0.6741935483870968 and parameters: {'lr': 1.148277133455585e-05, 'weight_decay': 4.725586978163314e-06}. Best is trial 490 with value: 0.8166666666666667.\n",
      "WARNING: Maximum number of iterations 32 reached. The mean may be inaccurate\n"
     ]
    },
    {
     "name": "stdout",
     "output_type": "stream",
     "text": [
      "SVD 수렴 문제 발생: SVD did not converge. 계속 진행합니다.\n"
     ]
    },
    {
     "name": "stderr",
     "output_type": "stream",
     "text": [
      "[I 2024-10-15 05:40:14,131] Trial 841 finished with value: 0.5637096774193548 and parameters: {'lr': 2.36811209229605e-05, 'weight_decay': 1.175506336649262e-06}. Best is trial 490 with value: 0.8166666666666667.\n",
      "WARNING: Maximum number of iterations 32 reached. The mean may be inaccurate\n",
      "[I 2024-10-15 05:44:53,587] Trial 842 finished with value: 0.6204545454545455 and parameters: {'lr': 1.3441586970129542e-05, 'weight_decay': 1.3583987574829726e-05}. Best is trial 490 with value: 0.8166666666666667.\n"
     ]
    },
    {
     "name": "stdout",
     "output_type": "stream",
     "text": [
      "SVD 수렴 문제 발생: SVD did not converge. 계속 진행합니다.\n"
     ]
    },
    {
     "name": "stderr",
     "output_type": "stream",
     "text": [
      "WARNING: Maximum number of iterations 32 reached. The mean may be inaccurate\n"
     ]
    },
    {
     "name": "stdout",
     "output_type": "stream",
     "text": [
      "SVD 수렴 문제 발생: SVD did not converge. 계속 진행합니다.\n"
     ]
    },
    {
     "name": "stderr",
     "output_type": "stream",
     "text": [
      "[I 2024-10-15 05:49:30,691] Trial 843 finished with value: 0.6869633099141296 and parameters: {'lr': 1.6297799661149547e-05, 'weight_decay': 1.6517840439282393e-06}. Best is trial 490 with value: 0.8166666666666667.\n",
      "WARNING: Maximum number of iterations 32 reached. The mean may be inaccurate\n"
     ]
    },
    {
     "name": "stdout",
     "output_type": "stream",
     "text": [
      "SVD 수렴 문제 발생: SVD did not converge. 계속 진행합니다.\n"
     ]
    },
    {
     "name": "stderr",
     "output_type": "stream",
     "text": [
      "[I 2024-10-15 05:54:07,794] Trial 844 finished with value: 0.6252927400468384 and parameters: {'lr': 3.932623734802138e-05, 'weight_decay': 5.529702028944245e-06}. Best is trial 490 with value: 0.8166666666666667.\n",
      "WARNING: Maximum number of iterations 32 reached. The mean may be inaccurate\n"
     ]
    },
    {
     "name": "stdout",
     "output_type": "stream",
     "text": [
      "SVD 수렴 문제 발생: SVD did not converge. 계속 진행합니다.\n"
     ]
    },
    {
     "name": "stderr",
     "output_type": "stream",
     "text": [
      "[I 2024-10-15 05:58:45,155] Trial 845 finished with value: 0.585114222549742 and parameters: {'lr': 2.0207311619704655e-05, 'weight_decay': 1.017682508342562e-06}. Best is trial 490 with value: 0.8166666666666667.\n",
      "WARNING: Maximum number of iterations 32 reached. The mean may be inaccurate\n"
     ]
    },
    {
     "name": "stdout",
     "output_type": "stream",
     "text": [
      "SVD 수렴 문제 발생: SVD did not converge. 계속 진행합니다.\n"
     ]
    },
    {
     "name": "stderr",
     "output_type": "stream",
     "text": [
      "[I 2024-10-15 06:03:23,710] Trial 846 finished with value: 0.5349206349206349 and parameters: {'lr': 2.6022280660059527e-05, 'weight_decay': 6.446579905981463e-06}. Best is trial 490 with value: 0.8166666666666667.\n",
      "WARNING: Maximum number of iterations 32 reached. The mean may be inaccurate\n"
     ]
    },
    {
     "name": "stdout",
     "output_type": "stream",
     "text": [
      "SVD 수렴 문제 발생: SVD did not converge. 계속 진행합니다.\n"
     ]
    },
    {
     "name": "stderr",
     "output_type": "stream",
     "text": [
      "[I 2024-10-15 06:08:01,118] Trial 847 finished with value: 0.7025898078529658 and parameters: {'lr': 1.0122440577223832e-05, 'weight_decay': 8.311025725669705e-06}. Best is trial 490 with value: 0.8166666666666667.\n",
      "WARNING: Maximum number of iterations 32 reached. The mean may be inaccurate\n"
     ]
    },
    {
     "name": "stdout",
     "output_type": "stream",
     "text": [
      "SVD 수렴 문제 발생: SVD did not converge. 계속 진행합니다.\n"
     ]
    },
    {
     "name": "stderr",
     "output_type": "stream",
     "text": [
      "[I 2024-10-15 06:12:34,919] Trial 848 finished with value: 0.6258064516129032 and parameters: {'lr': 0.002239533653692059, 'weight_decay': 0.0032864690474661284}. Best is trial 490 with value: 0.8166666666666667.\n",
      "WARNING: Maximum number of iterations 32 reached. The mean may be inaccurate\n"
     ]
    },
    {
     "name": "stdout",
     "output_type": "stream",
     "text": [
      "SVD 수렴 문제 발생: SVD did not converge. 계속 진행합니다.\n"
     ]
    },
    {
     "name": "stderr",
     "output_type": "stream",
     "text": [
      "[I 2024-10-15 06:17:12,009] Trial 849 finished with value: 0.6580645161290323 and parameters: {'lr': 1.6190085692028054e-05, 'weight_decay': 1.0012190774528908e-06}. Best is trial 490 with value: 0.8166666666666667.\n",
      "WARNING: Maximum number of iterations 32 reached. The mean may be inaccurate\n"
     ]
    },
    {
     "name": "stdout",
     "output_type": "stream",
     "text": [
      "SVD 수렴 문제 발생: SVD did not converge. 계속 진행합니다.\n"
     ]
    },
    {
     "name": "stderr",
     "output_type": "stream",
     "text": [
      "[I 2024-10-15 06:21:49,287] Trial 850 finished with value: 0.6518345042935206 and parameters: {'lr': 3.3391785994899265e-05, 'weight_decay': 4.157277355155954e-06}. Best is trial 490 with value: 0.8166666666666667.\n",
      "WARNING: Maximum number of iterations 32 reached. The mean may be inaccurate\n"
     ]
    },
    {
     "name": "stdout",
     "output_type": "stream",
     "text": [
      "SVD 수렴 문제 발생: SVD did not converge. 계속 진행합니다.\n"
     ]
    },
    {
     "name": "stderr",
     "output_type": "stream",
     "text": [
      "[I 2024-10-15 06:26:26,128] Trial 851 finished with value: 0.5977272727272727 and parameters: {'lr': 8.544129805227937e-05, 'weight_decay': 1.4341053481859742e-06}. Best is trial 490 with value: 0.8166666666666667.\n",
      "WARNING: Maximum number of iterations 32 reached. The mean may be inaccurate\n"
     ]
    },
    {
     "name": "stdout",
     "output_type": "stream",
     "text": [
      "SVD 수렴 문제 발생: SVD did not converge. 계속 진행합니다.\n"
     ]
    },
    {
     "name": "stderr",
     "output_type": "stream",
     "text": [
      "[I 2024-10-15 06:31:04,045] Trial 852 finished with value: 0.5089773614363778 and parameters: {'lr': 5.2539168264107176e-05, 'weight_decay': 3.1976856008184454e-05}. Best is trial 490 with value: 0.8166666666666667.\n",
      "WARNING: Maximum number of iterations 32 reached. The mean may be inaccurate\n"
     ]
    },
    {
     "name": "stdout",
     "output_type": "stream",
     "text": [
      "SVD 수렴 문제 발생: SVD did not converge. 계속 진행합니다.\n"
     ]
    },
    {
     "name": "stderr",
     "output_type": "stream",
     "text": [
      "[I 2024-10-15 06:35:39,949] Trial 853 finished with value: 0.6557377049180327 and parameters: {'lr': 3.528972547494943e-06, 'weight_decay': 4.891835494686557e-06}. Best is trial 490 with value: 0.8166666666666667.\n",
      "WARNING: Maximum number of iterations 32 reached. The mean may be inaccurate\n"
     ]
    },
    {
     "name": "stdout",
     "output_type": "stream",
     "text": [
      "SVD 수렴 문제 발생: SVD did not converge. 계속 진행합니다.\n"
     ]
    },
    {
     "name": "stderr",
     "output_type": "stream",
     "text": [
      "[I 2024-10-15 06:40:17,917] Trial 854 finished with value: 0.693939393939394 and parameters: {'lr': 2.1794521549562312e-05, 'weight_decay': 3.463141036077627e-06}. Best is trial 490 with value: 0.8166666666666667.\n",
      "WARNING: Maximum number of iterations 32 reached. The mean may be inaccurate\n"
     ]
    },
    {
     "name": "stdout",
     "output_type": "stream",
     "text": [
      "SVD 수렴 문제 발생: SVD did not converge. 계속 진행합니다.\n"
     ]
    },
    {
     "name": "stderr",
     "output_type": "stream",
     "text": [
      "[I 2024-10-15 06:44:56,315] Trial 855 finished with value: 0.6196721311475409 and parameters: {'lr': 1.2811544226582043e-05, 'weight_decay': 6.205133290019106e-06}. Best is trial 490 with value: 0.8166666666666667.\n",
      "WARNING: Maximum number of iterations 32 reached. The mean may be inaccurate\n"
     ]
    },
    {
     "name": "stdout",
     "output_type": "stream",
     "text": [
      "SVD 수렴 문제 발생: SVD did not converge. 계속 진행합니다.\n"
     ]
    },
    {
     "name": "stderr",
     "output_type": "stream",
     "text": [
      "[I 2024-10-15 06:49:33,842] Trial 856 finished with value: 0.580015612802498 and parameters: {'lr': 1.84024731682732e-05, 'weight_decay': 1.2410400717109277e-06}. Best is trial 490 with value: 0.8166666666666667.\n",
      "WARNING: Maximum number of iterations 32 reached. The mean may be inaccurate\n"
     ]
    },
    {
     "name": "stdout",
     "output_type": "stream",
     "text": [
      "SVD 수렴 문제 발생: SVD did not converge. 계속 진행합니다.\n"
     ]
    },
    {
     "name": "stderr",
     "output_type": "stream",
     "text": [
      "[I 2024-10-15 06:54:12,468] Trial 857 finished with value: 0.6168017686072218 and parameters: {'lr': 1.3983420983361518e-05, 'weight_decay': 2.0634781952014427e-06}. Best is trial 490 with value: 0.8166666666666667.\n",
      "WARNING: Maximum number of iterations 32 reached. The mean may be inaccurate\n"
     ]
    },
    {
     "name": "stdout",
     "output_type": "stream",
     "text": [
      "SVD 수렴 문제 발생: SVD did not converge. 계속 진행합니다.\n"
     ]
    },
    {
     "name": "stderr",
     "output_type": "stream",
     "text": [
      "[I 2024-10-15 06:58:49,727] Trial 858 finished with value: 0.6432474629195941 and parameters: {'lr': 4.424684640199818e-05, 'weight_decay': 1.1034400719709705e-05}. Best is trial 490 with value: 0.8166666666666667.\n",
      "WARNING: Maximum number of iterations 32 reached. The mean may be inaccurate\n"
     ]
    },
    {
     "name": "stdout",
     "output_type": "stream",
     "text": [
      "SVD 수렴 문제 발생: SVD did not converge. 계속 진행합니다.\n"
     ]
    },
    {
     "name": "stderr",
     "output_type": "stream",
     "text": [
      "[I 2024-10-15 07:03:26,611] Trial 859 finished with value: 0.6598484848484848 and parameters: {'lr': 2.9683645736977365e-05, 'weight_decay': 4.27313359979372e-06}. Best is trial 490 with value: 0.8166666666666667.\n",
      "WARNING: Maximum number of iterations 32 reached. The mean may be inaccurate\n"
     ]
    },
    {
     "name": "stdout",
     "output_type": "stream",
     "text": [
      "SVD 수렴 문제 발생: SVD did not converge. 계속 진행합니다.\n"
     ]
    },
    {
     "name": "stderr",
     "output_type": "stream",
     "text": [
      "[I 2024-10-15 07:08:03,601] Trial 860 finished with value: 0.6559220389805098 and parameters: {'lr': 0.0005014470359434123, 'weight_decay': 0.00010820259618907339}. Best is trial 490 with value: 0.8166666666666667.\n",
      "WARNING: Maximum number of iterations 32 reached. The mean may be inaccurate\n"
     ]
    },
    {
     "name": "stdout",
     "output_type": "stream",
     "text": [
      "SVD 수렴 문제 발생: SVD did not converge. 계속 진행합니다.\n"
     ]
    },
    {
     "name": "stderr",
     "output_type": "stream",
     "text": [
      "[I 2024-10-15 07:12:41,896] Trial 861 finished with value: 0.6159250585480094 and parameters: {'lr': 1.1138631504657417e-05, 'weight_decay': 1.5962313093561297e-06}. Best is trial 490 with value: 0.8166666666666667.\n",
      "WARNING: Maximum number of iterations 32 reached. The mean may be inaccurate\n"
     ]
    },
    {
     "name": "stdout",
     "output_type": "stream",
     "text": [
      "SVD 수렴 문제 발생: SVD did not converge. 계속 진행합니다.\n"
     ]
    },
    {
     "name": "stderr",
     "output_type": "stream",
     "text": [
      "[I 2024-10-15 07:17:19,142] Trial 862 finished with value: 0.6588602654176424 and parameters: {'lr': 2.456513106955467e-05, 'weight_decay': 8.075977205485405e-06}. Best is trial 490 with value: 0.8166666666666667.\n",
      "WARNING: Maximum number of iterations 32 reached. The mean may be inaccurate\n",
      "[I 2024-10-15 07:21:57,163] Trial 863 finished with value: 0.6991935483870968 and parameters: {'lr': 1.7463592105554174e-05, 'weight_decay': 3.133700301454828e-06}. Best is trial 490 with value: 0.8166666666666667.\n"
     ]
    },
    {
     "name": "stdout",
     "output_type": "stream",
     "text": [
      "SVD 수렴 문제 발생: SVD did not converge. 계속 진행합니다.\n"
     ]
    },
    {
     "name": "stderr",
     "output_type": "stream",
     "text": [
      "WARNING: Maximum number of iterations 32 reached. The mean may be inaccurate\n",
      "[I 2024-10-15 07:26:31,326] Trial 864 finished with value: 0.6783762685402029 and parameters: {'lr': 0.0030509911891217854, 'weight_decay': 5.6153707249040024e-06}. Best is trial 490 with value: 0.8166666666666667.\n"
     ]
    },
    {
     "name": "stdout",
     "output_type": "stream",
     "text": [
      "SVD 수렴 문제 발생: SVD did not converge. 계속 진행합니다.\n"
     ]
    },
    {
     "name": "stderr",
     "output_type": "stream",
     "text": [
      "WARNING: Maximum number of iterations 32 reached. The mean may be inaccurate\n"
     ]
    },
    {
     "name": "stdout",
     "output_type": "stream",
     "text": [
      "SVD 수렴 문제 발생: SVD did not converge. 계속 진행합니다.\n"
     ]
    },
    {
     "name": "stderr",
     "output_type": "stream",
     "text": [
      "[I 2024-10-15 07:31:07,295] Trial 865 finished with value: 0.7056451612903226 and parameters: {'lr': 6.825096677614508e-05, 'weight_decay': 1.319643263470617e-06}. Best is trial 490 with value: 0.8166666666666667.\n",
      "WARNING: Maximum number of iterations 32 reached. The mean may be inaccurate\n"
     ]
    },
    {
     "name": "stdout",
     "output_type": "stream",
     "text": [
      "SVD 수렴 문제 발생: SVD did not converge. 계속 진행합니다.\n"
     ]
    },
    {
     "name": "stderr",
     "output_type": "stream",
     "text": [
      "[I 2024-10-15 07:35:43,497] Trial 866 finished with value: 0.6629032258064517 and parameters: {'lr': 1.4470541251396784e-05, 'weight_decay': 4.466105328986796e-06}. Best is trial 490 with value: 0.8166666666666667.\n",
      "WARNING: Maximum number of iterations 32 reached. The mean may be inaccurate\n"
     ]
    },
    {
     "name": "stdout",
     "output_type": "stream",
     "text": [
      "SVD 수렴 문제 발생: SVD did not converge. 계속 진행합니다.\n"
     ]
    },
    {
     "name": "stderr",
     "output_type": "stream",
     "text": [
      "[I 2024-10-15 07:40:20,315] Trial 867 finished with value: 0.6393939393939394 and parameters: {'lr': 2.1179107250529934e-05, 'weight_decay': 6.9418805000623115e-06}. Best is trial 490 with value: 0.8166666666666667.\n",
      "WARNING: Maximum number of iterations 32 reached. The mean may be inaccurate\n"
     ]
    },
    {
     "name": "stdout",
     "output_type": "stream",
     "text": [
      "SVD 수렴 문제 발생: SVD did not converge. 계속 진행합니다.\n"
     ]
    },
    {
     "name": "stderr",
     "output_type": "stream",
     "text": [
      "[I 2024-10-15 07:44:56,606] Trial 868 finished with value: 0.6452380952380953 and parameters: {'lr': 3.210224125989144e-05, 'weight_decay': 3.600790759076076e-06}. Best is trial 490 with value: 0.8166666666666667.\n",
      "WARNING: Maximum number of iterations 32 reached. The mean may be inaccurate\n"
     ]
    },
    {
     "name": "stdout",
     "output_type": "stream",
     "text": [
      "SVD 수렴 문제 발생: SVD did not converge. 계속 진행합니다.\n"
     ]
    },
    {
     "name": "stderr",
     "output_type": "stream",
     "text": [
      "[I 2024-10-15 07:49:33,816] Trial 869 finished with value: 0.6977272727272728 and parameters: {'lr': 1.597255361945319e-05, 'weight_decay': 9.935605198516648e-06}. Best is trial 490 with value: 0.8166666666666667.\n",
      "WARNING: Maximum number of iterations 32 reached. The mean may be inaccurate\n"
     ]
    },
    {
     "name": "stdout",
     "output_type": "stream",
     "text": [
      "SVD 수렴 문제 발생: SVD did not converge. 계속 진행합니다.\n"
     ]
    },
    {
     "name": "stderr",
     "output_type": "stream",
     "text": [
      "[I 2024-10-15 07:54:10,335] Trial 870 finished with value: 0.6959677419354838 and parameters: {'lr': 1.0415363179398631e-05, 'weight_decay': 2.3976110096229264e-06}. Best is trial 490 with value: 0.8166666666666667.\n",
      "WARNING: Maximum number of iterations 32 reached. The mean may be inaccurate\n"
     ]
    },
    {
     "name": "stdout",
     "output_type": "stream",
     "text": [
      "SVD 수렴 문제 발생: SVD did not converge. 계속 진행합니다.\n"
     ]
    },
    {
     "name": "stderr",
     "output_type": "stream",
     "text": [
      "[I 2024-10-15 07:58:47,524] Trial 871 finished with value: 0.6583333333333333 and parameters: {'lr': 2.6949769948569337e-05, 'weight_decay': 1.8205022078896487e-06}. Best is trial 490 with value: 0.8166666666666667.\n",
      "WARNING: Maximum number of iterations 32 reached. The mean may be inaccurate\n"
     ]
    },
    {
     "name": "stdout",
     "output_type": "stream",
     "text": [
      "SVD 수렴 문제 발생: SVD did not converge. 계속 진행합니다.\n"
     ]
    },
    {
     "name": "stderr",
     "output_type": "stream",
     "text": [
      "[I 2024-10-15 08:03:24,170] Trial 872 finished with value: 0.6323185011709602 and parameters: {'lr': 4.20869977283047e-05, 'weight_decay': 5.053167414836884e-06}. Best is trial 490 with value: 0.8166666666666667.\n",
      "WARNING: Maximum number of iterations 32 reached. The mean may be inaccurate\n"
     ]
    },
    {
     "name": "stdout",
     "output_type": "stream",
     "text": [
      "SVD 수렴 문제 발생: SVD did not converge. 계속 진행합니다.\n"
     ]
    },
    {
     "name": "stderr",
     "output_type": "stream",
     "text": [
      "[I 2024-10-15 08:08:01,938] Trial 873 finished with value: 0.6121212121212121 and parameters: {'lr': 1.89722191651694e-05, 'weight_decay': 1.4413811562627065e-06}. Best is trial 490 with value: 0.8166666666666667.\n",
      "WARNING: Maximum number of iterations 32 reached. The mean may be inaccurate\n"
     ]
    },
    {
     "name": "stdout",
     "output_type": "stream",
     "text": [
      "SVD 수렴 문제 발생: SVD did not converge. 계속 진행합니다.\n"
     ]
    },
    {
     "name": "stderr",
     "output_type": "stream",
     "text": [
      "[I 2024-10-15 08:12:39,735] Trial 874 finished with value: 0.5881370091896407 and parameters: {'lr': 1.293743240128671e-05, 'weight_decay': 6.660331237491221e-06}. Best is trial 490 with value: 0.8166666666666667.\n",
      "WARNING: Maximum number of iterations 32 reached. The mean may be inaccurate\n"
     ]
    },
    {
     "name": "stdout",
     "output_type": "stream",
     "text": [
      "SVD 수렴 문제 발생: SVD did not converge. 계속 진행합니다.\n"
     ]
    },
    {
     "name": "stderr",
     "output_type": "stream",
     "text": [
      "[I 2024-10-15 08:17:17,930] Trial 875 finished with value: 0.5901515151515151 and parameters: {'lr': 5.015007001863247e-05, 'weight_decay': 1.2269792781760084e-06}. Best is trial 490 with value: 0.8166666666666667.\n",
      "WARNING: Maximum number of iterations 32 reached. The mean may be inaccurate\n"
     ]
    },
    {
     "name": "stdout",
     "output_type": "stream",
     "text": [
      "SVD 수렴 문제 발생: SVD did not converge. 계속 진행합니다.\n"
     ]
    },
    {
     "name": "stderr",
     "output_type": "stream",
     "text": [
      "[I 2024-10-15 08:21:55,784] Trial 876 finished with value: 0.7151211361737677 and parameters: {'lr': 2.2996053643734753e-05, 'weight_decay': 3.00356503520687e-06}. Best is trial 490 with value: 0.8166666666666667.\n",
      "WARNING: Maximum number of iterations 32 reached. The mean may be inaccurate\n"
     ]
    },
    {
     "name": "stdout",
     "output_type": "stream",
     "text": [
      "SVD 수렴 문제 발생: SVD did not converge. 계속 진행합니다.\n"
     ]
    },
    {
     "name": "stderr",
     "output_type": "stream",
     "text": [
      "[I 2024-10-15 08:26:33,535] Trial 877 finished with value: 0.5880619012527635 and parameters: {'lr': 1.6487379107366085e-05, 'weight_decay': 3.9037801252449395e-06}. Best is trial 490 with value: 0.8166666666666667.\n",
      "WARNING: Maximum number of iterations 32 reached. The mean may be inaccurate\n"
     ]
    },
    {
     "name": "stdout",
     "output_type": "stream",
     "text": [
      "SVD 수렴 문제 발생: SVD did not converge. 계속 진행합니다.\n"
     ]
    },
    {
     "name": "stderr",
     "output_type": "stream",
     "text": [
      "[I 2024-10-15 08:31:11,446] Trial 878 finished with value: 0.6167056986729118 and parameters: {'lr': 1.2785021959381806e-05, 'weight_decay': 5.568984855575043e-06}. Best is trial 490 with value: 0.8166666666666667.\n",
      "WARNING: Maximum number of iterations 32 reached. The mean may be inaccurate\n"
     ]
    },
    {
     "name": "stdout",
     "output_type": "stream",
     "text": [
      "SVD 수렴 문제 발생: SVD did not converge. 계속 진행합니다.\n"
     ]
    },
    {
     "name": "stderr",
     "output_type": "stream",
     "text": [
      "[I 2024-10-15 08:35:50,188] Trial 879 finished with value: 0.6310606060606061 and parameters: {'lr': 5.828500954925679e-05, 'weight_decay': 8.431096088269072e-06}. Best is trial 490 with value: 0.8166666666666667.\n",
      "WARNING: Maximum number of iterations 32 reached. The mean may be inaccurate\n"
     ]
    },
    {
     "name": "stdout",
     "output_type": "stream",
     "text": [
      "SVD 수렴 문제 발생: SVD did not converge. 계속 진행합니다.\n"
     ]
    },
    {
     "name": "stderr",
     "output_type": "stream",
     "text": [
      "[I 2024-10-15 08:40:29,621] Trial 880 finished with value: 0.6163934426229508 and parameters: {'lr': 3.723896574978076e-05, 'weight_decay': 1.1434304001568988e-06}. Best is trial 490 with value: 0.8166666666666667.\n",
      "WARNING: Maximum number of iterations 32 reached. The mean may be inaccurate\n"
     ]
    },
    {
     "name": "stdout",
     "output_type": "stream",
     "text": [
      "SVD 수렴 문제 발생: SVD did not converge. 계속 진행합니다.\n"
     ]
    },
    {
     "name": "stderr",
     "output_type": "stream",
     "text": [
      "[I 2024-10-15 08:45:08,550] Trial 881 finished with value: 0.5798387096774194 and parameters: {'lr': 1.9748514824805428e-05, 'weight_decay': 2.0630746761967164e-06}. Best is trial 490 with value: 0.8166666666666667.\n",
      "WARNING: Maximum number of iterations 32 reached. The mean may be inaccurate\n"
     ]
    },
    {
     "name": "stdout",
     "output_type": "stream",
     "text": [
      "SVD 수렴 문제 발생: SVD did not converge. 계속 진행합니다.\n"
     ]
    },
    {
     "name": "stderr",
     "output_type": "stream",
     "text": [
      "[I 2024-10-15 08:49:47,986] Trial 882 finished with value: 0.5792349726775956 and parameters: {'lr': 9.579826250986723e-06, 'weight_decay': 1.5709463061462001e-06}. Best is trial 490 with value: 0.8166666666666667.\n",
      "WARNING: Maximum number of iterations 32 reached. The mean may be inaccurate\n"
     ]
    },
    {
     "name": "stdout",
     "output_type": "stream",
     "text": [
      "SVD 수렴 문제 발생: SVD did not converge. 계속 진행합니다.\n"
     ]
    },
    {
     "name": "stderr",
     "output_type": "stream",
     "text": [
      "[I 2024-10-15 08:54:27,273] Trial 883 finished with value: 0.6140350877192983 and parameters: {'lr': 2.6325463816315554e-05, 'weight_decay': 4.380580400343754e-06}. Best is trial 490 with value: 0.8166666666666667.\n",
      "WARNING: Maximum number of iterations 32 reached. The mean may be inaccurate\n"
     ]
    },
    {
     "name": "stdout",
     "output_type": "stream",
     "text": [
      "SVD 수렴 문제 발생: SVD did not converge. 계속 진행합니다.\n"
     ]
    },
    {
     "name": "stderr",
     "output_type": "stream",
     "text": [
      "[I 2024-10-15 08:59:06,411] Trial 884 finished with value: 0.7002341920374707 and parameters: {'lr': 1.4900188650025375e-05, 'weight_decay': 2.8577976560884518e-06}. Best is trial 490 with value: 0.8166666666666667.\n",
      "WARNING: Maximum number of iterations 32 reached. The mean may be inaccurate\n"
     ]
    },
    {
     "name": "stdout",
     "output_type": "stream",
     "text": [
      "SVD 수렴 문제 발생: SVD did not converge. 계속 진행합니다.\n"
     ]
    },
    {
     "name": "stderr",
     "output_type": "stream",
     "text": [
      "[I 2024-10-15 09:03:44,797] Trial 885 finished with value: 0.5323965651834504 and parameters: {'lr': 4.300695056341395e-06, 'weight_decay': 5.306367369982326e-06}. Best is trial 490 with value: 0.8166666666666667.\n",
      "WARNING: Maximum number of iterations 32 reached. The mean may be inaccurate\n"
     ]
    },
    {
     "name": "stdout",
     "output_type": "stream",
     "text": [
      "SVD 수렴 문제 발생: SVD did not converge. 계속 진행합니다.\n"
     ]
    },
    {
     "name": "stderr",
     "output_type": "stream",
     "text": [
      "[I 2024-10-15 09:08:23,253] Trial 886 finished with value: 0.6619828259172521 and parameters: {'lr': 1.826109145818757e-05, 'weight_decay': 0.0005764450487340674}. Best is trial 490 with value: 0.8166666666666667.\n",
      "WARNING: Maximum number of iterations 32 reached. The mean may be inaccurate\n"
     ]
    },
    {
     "name": "stdout",
     "output_type": "stream",
     "text": [
      "SVD 수렴 문제 발생: SVD did not converge. 계속 진행합니다.\n"
     ]
    },
    {
     "name": "stderr",
     "output_type": "stream",
     "text": [
      "[I 2024-10-15 09:12:55,466] Trial 887 finished with value: 0.617096018735363 and parameters: {'lr': 0.005244949285183351, 'weight_decay': 3.5562665373320564e-05}. Best is trial 490 with value: 0.8166666666666667.\n",
      "WARNING: Maximum number of iterations 32 reached. The mean may be inaccurate\n"
     ]
    },
    {
     "name": "stdout",
     "output_type": "stream",
     "text": [
      "SVD 수렴 문제 발생: SVD did not converge. 계속 진행합니다.\n"
     ]
    },
    {
     "name": "stderr",
     "output_type": "stream",
     "text": [
      "[I 2024-10-15 09:17:33,311] Trial 888 finished with value: 0.6939393939393939 and parameters: {'lr': 3.127178815708559e-05, 'weight_decay': 7.235499602279706e-06}. Best is trial 490 with value: 0.8166666666666667.\n",
      "WARNING: Maximum number of iterations 32 reached. The mean may be inaccurate\n"
     ]
    },
    {
     "name": "stdout",
     "output_type": "stream",
     "text": [
      "SVD 수렴 문제 발생: SVD did not converge. 계속 진행합니다.\n"
     ]
    },
    {
     "name": "stderr",
     "output_type": "stream",
     "text": [
      "[I 2024-10-15 09:22:10,787] Trial 889 finished with value: 0.5886026541764247 and parameters: {'lr': 2.530987895909562e-06, 'weight_decay': 1.2006940023023641e-06}. Best is trial 490 with value: 0.8166666666666667.\n",
      "WARNING: Maximum number of iterations 32 reached. The mean may be inaccurate\n"
     ]
    },
    {
     "name": "stdout",
     "output_type": "stream",
     "text": [
      "SVD 수렴 문제 발생: SVD did not converge. 계속 진행합니다.\n"
     ]
    },
    {
     "name": "stderr",
     "output_type": "stream",
     "text": [
      "[I 2024-10-15 09:26:48,432] Trial 890 finished with value: 0.6783762685402028 and parameters: {'lr': 1.16484835079802e-05, 'weight_decay': 4.1118186484841954e-06}. Best is trial 490 with value: 0.8166666666666667.\n",
      "WARNING: Maximum number of iterations 32 reached. The mean may be inaccurate\n"
     ]
    },
    {
     "name": "stdout",
     "output_type": "stream",
     "text": [
      "SVD 수렴 문제 발생: SVD did not converge. 계속 진행합니다.\n"
     ]
    },
    {
     "name": "stderr",
     "output_type": "stream",
     "text": [
      "[I 2024-10-15 09:31:26,736] Trial 891 finished with value: 0.5969696969696969 and parameters: {'lr': 2.306404895284968e-05, 'weight_decay': 1.4993637982065414e-05}. Best is trial 490 with value: 0.8166666666666667.\n",
      "WARNING: Maximum number of iterations 32 reached. The mean may be inaccurate\n",
      "[I 2024-10-15 09:36:07,592] Trial 892 finished with value: 0.6951612903225807 and parameters: {'lr': 4.204041047085181e-05, 'weight_decay': 3.492343175755374e-06}. Best is trial 490 with value: 0.8166666666666667.\n"
     ]
    },
    {
     "name": "stdout",
     "output_type": "stream",
     "text": [
      "SVD 수렴 문제 발생: SVD did not converge. 계속 진행합니다.\n"
     ]
    },
    {
     "name": "stderr",
     "output_type": "stream",
     "text": [
      "WARNING: Maximum number of iterations 32 reached. The mean may be inaccurate\n"
     ]
    },
    {
     "name": "stdout",
     "output_type": "stream",
     "text": [
      "SVD 수렴 문제 발생: SVD did not converge. 계속 진행합니다.\n"
     ]
    },
    {
     "name": "stderr",
     "output_type": "stream",
     "text": [
      "[I 2024-10-15 09:40:44,924] Trial 893 finished with value: 0.6583333333333332 and parameters: {'lr': 1.5102423961385095e-05, 'weight_decay': 5.827326336207529e-06}. Best is trial 490 with value: 0.8166666666666667.\n",
      "WARNING: Maximum number of iterations 32 reached. The mean may be inaccurate\n"
     ]
    },
    {
     "name": "stdout",
     "output_type": "stream",
     "text": [
      "SVD 수렴 문제 발생: SVD did not converge. 계속 진행합니다.\n"
     ]
    },
    {
     "name": "stderr",
     "output_type": "stream",
     "text": [
      "[I 2024-10-15 09:45:23,552] Trial 894 finished with value: 0.5862607338017174 and parameters: {'lr': 1.9083231440039103e-05, 'weight_decay': 1.7496840017103992e-06}. Best is trial 490 with value: 0.8166666666666667.\n",
      "WARNING: Maximum number of iterations 32 reached. The mean may be inaccurate\n"
     ]
    },
    {
     "name": "stdout",
     "output_type": "stream",
     "text": [
      "SVD 수렴 문제 발생: SVD did not converge. 계속 진행합니다.\n"
     ]
    },
    {
     "name": "stderr",
     "output_type": "stream",
     "text": [
      "[I 2024-10-15 09:50:01,383] Trial 895 finished with value: 0.7790322580645161 and parameters: {'lr': 3.576715529492735e-05, 'weight_decay': 0.0009359644844024102}. Best is trial 490 with value: 0.8166666666666667.\n",
      "WARNING: Maximum number of iterations 32 reached. The mean may be inaccurate\n"
     ]
    },
    {
     "name": "stdout",
     "output_type": "stream",
     "text": [
      "SVD 수렴 문제 발생: SVD did not converge. 계속 진행합니다.\n"
     ]
    },
    {
     "name": "stderr",
     "output_type": "stream",
     "text": [
      "[I 2024-10-15 09:54:39,568] Trial 896 finished with value: 0.6128024980483997 and parameters: {'lr': 3.9248651651220196e-05, 'weight_decay': 4.921166119656281e-05}. Best is trial 490 with value: 0.8166666666666667.\n",
      "WARNING: Maximum number of iterations 32 reached. The mean may be inaccurate\n"
     ]
    },
    {
     "name": "stdout",
     "output_type": "stream",
     "text": [
      "SVD 수렴 문제 발생: SVD did not converge. 계속 진행합니다.\n"
     ]
    },
    {
     "name": "stderr",
     "output_type": "stream",
     "text": [
      "[I 2024-10-15 09:59:16,907] Trial 897 finished with value: 0.6467213114754098 and parameters: {'lr': 5.015358236225532e-05, 'weight_decay': 0.0004830633619371921}. Best is trial 490 with value: 0.8166666666666667.\n",
      "WARNING: Maximum number of iterations 32 reached. The mean may be inaccurate\n"
     ]
    },
    {
     "name": "stdout",
     "output_type": "stream",
     "text": [
      "SVD 수렴 문제 발생: SVD did not converge. 계속 진행합니다.\n"
     ]
    },
    {
     "name": "stderr",
     "output_type": "stream",
     "text": [
      "[I 2024-10-15 10:03:55,321] Trial 898 finished with value: 0.7044952100221077 and parameters: {'lr': 3.8103074145809444e-05, 'weight_decay': 0.00017274201685723293}. Best is trial 490 with value: 0.8166666666666667.\n",
      "WARNING: Maximum number of iterations 32 reached. The mean may be inaccurate\n"
     ]
    },
    {
     "name": "stdout",
     "output_type": "stream",
     "text": [
      "SVD 수렴 문제 발생: SVD did not converge. 계속 진행합니다.\n"
     ]
    },
    {
     "name": "stderr",
     "output_type": "stream",
     "text": [
      "[I 2024-10-15 10:08:32,971] Trial 899 finished with value: 0.6672794117647058 and parameters: {'lr': 3.397198488428123e-05, 'weight_decay': 0.002002626374693649}. Best is trial 490 with value: 0.8166666666666667.\n",
      "WARNING: Maximum number of iterations 32 reached. The mean may be inaccurate\n"
     ]
    },
    {
     "name": "stdout",
     "output_type": "stream",
     "text": [
      "SVD 수렴 문제 발생: SVD did not converge. 계속 진행합니다.\n"
     ]
    },
    {
     "name": "stderr",
     "output_type": "stream",
     "text": [
      "[I 2024-10-15 10:13:11,214] Trial 900 finished with value: 0.7283372365339578 and parameters: {'lr': 5.054699390522691e-05, 'weight_decay': 6.873897792973953e-05}. Best is trial 490 with value: 0.8166666666666667.\n",
      "WARNING: Maximum number of iterations 32 reached. The mean may be inaccurate\n"
     ]
    },
    {
     "name": "stdout",
     "output_type": "stream",
     "text": [
      "SVD 수렴 문제 발생: SVD did not converge. 계속 진행합니다.\n"
     ]
    },
    {
     "name": "stderr",
     "output_type": "stream",
     "text": [
      "[I 2024-10-15 10:17:50,117] Trial 901 finished with value: 0.6840909090909091 and parameters: {'lr': 7.300435944797611e-05, 'weight_decay': 1.3843810610186676e-06}. Best is trial 490 with value: 0.8166666666666667.\n",
      "WARNING: Maximum number of iterations 32 reached. The mean may be inaccurate\n",
      "[I 2024-10-15 10:22:30,188] Trial 902 finished with value: 0.6697892271662763 and parameters: {'lr': 0.0002136863983540878, 'weight_decay': 0.0016997735415967827}. Best is trial 490 with value: 0.8166666666666667.\n"
     ]
    },
    {
     "name": "stdout",
     "output_type": "stream",
     "text": [
      "SVD 수렴 문제 발생: SVD did not converge. 계속 진행합니다.\n"
     ]
    },
    {
     "name": "stderr",
     "output_type": "stream",
     "text": [
      "WARNING: Maximum number of iterations 32 reached. The mean may be inaccurate\n"
     ]
    },
    {
     "name": "stdout",
     "output_type": "stream",
     "text": [
      "SVD 수렴 문제 발생: SVD did not converge. 계속 진행합니다.\n"
     ]
    },
    {
     "name": "stderr",
     "output_type": "stream",
     "text": [
      "[I 2024-10-15 10:27:07,986] Trial 903 finished with value: 0.6416861826697892 and parameters: {'lr': 4.426819669688264e-05, 'weight_decay': 0.004250164800226812}. Best is trial 490 with value: 0.8166666666666667.\n",
      "WARNING: Maximum number of iterations 32 reached. The mean may be inaccurate\n"
     ]
    },
    {
     "name": "stdout",
     "output_type": "stream",
     "text": [
      "SVD 수렴 문제 발생: SVD did not converge. 계속 진행합니다.\n"
     ]
    },
    {
     "name": "stderr",
     "output_type": "stream",
     "text": [
      "[I 2024-10-15 10:31:46,535] Trial 904 finished with value: 0.675 and parameters: {'lr': 5.5011229207820454e-05, 'weight_decay': 0.0006924242476454857}. Best is trial 490 with value: 0.8166666666666667.\n",
      "WARNING: Maximum number of iterations 32 reached. The mean may be inaccurate\n"
     ]
    },
    {
     "name": "stdout",
     "output_type": "stream",
     "text": [
      "SVD 수렴 문제 발생: SVD did not converge. 계속 진행합니다.\n"
     ]
    },
    {
     "name": "stderr",
     "output_type": "stream",
     "text": [
      "[I 2024-10-15 10:36:24,196] Trial 905 finished with value: 0.6213895394223263 and parameters: {'lr': 3.202614988776613e-05, 'weight_decay': 0.0014217713200695716}. Best is trial 490 with value: 0.8166666666666667.\n",
      "WARNING: Maximum number of iterations 32 reached. The mean may be inaccurate\n"
     ]
    },
    {
     "name": "stdout",
     "output_type": "stream",
     "text": [
      "SVD 수렴 문제 발생: SVD did not converge. 계속 진행합니다.\n"
     ]
    },
    {
     "name": "stderr",
     "output_type": "stream",
     "text": [
      "[I 2024-10-15 10:41:03,417] Trial 906 finished with value: 0.665909090909091 and parameters: {'lr': 4.180322668304935e-05, 'weight_decay': 9.635573435947594e-06}. Best is trial 490 with value: 0.8166666666666667.\n",
      "WARNING: Maximum number of iterations 32 reached. The mean may be inaccurate\n"
     ]
    },
    {
     "name": "stdout",
     "output_type": "stream",
     "text": [
      "SVD 수렴 문제 발생: SVD did not converge. 계속 진행합니다.\n"
     ]
    },
    {
     "name": "stderr",
     "output_type": "stream",
     "text": [
      "[I 2024-10-15 10:45:41,064] Trial 907 finished with value: 0.6548387096774193 and parameters: {'lr': 3.6849241658623775e-05, 'weight_decay': 0.00028771708092721095}. Best is trial 490 with value: 0.8166666666666667.\n",
      "WARNING: Maximum number of iterations 32 reached. The mean may be inaccurate\n",
      "[I 2024-10-15 10:50:20,529] Trial 908 finished with value: 0.6661290322580645 and parameters: {'lr': 1.3129597591180093e-05, 'weight_decay': 1.2026151453356558e-06}. Best is trial 490 with value: 0.8166666666666667.\n"
     ]
    },
    {
     "name": "stdout",
     "output_type": "stream",
     "text": [
      "SVD 수렴 문제 발생: SVD did not converge. 계속 진행합니다.\n"
     ]
    },
    {
     "name": "stderr",
     "output_type": "stream",
     "text": [
      "WARNING: Maximum number of iterations 32 reached. The mean may be inaccurate\n"
     ]
    },
    {
     "name": "stdout",
     "output_type": "stream",
     "text": [
      "SVD 수렴 문제 발생: SVD did not converge. 계속 진행합니다.\n"
     ]
    },
    {
     "name": "stderr",
     "output_type": "stream",
     "text": [
      "[I 2024-10-15 10:54:57,537] Trial 909 finished with value: 0.717408274785324 and parameters: {'lr': 9.610216324758929e-06, 'weight_decay': 0.0009913471810172768}. Best is trial 490 with value: 0.8166666666666667.\n",
      "WARNING: Maximum number of iterations 32 reached. The mean may be inaccurate\n"
     ]
    },
    {
     "name": "stdout",
     "output_type": "stream",
     "text": [
      "SVD 수렴 문제 발생: SVD did not converge. 계속 진행합니다.\n"
     ]
    },
    {
     "name": "stderr",
     "output_type": "stream",
     "text": [
      "[I 2024-10-15 10:59:36,122] Trial 910 finished with value: 0.6942622950819671 and parameters: {'lr': 3.122963836806228e-05, 'weight_decay': 4.2145331142139246e-05}. Best is trial 490 with value: 0.8166666666666667.\n",
      "WARNING: Maximum number of iterations 32 reached. The mean may be inaccurate\n"
     ]
    },
    {
     "name": "stdout",
     "output_type": "stream",
     "text": [
      "SVD 수렴 문제 발생: SVD did not converge. 계속 진행합니다.\n"
     ]
    },
    {
     "name": "stderr",
     "output_type": "stream",
     "text": [
      "[I 2024-10-15 11:04:14,798] Trial 911 finished with value: 0.672514619883041 and parameters: {'lr': 5.61646101026553e-05, 'weight_decay': 0.002798630769519245}. Best is trial 490 with value: 0.8166666666666667.\n",
      "WARNING: Maximum number of iterations 32 reached. The mean may be inaccurate\n"
     ]
    },
    {
     "name": "stdout",
     "output_type": "stream",
     "text": [
      "SVD 수렴 문제 발생: SVD did not converge. 계속 진행합니다.\n"
     ]
    },
    {
     "name": "stderr",
     "output_type": "stream",
     "text": [
      "[I 2024-10-15 11:08:53,964] Trial 912 finished with value: 0.6833333333333333 and parameters: {'lr': 2.891565527390804e-05, 'weight_decay': 1.010394468876024e-06}. Best is trial 490 with value: 0.8166666666666667.\n",
      "WARNING: Maximum number of iterations 32 reached. The mean may be inaccurate\n"
     ]
    },
    {
     "name": "stdout",
     "output_type": "stream",
     "text": [
      "SVD 수렴 문제 발생: SVD did not converge. 계속 진행합니다.\n"
     ]
    },
    {
     "name": "stderr",
     "output_type": "stream",
     "text": [
      "[I 2024-10-15 11:13:33,134] Trial 913 finished with value: 0.7041373926619828 and parameters: {'lr': 1.128222088499403e-05, 'weight_decay': 1.6233214461304552e-06}. Best is trial 490 with value: 0.8166666666666667.\n",
      "WARNING: Maximum number of iterations 32 reached. The mean may be inaccurate\n"
     ]
    },
    {
     "name": "stdout",
     "output_type": "stream",
     "text": [
      "SVD 수렴 문제 발생: SVD did not converge. 계속 진행합니다.\n"
     ]
    },
    {
     "name": "stderr",
     "output_type": "stream",
     "text": [
      "[I 2024-10-15 11:18:12,710] Trial 914 finished with value: 0.6299765807962528 and parameters: {'lr': 4.453439405465873e-05, 'weight_decay': 0.0012189634796703544}. Best is trial 490 with value: 0.8166666666666667.\n",
      "WARNING: Maximum number of iterations 32 reached. The mean may be inaccurate\n"
     ]
    },
    {
     "name": "stdout",
     "output_type": "stream",
     "text": [
      "SVD 수렴 문제 발생: SVD did not converge. 계속 진행합니다.\n"
     ]
    },
    {
     "name": "stderr",
     "output_type": "stream",
     "text": [
      "[I 2024-10-15 11:22:52,449] Trial 915 finished with value: 0.7345823575331771 and parameters: {'lr': 1.5512580733996373e-05, 'weight_decay': 8.093638024148373e-06}. Best is trial 490 with value: 0.8166666666666667.\n",
      "WARNING: Maximum number of iterations 32 reached. The mean may be inaccurate\n"
     ]
    },
    {
     "name": "stdout",
     "output_type": "stream",
     "text": [
      "SVD 수렴 문제 발생: SVD did not converge. 계속 진행합니다.\n"
     ]
    },
    {
     "name": "stderr",
     "output_type": "stream",
     "text": [
      "[I 2024-10-15 11:27:31,312] Trial 916 finished with value: 0.6065573770491803 and parameters: {'lr': 8.78877773960367e-06, 'weight_decay': 1.2178759062871507e-05}. Best is trial 490 with value: 0.8166666666666667.\n",
      "WARNING: Maximum number of iterations 32 reached. The mean may be inaccurate\n"
     ]
    },
    {
     "name": "stdout",
     "output_type": "stream",
     "text": [
      "SVD 수렴 문제 발생: SVD did not converge. 계속 진행합니다.\n"
     ]
    },
    {
     "name": "stderr",
     "output_type": "stream",
     "text": [
      "[I 2024-10-15 11:32:10,359] Trial 917 finished with value: 0.6363636363636364 and parameters: {'lr': 7.122304734033261e-05, 'weight_decay': 1.3828301460466954e-06}. Best is trial 490 with value: 0.8166666666666667.\n",
      "WARNING: Maximum number of iterations 32 reached. The mean may be inaccurate\n"
     ]
    },
    {
     "name": "stdout",
     "output_type": "stream",
     "text": [
      "SVD 수렴 문제 발생: SVD did not converge. 계속 진행합니다.\n"
     ]
    },
    {
     "name": "stderr",
     "output_type": "stream",
     "text": [
      "[I 2024-10-15 11:36:50,452] Trial 918 finished with value: 0.6502732240437158 and parameters: {'lr': 2.6756864315828706e-05, 'weight_decay': 1.0089684098383456e-06}. Best is trial 490 with value: 0.8166666666666667.\n",
      "WARNING: Maximum number of iterations 32 reached. The mean may be inaccurate\n"
     ]
    },
    {
     "name": "stdout",
     "output_type": "stream",
     "text": [
      "SVD 수렴 문제 발생: SVD did not converge. 계속 진행합니다.\n"
     ]
    },
    {
     "name": "stderr",
     "output_type": "stream",
     "text": [
      "[I 2024-10-15 11:41:29,830] Trial 919 finished with value: 0.5768930523028883 and parameters: {'lr': 6.0414192489897985e-05, 'weight_decay': 2.2299226157958806e-05}. Best is trial 490 with value: 0.8166666666666667.\n",
      "WARNING: Maximum number of iterations 32 reached. The mean may be inaccurate\n"
     ]
    },
    {
     "name": "stdout",
     "output_type": "stream",
     "text": [
      "SVD 수렴 문제 발생: SVD did not converge. 계속 진행합니다.\n"
     ]
    },
    {
     "name": "stderr",
     "output_type": "stream",
     "text": [
      "[I 2024-10-15 11:46:09,744] Trial 920 finished with value: 0.6565183450429352 and parameters: {'lr': 1.375838826565522e-05, 'weight_decay': 0.009890436209522393}. Best is trial 490 with value: 0.8166666666666667.\n",
      "WARNING: Maximum number of iterations 32 reached. The mean may be inaccurate\n"
     ]
    },
    {
     "name": "stdout",
     "output_type": "stream",
     "text": [
      "SVD 수렴 문제 발생: SVD did not converge. 계속 진행합니다.\n"
     ]
    },
    {
     "name": "stderr",
     "output_type": "stream",
     "text": [
      "[I 2024-10-15 11:50:50,962] Trial 921 finished with value: 0.6869633099141296 and parameters: {'lr': 3.286351450960731e-05, 'weight_decay': 0.00034138911506519613}. Best is trial 490 with value: 0.8166666666666667.\n",
      "WARNING: Maximum number of iterations 32 reached. The mean may be inaccurate\n"
     ]
    },
    {
     "name": "stdout",
     "output_type": "stream",
     "text": [
      "SVD 수렴 문제 발생: SVD did not converge. 계속 진행합니다.\n"
     ]
    },
    {
     "name": "stderr",
     "output_type": "stream",
     "text": [
      "[I 2024-10-15 11:55:31,707] Trial 922 finished with value: 0.7 and parameters: {'lr': 4.7581583948707854e-05, 'weight_decay': 5.8426976229372764e-05}. Best is trial 490 with value: 0.8166666666666667.\n",
      "WARNING: Maximum number of iterations 32 reached. The mean may be inaccurate\n"
     ]
    },
    {
     "name": "stdout",
     "output_type": "stream",
     "text": [
      "SVD 수렴 문제 발생: SVD did not converge. 계속 진행합니다.\n"
     ]
    },
    {
     "name": "stderr",
     "output_type": "stream",
     "text": [
      "[I 2024-10-15 12:00:11,829] Trial 923 finished with value: 0.599852616064849 and parameters: {'lr': 1.753195213906742e-05, 'weight_decay': 0.00012894610387154286}. Best is trial 490 with value: 0.8166666666666667.\n",
      "WARNING: Maximum number of iterations 32 reached. The mean may be inaccurate\n"
     ]
    },
    {
     "name": "stdout",
     "output_type": "stream",
     "text": [
      "SVD 수렴 문제 발생: SVD did not converge. 계속 진행합니다.\n"
     ]
    },
    {
     "name": "stderr",
     "output_type": "stream",
     "text": [
      "[I 2024-10-15 12:04:52,905] Trial 924 finished with value: 0.6264855687606112 and parameters: {'lr': 2.346601704466367e-05, 'weight_decay': 0.007861555650028005}. Best is trial 490 with value: 0.8166666666666667.\n",
      "WARNING: Maximum number of iterations 32 reached. The mean may be inaccurate\n"
     ]
    },
    {
     "name": "stdout",
     "output_type": "stream",
     "text": [
      "SVD 수렴 문제 발생: SVD did not converge. 계속 진행합니다.\n"
     ]
    },
    {
     "name": "stderr",
     "output_type": "stream",
     "text": [
      "[I 2024-10-15 12:09:33,982] Trial 925 finished with value: 0.7697111631537861 and parameters: {'lr': 1.0979274427385751e-05, 'weight_decay': 2.751185454853857e-05}. Best is trial 490 with value: 0.8166666666666667.\n",
      "WARNING: Maximum number of iterations 32 reached. The mean may be inaccurate\n"
     ]
    },
    {
     "name": "stdout",
     "output_type": "stream",
     "text": [
      "SVD 수렴 문제 발생: SVD did not converge. 계속 진행합니다.\n"
     ]
    },
    {
     "name": "stderr",
     "output_type": "stream",
     "text": [
      "[I 2024-10-15 12:14:15,600] Trial 926 finished with value: 0.6508064516129032 and parameters: {'lr': 9.544397259902553e-06, 'weight_decay': 3.3808611823958256e-05}. Best is trial 490 with value: 0.8166666666666667.\n",
      "WARNING: Maximum number of iterations 32 reached. The mean may be inaccurate\n"
     ]
    },
    {
     "name": "stdout",
     "output_type": "stream",
     "text": [
      "SVD 수렴 문제 발생: SVD did not converge. 계속 진행합니다.\n"
     ]
    },
    {
     "name": "stderr",
     "output_type": "stream",
     "text": [
      "[I 2024-10-15 12:18:54,626] Trial 927 finished with value: 0.7743950039032006 and parameters: {'lr': 7.549424339352709e-06, 'weight_decay': 2.9975340627732157e-05}. Best is trial 490 with value: 0.8166666666666667.\n",
      "WARNING: Maximum number of iterations 32 reached. The mean may be inaccurate\n",
      "[I 2024-10-15 12:23:36,008] Trial 928 finished with value: 0.7298387096774194 and parameters: {'lr': 5.634190923546148e-06, 'weight_decay': 3.0045355545564505e-05}. Best is trial 490 with value: 0.8166666666666667.\n"
     ]
    },
    {
     "name": "stdout",
     "output_type": "stream",
     "text": [
      "SVD 수렴 문제 발생: SVD did not converge. 계속 진행합니다.\n"
     ]
    },
    {
     "name": "stderr",
     "output_type": "stream",
     "text": [
      "WARNING: Maximum number of iterations 32 reached. The mean may be inaccurate\n",
      "[I 2024-10-15 12:28:16,326] Trial 929 finished with value: 0.6337509211495946 and parameters: {'lr': 6.655441029704063e-06, 'weight_decay': 2.223343119457908e-05}. Best is trial 490 with value: 0.8166666666666667.\n"
     ]
    },
    {
     "name": "stdout",
     "output_type": "stream",
     "text": [
      "SVD 수렴 문제 발생: SVD did not converge. 계속 진행합니다.\n"
     ]
    },
    {
     "name": "stderr",
     "output_type": "stream",
     "text": [
      "WARNING: Maximum number of iterations 32 reached. The mean may be inaccurate\n"
     ]
    },
    {
     "name": "stdout",
     "output_type": "stream",
     "text": [
      "SVD 수렴 문제 발생: SVD did not converge. 계속 진행합니다.\n"
     ]
    },
    {
     "name": "stderr",
     "output_type": "stream",
     "text": [
      "[I 2024-10-15 12:32:55,496] Trial 930 finished with value: 0.5729898516783762 and parameters: {'lr': 6.445587368641953e-06, 'weight_decay': 3.8352691951749345e-05}. Best is trial 490 with value: 0.8166666666666667.\n",
      "WARNING: Maximum number of iterations 32 reached. The mean may be inaccurate\n"
     ]
    },
    {
     "name": "stdout",
     "output_type": "stream",
     "text": [
      "SVD 수렴 문제 발생: SVD did not converge. 계속 진행합니다.\n"
     ]
    },
    {
     "name": "stderr",
     "output_type": "stream",
     "text": [
      "[I 2024-10-15 12:37:35,098] Trial 931 finished with value: 0.5846774193548387 and parameters: {'lr': 8.407490897439386e-06, 'weight_decay': 1.760456414987438e-05}. Best is trial 490 with value: 0.8166666666666667.\n",
      "WARNING: Maximum number of iterations 32 reached. The mean may be inaccurate\n"
     ]
    },
    {
     "name": "stdout",
     "output_type": "stream",
     "text": [
      "SVD 수렴 문제 발생: SVD did not converge. 계속 진행합니다.\n"
     ]
    },
    {
     "name": "stderr",
     "output_type": "stream",
     "text": [
      "[I 2024-10-15 12:42:15,639] Trial 932 finished with value: 0.7959677419354838 and parameters: {'lr': 5.089613040107119e-06, 'weight_decay': 1.9328838987122572e-05}. Best is trial 490 with value: 0.8166666666666667.\n",
      "WARNING: Maximum number of iterations 32 reached. The mean may be inaccurate\n"
     ]
    },
    {
     "name": "stdout",
     "output_type": "stream",
     "text": [
      "SVD 수렴 문제 발생: SVD did not converge. 계속 진행합니다.\n"
     ]
    },
    {
     "name": "stderr",
     "output_type": "stream",
     "text": [
      "[I 2024-10-15 12:46:57,139] Trial 933 finished with value: 0.5825757575757575 and parameters: {'lr': 6.5161026202445595e-06, 'weight_decay': 1.9018841819614484e-05}. Best is trial 490 with value: 0.8166666666666667.\n",
      "WARNING: Maximum number of iterations 32 reached. The mean may be inaccurate\n"
     ]
    },
    {
     "name": "stdout",
     "output_type": "stream",
     "text": [
      "SVD 수렴 문제 발생: SVD did not converge. 계속 진행합니다.\n"
     ]
    },
    {
     "name": "stderr",
     "output_type": "stream",
     "text": [
      "[I 2024-10-15 12:51:38,981] Trial 934 finished with value: 0.6604215456674473 and parameters: {'lr': 8.03351749718972e-06, 'weight_decay': 2.560061930202184e-05}. Best is trial 490 with value: 0.8166666666666667.\n",
      "WARNING: Maximum number of iterations 32 reached. The mean may be inaccurate\n"
     ]
    },
    {
     "name": "stdout",
     "output_type": "stream",
     "text": [
      "SVD 수렴 문제 발생: SVD did not converge. 계속 진행합니다.\n"
     ]
    },
    {
     "name": "stderr",
     "output_type": "stream",
     "text": [
      "[I 2024-10-15 12:56:20,362] Trial 935 finished with value: 0.6049180327868853 and parameters: {'lr': 9.08894121221131e-06, 'weight_decay': 2.256019115067279e-05}. Best is trial 490 with value: 0.8166666666666667.\n",
      "WARNING: Maximum number of iterations 32 reached. The mean may be inaccurate\n"
     ]
    },
    {
     "name": "stdout",
     "output_type": "stream",
     "text": [
      "SVD 수렴 문제 발생: SVD did not converge. 계속 진행합니다.\n"
     ]
    },
    {
     "name": "stderr",
     "output_type": "stream",
     "text": [
      "[I 2024-10-15 13:01:02,563] Trial 936 finished with value: 0.721969696969697 and parameters: {'lr': 4.710060230775839e-06, 'weight_decay': 2.7933928656978195e-05}. Best is trial 490 with value: 0.8166666666666667.\n",
      "WARNING: Maximum number of iterations 32 reached. The mean may be inaccurate\n"
     ]
    },
    {
     "name": "stdout",
     "output_type": "stream",
     "text": [
      "SVD 수렴 문제 발생: SVD did not converge. 계속 진행합니다.\n"
     ]
    },
    {
     "name": "stderr",
     "output_type": "stream",
     "text": [
      "[I 2024-10-15 13:05:44,445] Trial 937 finished with value: 0.6471494607087828 and parameters: {'lr': 5.282407001174737e-06, 'weight_decay': 2.507644530377176e-05}. Best is trial 490 with value: 0.8166666666666667.\n",
      "WARNING: Maximum number of iterations 32 reached. The mean may be inaccurate\n"
     ]
    },
    {
     "name": "stdout",
     "output_type": "stream",
     "text": [
      "SVD 수렴 문제 발생: SVD did not converge. 계속 진행합니다.\n"
     ]
    },
    {
     "name": "stderr",
     "output_type": "stream",
     "text": [
      "[I 2024-10-15 13:10:25,787] Trial 938 finished with value: 0.5717741935483871 and parameters: {'lr': 4.827696007094803e-06, 'weight_decay': 2.9393461096738266e-05}. Best is trial 490 with value: 0.8166666666666667.\n",
      "WARNING: Maximum number of iterations 32 reached. The mean may be inaccurate\n"
     ]
    },
    {
     "name": "stdout",
     "output_type": "stream",
     "text": [
      "SVD 수렴 문제 발생: SVD did not converge. 계속 진행합니다.\n"
     ]
    },
    {
     "name": "stderr",
     "output_type": "stream",
     "text": [
      "[I 2024-10-15 13:15:05,838] Trial 939 finished with value: 0.644110275689223 and parameters: {'lr': 8.495877888028629e-06, 'weight_decay': 2.0328388730014845e-05}. Best is trial 490 with value: 0.8166666666666667.\n",
      "WARNING: Maximum number of iterations 32 reached. The mean may be inaccurate\n"
     ]
    },
    {
     "name": "stdout",
     "output_type": "stream",
     "text": [
      "SVD 수렴 문제 발생: SVD did not converge. 계속 진행합니다.\n"
     ]
    },
    {
     "name": "stderr",
     "output_type": "stream",
     "text": [
      "[I 2024-10-15 13:19:46,855] Trial 940 finished with value: 0.6962121212121213 and parameters: {'lr': 5.20814524074853e-06, 'weight_decay': 1.5055820697395347e-05}. Best is trial 490 with value: 0.8166666666666667.\n",
      "WARNING: Maximum number of iterations 32 reached. The mean may be inaccurate\n"
     ]
    },
    {
     "name": "stdout",
     "output_type": "stream",
     "text": [
      "SVD 수렴 문제 발생: SVD did not converge. 계속 진행합니다.\n"
     ]
    },
    {
     "name": "stderr",
     "output_type": "stream",
     "text": [
      "[I 2024-10-15 13:24:27,723] Trial 941 finished with value: 0.660483870967742 and parameters: {'lr': 5.778778402091232e-06, 'weight_decay': 1.7610979834331245e-05}. Best is trial 490 with value: 0.8166666666666667.\n",
      "WARNING: Maximum number of iterations 32 reached. The mean may be inaccurate\n"
     ]
    },
    {
     "name": "stdout",
     "output_type": "stream",
     "text": [
      "SVD 수렴 문제 발생: SVD did not converge. 계속 진행합니다.\n"
     ]
    },
    {
     "name": "stderr",
     "output_type": "stream",
     "text": [
      "[I 2024-10-15 13:29:08,628] Trial 942 finished with value: 0.5643939393939394 and parameters: {'lr': 6.07054875713467e-06, 'weight_decay': 2.4424725693937497e-05}. Best is trial 490 with value: 0.8166666666666667.\n",
      "WARNING: Maximum number of iterations 32 reached. The mean may be inaccurate\n",
      "[I 2024-10-15 13:33:50,996] Trial 943 finished with value: 0.6733870967741936 and parameters: {'lr': 6.585145805168976e-06, 'weight_decay': 2.9499931986470786e-05}. Best is trial 490 with value: 0.8166666666666667.\n"
     ]
    },
    {
     "name": "stdout",
     "output_type": "stream",
     "text": [
      "SVD 수렴 문제 발생: SVD did not converge. 계속 진행합니다.\n"
     ]
    },
    {
     "name": "stderr",
     "output_type": "stream",
     "text": [
      "WARNING: Maximum number of iterations 32 reached. The mean may be inaccurate\n"
     ]
    },
    {
     "name": "stdout",
     "output_type": "stream",
     "text": [
      "SVD 수렴 문제 발생: SVD did not converge. 계속 진행합니다.\n"
     ]
    },
    {
     "name": "stderr",
     "output_type": "stream",
     "text": [
      "[I 2024-10-15 13:38:32,422] Trial 944 finished with value: 0.7568181818181818 and parameters: {'lr': 7.158051400517491e-06, 'weight_decay': 2.6878348154334713e-05}. Best is trial 490 with value: 0.8166666666666667.\n",
      "WARNING: Maximum number of iterations 32 reached. The mean may be inaccurate\n"
     ]
    },
    {
     "name": "stdout",
     "output_type": "stream",
     "text": [
      "SVD 수렴 문제 발생: SVD did not converge. 계속 진행합니다.\n"
     ]
    },
    {
     "name": "stderr",
     "output_type": "stream",
     "text": [
      "[I 2024-10-15 13:43:14,137] Trial 945 finished with value: 0.6094452773613194 and parameters: {'lr': 4.302001970919513e-06, 'weight_decay': 2.0013481188649876e-05}. Best is trial 490 with value: 0.8166666666666667.\n",
      "WARNING: Maximum number of iterations 32 reached. The mean may be inaccurate\n"
     ]
    },
    {
     "name": "stdout",
     "output_type": "stream",
     "text": [
      "SVD 수렴 문제 발생: SVD did not converge. 계속 진행합니다.\n"
     ]
    },
    {
     "name": "stderr",
     "output_type": "stream",
     "text": [
      "[I 2024-10-15 13:47:56,659] Trial 946 finished with value: 0.6746031746031746 and parameters: {'lr': 5.327635795385204e-06, 'weight_decay': 3.365634253900457e-05}. Best is trial 490 with value: 0.8166666666666667.\n",
      "WARNING: Maximum number of iterations 32 reached. The mean may be inaccurate\n"
     ]
    },
    {
     "name": "stdout",
     "output_type": "stream",
     "text": [
      "SVD 수렴 문제 발생: SVD did not converge. 계속 진행합니다.\n"
     ]
    },
    {
     "name": "stderr",
     "output_type": "stream",
     "text": [
      "[I 2024-10-15 13:52:40,138] Trial 947 finished with value: 0.736143637782982 and parameters: {'lr': 6.752785285863176e-06, 'weight_decay': 2.174704009995871e-05}. Best is trial 490 with value: 0.8166666666666667.\n",
      "WARNING: Maximum number of iterations 32 reached. The mean may be inaccurate\n"
     ]
    },
    {
     "name": "stdout",
     "output_type": "stream",
     "text": [
      "SVD 수렴 문제 발생: SVD did not converge. 계속 진행합니다.\n"
     ]
    },
    {
     "name": "stderr",
     "output_type": "stream",
     "text": [
      "[I 2024-10-15 13:57:22,335] Trial 948 finished with value: 0.5964090554254489 and parameters: {'lr': 4.4832664207817535e-06, 'weight_decay': 1.3638628954828764e-05}. Best is trial 490 with value: 0.8166666666666667.\n",
      "WARNING: Maximum number of iterations 32 reached. The mean may be inaccurate\n"
     ]
    },
    {
     "name": "stdout",
     "output_type": "stream",
     "text": [
      "SVD 수렴 문제 발생: SVD did not converge. 계속 진행합니다.\n"
     ]
    },
    {
     "name": "stderr",
     "output_type": "stream",
     "text": [
      "[I 2024-10-15 14:02:04,560] Trial 949 finished with value: 0.5644804716285925 and parameters: {'lr': 8.136907041477837e-06, 'weight_decay': 1.891266072937011e-05}. Best is trial 490 with value: 0.8166666666666667.\n",
      "WARNING: Maximum number of iterations 32 reached. The mean may be inaccurate\n"
     ]
    },
    {
     "name": "stdout",
     "output_type": "stream",
     "text": [
      "SVD 수렴 문제 발생: SVD did not converge. 계속 진행합니다.\n"
     ]
    },
    {
     "name": "stderr",
     "output_type": "stream",
     "text": [
      "[I 2024-10-15 14:06:46,881] Trial 950 finished with value: 0.6955503512880562 and parameters: {'lr': 7.339727135314089e-06, 'weight_decay': 2.4804352064819143e-05}. Best is trial 490 with value: 0.8166666666666667.\n",
      "WARNING: Maximum number of iterations 32 reached. The mean may be inaccurate\n"
     ]
    },
    {
     "name": "stdout",
     "output_type": "stream",
     "text": [
      "SVD 수렴 문제 발생: SVD did not converge. 계속 진행합니다.\n"
     ]
    },
    {
     "name": "stderr",
     "output_type": "stream",
     "text": [
      "[I 2024-10-15 14:11:29,547] Trial 951 finished with value: 0.6901515151515152 and parameters: {'lr': 7.567005196236635e-06, 'weight_decay': 0.0054866096612904685}. Best is trial 490 with value: 0.8166666666666667.\n",
      "WARNING: Maximum number of iterations 32 reached. The mean may be inaccurate\n"
     ]
    },
    {
     "name": "stdout",
     "output_type": "stream",
     "text": [
      "SVD 수렴 문제 발생: SVD did not converge. 계속 진행합니다.\n"
     ]
    },
    {
     "name": "stderr",
     "output_type": "stream",
     "text": [
      "[I 2024-10-15 14:16:12,344] Trial 952 finished with value: 0.6508064516129033 and parameters: {'lr': 5.563918920953891e-06, 'weight_decay': 3.5463545949214455e-05}. Best is trial 490 with value: 0.8166666666666667.\n",
      "WARNING: Maximum number of iterations 32 reached. The mean may be inaccurate\n"
     ]
    },
    {
     "name": "stdout",
     "output_type": "stream",
     "text": [
      "SVD 수렴 문제 발생: SVD did not converge. 계속 진행합니다.\n"
     ]
    },
    {
     "name": "stderr",
     "output_type": "stream",
     "text": [
      "[I 2024-10-15 14:20:54,850] Trial 953 finished with value: 0.6128787878787878 and parameters: {'lr': 3.6146959521060773e-06, 'weight_decay': 4.4108764319495923e-05}. Best is trial 490 with value: 0.8166666666666667.\n",
      "WARNING: Maximum number of iterations 32 reached. The mean may be inaccurate\n"
     ]
    },
    {
     "name": "stdout",
     "output_type": "stream",
     "text": [
      "SVD 수렴 문제 발생: SVD did not converge. 계속 진행합니다.\n"
     ]
    },
    {
     "name": "stderr",
     "output_type": "stream",
     "text": [
      "[I 2024-10-15 14:25:37,872] Trial 954 finished with value: 0.6491935483870968 and parameters: {'lr': 5.70497761504567e-06, 'weight_decay': 2.7000800334072306e-05}. Best is trial 490 with value: 0.8166666666666667.\n",
      "WARNING: Maximum number of iterations 32 reached. The mean may be inaccurate\n"
     ]
    },
    {
     "name": "stdout",
     "output_type": "stream",
     "text": [
      "SVD 수렴 문제 발생: SVD did not converge. 계속 진행합니다.\n"
     ]
    },
    {
     "name": "stderr",
     "output_type": "stream",
     "text": [
      "[I 2024-10-15 14:30:19,741] Trial 955 finished with value: 0.6040322580645162 and parameters: {'lr': 8.02876323531059e-06, 'weight_decay': 0.00022311334805397788}. Best is trial 490 with value: 0.8166666666666667.\n",
      "WARNING: Maximum number of iterations 32 reached. The mean may be inaccurate\n"
     ]
    },
    {
     "name": "stdout",
     "output_type": "stream",
     "text": [
      "SVD 수렴 문제 발생: SVD did not converge. 계속 진행합니다.\n"
     ]
    },
    {
     "name": "stderr",
     "output_type": "stream",
     "text": [
      "[I 2024-10-15 14:35:00,674] Trial 956 finished with value: 0.6621212121212122 and parameters: {'lr': 4.779484167496419e-06, 'weight_decay': 1.642491181128771e-05}. Best is trial 490 with value: 0.8166666666666667.\n",
      "WARNING: Maximum number of iterations 32 reached. The mean may be inaccurate\n"
     ]
    },
    {
     "name": "stdout",
     "output_type": "stream",
     "text": [
      "SVD 수렴 문제 발생: SVD did not converge. 계속 진행합니다.\n"
     ]
    },
    {
     "name": "stderr",
     "output_type": "stream",
     "text": [
      "[I 2024-10-15 14:39:43,086] Trial 957 finished with value: 0.7318181818181818 and parameters: {'lr': 1.0715877213025883e-05, 'weight_decay': 3.248222652977777e-05}. Best is trial 490 with value: 0.8166666666666667.\n",
      "WARNING: Maximum number of iterations 32 reached. The mean may be inaccurate\n"
     ]
    },
    {
     "name": "stdout",
     "output_type": "stream",
     "text": [
      "SVD 수렴 문제 발생: SVD did not converge. 계속 진행합니다.\n"
     ]
    },
    {
     "name": "stderr",
     "output_type": "stream",
     "text": [
      "[I 2024-10-15 14:44:25,076] Trial 958 finished with value: 0.6129032258064516 and parameters: {'lr': 3.91442171630071e-06, 'weight_decay': 2.2049478759177554e-05}. Best is trial 490 with value: 0.8166666666666667.\n",
      "WARNING: Maximum number of iterations 32 reached. The mean may be inaccurate\n"
     ]
    },
    {
     "name": "stdout",
     "output_type": "stream",
     "text": [
      "SVD 수렴 문제 발생: SVD did not converge. 계속 진행합니다.\n"
     ]
    },
    {
     "name": "stderr",
     "output_type": "stream",
     "text": [
      "[I 2024-10-15 14:49:07,812] Trial 959 finished with value: 0.6814236111111112 and parameters: {'lr': 6.962754278178605e-06, 'weight_decay': 0.000800965248224571}. Best is trial 490 with value: 0.8166666666666667.\n",
      "WARNING: Maximum number of iterations 32 reached. The mean may be inaccurate\n"
     ]
    },
    {
     "name": "stdout",
     "output_type": "stream",
     "text": [
      "SVD 수렴 문제 발생: SVD did not converge. 계속 진행합니다.\n"
     ]
    },
    {
     "name": "stderr",
     "output_type": "stream",
     "text": [
      "[I 2024-10-15 14:53:50,595] Trial 960 finished with value: 0.6424668227946916 and parameters: {'lr': 9.746326377966724e-06, 'weight_decay': 1.539373579388159e-05}. Best is trial 490 with value: 0.8166666666666667.\n",
      "WARNING: Maximum number of iterations 32 reached. The mean may be inaccurate\n"
     ]
    },
    {
     "name": "stdout",
     "output_type": "stream",
     "text": [
      "SVD 수렴 문제 발생: SVD did not converge. 계속 진행합니다.\n"
     ]
    },
    {
     "name": "stderr",
     "output_type": "stream",
     "text": [
      "[I 2024-10-15 14:58:33,679] Trial 961 finished with value: 0.7651515151515151 and parameters: {'lr': 9.16415581854495e-06, 'weight_decay': 1.2505748678431728e-05}. Best is trial 490 with value: 0.8166666666666667.\n",
      "WARNING: Maximum number of iterations 32 reached. The mean may be inaccurate\n"
     ]
    },
    {
     "name": "stdout",
     "output_type": "stream",
     "text": [
      "SVD 수렴 문제 발생: SVD did not converge. 계속 진행합니다.\n"
     ]
    },
    {
     "name": "stderr",
     "output_type": "stream",
     "text": [
      "[I 2024-10-15 15:03:16,915] Trial 962 finished with value: 0.5387096774193548 and parameters: {'lr': 8.257562670364715e-06, 'weight_decay': 1.234758852669821e-05}. Best is trial 490 with value: 0.8166666666666667.\n",
      "WARNING: Maximum number of iterations 32 reached. The mean may be inaccurate\n"
     ]
    },
    {
     "name": "stdout",
     "output_type": "stream",
     "text": [
      "SVD 수렴 문제 발생: SVD did not converge. 계속 진행합니다.\n"
     ]
    },
    {
     "name": "stderr",
     "output_type": "stream",
     "text": [
      "[I 2024-10-15 15:07:59,988] Trial 963 finished with value: 0.7556451612903226 and parameters: {'lr': 7.466088651008193e-06, 'weight_decay': 1.3949563594294851e-05}. Best is trial 490 with value: 0.8166666666666667.\n",
      "WARNING: Maximum number of iterations 32 reached. The mean may be inaccurate\n"
     ]
    },
    {
     "name": "stdout",
     "output_type": "stream",
     "text": [
      "SVD 수렴 문제 발생: SVD did not converge. 계속 진행합니다.\n"
     ]
    },
    {
     "name": "stderr",
     "output_type": "stream",
     "text": [
      "[I 2024-10-15 15:12:44,297] Trial 964 finished with value: 0.7127244340359095 and parameters: {'lr': 9.55472936907642e-06, 'weight_decay': 1.626253442139849e-05}. Best is trial 490 with value: 0.8166666666666667.\n",
      "WARNING: Maximum number of iterations 32 reached. The mean may be inaccurate\n"
     ]
    },
    {
     "name": "stdout",
     "output_type": "stream",
     "text": [
      "SVD 수렴 문제 발생: SVD did not converge. 계속 진행합니다.\n"
     ]
    },
    {
     "name": "stderr",
     "output_type": "stream",
     "text": [
      "[I 2024-10-15 15:17:28,053] Trial 965 finished with value: 0.5856060606060607 and parameters: {'lr': 5.871106952274294e-06, 'weight_decay': 1.2997371448463812e-05}. Best is trial 490 with value: 0.8166666666666667.\n",
      "WARNING: Maximum number of iterations 32 reached. The mean may be inaccurate\n"
     ]
    },
    {
     "name": "stdout",
     "output_type": "stream",
     "text": [
      "SVD 수렴 문제 발생: SVD did not converge. 계속 진행합니다.\n"
     ]
    },
    {
     "name": "stderr",
     "output_type": "stream",
     "text": [
      "[I 2024-10-15 15:22:10,788] Trial 966 finished with value: 0.7037582903463523 and parameters: {'lr': 9.461252001971228e-06, 'weight_decay': 0.00042807430177589406}. Best is trial 490 with value: 0.8166666666666667.\n",
      "WARNING: Maximum number of iterations 32 reached. The mean may be inaccurate\n"
     ]
    },
    {
     "name": "stdout",
     "output_type": "stream",
     "text": [
      "SVD 수렴 문제 발생: SVD did not converge. 계속 진행합니다.\n"
     ]
    },
    {
     "name": "stderr",
     "output_type": "stream",
     "text": [
      "[I 2024-10-15 15:26:54,647] Trial 967 finished with value: 0.5696969696969697 and parameters: {'lr': 7.932191948156542e-06, 'weight_decay': 1.7645648926765094e-05}. Best is trial 490 with value: 0.8166666666666667.\n",
      "WARNING: Maximum number of iterations 32 reached. The mean may be inaccurate\n"
     ]
    },
    {
     "name": "stdout",
     "output_type": "stream",
     "text": [
      "SVD 수렴 문제 발생: SVD did not converge. 계속 진행합니다.\n"
     ]
    },
    {
     "name": "stderr",
     "output_type": "stream",
     "text": [
      "[I 2024-10-15 15:31:39,538] Trial 968 finished with value: 0.6096774193548388 and parameters: {'lr': 9.56997278590391e-06, 'weight_decay': 1.045412194702685e-05}. Best is trial 490 with value: 0.8166666666666667.\n",
      "WARNING: Maximum number of iterations 32 reached. The mean may be inaccurate\n"
     ]
    },
    {
     "name": "stdout",
     "output_type": "stream",
     "text": [
      "SVD 수렴 문제 발생: SVD did not converge. 계속 진행합니다.\n"
     ]
    },
    {
     "name": "stderr",
     "output_type": "stream",
     "text": [
      "[I 2024-10-15 15:36:23,544] Trial 969 finished with value: 0.6713505074160812 and parameters: {'lr': 7.4148202667318155e-06, 'weight_decay': 2.0655428851930277e-05}. Best is trial 490 with value: 0.8166666666666667.\n",
      "WARNING: Maximum number of iterations 32 reached. The mean may be inaccurate\n",
      "[I 2024-10-15 15:41:08,460] Trial 970 finished with value: 0.6861826697892272 and parameters: {'lr': 5.4929073625632386e-06, 'weight_decay': 1.2021630714221961e-05}. Best is trial 490 with value: 0.8166666666666667.\n"
     ]
    },
    {
     "name": "stdout",
     "output_type": "stream",
     "text": [
      "SVD 수렴 문제 발생: SVD did not converge. 계속 진행합니다.\n"
     ]
    },
    {
     "name": "stderr",
     "output_type": "stream",
     "text": [
      "WARNING: Maximum number of iterations 32 reached. The mean may be inaccurate\n"
     ]
    },
    {
     "name": "stdout",
     "output_type": "stream",
     "text": [
      "SVD 수렴 문제 발생: SVD did not converge. 계속 진행합니다.\n"
     ]
    },
    {
     "name": "stderr",
     "output_type": "stream",
     "text": [
      "[I 2024-10-15 15:45:49,630] Trial 971 finished with value: 0.647451963241437 and parameters: {'lr': 1.0393157104497602e-05, 'weight_decay': 1.0848523546222553e-05}. Best is trial 490 with value: 0.8166666666666667.\n",
      "WARNING: Maximum number of iterations 32 reached. The mean may be inaccurate\n"
     ]
    },
    {
     "name": "stdout",
     "output_type": "stream",
     "text": [
      "SVD 수렴 문제 발생: SVD did not converge. 계속 진행합니다.\n"
     ]
    },
    {
     "name": "stderr",
     "output_type": "stream",
     "text": [
      "[I 2024-10-15 15:50:32,881] Trial 972 finished with value: 0.6978922716627634 and parameters: {'lr': 1.0688315911448761e-05, 'weight_decay': 1.520323929318466e-05}. Best is trial 490 with value: 0.8166666666666667.\n",
      "WARNING: Maximum number of iterations 32 reached. The mean may be inaccurate\n"
     ]
    },
    {
     "name": "stdout",
     "output_type": "stream",
     "text": [
      "SVD 수렴 문제 발생: SVD did not converge. 계속 진행합니다.\n"
     ]
    },
    {
     "name": "stderr",
     "output_type": "stream",
     "text": [
      "[I 2024-10-15 15:55:15,602] Trial 973 finished with value: 0.6050110537951363 and parameters: {'lr': 6.154605756941547e-06, 'weight_decay': 1.789681180539581e-05}. Best is trial 490 with value: 0.8166666666666667.\n",
      "WARNING: Maximum number of iterations 32 reached. The mean may be inaccurate\n"
     ]
    },
    {
     "name": "stdout",
     "output_type": "stream",
     "text": [
      "SVD 수렴 문제 발생: SVD did not converge. 계속 진행합니다.\n"
     ]
    },
    {
     "name": "stderr",
     "output_type": "stream",
     "text": [
      "[I 2024-10-15 15:59:59,697] Trial 974 finished with value: 0.6432291666666666 and parameters: {'lr': 1.1393535456174933e-05, 'weight_decay': 2.62405397308881e-05}. Best is trial 490 with value: 0.8166666666666667.\n",
      "WARNING: Maximum number of iterations 32 reached. The mean may be inaccurate\n",
      "[I 2024-10-15 16:04:45,102] Trial 975 finished with value: 0.6265151515151516 and parameters: {'lr': 8.314945406013871e-06, 'weight_decay': 0.003530959774495375}. Best is trial 490 with value: 0.8166666666666667.\n"
     ]
    },
    {
     "name": "stdout",
     "output_type": "stream",
     "text": [
      "SVD 수렴 문제 발생: SVD did not converge. 계속 진행합니다.\n"
     ]
    },
    {
     "name": "stderr",
     "output_type": "stream",
     "text": [
      "WARNING: Maximum number of iterations 32 reached. The mean may be inaccurate\n",
      "[I 2024-10-15 16:09:29,616] Trial 976 finished with value: 0.7081798084008842 and parameters: {'lr': 6.710570867359209e-06, 'weight_decay': 1.4085485198527104e-05}. Best is trial 490 with value: 0.8166666666666667.\n"
     ]
    },
    {
     "name": "stdout",
     "output_type": "stream",
     "text": [
      "SVD 수렴 문제 발생: SVD did not converge. 계속 진행합니다.\n"
     ]
    },
    {
     "name": "stderr",
     "output_type": "stream",
     "text": [
      "WARNING: Maximum number of iterations 32 reached. The mean may be inaccurate\n"
     ]
    },
    {
     "name": "stdout",
     "output_type": "stream",
     "text": [
      "SVD 수렴 문제 발생: SVD did not converge. 계속 진행합니다.\n"
     ]
    },
    {
     "name": "stderr",
     "output_type": "stream",
     "text": [
      "[I 2024-10-15 16:14:13,535] Trial 977 finished with value: 0.529657477025898 and parameters: {'lr': 4.6649686620306425e-06, 'weight_decay': 2.6519968423026237e-05}. Best is trial 490 with value: 0.8166666666666667.\n",
      "WARNING: Maximum number of iterations 32 reached. The mean may be inaccurate\n"
     ]
    },
    {
     "name": "stdout",
     "output_type": "stream",
     "text": [
      "SVD 수렴 문제 발생: SVD did not converge. 계속 진행합니다.\n"
     ]
    },
    {
     "name": "stderr",
     "output_type": "stream",
     "text": [
      "[I 2024-10-15 16:18:58,398] Trial 978 finished with value: 0.7431693989071038 and parameters: {'lr': 1.0162913319439273e-05, 'weight_decay': 0.0022082718644045726}. Best is trial 490 with value: 0.8166666666666667.\n",
      "WARNING: Maximum number of iterations 32 reached. The mean may be inaccurate\n"
     ]
    },
    {
     "name": "stdout",
     "output_type": "stream",
     "text": [
      "SVD 수렴 문제 발생: SVD did not converge. 계속 진행합니다.\n"
     ]
    },
    {
     "name": "stderr",
     "output_type": "stream",
     "text": [
      "[I 2024-10-15 16:23:43,698] Trial 979 finished with value: 0.6010928961748634 and parameters: {'lr': 0.00035184730662385003, 'weight_decay': 2.3957264141903836e-05}. Best is trial 490 with value: 0.8166666666666667.\n",
      "WARNING: Maximum number of iterations 32 reached. The mean may be inaccurate\n"
     ]
    },
    {
     "name": "stdout",
     "output_type": "stream",
     "text": [
      "SVD 수렴 문제 발생: SVD did not converge. 계속 진행합니다.\n"
     ]
    },
    {
     "name": "stderr",
     "output_type": "stream",
     "text": [
      "[I 2024-10-15 16:28:28,677] Trial 980 finished with value: 0.6524193548387096 and parameters: {'lr': 8.511475514466094e-06, 'weight_decay': 9.855492254306218e-06}. Best is trial 490 with value: 0.8166666666666667.\n",
      "WARNING: Maximum number of iterations 32 reached. The mean may be inaccurate\n"
     ]
    },
    {
     "name": "stdout",
     "output_type": "stream",
     "text": [
      "SVD 수렴 문제 발생: SVD did not converge. 계속 진행합니다.\n"
     ]
    },
    {
     "name": "stderr",
     "output_type": "stream",
     "text": [
      "[I 2024-10-15 16:33:12,961] Trial 981 finished with value: 0.629976580796253 and parameters: {'lr': 1.1608869149906837e-05, 'weight_decay': 0.0011636783116483265}. Best is trial 490 with value: 0.8166666666666667.\n",
      "WARNING: Maximum number of iterations 32 reached. The mean may be inaccurate\n"
     ]
    },
    {
     "name": "stdout",
     "output_type": "stream",
     "text": [
      "SVD 수렴 문제 발생: SVD did not converge. 계속 진행합니다.\n"
     ]
    },
    {
     "name": "stderr",
     "output_type": "stream",
     "text": [
      "[I 2024-10-15 16:37:56,900] Trial 982 finished with value: 0.6502732240437159 and parameters: {'lr': 6.6482791999718415e-06, 'weight_decay': 2.0220834752517553e-05}. Best is trial 490 with value: 0.8166666666666667.\n",
      "WARNING: Maximum number of iterations 32 reached. The mean may be inaccurate\n"
     ]
    },
    {
     "name": "stdout",
     "output_type": "stream",
     "text": [
      "SVD 수렴 문제 발생: SVD did not converge. 계속 진행합니다.\n"
     ]
    },
    {
     "name": "stderr",
     "output_type": "stream",
     "text": [
      "[I 2024-10-15 16:42:40,352] Trial 983 finished with value: 0.6494925839188134 and parameters: {'lr': 1.174708855356017e-05, 'weight_decay': 1.1243263137391987e-05}. Best is trial 490 with value: 0.8166666666666667.\n",
      "WARNING: Maximum number of iterations 32 reached. The mean may be inaccurate\n"
     ]
    },
    {
     "name": "stdout",
     "output_type": "stream",
     "text": [
      "SVD 수렴 문제 발생: SVD did not converge. 계속 진행합니다.\n"
     ]
    },
    {
     "name": "stderr",
     "output_type": "stream",
     "text": [
      "[I 2024-10-15 16:47:24,070] Trial 984 finished with value: 0.6101694915254237 and parameters: {'lr': 9.053283169162817e-06, 'weight_decay': 9.549301457343147e-05}. Best is trial 490 with value: 0.8166666666666667.\n",
      "WARNING: Maximum number of iterations 32 reached. The mean may be inaccurate\n"
     ]
    },
    {
     "name": "stdout",
     "output_type": "stream",
     "text": [
      "SVD 수렴 문제 발생: SVD did not converge. 계속 진행합니다.\n"
     ]
    },
    {
     "name": "stderr",
     "output_type": "stream",
     "text": [
      "[I 2024-10-15 16:52:06,755] Trial 985 finished with value: 0.6779661016949152 and parameters: {'lr': 5.132161491695136e-06, 'weight_decay': 1.804903969025388e-05}. Best is trial 490 with value: 0.8166666666666667.\n",
      "WARNING: Maximum number of iterations 32 reached. The mean may be inaccurate\n"
     ]
    },
    {
     "name": "stdout",
     "output_type": "stream",
     "text": [
      "SVD 수렴 문제 발생: SVD did not converge. 계속 진행합니다.\n"
     ]
    },
    {
     "name": "stderr",
     "output_type": "stream",
     "text": [
      "[I 2024-10-15 16:56:49,823] Trial 986 finished with value: 0.566213921901528 and parameters: {'lr': 4.202260922863546e-06, 'weight_decay': 1.2887153657858634e-05}. Best is trial 490 with value: 0.8166666666666667.\n",
      "WARNING: Maximum number of iterations 32 reached. The mean may be inaccurate\n"
     ]
    },
    {
     "name": "stdout",
     "output_type": "stream",
     "text": [
      "SVD 수렴 문제 발생: SVD did not converge. 계속 진행합니다.\n"
     ]
    },
    {
     "name": "stderr",
     "output_type": "stream",
     "text": [
      "[I 2024-10-15 17:01:32,063] Trial 987 finished with value: 0.7354838709677419 and parameters: {'lr': 1.2327150020826586e-05, 'weight_decay': 0.00014779350967368698}. Best is trial 490 with value: 0.8166666666666667.\n",
      "WARNING: Maximum number of iterations 32 reached. The mean may be inaccurate\n",
      "[I 2024-10-15 17:06:17,366] Trial 988 finished with value: 0.5515151515151515 and parameters: {'lr': 7.866280195342494e-06, 'weight_decay': 8.745796373183946e-06}. Best is trial 490 with value: 0.8166666666666667.\n"
     ]
    },
    {
     "name": "stdout",
     "output_type": "stream",
     "text": [
      "SVD 수렴 문제 발생: SVD did not converge. 계속 진행합니다.\n"
     ]
    },
    {
     "name": "stderr",
     "output_type": "stream",
     "text": [
      "WARNING: Maximum number of iterations 32 reached. The mean may be inaccurate\n",
      "[I 2024-10-15 17:11:01,130] Trial 989 finished with value: 0.6612021857923497 and parameters: {'lr': 1.0916192636464862e-05, 'weight_decay': 3.9552614867181553e-05}. Best is trial 490 with value: 0.8166666666666667.\n"
     ]
    },
    {
     "name": "stdout",
     "output_type": "stream",
     "text": [
      "SVD 수렴 문제 발생: SVD did not converge. 계속 진행합니다.\n"
     ]
    },
    {
     "name": "stderr",
     "output_type": "stream",
     "text": [
      "WARNING: Maximum number of iterations 32 reached. The mean may be inaccurate\n"
     ]
    },
    {
     "name": "stdout",
     "output_type": "stream",
     "text": [
      "SVD 수렴 문제 발생: SVD did not converge. 계속 진행합니다.\n"
     ]
    },
    {
     "name": "stderr",
     "output_type": "stream",
     "text": [
      "[I 2024-10-15 17:15:43,347] Trial 990 finished with value: 0.6924277907884465 and parameters: {'lr': 6.004399575592149e-06, 'weight_decay': 3.1031973639090475e-05}. Best is trial 490 with value: 0.8166666666666667.\n",
      "WARNING: Maximum number of iterations 32 reached. The mean may be inaccurate\n"
     ]
    },
    {
     "name": "stdout",
     "output_type": "stream",
     "text": [
      "SVD 수렴 문제 발생: SVD did not converge. 계속 진행합니다.\n"
     ]
    },
    {
     "name": "stderr",
     "output_type": "stream",
     "text": [
      "[I 2024-10-15 17:20:27,186] Trial 991 finished with value: 0.6442622950819672 and parameters: {'lr': 1.223494121699242e-05, 'weight_decay': 1.5929935872815323e-05}. Best is trial 490 with value: 0.8166666666666667.\n",
      "WARNING: Maximum number of iterations 32 reached. The mean may be inaccurate\n"
     ]
    },
    {
     "name": "stdout",
     "output_type": "stream",
     "text": [
      "SVD 수렴 문제 발생: SVD did not converge. 계속 진행합니다.\n"
     ]
    },
    {
     "name": "stderr",
     "output_type": "stream",
     "text": [
      "[I 2024-10-15 17:25:09,196] Trial 992 finished with value: 0.7665886026541765 and parameters: {'lr': 7.5916169611880425e-06, 'weight_decay': 9.002481494646708e-06}. Best is trial 490 with value: 0.8166666666666667.\n",
      "WARNING: Maximum number of iterations 32 reached. The mean may be inaccurate\n"
     ]
    },
    {
     "name": "stdout",
     "output_type": "stream",
     "text": [
      "SVD 수렴 문제 발생: SVD did not converge. 계속 진행합니다.\n"
     ]
    },
    {
     "name": "stderr",
     "output_type": "stream",
     "text": [
      "[I 2024-10-15 17:29:51,852] Trial 993 finished with value: 0.6636363636363637 and parameters: {'lr': 7.389507447427942e-06, 'weight_decay': 9.66098082911912e-06}. Best is trial 490 with value: 0.8166666666666667.\n",
      "WARNING: Maximum number of iterations 32 reached. The mean may be inaccurate\n"
     ]
    },
    {
     "name": "stdout",
     "output_type": "stream",
     "text": [
      "SVD 수렴 문제 발생: SVD did not converge. 계속 진행합니다.\n"
     ]
    },
    {
     "name": "stderr",
     "output_type": "stream",
     "text": [
      "[I 2024-10-15 17:34:34,766] Trial 994 finished with value: 0.5463659147869674 and parameters: {'lr': 4.79283608320272e-06, 'weight_decay': 9.368162229346433e-06}. Best is trial 490 with value: 0.8166666666666667.\n",
      "WARNING: Maximum number of iterations 32 reached. The mean may be inaccurate\n"
     ]
    },
    {
     "name": "stdout",
     "output_type": "stream",
     "text": [
      "SVD 수렴 문제 발생: SVD did not converge. 계속 진행합니다.\n"
     ]
    },
    {
     "name": "stderr",
     "output_type": "stream",
     "text": [
      "[I 2024-10-15 17:39:17,907] Trial 995 finished with value: 0.6443548387096775 and parameters: {'lr': 5.8598601138412215e-06, 'weight_decay': 1.0298055749928229e-05}. Best is trial 490 with value: 0.8166666666666667.\n",
      "WARNING: Maximum number of iterations 32 reached. The mean may be inaccurate\n"
     ]
    },
    {
     "name": "stdout",
     "output_type": "stream",
     "text": [
      "SVD 수렴 문제 발생: SVD did not converge. 계속 진행합니다.\n"
     ]
    },
    {
     "name": "stderr",
     "output_type": "stream",
     "text": [
      "[I 2024-10-15 17:44:01,738] Trial 996 finished with value: 0.5823575331772053 and parameters: {'lr': 8.725833225301339e-06, 'weight_decay': 1.1967054394093112e-05}. Best is trial 490 with value: 0.8166666666666667.\n",
      "WARNING: Maximum number of iterations 32 reached. The mean may be inaccurate\n"
     ]
    },
    {
     "name": "stdout",
     "output_type": "stream",
     "text": [
      "SVD 수렴 문제 발생: SVD did not converge. 계속 진행합니다.\n"
     ]
    },
    {
     "name": "stderr",
     "output_type": "stream",
     "text": [
      "[I 2024-10-15 17:48:45,311] Trial 997 finished with value: 0.6604215456674474 and parameters: {'lr': 7.316534875579856e-06, 'weight_decay': 1.2282872523349148e-05}. Best is trial 490 with value: 0.8166666666666667.\n",
      "WARNING: Maximum number of iterations 32 reached. The mean may be inaccurate\n"
     ]
    },
    {
     "name": "stdout",
     "output_type": "stream",
     "text": [
      "SVD 수렴 문제 발생: SVD did not converge. 계속 진행합니다.\n"
     ]
    },
    {
     "name": "stderr",
     "output_type": "stream",
     "text": [
      "[I 2024-10-15 17:53:29,911] Trial 998 finished with value: 0.6548387096774193 and parameters: {'lr': 5.628002060489833e-06, 'weight_decay': 7.644121659463987e-06}. Best is trial 490 with value: 0.8166666666666667.\n",
      "WARNING: Maximum number of iterations 32 reached. The mean may be inaccurate\n",
      "[I 2024-10-15 17:58:14,414] Trial 999 finished with value: 0.5628787878787879 and parameters: {'lr': 7.004414962479449e-06, 'weight_decay': 9.964016157469509e-06}. Best is trial 490 with value: 0.8166666666666667.\n"
     ]
    },
    {
     "name": "stdout",
     "output_type": "stream",
     "text": [
      "SVD 수렴 문제 발생: SVD did not converge. 계속 진행합니다.\n",
      "Best trial AUC: 0.8166666666666667\n",
      "Best hyperparameters: {'lr': 5.953085385304724e-06, 'weight_decay': 3.3129820853775895e-06}\n"
     ]
    }
   ],
   "source": [
    "import numpy as np\n",
    "import torch\n",
    "import torch.optim as optim\n",
    "import torch.nn as nn\n",
    "import torchvision.transforms as transforms\n",
    "import torchvision.models as models\n",
    "from torch.utils.data import TensorDataset, DataLoader\n",
    "from sklearn.model_selection import KFold\n",
    "from sklearn.preprocessing import LabelEncoder\n",
    "from sklearn.metrics import accuracy_score, roc_curve, roc_auc_score\n",
    "from sklearn.utils import shuffle\n",
    "import optuna\n",
    "\n",
    "# Apply 10-Fold Cross-Validation\n",
    "kf = KFold(n_splits=10, shuffle=True)\n",
    "\n",
    "# Lists to store accuracy and AUC\n",
    "accuracies = []\n",
    "aucs = []\n",
    "\n",
    "le = LabelEncoder()  # Label encoder\n",
    "\n",
    "pixel_size = (224, 224)\n",
    "sphere = Hypersphere(dim=36348)  # Declare a hypersphere with one dimension lower than the actual dimension for Tangent PCA\n",
    "it = ImageTransformer(\n",
    "    feature_extractor=TangentPCA(sphere, n_components=2),\n",
    "    pixels=pixel_size) # The default center point for TangentPCA is the Frechet mean\n",
    "\n",
    "# Create an Optuna study\n",
    "study = optuna.create_study(direction='maximize')\n",
    "\n",
    "# Define a trial function for Optuna to optimize lr and weight_decay\n",
    "def optimize_trial(trial):\n",
    "    # Set learning rate and weight_decay as hyperparameters to optimize using Optuna\n",
    "    lr = trial.suggest_float('lr', 1e-6, 1e-2, log=True)\n",
    "    weight_decay = trial.suggest_float('weight_decay', 1e-6, 1e-2, log=True)\n",
    "    \n",
    "    actual_labels_list = []\n",
    "    probs_list = []\n",
    "    \n",
    "    for train_index, test_index in kf.split(X):\n",
    "        # Train/Test Split\n",
    "        X_train, X_test = X[train_index], X[test_index]\n",
    "        y_train, y_test = y[train_index], y[test_index]\n",
    "\n",
    "        # Apply ImageTransformer (with exception handling)\n",
    "        try:\n",
    "            it.fit(X_train, y=y_train, plot=False)\n",
    "        except Exception as e:\n",
    "            print(f\"SVD 수렴 문제 발생: {e}. 계속 진행합니다.\")\n",
    "            continue  # 수렴 문제 발생 시 다음 루프로 넘어감\n",
    "\n",
    "        X_train_img = it.transform(X_train)\n",
    "        X_test_img = it.transform(X_test)\n",
    "\n",
    "        fdm = it.feature_density_matrix()\n",
    "        fdm_nonzero_indices = np.nonzero(fdm)\n",
    "        X_train_img = it.transform(X_train)\n",
    "        X_test_img = it.transform(X_test)\n",
    "\n",
    "        preprocess = transforms.Compose([\n",
    "            transforms.ToTensor()\n",
    "        ])\n",
    "\n",
    "        # Convert to Tensor\n",
    "        X_train_tensor = torch.stack([preprocess(img) for img in X_train_img]).float()\n",
    "        y_train_tensor = torch.from_numpy(le.fit_transform(y_train))\n",
    "\n",
    "        X_test_tensor = torch.stack([preprocess(img) for img in X_test_img]).float()\n",
    "        y_test_tensor = torch.from_numpy(le.transform(y_test))\n",
    "\n",
    "        # Set up DataLoader\n",
    "        batch_size = 32\n",
    "        trainset = TensorDataset(X_train_tensor, y_train_tensor)\n",
    "        trainloader = DataLoader(trainset, batch_size=batch_size, shuffle=True)\n",
    "\n",
    "        testset = TensorDataset(X_test_tensor, y_test_tensor)\n",
    "        testloader = DataLoader(testset, batch_size=1, shuffle=False)\n",
    "\n",
    "        model = models.resnet50(weights='DEFAULT')\n",
    "        \n",
    "        # Modify the last fully connected layer for binary classification\n",
    "        num_ftrs = model.fc.in_features\n",
    "        model.fc = nn.Linear(num_ftrs, 1)  # Output layer for binary classification\n",
    "        \n",
    "        # Define loss function and optimizer\n",
    "        criterion = nn.BCEWithLogitsLoss()\n",
    "        optimizer = optim.AdamW(model.parameters(), lr=lr, weight_decay=weight_decay)\n",
    "\n",
    "        # Move model to GPU\n",
    "        device = torch.device('cuda' if torch.cuda.is_available() else 'cpu')\n",
    "        model.to(device)\n",
    "\n",
    "        # Start training\n",
    "        epochs = 100 \n",
    "        for epoch in range(epochs):\n",
    "            model.train()\n",
    "            running_loss = 0.0\n",
    "\n",
    "            for i, data in enumerate(trainloader, 0):\n",
    "                inputs, labels = data\n",
    "                inputs = inputs.to(device)\n",
    "                labels = labels.to(device).float()\n",
    "\n",
    "                optimizer.zero_grad()\n",
    "                outputs = model(inputs)\n",
    "                loss = criterion(outputs, labels.unsqueeze(1))\n",
    "                loss.backward()\n",
    "                optimizer.step()\n",
    "\n",
    "                running_loss += loss.item()\n",
    "        \n",
    "        # 평가 모드로 전환\n",
    "        model.eval()\n",
    "\n",
    "        with torch.no_grad():\n",
    "            for data in testloader:\n",
    "                inputs, labels = data\n",
    "                inputs = inputs.to(device)\n",
    "                labels = labels.to(device).float()\n",
    "\n",
    "                outputs = model(inputs)\n",
    "                probs = torch.sigmoid(outputs).cpu().numpy()\n",
    "\n",
    "                # Store actual labels and probabilities for AUC calculation\n",
    "                actual_labels_list.append(labels.cpu().numpy()[0])\n",
    "                probs_list.append(probs[0])\n",
    "\n",
    "    # AUC 계산\n",
    "    try:\n",
    "        auc = roc_auc_score(actual_labels_list, probs_list)\n",
    "    except ValueError:\n",
    "        # Handle exceptions if AUC calculation fails\n",
    "        print(\"AUC 계산에 실패했습니다.\")\n",
    "        auc = 0.0\n",
    "\n",
    "    # Optuna aims to maximize the objective function, so return AUC\n",
    "    return auc\n",
    "\n",
    "# Run Optuna optimization\n",
    "study.optimize(optimize_trial, n_trials=1000)\n",
    "\n",
    "# Print optimization results\n",
    "print(f'Best trial AUC: {study.best_trial.value}')\n",
    "print(f'Best hyperparameters: {study.best_trial.params}')"
   ]
  },
  {
   "cell_type": "code",
   "execution_count": null,
   "id": "60f52773-5ed4-44fd-b42a-e28504e58ec5",
   "metadata": {},
   "outputs": [],
   "source": []
  }
 ],
 "metadata": {
  "kernelspec": {
   "display_name": "Python 3 (ipykernel)",
   "language": "python",
   "name": "python3"
  },
  "language_info": {
   "codemirror_mode": {
    "name": "ipython",
    "version": 3
   },
   "file_extension": ".py",
   "mimetype": "text/x-python",
   "name": "python",
   "nbconvert_exporter": "python",
   "pygments_lexer": "ipython3",
   "version": "3.12.2"
  }
 },
 "nbformat": 4,
 "nbformat_minor": 5
}
