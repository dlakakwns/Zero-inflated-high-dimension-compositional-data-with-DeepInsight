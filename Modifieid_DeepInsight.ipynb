{
 "cells": [
  {
   "cell_type": "code",
   "execution_count": 1,
   "id": "498587fa-02ba-43cb-a502-78e2a60274b4",
   "metadata": {},
   "outputs": [
    {
     "name": "stderr",
     "output_type": "stream",
     "text": [
      "INFO: Using numpy backend\n"
     ]
    }
   ],
   "source": [
    "from pyDeepInsight import ImageTransformer, CAMFeatureSelector\n",
    "\n",
    "import pandas as pd\n",
    "import numpy as np\n",
    "from sklearn.model_selection import train_test_split\n",
    "from sklearn.preprocessing import MinMaxScaler, LabelEncoder\n",
    "import torch\n",
    "import torchvision.transforms as transforms\n",
    "import timm\n",
    "from torch.utils.data import TensorDataset, DataLoader\n",
    "import torch.nn as nn\n",
    "import torch.optim as optim\n",
    "from sklearn.metrics import accuracy_score\n",
    "from geomstats.learning.frechet_mean import FrechetMean\n",
    "from geomstats.learning.pca import TangentPCA\n",
    "from geomstats.geometry.hypersphere import Hypersphere\n",
    "from IPython.display import display, clear_output\n",
    "import torchvision.models as models\n",
    "import matplotlib.pyplot as plt\n",
    "import matplotlib.ticker as ticker\n",
    "import seaborn as sns\n",
    "import torch\n",
    "import torchvision\n",
    "import torchvision.transforms as transforms\n",
    "from torch.utils.data import TensorDataset, DataLoader\n",
    "import torch.nn as nn\n",
    "import torch.optim as optim\n",
    "from sklearn.metrics import roc_auc_score, ConfusionMatrixDisplay, confusion_matrix\n",
    "from sklearn.metrics import accuracy_score, ConfusionMatrixDisplay, roc_auc_score, roc_curve\n",
    "import warnings\n",
    "\n",
    "warnings.filterwarnings(\"ignore\")"
   ]
  },
  {
   "cell_type": "code",
   "execution_count": 2,
   "id": "893d59d8-e8a1-42ff-9259-a89a3d13e375",
   "metadata": {},
   "outputs": [],
   "source": [
    "data = pd.read_csv('ibd_data_set.csv',index_col=0)\n",
    "data = data.div(data.sum(axis=1), axis=0) #compositional data로 조정\n",
    "data = np.sqrt(data) #square-root 변환\n",
    "X=data.values #X data로 지정\n",
    "sample=pd.read_csv('ibd_response.csv',index_col=0)\n",
    "y=sample['ibd'] #label 지정\n",
    "le = LabelEncoder()\n",
    "y_enc = le.fit_transform(y)\n",
    "num_classes = np.unique(y_enc).size"
   ]
  },
  {
   "cell_type": "code",
   "execution_count": 3,
   "id": "bd29bdb6-e1f8-43ec-866b-b54dfb26d4ed",
   "metadata": {},
   "outputs": [
    {
     "name": "stderr",
     "output_type": "stream",
     "text": [
      "[I 2024-09-30 12:46:36,870] A new study created in memory with name: no-name-4eeabe1a-b4e7-49a0-9a85-99a87f5cd595\n",
      "WARNING: Maximum number of iterations 32 reached. The mean may be inaccurate\n"
     ]
    },
    {
     "name": "stdout",
     "output_type": "stream",
     "text": [
      "SVD 수렴 문제 발생: SVD did not converge. 계속 진행합니다.\n"
     ]
    },
    {
     "name": "stderr",
     "output_type": "stream",
     "text": [
      "[I 2024-09-30 13:20:07,094] Trial 0 finished with value: 0.5746527777777777 and parameters: {'lr': 8.026698630342224e-06, 'weight_decay': 9.877164367181819e-05}. Best is trial 0 with value: 0.5746527777777777.\n",
      "WARNING: Maximum number of iterations 32 reached. The mean may be inaccurate\n"
     ]
    },
    {
     "name": "stdout",
     "output_type": "stream",
     "text": [
      "SVD 수렴 문제 발생: SVD did not converge. 계속 진행합니다.\n"
     ]
    },
    {
     "name": "stderr",
     "output_type": "stream",
     "text": [
      "[I 2024-09-30 13:53:47,634] Trial 1 finished with value: 0.5137096774193548 and parameters: {'lr': 0.0001063337754565088, 'weight_decay': 1.0683771457349063e-05}. Best is trial 0 with value: 0.5746527777777777.\n",
      "WARNING: Maximum number of iterations 32 reached. The mean may be inaccurate\n"
     ]
    },
    {
     "name": "stdout",
     "output_type": "stream",
     "text": [
      "SVD 수렴 문제 발생: SVD did not converge. 계속 진행합니다.\n"
     ]
    },
    {
     "name": "stderr",
     "output_type": "stream",
     "text": [
      "[I 2024-09-30 14:27:31,296] Trial 2 finished with value: 0.6516290726817042 and parameters: {'lr': 7.905812118218035e-05, 'weight_decay': 0.004110510239151318}. Best is trial 2 with value: 0.6516290726817042.\n",
      "WARNING: Maximum number of iterations 32 reached. The mean may be inaccurate\n"
     ]
    },
    {
     "name": "stdout",
     "output_type": "stream",
     "text": [
      "SVD 수렴 문제 발생: SVD did not converge. 계속 진행합니다.\n"
     ]
    },
    {
     "name": "stderr",
     "output_type": "stream",
     "text": [
      "[I 2024-09-30 15:01:14,576] Trial 3 finished with value: 0.6467741935483872 and parameters: {'lr': 2.2728218649918968e-05, 'weight_decay': 8.64779411496899e-06}. Best is trial 2 with value: 0.6516290726817042.\n",
      "WARNING: Maximum number of iterations 32 reached. The mean may be inaccurate\n"
     ]
    },
    {
     "name": "stdout",
     "output_type": "stream",
     "text": [
      "SVD 수렴 문제 발생: SVD did not converge. 계속 진행합니다.\n"
     ]
    },
    {
     "name": "stderr",
     "output_type": "stream",
     "text": [
      "[I 2024-09-30 15:34:53,654] Trial 4 finished with value: 0.565530303030303 and parameters: {'lr': 0.00500590129080539, 'weight_decay': 7.057132167019502e-05}. Best is trial 2 with value: 0.6516290726817042.\n",
      "WARNING: Maximum number of iterations 32 reached. The mean may be inaccurate\n"
     ]
    },
    {
     "name": "stdout",
     "output_type": "stream",
     "text": [
      "SVD 수렴 문제 발생: SVD did not converge. 계속 진행합니다.\n"
     ]
    },
    {
     "name": "stderr",
     "output_type": "stream",
     "text": [
      "[I 2024-09-30 16:08:45,709] Trial 5 finished with value: 0.5362997658079626 and parameters: {'lr': 5.27773344684703e-06, 'weight_decay': 1.4603392340599064e-06}. Best is trial 2 with value: 0.6516290726817042.\n",
      "WARNING: Maximum number of iterations 32 reached. The mean may be inaccurate\n"
     ]
    },
    {
     "name": "stdout",
     "output_type": "stream",
     "text": [
      "SVD 수렴 문제 발생: SVD did not converge. 계속 진행합니다.\n"
     ]
    },
    {
     "name": "stderr",
     "output_type": "stream",
     "text": [
      "[I 2024-09-30 16:42:32,329] Trial 6 finished with value: 0.5830645161290323 and parameters: {'lr': 0.003916507684282676, 'weight_decay': 0.0009348002444626887}. Best is trial 2 with value: 0.6516290726817042.\n",
      "WARNING: Maximum number of iterations 32 reached. The mean may be inaccurate\n"
     ]
    },
    {
     "name": "stdout",
     "output_type": "stream",
     "text": [
      "SVD 수렴 문제 발생: SVD did not converge. 계속 진행합니다.\n"
     ]
    },
    {
     "name": "stderr",
     "output_type": "stream",
     "text": [
      "[I 2024-09-30 17:16:28,708] Trial 7 finished with value: 0.6830645161290323 and parameters: {'lr': 3.0301890853545948e-05, 'weight_decay': 5.601576022029725e-05}. Best is trial 7 with value: 0.6830645161290323.\n",
      "WARNING: Maximum number of iterations 32 reached. The mean may be inaccurate\n"
     ]
    },
    {
     "name": "stdout",
     "output_type": "stream",
     "text": [
      "SVD 수렴 문제 발생: SVD did not converge. 계속 진행합니다.\n"
     ]
    },
    {
     "name": "stderr",
     "output_type": "stream",
     "text": [
      "[I 2024-09-30 17:50:37,487] Trial 8 finished with value: 0.5906432748538012 and parameters: {'lr': 6.512067095630352e-05, 'weight_decay': 1.9466917503958035e-06}. Best is trial 7 with value: 0.6830645161290323.\n",
      "WARNING: Maximum number of iterations 32 reached. The mean may be inaccurate\n"
     ]
    },
    {
     "name": "stdout",
     "output_type": "stream",
     "text": [
      "SVD 수렴 문제 발생: SVD did not converge. 계속 진행합니다.\n"
     ]
    },
    {
     "name": "stderr",
     "output_type": "stream",
     "text": [
      "[I 2024-09-30 18:24:57,126] Trial 9 finished with value: 0.6221701795472286 and parameters: {'lr': 9.160908082718806e-06, 'weight_decay': 3.989701847043567e-05}. Best is trial 7 with value: 0.6830645161290323.\n",
      "WARNING: Maximum number of iterations 32 reached. The mean may be inaccurate\n"
     ]
    },
    {
     "name": "stdout",
     "output_type": "stream",
     "text": [
      "SVD 수렴 문제 발생: SVD did not converge. 계속 진행합니다.\n"
     ]
    },
    {
     "name": "stderr",
     "output_type": "stream",
     "text": [
      "[I 2024-09-30 18:59:22,090] Trial 10 finished with value: 0.6467741935483872 and parameters: {'lr': 1.1910671080393013e-06, 'weight_decay': 0.0006010727688335208}. Best is trial 7 with value: 0.6830645161290323.\n",
      "WARNING: Maximum number of iterations 32 reached. The mean may be inaccurate\n"
     ]
    },
    {
     "name": "stdout",
     "output_type": "stream",
     "text": [
      "SVD 수렴 문제 발생: SVD did not converge. 계속 진행합니다.\n"
     ]
    },
    {
     "name": "stderr",
     "output_type": "stream",
     "text": [
      "[I 2024-09-30 19:33:41,361] Trial 11 finished with value: 0.6057767369242779 and parameters: {'lr': 0.0004149253559423406, 'weight_decay': 0.004881443843674804}. Best is trial 7 with value: 0.6830645161290323.\n",
      "WARNING: Maximum number of iterations 32 reached. The mean may be inaccurate\n"
     ]
    },
    {
     "name": "stdout",
     "output_type": "stream",
     "text": [
      "SVD 수렴 문제 발생: SVD did not converge. 계속 진행합니다.\n"
     ]
    },
    {
     "name": "stderr",
     "output_type": "stream",
     "text": [
      "[I 2024-09-30 20:07:54,004] Trial 12 finished with value: 0.7287878787878788 and parameters: {'lr': 0.00040986233967319787, 'weight_decay': 0.0005253647821540689}. Best is trial 12 with value: 0.7287878787878788.\n",
      "WARNING: Maximum number of iterations 32 reached. The mean may be inaccurate\n"
     ]
    },
    {
     "name": "stdout",
     "output_type": "stream",
     "text": [
      "SVD 수렴 문제 발생: SVD did not converge. 계속 진행합니다.\n"
     ]
    },
    {
     "name": "stderr",
     "output_type": "stream",
     "text": [
      "[I 2024-09-30 20:42:02,452] Trial 13 finished with value: 0.6590909090909092 and parameters: {'lr': 0.0005522744010012789, 'weight_decay': 0.0005522228091304566}. Best is trial 12 with value: 0.7287878787878788.\n",
      "WARNING: Maximum number of iterations 32 reached. The mean may be inaccurate\n"
     ]
    },
    {
     "name": "stdout",
     "output_type": "stream",
     "text": [
      "SVD 수렴 문제 발생: SVD did not converge. 계속 진행합니다.\n"
     ]
    },
    {
     "name": "stderr",
     "output_type": "stream",
     "text": [
      "[I 2024-09-30 21:16:06,770] Trial 14 finished with value: 0.5818181818181818 and parameters: {'lr': 0.0008095063531431897, 'weight_decay': 0.0002500756740566704}. Best is trial 12 with value: 0.7287878787878788.\n",
      "WARNING: Maximum number of iterations 32 reached. The mean may be inaccurate\n"
     ]
    },
    {
     "name": "stdout",
     "output_type": "stream",
     "text": [
      "SVD 수렴 문제 발생: SVD did not converge. 계속 진행합니다.\n"
     ]
    },
    {
     "name": "stderr",
     "output_type": "stream",
     "text": [
      "[I 2024-09-30 21:50:20,814] Trial 15 finished with value: 0.6580645161290322 and parameters: {'lr': 0.0001934678823304419, 'weight_decay': 1.2367370902972219e-05}. Best is trial 12 with value: 0.7287878787878788.\n",
      "WARNING: Maximum number of iterations 32 reached. The mean may be inaccurate\n"
     ]
    },
    {
     "name": "stdout",
     "output_type": "stream",
     "text": [
      "SVD 수렴 문제 발생: SVD did not converge. 계속 진행합니다.\n"
     ]
    },
    {
     "name": "stderr",
     "output_type": "stream",
     "text": [
      "[I 2024-09-30 22:24:47,632] Trial 16 finished with value: 0.5849206349206348 and parameters: {'lr': 2.501856100389798e-05, 'weight_decay': 3.101871536105232e-05}. Best is trial 12 with value: 0.7287878787878788.\n",
      "WARNING: Maximum number of iterations 32 reached. The mean may be inaccurate\n"
     ]
    },
    {
     "name": "stdout",
     "output_type": "stream",
     "text": [
      "SVD 수렴 문제 발생: SVD did not converge. 계속 진행합니다.\n"
     ]
    },
    {
     "name": "stderr",
     "output_type": "stream",
     "text": [
      "[I 2024-09-30 22:59:06,583] Trial 17 finished with value: 0.7017954722872755 and parameters: {'lr': 0.002059553192771574, 'weight_decay': 0.0022026415737256095}. Best is trial 12 with value: 0.7287878787878788.\n",
      "WARNING: Maximum number of iterations 32 reached. The mean may be inaccurate\n"
     ]
    },
    {
     "name": "stdout",
     "output_type": "stream",
     "text": [
      "SVD 수렴 문제 발생: SVD did not converge. 계속 진행합니다.\n"
     ]
    },
    {
     "name": "stderr",
     "output_type": "stream",
     "text": [
      "[I 2024-09-30 23:33:28,747] Trial 18 finished with value: 0.6682279469164715 and parameters: {'lr': 0.0014256661620232736, 'weight_decay': 0.001804393661474683}. Best is trial 12 with value: 0.7287878787878788.\n",
      "WARNING: Maximum number of iterations 32 reached. The mean may be inaccurate\n"
     ]
    },
    {
     "name": "stdout",
     "output_type": "stream",
     "text": [
      "SVD 수렴 문제 발생: SVD did not converge. 계속 진행합니다.\n"
     ]
    },
    {
     "name": "stderr",
     "output_type": "stream",
     "text": [
      "[I 2024-10-01 00:07:46,158] Trial 19 finished with value: 0.5159090909090909 and parameters: {'lr': 0.001792856572249681, 'weight_decay': 0.00837174407357594}. Best is trial 12 with value: 0.7287878787878788.\n",
      "WARNING: Maximum number of iterations 32 reached. The mean may be inaccurate\n"
     ]
    },
    {
     "name": "stdout",
     "output_type": "stream",
     "text": [
      "SVD 수렴 문제 발생: SVD did not converge. 계속 진행합니다.\n"
     ]
    },
    {
     "name": "stderr",
     "output_type": "stream",
     "text": [
      "[I 2024-10-01 00:42:03,606] Trial 20 finished with value: 0.5346774193548387 and parameters: {'lr': 0.009063043333128216, 'weight_decay': 0.00024251791835106147}. Best is trial 12 with value: 0.7287878787878788.\n",
      "WARNING: Maximum number of iterations 32 reached. The mean may be inaccurate\n"
     ]
    },
    {
     "name": "stdout",
     "output_type": "stream",
     "text": [
      "SVD 수렴 문제 발생: SVD did not converge. 계속 진행합니다.\n"
     ]
    },
    {
     "name": "stderr",
     "output_type": "stream",
     "text": [
      "[I 2024-10-01 01:16:28,437] Trial 21 finished with value: 0.6869633099141296 and parameters: {'lr': 0.00021235141908201337, 'weight_decay': 0.0020329435601421316}. Best is trial 12 with value: 0.7287878787878788.\n",
      "WARNING: Maximum number of iterations 32 reached. The mean may be inaccurate\n"
     ]
    },
    {
     "name": "stdout",
     "output_type": "stream",
     "text": [
      "SVD 수렴 문제 발생: SVD did not converge. 계속 진행합니다.\n"
     ]
    },
    {
     "name": "stderr",
     "output_type": "stream",
     "text": [
      "[I 2024-10-01 01:50:53,894] Trial 22 finished with value: 0.564516129032258 and parameters: {'lr': 0.0002368194262105241, 'weight_decay': 0.001843125699401866}. Best is trial 12 with value: 0.7287878787878788.\n",
      "WARNING: Maximum number of iterations 32 reached. The mean may be inaccurate\n"
     ]
    },
    {
     "name": "stdout",
     "output_type": "stream",
     "text": [
      "SVD 수렴 문제 발생: SVD did not converge. 계속 진행합니다.\n"
     ]
    },
    {
     "name": "stderr",
     "output_type": "stream",
     "text": [
      "[I 2024-10-01 02:25:18,802] Trial 23 finished with value: 0.6499582289055974 and parameters: {'lr': 0.001496481251877069, 'weight_decay': 0.001824686489709956}. Best is trial 12 with value: 0.7287878787878788.\n",
      "WARNING: Maximum number of iterations 32 reached. The mean may be inaccurate\n"
     ]
    },
    {
     "name": "stdout",
     "output_type": "stream",
     "text": [
      "SVD 수렴 문제 발생: SVD did not converge. 계속 진행합니다.\n"
     ]
    },
    {
     "name": "stderr",
     "output_type": "stream",
     "text": [
      "[I 2024-10-01 02:59:41,391] Trial 24 finished with value: 0.7166666666666667 and parameters: {'lr': 0.0002523328237280259, 'weight_decay': 0.00023361461724107774}. Best is trial 12 with value: 0.7287878787878788.\n",
      "WARNING: Maximum number of iterations 32 reached. The mean may be inaccurate\n"
     ]
    },
    {
     "name": "stdout",
     "output_type": "stream",
     "text": [
      "SVD 수렴 문제 발생: SVD did not converge. 계속 진행합니다.\n"
     ]
    },
    {
     "name": "stderr",
     "output_type": "stream",
     "text": [
      "[I 2024-10-01 03:34:05,968] Trial 25 finished with value: 0.7127244340359095 and parameters: {'lr': 0.0008005214611996967, 'weight_decay': 0.00020070139655963676}. Best is trial 12 with value: 0.7287878787878788.\n",
      "WARNING: Maximum number of iterations 32 reached. The mean may be inaccurate\n"
     ]
    },
    {
     "name": "stdout",
     "output_type": "stream",
     "text": [
      "SVD 수렴 문제 발생: SVD did not converge. 계속 진행합니다.\n"
     ]
    },
    {
     "name": "stderr",
     "output_type": "stream",
     "text": [
      "[I 2024-10-01 04:08:31,408] Trial 26 finished with value: 0.6931818181818181 and parameters: {'lr': 0.0007168785001231501, 'weight_decay': 0.0002714996521624359}. Best is trial 12 with value: 0.7287878787878788.\n",
      "WARNING: Maximum number of iterations 32 reached. The mean may be inaccurate\n"
     ]
    },
    {
     "name": "stdout",
     "output_type": "stream",
     "text": [
      "SVD 수렴 문제 발생: SVD did not converge. 계속 진행합니다.\n"
     ]
    },
    {
     "name": "stderr",
     "output_type": "stream",
     "text": [
      "[I 2024-10-01 04:22:41,315] Trial 27 finished with value: 0.6318181818181818 and parameters: {'lr': 0.00038351103892925257, 'weight_decay': 0.00014101170581894888}. Best is trial 12 with value: 0.7287878787878788.\n",
      "WARNING: Maximum number of iterations 32 reached. The mean may be inaccurate\n",
      "[I 2024-10-01 04:28:11,381] Trial 28 finished with value: 0.7236533957845434 and parameters: {'lr': 0.00013266175583852963, 'weight_decay': 0.0004394321568127523}. Best is trial 12 with value: 0.7287878787878788.\n"
     ]
    },
    {
     "name": "stdout",
     "output_type": "stream",
     "text": [
      "SVD 수렴 문제 발생: SVD did not converge. 계속 진행합니다.\n"
     ]
    },
    {
     "name": "stderr",
     "output_type": "stream",
     "text": [
      "WARNING: Maximum number of iterations 32 reached. The mean may be inaccurate\n"
     ]
    },
    {
     "name": "stdout",
     "output_type": "stream",
     "text": [
      "SVD 수렴 문제 발생: SVD did not converge. 계속 진행합니다.\n"
     ]
    },
    {
     "name": "stderr",
     "output_type": "stream",
     "text": [
      "[I 2024-10-01 04:33:37,870] Trial 29 finished with value: 0.5597189695550351 and parameters: {'lr': 0.00010901122750223163, 'weight_decay': 0.0004919901290003784}. Best is trial 12 with value: 0.7287878787878788.\n",
      "WARNING: Maximum number of iterations 32 reached. The mean may be inaccurate\n"
     ]
    },
    {
     "name": "stdout",
     "output_type": "stream",
     "text": [
      "SVD 수렴 문제 발생: SVD did not converge. 계속 진행합니다.\n"
     ]
    },
    {
     "name": "stderr",
     "output_type": "stream",
     "text": [
      "[I 2024-10-01 04:39:04,390] Trial 30 finished with value: 0.6257575757575757 and parameters: {'lr': 5.203720680662049e-05, 'weight_decay': 0.0001332343523652587}. Best is trial 12 with value: 0.7287878787878788.\n",
      "WARNING: Maximum number of iterations 32 reached. The mean may be inaccurate\n",
      "[I 2024-10-01 04:44:31,429] Trial 31 finished with value: 0.6693548387096775 and parameters: {'lr': 0.00025176216902576836, 'weight_decay': 0.0008706370662485976}. Best is trial 12 with value: 0.7287878787878788.\n"
     ]
    },
    {
     "name": "stdout",
     "output_type": "stream",
     "text": [
      "SVD 수렴 문제 발생: SVD did not converge. 계속 진행합니다.\n"
     ]
    },
    {
     "name": "stderr",
     "output_type": "stream",
     "text": [
      "WARNING: Maximum number of iterations 32 reached. The mean may be inaccurate\n"
     ]
    },
    {
     "name": "stdout",
     "output_type": "stream",
     "text": [
      "SVD 수렴 문제 발생: SVD did not converge. 계속 진행합니다.\n"
     ]
    },
    {
     "name": "stderr",
     "output_type": "stream",
     "text": [
      "[I 2024-10-01 04:49:55,758] Trial 32 finished with value: 0.630066322770818 and parameters: {'lr': 0.00011972117388939168, 'weight_decay': 0.0003274916843489283}. Best is trial 12 with value: 0.7287878787878788.\n",
      "WARNING: Maximum number of iterations 32 reached. The mean may be inaccurate\n"
     ]
    },
    {
     "name": "stdout",
     "output_type": "stream",
     "text": [
      "SVD 수렴 문제 발생: SVD did not converge. 계속 진행합니다.\n"
     ]
    },
    {
     "name": "stderr",
     "output_type": "stream",
     "text": [
      "[I 2024-10-01 04:55:19,200] Trial 33 finished with value: 0.6772727272727274 and parameters: {'lr': 0.0009325629899581645, 'weight_decay': 0.00011513409334040467}. Best is trial 12 with value: 0.7287878787878788.\n",
      "WARNING: Maximum number of iterations 32 reached. The mean may be inaccurate\n"
     ]
    },
    {
     "name": "stdout",
     "output_type": "stream",
     "text": [
      "SVD 수렴 문제 발생: SVD did not converge. 계속 진행합니다.\n"
     ]
    },
    {
     "name": "stderr",
     "output_type": "stream",
     "text": [
      "[I 2024-10-01 05:00:43,436] Trial 34 finished with value: 0.6143637782982044 and parameters: {'lr': 0.00036919651294257635, 'weight_decay': 0.00019186175742302674}. Best is trial 12 with value: 0.7287878787878788.\n",
      "WARNING: Maximum number of iterations 32 reached. The mean may be inaccurate\n"
     ]
    },
    {
     "name": "stdout",
     "output_type": "stream",
     "text": [
      "SVD 수렴 문제 발생: SVD did not converge. 계속 진행합니다.\n"
     ]
    },
    {
     "name": "stderr",
     "output_type": "stream",
     "text": [
      "[I 2024-10-01 05:06:06,820] Trial 35 finished with value: 0.5852459016393443 and parameters: {'lr': 0.00014082736294201005, 'weight_decay': 2.6470514248347677e-05}. Best is trial 12 with value: 0.7287878787878788.\n",
      "WARNING: Maximum number of iterations 32 reached. The mean may be inaccurate\n",
      "[I 2024-10-01 05:11:31,910] Trial 36 finished with value: 0.5998329156223893 and parameters: {'lr': 4.466339436406977e-05, 'weight_decay': 8.129935247174508e-05}. Best is trial 12 with value: 0.7287878787878788.\n"
     ]
    },
    {
     "name": "stdout",
     "output_type": "stream",
     "text": [
      "SVD 수렴 문제 발생: SVD did not converge. 계속 진행합니다.\n"
     ]
    },
    {
     "name": "stderr",
     "output_type": "stream",
     "text": [
      "WARNING: Maximum number of iterations 32 reached. The mean may be inaccurate\n"
     ]
    },
    {
     "name": "stdout",
     "output_type": "stream",
     "text": [
      "SVD 수렴 문제 발생: SVD did not converge. 계속 진행합니다.\n"
     ]
    },
    {
     "name": "stderr",
     "output_type": "stream",
     "text": [
      "[I 2024-10-01 05:16:49,248] Trial 37 finished with value: 0.5569867291178767 and parameters: {'lr': 0.002734121721550011, 'weight_decay': 0.0009626028983096987}. Best is trial 12 with value: 0.7287878787878788.\n",
      "WARNING: Maximum number of iterations 32 reached. The mean may be inaccurate\n"
     ]
    },
    {
     "name": "stdout",
     "output_type": "stream",
     "text": [
      "SVD 수렴 문제 발생: SVD did not converge. 계속 진행합니다.\n"
     ]
    },
    {
     "name": "stderr",
     "output_type": "stream",
     "text": [
      "[I 2024-10-01 05:22:12,954] Trial 38 finished with value: 0.671969696969697 and parameters: {'lr': 1.1420296781940002e-05, 'weight_decay': 0.0004072464338403058}. Best is trial 12 with value: 0.7287878787878788.\n",
      "WARNING: Maximum number of iterations 32 reached. The mean may be inaccurate\n"
     ]
    },
    {
     "name": "stdout",
     "output_type": "stream",
     "text": [
      "SVD 수렴 문제 발생: SVD did not converge. 계속 진행합니다.\n"
     ]
    },
    {
     "name": "stderr",
     "output_type": "stream",
     "text": [
      "[I 2024-10-01 05:27:34,501] Trial 39 finished with value: 0.462919594067135 and parameters: {'lr': 0.0010047945594174705, 'weight_decay': 0.0009805371066701576}. Best is trial 12 with value: 0.7287878787878788.\n",
      "WARNING: Maximum number of iterations 32 reached. The mean may be inaccurate\n"
     ]
    },
    {
     "name": "stdout",
     "output_type": "stream",
     "text": [
      "SVD 수렴 문제 발생: SVD did not converge. 계속 진행합니다.\n"
     ]
    },
    {
     "name": "stderr",
     "output_type": "stream",
     "text": [
      "[I 2024-10-01 05:32:57,922] Trial 40 finished with value: 0.6452380952380952 and parameters: {'lr': 7.940677227086787e-05, 'weight_decay': 6.014575074666271e-05}. Best is trial 12 with value: 0.7287878787878788.\n",
      "WARNING: Maximum number of iterations 32 reached. The mean may be inaccurate\n"
     ]
    },
    {
     "name": "stdout",
     "output_type": "stream",
     "text": [
      "SVD 수렴 문제 발생: SVD did not converge. 계속 진행합니다.\n"
     ]
    },
    {
     "name": "stderr",
     "output_type": "stream",
     "text": [
      "[I 2024-10-01 05:38:17,297] Trial 41 finished with value: 0.585480093676815 and parameters: {'lr': 0.002334331496296161, 'weight_decay': 0.003525838331899122}. Best is trial 12 with value: 0.7287878787878788.\n",
      "WARNING: Maximum number of iterations 32 reached. The mean may be inaccurate\n"
     ]
    },
    {
     "name": "stdout",
     "output_type": "stream",
     "text": [
      "SVD 수렴 문제 발생: SVD did not converge. 계속 진행합니다.\n"
     ]
    },
    {
     "name": "stderr",
     "output_type": "stream",
     "text": [
      "[I 2024-10-01 05:43:35,506] Trial 42 finished with value: 0.6588602654176425 and parameters: {'lr': 0.004376009568950163, 'weight_decay': 0.0005974662516637809}. Best is trial 12 with value: 0.7287878787878788.\n",
      "WARNING: Maximum number of iterations 32 reached. The mean may be inaccurate\n"
     ]
    },
    {
     "name": "stdout",
     "output_type": "stream",
     "text": [
      "SVD 수렴 문제 발생: SVD did not converge. 계속 진행합니다.\n"
     ]
    },
    {
     "name": "stderr",
     "output_type": "stream",
     "text": [
      "[I 2024-10-01 05:48:58,967] Trial 43 finished with value: 0.7083333333333334 and parameters: {'lr': 0.0005154492964664382, 'weight_decay': 0.00017672218087807985}. Best is trial 12 with value: 0.7287878787878788.\n",
      "WARNING: Maximum number of iterations 32 reached. The mean may be inaccurate\n"
     ]
    },
    {
     "name": "stdout",
     "output_type": "stream",
     "text": [
      "SVD 수렴 문제 발생: SVD did not converge. 계속 진행합니다.\n"
     ]
    },
    {
     "name": "stderr",
     "output_type": "stream",
     "text": [
      "[I 2024-10-01 05:54:23,397] Trial 44 finished with value: 0.5564516129032258 and parameters: {'lr': 0.000432359792474861, 'weight_decay': 0.00015140414140271745}. Best is trial 12 with value: 0.7287878787878788.\n",
      "WARNING: Maximum number of iterations 32 reached. The mean may be inaccurate\n"
     ]
    },
    {
     "name": "stdout",
     "output_type": "stream",
     "text": [
      "SVD 수렴 문제 발생: SVD did not converge. 계속 진행합니다.\n"
     ]
    },
    {
     "name": "stderr",
     "output_type": "stream",
     "text": [
      "[I 2024-10-01 05:59:46,803] Trial 45 finished with value: 0.7403225806451613 and parameters: {'lr': 0.0005806009851599325, 'weight_decay': 0.0003631395701365227}. Best is trial 45 with value: 0.7403225806451613.\n",
      "WARNING: Maximum number of iterations 32 reached. The mean may be inaccurate\n"
     ]
    },
    {
     "name": "stdout",
     "output_type": "stream",
     "text": [
      "SVD 수렴 문제 발생: SVD did not converge. 계속 진행합니다.\n"
     ]
    },
    {
     "name": "stderr",
     "output_type": "stream",
     "text": [
      "[I 2024-10-01 06:05:09,907] Trial 46 finished with value: 0.625 and parameters: {'lr': 0.00016303521920690815, 'weight_decay': 0.00033750196036177663}. Best is trial 45 with value: 0.7403225806451613.\n",
      "WARNING: Maximum number of iterations 32 reached. The mean may be inaccurate\n"
     ]
    },
    {
     "name": "stdout",
     "output_type": "stream",
     "text": [
      "SVD 수렴 문제 발생: SVD did not converge. 계속 진행합니다.\n"
     ]
    },
    {
     "name": "stderr",
     "output_type": "stream",
     "text": [
      "[I 2024-10-01 06:10:32,083] Trial 47 finished with value: 0.6068181818181818 and parameters: {'lr': 0.0002855458129825806, 'weight_decay': 3.0578003757981667e-06}. Best is trial 45 with value: 0.7403225806451613.\n",
      "WARNING: Maximum number of iterations 32 reached. The mean may be inaccurate\n"
     ]
    },
    {
     "name": "stdout",
     "output_type": "stream",
     "text": [
      "SVD 수렴 문제 발생: SVD did not converge. 계속 진행합니다.\n"
     ]
    },
    {
     "name": "stderr",
     "output_type": "stream",
     "text": [
      "[I 2024-10-01 06:15:54,669] Trial 48 finished with value: 0.6494607087827426 and parameters: {'lr': 0.0006696771501357347, 'weight_decay': 0.000785998281153514}. Best is trial 45 with value: 0.7403225806451613.\n",
      "WARNING: Maximum number of iterations 32 reached. The mean may be inaccurate\n"
     ]
    },
    {
     "name": "stdout",
     "output_type": "stream",
     "text": [
      "SVD 수렴 문제 발생: SVD did not converge. 계속 진행합니다.\n"
     ]
    },
    {
     "name": "stderr",
     "output_type": "stream",
     "text": [
      "[I 2024-10-01 06:21:16,914] Trial 49 finished with value: 0.6377829820452771 and parameters: {'lr': 1.5375669229391204e-06, 'weight_decay': 8.001101087551406e-05}. Best is trial 45 with value: 0.7403225806451613.\n",
      "WARNING: Maximum number of iterations 32 reached. The mean may be inaccurate\n"
     ]
    },
    {
     "name": "stdout",
     "output_type": "stream",
     "text": [
      "SVD 수렴 문제 발생: SVD did not converge. 계속 진행합니다.\n"
     ]
    },
    {
     "name": "stderr",
     "output_type": "stream",
     "text": [
      "[I 2024-10-01 06:26:37,268] Trial 50 finished with value: 0.6360655737704919 and parameters: {'lr': 0.001171792493982704, 'weight_decay': 4.0823825539684185e-05}. Best is trial 45 with value: 0.7403225806451613.\n",
      "WARNING: Maximum number of iterations 32 reached. The mean may be inaccurate\n"
     ]
    },
    {
     "name": "stdout",
     "output_type": "stream",
     "text": [
      "SVD 수렴 문제 발생: SVD did not converge. 계속 진행합니다.\n"
     ]
    },
    {
     "name": "stderr",
     "output_type": "stream",
     "text": [
      "[I 2024-10-01 06:31:59,205] Trial 51 finished with value: 0.6379032258064516 and parameters: {'lr': 0.0003392632388354214, 'weight_decay': 0.00017588799577824513}. Best is trial 45 with value: 0.7403225806451613.\n",
      "WARNING: Maximum number of iterations 32 reached. The mean may be inaccurate\n"
     ]
    },
    {
     "name": "stdout",
     "output_type": "stream",
     "text": [
      "SVD 수렴 문제 발생: SVD did not converge. 계속 진행합니다.\n"
     ]
    },
    {
     "name": "stderr",
     "output_type": "stream",
     "text": [
      "[I 2024-10-01 06:37:20,450] Trial 52 finished with value: 0.6324143692564745 and parameters: {'lr': 0.0004446000354424562, 'weight_decay': 0.00021882294218998066}. Best is trial 45 with value: 0.7403225806451613.\n",
      "WARNING: Maximum number of iterations 32 reached. The mean may be inaccurate\n",
      "[I 2024-10-01 06:42:42,154] Trial 53 finished with value: 0.657258064516129 and parameters: {'lr': 0.0006162556988890762, 'weight_decay': 0.0013097904098180082}. Best is trial 45 with value: 0.7403225806451613.\n"
     ]
    },
    {
     "name": "stdout",
     "output_type": "stream",
     "text": [
      "SVD 수렴 문제 발생: SVD did not converge. 계속 진행합니다.\n"
     ]
    },
    {
     "name": "stderr",
     "output_type": "stream",
     "text": [
      "WARNING: Maximum number of iterations 32 reached. The mean may be inaccurate\n"
     ]
    },
    {
     "name": "stdout",
     "output_type": "stream",
     "text": [
      "SVD 수렴 문제 발생: SVD did not converge. 계속 진행합니다.\n"
     ]
    },
    {
     "name": "stderr",
     "output_type": "stream",
     "text": [
      "[I 2024-10-01 06:48:03,111] Trial 54 finished with value: 0.6446969696969697 and parameters: {'lr': 8.4042282505219e-05, 'weight_decay': 0.00044053158420847264}. Best is trial 45 with value: 0.7403225806451613.\n",
      "WARNING: Maximum number of iterations 32 reached. The mean may be inaccurate\n",
      "[I 2024-10-01 06:53:25,980] Trial 55 finished with value: 0.615909090909091 and parameters: {'lr': 0.0001824983975572642, 'weight_decay': 0.00010957388792114361}. Best is trial 45 with value: 0.7403225806451613.\n"
     ]
    },
    {
     "name": "stdout",
     "output_type": "stream",
     "text": [
      "SVD 수렴 문제 발생: SVD did not converge. 계속 진행합니다.\n"
     ]
    },
    {
     "name": "stderr",
     "output_type": "stream",
     "text": [
      "WARNING: Maximum number of iterations 32 reached. The mean may be inaccurate\n"
     ]
    },
    {
     "name": "stdout",
     "output_type": "stream",
     "text": [
      "SVD 수렴 문제 발생: SVD did not converge. 계속 진행합니다.\n"
     ]
    },
    {
     "name": "stderr",
     "output_type": "stream",
     "text": [
      "[I 2024-10-01 06:58:46,339] Trial 56 finished with value: 0.5885245901639344 and parameters: {'lr': 0.0005442771227458718, 'weight_decay': 0.0002949691188714004}. Best is trial 45 with value: 0.7403225806451613.\n",
      "WARNING: Maximum number of iterations 32 reached. The mean may be inaccurate\n"
     ]
    },
    {
     "name": "stdout",
     "output_type": "stream",
     "text": [
      "SVD 수렴 문제 발생: SVD did not converge. 계속 진행합니다.\n"
     ]
    },
    {
     "name": "stderr",
     "output_type": "stream",
     "text": [
      "[I 2024-10-01 07:04:05,396] Trial 57 finished with value: 0.5371212121212121 and parameters: {'lr': 0.0013263534789981406, 'weight_decay': 0.0005737940298584217}. Best is trial 45 with value: 0.7403225806451613.\n",
      "WARNING: Maximum number of iterations 32 reached. The mean may be inaccurate\n"
     ]
    },
    {
     "name": "stdout",
     "output_type": "stream",
     "text": [
      "SVD 수렴 문제 발생: SVD did not converge. 계속 진행합니다.\n"
     ]
    },
    {
     "name": "stderr",
     "output_type": "stream",
     "text": [
      "[I 2024-10-01 07:09:21,683] Trial 58 finished with value: 0.5454545454545455 and parameters: {'lr': 0.0030102946421403935, 'weight_decay': 0.0004077411369183153}. Best is trial 45 with value: 0.7403225806451613.\n",
      "WARNING: Maximum number of iterations 32 reached. The mean may be inaccurate\n"
     ]
    },
    {
     "name": "stdout",
     "output_type": "stream",
     "text": [
      "SVD 수렴 문제 발생: SVD did not converge. 계속 진행합니다.\n"
     ]
    },
    {
     "name": "stderr",
     "output_type": "stream",
     "text": [
      "[I 2024-10-01 07:14:43,445] Trial 59 finished with value: 0.7053030303030303 and parameters: {'lr': 0.00028975681288045415, 'weight_decay': 1.6543973387019212e-05}. Best is trial 45 with value: 0.7403225806451613.\n",
      "WARNING: Maximum number of iterations 32 reached. The mean may be inaccurate\n"
     ]
    },
    {
     "name": "stdout",
     "output_type": "stream",
     "text": [
      "SVD 수렴 문제 발생: SVD did not converge. 계속 진행합니다.\n"
     ]
    },
    {
     "name": "stderr",
     "output_type": "stream",
     "text": [
      "[I 2024-10-01 07:20:05,244] Trial 60 finished with value: 0.6967418546365914 and parameters: {'lr': 3.948186435380155e-05, 'weight_decay': 0.0012566473465914225}. Best is trial 45 with value: 0.7403225806451613.\n",
      "WARNING: Maximum number of iterations 32 reached. The mean may be inaccurate\n"
     ]
    },
    {
     "name": "stdout",
     "output_type": "stream",
     "text": [
      "SVD 수렴 문제 발생: SVD did not converge. 계속 진행합니다.\n"
     ]
    },
    {
     "name": "stderr",
     "output_type": "stream",
     "text": [
      "[I 2024-10-01 07:25:26,662] Trial 61 finished with value: 0.618923611111111 and parameters: {'lr': 0.00028661501090222947, 'weight_decay': 1.9829865423311104e-05}. Best is trial 45 with value: 0.7403225806451613.\n",
      "WARNING: Maximum number of iterations 32 reached. The mean may be inaccurate\n"
     ]
    },
    {
     "name": "stdout",
     "output_type": "stream",
     "text": [
      "SVD 수렴 문제 발생: SVD did not converge. 계속 진행합니다.\n"
     ]
    },
    {
     "name": "stderr",
     "output_type": "stream",
     "text": [
      "[I 2024-10-01 07:30:48,594] Trial 62 finished with value: 0.6248955722639934 and parameters: {'lr': 0.0005358138037611223, 'weight_decay': 4.9808437310628026e-06}. Best is trial 45 with value: 0.7403225806451613.\n",
      "WARNING: Maximum number of iterations 32 reached. The mean may be inaccurate\n"
     ]
    },
    {
     "name": "stdout",
     "output_type": "stream",
     "text": [
      "SVD 수렴 문제 발생: SVD did not converge. 계속 진행합니다.\n"
     ]
    },
    {
     "name": "stderr",
     "output_type": "stream",
     "text": [
      "[I 2024-10-01 07:36:09,885] Trial 63 finished with value: 0.6904761904761905 and parameters: {'lr': 0.0008463286111378373, 'weight_decay': 0.00021454822391454983}. Best is trial 45 with value: 0.7403225806451613.\n",
      "WARNING: Maximum number of iterations 32 reached. The mean may be inaccurate\n"
     ]
    },
    {
     "name": "stdout",
     "output_type": "stream",
     "text": [
      "SVD 수렴 문제 발생: SVD did not converge. 계속 진행합니다.\n"
     ]
    },
    {
     "name": "stderr",
     "output_type": "stream",
     "text": [
      "[I 2024-10-01 07:41:31,970] Trial 64 finished with value: 0.5909090909090909 and parameters: {'lr': 0.0002052453010810693, 'weight_decay': 7.4999154355646e-06}. Best is trial 45 with value: 0.7403225806451613.\n",
      "WARNING: Maximum number of iterations 32 reached. The mean may be inaccurate\n"
     ]
    },
    {
     "name": "stdout",
     "output_type": "stream",
     "text": [
      "SVD 수렴 문제 발생: SVD did not converge. 계속 진행합니다.\n"
     ]
    },
    {
     "name": "stderr",
     "output_type": "stream",
     "text": [
      "[I 2024-10-01 07:46:54,477] Trial 65 finished with value: 0.6232665639445301 and parameters: {'lr': 0.00012807602348440273, 'weight_decay': 0.00010543939805596662}. Best is trial 45 with value: 0.7403225806451613.\n",
      "WARNING: Maximum number of iterations 32 reached. The mean may be inaccurate\n"
     ]
    },
    {
     "name": "stdout",
     "output_type": "stream",
     "text": [
      "SVD 수렴 문제 발생: SVD did not converge. 계속 진행합니다.\n"
     ]
    },
    {
     "name": "stderr",
     "output_type": "stream",
     "text": [
      "[I 2024-10-01 07:52:16,889] Trial 66 finished with value: 0.6701612903225806 and parameters: {'lr': 0.00035458687078818526, 'weight_decay': 0.000651548720508726}. Best is trial 45 with value: 0.7403225806451613.\n",
      "WARNING: Maximum number of iterations 32 reached. The mean may be inaccurate\n"
     ]
    },
    {
     "name": "stdout",
     "output_type": "stream",
     "text": [
      "SVD 수렴 문제 발생: SVD did not converge. 계속 진행합니다.\n"
     ]
    },
    {
     "name": "stderr",
     "output_type": "stream",
     "text": [
      "[I 2024-10-01 07:57:39,382] Trial 67 finished with value: 0.6690085870413739 and parameters: {'lr': 5.916558670127234e-05, 'weight_decay': 5.0670367783736084e-05}. Best is trial 45 with value: 0.7403225806451613.\n",
      "WARNING: Maximum number of iterations 32 reached. The mean may be inaccurate\n"
     ]
    },
    {
     "name": "stdout",
     "output_type": "stream",
     "text": [
      "SVD 수렴 문제 발생: SVD did not converge. 계속 진행합니다.\n"
     ]
    },
    {
     "name": "stderr",
     "output_type": "stream",
     "text": [
      "[I 2024-10-01 08:02:59,630] Trial 68 finished with value: 0.6669354838709678 and parameters: {'lr': 0.0017198503034946894, 'weight_decay': 1.7553856010901288e-05}. Best is trial 45 with value: 0.7403225806451613.\n",
      "WARNING: Maximum number of iterations 32 reached. The mean may be inaccurate\n"
     ]
    },
    {
     "name": "stdout",
     "output_type": "stream",
     "text": [
      "SVD 수렴 문제 발생: SVD did not converge. 계속 진행합니다.\n"
     ]
    },
    {
     "name": "stderr",
     "output_type": "stream",
     "text": [
      "[I 2024-10-01 08:08:21,872] Trial 69 finished with value: 0.5664160401002506 and parameters: {'lr': 0.000274787236933269, 'weight_decay': 0.0003419509181694383}. Best is trial 45 with value: 0.7403225806451613.\n",
      "WARNING: Maximum number of iterations 32 reached. The mean may be inaccurate\n"
     ]
    },
    {
     "name": "stdout",
     "output_type": "stream",
     "text": [
      "SVD 수렴 문제 발생: SVD did not converge. 계속 진행합니다.\n"
     ]
    },
    {
     "name": "stderr",
     "output_type": "stream",
     "text": [
      "[I 2024-10-01 08:13:44,109] Trial 70 finished with value: 0.6042154566744731 and parameters: {'lr': 0.0007752128485202247, 'weight_decay': 0.00017364488932725648}. Best is trial 45 with value: 0.7403225806451613.\n",
      "WARNING: Maximum number of iterations 32 reached. The mean may be inaccurate\n"
     ]
    },
    {
     "name": "stdout",
     "output_type": "stream",
     "text": [
      "SVD 수렴 문제 발생: SVD did not converge. 계속 진행합니다.\n"
     ]
    },
    {
     "name": "stderr",
     "output_type": "stream",
     "text": [
      "[I 2024-10-01 08:19:04,534] Trial 71 finished with value: 0.6439393939393939 and parameters: {'lr': 0.0020603794488535695, 'weight_decay': 0.00025492176869283906}. Best is trial 45 with value: 0.7403225806451613.\n",
      "WARNING: Maximum number of iterations 32 reached. The mean may be inaccurate\n",
      "[I 2024-10-01 08:24:22,553] Trial 72 finished with value: 0.5 and parameters: {'lr': 0.006107055356513703, 'weight_decay': 0.007700128302289477}. Best is trial 45 with value: 0.7403225806451613.\n"
     ]
    },
    {
     "name": "stdout",
     "output_type": "stream",
     "text": [
      "SVD 수렴 문제 발생: SVD did not converge. 계속 진행합니다.\n"
     ]
    },
    {
     "name": "stderr",
     "output_type": "stream",
     "text": [
      "WARNING: Maximum number of iterations 32 reached. The mean may be inaccurate\n"
     ]
    },
    {
     "name": "stdout",
     "output_type": "stream",
     "text": [
      "SVD 수렴 문제 발생: SVD did not converge. 계속 진행합니다.\n"
     ]
    },
    {
     "name": "stderr",
     "output_type": "stream",
     "text": [
      "[I 2024-10-01 08:29:43,770] Trial 73 finished with value: 0.6720707442888725 and parameters: {'lr': 0.0011090793638067376, 'weight_decay': 0.004751800731572462}. Best is trial 45 with value: 0.7403225806451613.\n",
      "WARNING: Maximum number of iterations 32 reached. The mean may be inaccurate\n"
     ]
    },
    {
     "name": "stdout",
     "output_type": "stream",
     "text": [
      "SVD 수렴 문제 발생: SVD did not converge. 계속 진행합니다.\n"
     ]
    },
    {
     "name": "stderr",
     "output_type": "stream",
     "text": [
      "[I 2024-10-01 08:35:08,049] Trial 74 finished with value: 0.7225806451612902 and parameters: {'lr': 0.0004689745436224188, 'weight_decay': 0.0027363192179286405}. Best is trial 45 with value: 0.7403225806451613.\n",
      "WARNING: Maximum number of iterations 32 reached. The mean may be inaccurate\n"
     ]
    },
    {
     "name": "stdout",
     "output_type": "stream",
     "text": [
      "SVD 수렴 문제 발생: SVD did not converge. 계속 진행합니다.\n"
     ]
    },
    {
     "name": "stderr",
     "output_type": "stream",
     "text": [
      "[I 2024-10-01 08:40:31,556] Trial 75 finished with value: 0.6924242424242424 and parameters: {'lr': 0.00048576014521736706, 'weight_decay': 0.0028777421093303312}. Best is trial 45 with value: 0.7403225806451613.\n",
      "WARNING: Maximum number of iterations 32 reached. The mean may be inaccurate\n"
     ]
    },
    {
     "name": "stdout",
     "output_type": "stream",
     "text": [
      "SVD 수렴 문제 발생: SVD did not converge. 계속 진행합니다.\n"
     ]
    },
    {
     "name": "stderr",
     "output_type": "stream",
     "text": [
      "[I 2024-10-01 08:45:55,808] Trial 76 finished with value: 0.6901515151515151 and parameters: {'lr': 0.00015685175243457608, 'weight_decay': 0.0013335460755810082}. Best is trial 45 with value: 0.7403225806451613.\n",
      "WARNING: Maximum number of iterations 32 reached. The mean may be inaccurate\n"
     ]
    },
    {
     "name": "stdout",
     "output_type": "stream",
     "text": [
      "SVD 수렴 문제 발생: SVD did not converge. 계속 진행합니다.\n"
     ]
    },
    {
     "name": "stderr",
     "output_type": "stream",
     "text": [
      "[I 2024-10-01 08:51:19,937] Trial 77 finished with value: 0.5565964090554254 and parameters: {'lr': 0.00023077320847552954, 'weight_decay': 0.000159089234143428}. Best is trial 45 with value: 0.7403225806451613.\n",
      "WARNING: Maximum number of iterations 32 reached. The mean may be inaccurate\n"
     ]
    },
    {
     "name": "stdout",
     "output_type": "stream",
     "text": [
      "SVD 수렴 문제 발생: SVD did not converge. 계속 진행합니다.\n"
     ]
    },
    {
     "name": "stderr",
     "output_type": "stream",
     "text": [
      "[I 2024-10-01 08:56:45,739] Trial 78 finished with value: 0.5003684598378777 and parameters: {'lr': 0.00010502029050157757, 'weight_decay': 6.619252040014596e-05}. Best is trial 45 with value: 0.7403225806451613.\n",
      "WARNING: Maximum number of iterations 32 reached. The mean may be inaccurate\n"
     ]
    },
    {
     "name": "stdout",
     "output_type": "stream",
     "text": [
      "SVD 수렴 문제 발생: SVD did not converge. 계속 진행합니다.\n"
     ]
    },
    {
     "name": "stderr",
     "output_type": "stream",
     "text": [
      "[I 2024-10-01 09:02:11,496] Trial 79 finished with value: 0.5939393939393939 and parameters: {'lr': 0.0003306289591665271, 'weight_decay': 0.0007368499145255805}. Best is trial 45 with value: 0.7403225806451613.\n",
      "WARNING: Maximum number of iterations 32 reached. The mean may be inaccurate\n"
     ]
    },
    {
     "name": "stdout",
     "output_type": "stream",
     "text": [
      "SVD 수렴 문제 발생: SVD did not converge. 계속 진행합니다.\n"
     ]
    },
    {
     "name": "stderr",
     "output_type": "stream",
     "text": [
      "[I 2024-10-01 09:07:36,673] Trial 80 finished with value: 0.5403225806451614 and parameters: {'lr': 0.0006316070499497721, 'weight_decay': 9.444291986676989e-05}. Best is trial 45 with value: 0.7403225806451613.\n",
      "WARNING: Maximum number of iterations 32 reached. The mean may be inaccurate\n",
      "[I 2024-10-01 09:13:02,237] Trial 81 finished with value: 0.608695652173913 and parameters: {'lr': 0.000920126436243492, 'weight_decay': 0.007419118376550607}. Best is trial 45 with value: 0.7403225806451613.\n"
     ]
    },
    {
     "name": "stdout",
     "output_type": "stream",
     "text": [
      "SVD 수렴 문제 발생: SVD did not converge. 계속 진행합니다.\n"
     ]
    },
    {
     "name": "stderr",
     "output_type": "stream",
     "text": [
      "WARNING: Maximum number of iterations 32 reached. The mean may be inaccurate\n"
     ]
    },
    {
     "name": "stdout",
     "output_type": "stream",
     "text": [
      "SVD 수렴 문제 발생: SVD did not converge. 계속 진행합니다.\n"
     ]
    },
    {
     "name": "stderr",
     "output_type": "stream",
     "text": [
      "[I 2024-10-01 09:18:23,845] Trial 82 finished with value: 0.6159090909090909 and parameters: {'lr': 0.0015706436517699286, 'weight_decay': 1.1215393637960421e-06}. Best is trial 45 with value: 0.7403225806451613.\n",
      "WARNING: Maximum number of iterations 32 reached. The mean may be inaccurate\n"
     ]
    },
    {
     "name": "stdout",
     "output_type": "stream",
     "text": [
      "SVD 수렴 문제 발생: SVD did not converge. 계속 진행합니다.\n"
     ]
    },
    {
     "name": "stderr",
     "output_type": "stream",
     "text": [
      "[I 2024-10-01 09:23:49,450] Trial 83 finished with value: 0.674884437596302 and parameters: {'lr': 0.0004373532377512702, 'weight_decay': 0.002046747155395055}. Best is trial 45 with value: 0.7403225806451613.\n",
      "WARNING: Maximum number of iterations 32 reached. The mean may be inaccurate\n"
     ]
    },
    {
     "name": "stdout",
     "output_type": "stream",
     "text": [
      "SVD 수렴 문제 발생: SVD did not converge. 계속 진행합니다.\n"
     ]
    },
    {
     "name": "stderr",
     "output_type": "stream",
     "text": [
      "[I 2024-10-01 09:29:10,405] Trial 84 finished with value: 0.601639344262295 and parameters: {'lr': 0.003177696524117694, 'weight_decay': 0.0030876753934333634}. Best is trial 45 with value: 0.7403225806451613.\n",
      "WARNING: Maximum number of iterations 32 reached. The mean may be inaccurate\n"
     ]
    },
    {
     "name": "stdout",
     "output_type": "stream",
     "text": [
      "SVD 수렴 문제 발생: SVD did not converge. 계속 진행합니다.\n"
     ]
    },
    {
     "name": "stderr",
     "output_type": "stream",
     "text": [
      "[I 2024-10-01 09:34:35,335] Trial 85 finished with value: 0.6515873015873015 and parameters: {'lr': 0.0007169278042507042, 'weight_decay': 0.0003507348767184281}. Best is trial 45 with value: 0.7403225806451613.\n",
      "WARNING: Maximum number of iterations 32 reached. The mean may be inaccurate\n"
     ]
    },
    {
     "name": "stdout",
     "output_type": "stream",
     "text": [
      "SVD 수렴 문제 발생: SVD did not converge. 계속 진행합니다.\n"
     ]
    },
    {
     "name": "stderr",
     "output_type": "stream",
     "text": [
      "[I 2024-10-01 09:40:01,383] Trial 86 finished with value: 0.5898078529657478 and parameters: {'lr': 0.00025171712516009105, 'weight_decay': 0.0004635828169158737}. Best is trial 45 with value: 0.7403225806451613.\n",
      "WARNING: Maximum number of iterations 32 reached. The mean may be inaccurate\n"
     ]
    },
    {
     "name": "stdout",
     "output_type": "stream",
     "text": [
      "SVD 수렴 문제 발생: SVD did not converge. 계속 진행합니다.\n"
     ]
    },
    {
     "name": "stderr",
     "output_type": "stream",
     "text": [
      "[I 2024-10-01 09:45:26,762] Trial 87 finished with value: 0.6000000000000001 and parameters: {'lr': 0.00018800020825194768, 'weight_decay': 0.0025679181539854322}. Best is trial 45 with value: 0.7403225806451613.\n",
      "WARNING: Maximum number of iterations 32 reached. The mean may be inaccurate\n"
     ]
    },
    {
     "name": "stdout",
     "output_type": "stream",
     "text": [
      "SVD 수렴 문제 발생: SVD did not converge. 계속 진행합니다.\n"
     ]
    },
    {
     "name": "stderr",
     "output_type": "stream",
     "text": [
      "[I 2024-10-01 09:50:52,623] Trial 88 finished with value: 0.5778120184899846 and parameters: {'lr': 0.0003222417371878588, 'weight_decay': 0.005963452801437664}. Best is trial 45 with value: 0.7403225806451613.\n",
      "WARNING: Maximum number of iterations 32 reached. The mean may be inaccurate\n"
     ]
    },
    {
     "name": "stdout",
     "output_type": "stream",
     "text": [
      "SVD 수렴 문제 발생: SVD did not converge. 계속 진행합니다.\n"
     ]
    },
    {
     "name": "stderr",
     "output_type": "stream",
     "text": [
      "[I 2024-10-01 09:56:18,897] Trial 89 finished with value: 0.5975806451612904 and parameters: {'lr': 8.906014856743883e-05, 'weight_decay': 0.0011046839012455358}. Best is trial 45 with value: 0.7403225806451613.\n",
      "WARNING: Maximum number of iterations 32 reached. The mean may be inaccurate\n"
     ]
    },
    {
     "name": "stdout",
     "output_type": "stream",
     "text": [
      "SVD 수렴 문제 발생: SVD did not converge. 계속 진행합니다.\n"
     ]
    },
    {
     "name": "stderr",
     "output_type": "stream",
     "text": [
      "[I 2024-10-01 10:01:44,891] Trial 90 finished with value: 0.7746031746031746 and parameters: {'lr': 0.001149492537311773, 'weight_decay': 0.00013130101032832327}. Best is trial 90 with value: 0.7746031746031746.\n",
      "WARNING: Maximum number of iterations 32 reached. The mean may be inaccurate\n"
     ]
    },
    {
     "name": "stdout",
     "output_type": "stream",
     "text": [
      "SVD 수렴 문제 발생: SVD did not converge. 계속 진행합니다.\n"
     ]
    },
    {
     "name": "stderr",
     "output_type": "stream",
     "text": [
      "[I 2024-10-01 10:07:10,945] Trial 91 finished with value: 0.5901639344262295 and parameters: {'lr': 0.0010496395420836464, 'weight_decay': 0.0002397134896076241}. Best is trial 90 with value: 0.7746031746031746.\n",
      "WARNING: Maximum number of iterations 32 reached. The mean may be inaccurate\n"
     ]
    },
    {
     "name": "stdout",
     "output_type": "stream",
     "text": [
      "SVD 수렴 문제 발생: SVD did not converge. 계속 진행합니다.\n"
     ]
    },
    {
     "name": "stderr",
     "output_type": "stream",
     "text": [
      "[I 2024-10-01 10:12:36,075] Trial 92 finished with value: 0.4769711163153786 and parameters: {'lr': 0.002192700527410017, 'weight_decay': 0.00013400500535277712}. Best is trial 90 with value: 0.7746031746031746.\n",
      "WARNING: Maximum number of iterations 32 reached. The mean may be inaccurate\n"
     ]
    },
    {
     "name": "stdout",
     "output_type": "stream",
     "text": [
      "SVD 수렴 문제 발생: SVD did not converge. 계속 진행합니다.\n"
     ]
    },
    {
     "name": "stderr",
     "output_type": "stream",
     "text": [
      "[I 2024-10-01 10:18:02,565] Trial 93 finished with value: 0.5917464996315402 and parameters: {'lr': 0.0013943955286126895, 'weight_decay': 0.00012723722242651456}. Best is trial 90 with value: 0.7746031746031746.\n",
      "WARNING: Maximum number of iterations 32 reached. The mean may be inaccurate\n"
     ]
    },
    {
     "name": "stdout",
     "output_type": "stream",
     "text": [
      "SVD 수렴 문제 발생: SVD did not converge. 계속 진행합니다.\n"
     ]
    },
    {
     "name": "stderr",
     "output_type": "stream",
     "text": [
      "[I 2024-10-01 10:23:31,799] Trial 94 finished with value: 0.6830601092896175 and parameters: {'lr': 0.0005338864397834564, 'weight_decay': 0.00028697819080481315}. Best is trial 90 with value: 0.7746031746031746.\n",
      "WARNING: Maximum number of iterations 32 reached. The mean may be inaccurate\n"
     ]
    },
    {
     "name": "stdout",
     "output_type": "stream",
     "text": [
      "SVD 수렴 문제 발생: SVD did not converge. 계속 진행합니다.\n"
     ]
    },
    {
     "name": "stderr",
     "output_type": "stream",
     "text": [
      "[I 2024-10-01 10:29:01,765] Trial 95 finished with value: 0.5011709601873536 and parameters: {'lr': 0.000392011472596347, 'weight_decay': 8.049488818310667e-05}. Best is trial 90 with value: 0.7746031746031746.\n",
      "WARNING: Maximum number of iterations 32 reached. The mean may be inaccurate\n"
     ]
    },
    {
     "name": "stdout",
     "output_type": "stream",
     "text": [
      "SVD 수렴 문제 발생: SVD did not converge. 계속 진행합니다.\n"
     ]
    },
    {
     "name": "stderr",
     "output_type": "stream",
     "text": [
      "[I 2024-10-01 10:34:30,267] Trial 96 finished with value: 0.6241319444444444 and parameters: {'lr': 0.0011873927337658753, 'weight_decay': 0.00020112817610552056}. Best is trial 90 with value: 0.7746031746031746.\n",
      "WARNING: Maximum number of iterations 32 reached. The mean may be inaccurate\n"
     ]
    },
    {
     "name": "stdout",
     "output_type": "stream",
     "text": [
      "SVD 수렴 문제 발생: SVD did not converge. 계속 진행합니다.\n"
     ]
    },
    {
     "name": "stderr",
     "output_type": "stream",
     "text": [
      "[I 2024-10-01 10:40:00,094] Trial 97 finished with value: 0.6271186440677966 and parameters: {'lr': 0.0006623735427413194, 'weight_decay': 4.728330276047477e-05}. Best is trial 90 with value: 0.7746031746031746.\n",
      "WARNING: Maximum number of iterations 32 reached. The mean may be inaccurate\n"
     ]
    },
    {
     "name": "stdout",
     "output_type": "stream",
     "text": [
      "SVD 수렴 문제 발생: SVD did not converge. 계속 진행합니다.\n"
     ]
    },
    {
     "name": "stderr",
     "output_type": "stream",
     "text": [
      "[I 2024-10-01 10:45:30,096] Trial 98 finished with value: 0.6174863387978142 and parameters: {'lr': 0.0008562336684171364, 'weight_decay': 0.0003813268824869389}. Best is trial 90 with value: 0.7746031746031746.\n",
      "WARNING: Maximum number of iterations 32 reached. The mean may be inaccurate\n"
     ]
    },
    {
     "name": "stdout",
     "output_type": "stream",
     "text": [
      "SVD 수렴 문제 발생: SVD did not converge. 계속 진행합니다.\n"
     ]
    },
    {
     "name": "stderr",
     "output_type": "stream",
     "text": [
      "[I 2024-10-01 10:51:01,969] Trial 99 finished with value: 0.6382623224728489 and parameters: {'lr': 0.0001413704257402928, 'weight_decay': 0.0005122921866840029}. Best is trial 90 with value: 0.7746031746031746.\n",
      "WARNING: Maximum number of iterations 32 reached. The mean may be inaccurate\n"
     ]
    },
    {
     "name": "stdout",
     "output_type": "stream",
     "text": [
      "SVD 수렴 문제 발생: SVD did not converge. 계속 진행합니다.\n"
     ]
    },
    {
     "name": "stderr",
     "output_type": "stream",
     "text": [
      "[I 2024-10-01 10:56:33,170] Trial 100 finished with value: 0.7158469945355191 and parameters: {'lr': 0.0004971871861477974, 'weight_decay': 9.4967427452228e-05}. Best is trial 90 with value: 0.7746031746031746.\n",
      "WARNING: Maximum number of iterations 32 reached. The mean may be inaccurate\n"
     ]
    },
    {
     "name": "stdout",
     "output_type": "stream",
     "text": [
      "SVD 수렴 문제 발생: SVD did not converge. 계속 진행합니다.\n"
     ]
    },
    {
     "name": "stderr",
     "output_type": "stream",
     "text": [
      "[I 2024-10-01 11:02:04,522] Trial 101 finished with value: 0.6848484848484848 and parameters: {'lr': 0.00045565449176108666, 'weight_decay': 1.1672778508924831e-05}. Best is trial 90 with value: 0.7746031746031746.\n",
      "WARNING: Maximum number of iterations 32 reached. The mean may be inaccurate\n",
      "[I 2024-10-01 11:07:37,921] Trial 102 finished with value: 0.5448868071818891 and parameters: {'lr': 0.0005392189581046677, 'weight_decay': 3.3288283635859066e-05}. Best is trial 90 with value: 0.7746031746031746.\n"
     ]
    },
    {
     "name": "stdout",
     "output_type": "stream",
     "text": [
      "SVD 수렴 문제 발생: SVD did not converge. 계속 진행합니다.\n"
     ]
    },
    {
     "name": "stderr",
     "output_type": "stream",
     "text": [
      "WARNING: Maximum number of iterations 32 reached. The mean may be inaccurate\n",
      "[I 2024-10-01 11:13:12,258] Trial 103 finished with value: 0.6167056986729118 and parameters: {'lr': 0.00040499064663887904, 'weight_decay': 0.00019642305128016074}. Best is trial 90 with value: 0.7746031746031746.\n"
     ]
    },
    {
     "name": "stdout",
     "output_type": "stream",
     "text": [
      "SVD 수렴 문제 발생: SVD did not converge. 계속 진행합니다.\n"
     ]
    },
    {
     "name": "stderr",
     "output_type": "stream",
     "text": [
      "WARNING: Maximum number of iterations 32 reached. The mean may be inaccurate\n"
     ]
    },
    {
     "name": "stdout",
     "output_type": "stream",
     "text": [
      "SVD 수렴 문제 발생: SVD did not converge. 계속 진행합니다.\n"
     ]
    },
    {
     "name": "stderr",
     "output_type": "stream",
     "text": [
      "[I 2024-10-01 11:18:44,714] Trial 104 finished with value: 0.6008064516129032 and parameters: {'lr': 0.0002959438830573798, 'weight_decay': 0.0014882853901921488}. Best is trial 90 with value: 0.7746031746031746.\n",
      "WARNING: Maximum number of iterations 32 reached. The mean may be inaccurate\n"
     ]
    },
    {
     "name": "stdout",
     "output_type": "stream",
     "text": [
      "SVD 수렴 문제 발생: SVD did not converge. 계속 진행합니다.\n"
     ]
    },
    {
     "name": "stderr",
     "output_type": "stream",
     "text": [
      "[I 2024-10-01 11:24:17,153] Trial 105 finished with value: 0.6750184229918939 and parameters: {'lr': 0.0007537285230131013, 'weight_decay': 0.009826153799284105}. Best is trial 90 with value: 0.7746031746031746.\n",
      "WARNING: Maximum number of iterations 32 reached. The mean may be inaccurate\n"
     ]
    },
    {
     "name": "stdout",
     "output_type": "stream",
     "text": [
      "SVD 수렴 문제 발생: SVD did not converge. 계속 진행합니다.\n"
     ]
    },
    {
     "name": "stderr",
     "output_type": "stream",
     "text": [
      "[I 2024-10-01 11:29:49,963] Trial 106 finished with value: 0.7225806451612904 and parameters: {'lr': 0.00020307207929835792, 'weight_decay': 8.430504422960785e-06}. Best is trial 90 with value: 0.7746031746031746.\n",
      "WARNING: Maximum number of iterations 32 reached. The mean may be inaccurate\n"
     ]
    },
    {
     "name": "stdout",
     "output_type": "stream",
     "text": [
      "SVD 수렴 문제 발생: SVD did not converge. 계속 진행합니다.\n"
     ]
    },
    {
     "name": "stderr",
     "output_type": "stream",
     "text": [
      "[I 2024-10-01 11:35:23,618] Trial 107 finished with value: 0.6042154566744731 and parameters: {'lr': 0.00019962126172320708, 'weight_decay': 5.801353982598069e-06}. Best is trial 90 with value: 0.7746031746031746.\n",
      "WARNING: Maximum number of iterations 32 reached. The mean may be inaccurate\n",
      "[I 2024-10-01 11:40:58,007] Trial 108 finished with value: 0.6619828259172521 and parameters: {'lr': 0.0002162635129392007, 'weight_decay': 8.599514318630221e-06}. Best is trial 90 with value: 0.7746031746031746.\n"
     ]
    },
    {
     "name": "stdout",
     "output_type": "stream",
     "text": [
      "SVD 수렴 문제 발생: SVD did not converge. 계속 진행합니다.\n"
     ]
    },
    {
     "name": "stderr",
     "output_type": "stream",
     "text": [
      "WARNING: Maximum number of iterations 32 reached. The mean may be inaccurate\n",
      "[I 2024-10-01 11:46:31,863] Trial 109 finished with value: 0.5596774193548387 and parameters: {'lr': 0.00016206996858930502, 'weight_decay': 2.7409833308913383e-06}. Best is trial 90 with value: 0.7746031746031746.\n"
     ]
    },
    {
     "name": "stdout",
     "output_type": "stream",
     "text": [
      "SVD 수렴 문제 발생: SVD did not converge. 계속 진행합니다.\n"
     ]
    },
    {
     "name": "stderr",
     "output_type": "stream",
     "text": [
      "WARNING: Maximum number of iterations 32 reached. The mean may be inaccurate\n",
      "[I 2024-10-01 11:52:06,217] Trial 110 finished with value: 0.715846994535519 and parameters: {'lr': 6.7240436691147e-05, 'weight_decay': 2.2547497706799605e-05}. Best is trial 90 with value: 0.7746031746031746.\n"
     ]
    },
    {
     "name": "stdout",
     "output_type": "stream",
     "text": [
      "SVD 수렴 문제 발생: SVD did not converge. 계속 진행합니다.\n"
     ]
    },
    {
     "name": "stderr",
     "output_type": "stream",
     "text": [
      "WARNING: Maximum number of iterations 32 reached. The mean may be inaccurate\n"
     ]
    },
    {
     "name": "stdout",
     "output_type": "stream",
     "text": [
      "SVD 수렴 문제 발생: SVD did not converge. 계속 진행합니다.\n"
     ]
    },
    {
     "name": "stderr",
     "output_type": "stream",
     "text": [
      "[I 2024-10-01 11:57:40,348] Trial 111 finished with value: 0.6315378610460578 and parameters: {'lr': 3.537104632338654e-05, 'weight_decay': 1.589611589766744e-05}. Best is trial 90 with value: 0.7746031746031746.\n",
      "WARNING: Maximum number of iterations 32 reached. The mean may be inaccurate\n",
      "[I 2024-10-01 12:03:16,117] Trial 112 finished with value: 0.656641604010025 and parameters: {'lr': 6.459945949988272e-05, 'weight_decay': 2.2233616659498146e-05}. Best is trial 90 with value: 0.7746031746031746.\n"
     ]
    },
    {
     "name": "stdout",
     "output_type": "stream",
     "text": [
      "SVD 수렴 문제 발생: SVD did not converge. 계속 진행합니다.\n"
     ]
    },
    {
     "name": "stderr",
     "output_type": "stream",
     "text": [
      "WARNING: Maximum number of iterations 32 reached. The mean may be inaccurate\n"
     ]
    },
    {
     "name": "stdout",
     "output_type": "stream",
     "text": [
      "SVD 수렴 문제 발생: SVD did not converge. 계속 진행합니다.\n"
     ]
    },
    {
     "name": "stderr",
     "output_type": "stream",
     "text": [
      "[I 2024-10-01 12:08:50,548] Trial 113 finished with value: 0.6338709677419354 and parameters: {'lr': 0.00012691438423851798, 'weight_decay': 1.3786411362482221e-05}. Best is trial 90 with value: 0.7746031746031746.\n",
      "WARNING: Maximum number of iterations 32 reached. The mean may be inaccurate\n"
     ]
    },
    {
     "name": "stdout",
     "output_type": "stream",
     "text": [
      "SVD 수렴 문제 발생: SVD did not converge. 계속 진행합니다.\n"
     ]
    },
    {
     "name": "stderr",
     "output_type": "stream",
     "text": [
      "[I 2024-10-01 12:14:25,666] Trial 114 finished with value: 0.5531746031746031 and parameters: {'lr': 2.1139986147866236e-05, 'weight_decay': 5.8188003830550956e-06}. Best is trial 90 with value: 0.7746031746031746.\n",
      "WARNING: Maximum number of iterations 32 reached. The mean may be inaccurate\n"
     ]
    },
    {
     "name": "stdout",
     "output_type": "stream",
     "text": [
      "SVD 수렴 문제 발생: SVD did not converge. 계속 진행합니다.\n"
     ]
    },
    {
     "name": "stderr",
     "output_type": "stream",
     "text": [
      "[I 2024-10-01 12:19:59,851] Trial 115 finished with value: 0.6943548387096774 and parameters: {'lr': 0.0006048390210744786, 'weight_decay': 2.4513314411149392e-05}. Best is trial 90 with value: 0.7746031746031746.\n",
      "WARNING: Maximum number of iterations 32 reached. The mean may be inaccurate\n"
     ]
    },
    {
     "name": "stdout",
     "output_type": "stream",
     "text": [
      "SVD 수렴 문제 발생: SVD did not converge. 계속 진행합니다.\n"
     ]
    },
    {
     "name": "stderr",
     "output_type": "stream",
     "text": [
      "[I 2024-10-01 12:25:34,471] Trial 116 finished with value: 0.7041373926619828 and parameters: {'lr': 0.00025390820864624184, 'weight_decay': 0.0002686670879970835}. Best is trial 90 with value: 0.7746031746031746.\n",
      "WARNING: Maximum number of iterations 32 reached. The mean may be inaccurate\n"
     ]
    },
    {
     "name": "stdout",
     "output_type": "stream",
     "text": [
      "SVD 수렴 문제 발생: SVD did not converge. 계속 진행합니다.\n"
     ]
    },
    {
     "name": "stderr",
     "output_type": "stream",
     "text": [
      "[I 2024-10-01 12:31:08,615] Trial 117 finished with value: 0.5856307435254803 and parameters: {'lr': 0.00034396266600221617, 'weight_decay': 9.601627639077708e-05}. Best is trial 90 with value: 0.7746031746031746.\n",
      "WARNING: Maximum number of iterations 32 reached. The mean may be inaccurate\n"
     ]
    },
    {
     "name": "stdout",
     "output_type": "stream",
     "text": [
      "SVD 수렴 문제 발생: SVD did not converge. 계속 진행합니다.\n"
     ]
    },
    {
     "name": "stderr",
     "output_type": "stream",
     "text": [
      "[I 2024-10-01 12:36:43,947] Trial 118 finished with value: 0.6574770258980785 and parameters: {'lr': 5.124168272961685e-05, 'weight_decay': 0.00015936230155016903}. Best is trial 90 with value: 0.7746031746031746.\n",
      "WARNING: Maximum number of iterations 32 reached. The mean may be inaccurate\n"
     ]
    },
    {
     "name": "stdout",
     "output_type": "stream",
     "text": [
      "SVD 수렴 문제 발생: SVD did not converge. 계속 진행합니다.\n"
     ]
    },
    {
     "name": "stderr",
     "output_type": "stream",
     "text": [
      "[I 2024-10-01 12:42:20,667] Trial 119 finished with value: 0.5909090909090909 and parameters: {'lr': 0.00010367551334391463, 'weight_decay': 0.0003058381001980979}. Best is trial 90 with value: 0.7746031746031746.\n",
      "WARNING: Maximum number of iterations 32 reached. The mean may be inaccurate\n"
     ]
    },
    {
     "name": "stdout",
     "output_type": "stream",
     "text": [
      "SVD 수렴 문제 발생: SVD did not converge. 계속 진행합니다.\n"
     ]
    },
    {
     "name": "stderr",
     "output_type": "stream",
     "text": [
      "[I 2024-10-01 12:47:56,791] Trial 120 finished with value: 0.6362217017954722 and parameters: {'lr': 0.0004593989586908085, 'weight_decay': 0.0006271224044355874}. Best is trial 90 with value: 0.7746031746031746.\n",
      "WARNING: Maximum number of iterations 32 reached. The mean may be inaccurate\n"
     ]
    },
    {
     "name": "stdout",
     "output_type": "stream",
     "text": [
      "SVD 수렴 문제 발생: SVD did not converge. 계속 진행합니다.\n"
     ]
    },
    {
     "name": "stderr",
     "output_type": "stream",
     "text": [
      "[I 2024-10-01 12:53:33,610] Trial 121 finished with value: 0.5681818181818182 and parameters: {'lr': 0.0003015919430502033, 'weight_decay': 0.00024981875173388175}. Best is trial 90 with value: 0.7746031746031746.\n",
      "WARNING: Maximum number of iterations 32 reached. The mean may be inaccurate\n"
     ]
    },
    {
     "name": "stdout",
     "output_type": "stream",
     "text": [
      "SVD 수렴 문제 발생: SVD did not converge. 계속 진행합니다.\n"
     ]
    },
    {
     "name": "stderr",
     "output_type": "stream",
     "text": [
      "[I 2024-10-01 12:59:11,109] Trial 122 finished with value: 0.6213895394223263 and parameters: {'lr': 0.00018065006745825141, 'weight_decay': 3.0032242263447645e-05}. Best is trial 90 with value: 0.7746031746031746.\n",
      "WARNING: Maximum number of iterations 32 reached. The mean may be inaccurate\n",
      "[I 2024-10-01 13:04:49,406] Trial 123 finished with value: 0.6553030303030303 and parameters: {'lr': 0.000244892937916062, 'weight_decay': 0.00042865265409327863}. Best is trial 90 with value: 0.7746031746031746.\n"
     ]
    },
    {
     "name": "stdout",
     "output_type": "stream",
     "text": [
      "SVD 수렴 문제 발생: SVD did not converge. 계속 진행합니다.\n"
     ]
    },
    {
     "name": "stderr",
     "output_type": "stream",
     "text": [
      "WARNING: Maximum number of iterations 32 reached. The mean may be inaccurate\n"
     ]
    },
    {
     "name": "stdout",
     "output_type": "stream",
     "text": [
      "SVD 수렴 문제 발생: SVD did not converge. 계속 진행합니다.\n"
     ]
    },
    {
     "name": "stderr",
     "output_type": "stream",
     "text": [
      "[I 2024-10-01 13:10:25,292] Trial 124 finished with value: 0.581060606060606 and parameters: {'lr': 7.004027319381809e-05, 'weight_decay': 0.00011443448247103079}. Best is trial 90 with value: 0.7746031746031746.\n",
      "WARNING: Maximum number of iterations 32 reached. The mean may be inaccurate\n"
     ]
    },
    {
     "name": "stdout",
     "output_type": "stream",
     "text": [
      "SVD 수렴 문제 발생: SVD did not converge. 계속 진행합니다.\n"
     ]
    },
    {
     "name": "stderr",
     "output_type": "stream",
     "text": [
      "[I 2024-10-01 13:16:03,338] Trial 125 finished with value: 0.6303030303030303 and parameters: {'lr': 0.00037627191951256024, 'weight_decay': 9.727995708107594e-06}. Best is trial 90 with value: 0.7746031746031746.\n",
      "WARNING: Maximum number of iterations 32 reached. The mean may be inaccurate\n"
     ]
    },
    {
     "name": "stdout",
     "output_type": "stream",
     "text": [
      "SVD 수렴 문제 발생: SVD did not converge. 계속 진행합니다.\n"
     ]
    },
    {
     "name": "stderr",
     "output_type": "stream",
     "text": [
      "[I 2024-10-01 13:21:42,210] Trial 126 finished with value: 0.7158730158730159 and parameters: {'lr': 0.0002804762072786496, 'weight_decay': 0.00017384698391081867}. Best is trial 90 with value: 0.7746031746031746.\n",
      "WARNING: Maximum number of iterations 32 reached. The mean may be inaccurate\n"
     ]
    },
    {
     "name": "stdout",
     "output_type": "stream",
     "text": [
      "SVD 수렴 문제 발생: SVD did not converge. 계속 진행합니다.\n"
     ]
    },
    {
     "name": "stderr",
     "output_type": "stream",
     "text": [
      "[I 2024-10-01 13:27:20,044] Trial 127 finished with value: 0.6583333333333334 and parameters: {'lr': 0.0005290732737485293, 'weight_decay': 0.00015199691110073828}. Best is trial 90 with value: 0.7746031746031746.\n",
      "WARNING: Maximum number of iterations 32 reached. The mean may be inaccurate\n"
     ]
    },
    {
     "name": "stdout",
     "output_type": "stream",
     "text": [
      "SVD 수렴 문제 발생: SVD did not converge. 계속 진행합니다.\n"
     ]
    },
    {
     "name": "stderr",
     "output_type": "stream",
     "text": [
      "[I 2024-10-01 13:32:56,136] Trial 128 finished with value: 0.643939393939394 and parameters: {'lr': 0.0009458702206977732, 'weight_decay': 0.0001869188530596012}. Best is trial 90 with value: 0.7746031746031746.\n",
      "WARNING: Maximum number of iterations 32 reached. The mean may be inaccurate\n"
     ]
    },
    {
     "name": "stdout",
     "output_type": "stream",
     "text": [
      "SVD 수렴 문제 발생: SVD did not converge. 계속 진행합니다.\n"
     ]
    },
    {
     "name": "stderr",
     "output_type": "stream",
     "text": [
      "[I 2024-10-01 13:38:34,328] Trial 129 finished with value: 0.6854020296643247 and parameters: {'lr': 0.0006429015274298953, 'weight_decay': 3.432251191123184e-06}. Best is trial 90 with value: 0.7746031746031746.\n",
      "WARNING: Maximum number of iterations 32 reached. The mean may be inaccurate\n"
     ]
    },
    {
     "name": "stdout",
     "output_type": "stream",
     "text": [
      "SVD 수렴 문제 발생: SVD did not converge. 계속 진행합니다.\n"
     ]
    },
    {
     "name": "stderr",
     "output_type": "stream",
     "text": [
      "[I 2024-10-01 13:44:13,248] Trial 130 finished with value: 0.5 and parameters: {'lr': 0.0001503583703336807, 'weight_decay': 6.047068988137319e-05}. Best is trial 90 with value: 0.7746031746031746.\n",
      "WARNING: Maximum number of iterations 32 reached. The mean may be inaccurate\n"
     ]
    },
    {
     "name": "stdout",
     "output_type": "stream",
     "text": [
      "SVD 수렴 문제 발생: SVD did not converge. 계속 진행합니다.\n"
     ]
    },
    {
     "name": "stderr",
     "output_type": "stream",
     "text": [
      "[I 2024-10-01 13:49:52,133] Trial 131 finished with value: 0.613117170228445 and parameters: {'lr': 0.00024346600547628524, 'weight_decay': 0.00026541756146038426}. Best is trial 90 with value: 0.7746031746031746.\n",
      "WARNING: Maximum number of iterations 32 reached. The mean may be inaccurate\n",
      "[I 2024-10-01 13:55:31,625] Trial 132 finished with value: 0.6524193548387097 and parameters: {'lr': 0.00027991715489030395, 'weight_decay': 0.00021140510473412563}. Best is trial 90 with value: 0.7746031746031746.\n"
     ]
    },
    {
     "name": "stdout",
     "output_type": "stream",
     "text": [
      "SVD 수렴 문제 발생: SVD did not converge. 계속 진행합니다.\n"
     ]
    },
    {
     "name": "stderr",
     "output_type": "stream",
     "text": [
      "WARNING: Maximum number of iterations 32 reached. The mean may be inaccurate\n"
     ]
    },
    {
     "name": "stdout",
     "output_type": "stream",
     "text": [
      "SVD 수렴 문제 발생: SVD did not converge. 계속 진행합니다.\n"
     ]
    },
    {
     "name": "stderr",
     "output_type": "stream",
     "text": [
      "[I 2024-10-01 14:01:09,116] Trial 133 finished with value: 0.6136363636363636 and parameters: {'lr': 0.00041275511419047126, 'weight_decay': 0.000303773625552421}. Best is trial 90 with value: 0.7746031746031746.\n",
      "WARNING: Maximum number of iterations 32 reached. The mean may be inaccurate\n"
     ]
    },
    {
     "name": "stdout",
     "output_type": "stream",
     "text": [
      "SVD 수렴 문제 발생: SVD did not converge. 계속 진행합니다.\n"
     ]
    },
    {
     "name": "stderr",
     "output_type": "stream",
     "text": [
      "[I 2024-10-01 14:06:48,345] Trial 134 finished with value: 0.5964090554254489 and parameters: {'lr': 9.359499302801329e-05, 'weight_decay': 0.0003560236312758517}. Best is trial 90 with value: 0.7746031746031746.\n",
      "WARNING: Maximum number of iterations 32 reached. The mean may be inaccurate\n"
     ]
    },
    {
     "name": "stdout",
     "output_type": "stream",
     "text": [
      "SVD 수렴 문제 발생: SVD did not converge. 계속 진행합니다.\n"
     ]
    },
    {
     "name": "stderr",
     "output_type": "stream",
     "text": [
      "[I 2024-10-01 14:12:27,385] Trial 135 finished with value: 0.6669354838709677 and parameters: {'lr': 0.00011791713354933326, 'weight_decay': 0.00012036246735498208}. Best is trial 90 with value: 0.7746031746031746.\n",
      "WARNING: Maximum number of iterations 32 reached. The mean may be inaccurate\n"
     ]
    },
    {
     "name": "stdout",
     "output_type": "stream",
     "text": [
      "SVD 수렴 문제 발생: SVD did not converge. 계속 진행합니다.\n"
     ]
    },
    {
     "name": "stderr",
     "output_type": "stream",
     "text": [
      "[I 2024-10-01 14:18:05,330] Trial 136 finished with value: 0.6698599852616065 and parameters: {'lr': 0.00021427608731164737, 'weight_decay': 7.71549269790913e-05}. Best is trial 90 with value: 0.7746031746031746.\n",
      "WARNING: Maximum number of iterations 32 reached. The mean may be inaccurate\n"
     ]
    },
    {
     "name": "stdout",
     "output_type": "stream",
     "text": [
      "SVD 수렴 문제 발생: SVD did not converge. 계속 진행합니다.\n"
     ]
    },
    {
     "name": "stderr",
     "output_type": "stream",
     "text": [
      "[I 2024-10-01 14:23:43,323] Trial 137 finished with value: 0.7143939393939395 and parameters: {'lr': 0.0003562337859660462, 'weight_decay': 0.0005069084594887765}. Best is trial 90 with value: 0.7746031746031746.\n",
      "WARNING: Maximum number of iterations 32 reached. The mean may be inaccurate\n"
     ]
    },
    {
     "name": "stdout",
     "output_type": "stream",
     "text": [
      "SVD 수렴 문제 발생: SVD did not converge. 계속 진행합니다.\n"
     ]
    },
    {
     "name": "stderr",
     "output_type": "stream",
     "text": [
      "[I 2024-10-01 14:29:20,082] Trial 138 finished with value: 0.768939393939394 and parameters: {'lr': 3.1791928129670564e-06, 'weight_decay': 0.0007164304777810615}. Best is trial 90 with value: 0.7746031746031746.\n",
      "WARNING: Maximum number of iterations 32 reached. The mean may be inaccurate\n"
     ]
    },
    {
     "name": "stdout",
     "output_type": "stream",
     "text": [
      "SVD 수렴 문제 발생: SVD did not converge. 계속 진행합니다.\n"
     ]
    },
    {
     "name": "stderr",
     "output_type": "stream",
     "text": [
      "[I 2024-10-01 14:34:58,312] Trial 139 finished with value: 0.7549180327868852 and parameters: {'lr': 1.2973635490800875e-06, 'weight_decay': 0.0007758041518674434}. Best is trial 90 with value: 0.7746031746031746.\n",
      "WARNING: Maximum number of iterations 32 reached. The mean may be inaccurate\n",
      "[I 2024-10-01 14:40:38,543] Trial 140 finished with value: 0.5846994535519126 and parameters: {'lr': 2.5127903088540357e-06, 'weight_decay': 0.0007551953511089911}. Best is trial 90 with value: 0.7746031746031746.\n"
     ]
    },
    {
     "name": "stdout",
     "output_type": "stream",
     "text": [
      "SVD 수렴 문제 발생: SVD did not converge. 계속 진행합니다.\n"
     ]
    },
    {
     "name": "stderr",
     "output_type": "stream",
     "text": [
      "WARNING: Maximum number of iterations 32 reached. The mean may be inaccurate\n"
     ]
    },
    {
     "name": "stdout",
     "output_type": "stream",
     "text": [
      "SVD 수렴 문제 발생: SVD did not converge. 계속 진행합니다.\n"
     ]
    },
    {
     "name": "stderr",
     "output_type": "stream",
     "text": [
      "[I 2024-10-01 14:46:17,046] Trial 141 finished with value: 0.6112903225806452 and parameters: {'lr': 1.3439338225691964e-06, 'weight_decay': 0.0009081392491602896}. Best is trial 90 with value: 0.7746031746031746.\n",
      "WARNING: Maximum number of iterations 32 reached. The mean may be inaccurate\n"
     ]
    },
    {
     "name": "stdout",
     "output_type": "stream",
     "text": [
      "SVD 수렴 문제 발생: SVD did not converge. 계속 진행합니다.\n"
     ]
    },
    {
     "name": "stderr",
     "output_type": "stream",
     "text": [
      "[I 2024-10-01 14:51:56,734] Trial 142 finished with value: 0.6666666666666666 and parameters: {'lr': 3.837116254435637e-06, 'weight_decay': 0.0004923546019436596}. Best is trial 90 with value: 0.7746031746031746.\n",
      "WARNING: Maximum number of iterations 32 reached. The mean may be inaccurate\n"
     ]
    },
    {
     "name": "stdout",
     "output_type": "stream",
     "text": [
      "SVD 수렴 문제 발생: SVD did not converge. 계속 진행합니다.\n"
     ]
    },
    {
     "name": "stderr",
     "output_type": "stream",
     "text": [
      "[I 2024-10-01 14:57:37,741] Trial 143 finished with value: 0.6426146010186757 and parameters: {'lr': 2.1125807259552822e-06, 'weight_decay': 0.0005614492010525508}. Best is trial 90 with value: 0.7746031746031746.\n",
      "WARNING: Maximum number of iterations 32 reached. The mean may be inaccurate\n",
      "[I 2024-10-01 15:03:20,830] Trial 144 finished with value: 0.687743950039032 and parameters: {'lr': 1.23009316924814e-06, 'weight_decay': 0.0007057251818121927}. Best is trial 90 with value: 0.7746031746031746.\n"
     ]
    },
    {
     "name": "stdout",
     "output_type": "stream",
     "text": [
      "SVD 수렴 문제 발생: SVD did not converge. 계속 진행합니다.\n"
     ]
    },
    {
     "name": "stderr",
     "output_type": "stream",
     "text": [
      "WARNING: Maximum number of iterations 32 reached. The mean may be inaccurate\n"
     ]
    },
    {
     "name": "stdout",
     "output_type": "stream",
     "text": [
      "SVD 수렴 문제 발생: SVD did not converge. 계속 진행합니다.\n"
     ]
    },
    {
     "name": "stderr",
     "output_type": "stream",
     "text": [
      "[I 2024-10-01 15:09:02,833] Trial 145 finished with value: 0.6106934001670844 and parameters: {'lr': 2.399743114669174e-06, 'weight_decay': 0.0010597009911348149}. Best is trial 90 with value: 0.7746031746031746.\n",
      "WARNING: Maximum number of iterations 32 reached. The mean may be inaccurate\n"
     ]
    },
    {
     "name": "stdout",
     "output_type": "stream",
     "text": [
      "SVD 수렴 문제 발생: SVD did not converge. 계속 진행합니다.\n"
     ]
    },
    {
     "name": "stderr",
     "output_type": "stream",
     "text": [
      "[I 2024-10-01 15:14:45,283] Trial 146 finished with value: 0.5862607338017174 and parameters: {'lr': 5.6549907675388215e-06, 'weight_decay': 0.0003920044127360145}. Best is trial 90 with value: 0.7746031746031746.\n",
      "WARNING: Maximum number of iterations 32 reached. The mean may be inaccurate\n"
     ]
    },
    {
     "name": "stdout",
     "output_type": "stream",
     "text": [
      "SVD 수렴 문제 발생: SVD did not converge. 계속 진행합니다.\n"
     ]
    },
    {
     "name": "stderr",
     "output_type": "stream",
     "text": [
      "[I 2024-10-01 15:20:27,843] Trial 147 finished with value: 0.7241935483870968 and parameters: {'lr': 1.2715640741645449e-05, 'weight_decay': 0.0008301057940697486}. Best is trial 90 with value: 0.7746031746031746.\n",
      "WARNING: Maximum number of iterations 32 reached. The mean may be inaccurate\n"
     ]
    },
    {
     "name": "stdout",
     "output_type": "stream",
     "text": [
      "SVD 수렴 문제 발생: SVD did not converge. 계속 진행합니다.\n"
     ]
    },
    {
     "name": "stderr",
     "output_type": "stream",
     "text": [
      "[I 2024-10-01 15:26:09,725] Trial 148 finished with value: 0.6340909090909091 and parameters: {'lr': 1.0364181200102872e-06, 'weight_decay': 0.0005474537605221197}. Best is trial 90 with value: 0.7746031746031746.\n",
      "WARNING: Maximum number of iterations 32 reached. The mean may be inaccurate\n"
     ]
    },
    {
     "name": "stdout",
     "output_type": "stream",
     "text": [
      "SVD 수렴 문제 발생: SVD did not converge. 계속 진행합니다.\n"
     ]
    },
    {
     "name": "stderr",
     "output_type": "stream",
     "text": [
      "[I 2024-10-01 15:31:51,810] Trial 149 finished with value: 0.6903225806451612 and parameters: {'lr': 9.071205147870515e-06, 'weight_decay': 0.0004690624395414776}. Best is trial 90 with value: 0.7746031746031746.\n",
      "WARNING: Maximum number of iterations 32 reached. The mean may be inaccurate\n"
     ]
    },
    {
     "name": "stdout",
     "output_type": "stream",
     "text": [
      "SVD 수렴 문제 발생: SVD did not converge. 계속 진행합니다.\n"
     ]
    },
    {
     "name": "stderr",
     "output_type": "stream",
     "text": [
      "[I 2024-10-01 15:37:32,886] Trial 150 finished with value: 0.7018489984591679 and parameters: {'lr': 1.3001266660789654e-05, 'weight_decay': 0.001467065928178451}. Best is trial 90 with value: 0.7746031746031746.\n",
      "WARNING: Maximum number of iterations 32 reached. The mean may be inaccurate\n"
     ]
    },
    {
     "name": "stdout",
     "output_type": "stream",
     "text": [
      "SVD 수렴 문제 발생: SVD did not converge. 계속 진행합니다.\n"
     ]
    },
    {
     "name": "stderr",
     "output_type": "stream",
     "text": [
      "[I 2024-10-01 15:43:13,908] Trial 151 finished with value: 0.6721311475409836 and parameters: {'lr': 6.318891046967971e-06, 'weight_decay': 0.0007578878563604823}. Best is trial 90 with value: 0.7746031746031746.\n",
      "WARNING: Maximum number of iterations 32 reached. The mean may be inaccurate\n"
     ]
    },
    {
     "name": "stdout",
     "output_type": "stream",
     "text": [
      "SVD 수렴 문제 발생: SVD did not converge. 계속 진행합니다.\n"
     ]
    },
    {
     "name": "stderr",
     "output_type": "stream",
     "text": [
      "[I 2024-10-01 15:48:53,770] Trial 152 finished with value: 0.6174603174603175 and parameters: {'lr': 0.0007825284471610866, 'weight_decay': 0.00021876084788095577}. Best is trial 90 with value: 0.7746031746031746.\n",
      "WARNING: Maximum number of iterations 32 reached. The mean may be inaccurate\n"
     ]
    },
    {
     "name": "stdout",
     "output_type": "stream",
     "text": [
      "SVD 수렴 문제 발생: SVD did not converge. 계속 진행합니다.\n"
     ]
    },
    {
     "name": "stderr",
     "output_type": "stream",
     "text": [
      "[I 2024-10-01 15:54:33,464] Trial 153 finished with value: 0.7056451612903225 and parameters: {'lr': 1.469585022466427e-05, 'weight_decay': 0.0006540785068301681}. Best is trial 90 with value: 0.7746031746031746.\n",
      "WARNING: Maximum number of iterations 32 reached. The mean may be inaccurate\n"
     ]
    },
    {
     "name": "stdout",
     "output_type": "stream",
     "text": [
      "SVD 수렴 문제 발생: SVD did not converge. 계속 진행합니다.\n"
     ]
    },
    {
     "name": "stderr",
     "output_type": "stream",
     "text": [
      "[I 2024-10-01 16:00:13,329] Trial 154 finished with value: 0.6814516129032258 and parameters: {'lr': 1.6880738025117998e-06, 'weight_decay': 0.0008284791604656156}. Best is trial 90 with value: 0.7746031746031746.\n",
      "WARNING: Maximum number of iterations 32 reached. The mean may be inaccurate\n"
     ]
    },
    {
     "name": "stdout",
     "output_type": "stream",
     "text": [
      "SVD 수렴 문제 발생: SVD did not converge. 계속 진행합니다.\n"
     ]
    },
    {
     "name": "stderr",
     "output_type": "stream",
     "text": [
      "[I 2024-10-01 16:05:54,331] Trial 155 finished with value: 0.6588061901252764 and parameters: {'lr': 0.0003705976097503929, 'weight_decay': 0.0001699221804491393}. Best is trial 90 with value: 0.7746031746031746.\n",
      "WARNING: Maximum number of iterations 32 reached. The mean may be inaccurate\n"
     ]
    },
    {
     "name": "stdout",
     "output_type": "stream",
     "text": [
      "SVD 수렴 문제 발생: SVD did not converge. 계속 진행합니다.\n"
     ]
    },
    {
     "name": "stderr",
     "output_type": "stream",
     "text": [
      "[I 2024-10-01 16:11:34,525] Trial 156 finished with value: 0.7384855581576893 and parameters: {'lr': 0.00047740412128263976, 'weight_decay': 0.0010841384826813447}. Best is trial 90 with value: 0.7746031746031746.\n",
      "WARNING: Maximum number of iterations 32 reached. The mean may be inaccurate\n"
     ]
    },
    {
     "name": "stdout",
     "output_type": "stream",
     "text": [
      "SVD 수렴 문제 발생: SVD did not converge. 계속 진행합니다.\n"
     ]
    },
    {
     "name": "stderr",
     "output_type": "stream",
     "text": [
      "[I 2024-10-01 16:17:15,442] Trial 157 finished with value: 0.49621212121212127 and parameters: {'lr': 0.0005966537695958957, 'weight_decay': 0.001036035084822506}. Best is trial 90 with value: 0.7746031746031746.\n",
      "WARNING: Maximum number of iterations 32 reached. The mean may be inaccurate\n"
     ]
    },
    {
     "name": "stdout",
     "output_type": "stream",
     "text": [
      "SVD 수렴 문제 발생: SVD did not converge. 계속 진행합니다.\n"
     ]
    },
    {
     "name": "stderr",
     "output_type": "stream",
     "text": [
      "[I 2024-10-01 16:22:55,877] Trial 158 finished with value: 0.5419354838709678 and parameters: {'lr': 3.93867901792206e-06, 'weight_decay': 0.0018595970804018654}. Best is trial 90 with value: 0.7746031746031746.\n",
      "WARNING: Maximum number of iterations 32 reached. The mean may be inaccurate\n"
     ]
    },
    {
     "name": "stdout",
     "output_type": "stream",
     "text": [
      "SVD 수렴 문제 발생: SVD did not converge. 계속 진행합니다.\n"
     ]
    },
    {
     "name": "stderr",
     "output_type": "stream",
     "text": [
      "[I 2024-10-01 16:28:36,169] Trial 159 finished with value: 0.6080645161290322 and parameters: {'lr': 2.8317318227110418e-05, 'weight_decay': 0.0011610696204331578}. Best is trial 90 with value: 0.7746031746031746.\n",
      "WARNING: Maximum number of iterations 32 reached. The mean may be inaccurate\n"
     ]
    },
    {
     "name": "stdout",
     "output_type": "stream",
     "text": [
      "SVD 수렴 문제 발생: SVD did not converge. 계속 진행합니다.\n"
     ]
    },
    {
     "name": "stderr",
     "output_type": "stream",
     "text": [
      "[I 2024-10-01 16:34:16,926] Trial 160 finished with value: 0.5886363636363637 and parameters: {'lr': 3.1685231455567207e-06, 'weight_decay': 0.0008866689923360301}. Best is trial 90 with value: 0.7746031746031746.\n",
      "WARNING: Maximum number of iterations 32 reached. The mean may be inaccurate\n"
     ]
    },
    {
     "name": "stdout",
     "output_type": "stream",
     "text": [
      "SVD 수렴 문제 발생: SVD did not converge. 계속 진행합니다.\n"
     ]
    },
    {
     "name": "stderr",
     "output_type": "stream",
     "text": [
      "[I 2024-10-01 16:39:55,962] Trial 161 finished with value: 0.7189695550351288 and parameters: {'lr': 0.0004852158093020312, 'weight_decay': 0.00041729098472890195}. Best is trial 90 with value: 0.7746031746031746.\n",
      "WARNING: Maximum number of iterations 32 reached. The mean may be inaccurate\n"
     ]
    },
    {
     "name": "stdout",
     "output_type": "stream",
     "text": [
      "SVD 수렴 문제 발생: SVD did not converge. 계속 진행합니다.\n"
     ]
    },
    {
     "name": "stderr",
     "output_type": "stream",
     "text": [
      "[I 2024-10-01 16:45:33,867] Trial 162 finished with value: 0.5685483870967742 and parameters: {'lr': 0.00047810316783491357, 'weight_decay': 0.0004173857734646873}. Best is trial 90 with value: 0.7746031746031746.\n",
      "WARNING: Maximum number of iterations 32 reached. The mean may be inaccurate\n"
     ]
    },
    {
     "name": "stdout",
     "output_type": "stream",
     "text": [
      "SVD 수렴 문제 발생: SVD did not converge. 계속 진행합니다.\n"
     ]
    },
    {
     "name": "stderr",
     "output_type": "stream",
     "text": [
      "[I 2024-10-01 16:51:12,195] Trial 163 finished with value: 0.5969049373618276 and parameters: {'lr': 0.00031699320430178144, 'weight_decay': 0.0006093596392124627}. Best is trial 90 with value: 0.7746031746031746.\n",
      "WARNING: Maximum number of iterations 32 reached. The mean may be inaccurate\n"
     ]
    },
    {
     "name": "stdout",
     "output_type": "stream",
     "text": [
      "SVD 수렴 문제 발생: SVD did not converge. 계속 진행합니다.\n"
     ]
    },
    {
     "name": "stderr",
     "output_type": "stream",
     "text": [
      "[I 2024-10-01 16:56:49,155] Trial 164 finished with value: 0.6242424242424243 and parameters: {'lr': 2.046609244430794e-05, 'weight_decay': 0.0003503674997022138}. Best is trial 90 with value: 0.7746031746031746.\n",
      "WARNING: Maximum number of iterations 32 reached. The mean may be inaccurate\n"
     ]
    },
    {
     "name": "stdout",
     "output_type": "stream",
     "text": [
      "SVD 수렴 문제 발생: SVD did not converge. 계속 진행합니다.\n"
     ]
    },
    {
     "name": "stderr",
     "output_type": "stream",
     "text": [
      "[I 2024-10-01 17:02:25,968] Trial 165 finished with value: 0.5998329156223892 and parameters: {'lr': 0.00046278085072177133, 'weight_decay': 0.0004944815621307965}. Best is trial 90 with value: 0.7746031746031746.\n",
      "WARNING: Maximum number of iterations 32 reached. The mean may be inaccurate\n",
      "[I 2024-10-01 17:08:02,989] Trial 166 finished with value: 0.5935483870967742 and parameters: {'lr': 0.0007387072513277865, 'weight_decay': 0.0003163278480173045}. Best is trial 90 with value: 0.7746031746031746.\n"
     ]
    },
    {
     "name": "stdout",
     "output_type": "stream",
     "text": [
      "SVD 수렴 문제 발생: SVD did not converge. 계속 진행합니다.\n"
     ]
    },
    {
     "name": "stderr",
     "output_type": "stream",
     "text": [
      "WARNING: Maximum number of iterations 32 reached. The mean may be inaccurate\n"
     ]
    },
    {
     "name": "stdout",
     "output_type": "stream",
     "text": [
      "SVD 수렴 문제 발생: SVD did not converge. 계속 진행합니다.\n"
     ]
    },
    {
     "name": "stderr",
     "output_type": "stream",
     "text": [
      "[I 2024-10-01 17:13:38,729] Trial 167 finished with value: 0.756440281030445 and parameters: {'lr': 0.00035957495783752775, 'weight_decay': 0.000583843282782098}. Best is trial 90 with value: 0.7746031746031746.\n",
      "WARNING: Maximum number of iterations 32 reached. The mean may be inaccurate\n"
     ]
    },
    {
     "name": "stdout",
     "output_type": "stream",
     "text": [
      "SVD 수렴 문제 발생: SVD did not converge. 계속 진행합니다.\n"
     ]
    },
    {
     "name": "stderr",
     "output_type": "stream",
     "text": [
      "[I 2024-10-01 17:19:15,227] Trial 168 finished with value: 0.8083333333333335 and parameters: {'lr': 0.00033220188830037576, 'weight_decay': 0.0006359974215426774}. Best is trial 168 with value: 0.8083333333333335.\n",
      "WARNING: Maximum number of iterations 32 reached. The mean may be inaccurate\n"
     ]
    },
    {
     "name": "stdout",
     "output_type": "stream",
     "text": [
      "SVD 수렴 문제 발생: SVD did not converge. 계속 진행합니다.\n"
     ]
    },
    {
     "name": "stderr",
     "output_type": "stream",
     "text": [
      "[I 2024-10-01 17:24:51,595] Trial 169 finished with value: 0.6026541764246682 and parameters: {'lr': 0.00017491682228884734, 'weight_decay': 0.0008725225132098785}. Best is trial 168 with value: 0.8083333333333335.\n",
      "WARNING: Maximum number of iterations 32 reached. The mean may be inaccurate\n"
     ]
    },
    {
     "name": "stdout",
     "output_type": "stream",
     "text": [
      "SVD 수렴 문제 발생: SVD did not converge. 계속 진행합니다.\n"
     ]
    },
    {
     "name": "stderr",
     "output_type": "stream",
     "text": [
      "[I 2024-10-01 17:30:27,638] Trial 170 finished with value: 0.6015151515151516 and parameters: {'lr': 0.00029831206750359507, 'weight_decay': 0.0006016609850721601}. Best is trial 168 with value: 0.8083333333333335.\n",
      "WARNING: Maximum number of iterations 32 reached. The mean may be inaccurate\n"
     ]
    },
    {
     "name": "stdout",
     "output_type": "stream",
     "text": [
      "SVD 수렴 문제 발생: SVD did not converge. 계속 진행합니다.\n"
     ]
    },
    {
     "name": "stderr",
     "output_type": "stream",
     "text": [
      "[I 2024-10-01 17:36:03,440] Trial 171 finished with value: 0.720969089390142 and parameters: {'lr': 0.0003559994413533917, 'weight_decay': 0.0006968172519532196}. Best is trial 168 with value: 0.8083333333333335.\n",
      "WARNING: Maximum number of iterations 32 reached. The mean may be inaccurate\n"
     ]
    },
    {
     "name": "stdout",
     "output_type": "stream",
     "text": [
      "SVD 수렴 문제 발생: SVD did not converge. 계속 진행합니다.\n"
     ]
    },
    {
     "name": "stderr",
     "output_type": "stream",
     "text": [
      "[I 2024-10-01 17:41:39,116] Trial 172 finished with value: 0.646969696969697 and parameters: {'lr': 0.00039577418495575524, 'weight_decay': 0.0007727882870159011}. Best is trial 168 with value: 0.8083333333333335.\n",
      "WARNING: Maximum number of iterations 32 reached. The mean may be inaccurate\n"
     ]
    },
    {
     "name": "stdout",
     "output_type": "stream",
     "text": [
      "SVD 수렴 문제 발생: SVD did not converge. 계속 진행합니다.\n"
     ]
    },
    {
     "name": "stderr",
     "output_type": "stream",
     "text": [
      "[I 2024-10-01 17:47:13,249] Trial 173 finished with value: 0.6 and parameters: {'lr': 0.0005134947495604355, 'weight_decay': 0.0006526055517552209}. Best is trial 168 with value: 0.8083333333333335.\n",
      "WARNING: Maximum number of iterations 32 reached. The mean may be inaccurate\n"
     ]
    },
    {
     "name": "stdout",
     "output_type": "stream",
     "text": [
      "SVD 수렴 문제 발생: SVD did not converge. 계속 진행합니다.\n"
     ]
    },
    {
     "name": "stderr",
     "output_type": "stream",
     "text": [
      "[I 2024-10-01 17:52:47,131] Trial 174 finished with value: 0.6721311475409836 and parameters: {'lr': 7.070300189357069e-06, 'weight_decay': 0.0014339472327137544}. Best is trial 168 with value: 0.8083333333333335.\n",
      "WARNING: Maximum number of iterations 32 reached. The mean may be inaccurate\n"
     ]
    },
    {
     "name": "stdout",
     "output_type": "stream",
     "text": [
      "SVD 수렴 문제 발생: SVD did not converge. 계속 진행합니다.\n"
     ]
    },
    {
     "name": "stderr",
     "output_type": "stream",
     "text": [
      "[I 2024-10-01 17:58:20,844] Trial 175 finished with value: 0.668081494057725 and parameters: {'lr': 0.00022877435835859882, 'weight_decay': 0.004195446567257568}. Best is trial 168 with value: 0.8083333333333335.\n",
      "WARNING: Maximum number of iterations 32 reached. The mean may be inaccurate\n"
     ]
    },
    {
     "name": "stdout",
     "output_type": "stream",
     "text": [
      "SVD 수렴 문제 발생: SVD did not converge. 계속 진행합니다.\n"
     ]
    },
    {
     "name": "stderr",
     "output_type": "stream",
     "text": [
      "[I 2024-10-01 18:03:54,818] Trial 176 finished with value: 0.6333333333333333 and parameters: {'lr': 0.0003301452775949273, 'weight_decay': 0.0009831992626879325}. Best is trial 168 with value: 0.8083333333333335.\n",
      "WARNING: Maximum number of iterations 32 reached. The mean may be inaccurate\n"
     ]
    },
    {
     "name": "stdout",
     "output_type": "stream",
     "text": [
      "SVD 수렴 문제 발생: SVD did not converge. 계속 진행합니다.\n"
     ]
    },
    {
     "name": "stderr",
     "output_type": "stream",
     "text": [
      "[I 2024-10-01 18:09:28,948] Trial 177 finished with value: 0.7704545454545454 and parameters: {'lr': 0.000432375974387648, 'weight_decay': 0.00044011106533590024}. Best is trial 168 with value: 0.8083333333333335.\n",
      "WARNING: Maximum number of iterations 32 reached. The mean may be inaccurate\n"
     ]
    },
    {
     "name": "stdout",
     "output_type": "stream",
     "text": [
      "SVD 수렴 문제 발생: SVD did not converge. 계속 진행합니다.\n"
     ]
    },
    {
     "name": "stderr",
     "output_type": "stream",
     "text": [
      "[I 2024-10-01 18:15:03,047] Trial 178 finished with value: 0.6568181818181819 and parameters: {'lr': 0.00043559461796627194, 'weight_decay': 0.0004352209644233696}. Best is trial 168 with value: 0.8083333333333335.\n",
      "WARNING: Maximum number of iterations 32 reached. The mean may be inaccurate\n",
      "[I 2024-10-01 18:20:36,465] Trial 179 finished with value: 0.5433255269320842 and parameters: {'lr': 0.0005990836401729008, 'weight_decay': 0.0005279917666856688}. Best is trial 168 with value: 0.8083333333333335.\n"
     ]
    },
    {
     "name": "stdout",
     "output_type": "stream",
     "text": [
      "SVD 수렴 문제 발생: SVD did not converge. 계속 진행합니다.\n"
     ]
    },
    {
     "name": "stderr",
     "output_type": "stream",
     "text": [
      "WARNING: Maximum number of iterations 32 reached. The mean may be inaccurate\n"
     ]
    },
    {
     "name": "stdout",
     "output_type": "stream",
     "text": [
      "SVD 수렴 문제 발생: SVD did not converge. 계속 진행합니다.\n"
     ]
    },
    {
     "name": "stderr",
     "output_type": "stream",
     "text": [
      "[I 2024-10-01 18:26:07,396] Trial 180 finished with value: 0.7056451612903225 and parameters: {'lr': 0.0003773640319047578, 'weight_decay': 0.00038293598529546744}. Best is trial 168 with value: 0.8083333333333335.\n",
      "WARNING: Maximum number of iterations 32 reached. The mean may be inaccurate\n"
     ]
    },
    {
     "name": "stdout",
     "output_type": "stream",
     "text": [
      "SVD 수렴 문제 발생: SVD did not converge. 계속 진행합니다.\n"
     ]
    },
    {
     "name": "stderr",
     "output_type": "stream",
     "text": [
      "[I 2024-10-01 18:31:40,417] Trial 181 finished with value: 0.6368852459016393 and parameters: {'lr': 0.000259140946649911, 'weight_decay': 0.0006804315425442658}. Best is trial 168 with value: 0.8083333333333335.\n",
      "WARNING: Maximum number of iterations 32 reached. The mean may be inaccurate\n"
     ]
    },
    {
     "name": "stdout",
     "output_type": "stream",
     "text": [
      "SVD 수렴 문제 발생: SVD did not converge. 계속 진행합니다.\n"
     ]
    },
    {
     "name": "stderr",
     "output_type": "stream",
     "text": [
      "[I 2024-10-01 18:37:12,235] Trial 182 finished with value: 0.5838709677419355 and parameters: {'lr': 0.00020684737270187616, 'weight_decay': 0.0005540134632139295}. Best is trial 168 with value: 0.8083333333333335.\n",
      "WARNING: Maximum number of iterations 32 reached. The mean may be inaccurate\n"
     ]
    },
    {
     "name": "stdout",
     "output_type": "stream",
     "text": [
      "SVD 수렴 문제 발생: SVD did not converge. 계속 진행합니다.\n"
     ]
    },
    {
     "name": "stderr",
     "output_type": "stream",
     "text": [
      "[I 2024-10-01 18:42:43,243] Trial 183 finished with value: 0.5969696969696969 and parameters: {'lr': 0.0004656034261290553, 'weight_decay': 0.0004447644343987945}. Best is trial 168 with value: 0.8083333333333335.\n",
      "WARNING: Maximum number of iterations 32 reached. The mean may be inaccurate\n",
      "[I 2024-10-01 18:48:15,047] Trial 184 finished with value: 0.6893052302888368 and parameters: {'lr': 0.00034486885277132173, 'weight_decay': 0.0012064299651105357}. Best is trial 168 with value: 0.8083333333333335.\n"
     ]
    },
    {
     "name": "stdout",
     "output_type": "stream",
     "text": [
      "SVD 수렴 문제 발생: SVD did not converge. 계속 진행합니다.\n"
     ]
    },
    {
     "name": "stderr",
     "output_type": "stream",
     "text": [
      "WARNING: Maximum number of iterations 32 reached. The mean may be inaccurate\n"
     ]
    },
    {
     "name": "stdout",
     "output_type": "stream",
     "text": [
      "SVD 수렴 문제 발생: SVD did not converge. 계속 진행합니다.\n"
     ]
    },
    {
     "name": "stderr",
     "output_type": "stream",
     "text": [
      "[I 2024-10-01 18:53:43,718] Trial 185 finished with value: 0.6129032258064516 and parameters: {'lr': 0.0005471041902735056, 'weight_decay': 0.0007614482588641417}. Best is trial 168 with value: 0.8083333333333335.\n",
      "WARNING: Maximum number of iterations 32 reached. The mean may be inaccurate\n"
     ]
    },
    {
     "name": "stdout",
     "output_type": "stream",
     "text": [
      "SVD 수렴 문제 발생: SVD did not converge. 계속 진행합니다.\n"
     ]
    },
    {
     "name": "stderr",
     "output_type": "stream",
     "text": [
      "[I 2024-10-01 18:59:13,993] Trial 186 finished with value: 0.6143637782982045 and parameters: {'lr': 0.00028819703216258024, 'weight_decay': 0.0003291776467429715}. Best is trial 168 with value: 0.8083333333333335.\n",
      "WARNING: Maximum number of iterations 32 reached. The mean may be inaccurate\n"
     ]
    },
    {
     "name": "stdout",
     "output_type": "stream",
     "text": [
      "SVD 수렴 문제 발생: SVD did not converge. 계속 진행합니다.\n"
     ]
    },
    {
     "name": "stderr",
     "output_type": "stream",
     "text": [
      "[I 2024-10-01 19:04:44,183] Trial 187 finished with value: 0.6704918032786885 and parameters: {'lr': 0.0004317994879644122, 'weight_decay': 0.000642868018775279}. Best is trial 168 with value: 0.8083333333333335.\n",
      "WARNING: Maximum number of iterations 32 reached. The mean may be inaccurate\n"
     ]
    },
    {
     "name": "stdout",
     "output_type": "stream",
     "text": [
      "SVD 수렴 문제 발생: SVD did not converge. 계속 진행합니다.\n"
     ]
    },
    {
     "name": "stderr",
     "output_type": "stream",
     "text": [
      "[I 2024-10-01 19:10:14,548] Trial 188 finished with value: 0.6757575757575758 and parameters: {'lr': 4.2200669122637016e-06, 'weight_decay': 0.0009258815718465096}. Best is trial 168 with value: 0.8083333333333335.\n",
      "WARNING: Maximum number of iterations 32 reached. The mean may be inaccurate\n"
     ]
    },
    {
     "name": "stdout",
     "output_type": "stream",
     "text": [
      "SVD 수렴 문제 발생: SVD did not converge. 계속 진행합니다.\n"
     ]
    },
    {
     "name": "stderr",
     "output_type": "stream",
     "text": [
      "[I 2024-10-01 19:15:45,448] Trial 189 finished with value: 0.6774193548387096 and parameters: {'lr': 0.0002646720975962256, 'weight_decay': 0.00025062292465091187}. Best is trial 168 with value: 0.8083333333333335.\n",
      "WARNING: Maximum number of iterations 32 reached. The mean may be inaccurate\n"
     ]
    },
    {
     "name": "stdout",
     "output_type": "stream",
     "text": [
      "SVD 수렴 문제 발생: SVD did not converge. 계속 진행합니다.\n"
     ]
    },
    {
     "name": "stderr",
     "output_type": "stream",
     "text": [
      "[I 2024-10-01 19:21:16,026] Trial 190 finished with value: 0.5661290322580644 and parameters: {'lr': 0.000679581868722231, 'weight_decay': 0.002256990066591513}. Best is trial 168 with value: 0.8083333333333335.\n",
      "WARNING: Maximum number of iterations 32 reached. The mean may be inaccurate\n"
     ]
    },
    {
     "name": "stdout",
     "output_type": "stream",
     "text": [
      "SVD 수렴 문제 발생: SVD did not converge. 계속 진행합니다.\n"
     ]
    },
    {
     "name": "stderr",
     "output_type": "stream",
     "text": [
      "[I 2024-10-01 19:26:47,273] Trial 191 finished with value: 0.5717741935483871 and parameters: {'lr': 0.0003516096988556786, 'weight_decay': 0.000504410296721138}. Best is trial 168 with value: 0.8083333333333335.\n",
      "WARNING: Maximum number of iterations 32 reached. The mean may be inaccurate\n"
     ]
    },
    {
     "name": "stdout",
     "output_type": "stream",
     "text": [
      "SVD 수렴 문제 발생: SVD did not converge. 계속 진행합니다.\n"
     ]
    },
    {
     "name": "stderr",
     "output_type": "stream",
     "text": [
      "[I 2024-10-01 19:32:19,108] Trial 192 finished with value: 0.6524193548387096 and parameters: {'lr': 0.0003783093497932878, 'weight_decay': 0.00040849627389294787}. Best is trial 168 with value: 0.8083333333333335.\n",
      "WARNING: Maximum number of iterations 32 reached. The mean may be inaccurate\n"
     ]
    },
    {
     "name": "stdout",
     "output_type": "stream",
     "text": [
      "SVD 수렴 문제 발생: SVD did not converge. 계속 진행합니다.\n"
     ]
    },
    {
     "name": "stderr",
     "output_type": "stream",
     "text": [
      "[I 2024-10-01 19:37:51,196] Trial 193 finished with value: 0.5809523809523809 and parameters: {'lr': 1.6555072091878477e-05, 'weight_decay': 0.0005050548387717236}. Best is trial 168 with value: 0.8083333333333335.\n",
      "WARNING: Maximum number of iterations 32 reached. The mean may be inaccurate\n",
      "[I 2024-10-01 19:43:24,002] Trial 194 finished with value: 0.6613636363636364 and parameters: {'lr': 1.758697873080219e-06, 'weight_decay': 0.0005911020658063679}. Best is trial 168 with value: 0.8083333333333335.\n"
     ]
    },
    {
     "name": "stdout",
     "output_type": "stream",
     "text": [
      "SVD 수렴 문제 발생: SVD did not converge. 계속 진행합니다.\n"
     ]
    },
    {
     "name": "stderr",
     "output_type": "stream",
     "text": [
      "WARNING: Maximum number of iterations 32 reached. The mean may be inaccurate\n"
     ]
    },
    {
     "name": "stdout",
     "output_type": "stream",
     "text": [
      "SVD 수렴 문제 발생: SVD did not converge. 계속 진행합니다.\n"
     ]
    },
    {
     "name": "stderr",
     "output_type": "stream",
     "text": [
      "[I 2024-10-01 19:48:54,677] Trial 195 finished with value: 0.6042154566744731 and parameters: {'lr': 0.00032445910057721515, 'weight_decay': 0.0006853056611223468}. Best is trial 168 with value: 0.8083333333333335.\n",
      "WARNING: Maximum number of iterations 32 reached. The mean may be inaccurate\n"
     ]
    },
    {
     "name": "stdout",
     "output_type": "stream",
     "text": [
      "SVD 수렴 문제 발생: SVD did not converge. 계속 진행합니다.\n"
     ]
    },
    {
     "name": "stderr",
     "output_type": "stream",
     "text": [
      "[I 2024-10-01 19:54:26,606] Trial 196 finished with value: 0.5852459016393443 and parameters: {'lr': 0.00018642201071275604, 'weight_decay': 0.0008147217698406585}. Best is trial 168 with value: 0.8083333333333335.\n",
      "WARNING: Maximum number of iterations 32 reached. The mean may be inaccurate\n"
     ]
    },
    {
     "name": "stdout",
     "output_type": "stream",
     "text": [
      "SVD 수렴 문제 발생: SVD did not converge. 계속 진행합니다.\n"
     ]
    },
    {
     "name": "stderr",
     "output_type": "stream",
     "text": [
      "[I 2024-10-01 19:59:57,628] Trial 197 finished with value: 0.5378787878787878 and parameters: {'lr': 0.0005499891691238014, 'weight_decay': 0.00013771665622033886}. Best is trial 168 with value: 0.8083333333333335.\n",
      "WARNING: Maximum number of iterations 32 reached. The mean may be inaccurate\n"
     ]
    },
    {
     "name": "stdout",
     "output_type": "stream",
     "text": [
      "SVD 수렴 문제 발생: SVD did not converge. 계속 진행합니다.\n"
     ]
    },
    {
     "name": "stderr",
     "output_type": "stream",
     "text": [
      "[I 2024-10-01 20:05:28,301] Trial 198 finished with value: 0.6159090909090909 and parameters: {'lr': 0.00015322597686186063, 'weight_decay': 0.0004475155937725878}. Best is trial 168 with value: 0.8083333333333335.\n",
      "WARNING: Maximum number of iterations 32 reached. The mean may be inaccurate\n",
      "[I 2024-10-01 20:10:59,882] Trial 199 finished with value: 0.6068181818181818 and parameters: {'lr': 0.00023057584002688435, 'weight_decay': 2.085228563735002e-06}. Best is trial 168 with value: 0.8083333333333335.\n"
     ]
    },
    {
     "name": "stdout",
     "output_type": "stream",
     "text": [
      "SVD 수렴 문제 발생: SVD did not converge. 계속 진행합니다.\n"
     ]
    },
    {
     "name": "stderr",
     "output_type": "stream",
     "text": [
      "WARNING: Maximum number of iterations 32 reached. The mean may be inaccurate\n"
     ]
    },
    {
     "name": "stdout",
     "output_type": "stream",
     "text": [
      "SVD 수렴 문제 발생: SVD did not converge. 계속 진행합니다.\n"
     ]
    },
    {
     "name": "stderr",
     "output_type": "stream",
     "text": [
      "[I 2024-10-01 20:16:29,723] Trial 200 finished with value: 0.6777777777777778 and parameters: {'lr': 1.017714312605766e-05, 'weight_decay': 0.000541375912998005}. Best is trial 168 with value: 0.8083333333333335.\n",
      "WARNING: Maximum number of iterations 32 reached. The mean may be inaccurate\n"
     ]
    },
    {
     "name": "stdout",
     "output_type": "stream",
     "text": [
      "SVD 수렴 문제 발생: SVD did not converge. 계속 진행합니다.\n"
     ]
    },
    {
     "name": "stderr",
     "output_type": "stream",
     "text": [
      "[I 2024-10-01 20:21:58,678] Trial 201 finished with value: 0.6323185011709602 and parameters: {'lr': 0.0009246870732033649, 'weight_decay': 0.0002178069102806578}. Best is trial 168 with value: 0.8083333333333335.\n",
      "WARNING: Maximum number of iterations 32 reached. The mean may be inaccurate\n"
     ]
    },
    {
     "name": "stdout",
     "output_type": "stream",
     "text": [
      "SVD 수렴 문제 발생: SVD did not converge. 계속 진행합니다.\n"
     ]
    },
    {
     "name": "stderr",
     "output_type": "stream",
     "text": [
      "[I 2024-10-01 20:27:26,832] Trial 202 finished with value: 0.6760343481654957 and parameters: {'lr': 0.0013484389735290206, 'weight_decay': 0.00030492573955436794}. Best is trial 168 with value: 0.8083333333333335.\n",
      "WARNING: Maximum number of iterations 32 reached. The mean may be inaccurate\n",
      "[I 2024-10-01 20:32:58,023] Trial 203 finished with value: 0.5424242424242425 and parameters: {'lr': 0.0006848494172766745, 'weight_decay': 0.00036473995162269475}. Best is trial 168 with value: 0.8083333333333335.\n"
     ]
    },
    {
     "name": "stdout",
     "output_type": "stream",
     "text": [
      "SVD 수렴 문제 발생: SVD did not converge. 계속 진행합니다.\n"
     ]
    },
    {
     "name": "stderr",
     "output_type": "stream",
     "text": [
      "WARNING: Maximum number of iterations 32 reached. The mean may be inaccurate\n"
     ]
    },
    {
     "name": "stdout",
     "output_type": "stream",
     "text": [
      "SVD 수렴 문제 발생: SVD did not converge. 계속 진행합니다.\n"
     ]
    },
    {
     "name": "stderr",
     "output_type": "stream",
     "text": [
      "[I 2024-10-01 20:38:26,429] Trial 204 finished with value: 0.5431818181818182 and parameters: {'lr': 0.0010993348340317861, 'weight_decay': 3.974900557143113e-06}. Best is trial 168 with value: 0.8083333333333335.\n",
      "WARNING: Maximum number of iterations 32 reached. The mean may be inaccurate\n"
     ]
    },
    {
     "name": "stdout",
     "output_type": "stream",
     "text": [
      "SVD 수렴 문제 발생: SVD did not converge. 계속 진행합니다.\n"
     ]
    },
    {
     "name": "stderr",
     "output_type": "stream",
     "text": [
      "[I 2024-10-01 20:43:56,072] Trial 205 finished with value: 0.6374269005847953 and parameters: {'lr': 0.0004886699855597749, 'weight_decay': 0.00027523112113144794}. Best is trial 168 with value: 0.8083333333333335.\n",
      "WARNING: Maximum number of iterations 32 reached. The mean may be inaccurate\n"
     ]
    },
    {
     "name": "stdout",
     "output_type": "stream",
     "text": [
      "SVD 수렴 문제 발생: SVD did not converge. 계속 진행합니다.\n"
     ]
    },
    {
     "name": "stderr",
     "output_type": "stream",
     "text": [
      "[I 2024-10-01 20:49:26,878] Trial 206 finished with value: 0.6026541764246682 and parameters: {'lr': 0.0003810424933085673, 'weight_decay': 0.00014806291109055355}. Best is trial 168 with value: 0.8083333333333335.\n",
      "WARNING: Maximum number of iterations 32 reached. The mean may be inaccurate\n"
     ]
    },
    {
     "name": "stdout",
     "output_type": "stream",
     "text": [
      "SVD 수렴 문제 발생: SVD did not converge. 계속 진행합니다.\n"
     ]
    },
    {
     "name": "stderr",
     "output_type": "stream",
     "text": [
      "[I 2024-10-01 20:54:56,476] Trial 207 finished with value: 0.559016393442623 and parameters: {'lr': 0.000781976986373863, 'weight_decay': 0.0007440952109121152}. Best is trial 168 with value: 0.8083333333333335.\n",
      "WARNING: Maximum number of iterations 32 reached. The mean may be inaccurate\n"
     ]
    },
    {
     "name": "stdout",
     "output_type": "stream",
     "text": [
      "SVD 수렴 문제 발생: SVD did not converge. 계속 진행합니다.\n"
     ]
    },
    {
     "name": "stderr",
     "output_type": "stream",
     "text": [
      "[I 2024-10-01 21:00:26,497] Trial 208 finished with value: 0.7080645161290322 and parameters: {'lr': 0.0005753370758648876, 'weight_decay': 0.0010375515479279576}. Best is trial 168 with value: 0.8083333333333335.\n",
      "WARNING: Maximum number of iterations 32 reached. The mean may be inaccurate\n"
     ]
    },
    {
     "name": "stdout",
     "output_type": "stream",
     "text": [
      "SVD 수렴 문제 발생: SVD did not converge. 계속 진행합니다.\n"
     ]
    },
    {
     "name": "stderr",
     "output_type": "stream",
     "text": [
      "[I 2024-10-01 21:05:54,832] Trial 209 finished with value: 0.6455893832943013 and parameters: {'lr': 0.00046711891883312063, 'weight_decay': 0.0003821422247024772}. Best is trial 168 with value: 0.8083333333333335.\n",
      "WARNING: Maximum number of iterations 32 reached. The mean may be inaccurate\n",
      "[I 2024-10-01 21:11:24,151] Trial 210 finished with value: 0.6073517126148705 and parameters: {'lr': 0.00028744998525363893, 'weight_decay': 0.0001825376540110648}. Best is trial 168 with value: 0.8083333333333335.\n"
     ]
    },
    {
     "name": "stdout",
     "output_type": "stream",
     "text": [
      "SVD 수렴 문제 발생: SVD did not converge. 계속 진행합니다.\n"
     ]
    },
    {
     "name": "stderr",
     "output_type": "stream",
     "text": [
      "WARNING: Maximum number of iterations 32 reached. The mean may be inaccurate\n"
     ]
    },
    {
     "name": "stdout",
     "output_type": "stream",
     "text": [
      "SVD 수렴 문제 발생: SVD did not converge. 계속 진행합니다.\n"
     ]
    },
    {
     "name": "stderr",
     "output_type": "stream",
     "text": [
      "[I 2024-10-01 21:16:50,264] Trial 211 finished with value: 0.5803030303030303 and parameters: {'lr': 0.00041255955598752604, 'weight_decay': 0.000116938500034477}. Best is trial 168 with value: 0.8083333333333335.\n",
      "WARNING: Maximum number of iterations 32 reached. The mean may be inaccurate\n"
     ]
    },
    {
     "name": "stdout",
     "output_type": "stream",
     "text": [
      "SVD 수렴 문제 발생: SVD did not converge. 계속 진행합니다.\n"
     ]
    },
    {
     "name": "stderr",
     "output_type": "stream",
     "text": [
      "[I 2024-10-01 21:22:16,764] Trial 212 finished with value: 0.6007575757575758 and parameters: {'lr': 0.0006416072845607421, 'weight_decay': 0.0001858963992731054}. Best is trial 168 with value: 0.8083333333333335.\n",
      "WARNING: Maximum number of iterations 32 reached. The mean may be inaccurate\n"
     ]
    },
    {
     "name": "stdout",
     "output_type": "stream",
     "text": [
      "SVD 수렴 문제 발생: SVD did not converge. 계속 진행합니다.\n"
     ]
    },
    {
     "name": "stderr",
     "output_type": "stream",
     "text": [
      "[I 2024-10-01 21:27:43,715] Trial 213 finished with value: 0.682279469164715 and parameters: {'lr': 0.000504683471579965, 'weight_decay': 0.00014555259304859745}. Best is trial 168 with value: 0.8083333333333335.\n",
      "WARNING: Maximum number of iterations 32 reached. The mean may be inaccurate\n"
     ]
    },
    {
     "name": "stdout",
     "output_type": "stream",
     "text": [
      "SVD 수렴 문제 발생: SVD did not converge. 계속 진행합니다.\n"
     ]
    },
    {
     "name": "stderr",
     "output_type": "stream",
     "text": [
      "[I 2024-10-01 21:33:10,304] Trial 214 finished with value: 0.5190476190476191 and parameters: {'lr': 0.0003379707211133228, 'weight_decay': 0.00024242940650846733}. Best is trial 168 with value: 0.8083333333333335.\n",
      "WARNING: Maximum number of iterations 32 reached. The mean may be inaccurate\n"
     ]
    },
    {
     "name": "stdout",
     "output_type": "stream",
     "text": [
      "SVD 수렴 문제 발생: SVD did not converge. 계속 진행합니다.\n"
     ]
    },
    {
     "name": "stderr",
     "output_type": "stream",
     "text": [
      "[I 2024-10-01 21:38:37,931] Trial 215 finished with value: 0.60967993754879 and parameters: {'lr': 1.0178910045207379e-06, 'weight_decay': 9.570515094701595e-05}. Best is trial 168 with value: 0.8083333333333335.\n",
      "WARNING: Maximum number of iterations 32 reached. The mean may be inaccurate\n"
     ]
    },
    {
     "name": "stdout",
     "output_type": "stream",
     "text": [
      "SVD 수렴 문제 발생: SVD did not converge. 계속 진행합니다.\n"
     ]
    },
    {
     "name": "stderr",
     "output_type": "stream",
     "text": [
      "[I 2024-10-01 21:44:03,575] Trial 216 finished with value: 0.6174242424242423 and parameters: {'lr': 0.0008310722102754461, 'weight_decay': 0.00047543135427027453}. Best is trial 168 with value: 0.8083333333333335.\n",
      "WARNING: Maximum number of iterations 32 reached. The mean may be inaccurate\n"
     ]
    },
    {
     "name": "stdout",
     "output_type": "stream",
     "text": [
      "SVD 수렴 문제 발생: SVD did not converge. 계속 진행합니다.\n"
     ]
    },
    {
     "name": "stderr",
     "output_type": "stream",
     "text": [
      "[I 2024-10-01 21:49:29,008] Trial 217 finished with value: 0.6151515151515151 and parameters: {'lr': 0.0004283642237073516, 'weight_decay': 3.5643432855989405e-05}. Best is trial 168 with value: 0.8083333333333335.\n",
      "WARNING: Maximum number of iterations 32 reached. The mean may be inaccurate\n"
     ]
    },
    {
     "name": "stdout",
     "output_type": "stream",
     "text": [
      "SVD 수렴 문제 발생: SVD did not converge. 계속 진행합니다.\n"
     ]
    },
    {
     "name": "stderr",
     "output_type": "stream",
     "text": [
      "[I 2024-10-01 21:54:55,042] Trial 218 finished with value: 0.6245120999219359 and parameters: {'lr': 0.0005731639958812864, 'weight_decay': 0.0006272835321330422}. Best is trial 168 with value: 0.8083333333333335.\n",
      "WARNING: Maximum number of iterations 32 reached. The mean may be inaccurate\n"
     ]
    },
    {
     "name": "stdout",
     "output_type": "stream",
     "text": [
      "SVD 수렴 문제 발생: SVD did not converge. 계속 진행합니다.\n"
     ]
    },
    {
     "name": "stderr",
     "output_type": "stream",
     "text": [
      "[I 2024-10-01 22:00:22,844] Trial 219 finished with value: 0.7139344262295082 and parameters: {'lr': 0.00029844963483268414, 'weight_decay': 0.0003247302191125943}. Best is trial 168 with value: 0.8083333333333335.\n",
      "WARNING: Maximum number of iterations 32 reached. The mean may be inaccurate\n"
     ]
    },
    {
     "name": "stdout",
     "output_type": "stream",
     "text": [
      "SVD 수렴 문제 발생: SVD did not converge. 계속 진행합니다.\n"
     ]
    },
    {
     "name": "stderr",
     "output_type": "stream",
     "text": [
      "[I 2024-10-01 22:05:49,853] Trial 220 finished with value: 0.6252927400468384 and parameters: {'lr': 0.000249450475221058, 'weight_decay': 0.00030628968449831605}. Best is trial 168 with value: 0.8083333333333335.\n",
      "WARNING: Maximum number of iterations 32 reached. The mean may be inaccurate\n"
     ]
    },
    {
     "name": "stdout",
     "output_type": "stream",
     "text": [
      "SVD 수렴 문제 발생: SVD did not converge. 계속 진행합니다.\n"
     ]
    },
    {
     "name": "stderr",
     "output_type": "stream",
     "text": [
      "[I 2024-10-01 22:11:17,554] Trial 221 finished with value: 0.697111631537861 and parameters: {'lr': 0.00031638962006294243, 'weight_decay': 0.00021405702204351103}. Best is trial 168 with value: 0.8083333333333335.\n",
      "WARNING: Maximum number of iterations 32 reached. The mean may be inaccurate\n"
     ]
    },
    {
     "name": "stdout",
     "output_type": "stream",
     "text": [
      "SVD 수렴 문제 발생: SVD did not converge. 계속 진행합니다.\n"
     ]
    },
    {
     "name": "stderr",
     "output_type": "stream",
     "text": [
      "[I 2024-10-01 22:16:45,390] Trial 222 finished with value: 0.7000736919675755 and parameters: {'lr': 0.0003862644976077621, 'weight_decay': 0.0005389472456264274}. Best is trial 168 with value: 0.8083333333333335.\n",
      "WARNING: Maximum number of iterations 32 reached. The mean may be inaccurate\n"
     ]
    },
    {
     "name": "stdout",
     "output_type": "stream",
     "text": [
      "SVD 수렴 문제 발생: SVD did not converge. 계속 진행합니다.\n"
     ]
    },
    {
     "name": "stderr",
     "output_type": "stream",
     "text": [
      "[I 2024-10-01 22:22:12,366] Trial 223 finished with value: 0.6947697111631538 and parameters: {'lr': 0.00028975351556527256, 'weight_decay': 0.0055564441014638935}. Best is trial 168 with value: 0.8083333333333335.\n",
      "WARNING: Maximum number of iterations 32 reached. The mean may be inaccurate\n"
     ]
    },
    {
     "name": "stdout",
     "output_type": "stream",
     "text": [
      "SVD 수렴 문제 발생: SVD did not converge. 계속 진행합니다.\n"
     ]
    },
    {
     "name": "stderr",
     "output_type": "stream",
     "text": [
      "[I 2024-10-01 22:27:39,676] Trial 224 finished with value: 0.5758064516129032 and parameters: {'lr': 0.0004938770233505752, 'weight_decay': 0.0004235920672208026}. Best is trial 168 with value: 0.8083333333333335.\n",
      "WARNING: Maximum number of iterations 32 reached. The mean may be inaccurate\n"
     ]
    },
    {
     "name": "stdout",
     "output_type": "stream",
     "text": [
      "SVD 수렴 문제 발생: SVD did not converge. 계속 진행합니다.\n"
     ]
    },
    {
     "name": "stderr",
     "output_type": "stream",
     "text": [
      "[I 2024-10-01 22:33:06,919] Trial 225 finished with value: 0.740909090909091 and parameters: {'lr': 0.00020435622439298384, 'weight_decay': 0.00016639161597710263}. Best is trial 168 with value: 0.8083333333333335.\n",
      "WARNING: Maximum number of iterations 32 reached. The mean may be inaccurate\n"
     ]
    },
    {
     "name": "stdout",
     "output_type": "stream",
     "text": [
      "SVD 수렴 문제 발생: SVD did not converge. 계속 진행합니다.\n"
     ]
    },
    {
     "name": "stderr",
     "output_type": "stream",
     "text": [
      "[I 2024-10-01 22:38:35,213] Trial 226 finished with value: 0.6574770258980785 and parameters: {'lr': 0.0002132015024965918, 'weight_decay': 0.0002598658966416002}. Best is trial 168 with value: 0.8083333333333335.\n",
      "WARNING: Maximum number of iterations 32 reached. The mean may be inaccurate\n"
     ]
    },
    {
     "name": "stdout",
     "output_type": "stream",
     "text": [
      "SVD 수렴 문제 발생: SVD did not converge. 계속 진행합니다.\n"
     ]
    },
    {
     "name": "stderr",
     "output_type": "stream",
     "text": [
      "[I 2024-10-01 22:44:03,477] Trial 227 finished with value: 0.6846213895394223 and parameters: {'lr': 0.00017742276890055577, 'weight_decay': 0.000347528570939337}. Best is trial 168 with value: 0.8083333333333335.\n",
      "WARNING: Maximum number of iterations 32 reached. The mean may be inaccurate\n"
     ]
    },
    {
     "name": "stdout",
     "output_type": "stream",
     "text": [
      "SVD 수렴 문제 발생: SVD did not converge. 계속 진행합니다.\n"
     ]
    },
    {
     "name": "stderr",
     "output_type": "stream",
     "text": [
      "[I 2024-10-01 22:49:31,960] Trial 228 finished with value: 0.7602339181286549 and parameters: {'lr': 0.00013016428264402268, 'weight_decay': 0.0008323584225915234}. Best is trial 168 with value: 0.8083333333333335.\n",
      "WARNING: Maximum number of iterations 32 reached. The mean may be inaccurate\n"
     ]
    },
    {
     "name": "stdout",
     "output_type": "stream",
     "text": [
      "SVD 수렴 문제 발생: SVD did not converge. 계속 진행합니다.\n"
     ]
    },
    {
     "name": "stderr",
     "output_type": "stream",
     "text": [
      "[I 2024-10-01 22:55:00,148] Trial 229 finished with value: 0.7214443625644804 and parameters: {'lr': 8.421121157096764e-05, 'weight_decay': 0.0008545876353023665}. Best is trial 168 with value: 0.8083333333333335.\n",
      "WARNING: Maximum number of iterations 32 reached. The mean may be inaccurate\n"
     ]
    },
    {
     "name": "stdout",
     "output_type": "stream",
     "text": [
      "SVD 수렴 문제 발생: SVD did not converge. 계속 진행합니다.\n"
     ]
    },
    {
     "name": "stderr",
     "output_type": "stream",
     "text": [
      "[I 2024-10-01 23:00:27,347] Trial 230 finished with value: 0.6145910095799558 and parameters: {'lr': 0.00015921578188664998, 'weight_decay': 0.0008842962524142272}. Best is trial 168 with value: 0.8083333333333335.\n",
      "WARNING: Maximum number of iterations 32 reached. The mean may be inaccurate\n"
     ]
    },
    {
     "name": "stdout",
     "output_type": "stream",
     "text": [
      "SVD 수렴 문제 발생: SVD did not converge. 계속 진행합니다.\n"
     ]
    },
    {
     "name": "stderr",
     "output_type": "stream",
     "text": [
      "[I 2024-10-01 23:05:55,312] Trial 231 finished with value: 0.7534722222222222 and parameters: {'lr': 7.349265003291349e-05, 'weight_decay': 0.0007587005906939132}. Best is trial 168 with value: 0.8083333333333335.\n",
      "WARNING: Maximum number of iterations 32 reached. The mean may be inaccurate\n"
     ]
    },
    {
     "name": "stdout",
     "output_type": "stream",
     "text": [
      "SVD 수렴 문제 발생: SVD did not converge. 계속 진행합니다.\n"
     ]
    },
    {
     "name": "stderr",
     "output_type": "stream",
     "text": [
      "[I 2024-10-01 23:11:22,310] Trial 232 finished with value: 0.5052083333333333 and parameters: {'lr': 8.787976493640716e-05, 'weight_decay': 0.0007802417454572592}. Best is trial 168 with value: 0.8083333333333335.\n",
      "WARNING: Maximum number of iterations 32 reached. The mean may be inaccurate\n",
      "[I 2024-10-01 23:16:49,181] Trial 233 finished with value: 0.6314516129032258 and parameters: {'lr': 0.00010579439153266222, 'weight_decay': 0.0010549012150225766}. Best is trial 168 with value: 0.8083333333333335.\n"
     ]
    },
    {
     "name": "stdout",
     "output_type": "stream",
     "text": [
      "SVD 수렴 문제 발생: SVD did not converge. 계속 진행합니다.\n"
     ]
    },
    {
     "name": "stderr",
     "output_type": "stream",
     "text": [
      "WARNING: Maximum number of iterations 32 reached. The mean may be inaccurate\n"
     ]
    },
    {
     "name": "stdout",
     "output_type": "stream",
     "text": [
      "SVD 수렴 문제 발생: SVD did not converge. 계속 진행합니다.\n"
     ]
    },
    {
     "name": "stderr",
     "output_type": "stream",
     "text": [
      "[I 2024-10-01 23:22:15,023] Trial 234 finished with value: 0.6991935483870968 and parameters: {'lr': 6.582646040789017e-05, 'weight_decay': 0.0006804519585608648}. Best is trial 168 with value: 0.8083333333333335.\n",
      "WARNING: Maximum number of iterations 32 reached. The mean may be inaccurate\n"
     ]
    },
    {
     "name": "stdout",
     "output_type": "stream",
     "text": [
      "SVD 수렴 문제 발생: SVD did not converge. 계속 진행합니다.\n"
     ]
    },
    {
     "name": "stderr",
     "output_type": "stream",
     "text": [
      "[I 2024-10-01 23:27:41,083] Trial 235 finished with value: 0.6939890710382514 and parameters: {'lr': 5.05967147525552e-05, 'weight_decay': 0.0007464059045205665}. Best is trial 168 with value: 0.8083333333333335.\n",
      "WARNING: Maximum number of iterations 32 reached. The mean may be inaccurate\n"
     ]
    },
    {
     "name": "stdout",
     "output_type": "stream",
     "text": [
      "SVD 수렴 문제 발생: SVD did not converge. 계속 진행합니다.\n"
     ]
    },
    {
     "name": "stderr",
     "output_type": "stream",
     "text": [
      "[I 2024-10-01 23:33:06,797] Trial 236 finished with value: 0.6454545454545455 and parameters: {'lr': 8.17794554410413e-05, 'weight_decay': 0.0009485775889569558}. Best is trial 168 with value: 0.8083333333333335.\n",
      "WARNING: Maximum number of iterations 32 reached. The mean may be inaccurate\n"
     ]
    },
    {
     "name": "stdout",
     "output_type": "stream",
     "text": [
      "SVD 수렴 문제 발생: SVD did not converge. 계속 진행합니다.\n"
     ]
    },
    {
     "name": "stderr",
     "output_type": "stream",
     "text": [
      "[I 2024-10-01 23:38:32,819] Trial 237 finished with value: 0.5717741935483871 and parameters: {'lr': 0.00012977487360494347, 'weight_decay': 0.0013165715248475798}. Best is trial 168 with value: 0.8083333333333335.\n",
      "WARNING: Maximum number of iterations 32 reached. The mean may be inaccurate\n",
      "[I 2024-10-01 23:43:59,464] Trial 238 finished with value: 0.6508064516129033 and parameters: {'lr': 0.0001313043192134558, 'weight_decay': 0.0006015576105647041}. Best is trial 168 with value: 0.8083333333333335.\n"
     ]
    },
    {
     "name": "stdout",
     "output_type": "stream",
     "text": [
      "SVD 수렴 문제 발생: SVD did not converge. 계속 진행합니다.\n"
     ]
    },
    {
     "name": "stderr",
     "output_type": "stream",
     "text": [
      "WARNING: Maximum number of iterations 32 reached. The mean may be inaccurate\n",
      "[I 2024-10-01 23:49:24,263] Trial 239 finished with value: 0.5973266499582288 and parameters: {'lr': 9.658015010926e-05, 'weight_decay': 0.0009220784361777658}. Best is trial 168 with value: 0.8083333333333335.\n"
     ]
    },
    {
     "name": "stdout",
     "output_type": "stream",
     "text": [
      "SVD 수렴 문제 발생: SVD did not converge. 계속 진행합니다.\n"
     ]
    },
    {
     "name": "stderr",
     "output_type": "stream",
     "text": [
      "WARNING: Maximum number of iterations 32 reached. The mean may be inaccurate\n"
     ]
    },
    {
     "name": "stdout",
     "output_type": "stream",
     "text": [
      "SVD 수렴 문제 발생: SVD did not converge. 계속 진행합니다.\n"
     ]
    },
    {
     "name": "stderr",
     "output_type": "stream",
     "text": [
      "[I 2024-10-01 23:54:47,435] Trial 240 finished with value: 0.7336065573770492 and parameters: {'lr': 6.012757911577561e-05, 'weight_decay': 6.808924143565714e-06}. Best is trial 168 with value: 0.8083333333333335.\n",
      "WARNING: Maximum number of iterations 32 reached. The mean may be inaccurate\n"
     ]
    },
    {
     "name": "stdout",
     "output_type": "stream",
     "text": [
      "SVD 수렴 문제 발생: SVD did not converge. 계속 진행합니다.\n"
     ]
    },
    {
     "name": "stderr",
     "output_type": "stream",
     "text": [
      "[I 2024-10-02 00:00:10,310] Trial 241 finished with value: 0.7272727272727273 and parameters: {'lr': 7.478063122616215e-05, 'weight_decay': 0.0005615679399060669}. Best is trial 168 with value: 0.8083333333333335.\n",
      "WARNING: Maximum number of iterations 32 reached. The mean may be inaccurate\n",
      "[I 2024-10-02 00:05:34,304] Trial 242 finished with value: 0.6229508196721312 and parameters: {'lr': 6.730917397395433e-05, 'weight_decay': 0.0006822944743984161}. Best is trial 168 with value: 0.8083333333333335.\n"
     ]
    },
    {
     "name": "stdout",
     "output_type": "stream",
     "text": [
      "SVD 수렴 문제 발생: SVD did not converge. 계속 진행합니다.\n"
     ]
    },
    {
     "name": "stderr",
     "output_type": "stream",
     "text": [
      "WARNING: Maximum number of iterations 32 reached. The mean may be inaccurate\n"
     ]
    },
    {
     "name": "stdout",
     "output_type": "stream",
     "text": [
      "SVD 수렴 문제 발생: SVD did not converge. 계속 진행합니다.\n"
     ]
    },
    {
     "name": "stderr",
     "output_type": "stream",
     "text": [
      "[I 2024-10-02 00:10:56,238] Trial 243 finished with value: 0.6518345042935207 and parameters: {'lr': 7.762132025228322e-05, 'weight_decay': 6.912470500632261e-06}. Best is trial 168 with value: 0.8083333333333335.\n",
      "WARNING: Maximum number of iterations 32 reached. The mean may be inaccurate\n"
     ]
    },
    {
     "name": "stdout",
     "output_type": "stream",
     "text": [
      "SVD 수렴 문제 발생: SVD did not converge. 계속 진행합니다.\n"
     ]
    },
    {
     "name": "stderr",
     "output_type": "stream",
     "text": [
      "[I 2024-10-02 00:16:20,088] Trial 244 finished with value: 0.7143939393939394 and parameters: {'lr': 0.00011371443798217948, 'weight_decay': 9.581881965777797e-06}. Best is trial 168 with value: 0.8083333333333335.\n",
      "WARNING: Maximum number of iterations 32 reached. The mean may be inaccurate\n"
     ]
    },
    {
     "name": "stdout",
     "output_type": "stream",
     "text": [
      "SVD 수렴 문제 발생: SVD did not converge. 계속 진행합니다.\n"
     ]
    },
    {
     "name": "stderr",
     "output_type": "stream",
     "text": [
      "[I 2024-10-02 00:21:43,222] Trial 245 finished with value: 0.6516129032258065 and parameters: {'lr': 5.6788662796129774e-05, 'weight_decay': 7.909339091662847e-06}. Best is trial 168 with value: 0.8083333333333335.\n",
      "WARNING: Maximum number of iterations 32 reached. The mean may be inaccurate\n"
     ]
    },
    {
     "name": "stdout",
     "output_type": "stream",
     "text": [
      "SVD 수렴 문제 발생: SVD did not converge. 계속 진행합니다.\n"
     ]
    },
    {
     "name": "stderr",
     "output_type": "stream",
     "text": [
      "[I 2024-10-02 00:27:06,862] Trial 246 finished with value: 0.4693548387096774 and parameters: {'lr': 5.600714595797788e-05, 'weight_decay': 4.622442362527747e-06}. Best is trial 168 with value: 0.8083333333333335.\n",
      "WARNING: Maximum number of iterations 32 reached. The mean may be inaccurate\n"
     ]
    },
    {
     "name": "stdout",
     "output_type": "stream",
     "text": [
      "SVD 수렴 문제 발생: SVD did not converge. 계속 진행합니다.\n"
     ]
    },
    {
     "name": "stderr",
     "output_type": "stream",
     "text": [
      "[I 2024-10-02 00:32:30,787] Trial 247 finished with value: 0.6908665105386417 and parameters: {'lr': 4.555878105968234e-05, 'weight_decay': 5.667852010104016e-06}. Best is trial 168 with value: 0.8083333333333335.\n",
      "WARNING: Maximum number of iterations 32 reached. The mean may be inaccurate\n",
      "[I 2024-10-02 00:37:54,955] Trial 248 finished with value: 0.6104605776736924 and parameters: {'lr': 7.422711485650596e-05, 'weight_decay': 0.003317974316495486}. Best is trial 168 with value: 0.8083333333333335.\n"
     ]
    },
    {
     "name": "stdout",
     "output_type": "stream",
     "text": [
      "SVD 수렴 문제 발생: SVD did not converge. 계속 진행합니다.\n"
     ]
    },
    {
     "name": "stderr",
     "output_type": "stream",
     "text": [
      "WARNING: Maximum number of iterations 32 reached. The mean may be inaccurate\n"
     ]
    },
    {
     "name": "stdout",
     "output_type": "stream",
     "text": [
      "SVD 수렴 문제 발생: SVD did not converge. 계속 진행합니다.\n"
     ]
    },
    {
     "name": "stderr",
     "output_type": "stream",
     "text": [
      "[I 2024-10-02 00:43:16,792] Trial 249 finished with value: 0.6666666666666666 and parameters: {'lr': 9.332062614036522e-05, 'weight_decay': 0.0008005067617142974}. Best is trial 168 with value: 0.8083333333333335.\n",
      "WARNING: Maximum number of iterations 32 reached. The mean may be inaccurate\n"
     ]
    },
    {
     "name": "stdout",
     "output_type": "stream",
     "text": [
      "SVD 수렴 문제 발생: SVD did not converge. 계속 진행합니다.\n"
     ]
    },
    {
     "name": "stderr",
     "output_type": "stream",
     "text": [
      "[I 2024-10-02 00:48:39,834] Trial 250 finished with value: 0.6073380171740828 and parameters: {'lr': 7.594380160741723e-05, 'weight_decay': 6.501015537041221e-06}. Best is trial 168 with value: 0.8083333333333335.\n",
      "WARNING: Maximum number of iterations 32 reached. The mean may be inaccurate\n"
     ]
    },
    {
     "name": "stdout",
     "output_type": "stream",
     "text": [
      "SVD 수렴 문제 발생: SVD did not converge. 계속 진행합니다.\n"
     ]
    },
    {
     "name": "stderr",
     "output_type": "stream",
     "text": [
      "[I 2024-10-02 00:54:00,928] Trial 251 finished with value: 0.5885245901639344 and parameters: {'lr': 0.00011016437123991931, 'weight_decay': 0.0005420639496718512}. Best is trial 168 with value: 0.8083333333333335.\n",
      "WARNING: Maximum number of iterations 32 reached. The mean may be inaccurate\n"
     ]
    },
    {
     "name": "stdout",
     "output_type": "stream",
     "text": [
      "SVD 수렴 문제 발생: SVD did not converge. 계속 진행합니다.\n"
     ]
    },
    {
     "name": "stderr",
     "output_type": "stream",
     "text": [
      "[I 2024-10-02 00:59:21,862] Trial 252 finished with value: 0.7379032258064516 and parameters: {'lr': 2.8908488034019244e-06, 'weight_decay': 0.0006205475878969475}. Best is trial 168 with value: 0.8083333333333335.\n",
      "WARNING: Maximum number of iterations 32 reached. The mean may be inaccurate\n"
     ]
    },
    {
     "name": "stdout",
     "output_type": "stream",
     "text": [
      "SVD 수렴 문제 발생: SVD did not converge. 계속 진행합니다.\n"
     ]
    },
    {
     "name": "stderr",
     "output_type": "stream",
     "text": [
      "[I 2024-10-02 01:04:43,586] Trial 253 finished with value: 0.5745511319281811 and parameters: {'lr': 4.604251671274879e-06, 'weight_decay': 0.000618371666420445}. Best is trial 168 with value: 0.8083333333333335.\n",
      "WARNING: Maximum number of iterations 32 reached. The mean may be inaccurate\n"
     ]
    },
    {
     "name": "stdout",
     "output_type": "stream",
     "text": [
      "SVD 수렴 문제 발생: SVD did not converge. 계속 진행합니다.\n"
     ]
    },
    {
     "name": "stderr",
     "output_type": "stream",
     "text": [
      "[I 2024-10-02 01:10:04,189] Trial 254 finished with value: 0.6924277907884465 and parameters: {'lr': 2.1154309067978896e-06, 'weight_decay': 0.0011687666661057952}. Best is trial 168 with value: 0.8083333333333335.\n",
      "WARNING: Maximum number of iterations 32 reached. The mean may be inaccurate\n"
     ]
    },
    {
     "name": "stdout",
     "output_type": "stream",
     "text": [
      "SVD 수렴 문제 발생: SVD did not converge. 계속 진행합니다.\n"
     ]
    },
    {
     "name": "stderr",
     "output_type": "stream",
     "text": [
      "[I 2024-10-02 01:15:25,641] Trial 255 finished with value: 0.6846774193548387 and parameters: {'lr': 2.7769947239652536e-06, 'weight_decay': 0.0015795546444393998}. Best is trial 168 with value: 0.8083333333333335.\n",
      "WARNING: Maximum number of iterations 32 reached. The mean may be inaccurate\n"
     ]
    },
    {
     "name": "stdout",
     "output_type": "stream",
     "text": [
      "SVD 수렴 문제 발생: SVD did not converge. 계속 진행합니다.\n"
     ]
    },
    {
     "name": "stderr",
     "output_type": "stream",
     "text": [
      "[I 2024-10-02 01:20:47,695] Trial 256 finished with value: 0.6018735362997658 and parameters: {'lr': 0.0002110197215178664, 'weight_decay': 0.0008045142579138284}. Best is trial 168 with value: 0.8083333333333335.\n",
      "WARNING: Maximum number of iterations 32 reached. The mean may be inaccurate\n"
     ]
    },
    {
     "name": "stdout",
     "output_type": "stream",
     "text": [
      "SVD 수렴 문제 발생: SVD did not converge. 계속 진행합니다.\n"
     ]
    },
    {
     "name": "stderr",
     "output_type": "stream",
     "text": [
      "[I 2024-10-02 01:26:08,654] Trial 257 finished with value: 0.7361436377829821 and parameters: {'lr': 1.7787776947891963e-06, 'weight_decay': 0.000576624408623331}. Best is trial 168 with value: 0.8083333333333335.\n",
      "WARNING: Maximum number of iterations 32 reached. The mean may be inaccurate\n"
     ]
    },
    {
     "name": "stdout",
     "output_type": "stream",
     "text": [
      "SVD 수렴 문제 발생: SVD did not converge. 계속 진행합니다.\n"
     ]
    },
    {
     "name": "stderr",
     "output_type": "stream",
     "text": [
      "[I 2024-10-02 01:31:29,649] Trial 258 finished with value: 0.6242424242424243 and parameters: {'lr': 0.00014520374836206668, 'weight_decay': 0.00047178855075284535}. Best is trial 168 with value: 0.8083333333333335.\n",
      "WARNING: Maximum number of iterations 32 reached. The mean may be inaccurate\n"
     ]
    },
    {
     "name": "stdout",
     "output_type": "stream",
     "text": [
      "SVD 수렴 문제 발생: SVD did not converge. 계속 진행합니다.\n"
     ]
    },
    {
     "name": "stderr",
     "output_type": "stream",
     "text": [
      "[I 2024-10-02 01:36:50,911] Trial 259 finished with value: 0.6666666666666667 and parameters: {'lr': 3.5253191758052265e-06, 'weight_decay': 0.0006253483875151833}. Best is trial 168 with value: 0.8083333333333335.\n",
      "WARNING: Maximum number of iterations 32 reached. The mean may be inaccurate\n"
     ]
    },
    {
     "name": "stdout",
     "output_type": "stream",
     "text": [
      "SVD 수렴 문제 발생: SVD did not converge. 계속 진행합니다.\n"
     ]
    },
    {
     "name": "stderr",
     "output_type": "stream",
     "text": [
      "[I 2024-10-02 01:42:11,347] Trial 260 finished with value: 0.6838709677419356 and parameters: {'lr': 3.1494577354918362e-06, 'weight_decay': 0.0005295252283997939}. Best is trial 168 with value: 0.8083333333333335.\n",
      "WARNING: Maximum number of iterations 32 reached. The mean may be inaccurate\n"
     ]
    },
    {
     "name": "stdout",
     "output_type": "stream",
     "text": [
      "SVD 수렴 문제 발생: SVD did not converge. 계속 진행합니다.\n"
     ]
    },
    {
     "name": "stderr",
     "output_type": "stream",
     "text": [
      "[I 2024-10-02 01:47:33,603] Trial 261 finished with value: 0.6122950819672132 and parameters: {'lr': 1.4576934538866058e-06, 'weight_decay': 0.0007237062685386596}. Best is trial 168 with value: 0.8083333333333335.\n",
      "WARNING: Maximum number of iterations 32 reached. The mean may be inaccurate\n"
     ]
    },
    {
     "name": "stdout",
     "output_type": "stream",
     "text": [
      "SVD 수렴 문제 발생: SVD did not converge. 계속 진행합니다.\n"
     ]
    },
    {
     "name": "stderr",
     "output_type": "stream",
     "text": [
      "[I 2024-10-02 01:52:54,746] Trial 262 finished with value: 0.5694444444444444 and parameters: {'lr': 0.0002544446681182954, 'weight_decay': 0.0009219829582206052}. Best is trial 168 with value: 0.8083333333333335.\n",
      "WARNING: Maximum number of iterations 32 reached. The mean may be inaccurate\n",
      "[I 2024-10-02 01:58:15,573] Trial 263 finished with value: 0.7339366515837105 and parameters: {'lr': 2.2623906299248773e-06, 'weight_decay': 0.0004410553307206193}. Best is trial 168 with value: 0.8083333333333335.\n"
     ]
    },
    {
     "name": "stdout",
     "output_type": "stream",
     "text": [
      "SVD 수렴 문제 발생: SVD did not converge. 계속 진행합니다.\n"
     ]
    },
    {
     "name": "stderr",
     "output_type": "stream",
     "text": [
      "WARNING: Maximum number of iterations 32 reached. The mean may be inaccurate\n"
     ]
    },
    {
     "name": "stdout",
     "output_type": "stream",
     "text": [
      "SVD 수렴 문제 발생: SVD did not converge. 계속 진행합니다.\n"
     ]
    },
    {
     "name": "stderr",
     "output_type": "stream",
     "text": [
      "[I 2024-10-02 02:03:33,308] Trial 264 finished with value: 0.658312447786132 and parameters: {'lr': 1.8475137490600954e-06, 'weight_decay': 0.000429298630756769}. Best is trial 168 with value: 0.8083333333333335.\n",
      "WARNING: Maximum number of iterations 32 reached. The mean may be inaccurate\n"
     ]
    },
    {
     "name": "stdout",
     "output_type": "stream",
     "text": [
      "SVD 수렴 문제 발생: SVD did not converge. 계속 진행합니다.\n"
     ]
    },
    {
     "name": "stderr",
     "output_type": "stream",
     "text": [
      "[I 2024-10-02 02:08:51,632] Trial 265 finished with value: 0.6830645161290323 and parameters: {'lr': 2.2204292042546257e-06, 'weight_decay': 0.0005899286353588163}. Best is trial 168 with value: 0.8083333333333335.\n",
      "WARNING: Maximum number of iterations 32 reached. The mean may be inaccurate\n"
     ]
    },
    {
     "name": "stdout",
     "output_type": "stream",
     "text": [
      "SVD 수렴 문제 발생: SVD did not converge. 계속 진행합니다.\n"
     ]
    },
    {
     "name": "stderr",
     "output_type": "stream",
     "text": [
      "[I 2024-10-02 02:14:10,044] Trial 266 finished with value: 0.6705969049373619 and parameters: {'lr': 1.4190138672042752e-06, 'weight_decay': 0.00045423490019861436}. Best is trial 168 with value: 0.8083333333333335.\n",
      "WARNING: Maximum number of iterations 32 reached. The mean may be inaccurate\n"
     ]
    },
    {
     "name": "stdout",
     "output_type": "stream",
     "text": [
      "SVD 수렴 문제 발생: SVD did not converge. 계속 진행합니다.\n"
     ]
    },
    {
     "name": "stderr",
     "output_type": "stream",
     "text": [
      "[I 2024-10-02 02:19:28,437] Trial 267 finished with value: 0.6556451612903226 and parameters: {'lr': 2.932741627214604e-06, 'weight_decay': 0.0007038196251007967}. Best is trial 168 with value: 0.8083333333333335.\n",
      "WARNING: Maximum number of iterations 32 reached. The mean may be inaccurate\n"
     ]
    },
    {
     "name": "stdout",
     "output_type": "stream",
     "text": [
      "SVD 수렴 문제 발생: SVD did not converge. 계속 진행합니다.\n"
     ]
    },
    {
     "name": "stderr",
     "output_type": "stream",
     "text": [
      "[I 2024-10-02 02:24:46,752] Trial 268 finished with value: 0.664516129032258 and parameters: {'lr': 1.8153423798512182e-06, 'weight_decay': 1.034188349691379e-06}. Best is trial 168 with value: 0.8083333333333335.\n",
      "WARNING: Maximum number of iterations 32 reached. The mean may be inaccurate\n"
     ]
    },
    {
     "name": "stdout",
     "output_type": "stream",
     "text": [
      "SVD 수렴 문제 발생: SVD did not converge. 계속 진행합니다.\n"
     ]
    },
    {
     "name": "stderr",
     "output_type": "stream",
     "text": [
      "[I 2024-10-02 02:30:04,930] Trial 269 finished with value: 0.682279469164715 and parameters: {'lr': 2.6539600581045146e-06, 'weight_decay': 0.0005398513429289058}. Best is trial 168 with value: 0.8083333333333335.\n",
      "WARNING: Maximum number of iterations 32 reached. The mean may be inaccurate\n"
     ]
    },
    {
     "name": "stdout",
     "output_type": "stream",
     "text": [
      "SVD 수렴 문제 발생: SVD did not converge. 계속 진행합니다.\n"
     ]
    },
    {
     "name": "stderr",
     "output_type": "stream",
     "text": [
      "[I 2024-10-02 02:35:23,420] Trial 270 finished with value: 0.6742424242424243 and parameters: {'lr': 1.3163481337899982e-06, 'weight_decay': 0.00038620483350098255}. Best is trial 168 with value: 0.8083333333333335.\n",
      "WARNING: Maximum number of iterations 32 reached. The mean may be inaccurate\n"
     ]
    },
    {
     "name": "stdout",
     "output_type": "stream",
     "text": [
      "SVD 수렴 문제 발생: SVD did not converge. 계속 진행합니다.\n"
     ]
    },
    {
     "name": "stderr",
     "output_type": "stream",
     "text": [
      "[I 2024-10-02 02:40:43,410] Trial 271 finished with value: 0.654176424668228 and parameters: {'lr': 2.1938377263748514e-06, 'weight_decay': 0.0008503258139057441}. Best is trial 168 with value: 0.8083333333333335.\n",
      "WARNING: Maximum number of iterations 32 reached. The mean may be inaccurate\n"
     ]
    },
    {
     "name": "stdout",
     "output_type": "stream",
     "text": [
      "SVD 수렴 문제 발생: SVD did not converge. 계속 진행합니다.\n"
     ]
    },
    {
     "name": "stderr",
     "output_type": "stream",
     "text": [
      "[I 2024-10-02 02:46:03,518] Trial 272 finished with value: 0.5959677419354839 and parameters: {'lr': 3.2489415380334655e-05, 'weight_decay': 0.0011215282352390944}. Best is trial 168 with value: 0.8083333333333335.\n",
      "WARNING: Maximum number of iterations 32 reached. The mean may be inaccurate\n"
     ]
    },
    {
     "name": "stdout",
     "output_type": "stream",
     "text": [
      "SVD 수렴 문제 발생: SVD did not converge. 계속 진행합니다.\n"
     ]
    },
    {
     "name": "stderr",
     "output_type": "stream",
     "text": [
      "[I 2024-10-02 02:51:23,411] Trial 273 finished with value: 0.7 and parameters: {'lr': 1.7146699086524987e-06, 'weight_decay': 0.0006512823151540892}. Best is trial 168 with value: 0.8083333333333335.\n",
      "WARNING: Maximum number of iterations 32 reached. The mean may be inaccurate\n"
     ]
    },
    {
     "name": "stdout",
     "output_type": "stream",
     "text": [
      "SVD 수렴 문제 발생: SVD did not converge. 계속 진행합니다.\n"
     ]
    },
    {
     "name": "stderr",
     "output_type": "stream",
     "text": [
      "[I 2024-10-02 02:56:45,744] Trial 274 finished with value: 0.5984848484848485 and parameters: {'lr': 0.00012466490147851046, 'weight_decay': 0.0005073181165379196}. Best is trial 168 with value: 0.8083333333333335.\n",
      "WARNING: Maximum number of iterations 32 reached. The mean may be inaccurate\n"
     ]
    },
    {
     "name": "stdout",
     "output_type": "stream",
     "text": [
      "SVD 수렴 문제 발생: SVD did not converge. 계속 진행합니다.\n"
     ]
    },
    {
     "name": "stderr",
     "output_type": "stream",
     "text": [
      "[I 2024-10-02 03:02:07,162] Trial 275 finished with value: 0.6026541764246682 and parameters: {'lr': 1.5504008552417704e-06, 'weight_decay': 0.0008072230513825291}. Best is trial 168 with value: 0.8083333333333335.\n",
      "WARNING: Maximum number of iterations 32 reached. The mean may be inaccurate\n"
     ]
    },
    {
     "name": "stdout",
     "output_type": "stream",
     "text": [
      "SVD 수렴 문제 발생: SVD did not converge. 계속 진행합니다.\n"
     ]
    },
    {
     "name": "stderr",
     "output_type": "stream",
     "text": [
      "[I 2024-10-02 03:07:29,271] Trial 276 finished with value: 0.6911290322580645 and parameters: {'lr': 4.2055933845440913e-05, 'weight_decay': 0.0004360213036652437}. Best is trial 168 with value: 0.8083333333333335.\n",
      "WARNING: Maximum number of iterations 32 reached. The mean may be inaccurate\n"
     ]
    },
    {
     "name": "stdout",
     "output_type": "stream",
     "text": [
      "SVD 수렴 문제 발생: SVD did not converge. 계속 진행합니다.\n"
     ]
    },
    {
     "name": "stderr",
     "output_type": "stream",
     "text": [
      "[I 2024-10-02 03:12:51,794] Trial 277 finished with value: 0.5806182121971596 and parameters: {'lr': 2.4552414691678076e-05, 'weight_decay': 0.0005882650096756245}. Best is trial 168 with value: 0.8083333333333335.\n",
      "WARNING: Maximum number of iterations 32 reached. The mean may be inaccurate\n"
     ]
    },
    {
     "name": "stdout",
     "output_type": "stream",
     "text": [
      "SVD 수렴 문제 발생: SVD did not converge. 계속 진행합니다.\n"
     ]
    },
    {
     "name": "stderr",
     "output_type": "stream",
     "text": [
      "[I 2024-10-02 03:18:14,355] Trial 278 finished with value: 0.7096774193548387 and parameters: {'lr': 5.225403604118079e-06, 'weight_decay': 0.001014315885918582}. Best is trial 168 with value: 0.8083333333333335.\n",
      "WARNING: Maximum number of iterations 32 reached. The mean may be inaccurate\n"
     ]
    },
    {
     "name": "stdout",
     "output_type": "stream",
     "text": [
      "SVD 수렴 문제 발생: SVD did not converge. 계속 진행합니다.\n"
     ]
    },
    {
     "name": "stderr",
     "output_type": "stream",
     "text": [
      "[I 2024-10-02 03:23:37,231] Trial 279 finished with value: 0.5901515151515151 and parameters: {'lr': 1.1050169479794195e-06, 'weight_decay': 0.0006507217757376885}. Best is trial 168 with value: 0.8083333333333335.\n",
      "WARNING: Maximum number of iterations 32 reached. The mean may be inaccurate\n"
     ]
    },
    {
     "name": "stdout",
     "output_type": "stream",
     "text": [
      "SVD 수렴 문제 발생: SVD did not converge. 계속 진행합니다.\n"
     ]
    },
    {
     "name": "stderr",
     "output_type": "stream",
     "text": [
      "[I 2024-10-02 03:28:59,807] Trial 280 finished with value: 0.6856060606060607 and parameters: {'lr': 0.00018819482252227195, 'weight_decay': 0.00037985278541908884}. Best is trial 168 with value: 0.8083333333333335.\n",
      "WARNING: Maximum number of iterations 32 reached. The mean may be inaccurate\n",
      "[I 2024-10-02 03:34:21,064] Trial 281 finished with value: 0.5403225806451613 and parameters: {'lr': 0.001780145969022182, 'weight_decay': 0.0024453632761079094}. Best is trial 168 with value: 0.8083333333333335.\n"
     ]
    },
    {
     "name": "stdout",
     "output_type": "stream",
     "text": [
      "SVD 수렴 문제 발생: SVD did not converge. 계속 진행합니다.\n"
     ]
    },
    {
     "name": "stderr",
     "output_type": "stream",
     "text": [
      "WARNING: Maximum number of iterations 32 reached. The mean may be inaccurate\n"
     ]
    },
    {
     "name": "stdout",
     "output_type": "stream",
     "text": [
      "SVD 수렴 문제 발생: SVD did not converge. 계속 진행합니다.\n"
     ]
    },
    {
     "name": "stderr",
     "output_type": "stream",
     "text": [
      "[I 2024-10-02 03:39:42,822] Trial 282 finished with value: 0.5823575331772053 and parameters: {'lr': 0.00014819299637528746, 'weight_decay': 0.0004938795342275193}. Best is trial 168 with value: 0.8083333333333335.\n",
      "WARNING: Maximum number of iterations 32 reached. The mean may be inaccurate\n"
     ]
    },
    {
     "name": "stdout",
     "output_type": "stream",
     "text": [
      "SVD 수렴 문제 발생: SVD did not converge. 계속 진행합니다.\n"
     ]
    },
    {
     "name": "stderr",
     "output_type": "stream",
     "text": [
      "[I 2024-10-02 03:44:58,987] Trial 283 finished with value: 0.4527712724434036 and parameters: {'lr': 0.005532740450516005, 'weight_decay': 0.0007361021138195893}. Best is trial 168 with value: 0.8083333333333335.\n",
      "WARNING: Maximum number of iterations 32 reached. The mean may be inaccurate\n"
     ]
    },
    {
     "name": "stdout",
     "output_type": "stream",
     "text": [
      "SVD 수렴 문제 발생: SVD did not converge. 계속 진행합니다.\n"
     ]
    },
    {
     "name": "stderr",
     "output_type": "stream",
     "text": [
      "[I 2024-10-02 03:50:20,630] Trial 284 finished with value: 0.7000000000000001 and parameters: {'lr': 2.00252481624469e-06, 'weight_decay': 0.0005677140044151452}. Best is trial 168 with value: 0.8083333333333335.\n",
      "WARNING: Maximum number of iterations 32 reached. The mean may be inaccurate\n"
     ]
    },
    {
     "name": "stdout",
     "output_type": "stream",
     "text": [
      "SVD 수렴 문제 발생: SVD did not converge. 계속 진행합니다.\n"
     ]
    },
    {
     "name": "stderr",
     "output_type": "stream",
     "text": [
      "[I 2024-10-02 03:55:41,848] Trial 285 finished with value: 0.6682279469164716 and parameters: {'lr': 2.632071659569584e-06, 'weight_decay': 0.000835599835305269}. Best is trial 168 with value: 0.8083333333333335.\n",
      "WARNING: Maximum number of iterations 32 reached. The mean may be inaccurate\n"
     ]
    },
    {
     "name": "stdout",
     "output_type": "stream",
     "text": [
      "SVD 수렴 문제 발생: SVD did not converge. 계속 진행합니다.\n"
     ]
    },
    {
     "name": "stderr",
     "output_type": "stream",
     "text": [
      "[I 2024-10-02 04:01:04,077] Trial 286 finished with value: 0.63448784082535 and parameters: {'lr': 8.148563283343198e-06, 'weight_decay': 1.3932155518256043e-06}. Best is trial 168 with value: 0.8083333333333335.\n",
      "WARNING: Maximum number of iterations 32 reached. The mean may be inaccurate\n"
     ]
    },
    {
     "name": "stdout",
     "output_type": "stream",
     "text": [
      "SVD 수렴 문제 발생: SVD did not converge. 계속 진행합니다.\n"
     ]
    },
    {
     "name": "stderr",
     "output_type": "stream",
     "text": [
      "[I 2024-10-02 04:06:25,304] Trial 287 finished with value: 0.6598484848484849 and parameters: {'lr': 8.717435722849547e-05, 'weight_decay': 0.0004286368712105121}. Best is trial 168 with value: 0.8083333333333335.\n",
      "WARNING: Maximum number of iterations 32 reached. The mean may be inaccurate\n",
      "[I 2024-10-02 04:11:47,315] Trial 288 finished with value: 0.5848484848484848 and parameters: {'lr': 0.0004301383466392605, 'weight_decay': 0.0007029350583752587}. Best is trial 168 with value: 0.8083333333333335.\n"
     ]
    },
    {
     "name": "stdout",
     "output_type": "stream",
     "text": [
      "SVD 수렴 문제 발생: SVD did not converge. 계속 진행합니다.\n"
     ]
    },
    {
     "name": "stderr",
     "output_type": "stream",
     "text": [
      "WARNING: Maximum number of iterations 32 reached. The mean may be inaccurate\n",
      "[I 2024-10-02 04:17:08,896] Trial 289 finished with value: 0.7000835421888053 and parameters: {'lr': 1.2217061506625985e-06, 'weight_decay': 0.0009613586736508304}. Best is trial 168 with value: 0.8083333333333335.\n"
     ]
    },
    {
     "name": "stdout",
     "output_type": "stream",
     "text": [
      "SVD 수렴 문제 발생: SVD did not converge. 계속 진행합니다.\n"
     ]
    },
    {
     "name": "stderr",
     "output_type": "stream",
     "text": [
      "WARNING: Maximum number of iterations 32 reached. The mean may be inaccurate\n"
     ]
    },
    {
     "name": "stdout",
     "output_type": "stream",
     "text": [
      "SVD 수렴 문제 발생: SVD did not converge. 계속 진행합니다.\n"
     ]
    },
    {
     "name": "stderr",
     "output_type": "stream",
     "text": [
      "[I 2024-10-02 04:22:25,467] Trial 290 finished with value: 0.6886363636363636 and parameters: {'lr': 0.0026506328190076325, 'weight_decay': 0.001753801935967005}. Best is trial 168 with value: 0.8083333333333335.\n",
      "WARNING: Maximum number of iterations 32 reached. The mean may be inaccurate\n"
     ]
    },
    {
     "name": "stdout",
     "output_type": "stream",
     "text": [
      "SVD 수렴 문제 발생: SVD did not converge. 계속 진행합니다.\n"
     ]
    },
    {
     "name": "stderr",
     "output_type": "stream",
     "text": [
      "[I 2024-10-02 04:27:47,466] Trial 291 finished with value: 0.6120967741935484 and parameters: {'lr': 0.00010434187490216541, 'weight_decay': 0.0012308187500942825}. Best is trial 168 with value: 0.8083333333333335.\n",
      "WARNING: Maximum number of iterations 32 reached. The mean may be inaccurate\n",
      "[I 2024-10-02 04:33:10,700] Trial 292 finished with value: 0.643939393939394 and parameters: {'lr': 0.0003766102374929558, 'weight_decay': 0.00036047531514168664}. Best is trial 168 with value: 0.8083333333333335.\n"
     ]
    },
    {
     "name": "stdout",
     "output_type": "stream",
     "text": [
      "SVD 수렴 문제 발생: SVD did not converge. 계속 진행합니다.\n"
     ]
    },
    {
     "name": "stderr",
     "output_type": "stream",
     "text": [
      "WARNING: Maximum number of iterations 32 reached. The mean may be inaccurate\n",
      "[I 2024-10-02 04:38:33,642] Trial 293 finished with value: 0.6370023419203746 and parameters: {'lr': 6.30707963588926e-05, 'weight_decay': 0.0005569774177624835}. Best is trial 168 with value: 0.8083333333333335.\n"
     ]
    },
    {
     "name": "stdout",
     "output_type": "stream",
     "text": [
      "SVD 수렴 문제 발생: SVD did not converge. 계속 진행합니다.\n"
     ]
    },
    {
     "name": "stderr",
     "output_type": "stream",
     "text": [
      "WARNING: Maximum number of iterations 32 reached. The mean may be inaccurate\n"
     ]
    },
    {
     "name": "stdout",
     "output_type": "stream",
     "text": [
      "SVD 수렴 문제 발생: SVD did not converge. 계속 진행합니다.\n"
     ]
    },
    {
     "name": "stderr",
     "output_type": "stream",
     "text": [
      "[I 2024-10-02 04:43:56,214] Trial 294 finished with value: 0.6227272727272727 and parameters: {'lr': 0.0002348833991758862, 'weight_decay': 0.0004811662457226697}. Best is trial 168 with value: 0.8083333333333335.\n",
      "WARNING: Maximum number of iterations 32 reached. The mean may be inaccurate\n"
     ]
    },
    {
     "name": "stdout",
     "output_type": "stream",
     "text": [
      "SVD 수렴 문제 발생: SVD did not converge. 계속 진행합니다.\n"
     ]
    },
    {
     "name": "stderr",
     "output_type": "stream",
     "text": [
      "[I 2024-10-02 04:49:19,705] Trial 295 finished with value: 0.7028862478777589 and parameters: {'lr': 1.7390651198984874e-05, 'weight_decay': 0.0006542695630489561}. Best is trial 168 with value: 0.8083333333333335.\n",
      "WARNING: Maximum number of iterations 32 reached. The mean may be inaccurate\n"
     ]
    },
    {
     "name": "stdout",
     "output_type": "stream",
     "text": [
      "SVD 수렴 문제 발생: SVD did not converge. 계속 진행합니다.\n"
     ]
    },
    {
     "name": "stderr",
     "output_type": "stream",
     "text": [
      "[I 2024-10-02 04:54:43,659] Trial 296 finished with value: 0.5477272727272727 and parameters: {'lr': 0.00017261376471324938, 'weight_decay': 0.0007783212634711904}. Best is trial 168 with value: 0.8083333333333335.\n",
      "WARNING: Maximum number of iterations 32 reached. The mean may be inaccurate\n"
     ]
    },
    {
     "name": "stdout",
     "output_type": "stream",
     "text": [
      "SVD 수렴 문제 발생: SVD did not converge. 계속 진행합니다.\n"
     ]
    },
    {
     "name": "stderr",
     "output_type": "stream",
     "text": [
      "[I 2024-10-02 05:00:07,081] Trial 297 finished with value: 0.6491228070175439 and parameters: {'lr': 3.281287644909253e-06, 'weight_decay': 0.000983070627201831}. Best is trial 168 with value: 0.8083333333333335.\n",
      "WARNING: Maximum number of iterations 32 reached. The mean may be inaccurate\n"
     ]
    },
    {
     "name": "stdout",
     "output_type": "stream",
     "text": [
      "SVD 수렴 문제 발생: SVD did not converge. 계속 진행합니다.\n"
     ]
    },
    {
     "name": "stderr",
     "output_type": "stream",
     "text": [
      "[I 2024-10-02 05:05:29,811] Trial 298 finished with value: 0.5540322580645162 and parameters: {'lr': 0.0003715999518818399, 'weight_decay': 0.0003132633389782088}. Best is trial 168 with value: 0.8083333333333335.\n",
      "WARNING: Maximum number of iterations 32 reached. The mean may be inaccurate\n",
      "[I 2024-10-02 05:10:50,167] Trial 299 finished with value: 0.6065162907268171 and parameters: {'lr': 0.0035617099973738703, 'weight_decay': 0.0040256420597316175}. Best is trial 168 with value: 0.8083333333333335.\n"
     ]
    },
    {
     "name": "stdout",
     "output_type": "stream",
     "text": [
      "SVD 수렴 문제 발생: SVD did not converge. 계속 진행합니다.\n"
     ]
    },
    {
     "name": "stderr",
     "output_type": "stream",
     "text": [
      "WARNING: Maximum number of iterations 32 reached. The mean may be inaccurate\n"
     ]
    },
    {
     "name": "stdout",
     "output_type": "stream",
     "text": [
      "SVD 수렴 문제 발생: SVD did not converge. 계속 진행합니다.\n"
     ]
    },
    {
     "name": "stderr",
     "output_type": "stream",
     "text": [
      "[I 2024-10-02 05:16:11,299] Trial 300 finished with value: 0.6690085870413739 and parameters: {'lr': 0.00032956699964820975, 'weight_decay': 0.0005715980128882807}. Best is trial 168 with value: 0.8083333333333335.\n",
      "WARNING: Maximum number of iterations 32 reached. The mean may be inaccurate\n"
     ]
    },
    {
     "name": "stdout",
     "output_type": "stream",
     "text": [
      "SVD 수렴 문제 발생: SVD did not converge. 계속 진행합니다.\n"
     ]
    },
    {
     "name": "stderr",
     "output_type": "stream",
     "text": [
      "[I 2024-10-02 05:21:33,216] Trial 301 finished with value: 0.6215538847117794 and parameters: {'lr': 2.3827339568080783e-06, 'weight_decay': 0.0003961994515890605}. Best is trial 168 with value: 0.8083333333333335.\n",
      "WARNING: Maximum number of iterations 32 reached. The mean may be inaccurate\n"
     ]
    },
    {
     "name": "stdout",
     "output_type": "stream",
     "text": [
      "SVD 수렴 문제 발생: SVD did not converge. 계속 진행합니다.\n"
     ]
    },
    {
     "name": "stderr",
     "output_type": "stream",
     "text": [
      "[I 2024-10-02 05:26:55,230] Trial 302 finished with value: 0.6189393939393939 and parameters: {'lr': 0.00044133807245661996, 'weight_decay': 0.0006646995381662248}. Best is trial 168 with value: 0.8083333333333335.\n",
      "WARNING: Maximum number of iterations 32 reached. The mean may be inaccurate\n"
     ]
    },
    {
     "name": "stdout",
     "output_type": "stream",
     "text": [
      "SVD 수렴 문제 발생: SVD did not converge. 계속 진행합니다.\n"
     ]
    },
    {
     "name": "stderr",
     "output_type": "stream",
     "text": [
      "[I 2024-10-02 05:32:17,878] Trial 303 finished with value: 0.5298387096774193 and parameters: {'lr': 7.911747567464625e-05, 'weight_decay': 0.00047079219772332403}. Best is trial 168 with value: 0.8083333333333335.\n",
      "WARNING: Maximum number of iterations 32 reached. The mean may be inaccurate\n"
     ]
    },
    {
     "name": "stdout",
     "output_type": "stream",
     "text": [
      "SVD 수렴 문제 발생: SVD did not converge. 계속 진행합니다.\n"
     ]
    },
    {
     "name": "stderr",
     "output_type": "stream",
     "text": [
      "[I 2024-10-02 05:37:41,414] Trial 304 finished with value: 0.6435483870967742 and parameters: {'lr': 0.00012402724107453717, 'weight_decay': 0.000857193490214241}. Best is trial 168 with value: 0.8083333333333335.\n",
      "WARNING: Maximum number of iterations 32 reached. The mean may be inaccurate\n",
      "[I 2024-10-02 05:43:05,165] Trial 305 finished with value: 0.6599832915622389 and parameters: {'lr': 1.5441454352165602e-06, 'weight_decay': 0.0005659684075872271}. Best is trial 168 with value: 0.8083333333333335.\n"
     ]
    },
    {
     "name": "stdout",
     "output_type": "stream",
     "text": [
      "SVD 수렴 문제 발생: SVD did not converge. 계속 진행합니다.\n"
     ]
    },
    {
     "name": "stderr",
     "output_type": "stream",
     "text": [
      "WARNING: Maximum number of iterations 32 reached. The mean may be inaccurate\n"
     ]
    },
    {
     "name": "stdout",
     "output_type": "stream",
     "text": [
      "SVD 수렴 문제 발생: SVD did not converge. 계속 진행합니다.\n"
     ]
    },
    {
     "name": "stderr",
     "output_type": "stream",
     "text": [
      "[I 2024-10-02 05:48:26,387] Trial 306 finished with value: 0.6651515151515153 and parameters: {'lr': 0.0005707536867439572, 'weight_decay': 0.0011002737621421425}. Best is trial 168 with value: 0.8083333333333335.\n",
      "WARNING: Maximum number of iterations 32 reached. The mean may be inaccurate\n"
     ]
    },
    {
     "name": "stdout",
     "output_type": "stream",
     "text": [
      "SVD 수렴 문제 발생: SVD did not converge. 계속 진행합니다.\n"
     ]
    },
    {
     "name": "stderr",
     "output_type": "stream",
     "text": [
      "[I 2024-10-02 05:53:49,411] Trial 307 finished with value: 0.5690866510538641 and parameters: {'lr': 0.0002569079228682586, 'weight_decay': 0.0007254146416219928}. Best is trial 168 with value: 0.8083333333333335.\n",
      "WARNING: Maximum number of iterations 32 reached. The mean may be inaccurate\n"
     ]
    },
    {
     "name": "stdout",
     "output_type": "stream",
     "text": [
      "SVD 수렴 문제 발생: SVD did not converge. 계속 진행합니다.\n"
     ]
    },
    {
     "name": "stderr",
     "output_type": "stream",
     "text": [
      "[I 2024-10-02 05:59:11,385] Trial 308 finished with value: 0.6050110537951363 and parameters: {'lr': 0.00020020529036927454, 'weight_decay': 0.00047124954350083806}. Best is trial 168 with value: 0.8083333333333335.\n",
      "WARNING: Maximum number of iterations 32 reached. The mean may be inaccurate\n"
     ]
    },
    {
     "name": "stdout",
     "output_type": "stream",
     "text": [
      "SVD 수렴 문제 발생: SVD did not converge. 계속 진행합니다.\n"
     ]
    },
    {
     "name": "stderr",
     "output_type": "stream",
     "text": [
      "[I 2024-10-02 06:04:34,333] Trial 309 finished with value: 0.7462919594067134 and parameters: {'lr': 9.953642402137807e-05, 'weight_decay': 0.00036235721497587234}. Best is trial 168 with value: 0.8083333333333335.\n",
      "WARNING: Maximum number of iterations 32 reached. The mean may be inaccurate\n"
     ]
    },
    {
     "name": "stdout",
     "output_type": "stream",
     "text": [
      "SVD 수렴 문제 발생: SVD did not converge. 계속 진행합니다.\n"
     ]
    },
    {
     "name": "stderr",
     "output_type": "stream",
     "text": [
      "[I 2024-10-02 06:09:56,935] Trial 310 finished with value: 0.6885245901639344 and parameters: {'lr': 0.00010034386129432508, 'weight_decay': 0.00035885068979475763}. Best is trial 168 with value: 0.8083333333333335.\n",
      "WARNING: Maximum number of iterations 32 reached. The mean may be inaccurate\n"
     ]
    },
    {
     "name": "stdout",
     "output_type": "stream",
     "text": [
      "SVD 수렴 문제 발생: SVD did not converge. 계속 진행합니다.\n"
     ]
    },
    {
     "name": "stderr",
     "output_type": "stream",
     "text": [
      "[I 2024-10-02 06:15:19,488] Trial 311 finished with value: 0.7048387096774194 and parameters: {'lr': 7.94388191315133e-05, 'weight_decay': 0.0008713077217505973}. Best is trial 168 with value: 0.8083333333333335.\n",
      "WARNING: Maximum number of iterations 32 reached. The mean may be inaccurate\n"
     ]
    },
    {
     "name": "stdout",
     "output_type": "stream",
     "text": [
      "SVD 수렴 문제 발생: SVD did not converge. 계속 진행합니다.\n"
     ]
    },
    {
     "name": "stderr",
     "output_type": "stream",
     "text": [
      "[I 2024-10-02 06:20:41,066] Trial 312 finished with value: 0.6967741935483871 and parameters: {'lr': 0.00010503708504186076, 'weight_decay': 0.0005919467600146221}. Best is trial 168 with value: 0.8083333333333335.\n",
      "WARNING: Maximum number of iterations 32 reached. The mean may be inaccurate\n",
      "[I 2024-10-02 06:26:03,939] Trial 313 finished with value: 0.7111631537861046 and parameters: {'lr': 6.49468832335323e-05, 'weight_decay': 0.0013747583167206966}. Best is trial 168 with value: 0.8083333333333335.\n"
     ]
    },
    {
     "name": "stdout",
     "output_type": "stream",
     "text": [
      "SVD 수렴 문제 발생: SVD did not converge. 계속 진행합니다.\n"
     ]
    },
    {
     "name": "stderr",
     "output_type": "stream",
     "text": [
      "WARNING: Maximum number of iterations 32 reached. The mean may be inaccurate\n"
     ]
    },
    {
     "name": "stdout",
     "output_type": "stream",
     "text": [
      "SVD 수렴 문제 발생: SVD did not converge. 계속 진행합니다.\n"
     ]
    },
    {
     "name": "stderr",
     "output_type": "stream",
     "text": [
      "[I 2024-10-02 06:31:24,179] Trial 314 finished with value: 0.6056451612903226 and parameters: {'lr': 0.00012875420736178504, 'weight_decay': 0.00042220307893389903}. Best is trial 168 with value: 0.8083333333333335.\n",
      "WARNING: Maximum number of iterations 32 reached. The mean may be inaccurate\n"
     ]
    },
    {
     "name": "stdout",
     "output_type": "stream",
     "text": [
      "SVD 수렴 문제 발생: SVD did not converge. 계속 진행합니다.\n"
     ]
    },
    {
     "name": "stderr",
     "output_type": "stream",
     "text": [
      "[I 2024-10-02 06:36:45,631] Trial 315 finished with value: 0.6078582434514638 and parameters: {'lr': 8.708214071526063e-05, 'weight_decay': 0.0004974482173860712}. Best is trial 168 with value: 0.8083333333333335.\n",
      "WARNING: Maximum number of iterations 32 reached. The mean may be inaccurate\n"
     ]
    },
    {
     "name": "stdout",
     "output_type": "stream",
     "text": [
      "SVD 수렴 문제 발생: SVD did not converge. 계속 진행합니다.\n"
     ]
    },
    {
     "name": "stderr",
     "output_type": "stream",
     "text": [
      "[I 2024-10-02 06:42:05,670] Trial 316 finished with value: 0.6196969696969697 and parameters: {'lr': 0.00015033524014456144, 'weight_decay': 0.0007463564191414147}. Best is trial 168 with value: 0.8083333333333335.\n",
      "WARNING: Maximum number of iterations 32 reached. The mean may be inaccurate\n"
     ]
    },
    {
     "name": "stdout",
     "output_type": "stream",
     "text": [
      "SVD 수렴 문제 발생: SVD did not converge. 계속 진행합니다.\n"
     ]
    },
    {
     "name": "stderr",
     "output_type": "stream",
     "text": [
      "[I 2024-10-02 06:47:25,581] Trial 317 finished with value: 0.6265664160401002 and parameters: {'lr': 0.0004943743249369164, 'weight_decay': 1.1848748575211467e-05}. Best is trial 168 with value: 0.8083333333333335.\n",
      "WARNING: Maximum number of iterations 32 reached. The mean may be inaccurate\n"
     ]
    },
    {
     "name": "stdout",
     "output_type": "stream",
     "text": [
      "SVD 수렴 문제 발생: SVD did not converge. 계속 진행합니다.\n"
     ]
    },
    {
     "name": "stderr",
     "output_type": "stream",
     "text": [
      "[I 2024-10-02 06:52:45,051] Trial 318 finished with value: 0.629976580796253 and parameters: {'lr': 0.0006406075211915961, 'weight_decay': 0.00035461379264601365}. Best is trial 168 with value: 0.8083333333333335.\n",
      "WARNING: Maximum number of iterations 32 reached. The mean may be inaccurate\n"
     ]
    },
    {
     "name": "stdout",
     "output_type": "stream",
     "text": [
      "SVD 수렴 문제 발생: SVD did not converge. 계속 진행합니다.\n"
     ]
    },
    {
     "name": "stderr",
     "output_type": "stream",
     "text": [
      "[I 2024-10-02 06:58:00,396] Trial 319 finished with value: 0.6572989851678376 and parameters: {'lr': 0.007952914165492958, 'weight_decay': 0.0005987010799556674}. Best is trial 168 with value: 0.8083333333333335.\n",
      "WARNING: Maximum number of iterations 32 reached. The mean may be inaccurate\n"
     ]
    },
    {
     "name": "stdout",
     "output_type": "stream",
     "text": [
      "SVD 수렴 문제 발생: SVD did not converge. 계속 진행합니다.\n"
     ]
    },
    {
     "name": "stderr",
     "output_type": "stream",
     "text": [
      "[I 2024-10-02 07:03:21,490] Trial 320 finished with value: 0.6870967741935484 and parameters: {'lr': 5.329254107729481e-05, 'weight_decay': 0.00027987427860643756}. Best is trial 168 with value: 0.8083333333333335.\n",
      "WARNING: Maximum number of iterations 32 reached. The mean may be inaccurate\n"
     ]
    },
    {
     "name": "stdout",
     "output_type": "stream",
     "text": [
      "SVD 수렴 문제 발생: SVD did not converge. 계속 진행합니다.\n"
     ]
    },
    {
     "name": "stderr",
     "output_type": "stream",
     "text": [
      "[I 2024-10-02 07:08:42,152] Trial 321 finished with value: 0.6466165413533834 and parameters: {'lr': 1.9238837583398327e-06, 'weight_decay': 0.0009852526618875591}. Best is trial 168 with value: 0.8083333333333335.\n",
      "WARNING: Maximum number of iterations 32 reached. The mean may be inaccurate\n"
     ]
    },
    {
     "name": "stdout",
     "output_type": "stream",
     "text": [
      "SVD 수렴 문제 발생: SVD did not converge. 계속 진행합니다.\n"
     ]
    },
    {
     "name": "stderr",
     "output_type": "stream",
     "text": [
      "[I 2024-10-02 07:14:03,502] Trial 322 finished with value: 0.6659090909090909 and parameters: {'lr': 9.48153833603965e-05, 'weight_decay': 0.0006745016973307215}. Best is trial 168 with value: 0.8083333333333335.\n",
      "WARNING: Maximum number of iterations 32 reached. The mean may be inaccurate\n"
     ]
    },
    {
     "name": "stdout",
     "output_type": "stream",
     "text": [
      "SVD 수렴 문제 발생: SVD did not converge. 계속 진행합니다.\n"
     ]
    },
    {
     "name": "stderr",
     "output_type": "stream",
     "text": [
      "[I 2024-10-02 07:19:24,922] Trial 323 finished with value: 0.5487900078064012 and parameters: {'lr': 0.00040346043276806977, 'weight_decay': 4.6289625664641004e-05}. Best is trial 168 with value: 0.8083333333333335.\n",
      "WARNING: Maximum number of iterations 32 reached. The mean may be inaccurate\n"
     ]
    },
    {
     "name": "stdout",
     "output_type": "stream",
     "text": [
      "SVD 수렴 문제 발생: SVD did not converge. 계속 진행합니다.\n"
     ]
    },
    {
     "name": "stderr",
     "output_type": "stream",
     "text": [
      "[I 2024-10-02 07:24:46,916] Trial 324 finished with value: 0.5792188651436994 and parameters: {'lr': 0.0005405940885630066, 'weight_decay': 0.00041888479386303554}. Best is trial 168 with value: 0.8083333333333335.\n",
      "WARNING: Maximum number of iterations 32 reached. The mean may be inaccurate\n"
     ]
    },
    {
     "name": "stdout",
     "output_type": "stream",
     "text": [
      "SVD 수렴 문제 발생: SVD did not converge. 계속 진행합니다.\n"
     ]
    },
    {
     "name": "stderr",
     "output_type": "stream",
     "text": [
      "[I 2024-10-02 07:30:07,028] Trial 325 finished with value: 0.6572989851678376 and parameters: {'lr': 0.00011552791996803256, 'weight_decay': 0.0005069806039684189}. Best is trial 168 with value: 0.8083333333333335.\n",
      "WARNING: Maximum number of iterations 32 reached. The mean may be inaccurate\n"
     ]
    },
    {
     "name": "stdout",
     "output_type": "stream",
     "text": [
      "SVD 수렴 문제 발생: SVD did not converge. 계속 진행합니다.\n"
     ]
    },
    {
     "name": "stderr",
     "output_type": "stream",
     "text": [
      "[I 2024-10-02 07:35:26,571] Trial 326 finished with value: 0.6362903225806451 and parameters: {'lr': 1.1235734473743298e-05, 'weight_decay': 0.001241421204215962}. Best is trial 168 with value: 0.8083333333333335.\n",
      "WARNING: Maximum number of iterations 32 reached. The mean may be inaccurate\n",
      "[I 2024-10-02 07:40:46,673] Trial 327 finished with value: 0.6705698672911787 and parameters: {'lr': 4.0299639870288875e-06, 'weight_decay': 7.725674005290822e-05}. Best is trial 168 with value: 0.8083333333333335.\n"
     ]
    },
    {
     "name": "stdout",
     "output_type": "stream",
     "text": [
      "SVD 수렴 문제 발생: SVD did not converge. 계속 진행합니다.\n"
     ]
    },
    {
     "name": "stderr",
     "output_type": "stream",
     "text": [
      "WARNING: Maximum number of iterations 32 reached. The mean may be inaccurate\n"
     ]
    },
    {
     "name": "stdout",
     "output_type": "stream",
     "text": [
      "SVD 수렴 문제 발생: SVD did not converge. 계속 진행합니다.\n"
     ]
    },
    {
     "name": "stderr",
     "output_type": "stream",
     "text": [
      "[I 2024-10-02 07:46:05,437] Trial 328 finished with value: 0.6401249024199843 and parameters: {'lr': 0.0003259677962842074, 'weight_decay': 0.0008443456665918893}. Best is trial 168 with value: 0.8083333333333335.\n",
      "WARNING: Maximum number of iterations 32 reached. The mean may be inaccurate\n",
      "[I 2024-10-02 07:51:26,707] Trial 329 finished with value: 0.6557377049180327 and parameters: {'lr': 7.526651536078196e-05, 'weight_decay': 0.0006370823153978235}. Best is trial 168 with value: 0.8083333333333335.\n"
     ]
    },
    {
     "name": "stdout",
     "output_type": "stream",
     "text": [
      "SVD 수렴 문제 발생: SVD did not converge. 계속 진행합니다.\n"
     ]
    },
    {
     "name": "stderr",
     "output_type": "stream",
     "text": [
      "WARNING: Maximum number of iterations 32 reached. The mean may be inaccurate\n"
     ]
    },
    {
     "name": "stdout",
     "output_type": "stream",
     "text": [
      "SVD 수렴 문제 발생: SVD did not converge. 계속 진행합니다.\n"
     ]
    },
    {
     "name": "stderr",
     "output_type": "stream",
     "text": [
      "[I 2024-10-02 07:56:45,828] Trial 330 finished with value: 0.7852459016393443 and parameters: {'lr': 3.6474457398882154e-05, 'weight_decay': 0.000539874079349105}. Best is trial 168 with value: 0.8083333333333335.\n",
      "WARNING: Maximum number of iterations 32 reached. The mean may be inaccurate\n"
     ]
    },
    {
     "name": "stdout",
     "output_type": "stream",
     "text": [
      "SVD 수렴 문제 발생: SVD did not converge. 계속 진행합니다.\n"
     ]
    },
    {
     "name": "stderr",
     "output_type": "stream",
     "text": [
      "[I 2024-10-02 08:02:06,691] Trial 331 finished with value: 0.6518345042935207 and parameters: {'lr': 5.025646692876098e-05, 'weight_decay': 0.0007650114491293705}. Best is trial 168 with value: 0.8083333333333335.\n",
      "WARNING: Maximum number of iterations 32 reached. The mean may be inaccurate\n"
     ]
    },
    {
     "name": "stdout",
     "output_type": "stream",
     "text": [
      "SVD 수렴 문제 발생: SVD did not converge. 계속 진행합니다.\n"
     ]
    },
    {
     "name": "stderr",
     "output_type": "stream",
     "text": [
      "[I 2024-10-02 08:07:28,311] Trial 332 finished with value: 0.6838709677419355 and parameters: {'lr': 6.453748882154636e-05, 'weight_decay': 0.0005486950077917449}. Best is trial 168 with value: 0.8083333333333335.\n",
      "WARNING: Maximum number of iterations 32 reached. The mean may be inaccurate\n"
     ]
    },
    {
     "name": "stdout",
     "output_type": "stream",
     "text": [
      "SVD 수렴 문제 발생: SVD did not converge. 계속 진행합니다.\n"
     ]
    },
    {
     "name": "stderr",
     "output_type": "stream",
     "text": [
      "[I 2024-10-02 08:12:50,066] Trial 333 finished with value: 0.5714285714285714 and parameters: {'lr': 4.210776657699125e-05, 'weight_decay': 0.0010560411728641967}. Best is trial 168 with value: 0.8083333333333335.\n",
      "WARNING: Maximum number of iterations 32 reached. The mean may be inaccurate\n",
      "[I 2024-10-02 08:18:11,550] Trial 334 finished with value: 0.5923141186299081 and parameters: {'lr': 3.2852536340617626e-05, 'weight_decay': 4.815090397949075e-06}. Best is trial 168 with value: 0.8083333333333335.\n"
     ]
    },
    {
     "name": "stdout",
     "output_type": "stream",
     "text": [
      "SVD 수렴 문제 발생: SVD did not converge. 계속 진행합니다.\n"
     ]
    },
    {
     "name": "stderr",
     "output_type": "stream",
     "text": [
      "WARNING: Maximum number of iterations 32 reached. The mean may be inaccurate\n"
     ]
    },
    {
     "name": "stdout",
     "output_type": "stream",
     "text": [
      "SVD 수렴 문제 발생: SVD did not converge. 계속 진행합니다.\n"
     ]
    },
    {
     "name": "stderr",
     "output_type": "stream",
     "text": [
      "[I 2024-10-02 08:23:31,788] Trial 335 finished with value: 0.5848484848484848 and parameters: {'lr': 2.647661203337087e-05, 'weight_decay': 0.0006881246896549067}. Best is trial 168 with value: 0.8083333333333335.\n",
      "WARNING: Maximum number of iterations 32 reached. The mean may be inaccurate\n"
     ]
    },
    {
     "name": "stdout",
     "output_type": "stream",
     "text": [
      "SVD 수렴 문제 발생: SVD did not converge. 계속 진행합니다.\n"
     ]
    },
    {
     "name": "stderr",
     "output_type": "stream",
     "text": [
      "[I 2024-10-02 08:28:53,652] Trial 336 finished with value: 0.5605680868838764 and parameters: {'lr': 3.634667805304181e-05, 'weight_decay': 8.188322531933355e-06}. Best is trial 168 with value: 0.8083333333333335.\n",
      "WARNING: Maximum number of iterations 32 reached. The mean may be inaccurate\n",
      "[I 2024-10-02 08:34:16,377] Trial 337 finished with value: 0.6462121212121211 and parameters: {'lr': 9.528487050305009e-05, 'weight_decay': 0.0005200435152680047}. Best is trial 168 with value: 0.8083333333333335.\n"
     ]
    },
    {
     "name": "stdout",
     "output_type": "stream",
     "text": [
      "SVD 수렴 문제 발생: SVD did not converge. 계속 진행합니다.\n"
     ]
    },
    {
     "name": "stderr",
     "output_type": "stream",
     "text": [
      "WARNING: Maximum number of iterations 32 reached. The mean may be inaccurate\n"
     ]
    },
    {
     "name": "stdout",
     "output_type": "stream",
     "text": [
      "SVD 수렴 문제 발생: SVD did not converge. 계속 진행합니다.\n"
     ]
    },
    {
     "name": "stderr",
     "output_type": "stream",
     "text": [
      "[I 2024-10-02 08:39:38,127] Trial 338 finished with value: 0.687743950039032 and parameters: {'lr': 0.0001371264453232524, 'weight_decay': 0.0008906471773616645}. Best is trial 168 with value: 0.8083333333333335.\n",
      "WARNING: Maximum number of iterations 32 reached. The mean may be inaccurate\n"
     ]
    },
    {
     "name": "stdout",
     "output_type": "stream",
     "text": [
      "SVD 수렴 문제 발생: SVD did not converge. 계속 진행합니다.\n"
     ]
    },
    {
     "name": "stderr",
     "output_type": "stream",
     "text": [
      "[I 2024-10-02 08:44:59,743] Trial 339 finished with value: 0.675 and parameters: {'lr': 5.945260035334436e-05, 'weight_decay': 0.000646823976223173}. Best is trial 168 with value: 0.8083333333333335.\n",
      "WARNING: Maximum number of iterations 32 reached. The mean may be inaccurate\n"
     ]
    },
    {
     "name": "stdout",
     "output_type": "stream",
     "text": [
      "SVD 수렴 문제 발생: SVD did not converge. 계속 진행합니다.\n"
     ]
    },
    {
     "name": "stderr",
     "output_type": "stream",
     "text": [
      "[I 2024-10-02 08:53:40,301] Trial 340 finished with value: 0.6557377049180328 and parameters: {'lr': 2.3631670191373146e-06, 'weight_decay': 2.189244169544549e-06}. Best is trial 168 with value: 0.8083333333333335.\n",
      "WARNING: Maximum number of iterations 32 reached. The mean may be inaccurate\n"
     ]
    },
    {
     "name": "stdout",
     "output_type": "stream",
     "text": [
      "SVD 수렴 문제 발생: SVD did not converge. 계속 진행합니다.\n"
     ]
    },
    {
     "name": "stderr",
     "output_type": "stream",
     "text": [
      "[I 2024-10-02 09:26:39,011] Trial 341 finished with value: 0.6614754098360656 and parameters: {'lr': 1.3726612597077407e-06, 'weight_decay': 0.00010780896959003332}. Best is trial 168 with value: 0.8083333333333335.\n",
      "WARNING: Maximum number of iterations 32 reached. The mean may be inaccurate\n"
     ]
    },
    {
     "name": "stdout",
     "output_type": "stream",
     "text": [
      "SVD 수렴 문제 발생: SVD did not converge. 계속 진행합니다.\n"
     ]
    },
    {
     "name": "stderr",
     "output_type": "stream",
     "text": [
      "[I 2024-10-02 09:59:27,068] Trial 342 finished with value: 0.6233870967741936 and parameters: {'lr': 7.446813331076631e-05, 'weight_decay': 0.001662783368169257}. Best is trial 168 with value: 0.8083333333333335.\n",
      "WARNING: Maximum number of iterations 32 reached. The mean may be inaccurate\n"
     ]
    },
    {
     "name": "stdout",
     "output_type": "stream",
     "text": [
      "SVD 수렴 문제 발생: SVD did not converge. 계속 진행합니다.\n"
     ]
    },
    {
     "name": "stderr",
     "output_type": "stream",
     "text": [
      "[I 2024-10-02 10:32:17,413] Trial 343 finished with value: 0.6479313036690086 and parameters: {'lr': 2.8576987558888836e-06, 'weight_decay': 0.0008556410887688729}. Best is trial 168 with value: 0.8083333333333335.\n",
      "WARNING: Maximum number of iterations 32 reached. The mean may be inaccurate\n"
     ]
    },
    {
     "name": "stdout",
     "output_type": "stream",
     "text": [
      "SVD 수렴 문제 발생: SVD did not converge. 계속 진행합니다.\n"
     ]
    },
    {
     "name": "stderr",
     "output_type": "stream",
     "text": [
      "[I 2024-10-02 11:05:10,606] Trial 344 finished with value: 0.6682279469164715 and parameters: {'lr': 5.0586271376862795e-06, 'weight_decay': 0.0004510092849485407}. Best is trial 168 with value: 0.8083333333333335.\n",
      "WARNING: Maximum number of iterations 32 reached. The mean may be inaccurate\n"
     ]
    },
    {
     "name": "stdout",
     "output_type": "stream",
     "text": [
      "SVD 수렴 문제 발생: SVD did not converge. 계속 진행합니다.\n"
     ]
    },
    {
     "name": "stderr",
     "output_type": "stream",
     "text": [
      "[I 2024-10-02 11:37:35,902] Trial 345 finished with value: 0.6717741935483871 and parameters: {'lr': 0.00011561319283678852, 'weight_decay': 0.0003275871799121571}. Best is trial 168 with value: 0.8083333333333335.\n",
      "WARNING: Maximum number of iterations 32 reached. The mean may be inaccurate\n",
      "[I 2024-10-02 12:10:01,915] Trial 346 finished with value: 0.6035372144436256 and parameters: {'lr': 2.0507325245459463e-05, 'weight_decay': 0.0005661766357139707}. Best is trial 168 with value: 0.8083333333333335.\n"
     ]
    },
    {
     "name": "stdout",
     "output_type": "stream",
     "text": [
      "SVD 수렴 문제 발생: SVD did not converge. 계속 진행합니다.\n"
     ]
    },
    {
     "name": "stderr",
     "output_type": "stream",
     "text": [
      "WARNING: Maximum number of iterations 32 reached. The mean may be inaccurate\n"
     ]
    },
    {
     "name": "stdout",
     "output_type": "stream",
     "text": [
      "SVD 수렴 문제 발생: SVD did not converge. 계속 진행합니다.\n"
     ]
    },
    {
     "name": "stderr",
     "output_type": "stream",
     "text": [
      "[I 2024-10-02 12:42:28,694] Trial 347 finished with value: 0.6401249024199844 and parameters: {'lr': 0.00016845376372167468, 'weight_decay': 0.002088328650432593}. Best is trial 168 with value: 0.8083333333333335.\n",
      "WARNING: Maximum number of iterations 32 reached. The mean may be inaccurate\n"
     ]
    },
    {
     "name": "stdout",
     "output_type": "stream",
     "text": [
      "SVD 수렴 문제 발생: SVD did not converge. 계속 진행합니다.\n"
     ]
    },
    {
     "name": "stderr",
     "output_type": "stream",
     "text": [
      "[I 2024-10-02 13:14:52,014] Trial 348 finished with value: 0.6237314597970336 and parameters: {'lr': 1.7745231740795196e-06, 'weight_decay': 0.000748099677105912}. Best is trial 168 with value: 0.8083333333333335.\n",
      "WARNING: Maximum number of iterations 32 reached. The mean may be inaccurate\n"
     ]
    },
    {
     "name": "stdout",
     "output_type": "stream",
     "text": [
      "SVD 수렴 문제 발생: SVD did not converge. 계속 진행합니다.\n"
     ]
    },
    {
     "name": "stderr",
     "output_type": "stream",
     "text": [
      "[I 2024-10-02 13:47:21,183] Trial 349 finished with value: 0.6613636363636364 and parameters: {'lr': 1.2248418700768034e-06, 'weight_decay': 0.0003776739009341509}. Best is trial 168 with value: 0.8083333333333335.\n",
      "WARNING: Maximum number of iterations 32 reached. The mean may be inaccurate\n"
     ]
    },
    {
     "name": "stdout",
     "output_type": "stream",
     "text": [
      "SVD 수렴 문제 발생: SVD did not converge. 계속 진행합니다.\n"
     ]
    },
    {
     "name": "stderr",
     "output_type": "stream",
     "text": [
      "[I 2024-10-02 14:20:14,427] Trial 350 finished with value: 0.6854020296643247 and parameters: {'lr': 8.293212694602068e-05, 'weight_decay': 0.006047627510913354}. Best is trial 168 with value: 0.8083333333333335.\n",
      "WARNING: Maximum number of iterations 32 reached. The mean may be inaccurate\n"
     ]
    },
    {
     "name": "stdout",
     "output_type": "stream",
     "text": [
      "SVD 수렴 문제 발생: SVD did not converge. 계속 진행합니다.\n"
     ]
    },
    {
     "name": "stderr",
     "output_type": "stream",
     "text": [
      "[I 2024-10-02 14:52:59,992] Trial 351 finished with value: 0.5943548387096774 and parameters: {'lr': 9.51793937942732e-05, 'weight_decay': 0.0011146974535919648}. Best is trial 168 with value: 0.8083333333333335.\n",
      "WARNING: Maximum number of iterations 32 reached. The mean may be inaccurate\n"
     ]
    },
    {
     "name": "stdout",
     "output_type": "stream",
     "text": [
      "SVD 수렴 문제 발생: SVD did not converge. 계속 진행합니다.\n"
     ]
    },
    {
     "name": "stderr",
     "output_type": "stream",
     "text": [
      "[I 2024-10-02 15:25:17,635] Trial 352 finished with value: 0.6878787878787879 and parameters: {'lr': 4.6104533775370445e-05, 'weight_decay': 0.0001303773037422092}. Best is trial 168 with value: 0.8083333333333335.\n",
      "WARNING: Maximum number of iterations 32 reached. The mean may be inaccurate\n"
     ]
    },
    {
     "name": "stdout",
     "output_type": "stream",
     "text": [
      "SVD 수렴 문제 발생: SVD did not converge. 계속 진행합니다.\n"
     ]
    },
    {
     "name": "stderr",
     "output_type": "stream",
     "text": [
      "[I 2024-10-02 15:55:47,418] Trial 353 finished with value: 0.6870967741935484 and parameters: {'lr': 3.521466478157373e-06, 'weight_decay': 0.0004739169386335293}. Best is trial 168 with value: 0.8083333333333335.\n",
      "WARNING: Maximum number of iterations 32 reached. The mean may be inaccurate\n",
      "[I 2024-10-02 16:26:36,831] Trial 354 finished with value: 0.6507000736919676 and parameters: {'lr': 0.000295368085357303, 'weight_decay': 0.0006259038933829218}. Best is trial 168 with value: 0.8083333333333335.\n"
     ]
    },
    {
     "name": "stdout",
     "output_type": "stream",
     "text": [
      "SVD 수렴 문제 발생: SVD did not converge. 계속 진행합니다.\n"
     ]
    },
    {
     "name": "stderr",
     "output_type": "stream",
     "text": [
      "WARNING: Maximum number of iterations 32 reached. The mean may be inaccurate\n"
     ]
    },
    {
     "name": "stdout",
     "output_type": "stream",
     "text": [
      "SVD 수렴 문제 발생: SVD did not converge. 계속 진행합니다.\n"
     ]
    },
    {
     "name": "stderr",
     "output_type": "stream",
     "text": [
      "[I 2024-10-02 16:57:25,869] Trial 355 finished with value: 0.6206088992974239 and parameters: {'lr': 7.02322867654756e-06, 'weight_decay': 0.0007691465285505232}. Best is trial 168 with value: 0.8083333333333335.\n",
      "WARNING: Maximum number of iterations 32 reached. The mean may be inaccurate\n"
     ]
    },
    {
     "name": "stdout",
     "output_type": "stream",
     "text": [
      "SVD 수렴 문제 발생: SVD did not converge. 계속 진행합니다.\n"
     ]
    },
    {
     "name": "stderr",
     "output_type": "stream",
     "text": [
      "[I 2024-10-02 17:28:12,297] Trial 356 finished with value: 0.7106557377049181 and parameters: {'lr': 1.4786249730210919e-05, 'weight_decay': 0.0005438509771658614}. Best is trial 168 with value: 0.8083333333333335.\n",
      "WARNING: Maximum number of iterations 32 reached. The mean may be inaccurate\n"
     ]
    },
    {
     "name": "stdout",
     "output_type": "stream",
     "text": [
      "SVD 수렴 문제 발생: SVD did not converge. 계속 진행합니다.\n"
     ]
    },
    {
     "name": "stderr",
     "output_type": "stream",
     "text": [
      "[I 2024-10-02 17:59:02,462] Trial 357 finished with value: 0.7387096774193548 and parameters: {'lr': 1.0165919211756545e-06, 'weight_decay': 0.0004078767372244812}. Best is trial 168 with value: 0.8083333333333335.\n",
      "WARNING: Maximum number of iterations 32 reached. The mean may be inaccurate\n"
     ]
    },
    {
     "name": "stdout",
     "output_type": "stream",
     "text": [
      "SVD 수렴 문제 발생: SVD did not converge. 계속 진행합니다.\n"
     ]
    },
    {
     "name": "stderr",
     "output_type": "stream",
     "text": [
      "[I 2024-10-02 18:29:43,182] Trial 358 finished with value: 0.6330991412958626 and parameters: {'lr': 1.6255220081015825e-06, 'weight_decay': 0.0003142057923664217}. Best is trial 168 with value: 0.8083333333333335.\n",
      "WARNING: Maximum number of iterations 32 reached. The mean may be inaccurate\n"
     ]
    },
    {
     "name": "stdout",
     "output_type": "stream",
     "text": [
      "SVD 수렴 문제 발생: SVD did not converge. 계속 진행합니다.\n"
     ]
    },
    {
     "name": "stderr",
     "output_type": "stream",
     "text": [
      "[I 2024-10-02 19:00:26,042] Trial 359 finished with value: 0.625 and parameters: {'lr': 1.0829828031835402e-06, 'weight_decay': 0.0004206986511865268}. Best is trial 168 with value: 0.8083333333333335.\n",
      "WARNING: Maximum number of iterations 32 reached. The mean may be inaccurate\n"
     ]
    },
    {
     "name": "stdout",
     "output_type": "stream",
     "text": [
      "SVD 수렴 문제 발생: SVD did not converge. 계속 진행합니다.\n"
     ]
    },
    {
     "name": "stderr",
     "output_type": "stream",
     "text": [
      "[I 2024-10-02 19:31:03,117] Trial 360 finished with value: 0.6557377049180327 and parameters: {'lr': 1.560246484526872e-06, 'weight_decay': 0.0002710376421729578}. Best is trial 168 with value: 0.8083333333333335.\n",
      "WARNING: Maximum number of iterations 32 reached. The mean may be inaccurate\n"
     ]
    },
    {
     "name": "stdout",
     "output_type": "stream",
     "text": [
      "SVD 수렴 문제 발생: SVD did not converge. 계속 진행합니다.\n"
     ]
    },
    {
     "name": "stderr",
     "output_type": "stream",
     "text": [
      "[I 2024-10-02 20:01:39,454] Trial 361 finished with value: 0.667741935483871 and parameters: {'lr': 1.4071468876214598e-06, 'weight_decay': 0.000407221555942397}. Best is trial 168 with value: 0.8083333333333335.\n",
      "WARNING: Maximum number of iterations 32 reached. The mean may be inaccurate\n"
     ]
    },
    {
     "name": "stdout",
     "output_type": "stream",
     "text": [
      "SVD 수렴 문제 발생: SVD did not converge. 계속 진행합니다.\n"
     ]
    },
    {
     "name": "stderr",
     "output_type": "stream",
     "text": [
      "[I 2024-10-02 20:32:09,209] Trial 362 finished with value: 0.6001540832049306 and parameters: {'lr': 5.653373834120313e-05, 'weight_decay': 0.00034449560043911184}. Best is trial 168 with value: 0.8083333333333335.\n",
      "WARNING: Maximum number of iterations 32 reached. The mean may be inaccurate\n"
     ]
    },
    {
     "name": "stdout",
     "output_type": "stream",
     "text": [
      "SVD 수렴 문제 발생: SVD did not converge. 계속 진행합니다.\n"
     ]
    },
    {
     "name": "stderr",
     "output_type": "stream",
     "text": [
      "[I 2024-10-02 21:02:08,010] Trial 363 finished with value: 0.6978922716627635 and parameters: {'lr': 1.0869020916193183e-06, 'weight_decay': 0.0004963704782271865}. Best is trial 168 with value: 0.8083333333333335.\n",
      "WARNING: Maximum number of iterations 32 reached. The mean may be inaccurate\n"
     ]
    },
    {
     "name": "stdout",
     "output_type": "stream",
     "text": [
      "SVD 수렴 문제 발생: SVD did not converge. 계속 진행합니다.\n"
     ]
    },
    {
     "name": "stderr",
     "output_type": "stream",
     "text": [
      "[I 2024-10-02 21:32:25,145] Trial 364 finished with value: 0.6190125276344879 and parameters: {'lr': 1.2157176334261058e-06, 'weight_decay': 0.0005818182255436608}. Best is trial 168 with value: 0.8083333333333335.\n",
      "WARNING: Maximum number of iterations 32 reached. The mean may be inaccurate\n"
     ]
    },
    {
     "name": "stdout",
     "output_type": "stream",
     "text": [
      "SVD 수렴 문제 발생: SVD did not converge. 계속 진행합니다.\n"
     ]
    },
    {
     "name": "stderr",
     "output_type": "stream",
     "text": [
      "[I 2024-10-02 22:02:45,798] Trial 365 finished with value: 0.5456674473067915 and parameters: {'lr': 2.18873688452736e-06, 'weight_decay': 0.00045708534462964533}. Best is trial 168 with value: 0.8083333333333335.\n",
      "WARNING: Maximum number of iterations 32 reached. The mean may be inaccurate\n"
     ]
    },
    {
     "name": "stdout",
     "output_type": "stream",
     "text": [
      "SVD 수렴 문제 발생: SVD did not converge. 계속 진행합니다.\n"
     ]
    },
    {
     "name": "stderr",
     "output_type": "stream",
     "text": [
      "[I 2024-10-02 22:33:09,774] Trial 366 finished with value: 0.74191063174114 and parameters: {'lr': 0.0009869859030295185, 'weight_decay': 0.000952438243724132}. Best is trial 168 with value: 0.8083333333333335.\n",
      "WARNING: Maximum number of iterations 32 reached. The mean may be inaccurate\n"
     ]
    },
    {
     "name": "stdout",
     "output_type": "stream",
     "text": [
      "SVD 수렴 문제 발생: SVD did not converge. 계속 진행합니다.\n"
     ]
    },
    {
     "name": "stderr",
     "output_type": "stream",
     "text": [
      "[I 2024-10-02 23:03:29,220] Trial 367 finished with value: 0.721774193548387 and parameters: {'lr': 0.0010178914535165456, 'weight_decay': 6.094561888429805e-06}. Best is trial 168 with value: 0.8083333333333335.\n",
      "WARNING: Maximum number of iterations 32 reached. The mean may be inaccurate\n"
     ]
    },
    {
     "name": "stdout",
     "output_type": "stream",
     "text": [
      "SVD 수렴 문제 발생: SVD did not converge. 계속 진행합니다.\n"
     ]
    },
    {
     "name": "stderr",
     "output_type": "stream",
     "text": [
      "[I 2024-10-02 23:33:57,712] Trial 368 finished with value: 0.6354410616705699 and parameters: {'lr': 0.0008853104772922355, 'weight_decay': 0.0014547515762757634}. Best is trial 168 with value: 0.8083333333333335.\n",
      "WARNING: Maximum number of iterations 32 reached. The mean may be inaccurate\n"
     ]
    },
    {
     "name": "stdout",
     "output_type": "stream",
     "text": [
      "SVD 수렴 문제 발생: SVD did not converge. 계속 진행합니다.\n"
     ]
    },
    {
     "name": "stderr",
     "output_type": "stream",
     "text": [
      "[I 2024-10-03 00:04:27,671] Trial 369 finished with value: 0.6081186572989852 and parameters: {'lr': 0.0007662165306587438, 'weight_decay': 0.003022049271620234}. Best is trial 168 with value: 0.8083333333333335.\n",
      "WARNING: Maximum number of iterations 32 reached. The mean may be inaccurate\n"
     ]
    },
    {
     "name": "stdout",
     "output_type": "stream",
     "text": [
      "SVD 수렴 문제 발생: SVD did not converge. 계속 진행합니다.\n"
     ]
    },
    {
     "name": "stderr",
     "output_type": "stream",
     "text": [
      "[I 2024-10-03 00:33:39,703] Trial 370 finished with value: 0.6653225806451614 and parameters: {'lr': 0.0015519987917829612, 'weight_decay': 0.0003901628726331173}. Best is trial 168 with value: 0.8083333333333335.\n",
      "WARNING: Maximum number of iterations 32 reached. The mean may be inaccurate\n"
     ]
    },
    {
     "name": "stdout",
     "output_type": "stream",
     "text": [
      "SVD 수렴 문제 발생: SVD did not converge. 계속 진행합니다.\n"
     ]
    },
    {
     "name": "stderr",
     "output_type": "stream",
     "text": [
      "[I 2024-10-03 00:53:46,719] Trial 371 finished with value: 0.6516129032258065 and parameters: {'lr': 0.0011582378195160424, 'weight_decay': 0.001032477432779601}. Best is trial 168 with value: 0.8083333333333335.\n",
      "WARNING: Maximum number of iterations 32 reached. The mean may be inaccurate\n"
     ]
    },
    {
     "name": "stdout",
     "output_type": "stream",
     "text": [
      "SVD 수렴 문제 발생: SVD did not converge. 계속 진행합니다.\n"
     ]
    },
    {
     "name": "stderr",
     "output_type": "stream",
     "text": [
      "[I 2024-10-03 01:13:55,514] Trial 372 finished with value: 0.6639646278555638 and parameters: {'lr': 0.0012060464366745606, 'weight_decay': 0.000289374014487344}. Best is trial 168 with value: 0.8083333333333335.\n",
      "WARNING: Maximum number of iterations 32 reached. The mean may be inaccurate\n"
     ]
    },
    {
     "name": "stdout",
     "output_type": "stream",
     "text": [
      "SVD 수렴 문제 발생: SVD did not converge. 계속 진행합니다.\n"
     ]
    },
    {
     "name": "stderr",
     "output_type": "stream",
     "text": [
      "[I 2024-10-03 01:34:00,709] Trial 373 finished with value: 0.5604996096799376 and parameters: {'lr': 0.0006370207567258122, 'weight_decay': 0.0006769726563886517}. Best is trial 168 with value: 0.8083333333333335.\n",
      "WARNING: Maximum number of iterations 32 reached. The mean may be inaccurate\n"
     ]
    },
    {
     "name": "stdout",
     "output_type": "stream",
     "text": [
      "SVD 수렴 문제 발생: SVD did not converge. 계속 진행합니다.\n"
     ]
    },
    {
     "name": "stderr",
     "output_type": "stream",
     "text": [
      "[I 2024-10-03 01:54:18,835] Trial 374 finished with value: 0.6010928961748634 and parameters: {'lr': 1.082263471394243e-06, 'weight_decay': 0.0005633739355926388}. Best is trial 168 with value: 0.8083333333333335.\n",
      "WARNING: Maximum number of iterations 32 reached. The mean may be inaccurate\n",
      "[I 2024-10-03 02:14:17,115] Trial 375 finished with value: 0.6387096774193549 and parameters: {'lr': 0.000728887495237588, 'weight_decay': 0.000492281248490307}. Best is trial 168 with value: 0.8083333333333335.\n"
     ]
    },
    {
     "name": "stdout",
     "output_type": "stream",
     "text": [
      "SVD 수렴 문제 발생: SVD did not converge. 계속 진행합니다.\n"
     ]
    },
    {
     "name": "stderr",
     "output_type": "stream",
     "text": [
      "WARNING: Maximum number of iterations 32 reached. The mean may be inaccurate\n"
     ]
    },
    {
     "name": "stdout",
     "output_type": "stream",
     "text": [
      "SVD 수렴 문제 발생: SVD did not converge. 계속 진행합니다.\n"
     ]
    },
    {
     "name": "stderr",
     "output_type": "stream",
     "text": [
      "[I 2024-10-03 02:29:29,741] Trial 376 finished with value: 0.5747702589807854 and parameters: {'lr': 0.0010289694162765298, 'weight_decay': 8.778648826826863e-05}. Best is trial 168 with value: 0.8083333333333335.\n",
      "WARNING: Maximum number of iterations 32 reached. The mean may be inaccurate\n",
      "[I 2024-10-03 02:44:40,814] Trial 377 finished with value: 0.7010148321623731 and parameters: {'lr': 1.9890903034898898e-06, 'weight_decay': 0.0012072589776438315}. Best is trial 168 with value: 0.8083333333333335.\n"
     ]
    },
    {
     "name": "stdout",
     "output_type": "stream",
     "text": [
      "SVD 수렴 문제 발생: SVD did not converge. 계속 진행합니다.\n"
     ]
    },
    {
     "name": "stderr",
     "output_type": "stream",
     "text": [
      "WARNING: Maximum number of iterations 32 reached. The mean may be inaccurate\n"
     ]
    },
    {
     "name": "stdout",
     "output_type": "stream",
     "text": [
      "SVD 수렴 문제 발생: SVD did not converge. 계속 진행합니다.\n"
     ]
    },
    {
     "name": "stderr",
     "output_type": "stream",
     "text": [
      "[I 2024-10-03 02:59:39,035] Trial 378 finished with value: 0.5725806451612903 and parameters: {'lr': 0.00013694345822174843, 'weight_decay': 6.486103488021195e-05}. Best is trial 168 with value: 0.8083333333333335.\n",
      "WARNING: Maximum number of iterations 32 reached. The mean may be inaccurate\n"
     ]
    },
    {
     "name": "stdout",
     "output_type": "stream",
     "text": [
      "SVD 수렴 문제 발생: SVD did not converge. 계속 진행합니다.\n"
     ]
    },
    {
     "name": "stderr",
     "output_type": "stream",
     "text": [
      "[I 2024-10-03 03:14:44,365] Trial 379 finished with value: 0.6172839506172839 and parameters: {'lr': 0.0004230840269600057, 'weight_decay': 0.00023873336378410257}. Best is trial 168 with value: 0.8083333333333335.\n",
      "WARNING: Maximum number of iterations 32 reached. The mean may be inaccurate\n"
     ]
    },
    {
     "name": "stdout",
     "output_type": "stream",
     "text": [
      "SVD 수렴 문제 발생: SVD did not converge. 계속 진행합니다.\n"
     ]
    },
    {
     "name": "stderr",
     "output_type": "stream",
     "text": [
      "[I 2024-10-03 03:29:39,408] Trial 380 finished with value: 0.6858813700918964 and parameters: {'lr': 0.0013284141849618475, 'weight_decay': 0.00036682605925968885}. Best is trial 168 with value: 0.8083333333333335.\n",
      "WARNING: Maximum number of iterations 32 reached. The mean may be inaccurate\n"
     ]
    },
    {
     "name": "stdout",
     "output_type": "stream",
     "text": [
      "SVD 수렴 문제 발생: SVD did not converge. 계속 진행합니다.\n"
     ]
    },
    {
     "name": "stderr",
     "output_type": "stream",
     "text": [
      "[I 2024-10-03 03:42:50,259] Trial 381 finished with value: 0.6190125276344878 and parameters: {'lr': 2.7859762595434712e-06, 'weight_decay': 0.000806961623041355}. Best is trial 168 with value: 0.8083333333333335.\n",
      "WARNING: Maximum number of iterations 32 reached. The mean may be inaccurate\n"
     ]
    },
    {
     "name": "stdout",
     "output_type": "stream",
     "text": [
      "SVD 수렴 문제 발생: SVD did not converge. 계속 진행합니다.\n"
     ]
    },
    {
     "name": "stderr",
     "output_type": "stream",
     "text": [
      "[I 2024-10-03 03:52:53,576] Trial 382 finished with value: 0.6491228070175439 and parameters: {'lr': 1.2408217556705662e-06, 'weight_decay': 0.0006888741417430664}. Best is trial 168 with value: 0.8083333333333335.\n",
      "WARNING: Maximum number of iterations 32 reached. The mean may be inaccurate\n"
     ]
    },
    {
     "name": "stdout",
     "output_type": "stream",
     "text": [
      "SVD 수렴 문제 발생: SVD did not converge. 계속 진행합니다.\n"
     ]
    },
    {
     "name": "stderr",
     "output_type": "stream",
     "text": [
      "[I 2024-10-03 04:02:55,098] Trial 383 finished with value: 0.6073380171740828 and parameters: {'lr': 0.0002038475985497845, 'weight_decay': 0.0009703136510298198}. Best is trial 168 with value: 0.8083333333333335.\n",
      "WARNING: Maximum number of iterations 32 reached. The mean may be inaccurate\n",
      "[I 2024-10-03 04:12:56,500] Trial 384 finished with value: 0.5704545454545454 and parameters: {'lr': 1.002645793423028e-06, 'weight_decay': 0.00047012329072854944}. Best is trial 168 with value: 0.8083333333333335.\n"
     ]
    },
    {
     "name": "stdout",
     "output_type": "stream",
     "text": [
      "SVD 수렴 문제 발생: SVD did not converge. 계속 진행합니다.\n"
     ]
    },
    {
     "name": "stderr",
     "output_type": "stream",
     "text": [
      "WARNING: Maximum number of iterations 32 reached. The mean may be inaccurate\n"
     ]
    },
    {
     "name": "stdout",
     "output_type": "stream",
     "text": [
      "SVD 수렴 문제 발생: SVD did not converge. 계속 진행합니다.\n"
     ]
    },
    {
     "name": "stderr",
     "output_type": "stream",
     "text": [
      "[I 2024-10-03 04:22:58,091] Trial 385 finished with value: 0.6635441061670571 and parameters: {'lr': 0.0005171829811366043, 'weight_decay': 0.0006131240903071279}. Best is trial 168 with value: 0.8083333333333335.\n",
      "WARNING: Maximum number of iterations 32 reached. The mean may be inaccurate\n"
     ]
    },
    {
     "name": "stdout",
     "output_type": "stream",
     "text": [
      "SVD 수렴 문제 발생: SVD did not converge. 계속 진행합니다.\n"
     ]
    },
    {
     "name": "stderr",
     "output_type": "stream",
     "text": [
      "[I 2024-10-03 04:32:58,857] Trial 386 finished with value: 0.6596409055425448 and parameters: {'lr': 0.0017066482541430764, 'weight_decay': 3.745842810372194e-06}. Best is trial 168 with value: 0.8083333333333335.\n",
      "WARNING: Maximum number of iterations 32 reached. The mean may be inaccurate\n",
      "[I 2024-10-03 04:42:53,555] Trial 387 finished with value: 0.6863636363636364 and parameters: {'lr': 0.0021388163000289045, 'weight_decay': 1.054249535432039e-05}. Best is trial 168 with value: 0.8083333333333335.\n"
     ]
    },
    {
     "name": "stdout",
     "output_type": "stream",
     "text": [
      "SVD 수렴 문제 발생: SVD did not converge. 계속 진행합니다.\n"
     ]
    },
    {
     "name": "stderr",
     "output_type": "stream",
     "text": [
      "WARNING: Maximum number of iterations 32 reached. The mean may be inaccurate\n",
      "[I 2024-10-03 04:52:57,347] Trial 388 finished with value: 0.5901639344262295 and parameters: {'lr': 0.00016516209882665682, 'weight_decay': 0.000929176542404591}. Best is trial 168 with value: 0.8083333333333335.\n"
     ]
    },
    {
     "name": "stdout",
     "output_type": "stream",
     "text": [
      "SVD 수렴 문제 발생: SVD did not converge. 계속 진행합니다.\n"
     ]
    },
    {
     "name": "stderr",
     "output_type": "stream",
     "text": [
      "WARNING: Maximum number of iterations 32 reached. The mean may be inaccurate\n"
     ]
    },
    {
     "name": "stdout",
     "output_type": "stream",
     "text": [
      "SVD 수렴 문제 발생: SVD did not converge. 계속 진행합니다.\n"
     ]
    },
    {
     "name": "stderr",
     "output_type": "stream",
     "text": [
      "[I 2024-10-03 05:02:59,353] Trial 389 finished with value: 0.665909090909091 and parameters: {'lr': 0.00011336798553727988, 'weight_decay': 0.00016441921453668398}. Best is trial 168 with value: 0.8083333333333335.\n",
      "WARNING: Maximum number of iterations 32 reached. The mean may be inaccurate\n"
     ]
    },
    {
     "name": "stdout",
     "output_type": "stream",
     "text": [
      "SVD 수렴 문제 발생: SVD did not converge. 계속 진행합니다.\n"
     ]
    },
    {
     "name": "stderr",
     "output_type": "stream",
     "text": [
      "[I 2024-10-03 05:13:02,326] Trial 390 finished with value: 0.6352247605011054 and parameters: {'lr': 1.4325389212948368e-06, 'weight_decay': 0.00859936616757588}. Best is trial 168 with value: 0.8083333333333335.\n",
      "WARNING: Maximum number of iterations 32 reached. The mean may be inaccurate\n"
     ]
    },
    {
     "name": "stdout",
     "output_type": "stream",
     "text": [
      "SVD 수렴 문제 발생: SVD did not converge. 계속 진행합니다.\n"
     ]
    },
    {
     "name": "stderr",
     "output_type": "stream",
     "text": [
      "[I 2024-10-03 05:23:07,338] Trial 391 finished with value: 0.6712121212121213 and parameters: {'lr': 9.595243225949712e-06, 'weight_decay': 0.0005115754875066499}. Best is trial 168 with value: 0.8083333333333335.\n",
      "WARNING: Maximum number of iterations 32 reached. The mean may be inaccurate\n"
     ]
    },
    {
     "name": "stdout",
     "output_type": "stream",
     "text": [
      "SVD 수렴 문제 발생: SVD did not converge. 계속 진행합니다.\n"
     ]
    },
    {
     "name": "stderr",
     "output_type": "stream",
     "text": [
      "[I 2024-10-03 05:33:08,778] Trial 392 finished with value: 0.6307572209211553 and parameters: {'lr': 0.0003987261024602757, 'weight_decay': 0.00039921427910466636}. Best is trial 168 with value: 0.8083333333333335.\n",
      "WARNING: Maximum number of iterations 32 reached. The mean may be inaccurate\n"
     ]
    },
    {
     "name": "stdout",
     "output_type": "stream",
     "text": [
      "SVD 수렴 문제 발생: SVD did not converge. 계속 진행합니다.\n"
     ]
    },
    {
     "name": "stderr",
     "output_type": "stream",
     "text": [
      "[I 2024-10-03 05:43:10,084] Trial 393 finished with value: 0.6619828259172521 and parameters: {'lr': 0.0006102153311035149, 'weight_decay': 0.0003253092066344359}. Best is trial 168 with value: 0.8083333333333335.\n",
      "WARNING: Maximum number of iterations 32 reached. The mean may be inaccurate\n"
     ]
    },
    {
     "name": "stdout",
     "output_type": "stream",
     "text": [
      "SVD 수렴 문제 발생: SVD did not converge. 계속 진행합니다.\n"
     ]
    },
    {
     "name": "stderr",
     "output_type": "stream",
     "text": [
      "[I 2024-10-03 05:53:05,478] Trial 394 finished with value: 0.701639344262295 and parameters: {'lr': 6.991041142281555e-05, 'weight_decay': 0.0007786203201730549}. Best is trial 168 with value: 0.8083333333333335.\n",
      "WARNING: Maximum number of iterations 32 reached. The mean may be inaccurate\n"
     ]
    },
    {
     "name": "stdout",
     "output_type": "stream",
     "text": [
      "SVD 수렴 문제 발생: SVD did not converge. 계속 진행합니다.\n"
     ]
    },
    {
     "name": "stderr",
     "output_type": "stream",
     "text": [
      "[I 2024-10-03 06:03:03,317] Trial 395 finished with value: 0.6159250585480094 and parameters: {'lr': 0.0008744783561528947, 'weight_decay': 0.0006232551926838659}. Best is trial 168 with value: 0.8083333333333335.\n",
      "WARNING: Maximum number of iterations 32 reached. The mean may be inaccurate\n",
      "[I 2024-10-03 06:13:05,158] Trial 396 finished with value: 0.6924277907884465 and parameters: {'lr': 2.3716602368753644e-06, 'weight_decay': 0.0026289579767572045}. Best is trial 168 with value: 0.8083333333333335.\n"
     ]
    },
    {
     "name": "stdout",
     "output_type": "stream",
     "text": [
      "SVD 수렴 문제 발생: SVD did not converge. 계속 진행합니다.\n"
     ]
    },
    {
     "name": "stderr",
     "output_type": "stream",
     "text": [
      "WARNING: Maximum number of iterations 32 reached. The mean may be inaccurate\n"
     ]
    },
    {
     "name": "stdout",
     "output_type": "stream",
     "text": [
      "SVD 수렴 문제 발생: SVD did not converge. 계속 진행합니다.\n"
     ]
    },
    {
     "name": "stderr",
     "output_type": "stream",
     "text": [
      "[I 2024-10-03 06:23:01,103] Trial 397 finished with value: 0.8241935483870967 and parameters: {'lr': 1.2692342811403879e-05, 'weight_decay': 0.0013424602916818711}. Best is trial 397 with value: 0.8241935483870967.\n",
      "WARNING: Maximum number of iterations 32 reached. The mean may be inaccurate\n"
     ]
    },
    {
     "name": "stdout",
     "output_type": "stream",
     "text": [
      "SVD 수렴 문제 발생: SVD did not converge. 계속 진행합니다.\n"
     ]
    },
    {
     "name": "stderr",
     "output_type": "stream",
     "text": [
      "[I 2024-10-03 06:33:00,198] Trial 398 finished with value: 0.7515151515151515 and parameters: {'lr': 3.8512704757981574e-05, 'weight_decay': 0.0013192322513580755}. Best is trial 397 with value: 0.8241935483870967.\n",
      "WARNING: Maximum number of iterations 32 reached. The mean may be inaccurate\n"
     ]
    },
    {
     "name": "stdout",
     "output_type": "stream",
     "text": [
      "SVD 수렴 문제 발생: SVD did not converge. 계속 진행합니다.\n"
     ]
    },
    {
     "name": "stderr",
     "output_type": "stream",
     "text": [
      "[I 2024-10-03 06:42:59,808] Trial 399 finished with value: 0.6955503512880562 and parameters: {'lr': 3.678257098687824e-05, 'weight_decay': 0.0010913174961678757}. Best is trial 397 with value: 0.8241935483870967.\n",
      "WARNING: Maximum number of iterations 32 reached. The mean may be inaccurate\n"
     ]
    },
    {
     "name": "stdout",
     "output_type": "stream",
     "text": [
      "SVD 수렴 문제 발생: SVD did not converge. 계속 진행합니다.\n"
     ]
    },
    {
     "name": "stderr",
     "output_type": "stream",
     "text": [
      "[I 2024-10-03 06:53:03,189] Trial 400 finished with value: 0.667741935483871 and parameters: {'lr': 3.0260778087904053e-05, 'weight_decay': 0.0014205620978896337}. Best is trial 397 with value: 0.8241935483870967.\n",
      "WARNING: Maximum number of iterations 32 reached. The mean may be inaccurate\n"
     ]
    },
    {
     "name": "stdout",
     "output_type": "stream",
     "text": [
      "SVD 수렴 문제 발생: SVD did not converge. 계속 진행합니다.\n"
     ]
    },
    {
     "name": "stderr",
     "output_type": "stream",
     "text": [
      "[I 2024-10-03 07:03:05,392] Trial 401 finished with value: 0.667741935483871 and parameters: {'lr': 2.5916681252950215e-05, 'weight_decay': 0.0016654660576602936}. Best is trial 397 with value: 0.8241935483870967.\n",
      "WARNING: Maximum number of iterations 32 reached. The mean may be inaccurate\n"
     ]
    },
    {
     "name": "stdout",
     "output_type": "stream",
     "text": [
      "SVD 수렴 문제 발생: SVD did not converge. 계속 진행합니다.\n"
     ]
    },
    {
     "name": "stderr",
     "output_type": "stream",
     "text": [
      "[I 2024-10-03 07:12:59,090] Trial 402 finished with value: 0.6543846720707442 and parameters: {'lr': 4.3750926730393745e-05, 'weight_decay': 0.0013167071413110237}. Best is trial 397 with value: 0.8241935483870967.\n",
      "WARNING: Maximum number of iterations 32 reached. The mean may be inaccurate\n",
      "[I 2024-10-03 07:22:59,616] Trial 403 finished with value: 0.6870967741935484 and parameters: {'lr': 5.3505006645382714e-05, 'weight_decay': 0.001897687729385609}. Best is trial 397 with value: 0.8241935483870967.\n"
     ]
    },
    {
     "name": "stdout",
     "output_type": "stream",
     "text": [
      "SVD 수렴 문제 발생: SVD did not converge. 계속 진행합니다.\n"
     ]
    },
    {
     "name": "stderr",
     "output_type": "stream",
     "text": [
      "WARNING: Maximum number of iterations 32 reached. The mean may be inaccurate\n"
     ]
    },
    {
     "name": "stdout",
     "output_type": "stream",
     "text": [
      "SVD 수렴 문제 발생: SVD did not converge. 계속 진행합니다.\n"
     ]
    },
    {
     "name": "stderr",
     "output_type": "stream",
     "text": [
      "[I 2024-10-03 07:33:02,756] Trial 404 finished with value: 0.6599832915622389 and parameters: {'lr': 1.3464863198075428e-05, 'weight_decay': 0.0012494361344518074}. Best is trial 397 with value: 0.8241935483870967.\n",
      "WARNING: Maximum number of iterations 32 reached. The mean may be inaccurate\n"
     ]
    },
    {
     "name": "stdout",
     "output_type": "stream",
     "text": [
      "SVD 수렴 문제 발생: SVD did not converge. 계속 진행합니다.\n"
     ]
    },
    {
     "name": "stderr",
     "output_type": "stream",
     "text": [
      "[I 2024-10-03 07:42:56,639] Trial 405 finished with value: 0.6836065573770492 and parameters: {'lr': 1.8306913657803888e-05, 'weight_decay': 0.001252002581753973}. Best is trial 397 with value: 0.8241935483870967.\n",
      "WARNING: Maximum number of iterations 32 reached. The mean may be inaccurate\n"
     ]
    },
    {
     "name": "stdout",
     "output_type": "stream",
     "text": [
      "SVD 수렴 문제 발생: SVD did not converge. 계속 진행합니다.\n"
     ]
    },
    {
     "name": "stderr",
     "output_type": "stream",
     "text": [
      "[I 2024-10-03 07:52:47,315] Trial 406 finished with value: 0.7619047619047619 and parameters: {'lr': 6.377563357993875e-06, 'weight_decay': 0.0015185257125963682}. Best is trial 397 with value: 0.8241935483870967.\n",
      "WARNING: Maximum number of iterations 32 reached. The mean may be inaccurate\n"
     ]
    },
    {
     "name": "stdout",
     "output_type": "stream",
     "text": [
      "SVD 수렴 문제 발생: SVD did not converge. 계속 진행합니다.\n"
     ]
    },
    {
     "name": "stderr",
     "output_type": "stream",
     "text": [
      "[I 2024-10-03 08:02:42,841] Trial 407 finished with value: 0.5709677419354839 and parameters: {'lr': 6.46348672554084e-06, 'weight_decay': 0.001796124671809795}. Best is trial 397 with value: 0.8241935483870967.\n",
      "WARNING: Maximum number of iterations 32 reached. The mean may be inaccurate\n"
     ]
    },
    {
     "name": "stdout",
     "output_type": "stream",
     "text": [
      "SVD 수렴 문제 발생: SVD did not converge. 계속 진행합니다.\n"
     ]
    },
    {
     "name": "stderr",
     "output_type": "stream",
     "text": [
      "[I 2024-10-03 08:12:42,722] Trial 408 finished with value: 0.6697892271662763 and parameters: {'lr': 1.1877098460655883e-05, 'weight_decay': 0.0013094348979994603}. Best is trial 397 with value: 0.8241935483870967.\n",
      "WARNING: Maximum number of iterations 32 reached. The mean may be inaccurate\n",
      "[I 2024-10-03 08:22:39,079] Trial 409 finished with value: 0.5984848484848485 and parameters: {'lr': 4.227210311447556e-06, 'weight_decay': 0.0014823023488384735}. Best is trial 397 with value: 0.8241935483870967.\n"
     ]
    },
    {
     "name": "stdout",
     "output_type": "stream",
     "text": [
      "SVD 수렴 문제 발생: SVD did not converge. 계속 진행합니다.\n"
     ]
    },
    {
     "name": "stderr",
     "output_type": "stream",
     "text": [
      "WARNING: Maximum number of iterations 32 reached. The mean may be inaccurate\n"
     ]
    },
    {
     "name": "stdout",
     "output_type": "stream",
     "text": [
      "SVD 수렴 문제 발생: SVD did not converge. 계속 진행합니다.\n"
     ]
    },
    {
     "name": "stderr",
     "output_type": "stream",
     "text": [
      "[I 2024-10-03 08:32:34,413] Trial 410 finished with value: 0.6291959406713505 and parameters: {'lr': 7.617710138134839e-06, 'weight_decay': 0.000996578203986436}. Best is trial 397 with value: 0.8241935483870967.\n",
      "WARNING: Maximum number of iterations 32 reached. The mean may be inaccurate\n"
     ]
    },
    {
     "name": "stdout",
     "output_type": "stream",
     "text": [
      "SVD 수렴 문제 발생: SVD did not converge. 계속 진행합니다.\n"
     ]
    },
    {
     "name": "stderr",
     "output_type": "stream",
     "text": [
      "[I 2024-10-03 08:42:32,899] Trial 411 finished with value: 0.6272727272727273 and parameters: {'lr': 5.629118795569834e-06, 'weight_decay': 0.0016102672487193117}. Best is trial 397 with value: 0.8241935483870967.\n",
      "WARNING: Maximum number of iterations 32 reached. The mean may be inaccurate\n"
     ]
    },
    {
     "name": "stdout",
     "output_type": "stream",
     "text": [
      "SVD 수렴 문제 발생: SVD did not converge. 계속 진행합니다.\n"
     ]
    },
    {
     "name": "stderr",
     "output_type": "stream",
     "text": [
      "[I 2024-10-03 08:52:29,307] Trial 412 finished with value: 0.6451612903225806 and parameters: {'lr': 3.3391121161360935e-06, 'weight_decay': 0.0021380847602535586}. Best is trial 397 with value: 0.8241935483870967.\n",
      "WARNING: Maximum number of iterations 32 reached. The mean may be inaccurate\n"
     ]
    },
    {
     "name": "stdout",
     "output_type": "stream",
     "text": [
      "SVD 수렴 문제 발생: SVD did not converge. 계속 진행합니다.\n"
     ]
    },
    {
     "name": "stderr",
     "output_type": "stream",
     "text": [
      "[I 2024-10-03 09:00:54,404] Trial 413 finished with value: 0.6198282591725215 and parameters: {'lr': 2.317659589964485e-05, 'weight_decay': 0.0011384286983052683}. Best is trial 397 with value: 0.8241935483870967.\n",
      "WARNING: Maximum number of iterations 32 reached. The mean may be inaccurate\n",
      "[I 2024-10-03 09:05:49,263] Trial 414 finished with value: 0.5975806451612904 and parameters: {'lr': 1.7719794385615704e-06, 'weight_decay': 0.0009337086139186508}. Best is trial 397 with value: 0.8241935483870967.\n"
     ]
    },
    {
     "name": "stdout",
     "output_type": "stream",
     "text": [
      "SVD 수렴 문제 발생: SVD did not converge. 계속 진행합니다.\n"
     ]
    },
    {
     "name": "stderr",
     "output_type": "stream",
     "text": [
      "WARNING: Maximum number of iterations 32 reached. The mean may be inaccurate\n"
     ]
    },
    {
     "name": "stdout",
     "output_type": "stream",
     "text": [
      "SVD 수렴 문제 발생: SVD did not converge. 계속 진행합니다.\n"
     ]
    },
    {
     "name": "stderr",
     "output_type": "stream",
     "text": [
      "[I 2024-10-03 09:10:41,715] Trial 415 finished with value: 0.556060606060606 and parameters: {'lr': 8.79401893914396e-06, 'weight_decay': 0.0014957929794664844}. Best is trial 397 with value: 0.8241935483870967.\n",
      "WARNING: Maximum number of iterations 32 reached. The mean may be inaccurate\n"
     ]
    },
    {
     "name": "stdout",
     "output_type": "stream",
     "text": [
      "SVD 수렴 문제 발생: SVD did not converge. 계속 진행합니다.\n"
     ]
    },
    {
     "name": "stderr",
     "output_type": "stream",
     "text": [
      "[I 2024-10-03 09:15:36,857] Trial 416 finished with value: 0.7068181818181818 and parameters: {'lr': 1.0306723098725282e-05, 'weight_decay': 0.0010865344689962614}. Best is trial 397 with value: 0.8241935483870967.\n",
      "WARNING: Maximum number of iterations 32 reached. The mean may be inaccurate\n"
     ]
    },
    {
     "name": "stdout",
     "output_type": "stream",
     "text": [
      "SVD 수렴 문제 발생: SVD did not converge. 계속 진행합니다.\n"
     ]
    },
    {
     "name": "stderr",
     "output_type": "stream",
     "text": [
      "[I 2024-10-03 09:20:31,685] Trial 417 finished with value: 0.6121212121212121 and parameters: {'lr': 3.907687956225879e-06, 'weight_decay': 0.000865484264642695}. Best is trial 397 with value: 0.8241935483870967.\n",
      "WARNING: Maximum number of iterations 32 reached. The mean may be inaccurate\n"
     ]
    },
    {
     "name": "stdout",
     "output_type": "stream",
     "text": [
      "SVD 수렴 문제 발생: SVD did not converge. 계속 진행합니다.\n"
     ]
    },
    {
     "name": "stderr",
     "output_type": "stream",
     "text": [
      "[I 2024-10-03 09:25:25,352] Trial 418 finished with value: 0.6371212121212121 and parameters: {'lr': 1.5459860643361105e-05, 'weight_decay': 0.0007628604808852468}. Best is trial 397 with value: 0.8241935483870967.\n",
      "WARNING: Maximum number of iterations 32 reached. The mean may be inaccurate\n"
     ]
    },
    {
     "name": "stdout",
     "output_type": "stream",
     "text": [
      "SVD 수렴 문제 발생: SVD did not converge. 계속 진행합니다.\n"
     ]
    },
    {
     "name": "stderr",
     "output_type": "stream",
     "text": [
      "[I 2024-10-03 09:30:18,842] Trial 419 finished with value: 0.6861826697892272 and parameters: {'lr': 4.774384976083244e-06, 'weight_decay': 0.0010347155032875064}. Best is trial 397 with value: 0.8241935483870967.\n",
      "WARNING: Maximum number of iterations 32 reached. The mean may be inaccurate\n"
     ]
    },
    {
     "name": "stdout",
     "output_type": "stream",
     "text": [
      "SVD 수렴 문제 발생: SVD did not converge. 계속 진행합니다.\n"
     ]
    },
    {
     "name": "stderr",
     "output_type": "stream",
     "text": [
      "[I 2024-10-03 09:35:13,175] Trial 420 finished with value: 0.5540983606557377 and parameters: {'lr': 2.9871535894158695e-06, 'weight_decay': 0.0013616359197265579}. Best is trial 397 with value: 0.8241935483870967.\n",
      "WARNING: Maximum number of iterations 32 reached. The mean may be inaccurate\n"
     ]
    },
    {
     "name": "stdout",
     "output_type": "stream",
     "text": [
      "SVD 수렴 문제 발생: SVD did not converge. 계속 진행합니다.\n"
     ]
    },
    {
     "name": "stderr",
     "output_type": "stream",
     "text": [
      "[I 2024-10-03 09:40:07,461] Trial 421 finished with value: 0.728225806451613 and parameters: {'lr': 3.078798041805859e-05, 'weight_decay': 0.00012795632544284542}. Best is trial 397 with value: 0.8241935483870967.\n",
      "WARNING: Maximum number of iterations 32 reached. The mean may be inaccurate\n"
     ]
    },
    {
     "name": "stdout",
     "output_type": "stream",
     "text": [
      "SVD 수렴 문제 발생: SVD did not converge. 계속 진행합니다.\n"
     ]
    },
    {
     "name": "stderr",
     "output_type": "stream",
     "text": [
      "[I 2024-10-03 09:45:00,665] Trial 422 finished with value: 0.7291178766588603 and parameters: {'lr': 3.587728969113008e-05, 'weight_decay': 0.00010670450766947468}. Best is trial 397 with value: 0.8241935483870967.\n",
      "WARNING: Maximum number of iterations 32 reached. The mean may be inaccurate\n"
     ]
    },
    {
     "name": "stdout",
     "output_type": "stream",
     "text": [
      "SVD 수렴 문제 발생: SVD did not converge. 계속 진행합니다.\n"
     ]
    },
    {
     "name": "stderr",
     "output_type": "stream",
     "text": [
      "[I 2024-10-03 09:49:53,974] Trial 423 finished with value: 0.5932864949258392 and parameters: {'lr': 3.834261124703079e-05, 'weight_decay': 8.53082004044731e-05}. Best is trial 397 with value: 0.8241935483870967.\n",
      "WARNING: Maximum number of iterations 32 reached. The mean may be inaccurate\n"
     ]
    },
    {
     "name": "stdout",
     "output_type": "stream",
     "text": [
      "SVD 수렴 문제 발생: SVD did not converge. 계속 진행합니다.\n"
     ]
    },
    {
     "name": "stderr",
     "output_type": "stream",
     "text": [
      "[I 2024-10-03 09:54:47,854] Trial 424 finished with value: 0.6492424242424243 and parameters: {'lr': 5.6003096540526366e-05, 'weight_decay': 0.00011528202297717521}. Best is trial 397 with value: 0.8241935483870967.\n",
      "WARNING: Maximum number of iterations 32 reached. The mean may be inaccurate\n"
     ]
    },
    {
     "name": "stdout",
     "output_type": "stream",
     "text": [
      "SVD 수렴 문제 발생: SVD did not converge. 계속 진행합니다.\n"
     ]
    },
    {
     "name": "stderr",
     "output_type": "stream",
     "text": [
      "[I 2024-10-03 09:59:41,909] Trial 425 finished with value: 0.5995316159250587 and parameters: {'lr': 3.0361840424787342e-05, 'weight_decay': 0.00013265814501102293}. Best is trial 397 with value: 0.8241935483870967.\n",
      "WARNING: Maximum number of iterations 32 reached. The mean may be inaccurate\n",
      "[I 2024-10-03 10:04:38,647] Trial 426 finished with value: 0.7548387096774193 and parameters: {'lr': 3.408176356943385e-05, 'weight_decay': 0.0001103718646897011}. Best is trial 397 with value: 0.8241935483870967.\n"
     ]
    },
    {
     "name": "stdout",
     "output_type": "stream",
     "text": [
      "SVD 수렴 문제 발생: SVD did not converge. 계속 진행합니다.\n"
     ]
    },
    {
     "name": "stderr",
     "output_type": "stream",
     "text": [
      "WARNING: Maximum number of iterations 32 reached. The mean may be inaccurate\n"
     ]
    },
    {
     "name": "stdout",
     "output_type": "stream",
     "text": [
      "SVD 수렴 문제 발생: SVD did not converge. 계속 진행합니다.\n"
     ]
    },
    {
     "name": "stderr",
     "output_type": "stream",
     "text": [
      "[I 2024-10-03 10:09:31,512] Trial 427 finished with value: 0.6466165413533835 and parameters: {'lr': 3.499061003622314e-05, 'weight_decay': 0.00015132323178912885}. Best is trial 397 with value: 0.8241935483870967.\n",
      "WARNING: Maximum number of iterations 32 reached. The mean may be inaccurate\n"
     ]
    },
    {
     "name": "stdout",
     "output_type": "stream",
     "text": [
      "SVD 수렴 문제 발생: SVD did not converge. 계속 진행합니다.\n"
     ]
    },
    {
     "name": "stderr",
     "output_type": "stream",
     "text": [
      "[I 2024-10-03 10:14:24,952] Trial 428 finished with value: 0.6167056986729118 and parameters: {'lr': 3.9458418753526206e-05, 'weight_decay': 9.911022667055389e-05}. Best is trial 397 with value: 0.8241935483870967.\n",
      "WARNING: Maximum number of iterations 32 reached. The mean may be inaccurate\n",
      "[I 2024-10-03 10:19:19,998] Trial 429 finished with value: 0.6854020296643247 and parameters: {'lr': 2.7561215207717182e-05, 'weight_decay': 5.79806702340491e-05}. Best is trial 397 with value: 0.8241935483870967.\n"
     ]
    },
    {
     "name": "stdout",
     "output_type": "stream",
     "text": [
      "SVD 수렴 문제 발생: SVD did not converge. 계속 진행합니다.\n"
     ]
    },
    {
     "name": "stderr",
     "output_type": "stream",
     "text": [
      "WARNING: Maximum number of iterations 32 reached. The mean may be inaccurate\n"
     ]
    },
    {
     "name": "stdout",
     "output_type": "stream",
     "text": [
      "SVD 수렴 문제 발생: SVD did not converge. 계속 진행합니다.\n"
     ]
    },
    {
     "name": "stderr",
     "output_type": "stream",
     "text": [
      "[I 2024-10-03 10:24:12,273] Trial 430 finished with value: 0.6854020296643247 and parameters: {'lr': 4.066563344619345e-05, 'weight_decay': 0.00011341132462978895}. Best is trial 397 with value: 0.8241935483870967.\n",
      "WARNING: Maximum number of iterations 32 reached. The mean may be inaccurate\n"
     ]
    },
    {
     "name": "stdout",
     "output_type": "stream",
     "text": [
      "SVD 수렴 문제 발생: SVD did not converge. 계속 진행합니다.\n"
     ]
    },
    {
     "name": "stderr",
     "output_type": "stream",
     "text": [
      "[I 2024-10-03 10:39:13,132] Trial 431 finished with value: 0.6908665105386416 and parameters: {'lr': 4.7283095811550325e-05, 'weight_decay': 7.989926608408595e-05}. Best is trial 397 with value: 0.8241935483870967.\n",
      "WARNING: Maximum number of iterations 32 reached. The mean may be inaccurate\n"
     ]
    },
    {
     "name": "stdout",
     "output_type": "stream",
     "text": [
      "SVD 수렴 문제 발생: SVD did not converge. 계속 진행합니다.\n"
     ]
    },
    {
     "name": "stderr",
     "output_type": "stream",
     "text": [
      "WARNING: Maximum number of iterations 32 reached. The mean may be inaccurate\n"
     ]
    },
    {
     "name": "stdout",
     "output_type": "stream",
     "text": [
      "SVD 수렴 문제 발생: SVD did not converge. 계속 진행합니다.\n"
     ]
    },
    {
     "name": "stderr",
     "output_type": "stream",
     "text": [
      "[I 2024-10-03 11:28:50,711] Trial 433 finished with value: 0.7056986729117877 and parameters: {'lr': 2.2483927592702723e-05, 'weight_decay': 0.00010699754987972462}. Best is trial 397 with value: 0.8241935483870967.\n",
      "WARNING: Maximum number of iterations 32 reached. The mean may be inaccurate\n"
     ]
    },
    {
     "name": "stdout",
     "output_type": "stream",
     "text": [
      "SVD 수렴 문제 발생: SVD did not converge. 계속 진행합니다.\n"
     ]
    },
    {
     "name": "stderr",
     "output_type": "stream",
     "text": [
      "[I 2024-10-03 11:53:41,764] Trial 434 finished with value: 0.6371212121212121 and parameters: {'lr': 3.4283640336439434e-05, 'weight_decay': 0.00017186394807063287}. Best is trial 397 with value: 0.8241935483870967.\n",
      "WARNING: Maximum number of iterations 32 reached. The mean may be inaccurate\n"
     ]
    },
    {
     "name": "stdout",
     "output_type": "stream",
     "text": [
      "SVD 수렴 문제 발생: SVD did not converge. 계속 진행합니다.\n"
     ]
    },
    {
     "name": "stderr",
     "output_type": "stream",
     "text": [
      "[I 2024-10-03 12:18:32,740] Trial 435 finished with value: 0.7730287398673544 and parameters: {'lr': 4.73136322033185e-05, 'weight_decay': 0.0001059780052458442}. Best is trial 397 with value: 0.8241935483870967.\n",
      "WARNING: Maximum number of iterations 32 reached. The mean may be inaccurate\n"
     ]
    },
    {
     "name": "stdout",
     "output_type": "stream",
     "text": [
      "SVD 수렴 문제 발생: SVD did not converge. 계속 진행합니다.\n"
     ]
    },
    {
     "name": "stderr",
     "output_type": "stream",
     "text": [
      "[I 2024-10-03 12:43:26,603] Trial 436 finished with value: 0.6462121212121211 and parameters: {'lr': 5.24148324006334e-05, 'weight_decay': 7.14867447879181e-05}. Best is trial 397 with value: 0.8241935483870967.\n",
      "WARNING: Maximum number of iterations 32 reached. The mean may be inaccurate\n"
     ]
    },
    {
     "name": "stdout",
     "output_type": "stream",
     "text": [
      "SVD 수렴 문제 발생: SVD did not converge. 계속 진행합니다.\n"
     ]
    },
    {
     "name": "stderr",
     "output_type": "stream",
     "text": [
      "[I 2024-10-03 13:08:30,271] Trial 437 finished with value: 0.6901515151515152 and parameters: {'lr': 4.043410753151479e-05, 'weight_decay': 9.240773561888499e-05}. Best is trial 397 with value: 0.8241935483870967.\n",
      "WARNING: Maximum number of iterations 32 reached. The mean may be inaccurate\n"
     ]
    },
    {
     "name": "stdout",
     "output_type": "stream",
     "text": [
      "SVD 수렴 문제 발생: SVD did not converge. 계속 진행합니다.\n"
     ]
    },
    {
     "name": "stderr",
     "output_type": "stream",
     "text": [
      "[I 2024-10-03 13:33:36,071] Trial 438 finished with value: 0.6553030303030303 and parameters: {'lr': 4.1751927216491616e-05, 'weight_decay': 0.0001330083027333515}. Best is trial 397 with value: 0.8241935483870967.\n",
      "WARNING: Maximum number of iterations 32 reached. The mean may be inaccurate\n"
     ]
    },
    {
     "name": "stdout",
     "output_type": "stream",
     "text": [
      "SVD 수렴 문제 발생: SVD did not converge. 계속 진행합니다.\n"
     ]
    },
    {
     "name": "stderr",
     "output_type": "stream",
     "text": [
      "[I 2024-10-03 13:58:45,406] Trial 439 finished with value: 0.5622697126013265 and parameters: {'lr': 4.3729670332563736e-05, 'weight_decay': 6.625494546815314e-05}. Best is trial 397 with value: 0.8241935483870967.\n",
      "WARNING: Maximum number of iterations 32 reached. The mean may be inaccurate\n"
     ]
    },
    {
     "name": "stdout",
     "output_type": "stream",
     "text": [
      "SVD 수렴 문제 발생: SVD did not converge. 계속 진행합니다.\n"
     ]
    },
    {
     "name": "stderr",
     "output_type": "stream",
     "text": [
      "[I 2024-10-03 14:23:49,777] Trial 440 finished with value: 0.7435483870967742 and parameters: {'lr': 3.261775493223331e-05, 'weight_decay': 0.00020271467240295102}. Best is trial 397 with value: 0.8241935483870967.\n",
      "WARNING: Maximum number of iterations 32 reached. The mean may be inaccurate\n"
     ]
    },
    {
     "name": "stdout",
     "output_type": "stream",
     "text": [
      "SVD 수렴 문제 발생: SVD did not converge. 계속 진행합니다.\n"
     ]
    },
    {
     "name": "stderr",
     "output_type": "stream",
     "text": [
      "[I 2024-10-03 14:49:00,463] Trial 441 finished with value: 0.7096018735362998 and parameters: {'lr': 3.0480609536841207e-05, 'weight_decay': 0.00022062842012784262}. Best is trial 397 with value: 0.8241935483870967.\n",
      "WARNING: Maximum number of iterations 32 reached. The mean may be inaccurate\n"
     ]
    },
    {
     "name": "stdout",
     "output_type": "stream",
     "text": [
      "SVD 수렴 문제 발생: SVD did not converge. 계속 진행합니다.\n"
     ]
    },
    {
     "name": "stderr",
     "output_type": "stream",
     "text": [
      "[I 2024-10-03 15:14:00,741] Trial 442 finished with value: 0.6612903225806451 and parameters: {'lr': 4.678680383602194e-05, 'weight_decay': 0.00017664617712333426}. Best is trial 397 with value: 0.8241935483870967.\n",
      "WARNING: Maximum number of iterations 32 reached. The mean may be inaccurate\n"
     ]
    },
    {
     "name": "stdout",
     "output_type": "stream",
     "text": [
      "SVD 수렴 문제 발생: SVD did not converge. 계속 진행합니다.\n"
     ]
    },
    {
     "name": "stderr",
     "output_type": "stream",
     "text": [
      "[I 2024-10-03 15:39:04,676] Trial 443 finished with value: 0.5917252146760343 and parameters: {'lr': 1.916934217910607e-06, 'weight_decay': 0.00021508913191399444}. Best is trial 397 with value: 0.8241935483870967.\n",
      "WARNING: Maximum number of iterations 32 reached. The mean may be inaccurate\n"
     ]
    },
    {
     "name": "stdout",
     "output_type": "stream",
     "text": [
      "SVD 수렴 문제 발생: SVD did not converge. 계속 진행합니다.\n"
     ]
    },
    {
     "name": "stderr",
     "output_type": "stream",
     "text": [
      "[I 2024-10-03 16:04:03,266] Trial 444 finished with value: 0.5725865880619012 and parameters: {'lr': 6.379780676898705e-05, 'weight_decay': 0.0002009312425046382}. Best is trial 397 with value: 0.8241935483870967.\n",
      "WARNING: Maximum number of iterations 32 reached. The mean may be inaccurate\n"
     ]
    },
    {
     "name": "stdout",
     "output_type": "stream",
     "text": [
      "SVD 수렴 문제 발생: SVD did not converge. 계속 진행합니다.\n"
     ]
    },
    {
     "name": "stderr",
     "output_type": "stream",
     "text": [
      "[I 2024-10-03 16:29:14,267] Trial 445 finished with value: 0.7742424242424242 and parameters: {'lr': 2.5441686343766777e-06, 'weight_decay': 0.0001309927123466269}. Best is trial 397 with value: 0.8241935483870967.\n",
      "WARNING: Maximum number of iterations 32 reached. The mean may be inaccurate\n"
     ]
    },
    {
     "name": "stdout",
     "output_type": "stream",
     "text": [
      "SVD 수렴 문제 발생: SVD did not converge. 계속 진행합니다.\n"
     ]
    },
    {
     "name": "stderr",
     "output_type": "stream",
     "text": [
      "[I 2024-10-03 16:54:23,795] Trial 446 finished with value: 0.7270491803278689 and parameters: {'lr': 2.4154059771070054e-06, 'weight_decay': 0.00014669872727512544}. Best is trial 397 with value: 0.8241935483870967.\n",
      "WARNING: Maximum number of iterations 32 reached. The mean may be inaccurate\n"
     ]
    },
    {
     "name": "stdout",
     "output_type": "stream",
     "text": [
      "SVD 수렴 문제 발생: SVD did not converge. 계속 진행합니다.\n"
     ]
    },
    {
     "name": "stderr",
     "output_type": "stream",
     "text": [
      "[I 2024-10-03 17:19:19,809] Trial 447 finished with value: 0.582258064516129 and parameters: {'lr': 2.4764726570024388e-06, 'weight_decay': 0.0001461781548153526}. Best is trial 397 with value: 0.8241935483870967.\n",
      "WARNING: Maximum number of iterations 32 reached. The mean may be inaccurate\n"
     ]
    },
    {
     "name": "stdout",
     "output_type": "stream",
     "text": [
      "SVD 수렴 문제 발생: SVD did not converge. 계속 진행합니다.\n"
     ]
    },
    {
     "name": "stderr",
     "output_type": "stream",
     "text": [
      "[I 2024-10-03 17:43:59,901] Trial 448 finished with value: 0.7244340359094458 and parameters: {'lr': 2.9708378713446525e-06, 'weight_decay': 0.00012010873967811617}. Best is trial 397 with value: 0.8241935483870967.\n",
      "WARNING: Maximum number of iterations 32 reached. The mean may be inaccurate\n"
     ]
    },
    {
     "name": "stdout",
     "output_type": "stream",
     "text": [
      "SVD 수렴 문제 발생: SVD did not converge. 계속 진행합니다.\n"
     ]
    },
    {
     "name": "stderr",
     "output_type": "stream",
     "text": [
      "[I 2024-10-03 18:07:46,630] Trial 449 finished with value: 0.6479313036690086 and parameters: {'lr': 2.1872064799254113e-06, 'weight_decay': 0.00014350922397924913}. Best is trial 397 with value: 0.8241935483870967.\n",
      "WARNING: Maximum number of iterations 32 reached. The mean may be inaccurate\n",
      "[I 2024-10-03 18:27:02,458] Trial 450 finished with value: 0.6252927400468383 and parameters: {'lr': 1.4597979449270906e-06, 'weight_decay': 0.00012906448748854855}. Best is trial 397 with value: 0.8241935483870967.\n"
     ]
    },
    {
     "name": "stdout",
     "output_type": "stream",
     "text": [
      "SVD 수렴 문제 발생: SVD did not converge. 계속 진행합니다.\n"
     ]
    },
    {
     "name": "stderr",
     "output_type": "stream",
     "text": [
      "WARNING: Maximum number of iterations 32 reached. The mean may be inaccurate\n"
     ]
    },
    {
     "name": "stdout",
     "output_type": "stream",
     "text": [
      "SVD 수렴 문제 발생: SVD did not converge. 계속 진행합니다.\n"
     ]
    },
    {
     "name": "stderr",
     "output_type": "stream",
     "text": [
      "[I 2024-10-03 18:46:13,093] Trial 451 finished with value: 0.6545454545454545 and parameters: {'lr': 0.0013908805751761206, 'weight_decay': 9.773142537157632e-05}. Best is trial 397 with value: 0.8241935483870967.\n",
      "WARNING: Maximum number of iterations 32 reached. The mean may be inaccurate\n"
     ]
    },
    {
     "name": "stdout",
     "output_type": "stream",
     "text": [
      "SVD 수렴 문제 발생: SVD did not converge. 계속 진행합니다.\n"
     ]
    },
    {
     "name": "stderr",
     "output_type": "stream",
     "text": [
      "[I 2024-10-03 19:05:22,918] Trial 452 finished with value: 0.5840909090909091 and parameters: {'lr': 3.6694940012439755e-06, 'weight_decay': 0.00029150068469690235}. Best is trial 397 with value: 0.8241935483870967.\n",
      "WARNING: Maximum number of iterations 32 reached. The mean may be inaccurate\n"
     ]
    },
    {
     "name": "stdout",
     "output_type": "stream",
     "text": [
      "SVD 수렴 문제 발생: SVD did not converge. 계속 진행합니다.\n"
     ]
    },
    {
     "name": "stderr",
     "output_type": "stream",
     "text": [
      "[I 2024-10-03 19:24:40,875] Trial 453 finished with value: 0.6744730679156908 and parameters: {'lr': 1.8797361522304322e-06, 'weight_decay': 0.00015726002963908163}. Best is trial 397 with value: 0.8241935483870967.\n",
      "WARNING: Maximum number of iterations 32 reached. The mean may be inaccurate\n"
     ]
    },
    {
     "name": "stdout",
     "output_type": "stream",
     "text": [
      "SVD 수렴 문제 발생: SVD did not converge. 계속 진행합니다.\n"
     ]
    },
    {
     "name": "stderr",
     "output_type": "stream",
     "text": [
      "[I 2024-10-03 19:44:07,542] Trial 454 finished with value: 0.6222410865874363 and parameters: {'lr': 3.1205811156978946e-06, 'weight_decay': 0.00020280423447067644}. Best is trial 397 with value: 0.8241935483870967.\n",
      "WARNING: Maximum number of iterations 32 reached. The mean may be inaccurate\n"
     ]
    },
    {
     "name": "stdout",
     "output_type": "stream",
     "text": [
      "SVD 수렴 문제 발생: SVD did not converge. 계속 진행합니다.\n"
     ]
    },
    {
     "name": "stderr",
     "output_type": "stream",
     "text": [
      "[I 2024-10-03 20:03:30,591] Trial 455 finished with value: 0.6249078850405305 and parameters: {'lr': 1.7418680260476095e-06, 'weight_decay': 0.0002556166310253741}. Best is trial 397 with value: 0.8241935483870967.\n",
      "WARNING: Maximum number of iterations 32 reached. The mean may be inaccurate\n"
     ]
    },
    {
     "name": "stdout",
     "output_type": "stream",
     "text": [
      "SVD 수렴 문제 발생: SVD did not converge. 계속 진행합니다.\n"
     ]
    },
    {
     "name": "stderr",
     "output_type": "stream",
     "text": [
      "[I 2024-10-03 20:22:53,544] Trial 456 finished with value: 0.5902726602800294 and parameters: {'lr': 1.2234291688480093e-06, 'weight_decay': 0.00017636055533421636}. Best is trial 397 with value: 0.8241935483870967.\n",
      "WARNING: Maximum number of iterations 32 reached. The mean may be inaccurate\n"
     ]
    },
    {
     "name": "stdout",
     "output_type": "stream",
     "text": [
      "SVD 수렴 문제 발생: SVD did not converge. 계속 진행합니다.\n"
     ]
    },
    {
     "name": "stderr",
     "output_type": "stream",
     "text": [
      "[I 2024-10-03 20:42:22,724] Trial 457 finished with value: 0.7354458364038321 and parameters: {'lr': 5.846375715786528e-06, 'weight_decay': 0.0015641198190085278}. Best is trial 397 with value: 0.8241935483870967.\n",
      "WARNING: Maximum number of iterations 32 reached. The mean may be inaccurate\n"
     ]
    },
    {
     "name": "stdout",
     "output_type": "stream",
     "text": [
      "SVD 수렴 문제 발생: SVD did not converge. 계속 진행합니다.\n"
     ]
    },
    {
     "name": "stderr",
     "output_type": "stream",
     "text": [
      "[I 2024-10-03 21:01:57,676] Trial 458 finished with value: 0.6825396825396826 and parameters: {'lr': 4.904998489222112e-06, 'weight_decay': 0.001983911588565825}. Best is trial 397 with value: 0.8241935483870967.\n",
      "WARNING: Maximum number of iterations 32 reached. The mean may be inaccurate\n"
     ]
    },
    {
     "name": "stdout",
     "output_type": "stream",
     "text": [
      "SVD 수렴 문제 발생: SVD did not converge. 계속 진행합니다.\n"
     ]
    },
    {
     "name": "stderr",
     "output_type": "stream",
     "text": [
      "[I 2024-10-03 21:21:41,793] Trial 459 finished with value: 0.6285714285714286 and parameters: {'lr': 8.773620584700967e-06, 'weight_decay': 0.0017041236990182704}. Best is trial 397 with value: 0.8241935483870967.\n",
      "WARNING: Maximum number of iterations 32 reached. The mean may be inaccurate\n"
     ]
    },
    {
     "name": "stdout",
     "output_type": "stream",
     "text": [
      "SVD 수렴 문제 발생: SVD did not converge. 계속 진행합니다.\n"
     ]
    },
    {
     "name": "stderr",
     "output_type": "stream",
     "text": [
      "[I 2024-10-03 21:41:32,164] Trial 460 finished with value: 0.5709677419354839 and parameters: {'lr': 4.285449142446863e-06, 'weight_decay': 0.0015355970625430366}. Best is trial 397 with value: 0.8241935483870967.\n",
      "WARNING: Maximum number of iterations 32 reached. The mean may be inaccurate\n"
     ]
    },
    {
     "name": "stdout",
     "output_type": "stream",
     "text": [
      "SVD 수렴 문제 발생: SVD did not converge. 계속 진행합니다.\n"
     ]
    },
    {
     "name": "stderr",
     "output_type": "stream",
     "text": [
      "[I 2024-10-03 21:56:21,501] Trial 461 finished with value: 0.6537878787878788 and parameters: {'lr': 0.0010663584827011025, 'weight_decay': 0.0012052868353995283}. Best is trial 397 with value: 0.8241935483870967.\n",
      "WARNING: Maximum number of iterations 32 reached. The mean may be inaccurate\n",
      "[I 2024-10-03 22:06:10,488] Trial 462 finished with value: 0.672911787665886 and parameters: {'lr': 5.449214166537272e-06, 'weight_decay': 0.0018953715957412637}. Best is trial 397 with value: 0.8241935483870967.\n"
     ]
    },
    {
     "name": "stdout",
     "output_type": "stream",
     "text": [
      "SVD 수렴 문제 발생: SVD did not converge. 계속 진행합니다.\n"
     ]
    },
    {
     "name": "stderr",
     "output_type": "stream",
     "text": [
      "WARNING: Maximum number of iterations 32 reached. The mean may be inaccurate\n"
     ]
    },
    {
     "name": "stdout",
     "output_type": "stream",
     "text": [
      "SVD 수렴 문제 발생: SVD did not converge. 계속 진행합니다.\n"
     ]
    },
    {
     "name": "stderr",
     "output_type": "stream",
     "text": [
      "[I 2024-10-03 22:15:59,220] Trial 463 finished with value: 0.7663964627855564 and parameters: {'lr': 6.014380225793183e-06, 'weight_decay': 0.0014728884777028086}. Best is trial 397 with value: 0.8241935483870967.\n",
      "WARNING: Maximum number of iterations 32 reached. The mean may be inaccurate\n"
     ]
    },
    {
     "name": "stdout",
     "output_type": "stream",
     "text": [
      "SVD 수렴 문제 발생: SVD did not converge. 계속 진행합니다.\n"
     ]
    },
    {
     "name": "stderr",
     "output_type": "stream",
     "text": [
      "[I 2024-10-03 22:25:54,244] Trial 464 finished with value: 0.5636363636363636 and parameters: {'lr': 2.1155031817716434e-05, 'weight_decay': 0.00010822611653127114}. Best is trial 397 with value: 0.8241935483870967.\n",
      "WARNING: Maximum number of iterations 32 reached. The mean may be inaccurate\n"
     ]
    },
    {
     "name": "stdout",
     "output_type": "stream",
     "text": [
      "SVD 수렴 문제 발생: SVD did not converge. 계속 진행합니다.\n"
     ]
    },
    {
     "name": "stderr",
     "output_type": "stream",
     "text": [
      "[I 2024-10-03 22:35:42,648] Trial 465 finished with value: 0.5386416861826697 and parameters: {'lr': 3.5040875977088646e-05, 'weight_decay': 0.0012808103767205433}. Best is trial 397 with value: 0.8241935483870967.\n",
      "WARNING: Maximum number of iterations 32 reached. The mean may be inaccurate\n"
     ]
    },
    {
     "name": "stdout",
     "output_type": "stream",
     "text": [
      "SVD 수렴 문제 발생: SVD did not converge. 계속 진행합니다.\n"
     ]
    },
    {
     "name": "stderr",
     "output_type": "stream",
     "text": [
      "[I 2024-10-03 22:45:37,527] Trial 466 finished with value: 0.7022727272727273 and parameters: {'lr': 1.0490063971409554e-06, 'weight_decay': 0.0009962705676802904}. Best is trial 397 with value: 0.8241935483870967.\n",
      "WARNING: Maximum number of iterations 32 reached. The mean may be inaccurate\n"
     ]
    },
    {
     "name": "stdout",
     "output_type": "stream",
     "text": [
      "SVD 수렴 문제 발생: SVD did not converge. 계속 진행합니다.\n"
     ]
    },
    {
     "name": "stderr",
     "output_type": "stream",
     "text": [
      "[I 2024-10-03 22:55:28,049] Trial 467 finished with value: 0.6807181889149102 and parameters: {'lr': 1.778288228241942e-05, 'weight_decay': 0.0022205667882414576}. Best is trial 397 with value: 0.8241935483870967.\n",
      "WARNING: Maximum number of iterations 32 reached. The mean may be inaccurate\n"
     ]
    },
    {
     "name": "stdout",
     "output_type": "stream",
     "text": [
      "SVD 수렴 문제 발생: SVD did not converge. 계속 진행합니다.\n"
     ]
    },
    {
     "name": "stderr",
     "output_type": "stream",
     "text": [
      "[I 2024-10-03 23:05:26,473] Trial 468 finished with value: 0.7096018735362998 and parameters: {'lr': 2.4610600306409203e-05, 'weight_decay': 0.0013406998576247248}. Best is trial 397 with value: 0.8241935483870967.\n",
      "WARNING: Maximum number of iterations 32 reached. The mean may be inaccurate\n"
     ]
    },
    {
     "name": "stdout",
     "output_type": "stream",
     "text": [
      "SVD 수렴 문제 발생: SVD did not converge. 계속 진행합니다.\n"
     ]
    },
    {
     "name": "stderr",
     "output_type": "stream",
     "text": [
      "[I 2024-10-03 23:15:20,503] Trial 469 finished with value: 0.6916471506635441 and parameters: {'lr': 2.9291459431731965e-05, 'weight_decay': 0.00013015913806218576}. Best is trial 397 with value: 0.8241935483870967.\n",
      "WARNING: Maximum number of iterations 32 reached. The mean may be inaccurate\n"
     ]
    },
    {
     "name": "stdout",
     "output_type": "stream",
     "text": [
      "SVD 수렴 문제 발생: SVD did not converge. 계속 진행합니다.\n"
     ]
    },
    {
     "name": "stderr",
     "output_type": "stream",
     "text": [
      "[I 2024-10-03 23:25:15,360] Trial 470 finished with value: 0.7045454545454546 and parameters: {'lr': 6.711631774202776e-06, 'weight_decay': 0.00016177829068958312}. Best is trial 397 with value: 0.8241935483870967.\n",
      "WARNING: Maximum number of iterations 32 reached. The mean may be inaccurate\n"
     ]
    },
    {
     "name": "stdout",
     "output_type": "stream",
     "text": [
      "SVD 수렴 문제 발생: SVD did not converge. 계속 진행합니다.\n"
     ]
    },
    {
     "name": "stderr",
     "output_type": "stream",
     "text": [
      "[I 2024-10-03 23:35:15,456] Trial 471 finished with value: 0.6774193548387097 and parameters: {'lr': 7.836879001753489e-06, 'weight_decay': 0.0008613050472691951}. Best is trial 397 with value: 0.8241935483870967.\n",
      "WARNING: Maximum number of iterations 32 reached. The mean may be inaccurate\n"
     ]
    },
    {
     "name": "stdout",
     "output_type": "stream",
     "text": [
      "SVD 수렴 문제 발생: SVD did not converge. 계속 진행합니다.\n"
     ]
    },
    {
     "name": "stderr",
     "output_type": "stream",
     "text": [
      "[I 2024-10-03 23:45:10,808] Trial 472 finished with value: 0.5862903225806452 and parameters: {'lr': 0.0008709886063923186, 'weight_decay': 0.0010667145101623534}. Best is trial 397 with value: 0.8241935483870967.\n",
      "WARNING: Maximum number of iterations 32 reached. The mean may be inaccurate\n",
      "[I 2024-10-03 23:55:04,201] Trial 473 finished with value: 0.6298387096774194 and parameters: {'lr': 1.3128087982730128e-06, 'weight_decay': 0.0010823716063243572}. Best is trial 397 with value: 0.8241935483870967.\n"
     ]
    },
    {
     "name": "stdout",
     "output_type": "stream",
     "text": [
      "SVD 수렴 문제 발생: SVD did not converge. 계속 진행합니다.\n"
     ]
    },
    {
     "name": "stderr",
     "output_type": "stream",
     "text": [
      "WARNING: Maximum number of iterations 32 reached. The mean may be inaccurate\n"
     ]
    },
    {
     "name": "stdout",
     "output_type": "stream",
     "text": [
      "SVD 수렴 문제 발생: SVD did not converge. 계속 진행합니다.\n"
     ]
    },
    {
     "name": "stderr",
     "output_type": "stream",
     "text": [
      "[I 2024-10-04 00:04:59,594] Trial 474 finished with value: 0.6174863387978141 and parameters: {'lr': 3.385549809876467e-06, 'weight_decay': 0.00011471342521343815}. Best is trial 397 with value: 0.8241935483870967.\n",
      "WARNING: Maximum number of iterations 32 reached. The mean may be inaccurate\n"
     ]
    },
    {
     "name": "stdout",
     "output_type": "stream",
     "text": [
      "SVD 수렴 문제 발생: SVD did not converge. 계속 진행합니다.\n"
     ]
    },
    {
     "name": "stderr",
     "output_type": "stream",
     "text": [
      "[I 2024-10-04 00:14:50,652] Trial 475 finished with value: 0.6323185011709601 and parameters: {'lr': 1.5956568767962883e-06, 'weight_decay': 0.0016510238921583111}. Best is trial 397 with value: 0.8241935483870967.\n",
      "WARNING: Maximum number of iterations 32 reached. The mean may be inaccurate\n"
     ]
    },
    {
     "name": "stdout",
     "output_type": "stream",
     "text": [
      "SVD 수렴 문제 발생: SVD did not converge. 계속 진행합니다.\n"
     ]
    },
    {
     "name": "stderr",
     "output_type": "stream",
     "text": [
      "[I 2024-10-04 00:24:41,939] Trial 476 finished with value: 0.6198830409356725 and parameters: {'lr': 1.1763733952618827e-05, 'weight_decay': 0.0008690270950399171}. Best is trial 397 with value: 0.8241935483870967.\n",
      "WARNING: Maximum number of iterations 32 reached. The mean may be inaccurate\n"
     ]
    },
    {
     "name": "stdout",
     "output_type": "stream",
     "text": [
      "SVD 수렴 문제 발생: SVD did not converge. 계속 진행합니다.\n"
     ]
    },
    {
     "name": "stderr",
     "output_type": "stream",
     "text": [
      "[I 2024-10-04 00:34:30,710] Trial 477 finished with value: 0.5484848484848485 and parameters: {'lr': 0.0012941055013555196, 'weight_decay': 8.237020605273686e-05}. Best is trial 397 with value: 0.8241935483870967.\n",
      "WARNING: Maximum number of iterations 32 reached. The mean may be inaccurate\n",
      "[I 2024-10-04 00:44:25,574] Trial 478 finished with value: 0.6994535519125683 and parameters: {'lr': 2.6115302298564826e-06, 'weight_decay': 0.0007101947190934878}. Best is trial 397 with value: 0.8241935483870967.\n"
     ]
    },
    {
     "name": "stdout",
     "output_type": "stream",
     "text": [
      "SVD 수렴 문제 발생: SVD did not converge. 계속 진행합니다.\n"
     ]
    },
    {
     "name": "stderr",
     "output_type": "stream",
     "text": [
      "WARNING: Maximum number of iterations 32 reached. The mean may be inaccurate\n"
     ]
    },
    {
     "name": "stdout",
     "output_type": "stream",
     "text": [
      "SVD 수렴 문제 발생: SVD did not converge. 계속 진행합니다.\n"
     ]
    },
    {
     "name": "stderr",
     "output_type": "stream",
     "text": [
      "[I 2024-10-04 00:54:18,807] Trial 479 finished with value: 0.7024193548387097 and parameters: {'lr': 3.4466822286870205e-05, 'weight_decay': 0.00019667623585761974}. Best is trial 397 with value: 0.8241935483870967.\n",
      "WARNING: Maximum number of iterations 32 reached. The mean may be inaccurate\n"
     ]
    },
    {
     "name": "stdout",
     "output_type": "stream",
     "text": [
      "SVD 수렴 문제 발생: SVD did not converge. 계속 진행합니다.\n"
     ]
    },
    {
     "name": "stderr",
     "output_type": "stream",
     "text": [
      "[I 2024-10-04 01:04:11,867] Trial 480 finished with value: 0.6736924277907884 and parameters: {'lr': 4.111420382644441e-06, 'weight_decay': 0.0012729657551101591}. Best is trial 397 with value: 0.8241935483870967.\n",
      "WARNING: Maximum number of iterations 32 reached. The mean may be inaccurate\n"
     ]
    },
    {
     "name": "stdout",
     "output_type": "stream",
     "text": [
      "SVD 수렴 문제 발생: SVD did not converge. 계속 진행합니다.\n"
     ]
    },
    {
     "name": "stderr",
     "output_type": "stream",
     "text": [
      "[I 2024-10-04 01:14:07,165] Trial 481 finished with value: 0.7049180327868853 and parameters: {'lr': 0.0007039917302254216, 'weight_decay': 0.0009096092595840086}. Best is trial 397 with value: 0.8241935483870967.\n",
      "WARNING: Maximum number of iterations 32 reached. The mean may be inaccurate\n"
     ]
    },
    {
     "name": "stdout",
     "output_type": "stream",
     "text": [
      "SVD 수렴 문제 발생: SVD did not converge. 계속 진행합니다.\n"
     ]
    },
    {
     "name": "stderr",
     "output_type": "stream",
     "text": [
      "[I 2024-10-04 01:21:25,958] Trial 482 finished with value: 0.763448784082535 and parameters: {'lr': 2.7896579537252526e-05, 'weight_decay': 0.0006592935476766646}. Best is trial 397 with value: 0.8241935483870967.\n",
      "WARNING: Maximum number of iterations 32 reached. The mean may be inaccurate\n"
     ]
    },
    {
     "name": "stdout",
     "output_type": "stream",
     "text": [
      "SVD 수렴 문제 발생: SVD did not converge. 계속 진행합니다.\n"
     ]
    },
    {
     "name": "stderr",
     "output_type": "stream",
     "text": [
      "[I 2024-10-04 01:26:19,416] Trial 483 finished with value: 0.8469945355191256 and parameters: {'lr': 2.7954302132304642e-05, 'weight_decay': 0.000786097250513217}. Best is trial 483 with value: 0.8469945355191256.\n",
      "WARNING: Maximum number of iterations 32 reached. The mean may be inaccurate\n"
     ]
    },
    {
     "name": "stdout",
     "output_type": "stream",
     "text": [
      "SVD 수렴 문제 발생: SVD did not converge. 계속 진행합니다.\n"
     ]
    },
    {
     "name": "stderr",
     "output_type": "stream",
     "text": [
      "[I 2024-10-04 01:31:12,947] Trial 484 finished with value: 0.687743950039032 and parameters: {'lr': 2.6380497449137405e-05, 'weight_decay': 0.0011104462030701284}. Best is trial 483 with value: 0.8469945355191256.\n",
      "WARNING: Maximum number of iterations 32 reached. The mean may be inaccurate\n"
     ]
    },
    {
     "name": "stdout",
     "output_type": "stream",
     "text": [
      "SVD 수렴 문제 발생: SVD did not converge. 계속 진행합니다.\n"
     ]
    },
    {
     "name": "stderr",
     "output_type": "stream",
     "text": [
      "[I 2024-10-04 01:36:06,442] Trial 485 finished with value: 0.6689303904923599 and parameters: {'lr': 2.9450812952527467e-05, 'weight_decay': 0.0013736534837392976}. Best is trial 483 with value: 0.8469945355191256.\n",
      "WARNING: Maximum number of iterations 32 reached. The mean may be inaccurate\n"
     ]
    },
    {
     "name": "stdout",
     "output_type": "stream",
     "text": [
      "SVD 수렴 문제 발생: SVD did not converge. 계속 진행합니다.\n"
     ]
    },
    {
     "name": "stderr",
     "output_type": "stream",
     "text": [
      "[I 2024-10-04 01:40:59,329] Trial 486 finished with value: 0.7371212121212121 and parameters: {'lr': 2.7210217979826364e-05, 'weight_decay': 0.000773896632136789}. Best is trial 483 with value: 0.8469945355191256.\n",
      "WARNING: Maximum number of iterations 32 reached. The mean may be inaccurate\n"
     ]
    },
    {
     "name": "stdout",
     "output_type": "stream",
     "text": [
      "SVD 수렴 문제 발생: SVD did not converge. 계속 진행합니다.\n"
     ]
    },
    {
     "name": "stderr",
     "output_type": "stream",
     "text": [
      "[I 2024-10-04 01:45:52,546] Trial 487 finished with value: 0.7401515151515152 and parameters: {'lr': 3.327968782268618e-05, 'weight_decay': 0.0009982037787802686}. Best is trial 483 with value: 0.8469945355191256.\n",
      "WARNING: Maximum number of iterations 32 reached. The mean may be inaccurate\n",
      "[I 2024-10-04 01:50:47,589] Trial 488 finished with value: 0.7151211361737677 and parameters: {'lr': 1.929720540451843e-05, 'weight_decay': 0.0007249338318442559}. Best is trial 483 with value: 0.8469945355191256.\n"
     ]
    },
    {
     "name": "stdout",
     "output_type": "stream",
     "text": [
      "SVD 수렴 문제 발생: SVD did not converge. 계속 진행합니다.\n"
     ]
    },
    {
     "name": "stderr",
     "output_type": "stream",
     "text": [
      "WARNING: Maximum number of iterations 32 reached. The mean may be inaccurate\n"
     ]
    },
    {
     "name": "stdout",
     "output_type": "stream",
     "text": [
      "SVD 수렴 문제 발생: SVD did not converge. 계속 진행합니다.\n"
     ]
    },
    {
     "name": "stderr",
     "output_type": "stream",
     "text": [
      "[I 2024-10-04 01:55:40,530] Trial 489 finished with value: 0.6015151515151514 and parameters: {'lr': 2.139545330050406e-05, 'weight_decay': 0.0009164425172726887}. Best is trial 483 with value: 0.8469945355191256.\n",
      "WARNING: Maximum number of iterations 32 reached. The mean may be inaccurate\n"
     ]
    },
    {
     "name": "stdout",
     "output_type": "stream",
     "text": [
      "SVD 수렴 문제 발생: SVD did not converge. 계속 진행합니다.\n"
     ]
    },
    {
     "name": "stderr",
     "output_type": "stream",
     "text": [
      "[I 2024-10-04 02:00:34,118] Trial 490 finished with value: 0.772765246449457 and parameters: {'lr': 3.375489502734455e-05, 'weight_decay': 0.00012347365435385292}. Best is trial 483 with value: 0.8469945355191256.\n",
      "WARNING: Maximum number of iterations 32 reached. The mean may be inaccurate\n"
     ]
    },
    {
     "name": "stdout",
     "output_type": "stream",
     "text": [
      "SVD 수렴 문제 발생: SVD did not converge. 계속 진행합니다.\n"
     ]
    },
    {
     "name": "stderr",
     "output_type": "stream",
     "text": [
      "[I 2024-10-04 02:05:27,794] Trial 491 finished with value: 0.68828297715549 and parameters: {'lr': 3.2334673389855086e-05, 'weight_decay': 0.0001294972675483181}. Best is trial 483 with value: 0.8469945355191256.\n",
      "WARNING: Maximum number of iterations 32 reached. The mean may be inaccurate\n"
     ]
    },
    {
     "name": "stdout",
     "output_type": "stream",
     "text": [
      "SVD 수렴 문제 발생: SVD did not converge. 계속 진행합니다.\n"
     ]
    },
    {
     "name": "stderr",
     "output_type": "stream",
     "text": [
      "[I 2024-10-04 02:10:21,116] Trial 492 finished with value: 0.6366985998526161 and parameters: {'lr': 3.782392249893738e-05, 'weight_decay': 8.806073102874955e-05}. Best is trial 483 with value: 0.8469945355191256.\n",
      "WARNING: Maximum number of iterations 32 reached. The mean may be inaccurate\n",
      "[I 2024-10-04 02:15:15,222] Trial 493 finished with value: 0.6963309914129586 and parameters: {'lr': 4.5310461752002626e-05, 'weight_decay': 0.00010473420446368407}. Best is trial 483 with value: 0.8469945355191256.\n"
     ]
    },
    {
     "name": "stdout",
     "output_type": "stream",
     "text": [
      "SVD 수렴 문제 발생: SVD did not converge. 계속 진행합니다.\n"
     ]
    },
    {
     "name": "stderr",
     "output_type": "stream",
     "text": [
      "WARNING: Maximum number of iterations 32 reached. The mean may be inaccurate\n"
     ]
    },
    {
     "name": "stdout",
     "output_type": "stream",
     "text": [
      "SVD 수렴 문제 발생: SVD did not converge. 계속 진행합니다.\n"
     ]
    },
    {
     "name": "stderr",
     "output_type": "stream",
     "text": [
      "[I 2024-10-04 02:20:07,608] Trial 494 finished with value: 0.7287878787878788 and parameters: {'lr': 2.3516632122836263e-05, 'weight_decay': 0.00016298319094390875}. Best is trial 483 with value: 0.8469945355191256.\n",
      "WARNING: Maximum number of iterations 32 reached. The mean may be inaccurate\n"
     ]
    },
    {
     "name": "stdout",
     "output_type": "stream",
     "text": [
      "SVD 수렴 문제 발생: SVD did not converge. 계속 진행합니다.\n"
     ]
    },
    {
     "name": "stderr",
     "output_type": "stream",
     "text": [
      "[I 2024-10-04 02:25:01,677] Trial 495 finished with value: 0.5885245901639344 and parameters: {'lr': 3.3552874259925013e-05, 'weight_decay': 0.00010050959088035054}. Best is trial 483 with value: 0.8469945355191256.\n",
      "WARNING: Maximum number of iterations 32 reached. The mean may be inaccurate\n"
     ]
    },
    {
     "name": "stdout",
     "output_type": "stream",
     "text": [
      "SVD 수렴 문제 발생: SVD did not converge. 계속 진행합니다.\n"
     ]
    },
    {
     "name": "stderr",
     "output_type": "stream",
     "text": [
      "[I 2024-10-04 02:29:54,478] Trial 496 finished with value: 0.6374269005847953 and parameters: {'lr': 3.089791796593235e-05, 'weight_decay': 0.00014681784562997266}. Best is trial 483 with value: 0.8469945355191256.\n",
      "WARNING: Maximum number of iterations 32 reached. The mean may be inaccurate\n"
     ]
    },
    {
     "name": "stdout",
     "output_type": "stream",
     "text": [
      "SVD 수렴 문제 발생: SVD did not converge. 계속 진행합니다.\n"
     ]
    },
    {
     "name": "stderr",
     "output_type": "stream",
     "text": [
      "WARNING: Maximum number of iterations 32 reached. The mean may be inaccurate\n"
     ]
    },
    {
     "name": "stdout",
     "output_type": "stream",
     "text": [
      "SVD 수렴 문제 발생: SVD did not converge. 계속 진행합니다.\n"
     ]
    },
    {
     "name": "stderr",
     "output_type": "stream",
     "text": [
      "[I 2024-10-04 02:39:39,460] Trial 498 finished with value: 0.6827868852459016 and parameters: {'lr': 4.23622379219848e-05, 'weight_decay': 0.00011604632747274936}. Best is trial 483 with value: 0.8469945355191256.\n",
      "WARNING: Maximum number of iterations 32 reached. The mean may be inaccurate\n"
     ]
    },
    {
     "name": "stdout",
     "output_type": "stream",
     "text": [
      "SVD 수렴 문제 발생: SVD did not converge. 계속 진행합니다.\n"
     ]
    },
    {
     "name": "stderr",
     "output_type": "stream",
     "text": [
      "[I 2024-10-04 02:44:29,357] Trial 499 finished with value: 0.6701612903225805 and parameters: {'lr': 3.558983291700979e-05, 'weight_decay': 0.00013024833132346543}. Best is trial 483 with value: 0.8469945355191256.\n",
      "WARNING: Maximum number of iterations 32 reached. The mean may be inaccurate\n"
     ]
    },
    {
     "name": "stdout",
     "output_type": "stream",
     "text": [
      "SVD 수렴 문제 발생: SVD did not converge. 계속 진행합니다.\n"
     ]
    },
    {
     "name": "stderr",
     "output_type": "stream",
     "text": [
      "WARNING: Maximum number of iterations 32 reached. The mean may be inaccurate\n"
     ]
    },
    {
     "name": "stdout",
     "output_type": "stream",
     "text": [
      "SVD 수렴 문제 발생: SVD did not converge. 계속 진행합니다.\n"
     ]
    },
    {
     "name": "stderr",
     "output_type": "stream",
     "text": [
      "[I 2024-10-04 02:54:10,417] Trial 501 finished with value: 0.6741935483870968 and parameters: {'lr': 2.3320554712257495e-05, 'weight_decay': 0.0009117133534345926}. Best is trial 483 with value: 0.8469945355191256.\n",
      "WARNING: Maximum number of iterations 32 reached. The mean may be inaccurate\n"
     ]
    },
    {
     "name": "stdout",
     "output_type": "stream",
     "text": [
      "SVD 수렴 문제 발생: SVD did not converge. 계속 진행합니다.\n"
     ]
    },
    {
     "name": "stderr",
     "output_type": "stream",
     "text": [
      "[I 2024-10-04 02:59:01,388] Trial 502 finished with value: 0.680327868852459 and parameters: {'lr': 3.712501381135959e-05, 'weight_decay': 0.0018909043955097763}. Best is trial 483 with value: 0.8469945355191256.\n",
      "WARNING: Maximum number of iterations 32 reached. The mean may be inaccurate\n"
     ]
    },
    {
     "name": "stdout",
     "output_type": "stream",
     "text": [
      "SVD 수렴 문제 발생: SVD did not converge. 계속 진행합니다.\n"
     ]
    },
    {
     "name": "stderr",
     "output_type": "stream",
     "text": [
      "[I 2024-10-04 03:03:53,076] Trial 503 finished with value: 0.584848484848485 and parameters: {'lr': 2.8335149327638483e-05, 'weight_decay': 0.0007784817228504042}. Best is trial 483 with value: 0.8469945355191256.\n",
      "WARNING: Maximum number of iterations 32 reached. The mean may be inaccurate\n"
     ]
    },
    {
     "name": "stdout",
     "output_type": "stream",
     "text": [
      "SVD 수렴 문제 발생: SVD did not converge. 계속 진행합니다.\n"
     ]
    },
    {
     "name": "stderr",
     "output_type": "stream",
     "text": [
      "[I 2024-10-04 03:08:45,420] Trial 504 finished with value: 0.6713505074160812 and parameters: {'lr': 1.9238928502352954e-05, 'weight_decay': 8.157333066616532e-05}. Best is trial 483 with value: 0.8469945355191256.\n",
      "WARNING: Maximum number of iterations 32 reached. The mean may be inaccurate\n"
     ]
    },
    {
     "name": "stdout",
     "output_type": "stream",
     "text": [
      "SVD 수렴 문제 발생: SVD did not converge. 계속 진행합니다.\n"
     ]
    },
    {
     "name": "stderr",
     "output_type": "stream",
     "text": [
      "[I 2024-10-04 03:13:36,896] Trial 505 finished with value: 0.6409836065573771 and parameters: {'lr': 3.962557188789232e-05, 'weight_decay': 0.00022754355418160778}. Best is trial 483 with value: 0.8469945355191256.\n",
      "WARNING: Maximum number of iterations 32 reached. The mean may be inaccurate\n",
      "[I 2024-10-04 03:18:28,652] Trial 506 finished with value: 0.6515151515151516 and parameters: {'lr': 4.651488235274344e-05, 'weight_decay': 0.0014770346375589578}. Best is trial 483 with value: 0.8469945355191256.\n"
     ]
    },
    {
     "name": "stdout",
     "output_type": "stream",
     "text": [
      "SVD 수렴 문제 발생: SVD did not converge. 계속 진행합니다.\n"
     ]
    },
    {
     "name": "stderr",
     "output_type": "stream",
     "text": [
      "WARNING: Maximum number of iterations 32 reached. The mean may be inaccurate\n",
      "[I 2024-10-04 03:23:18,875] Trial 507 finished with value: 0.6290726817042607 and parameters: {'lr': 1.5379485155507805e-05, 'weight_decay': 0.00014305462043341912}. Best is trial 483 with value: 0.8469945355191256.\n"
     ]
    },
    {
     "name": "stdout",
     "output_type": "stream",
     "text": [
      "SVD 수렴 문제 발생: SVD did not converge. 계속 진행합니다.\n"
     ]
    },
    {
     "name": "stderr",
     "output_type": "stream",
     "text": [
      "WARNING: Maximum number of iterations 32 reached. The mean may be inaccurate\n"
     ]
    },
    {
     "name": "stdout",
     "output_type": "stream",
     "text": [
      "SVD 수렴 문제 발생: SVD did not converge. 계속 진행합니다.\n"
     ]
    },
    {
     "name": "stderr",
     "output_type": "stream",
     "text": [
      "[I 2024-10-04 03:28:09,129] Trial 508 finished with value: 0.6431818181818182 and parameters: {'lr': 2.7230448407057127e-05, 'weight_decay': 0.000697037636327574}. Best is trial 483 with value: 0.8469945355191256.\n",
      "WARNING: Maximum number of iterations 32 reached. The mean may be inaccurate\n"
     ]
    },
    {
     "name": "stdout",
     "output_type": "stream",
     "text": [
      "SVD 수렴 문제 발생: SVD did not converge. 계속 진행합니다.\n"
     ]
    },
    {
     "name": "stderr",
     "output_type": "stream",
     "text": [
      "[I 2024-10-04 03:33:00,376] Trial 509 finished with value: 0.5854838709677419 and parameters: {'lr': 3.156717577019154e-05, 'weight_decay': 0.00101559212451363}. Best is trial 483 with value: 0.8469945355191256.\n",
      "WARNING: Maximum number of iterations 32 reached. The mean may be inaccurate\n"
     ]
    },
    {
     "name": "stdout",
     "output_type": "stream",
     "text": [
      "SVD 수렴 문제 발생: SVD did not converge. 계속 진행합니다.\n"
     ]
    },
    {
     "name": "stderr",
     "output_type": "stream",
     "text": [
      "[I 2024-10-04 03:37:52,424] Trial 510 finished with value: 0.6053030303030302 and parameters: {'lr': 4.944027739771869e-05, 'weight_decay': 0.0001898968083941087}. Best is trial 483 with value: 0.8469945355191256.\n",
      "WARNING: Maximum number of iterations 32 reached. The mean may be inaccurate\n",
      "[I 2024-10-04 03:42:45,611] Trial 511 finished with value: 0.6742815033161385 and parameters: {'lr': 2.456454853034009e-05, 'weight_decay': 0.00011059091111977596}. Best is trial 483 with value: 0.8469945355191256.\n"
     ]
    },
    {
     "name": "stdout",
     "output_type": "stream",
     "text": [
      "SVD 수렴 문제 발생: SVD did not converge. 계속 진행합니다.\n"
     ]
    },
    {
     "name": "stderr",
     "output_type": "stream",
     "text": [
      "WARNING: Maximum number of iterations 32 reached. The mean may be inaccurate\n"
     ]
    },
    {
     "name": "stdout",
     "output_type": "stream",
     "text": [
      "SVD 수렴 문제 발생: SVD did not converge. 계속 진행합니다.\n"
     ]
    },
    {
     "name": "stderr",
     "output_type": "stream",
     "text": [
      "[I 2024-10-04 03:47:35,969] Trial 512 finished with value: 0.6900858704137393 and parameters: {'lr': 3.746914774034161e-05, 'weight_decay': 0.0011786845262015885}. Best is trial 483 with value: 0.8469945355191256.\n",
      "WARNING: Maximum number of iterations 32 reached. The mean may be inaccurate\n"
     ]
    },
    {
     "name": "stdout",
     "output_type": "stream",
     "text": [
      "SVD 수렴 문제 발생: SVD did not converge. 계속 진행합니다.\n"
     ]
    },
    {
     "name": "stderr",
     "output_type": "stream",
     "text": [
      "[I 2024-10-04 03:52:27,268] Trial 513 finished with value: 0.6446969696969698 and parameters: {'lr': 3.379995590900039e-05, 'weight_decay': 0.0006623414791778088}. Best is trial 483 with value: 0.8469945355191256.\n",
      "WARNING: Maximum number of iterations 32 reached. The mean may be inaccurate\n"
     ]
    },
    {
     "name": "stdout",
     "output_type": "stream",
     "text": [
      "SVD 수렴 문제 발생: SVD did not converge. 계속 진행합니다.\n"
     ]
    },
    {
     "name": "stderr",
     "output_type": "stream",
     "text": [
      "[I 2024-10-04 03:57:19,366] Trial 514 finished with value: 0.692741935483871 and parameters: {'lr': 3.1221449428782436e-05, 'weight_decay': 0.0008507437543768733}. Best is trial 483 with value: 0.8469945355191256.\n",
      "WARNING: Maximum number of iterations 32 reached. The mean may be inaccurate\n"
     ]
    },
    {
     "name": "stdout",
     "output_type": "stream",
     "text": [
      "SVD 수렴 문제 발생: SVD did not converge. 계속 진행합니다.\n"
     ]
    },
    {
     "name": "stderr",
     "output_type": "stream",
     "text": [
      "[I 2024-10-04 04:02:12,090] Trial 515 finished with value: 0.6 and parameters: {'lr': 5.8357524573015983e-05, 'weight_decay': 0.0001477132318754322}. Best is trial 483 with value: 0.8469945355191256.\n",
      "WARNING: Maximum number of iterations 32 reached. The mean may be inaccurate\n"
     ]
    },
    {
     "name": "stdout",
     "output_type": "stream",
     "text": [
      "SVD 수렴 문제 발생: SVD did not converge. 계속 진행합니다.\n"
     ]
    },
    {
     "name": "stderr",
     "output_type": "stream",
     "text": [
      "[I 2024-10-04 04:07:05,037] Trial 516 finished with value: 0.643247462919594 and parameters: {'lr': 2.0837150131542432e-05, 'weight_decay': 7.285909751799154e-05}. Best is trial 483 with value: 0.8469945355191256.\n",
      "WARNING: Maximum number of iterations 32 reached. The mean may be inaccurate\n"
     ]
    },
    {
     "name": "stdout",
     "output_type": "stream",
     "text": [
      "SVD 수렴 문제 발생: SVD did not converge. 계속 진행합니다.\n"
     ]
    },
    {
     "name": "stderr",
     "output_type": "stream",
     "text": [
      "[I 2024-10-04 04:11:56,964] Trial 517 finished with value: 0.6510538641686183 and parameters: {'lr': 4.8608212212752057e-05, 'weight_decay': 0.0013882579023051555}. Best is trial 483 with value: 0.8469945355191256.\n",
      "WARNING: Maximum number of iterations 32 reached. The mean may be inaccurate\n"
     ]
    },
    {
     "name": "stdout",
     "output_type": "stream",
     "text": [
      "SVD 수렴 문제 발생: SVD did not converge. 계속 진행합니다.\n"
     ]
    },
    {
     "name": "stderr",
     "output_type": "stream",
     "text": [
      "[I 2024-10-04 04:16:48,713] Trial 518 finished with value: 0.7295081967213115 and parameters: {'lr': 6.7090742203714095e-06, 'weight_decay': 0.002376348458423664}. Best is trial 483 with value: 0.8469945355191256.\n",
      "WARNING: Maximum number of iterations 32 reached. The mean may be inaccurate\n"
     ]
    },
    {
     "name": "stdout",
     "output_type": "stream",
     "text": [
      "SVD 수렴 문제 발생: SVD did not converge. 계속 진행합니다.\n"
     ]
    },
    {
     "name": "stderr",
     "output_type": "stream",
     "text": [
      "[I 2024-10-04 04:21:40,431] Trial 519 finished with value: 0.6530303030303031 and parameters: {'lr': 3.916859500072861e-05, 'weight_decay': 0.0009082854401640135}. Best is trial 483 with value: 0.8469945355191256.\n",
      "WARNING: Maximum number of iterations 32 reached. The mean may be inaccurate\n"
     ]
    },
    {
     "name": "stdout",
     "output_type": "stream",
     "text": [
      "SVD 수렴 문제 발생: SVD did not converge. 계속 진행합니다.\n"
     ]
    },
    {
     "name": "stderr",
     "output_type": "stream",
     "text": [
      "[I 2024-10-04 04:26:31,565] Trial 520 finished with value: 0.6315378610460577 and parameters: {'lr': 1.010036188481541e-05, 'weight_decay': 0.00011887041687704271}. Best is trial 483 with value: 0.8469945355191256.\n",
      "WARNING: Maximum number of iterations 32 reached. The mean may be inaccurate\n",
      "[I 2024-10-04 04:31:24,499] Trial 521 finished with value: 0.6549570647931303 and parameters: {'lr': 2.9091732035525394e-05, 'weight_decay': 0.0006500595249654374}. Best is trial 483 with value: 0.8469945355191256.\n"
     ]
    },
    {
     "name": "stdout",
     "output_type": "stream",
     "text": [
      "SVD 수렴 문제 발생: SVD did not converge. 계속 진행합니다.\n"
     ]
    },
    {
     "name": "stderr",
     "output_type": "stream",
     "text": [
      "WARNING: Maximum number of iterations 32 reached. The mean may be inaccurate\n",
      "[I 2024-10-04 04:36:16,335] Trial 522 finished with value: 0.6057767369242779 and parameters: {'lr': 1.3451692865492938e-05, 'weight_decay': 0.0015808250497239662}. Best is trial 483 with value: 0.8469945355191256.\n"
     ]
    },
    {
     "name": "stdout",
     "output_type": "stream",
     "text": [
      "SVD 수렴 문제 발생: SVD did not converge. 계속 진행합니다.\n"
     ]
    },
    {
     "name": "stderr",
     "output_type": "stream",
     "text": [
      "WARNING: Maximum number of iterations 32 reached. The mean may be inaccurate\n"
     ]
    },
    {
     "name": "stdout",
     "output_type": "stream",
     "text": [
      "SVD 수렴 문제 발생: SVD did not converge. 계속 진행합니다.\n"
     ]
    },
    {
     "name": "stderr",
     "output_type": "stream",
     "text": [
      "[I 2024-10-04 04:41:04,188] Trial 523 finished with value: 0.6997052321296979 and parameters: {'lr': 0.0018365120840870663, 'weight_decay': 0.0011369477879694515}. Best is trial 483 with value: 0.8469945355191256.\n",
      "WARNING: Maximum number of iterations 32 reached. The mean may be inaccurate\n"
     ]
    },
    {
     "name": "stdout",
     "output_type": "stream",
     "text": [
      "SVD 수렴 문제 발생: SVD did not converge. 계속 진행합니다.\n"
     ]
    },
    {
     "name": "stderr",
     "output_type": "stream",
     "text": [
      "[I 2024-10-04 04:45:55,760] Trial 524 finished with value: 0.6325757575757576 and parameters: {'lr': 5.3950429791986936e-05, 'weight_decay': 0.0007446291240975879}. Best is trial 483 with value: 0.8469945355191256.\n",
      "WARNING: Maximum number of iterations 32 reached. The mean may be inaccurate\n"
     ]
    },
    {
     "name": "stdout",
     "output_type": "stream",
     "text": [
      "SVD 수렴 문제 발생: SVD did not converge. 계속 진행합니다.\n"
     ]
    },
    {
     "name": "stderr",
     "output_type": "stream",
     "text": [
      "[I 2024-10-04 04:50:46,988] Trial 525 finished with value: 0.6440677966101694 and parameters: {'lr': 2.624516249676556e-05, 'weight_decay': 8.97751366952358e-05}. Best is trial 483 with value: 0.8469945355191256.\n",
      "WARNING: Maximum number of iterations 32 reached. The mean may be inaccurate\n",
      "[I 2024-10-04 04:55:37,353] Trial 526 finished with value: 0.6856060606060607 and parameters: {'lr': 1.7134935969817884e-05, 'weight_decay': 0.0005777572608823396}. Best is trial 483 with value: 0.8469945355191256.\n"
     ]
    },
    {
     "name": "stdout",
     "output_type": "stream",
     "text": [
      "SVD 수렴 문제 발생: SVD did not converge. 계속 진행합니다.\n"
     ]
    },
    {
     "name": "stderr",
     "output_type": "stream",
     "text": [
      "WARNING: Maximum number of iterations 32 reached. The mean may be inaccurate\n"
     ]
    },
    {
     "name": "stdout",
     "output_type": "stream",
     "text": [
      "SVD 수렴 문제 발생: SVD did not converge. 계속 진행합니다.\n"
     ]
    },
    {
     "name": "stderr",
     "output_type": "stream",
     "text": [
      "[I 2024-10-04 05:00:26,730] Trial 527 finished with value: 0.620718462823726 and parameters: {'lr': 4.1983020155021574e-05, 'weight_decay': 0.0001786098206574478}. Best is trial 483 with value: 0.8469945355191256.\n",
      "WARNING: Maximum number of iterations 32 reached. The mean may be inaccurate\n"
     ]
    },
    {
     "name": "stdout",
     "output_type": "stream",
     "text": [
      "SVD 수렴 문제 발생: SVD did not converge. 계속 진행합니다.\n"
     ]
    },
    {
     "name": "stderr",
     "output_type": "stream",
     "text": [
      "[I 2024-10-04 05:05:17,501] Trial 528 finished with value: 0.6682279469164715 and parameters: {'lr': 2.4020716631261396e-05, 'weight_decay': 0.0008117959436991921}. Best is trial 483 with value: 0.8469945355191256.\n",
      "WARNING: Maximum number of iterations 32 reached. The mean may be inaccurate\n"
     ]
    },
    {
     "name": "stdout",
     "output_type": "stream",
     "text": [
      "SVD 수렴 문제 발생: SVD did not converge. 계속 진행합니다.\n"
     ]
    },
    {
     "name": "stderr",
     "output_type": "stream",
     "text": [
      "[I 2024-10-04 05:10:07,850] Trial 529 finished with value: 0.7325396825396826 and parameters: {'lr': 3.443826288161304e-05, 'weight_decay': 0.00024550600815378097}. Best is trial 483 with value: 0.8469945355191256.\n",
      "WARNING: Maximum number of iterations 32 reached. The mean may be inaccurate\n"
     ]
    },
    {
     "name": "stdout",
     "output_type": "stream",
     "text": [
      "SVD 수렴 문제 발생: SVD did not converge. 계속 진행합니다.\n"
     ]
    },
    {
     "name": "stderr",
     "output_type": "stream",
     "text": [
      "[I 2024-10-04 05:14:57,059] Trial 530 finished with value: 0.5795454545454546 and parameters: {'lr': 4.164940929892021e-05, 'weight_decay': 0.0009794251199479111}. Best is trial 483 with value: 0.8469945355191256.\n",
      "WARNING: Maximum number of iterations 32 reached. The mean may be inaccurate\n"
     ]
    },
    {
     "name": "stdout",
     "output_type": "stream",
     "text": [
      "SVD 수렴 문제 발생: SVD did not converge. 계속 진행합니다.\n"
     ]
    },
    {
     "name": "stderr",
     "output_type": "stream",
     "text": [
      "[I 2024-10-04 05:19:46,978] Trial 531 finished with value: 0.6642857142857143 and parameters: {'lr': 2.126788404720699e-05, 'weight_decay': 0.00012348363814580616}. Best is trial 483 with value: 0.8469945355191256.\n",
      "WARNING: Maximum number of iterations 32 reached. The mean may be inaccurate\n"
     ]
    },
    {
     "name": "stdout",
     "output_type": "stream",
     "text": [
      "SVD 수렴 문제 발생: SVD did not converge. 계속 진행합니다.\n"
     ]
    },
    {
     "name": "stderr",
     "output_type": "stream",
     "text": [
      "[I 2024-10-04 05:24:35,600] Trial 532 finished with value: 0.6229508196721312 and parameters: {'lr': 5.893903486811513e-06, 'weight_decay': 0.0018062282264210182}. Best is trial 483 with value: 0.8469945355191256.\n",
      "WARNING: Maximum number of iterations 32 reached. The mean may be inaccurate\n"
     ]
    },
    {
     "name": "stdout",
     "output_type": "stream",
     "text": [
      "SVD 수렴 문제 발생: SVD did not converge. 계속 진행합니다.\n"
     ]
    },
    {
     "name": "stderr",
     "output_type": "stream",
     "text": [
      "[I 2024-10-04 05:29:23,351] Trial 533 finished with value: 0.6010928961748633 and parameters: {'lr': 0.0010842767126668918, 'weight_decay': 0.0012783416034783345}. Best is trial 483 with value: 0.8469945355191256.\n",
      "WARNING: Maximum number of iterations 32 reached. The mean may be inaccurate\n"
     ]
    },
    {
     "name": "stdout",
     "output_type": "stream",
     "text": [
      "SVD 수렴 문제 발생: SVD did not converge. 계속 진행합니다.\n"
     ]
    },
    {
     "name": "stderr",
     "output_type": "stream",
     "text": [
      "[I 2024-10-04 05:34:13,086] Trial 534 finished with value: 0.7007575757575757 and parameters: {'lr': 5.8760114990668165e-05, 'weight_decay': 0.000556318207752621}. Best is trial 483 with value: 0.8469945355191256.\n",
      "WARNING: Maximum number of iterations 32 reached. The mean may be inaccurate\n"
     ]
    },
    {
     "name": "stdout",
     "output_type": "stream",
     "text": [
      "SVD 수렴 문제 발생: SVD did not converge. 계속 진행합니다.\n"
     ]
    },
    {
     "name": "stderr",
     "output_type": "stream",
     "text": [
      "[I 2024-10-04 05:39:03,736] Trial 535 finished with value: 0.5320560058953575 and parameters: {'lr': 0.00029579946664083276, 'weight_decay': 9.534647297210932e-05}. Best is trial 483 with value: 0.8469945355191256.\n",
      "WARNING: Maximum number of iterations 32 reached. The mean may be inaccurate\n"
     ]
    },
    {
     "name": "stdout",
     "output_type": "stream",
     "text": [
      "SVD 수렴 문제 발생: SVD did not converge. 계속 진행합니다.\n"
     ]
    },
    {
     "name": "stderr",
     "output_type": "stream",
     "text": [
      "[I 2024-10-04 05:43:55,251] Trial 536 finished with value: 0.6507000736919676 and parameters: {'lr': 7.811232355441505e-06, 'weight_decay': 0.0007817943763932633}. Best is trial 483 with value: 0.8469945355191256.\n",
      "WARNING: Maximum number of iterations 32 reached. The mean may be inaccurate\n"
     ]
    },
    {
     "name": "stdout",
     "output_type": "stream",
     "text": [
      "SVD 수렴 문제 발생: SVD did not converge. 계속 진행합니다.\n"
     ]
    },
    {
     "name": "stderr",
     "output_type": "stream",
     "text": [
      "[I 2024-10-04 05:48:46,296] Trial 537 finished with value: 0.7385129490392648 and parameters: {'lr': 3.049575914871998e-05, 'weight_decay': 0.0006573953370063224}. Best is trial 483 with value: 0.8469945355191256.\n",
      "WARNING: Maximum number of iterations 32 reached. The mean may be inaccurate\n"
     ]
    },
    {
     "name": "stdout",
     "output_type": "stream",
     "text": [
      "SVD 수렴 문제 발생: SVD did not converge. 계속 진행합니다.\n"
     ]
    },
    {
     "name": "stderr",
     "output_type": "stream",
     "text": [
      "[I 2024-10-04 05:53:36,442] Trial 538 finished with value: 0.6896825396825397 and parameters: {'lr': 0.0002451351075084532, 'weight_decay': 0.0001504186240318157}. Best is trial 483 with value: 0.8469945355191256.\n",
      "WARNING: Maximum number of iterations 32 reached. The mean may be inaccurate\n"
     ]
    },
    {
     "name": "stdout",
     "output_type": "stream",
     "text": [
      "SVD 수렴 문제 발생: SVD did not converge. 계속 진행합니다.\n"
     ]
    },
    {
     "name": "stderr",
     "output_type": "stream",
     "text": [
      "[I 2024-10-04 05:58:25,204] Trial 539 finished with value: 0.682279469164715 and parameters: {'lr': 3.6904684989794505e-05, 'weight_decay': 0.0009620931438221571}. Best is trial 483 with value: 0.8469945355191256.\n",
      "WARNING: Maximum number of iterations 32 reached. The mean may be inaccurate\n"
     ]
    },
    {
     "name": "stdout",
     "output_type": "stream",
     "text": [
      "SVD 수렴 문제 발생: SVD did not converge. 계속 진행합니다.\n"
     ]
    },
    {
     "name": "stderr",
     "output_type": "stream",
     "text": [
      "[I 2024-10-04 06:03:14,508] Trial 540 finished with value: 0.790007806401249 and parameters: {'lr': 5.211746024525617e-05, 'weight_decay': 0.001124024188202697}. Best is trial 483 with value: 0.8469945355191256.\n",
      "WARNING: Maximum number of iterations 32 reached. The mean may be inaccurate\n",
      "[I 2024-10-04 06:08:05,018] Trial 541 finished with value: 0.6548387096774194 and parameters: {'lr': 6.625791035615516e-05, 'weight_decay': 0.001439182820818722}. Best is trial 483 with value: 0.8469945355191256.\n"
     ]
    },
    {
     "name": "stdout",
     "output_type": "stream",
     "text": [
      "SVD 수렴 문제 발생: SVD did not converge. 계속 진행합니다.\n"
     ]
    },
    {
     "name": "stderr",
     "output_type": "stream",
     "text": [
      "WARNING: Maximum number of iterations 32 reached. The mean may be inaccurate\n"
     ]
    },
    {
     "name": "stdout",
     "output_type": "stream",
     "text": [
      "SVD 수렴 문제 발생: SVD did not converge. 계속 진행합니다.\n"
     ]
    },
    {
     "name": "stderr",
     "output_type": "stream",
     "text": [
      "[I 2024-10-04 06:12:53,512] Trial 542 finished with value: 0.6636363636363636 and parameters: {'lr': 5.0665598919565035e-05, 'weight_decay': 0.00027635020920537174}. Best is trial 483 with value: 0.8469945355191256.\n",
      "WARNING: Maximum number of iterations 32 reached. The mean may be inaccurate\n",
      "[I 2024-10-04 06:17:43,588] Trial 543 finished with value: 0.7560606060606061 and parameters: {'lr': 7.683030044206312e-05, 'weight_decay': 0.0011524411316655608}. Best is trial 483 with value: 0.8469945355191256.\n"
     ]
    },
    {
     "name": "stdout",
     "output_type": "stream",
     "text": [
      "SVD 수렴 문제 발생: SVD did not converge. 계속 진행합니다.\n"
     ]
    },
    {
     "name": "stderr",
     "output_type": "stream",
     "text": [
      "WARNING: Maximum number of iterations 32 reached. The mean may be inaccurate\n"
     ]
    },
    {
     "name": "stdout",
     "output_type": "stream",
     "text": [
      "SVD 수렴 문제 발생: SVD did not converge. 계속 진행합니다.\n"
     ]
    },
    {
     "name": "stderr",
     "output_type": "stream",
     "text": [
      "[I 2024-10-04 06:22:32,742] Trial 544 finished with value: 0.6182669789227166 and parameters: {'lr': 7.109051919351716e-05, 'weight_decay': 0.0011449364937663607}. Best is trial 483 with value: 0.8469945355191256.\n",
      "WARNING: Maximum number of iterations 32 reached. The mean may be inaccurate\n"
     ]
    },
    {
     "name": "stdout",
     "output_type": "stream",
     "text": [
      "SVD 수렴 문제 발생: SVD did not converge. 계속 진행합니다.\n"
     ]
    },
    {
     "name": "stderr",
     "output_type": "stream",
     "text": [
      "[I 2024-10-04 06:27:22,764] Trial 545 finished with value: 0.6409090909090909 and parameters: {'lr': 9.778030122361017e-05, 'weight_decay': 0.001505530081456413}. Best is trial 483 with value: 0.8469945355191256.\n",
      "WARNING: Maximum number of iterations 32 reached. The mean may be inaccurate\n"
     ]
    },
    {
     "name": "stdout",
     "output_type": "stream",
     "text": [
      "SVD 수렴 문제 발생: SVD did not converge. 계속 진행합니다.\n"
     ]
    },
    {
     "name": "stderr",
     "output_type": "stream",
     "text": [
      "[I 2024-10-04 06:37:02,312] Trial 547 finished with value: 0.6893052302888368 and parameters: {'lr': 6.801898095476715e-05, 'weight_decay': 0.0011790842133956312}. Best is trial 483 with value: 0.8469945355191256.\n",
      "WARNING: Maximum number of iterations 32 reached. The mean may be inaccurate\n"
     ]
    },
    {
     "name": "stdout",
     "output_type": "stream",
     "text": [
      "SVD 수렴 문제 발생: SVD did not converge. 계속 진행합니다.\n"
     ]
    },
    {
     "name": "stderr",
     "output_type": "stream",
     "text": [
      "[I 2024-10-04 06:41:52,301] Trial 548 finished with value: 0.6683861459100958 and parameters: {'lr': 6.05257371979022e-05, 'weight_decay': 0.0012951319348233942}. Best is trial 483 with value: 0.8469945355191256.\n",
      "WARNING: Maximum number of iterations 32 reached. The mean may be inaccurate\n"
     ]
    },
    {
     "name": "stdout",
     "output_type": "stream",
     "text": [
      "SVD 수렴 문제 발생: SVD did not converge. 계속 진행합니다.\n"
     ]
    },
    {
     "name": "stderr",
     "output_type": "stream",
     "text": [
      "[I 2024-10-04 06:46:41,926] Trial 549 finished with value: 0.652615144418423 and parameters: {'lr': 8.126713500046364e-05, 'weight_decay': 0.0008537678563552459}. Best is trial 483 with value: 0.8469945355191256.\n",
      "WARNING: Maximum number of iterations 32 reached. The mean may be inaccurate\n"
     ]
    },
    {
     "name": "stdout",
     "output_type": "stream",
     "text": [
      "SVD 수렴 문제 발생: SVD did not converge. 계속 진행합니다.\n"
     ]
    },
    {
     "name": "stderr",
     "output_type": "stream",
     "text": [
      "[I 2024-10-04 06:51:30,849] Trial 550 finished with value: 0.6387096774193548 and parameters: {'lr': 4.9283310040879304e-05, 'weight_decay': 0.0010537813584777427}. Best is trial 483 with value: 0.8469945355191256.\n",
      "WARNING: Maximum number of iterations 32 reached. The mean may be inaccurate\n"
     ]
    },
    {
     "name": "stdout",
     "output_type": "stream",
     "text": [
      "SVD 수렴 문제 발생: SVD did not converge. 계속 진행합니다.\n"
     ]
    },
    {
     "name": "stderr",
     "output_type": "stream",
     "text": [
      "[I 2024-10-04 06:56:20,144] Trial 551 finished with value: 0.6295081967213115 and parameters: {'lr': 9.812472736316157e-05, 'weight_decay': 0.0013867572429230191}. Best is trial 483 with value: 0.8469945355191256.\n",
      "WARNING: Maximum number of iterations 32 reached. The mean may be inaccurate\n"
     ]
    },
    {
     "name": "stdout",
     "output_type": "stream",
     "text": [
      "SVD 수렴 문제 발생: SVD did not converge. 계속 진행합니다.\n"
     ]
    },
    {
     "name": "stderr",
     "output_type": "stream",
     "text": [
      "[I 2024-10-04 07:01:06,146] Trial 552 finished with value: 0.6436507936507937 and parameters: {'lr': 0.002386141098797344, 'weight_decay': 0.0007523887530195544}. Best is trial 483 with value: 0.8469945355191256.\n",
      "WARNING: Maximum number of iterations 32 reached. The mean may be inaccurate\n"
     ]
    },
    {
     "name": "stdout",
     "output_type": "stream",
     "text": [
      "SVD 수렴 문제 발생: SVD did not converge. 계속 진행합니다.\n"
     ]
    },
    {
     "name": "stderr",
     "output_type": "stream",
     "text": [
      "[I 2024-10-04 07:05:50,202] Trial 553 finished with value: 0.5708333333333334 and parameters: {'lr': 0.004163035564755159, 'weight_decay': 0.0016697402534069671}. Best is trial 483 with value: 0.8469945355191256.\n",
      "WARNING: Maximum number of iterations 32 reached. The mean may be inaccurate\n"
     ]
    },
    {
     "name": "stdout",
     "output_type": "stream",
     "text": [
      "SVD 수렴 문제 발생: SVD did not converge. 계속 진행합니다.\n"
     ]
    },
    {
     "name": "stderr",
     "output_type": "stream",
     "text": [
      "[I 2024-10-04 07:10:40,318] Trial 554 finished with value: 0.6752537080405933 and parameters: {'lr': 5.490850661216804e-05, 'weight_decay': 0.002014399486565133}. Best is trial 483 with value: 0.8469945355191256.\n",
      "WARNING: Maximum number of iterations 32 reached. The mean may be inaccurate\n"
     ]
    },
    {
     "name": "stdout",
     "output_type": "stream",
     "text": [
      "SVD 수렴 문제 발생: SVD did not converge. 계속 진행합니다.\n"
     ]
    },
    {
     "name": "stderr",
     "output_type": "stream",
     "text": [
      "[I 2024-10-04 07:15:29,972] Trial 555 finished with value: 0.5704545454545454 and parameters: {'lr': 0.00011452937684516208, 'weight_decay': 0.00010413282417646714}. Best is trial 483 with value: 0.8469945355191256.\n",
      "WARNING: Maximum number of iterations 32 reached. The mean may be inaccurate\n"
     ]
    },
    {
     "name": "stdout",
     "output_type": "stream",
     "text": [
      "SVD 수렴 문제 발생: SVD did not converge. 계속 진행합니다.\n"
     ]
    },
    {
     "name": "stderr",
     "output_type": "stream",
     "text": [
      "[I 2024-10-04 07:20:18,813] Trial 556 finished with value: 0.6697892271662763 and parameters: {'lr': 7.58253063309019e-05, 'weight_decay': 0.001018123935166229}. Best is trial 483 with value: 0.8469945355191256.\n",
      "WARNING: Maximum number of iterations 32 reached. The mean may be inaccurate\n"
     ]
    },
    {
     "name": "stdout",
     "output_type": "stream",
     "text": [
      "SVD 수렴 문제 발생: SVD did not converge. 계속 진행합니다.\n"
     ]
    },
    {
     "name": "stderr",
     "output_type": "stream",
     "text": [
      "[I 2024-10-04 07:25:07,978] Trial 557 finished with value: 0.593939393939394 and parameters: {'lr': 0.00015118421799440324, 'weight_decay': 0.00013217716168104643}. Best is trial 483 with value: 0.8469945355191256.\n",
      "WARNING: Maximum number of iterations 32 reached. The mean may be inaccurate\n"
     ]
    },
    {
     "name": "stdout",
     "output_type": "stream",
     "text": [
      "SVD 수렴 문제 발생: SVD did not converge. 계속 진행합니다.\n"
     ]
    },
    {
     "name": "stderr",
     "output_type": "stream",
     "text": [
      "[I 2024-10-04 07:29:55,947] Trial 558 finished with value: 0.7189695550351288 and parameters: {'lr': 6.275330057394932e-05, 'weight_decay': 0.0006525502780727356}. Best is trial 483 with value: 0.8469945355191256.\n",
      "WARNING: Maximum number of iterations 32 reached. The mean may be inaccurate\n"
     ]
    },
    {
     "name": "stdout",
     "output_type": "stream",
     "text": [
      "SVD 수렴 문제 발생: SVD did not converge. 계속 진행합니다.\n"
     ]
    },
    {
     "name": "stderr",
     "output_type": "stream",
     "text": [
      "[I 2024-10-04 07:34:44,064] Trial 559 finished with value: 0.6449456975772766 and parameters: {'lr': 4.947888733874265e-06, 'weight_decay': 0.00018355729946179972}. Best is trial 483 with value: 0.8469945355191256.\n",
      "WARNING: Maximum number of iterations 32 reached. The mean may be inaccurate\n"
     ]
    },
    {
     "name": "stdout",
     "output_type": "stream",
     "text": [
      "SVD 수렴 문제 발생: SVD did not converge. 계속 진행합니다.\n"
     ]
    },
    {
     "name": "stderr",
     "output_type": "stream",
     "text": [
      "[I 2024-10-04 07:39:31,871] Trial 560 finished with value: 0.7250000000000001 and parameters: {'lr': 4.548553568583409e-05, 'weight_decay': 0.0008356569921986718}. Best is trial 483 with value: 0.8469945355191256.\n",
      "WARNING: Maximum number of iterations 32 reached. The mean may be inaccurate\n"
     ]
    },
    {
     "name": "stdout",
     "output_type": "stream",
     "text": [
      "SVD 수렴 문제 발생: SVD did not converge. 계속 진행합니다.\n"
     ]
    },
    {
     "name": "stderr",
     "output_type": "stream",
     "text": [
      "[I 2024-10-04 07:44:20,112] Trial 561 finished with value: 0.652615144418423 and parameters: {'lr': 0.00018830862228378715, 'weight_decay': 0.0012211826641815942}. Best is trial 483 with value: 0.8469945355191256.\n",
      "WARNING: Maximum number of iterations 32 reached. The mean may be inaccurate\n"
     ]
    },
    {
     "name": "stdout",
     "output_type": "stream",
     "text": [
      "SVD 수렴 문제 발생: SVD did not converge. 계속 진행합니다.\n"
     ]
    },
    {
     "name": "stderr",
     "output_type": "stream",
     "text": [
      "WARNING: Maximum number of iterations 32 reached. The mean may be inaccurate\n"
     ]
    },
    {
     "name": "stdout",
     "output_type": "stream",
     "text": [
      "SVD 수렴 문제 발생: SVD did not converge. 계속 진행합니다.\n"
     ]
    },
    {
     "name": "stderr",
     "output_type": "stream",
     "text": [
      "[I 2024-10-04 07:53:56,829] Trial 563 finished with value: 0.7002341920374707 and parameters: {'lr': 5.814290928213219e-05, 'weight_decay': 7.439582743717788e-05}. Best is trial 483 with value: 0.8469945355191256.\n",
      "WARNING: Maximum number of iterations 32 reached. The mean may be inaccurate\n"
     ]
    },
    {
     "name": "stdout",
     "output_type": "stream",
     "text": [
      "SVD 수렴 문제 발생: SVD did not converge. 계속 진행합니다.\n"
     ]
    },
    {
     "name": "stderr",
     "output_type": "stream",
     "text": [
      "[I 2024-10-04 07:58:43,944] Trial 564 finished with value: 0.7189695550351287 and parameters: {'lr': 8.674238353871731e-05, 'weight_decay': 0.0023730121115805936}. Best is trial 483 with value: 0.8469945355191256.\n",
      "WARNING: Maximum number of iterations 32 reached. The mean may be inaccurate\n"
     ]
    },
    {
     "name": "stdout",
     "output_type": "stream",
     "text": [
      "SVD 수렴 문제 발생: SVD did not converge. 계속 진행합니다.\n"
     ]
    },
    {
     "name": "stderr",
     "output_type": "stream",
     "text": [
      "[I 2024-10-04 08:03:31,808] Trial 565 finished with value: 0.6803030303030303 and parameters: {'lr': 4.3301696413828106e-05, 'weight_decay': 5.129368217134649e-05}. Best is trial 483 with value: 0.8469945355191256.\n",
      "WARNING: Maximum number of iterations 32 reached. The mean may be inaccurate\n"
     ]
    },
    {
     "name": "stdout",
     "output_type": "stream",
     "text": [
      "SVD 수렴 문제 발생: SVD did not converge. 계속 진행합니다.\n"
     ]
    },
    {
     "name": "stderr",
     "output_type": "stream",
     "text": [
      "[I 2024-10-04 08:08:17,826] Trial 566 finished with value: 0.6261904761904762 and parameters: {'lr': 0.001605314022518596, 'weight_decay': 0.000535679466823156}. Best is trial 483 with value: 0.8469945355191256.\n",
      "WARNING: Maximum number of iterations 32 reached. The mean may be inaccurate\n"
     ]
    },
    {
     "name": "stdout",
     "output_type": "stream",
     "text": [
      "SVD 수렴 문제 발생: SVD did not converge. 계속 진행합니다.\n"
     ]
    },
    {
     "name": "stderr",
     "output_type": "stream",
     "text": [
      "WARNING: Maximum number of iterations 32 reached. The mean may be inaccurate\n"
     ]
    },
    {
     "name": "stdout",
     "output_type": "stream",
     "text": [
      "SVD 수렴 문제 발생: SVD did not converge. 계속 진행합니다.\n"
     ]
    },
    {
     "name": "stderr",
     "output_type": "stream",
     "text": [
      "[I 2024-10-04 08:17:54,551] Trial 568 finished with value: 0.6682279469164715 and parameters: {'lr': 4.9968518561652264e-05, 'weight_decay': 0.00015739547855037278}. Best is trial 483 with value: 0.8469945355191256.\n",
      "WARNING: Maximum number of iterations 32 reached. The mean may be inaccurate\n"
     ]
    },
    {
     "name": "stdout",
     "output_type": "stream",
     "text": [
      "SVD 수렴 문제 발생: SVD did not converge. 계속 진행합니다.\n"
     ]
    },
    {
     "name": "stderr",
     "output_type": "stream",
     "text": [
      "WARNING: Maximum number of iterations 32 reached. The mean may be inaccurate\n",
      "[I 2024-10-04 08:27:32,010] Trial 570 finished with value: 0.604274134119381 and parameters: {'lr': 9.277994096894152e-05, 'weight_decay': 0.0011925170565870303}. Best is trial 483 with value: 0.8469945355191256.\n"
     ]
    },
    {
     "name": "stdout",
     "output_type": "stream",
     "text": [
      "SVD 수렴 문제 발생: SVD did not converge. 계속 진행합니다.\n"
     ]
    },
    {
     "name": "stderr",
     "output_type": "stream",
     "text": [
      "WARNING: Maximum number of iterations 32 reached. The mean may be inaccurate\n"
     ]
    },
    {
     "name": "stdout",
     "output_type": "stream",
     "text": [
      "SVD 수렴 문제 발생: SVD did not converge. 계속 진행합니다.\n"
     ]
    },
    {
     "name": "stderr",
     "output_type": "stream",
     "text": [
      "[I 2024-10-04 08:32:19,150] Trial 571 finished with value: 0.7002341920374707 and parameters: {'lr': 4.0594422620479016e-05, 'weight_decay': 0.0006500479243827587}. Best is trial 483 with value: 0.8469945355191256.\n",
      "WARNING: Maximum number of iterations 32 reached. The mean may be inaccurate\n"
     ]
    },
    {
     "name": "stdout",
     "output_type": "stream",
     "text": [
      "SVD 수렴 문제 발생: SVD did not converge. 계속 진행합니다.\n"
     ]
    },
    {
     "name": "stderr",
     "output_type": "stream",
     "text": [
      "[I 2024-10-04 08:37:06,194] Trial 572 finished with value: 0.5522138680033417 and parameters: {'lr': 1.1056106413217106e-05, 'weight_decay': 0.0009327981841032041}. Best is trial 483 with value: 0.8469945355191256.\n",
      "WARNING: Maximum number of iterations 32 reached. The mean may be inaccurate\n"
     ]
    },
    {
     "name": "stdout",
     "output_type": "stream",
     "text": [
      "SVD 수렴 문제 발생: SVD did not converge. 계속 진행합니다.\n"
     ]
    },
    {
     "name": "stderr",
     "output_type": "stream",
     "text": [
      "[I 2024-10-04 08:41:53,192] Trial 573 finished with value: 0.6053030303030303 and parameters: {'lr': 0.00013311493321129225, 'weight_decay': 0.001372801933627221}. Best is trial 483 with value: 0.8469945355191256.\n",
      "WARNING: Maximum number of iterations 32 reached. The mean may be inaccurate\n",
      "[I 2024-10-04 08:46:42,615] Trial 574 finished with value: 0.5556451612903226 and parameters: {'lr': 5.433525719069993e-05, 'weight_decay': 0.0018629712859315728}. Best is trial 483 with value: 0.8469945355191256.\n"
     ]
    },
    {
     "name": "stdout",
     "output_type": "stream",
     "text": [
      "SVD 수렴 문제 발생: SVD did not converge. 계속 진행합니다.\n"
     ]
    },
    {
     "name": "stderr",
     "output_type": "stream",
     "text": [
      "WARNING: Maximum number of iterations 32 reached. The mean may be inaccurate\n"
     ]
    },
    {
     "name": "stdout",
     "output_type": "stream",
     "text": [
      "SVD 수렴 문제 발생: SVD did not converge. 계속 진행합니다.\n"
     ]
    },
    {
     "name": "stderr",
     "output_type": "stream",
     "text": [
      "[I 2024-10-04 08:51:29,879] Trial 575 finished with value: 0.6580645161290323 and parameters: {'lr': 7.042394683382096e-05, 'weight_decay': 9.5792890178978e-05}. Best is trial 483 with value: 0.8469945355191256.\n",
      "WARNING: Maximum number of iterations 32 reached. The mean may be inaccurate\n"
     ]
    },
    {
     "name": "stdout",
     "output_type": "stream",
     "text": [
      "SVD 수렴 문제 발생: SVD did not converge. 계속 진행합니다.\n"
     ]
    },
    {
     "name": "stderr",
     "output_type": "stream",
     "text": [
      "[I 2024-10-04 08:56:18,611] Trial 576 finished with value: 0.6664098613251155 and parameters: {'lr': 3.776338763964629e-05, 'weight_decay': 0.0005721278382457452}. Best is trial 483 with value: 0.8469945355191256.\n",
      "WARNING: Maximum number of iterations 32 reached. The mean may be inaccurate\n",
      "[I 2024-10-04 09:01:08,714] Trial 577 finished with value: 0.6475806451612903 and parameters: {'lr': 4.428318712577859e-06, 'weight_decay': 0.0008080932783689188}. Best is trial 483 with value: 0.8469945355191256.\n"
     ]
    },
    {
     "name": "stdout",
     "output_type": "stream",
     "text": [
      "SVD 수렴 문제 발생: SVD did not converge. 계속 진행합니다.\n"
     ]
    },
    {
     "name": "stderr",
     "output_type": "stream",
     "text": [
      "WARNING: Maximum number of iterations 32 reached. The mean may be inaccurate\n"
     ]
    },
    {
     "name": "stdout",
     "output_type": "stream",
     "text": [
      "SVD 수렴 문제 발생: SVD did not converge. 계속 진행합니다.\n"
     ]
    },
    {
     "name": "stderr",
     "output_type": "stream",
     "text": [
      "[I 2024-10-04 09:05:57,285] Trial 578 finished with value: 0.6518345042935206 and parameters: {'lr': 2.7300857570238044e-05, 'weight_decay': 0.0011475029718088377}. Best is trial 483 with value: 0.8469945355191256.\n",
      "WARNING: Maximum number of iterations 32 reached. The mean may be inaccurate\n"
     ]
    },
    {
     "name": "stdout",
     "output_type": "stream",
     "text": [
      "SVD 수렴 문제 발생: SVD did not converge. 계속 진행합니다.\n"
     ]
    },
    {
     "name": "stderr",
     "output_type": "stream",
     "text": [
      "[I 2024-10-04 09:10:44,251] Trial 579 finished with value: 0.646774193548387 and parameters: {'lr': 8.204778882541964e-06, 'weight_decay': 0.00013710464119444783}. Best is trial 483 with value: 0.8469945355191256.\n",
      "WARNING: Maximum number of iterations 32 reached. The mean may be inaccurate\n"
     ]
    },
    {
     "name": "stdout",
     "output_type": "stream",
     "text": [
      "SVD 수렴 문제 발생: SVD did not converge. 계속 진행합니다.\n"
     ]
    },
    {
     "name": "stderr",
     "output_type": "stream",
     "text": [
      "[I 2024-10-04 09:15:32,717] Trial 580 finished with value: 0.6204545454545455 and parameters: {'lr': 0.00010438326830670873, 'weight_decay': 0.0015901885135550199}. Best is trial 483 with value: 0.8469945355191256.\n",
      "WARNING: Maximum number of iterations 32 reached. The mean may be inaccurate\n"
     ]
    },
    {
     "name": "stdout",
     "output_type": "stream",
     "text": [
      "SVD 수렴 문제 발생: SVD did not converge. 계속 진행합니다.\n"
     ]
    },
    {
     "name": "stderr",
     "output_type": "stream",
     "text": [
      "[I 2024-10-04 09:20:21,404] Trial 581 finished with value: 0.7002341920374707 and parameters: {'lr': 6.670576216849967e-06, 'weight_decay': 0.0004985091647480481}. Best is trial 483 with value: 0.8469945355191256.\n",
      "WARNING: Maximum number of iterations 32 reached. The mean may be inaccurate\n"
     ]
    },
    {
     "name": "stdout",
     "output_type": "stream",
     "text": [
      "SVD 수렴 문제 발생: SVD did not converge. 계속 진행합니다.\n"
     ]
    },
    {
     "name": "stderr",
     "output_type": "stream",
     "text": [
      "[I 2024-10-04 09:25:08,698] Trial 582 finished with value: 0.6621212121212121 and parameters: {'lr': 1.3322963082603764e-05, 'weight_decay': 0.0010113503565449015}. Best is trial 483 with value: 0.8469945355191256.\n",
      "WARNING: Maximum number of iterations 32 reached. The mean may be inaccurate\n"
     ]
    },
    {
     "name": "stdout",
     "output_type": "stream",
     "text": [
      "SVD 수렴 문제 발생: SVD did not converge. 계속 진행합니다.\n"
     ]
    },
    {
     "name": "stderr",
     "output_type": "stream",
     "text": [
      "[I 2024-10-04 09:29:55,793] Trial 583 finished with value: 0.8040322580645162 and parameters: {'lr': 3.349226099650924e-05, 'weight_decay': 0.0006939853734853375}. Best is trial 483 with value: 0.8469945355191256.\n",
      "WARNING: Maximum number of iterations 32 reached. The mean may be inaccurate\n"
     ]
    },
    {
     "name": "stdout",
     "output_type": "stream",
     "text": [
      "SVD 수렴 문제 발생: SVD did not converge. 계속 진행합니다.\n"
     ]
    },
    {
     "name": "stderr",
     "output_type": "stream",
     "text": [
      "[I 2024-10-04 09:34:43,116] Trial 584 finished with value: 0.6977272727272728 and parameters: {'lr': 3.420555176785251e-05, 'weight_decay': 0.0006755752503898234}. Best is trial 483 with value: 0.8469945355191256.\n",
      "WARNING: Maximum number of iterations 32 reached. The mean may be inaccurate\n",
      "[I 2024-10-04 09:39:31,542] Trial 585 finished with value: 0.711943793911007 and parameters: {'lr': 2.3474231258909594e-05, 'weight_decay': 0.0007511894870895416}. Best is trial 483 with value: 0.8469945355191256.\n"
     ]
    },
    {
     "name": "stdout",
     "output_type": "stream",
     "text": [
      "SVD 수렴 문제 발생: SVD did not converge. 계속 진행합니다.\n"
     ]
    },
    {
     "name": "stderr",
     "output_type": "stream",
     "text": [
      "WARNING: Maximum number of iterations 32 reached. The mean may be inaccurate\n",
      "[I 2024-10-04 09:44:19,882] Trial 586 finished with value: 0.609090909090909 and parameters: {'lr': 4.6659488826060245e-05, 'weight_decay': 0.0006212569056279762}. Best is trial 483 with value: 0.8469945355191256.\n"
     ]
    },
    {
     "name": "stdout",
     "output_type": "stream",
     "text": [
      "SVD 수렴 문제 발생: SVD did not converge. 계속 진행합니다.\n"
     ]
    },
    {
     "name": "stderr",
     "output_type": "stream",
     "text": [
      "WARNING: Maximum number of iterations 32 reached. The mean may be inaccurate\n"
     ]
    },
    {
     "name": "stdout",
     "output_type": "stream",
     "text": [
      "SVD 수렴 문제 발생: SVD did not converge. 계속 진행합니다.\n"
     ]
    },
    {
     "name": "stderr",
     "output_type": "stream",
     "text": [
      "[I 2024-10-04 09:49:06,183] Trial 587 finished with value: 0.6838709677419355 and parameters: {'lr': 2.950122510488151e-05, 'weight_decay': 0.0008861921223715033}. Best is trial 483 with value: 0.8469945355191256.\n",
      "WARNING: Maximum number of iterations 32 reached. The mean may be inaccurate\n"
     ]
    },
    {
     "name": "stdout",
     "output_type": "stream",
     "text": [
      "SVD 수렴 문제 발생: SVD did not converge. 계속 진행합니다.\n"
     ]
    },
    {
     "name": "stderr",
     "output_type": "stream",
     "text": [
      "[I 2024-10-04 09:53:53,150] Trial 588 finished with value: 0.6448382126348228 and parameters: {'lr': 1.7968318708349515e-05, 'weight_decay': 0.0005106469694564882}. Best is trial 483 with value: 0.8469945355191256.\n",
      "WARNING: Maximum number of iterations 32 reached. The mean may be inaccurate\n"
     ]
    },
    {
     "name": "stdout",
     "output_type": "stream",
     "text": [
      "SVD 수렴 문제 발생: SVD did not converge. 계속 진행합니다.\n"
     ]
    },
    {
     "name": "stderr",
     "output_type": "stream",
     "text": [
      "[I 2024-10-04 09:58:40,171] Trial 589 finished with value: 0.6257575757575758 and parameters: {'lr': 3.95254250357102e-05, 'weight_decay': 0.0006945025497118756}. Best is trial 483 with value: 0.8469945355191256.\n",
      "WARNING: Maximum number of iterations 32 reached. The mean may be inaccurate\n"
     ]
    },
    {
     "name": "stdout",
     "output_type": "stream",
     "text": [
      "SVD 수렴 문제 발생: SVD did not converge. 계속 진행합니다.\n"
     ]
    },
    {
     "name": "stderr",
     "output_type": "stream",
     "text": [
      "[I 2024-10-04 10:03:24,068] Trial 590 finished with value: 0.6561475409836065 and parameters: {'lr': 0.0014592195288819028, 'weight_decay': 0.0008382012875943342}. Best is trial 483 with value: 0.8469945355191256.\n",
      "WARNING: Maximum number of iterations 32 reached. The mean may be inaccurate\n"
     ]
    },
    {
     "name": "stdout",
     "output_type": "stream",
     "text": [
      "SVD 수렴 문제 발생: SVD did not converge. 계속 진행합니다.\n"
     ]
    },
    {
     "name": "stderr",
     "output_type": "stream",
     "text": [
      "[I 2024-10-04 10:08:11,545] Trial 591 finished with value: 0.6483870967741936 and parameters: {'lr': 3.160982050495164e-05, 'weight_decay': 0.0005811006978060239}. Best is trial 483 with value: 0.8469945355191256.\n",
      "WARNING: Maximum number of iterations 32 reached. The mean may be inaccurate\n"
     ]
    },
    {
     "name": "stdout",
     "output_type": "stream",
     "text": [
      "SVD 수렴 문제 발생: SVD did not converge. 계속 진행합니다.\n"
     ]
    },
    {
     "name": "stderr",
     "output_type": "stream",
     "text": [
      "[I 2024-10-04 10:13:00,721] Trial 592 finished with value: 0.6819672131147541 and parameters: {'lr': 4.760318653477791e-05, 'weight_decay': 0.0011168240528873232}. Best is trial 483 with value: 0.8469945355191256.\n",
      "WARNING: Maximum number of iterations 32 reached. The mean may be inaccurate\n"
     ]
    },
    {
     "name": "stdout",
     "output_type": "stream",
     "text": [
      "SVD 수렴 문제 발생: SVD did not converge. 계속 진행합니다.\n"
     ]
    },
    {
     "name": "stderr",
     "output_type": "stream",
     "text": [
      "[I 2024-10-04 10:17:49,901] Trial 593 finished with value: 0.7166276346604216 and parameters: {'lr': 2.469954785947196e-05, 'weight_decay': 0.0004573713929899807}. Best is trial 483 with value: 0.8469945355191256.\n",
      "WARNING: Maximum number of iterations 32 reached. The mean may be inaccurate\n"
     ]
    },
    {
     "name": "stdout",
     "output_type": "stream",
     "text": [
      "SVD 수렴 문제 발생: SVD did not converge. 계속 진행합니다.\n"
     ]
    },
    {
     "name": "stderr",
     "output_type": "stream",
     "text": [
      "[I 2024-10-04 10:22:37,699] Trial 594 finished with value: 0.6 and parameters: {'lr': 5.5587674880934105e-05, 'weight_decay': 0.0013952144710139016}. Best is trial 483 with value: 0.8469945355191256.\n",
      "WARNING: Maximum number of iterations 32 reached. The mean may be inaccurate\n"
     ]
    },
    {
     "name": "stdout",
     "output_type": "stream",
     "text": [
      "SVD 수렴 문제 발생: SVD did not converge. 계속 진행합니다.\n"
     ]
    },
    {
     "name": "stderr",
     "output_type": "stream",
     "text": [
      "[I 2024-10-04 10:27:25,956] Trial 595 finished with value: 0.7103825136612022 and parameters: {'lr': 4.08732303252989e-05, 'weight_decay': 0.000952919328089616}. Best is trial 483 with value: 0.8469945355191256.\n",
      "WARNING: Maximum number of iterations 32 reached. The mean may be inaccurate\n"
     ]
    },
    {
     "name": "stdout",
     "output_type": "stream",
     "text": [
      "SVD 수렴 문제 발생: SVD did not converge. 계속 진행합니다.\n"
     ]
    },
    {
     "name": "stderr",
     "output_type": "stream",
     "text": [
      "[I 2024-10-04 10:32:10,654] Trial 596 finished with value: 0.5503512880562061 and parameters: {'lr': 0.002937485330156338, 'weight_decay': 0.0007342801749646711}. Best is trial 483 with value: 0.8469945355191256.\n",
      "WARNING: Maximum number of iterations 32 reached. The mean may be inaccurate\n"
     ]
    },
    {
     "name": "stdout",
     "output_type": "stream",
     "text": [
      "SVD 수렴 문제 발생: SVD did not converge. 계속 진행합니다.\n"
     ]
    },
    {
     "name": "stderr",
     "output_type": "stream",
     "text": [
      "[I 2024-10-04 10:36:57,191] Trial 597 finished with value: 0.6274018379281537 and parameters: {'lr': 3.175602105142226e-05, 'weight_decay': 0.000634331724871921}. Best is trial 483 with value: 0.8469945355191256.\n",
      "WARNING: Maximum number of iterations 32 reached. The mean may be inaccurate\n"
     ]
    },
    {
     "name": "stdout",
     "output_type": "stream",
     "text": [
      "SVD 수렴 문제 발생: SVD did not converge. 계속 진행합니다.\n"
     ]
    },
    {
     "name": "stderr",
     "output_type": "stream",
     "text": [
      "[I 2024-10-04 10:41:45,674] Trial 598 finished with value: 0.634920634920635 and parameters: {'lr': 6.39855630644045e-05, 'weight_decay': 0.0008512789669081845}. Best is trial 483 with value: 0.8469945355191256.\n",
      "WARNING: Maximum number of iterations 32 reached. The mean may be inaccurate\n"
     ]
    },
    {
     "name": "stdout",
     "output_type": "stream",
     "text": [
      "SVD 수렴 문제 발생: SVD did not converge. 계속 진행합니다.\n"
     ]
    },
    {
     "name": "stderr",
     "output_type": "stream",
     "text": [
      "[I 2024-10-04 10:46:34,162] Trial 599 finished with value: 0.7056451612903225 and parameters: {'lr': 3.8702699570058766e-05, 'weight_decay': 0.0005080950564449146}. Best is trial 483 with value: 0.8469945355191256.\n",
      "WARNING: Maximum number of iterations 32 reached. The mean may be inaccurate\n"
     ]
    },
    {
     "name": "stdout",
     "output_type": "stream",
     "text": [
      "SVD 수렴 문제 발생: SVD did not converge. 계속 진행합니다.\n"
     ]
    },
    {
     "name": "stderr",
     "output_type": "stream",
     "text": [
      "[I 2024-10-04 10:51:21,455] Trial 600 finished with value: 0.7619047619047619 and parameters: {'lr': 2.148960282150113e-05, 'weight_decay': 0.0010785031796404453}. Best is trial 483 with value: 0.8469945355191256.\n",
      "WARNING: Maximum number of iterations 32 reached. The mean may be inaccurate\n",
      "[I 2024-10-04 10:56:10,239] Trial 601 finished with value: 0.7524193548387097 and parameters: {'lr': 3.361051997023546e-05, 'weight_decay': 0.001263044305208022}. Best is trial 483 with value: 0.8469945355191256.\n"
     ]
    },
    {
     "name": "stdout",
     "output_type": "stream",
     "text": [
      "SVD 수렴 문제 발생: SVD did not converge. 계속 진행합니다.\n"
     ]
    },
    {
     "name": "stderr",
     "output_type": "stream",
     "text": [
      "WARNING: Maximum number of iterations 32 reached. The mean may be inaccurate\n"
     ]
    },
    {
     "name": "stdout",
     "output_type": "stream",
     "text": [
      "SVD 수렴 문제 발생: SVD did not converge. 계속 진행합니다.\n"
     ]
    },
    {
     "name": "stderr",
     "output_type": "stream",
     "text": [
      "[I 2024-10-04 11:00:55,899] Trial 602 finished with value: 0.706766917293233 and parameters: {'lr': 1.5827427862847724e-05, 'weight_decay': 0.0020722063484281575}. Best is trial 483 with value: 0.8469945355191256.\n",
      "WARNING: Maximum number of iterations 32 reached. The mean may be inaccurate\n"
     ]
    },
    {
     "name": "stdout",
     "output_type": "stream",
     "text": [
      "SVD 수렴 문제 발생: SVD did not converge. 계속 진행합니다.\n"
     ]
    },
    {
     "name": "stderr",
     "output_type": "stream",
     "text": [
      "[I 2024-10-04 11:05:42,957] Trial 603 finished with value: 0.6704545454545454 and parameters: {'lr': 2.303506336201947e-05, 'weight_decay': 0.0016605105489814521}. Best is trial 483 with value: 0.8469945355191256.\n",
      "WARNING: Maximum number of iterations 32 reached. The mean may be inaccurate\n"
     ]
    },
    {
     "name": "stdout",
     "output_type": "stream",
     "text": [
      "SVD 수렴 문제 발생: SVD did not converge. 계속 진행합니다.\n"
     ]
    },
    {
     "name": "stderr",
     "output_type": "stream",
     "text": [
      "[I 2024-10-04 11:10:30,498] Trial 604 finished with value: 0.5781119465329991 and parameters: {'lr': 3.267023569910774e-05, 'weight_decay': 0.0013200093216945744}. Best is trial 483 with value: 0.8469945355191256.\n",
      "WARNING: Maximum number of iterations 32 reached. The mean may be inaccurate\n"
     ]
    },
    {
     "name": "stdout",
     "output_type": "stream",
     "text": [
      "SVD 수렴 문제 발생: SVD did not converge. 계속 진행합니다.\n"
     ]
    },
    {
     "name": "stderr",
     "output_type": "stream",
     "text": [
      "[I 2024-10-04 11:15:18,400] Trial 605 finished with value: 0.765909090909091 and parameters: {'lr': 2.423945003602668e-05, 'weight_decay': 0.0015834864326273023}. Best is trial 483 with value: 0.8469945355191256.\n",
      "WARNING: Maximum number of iterations 32 reached. The mean may be inaccurate\n"
     ]
    },
    {
     "name": "stdout",
     "output_type": "stream",
     "text": [
      "SVD 수렴 문제 발생: SVD did not converge. 계속 진행합니다.\n"
     ]
    },
    {
     "name": "stderr",
     "output_type": "stream",
     "text": [
      "[I 2024-10-04 11:20:07,642] Trial 606 finished with value: 0.6471506635441061 and parameters: {'lr': 1.8852041195063794e-05, 'weight_decay': 0.0017367988118529082}. Best is trial 483 with value: 0.8469945355191256.\n",
      "WARNING: Maximum number of iterations 32 reached. The mean may be inaccurate\n"
     ]
    },
    {
     "name": "stdout",
     "output_type": "stream",
     "text": [
      "SVD 수렴 문제 발생: SVD did not converge. 계속 진행합니다.\n"
     ]
    },
    {
     "name": "stderr",
     "output_type": "stream",
     "text": [
      "[I 2024-10-04 11:24:57,401] Trial 607 finished with value: 0.6666666666666666 and parameters: {'lr': 2.0344267348287304e-05, 'weight_decay': 0.002102896628000795}. Best is trial 483 with value: 0.8469945355191256.\n",
      "WARNING: Maximum number of iterations 32 reached. The mean may be inaccurate\n"
     ]
    },
    {
     "name": "stdout",
     "output_type": "stream",
     "text": [
      "SVD 수렴 문제 발생: SVD did not converge. 계속 진행합니다.\n"
     ]
    },
    {
     "name": "stderr",
     "output_type": "stream",
     "text": [
      "[I 2024-10-04 11:29:46,568] Trial 608 finished with value: 0.6381724392041267 and parameters: {'lr': 2.5117386873181172e-05, 'weight_decay': 0.002825812253852123}. Best is trial 483 with value: 0.8469945355191256.\n",
      "WARNING: Maximum number of iterations 32 reached. The mean may be inaccurate\n"
     ]
    },
    {
     "name": "stdout",
     "output_type": "stream",
     "text": [
      "SVD 수렴 문제 발생: SVD did not converge. 계속 진행합니다.\n"
     ]
    },
    {
     "name": "stderr",
     "output_type": "stream",
     "text": [
      "[I 2024-10-04 11:34:36,348] Trial 609 finished with value: 0.6807181889149102 and parameters: {'lr': 2.4849222346992823e-05, 'weight_decay': 0.0014848484872107923}. Best is trial 483 with value: 0.8469945355191256.\n",
      "WARNING: Maximum number of iterations 32 reached. The mean may be inaccurate\n"
     ]
    },
    {
     "name": "stdout",
     "output_type": "stream",
     "text": [
      "SVD 수렴 문제 발생: SVD did not converge. 계속 진행합니다.\n"
     ]
    },
    {
     "name": "stderr",
     "output_type": "stream",
     "text": [
      "[I 2024-10-04 11:39:19,185] Trial 610 finished with value: 0.4318181818181818 and parameters: {'lr': 0.007384623278810253, 'weight_decay': 0.0012633442957831042}. Best is trial 483 with value: 0.8469945355191256.\n",
      "WARNING: Maximum number of iterations 32 reached. The mean may be inaccurate\n"
     ]
    },
    {
     "name": "stdout",
     "output_type": "stream",
     "text": [
      "SVD 수렴 문제 발생: SVD did not converge. 계속 진행합니다.\n"
     ]
    },
    {
     "name": "stderr",
     "output_type": "stream",
     "text": [
      "[I 2024-10-04 11:44:09,570] Trial 611 finished with value: 0.688709677419355 and parameters: {'lr': 2.0782878599823397e-05, 'weight_decay': 3.348316297727465e-05}. Best is trial 483 with value: 0.8469945355191256.\n",
      "WARNING: Maximum number of iterations 32 reached. The mean may be inaccurate\n"
     ]
    },
    {
     "name": "stdout",
     "output_type": "stream",
     "text": [
      "SVD 수렴 문제 발생: SVD did not converge. 계속 진행합니다.\n"
     ]
    },
    {
     "name": "stderr",
     "output_type": "stream",
     "text": [
      "[I 2024-10-04 11:48:59,270] Trial 612 finished with value: 0.6459677419354839 and parameters: {'lr': 1.7041320695854477e-05, 'weight_decay': 0.001442970171142809}. Best is trial 483 with value: 0.8469945355191256.\n",
      "WARNING: Maximum number of iterations 32 reached. The mean may be inaccurate\n"
     ]
    },
    {
     "name": "stdout",
     "output_type": "stream",
     "text": [
      "SVD 수렴 문제 발생: SVD did not converge. 계속 진행합니다.\n"
     ]
    },
    {
     "name": "stderr",
     "output_type": "stream",
     "text": [
      "[I 2024-10-04 11:53:47,728] Trial 613 finished with value: 0.6338709677419354 and parameters: {'lr': 2.9683344838370376e-05, 'weight_decay': 0.0010958576530626088}. Best is trial 483 with value: 0.8469945355191256.\n",
      "WARNING: Maximum number of iterations 32 reached. The mean may be inaccurate\n"
     ]
    },
    {
     "name": "stdout",
     "output_type": "stream",
     "text": [
      "SVD 수렴 문제 발생: SVD did not converge. 계속 진행합니다.\n"
     ]
    },
    {
     "name": "stderr",
     "output_type": "stream",
     "text": [
      "[I 2024-10-04 11:58:36,682] Trial 614 finished with value: 0.7475409836065573 and parameters: {'lr': 2.3237154709976998e-05, 'weight_decay': 0.0017847987169874867}. Best is trial 483 with value: 0.8469945355191256.\n",
      "WARNING: Maximum number of iterations 32 reached. The mean may be inaccurate\n"
     ]
    },
    {
     "name": "stdout",
     "output_type": "stream",
     "text": [
      "SVD 수렴 문제 발생: SVD did not converge. 계속 진행합니다.\n"
     ]
    },
    {
     "name": "stderr",
     "output_type": "stream",
     "text": [
      "[I 2024-10-04 12:03:26,187] Trial 615 finished with value: 0.6681818181818182 and parameters: {'lr': 2.7379937913269785e-05, 'weight_decay': 0.0023487668021464794}. Best is trial 483 with value: 0.8469945355191256.\n",
      "WARNING: Maximum number of iterations 32 reached. The mean may be inaccurate\n"
     ]
    },
    {
     "name": "stdout",
     "output_type": "stream",
     "text": [
      "SVD 수렴 문제 발생: SVD did not converge. 계속 진행합니다.\n"
     ]
    },
    {
     "name": "stderr",
     "output_type": "stream",
     "text": [
      "[I 2024-10-04 12:08:14,463] Trial 616 finished with value: 0.5162907268170426 and parameters: {'lr': 1.991981091228258e-05, 'weight_decay': 0.0012216772242192118}. Best is trial 483 with value: 0.8469945355191256.\n",
      "WARNING: Maximum number of iterations 32 reached. The mean may be inaccurate\n"
     ]
    },
    {
     "name": "stdout",
     "output_type": "stream",
     "text": [
      "SVD 수렴 문제 발생: SVD did not converge. 계속 진행합니다.\n"
     ]
    },
    {
     "name": "stderr",
     "output_type": "stream",
     "text": [
      "[I 2024-10-04 12:13:02,547] Trial 617 finished with value: 0.6446969696969697 and parameters: {'lr': 1.5244202238989573e-05, 'weight_decay': 0.0015858540706389563}. Best is trial 483 with value: 0.8469945355191256.\n",
      "WARNING: Maximum number of iterations 32 reached. The mean may be inaccurate\n"
     ]
    },
    {
     "name": "stdout",
     "output_type": "stream",
     "text": [
      "SVD 수렴 문제 발생: SVD did not converge. 계속 진행합니다.\n"
     ]
    },
    {
     "name": "stderr",
     "output_type": "stream",
     "text": [
      "[I 2024-10-04 12:17:49,763] Trial 618 finished with value: 0.6612903225806451 and parameters: {'lr': 2.938279614968676e-05, 'weight_decay': 0.0011613943987110226}. Best is trial 483 with value: 0.8469945355191256.\n",
      "WARNING: Maximum number of iterations 32 reached. The mean may be inaccurate\n"
     ]
    },
    {
     "name": "stdout",
     "output_type": "stream",
     "text": [
      "SVD 수렴 문제 발생: SVD did not converge. 계속 진행합니다.\n"
     ]
    },
    {
     "name": "stderr",
     "output_type": "stream",
     "text": [
      "[I 2024-10-04 12:22:37,781] Trial 619 finished with value: 0.5725865880619013 and parameters: {'lr': 3.506150982979205e-05, 'weight_decay': 0.0019643297441120627}. Best is trial 483 with value: 0.8469945355191256.\n",
      "WARNING: Maximum number of iterations 32 reached. The mean may be inaccurate\n"
     ]
    },
    {
     "name": "stdout",
     "output_type": "stream",
     "text": [
      "SVD 수렴 문제 발생: SVD did not converge. 계속 진행합니다.\n"
     ]
    },
    {
     "name": "stderr",
     "output_type": "stream",
     "text": [
      "[I 2024-10-04 12:27:27,621] Trial 620 finished with value: 0.5386416861826697 and parameters: {'lr': 2.7209167501844043e-05, 'weight_decay': 0.0013732562850641325}. Best is trial 483 with value: 0.8469945355191256.\n",
      "WARNING: Maximum number of iterations 32 reached. The mean may be inaccurate\n"
     ]
    },
    {
     "name": "stdout",
     "output_type": "stream",
     "text": [
      "SVD 수렴 문제 발생: SVD did not converge. 계속 진행합니다.\n"
     ]
    },
    {
     "name": "stderr",
     "output_type": "stream",
     "text": [
      "[I 2024-10-04 12:32:16,643] Trial 621 finished with value: 0.6838709677419356 and parameters: {'lr': 4.177631165247274e-05, 'weight_decay': 0.0015814787386178614}. Best is trial 483 with value: 0.8469945355191256.\n",
      "WARNING: Maximum number of iterations 32 reached. The mean may be inaccurate\n"
     ]
    },
    {
     "name": "stdout",
     "output_type": "stream",
     "text": [
      "SVD 수렴 문제 발생: SVD did not converge. 계속 진행합니다.\n"
     ]
    },
    {
     "name": "stderr",
     "output_type": "stream",
     "text": [
      "[I 2024-10-04 12:37:00,235] Trial 622 finished with value: 0.5403225806451614 and parameters: {'lr': 0.0049174626860222555, 'weight_decay': 0.0010300920441814268}. Best is trial 483 with value: 0.8469945355191256.\n",
      "WARNING: Maximum number of iterations 32 reached. The mean may be inaccurate\n"
     ]
    },
    {
     "name": "stdout",
     "output_type": "stream",
     "text": [
      "SVD 수렴 문제 발생: SVD did not converge. 계속 진행합니다.\n"
     ]
    },
    {
     "name": "stderr",
     "output_type": "stream",
     "text": [
      "[I 2024-10-04 12:41:48,397] Trial 623 finished with value: 0.7068965517241379 and parameters: {'lr': 9.905616115713275e-06, 'weight_decay': 0.001101793214194857}. Best is trial 483 with value: 0.8469945355191256.\n",
      "WARNING: Maximum number of iterations 32 reached. The mean may be inaccurate\n"
     ]
    },
    {
     "name": "stdout",
     "output_type": "stream",
     "text": [
      "SVD 수렴 문제 발생: SVD did not converge. 계속 진행합니다.\n"
     ]
    },
    {
     "name": "stderr",
     "output_type": "stream",
     "text": [
      "[I 2024-10-04 12:46:37,299] Trial 624 finished with value: 0.5956284153005464 and parameters: {'lr': 3.837029928320301e-05, 'weight_decay': 6.034468011651564e-05}. Best is trial 483 with value: 0.8469945355191256.\n",
      "WARNING: Maximum number of iterations 32 reached. The mean may be inaccurate\n",
      "[I 2024-10-04 12:51:27,449] Trial 625 finished with value: 0.7423887587822013 and parameters: {'lr': 2.268019052331201e-05, 'weight_decay': 3.898861642365872e-05}. Best is trial 483 with value: 0.8469945355191256.\n"
     ]
    },
    {
     "name": "stdout",
     "output_type": "stream",
     "text": [
      "SVD 수렴 문제 발생: SVD did not converge. 계속 진행합니다.\n"
     ]
    },
    {
     "name": "stderr",
     "output_type": "stream",
     "text": [
      "WARNING: Maximum number of iterations 32 reached. The mean may be inaccurate\n"
     ]
    },
    {
     "name": "stdout",
     "output_type": "stream",
     "text": [
      "SVD 수렴 문제 발생: SVD did not converge. 계속 진행합니다.\n"
     ]
    },
    {
     "name": "stderr",
     "output_type": "stream",
     "text": [
      "[I 2024-10-04 12:56:14,309] Trial 626 finished with value: 0.631060606060606 and parameters: {'lr': 1.3128329704816392e-05, 'weight_decay': 0.0008940098302482116}. Best is trial 483 with value: 0.8469945355191256.\n",
      "WARNING: Maximum number of iterations 32 reached. The mean may be inaccurate\n"
     ]
    },
    {
     "name": "stdout",
     "output_type": "stream",
     "text": [
      "SVD 수렴 문제 발생: SVD did not converge. 계속 진행합니다.\n"
     ]
    },
    {
     "name": "stderr",
     "output_type": "stream",
     "text": [
      "[I 2024-10-04 13:01:02,278] Trial 627 finished with value: 0.6276346604215456 and parameters: {'lr': 4.7286082912573096e-05, 'weight_decay': 0.0012876371578923822}. Best is trial 483 with value: 0.8469945355191256.\n",
      "WARNING: Maximum number of iterations 32 reached. The mean may be inaccurate\n"
     ]
    },
    {
     "name": "stdout",
     "output_type": "stream",
     "text": [
      "SVD 수렴 문제 발생: SVD did not converge. 계속 진행합니다.\n"
     ]
    },
    {
     "name": "stderr",
     "output_type": "stream",
     "text": [
      "[I 2024-10-04 13:05:49,733] Trial 628 finished with value: 0.711779448621554 and parameters: {'lr': 3.4713070350481555e-05, 'weight_decay': 0.0018645901666524238}. Best is trial 483 with value: 0.8469945355191256.\n",
      "WARNING: Maximum number of iterations 32 reached. The mean may be inaccurate\n"
     ]
    },
    {
     "name": "stdout",
     "output_type": "stream",
     "text": [
      "SVD 수렴 문제 발생: SVD did not converge. 계속 진행합니다.\n"
     ]
    },
    {
     "name": "stderr",
     "output_type": "stream",
     "text": [
      "[I 2024-10-04 13:10:38,294] Trial 629 finished with value: 0.7113636363636363 and parameters: {'lr': 2.7219123188841846e-05, 'weight_decay': 0.0014748533579278388}. Best is trial 483 with value: 0.8469945355191256.\n",
      "WARNING: Maximum number of iterations 32 reached. The mean may be inaccurate\n"
     ]
    },
    {
     "name": "stdout",
     "output_type": "stream",
     "text": [
      "SVD 수렴 문제 발생: SVD did not converge. 계속 진행합니다.\n"
     ]
    },
    {
     "name": "stderr",
     "output_type": "stream",
     "text": [
      "[I 2024-10-04 13:15:26,606] Trial 630 finished with value: 0.6717741935483872 and parameters: {'lr': 4.408599565369524e-05, 'weight_decay': 2.026464774858169e-05}. Best is trial 483 with value: 0.8469945355191256.\n",
      "WARNING: Maximum number of iterations 32 reached. The mean may be inaccurate\n"
     ]
    },
    {
     "name": "stdout",
     "output_type": "stream",
     "text": [
      "SVD 수렴 문제 발생: SVD did not converge. 계속 진행합니다.\n"
     ]
    },
    {
     "name": "stderr",
     "output_type": "stream",
     "text": [
      "[I 2024-10-04 13:20:14,794] Trial 631 finished with value: 0.6598484848484848 and parameters: {'lr': 1.770329861699163e-05, 'weight_decay': 0.0010755361907656953}. Best is trial 483 with value: 0.8469945355191256.\n",
      "WARNING: Maximum number of iterations 32 reached. The mean may be inaccurate\n"
     ]
    },
    {
     "name": "stdout",
     "output_type": "stream",
     "text": [
      "SVD 수렴 문제 발생: SVD did not converge. 계속 진행합니다.\n"
     ]
    },
    {
     "name": "stderr",
     "output_type": "stream",
     "text": [
      "[I 2024-10-04 13:25:02,819] Trial 632 finished with value: 0.6234340456890199 and parameters: {'lr': 5.799836629035669e-06, 'weight_decay': 0.0007842873463153871}. Best is trial 483 with value: 0.8469945355191256.\n",
      "WARNING: Maximum number of iterations 32 reached. The mean may be inaccurate\n"
     ]
    },
    {
     "name": "stdout",
     "output_type": "stream",
     "text": [
      "SVD 수렴 문제 발생: SVD did not converge. 계속 진행합니다.\n"
     ]
    },
    {
     "name": "stderr",
     "output_type": "stream",
     "text": [
      "[I 2024-10-04 13:29:51,176] Trial 633 finished with value: 0.6037878787878788 and parameters: {'lr': 2.7537445624701796e-05, 'weight_decay': 0.0009725401792419426}. Best is trial 483 with value: 0.8469945355191256.\n",
      "WARNING: Maximum number of iterations 32 reached. The mean may be inaccurate\n"
     ]
    },
    {
     "name": "stdout",
     "output_type": "stream",
     "text": [
      "SVD 수렴 문제 발생: SVD did not converge. 계속 진행합니다.\n"
     ]
    },
    {
     "name": "stderr",
     "output_type": "stream",
     "text": [
      "[I 2024-10-04 13:34:39,107] Trial 634 finished with value: 0.6260733801717409 and parameters: {'lr': 3.5635729422254667e-05, 'weight_decay': 0.0012618179473643462}. Best is trial 483 with value: 0.8469945355191256.\n",
      "WARNING: Maximum number of iterations 32 reached. The mean may be inaccurate\n"
     ]
    },
    {
     "name": "stdout",
     "output_type": "stream",
     "text": [
      "SVD 수렴 문제 발생: SVD did not converge. 계속 진행합니다.\n"
     ]
    },
    {
     "name": "stderr",
     "output_type": "stream",
     "text": [
      "[I 2024-10-04 13:39:27,713] Trial 635 finished with value: 0.5959677419354839 and parameters: {'lr': 5.303500924904666e-05, 'weight_decay': 0.0022128408887428733}. Best is trial 483 with value: 0.8469945355191256.\n",
      "WARNING: Maximum number of iterations 32 reached. The mean may be inaccurate\n"
     ]
    },
    {
     "name": "stdout",
     "output_type": "stream",
     "text": [
      "SVD 수렴 문제 발생: SVD did not converge. 계속 진행합니다.\n"
     ]
    },
    {
     "name": "stderr",
     "output_type": "stream",
     "text": [
      "[I 2024-10-04 13:44:16,231] Trial 636 finished with value: 0.664516129032258 and parameters: {'lr': 2.0534826634539028e-05, 'weight_decay': 0.0007902293983588048}. Best is trial 483 with value: 0.8469945355191256.\n",
      "WARNING: Maximum number of iterations 32 reached. The mean may be inaccurate\n"
     ]
    },
    {
     "name": "stdout",
     "output_type": "stream",
     "text": [
      "SVD 수렴 문제 발생: SVD did not converge. 계속 진행합니다.\n"
     ]
    },
    {
     "name": "stderr",
     "output_type": "stream",
     "text": [
      "[I 2024-10-04 13:49:05,832] Trial 637 finished with value: 0.629976580796253 and parameters: {'lr': 2.8655016554597773e-05, 'weight_decay': 1.4154389924483457e-05}. Best is trial 483 with value: 0.8469945355191256.\n",
      "WARNING: Maximum number of iterations 32 reached. The mean may be inaccurate\n"
     ]
    },
    {
     "name": "stdout",
     "output_type": "stream",
     "text": [
      "SVD 수렴 문제 발생: SVD did not converge. 계속 진행합니다.\n"
     ]
    },
    {
     "name": "stderr",
     "output_type": "stream",
     "text": [
      "[I 2024-10-04 13:53:54,938] Trial 638 finished with value: 0.6510015408320493 and parameters: {'lr': 3.963288724190358e-06, 'weight_decay': 0.0014725249232095752}. Best is trial 483 with value: 0.8469945355191256.\n",
      "WARNING: Maximum number of iterations 32 reached. The mean may be inaccurate\n"
     ]
    },
    {
     "name": "stdout",
     "output_type": "stream",
     "text": [
      "SVD 수렴 문제 발생: SVD did not converge. 계속 진행합니다.\n"
     ]
    },
    {
     "name": "stderr",
     "output_type": "stream",
     "text": [
      "[I 2024-10-04 13:58:44,522] Trial 639 finished with value: 0.7237704918032787 and parameters: {'lr': 4.218635622320634e-05, 'weight_decay': 0.0009572816352169082}. Best is trial 483 with value: 0.8469945355191256.\n",
      "WARNING: Maximum number of iterations 32 reached. The mean may be inaccurate\n",
      "[I 2024-10-04 14:03:34,741] Trial 640 finished with value: 0.6807181889149103 and parameters: {'lr': 3.242939322793877e-05, 'weight_decay': 0.0006848708763019505}. Best is trial 483 with value: 0.8469945355191256.\n"
     ]
    },
    {
     "name": "stdout",
     "output_type": "stream",
     "text": [
      "SVD 수렴 문제 발생: SVD did not converge. 계속 진행합니다.\n"
     ]
    },
    {
     "name": "stderr",
     "output_type": "stream",
     "text": [
      "WARNING: Maximum number of iterations 32 reached. The mean may be inaccurate\n"
     ]
    },
    {
     "name": "stdout",
     "output_type": "stream",
     "text": [
      "SVD 수렴 문제 발생: SVD did not converge. 계속 진행합니다.\n"
     ]
    },
    {
     "name": "stderr",
     "output_type": "stream",
     "text": [
      "[I 2024-10-04 14:08:23,044] Trial 641 finished with value: 0.5995316159250585 and parameters: {'lr': 5.338615202359199e-05, 'weight_decay': 2.7847015922122964e-05}. Best is trial 483 with value: 0.8469945355191256.\n",
      "WARNING: Maximum number of iterations 32 reached. The mean may be inaccurate\n"
     ]
    },
    {
     "name": "stdout",
     "output_type": "stream",
     "text": [
      "SVD 수렴 문제 발생: SVD did not converge. 계속 진행합니다.\n"
     ]
    },
    {
     "name": "stderr",
     "output_type": "stream",
     "text": [
      "[I 2024-10-04 14:13:12,494] Trial 642 finished with value: 0.7403225806451613 and parameters: {'lr': 2.252946320226124e-05, 'weight_decay': 0.001235044174030138}. Best is trial 483 with value: 0.8469945355191256.\n",
      "WARNING: Maximum number of iterations 32 reached. The mean may be inaccurate\n"
     ]
    },
    {
     "name": "stdout",
     "output_type": "stream",
     "text": [
      "SVD 수렴 문제 발생: SVD did not converge. 계속 진행합니다.\n"
     ]
    },
    {
     "name": "stderr",
     "output_type": "stream",
     "text": [
      "[I 2024-10-04 14:18:02,015] Trial 643 finished with value: 0.6315378610460578 and parameters: {'lr': 3.526156299639944e-05, 'weight_decay': 0.0008727340632156877}. Best is trial 483 with value: 0.8469945355191256.\n",
      "WARNING: Maximum number of iterations 32 reached. The mean may be inaccurate\n"
     ]
    },
    {
     "name": "stdout",
     "output_type": "stream",
     "text": [
      "SVD 수렴 문제 발생: SVD did not converge. 계속 진행합니다.\n"
     ]
    },
    {
     "name": "stderr",
     "output_type": "stream",
     "text": [
      "[I 2024-10-04 14:22:51,573] Trial 644 finished with value: 0.5792349726775956 and parameters: {'lr': 8.675913512541271e-06, 'weight_decay': 0.0016911216566161016}. Best is trial 483 with value: 0.8469945355191256.\n",
      "WARNING: Maximum number of iterations 32 reached. The mean may be inaccurate\n"
     ]
    },
    {
     "name": "stdout",
     "output_type": "stream",
     "text": [
      "SVD 수렴 문제 발생: SVD did not converge. 계속 진행합니다.\n"
     ]
    },
    {
     "name": "stderr",
     "output_type": "stream",
     "text": [
      "[I 2024-10-04 14:27:41,327] Trial 645 finished with value: 0.6606060606060606 and parameters: {'lr': 3.5211674827672613e-06, 'weight_decay': 0.0010610708096081705}. Best is trial 483 with value: 0.8469945355191256.\n",
      "WARNING: Maximum number of iterations 32 reached. The mean may be inaccurate\n"
     ]
    },
    {
     "name": "stdout",
     "output_type": "stream",
     "text": [
      "SVD 수렴 문제 발생: SVD did not converge. 계속 진행합니다.\n"
     ]
    },
    {
     "name": "stderr",
     "output_type": "stream",
     "text": [
      "[I 2024-10-04 14:32:30,635] Trial 646 finished with value: 0.7017954722872756 and parameters: {'lr': 1.4727745218646254e-05, 'weight_decay': 0.0007194026395761206}. Best is trial 483 with value: 0.8469945355191256.\n",
      "WARNING: Maximum number of iterations 32 reached. The mean may be inaccurate\n"
     ]
    },
    {
     "name": "stdout",
     "output_type": "stream",
     "text": [
      "SVD 수렴 문제 발생: SVD did not converge. 계속 진행합니다.\n"
     ]
    },
    {
     "name": "stderr",
     "output_type": "stream",
     "text": [
      "[I 2024-10-04 14:37:20,991] Trial 647 finished with value: 0.6393939393939394 and parameters: {'lr': 5.036632440685637e-06, 'weight_decay': 7.14456006328513e-05}. Best is trial 483 with value: 0.8469945355191256.\n",
      "WARNING: Maximum number of iterations 32 reached. The mean may be inaccurate\n"
     ]
    },
    {
     "name": "stdout",
     "output_type": "stream",
     "text": [
      "SVD 수렴 문제 발생: SVD did not converge. 계속 진행합니다.\n"
     ]
    },
    {
     "name": "stderr",
     "output_type": "stream",
     "text": [
      "[I 2024-10-04 14:42:12,243] Trial 648 finished with value: 0.653225806451613 and parameters: {'lr': 2.5086032946161404e-05, 'weight_decay': 0.0033301251039956213}. Best is trial 483 with value: 0.8469945355191256.\n",
      "WARNING: Maximum number of iterations 32 reached. The mean may be inaccurate\n"
     ]
    },
    {
     "name": "stdout",
     "output_type": "stream",
     "text": [
      "SVD 수렴 문제 발생: SVD did not converge. 계속 진행합니다.\n"
     ]
    },
    {
     "name": "stderr",
     "output_type": "stream",
     "text": [
      "[I 2024-10-04 14:47:02,781] Trial 649 finished with value: 0.5745511319281811 and parameters: {'lr': 3.096588387136412e-05, 'weight_decay': 0.0026082462503688947}. Best is trial 483 with value: 0.8469945355191256.\n",
      "[I 2024-10-04 14:51:53,375] Trial 650 finished with value: 0.7030303030303029 and parameters: {'lr': 1.149232170419798e-05, 'weight_decay': 0.0006273504762363447}. Best is trial 483 with value: 0.8469945355191256.\n",
      "WARNING: Maximum number of iterations 32 reached. The mean may be inaccurate\n"
     ]
    },
    {
     "name": "stdout",
     "output_type": "stream",
     "text": [
      "SVD 수렴 문제 발생: SVD did not converge. 계속 진행합니다.\n"
     ]
    },
    {
     "name": "stderr",
     "output_type": "stream",
     "text": [
      "[I 2024-10-04 14:56:45,966] Trial 651 finished with value: 0.6783762685402029 and parameters: {'lr': 6.479575299640121e-05, 'weight_decay': 0.0012026932279020411}. Best is trial 483 with value: 0.8469945355191256.\n",
      "WARNING: Maximum number of iterations 32 reached. The mean may be inaccurate\n"
     ]
    },
    {
     "name": "stdout",
     "output_type": "stream",
     "text": [
      "SVD 수렴 문제 발생: SVD did not converge. 계속 진행합니다.\n"
     ]
    },
    {
     "name": "stderr",
     "output_type": "stream",
     "text": [
      "[I 2024-10-04 15:01:37,846] Trial 652 finished with value: 0.7269841269841271 and parameters: {'lr': 4.936148847163636e-05, 'weight_decay': 0.0018264827538475262}. Best is trial 483 with value: 0.8469945355191256.\n",
      "WARNING: Maximum number of iterations 32 reached. The mean may be inaccurate\n"
     ]
    },
    {
     "name": "stdout",
     "output_type": "stream",
     "text": [
      "SVD 수렴 문제 발생: SVD did not converge. 계속 진행합니다.\n"
     ]
    },
    {
     "name": "stderr",
     "output_type": "stream",
     "text": [
      "[I 2024-10-04 15:06:30,015] Trial 653 finished with value: 0.6871212121212121 and parameters: {'lr': 3.8999322809479163e-05, 'weight_decay': 0.000816622918641093}. Best is trial 483 with value: 0.8469945355191256.\n",
      "WARNING: Maximum number of iterations 32 reached. The mean may be inaccurate\n"
     ]
    },
    {
     "name": "stdout",
     "output_type": "stream",
     "text": [
      "SVD 수렴 문제 발생: SVD did not converge. 계속 진행합니다.\n"
     ]
    },
    {
     "name": "stderr",
     "output_type": "stream",
     "text": [
      "[I 2024-10-04 15:11:20,835] Trial 654 finished with value: 0.5718496683861459 and parameters: {'lr': 1.8790079774475723e-05, 'weight_decay': 0.0015594665634187117}. Best is trial 483 with value: 0.8469945355191256.\n",
      "WARNING: Maximum number of iterations 32 reached. The mean may be inaccurate\n"
     ]
    },
    {
     "name": "stdout",
     "output_type": "stream",
     "text": [
      "SVD 수렴 문제 발생: SVD did not converge. 계속 진행합니다.\n"
     ]
    },
    {
     "name": "stderr",
     "output_type": "stream",
     "text": [
      "[I 2024-10-04 15:16:13,580] Trial 655 finished with value: 0.6557377049180326 and parameters: {'lr': 2.5765871166863533e-05, 'weight_decay': 0.0010091075366776196}. Best is trial 483 with value: 0.8469945355191256.\n",
      "WARNING: Maximum number of iterations 32 reached. The mean may be inaccurate\n"
     ]
    },
    {
     "name": "stdout",
     "output_type": "stream",
     "text": [
      "SVD 수렴 문제 발생: SVD did not converge. 계속 진행합니다.\n"
     ]
    },
    {
     "name": "stderr",
     "output_type": "stream",
     "text": [
      "[I 2024-10-04 15:21:05,458] Trial 656 finished with value: 0.6377829820452772 and parameters: {'lr': 4.386052722586203e-05, 'weight_decay': 0.0005887832406919927}. Best is trial 483 with value: 0.8469945355191256.\n",
      "WARNING: Maximum number of iterations 32 reached. The mean may be inaccurate\n"
     ]
    },
    {
     "name": "stdout",
     "output_type": "stream",
     "text": [
      "SVD 수렴 문제 발생: SVD did not converge. 계속 진행합니다.\n"
     ]
    },
    {
     "name": "stderr",
     "output_type": "stream",
     "text": [
      "[I 2024-10-04 15:25:58,412] Trial 657 finished with value: 0.6518345042935206 and parameters: {'lr': 6.987317672877291e-06, 'weight_decay': 0.0013659716821034405}. Best is trial 483 with value: 0.8469945355191256.\n",
      "WARNING: Maximum number of iterations 32 reached. The mean may be inaccurate\n"
     ]
    },
    {
     "name": "stdout",
     "output_type": "stream",
     "text": [
      "SVD 수렴 문제 발생: SVD did not converge. 계속 진행합니다.\n"
     ]
    },
    {
     "name": "stderr",
     "output_type": "stream",
     "text": [
      "[I 2024-10-04 15:30:52,649] Trial 658 finished with value: 0.6541353383458647 and parameters: {'lr': 5.801455176153864e-05, 'weight_decay': 0.0008758136993714676}. Best is trial 483 with value: 0.8469945355191256.\n",
      "WARNING: Maximum number of iterations 32 reached. The mean may be inaccurate\n"
     ]
    },
    {
     "name": "stdout",
     "output_type": "stream",
     "text": [
      "SVD 수렴 문제 발생: SVD did not converge. 계속 진행합니다.\n"
     ]
    },
    {
     "name": "stderr",
     "output_type": "stream",
     "text": [
      "[I 2024-10-04 15:35:46,283] Trial 659 finished with value: 0.6459677419354839 and parameters: {'lr': 3.622320612190335e-05, 'weight_decay': 0.0007165834554922087}. Best is trial 483 with value: 0.8469945355191256.\n",
      "WARNING: Maximum number of iterations 32 reached. The mean may be inaccurate\n"
     ]
    },
    {
     "name": "stdout",
     "output_type": "stream",
     "text": [
      "SVD 수렴 문제 발생: SVD did not converge. 계속 진행합니다.\n"
     ]
    },
    {
     "name": "stderr",
     "output_type": "stream",
     "text": [
      "[I 2024-10-04 15:40:40,617] Trial 660 finished with value: 0.5871212121212122 and parameters: {'lr': 3.1816917362459286e-05, 'weight_decay': 0.0011931024637252734}. Best is trial 483 with value: 0.8469945355191256.\n",
      "WARNING: Maximum number of iterations 32 reached. The mean may be inaccurate\n"
     ]
    },
    {
     "name": "stdout",
     "output_type": "stream",
     "text": [
      "SVD 수렴 문제 발생: SVD did not converge. 계속 진행합니다.\n"
     ]
    },
    {
     "name": "stderr",
     "output_type": "stream",
     "text": [
      "[I 2024-10-04 15:45:34,825] Trial 661 finished with value: 0.6333333333333334 and parameters: {'lr': 2.190643596736948e-05, 'weight_decay': 0.0009881544578853126}. Best is trial 483 with value: 0.8469945355191256.\n",
      "WARNING: Maximum number of iterations 32 reached. The mean may be inaccurate\n"
     ]
    },
    {
     "name": "stdout",
     "output_type": "stream",
     "text": [
      "SVD 수렴 문제 발생: SVD did not converge. 계속 진행합니다.\n"
     ]
    },
    {
     "name": "stderr",
     "output_type": "stream",
     "text": [
      "[I 2024-10-04 15:50:28,197] Trial 662 finished with value: 0.6471506635441061 and parameters: {'lr': 4.208502162523212e-05, 'weight_decay': 8.527506078917385e-05}. Best is trial 483 with value: 0.8469945355191256.\n",
      "WARNING: Maximum number of iterations 32 reached. The mean may be inaccurate\n"
     ]
    },
    {
     "name": "stdout",
     "output_type": "stream",
     "text": [
      "SVD 수렴 문제 발생: SVD did not converge. 계속 진행합니다.\n"
     ]
    },
    {
     "name": "stderr",
     "output_type": "stream",
     "text": [
      "[I 2024-10-04 15:55:20,976] Trial 663 finished with value: 0.6862903225806452 and parameters: {'lr': 2.9866604779046048e-05, 'weight_decay': 0.0005772220308138296}. Best is trial 483 with value: 0.8469945355191256.\n",
      "WARNING: Maximum number of iterations 32 reached. The mean may be inaccurate\n"
     ]
    },
    {
     "name": "stdout",
     "output_type": "stream",
     "text": [
      "SVD 수렴 문제 발생: SVD did not converge. 계속 진행합니다.\n"
     ]
    },
    {
     "name": "stderr",
     "output_type": "stream",
     "text": [
      "[I 2024-10-04 16:00:14,852] Trial 664 finished with value: 0.6693548387096775 and parameters: {'lr': 7.0659545670968e-05, 'weight_decay': 0.000756196693660233}. Best is trial 483 with value: 0.8469945355191256.\n",
      "WARNING: Maximum number of iterations 32 reached. The mean may be inaccurate\n"
     ]
    },
    {
     "name": "stdout",
     "output_type": "stream",
     "text": [
      "SVD 수렴 문제 발생: SVD did not converge. 계속 진행합니다.\n"
     ]
    },
    {
     "name": "stderr",
     "output_type": "stream",
     "text": [
      "[I 2024-10-04 16:05:08,265] Trial 665 finished with value: 0.6721311475409836 and parameters: {'lr': 4.9025806082237925e-05, 'weight_decay': 0.002012790536826667}. Best is trial 483 with value: 0.8469945355191256.\n",
      "WARNING: Maximum number of iterations 32 reached. The mean may be inaccurate\n"
     ]
    },
    {
     "name": "stdout",
     "output_type": "stream",
     "text": [
      "SVD 수렴 문제 발생: SVD did not converge. 계속 진행합니다.\n"
     ]
    },
    {
     "name": "stderr",
     "output_type": "stream",
     "text": [
      "[I 2024-10-04 16:10:01,798] Trial 666 finished with value: 0.5630743525480367 and parameters: {'lr': 2.4220475460214736e-05, 'weight_decay': 0.0014725030547800154}. Best is trial 483 with value: 0.8469945355191256.\n",
      "WARNING: Maximum number of iterations 32 reached. The mean may be inaccurate\n"
     ]
    },
    {
     "name": "stdout",
     "output_type": "stream",
     "text": [
      "SVD 수렴 문제 발생: SVD did not converge. 계속 진행합니다.\n"
     ]
    },
    {
     "name": "stderr",
     "output_type": "stream",
     "text": [
      "[I 2024-10-04 16:14:55,929] Trial 667 finished with value: 0.6466165413533834 and parameters: {'lr': 3.762909130633495e-05, 'weight_decay': 0.0011215197851717647}. Best is trial 483 with value: 0.8469945355191256.\n",
      "WARNING: Maximum number of iterations 32 reached. The mean may be inaccurate\n"
     ]
    },
    {
     "name": "stdout",
     "output_type": "stream",
     "text": [
      "SVD 수렴 문제 발생: SVD did not converge. 계속 진행합니다.\n"
     ]
    },
    {
     "name": "stderr",
     "output_type": "stream",
     "text": [
      "[I 2024-10-04 16:19:50,804] Trial 668 finished with value: 0.6878306878306879 and parameters: {'lr': 1.67264993317114e-05, 'weight_decay': 0.0009352042347546062}. Best is trial 483 with value: 0.8469945355191256.\n",
      "WARNING: Maximum number of iterations 32 reached. The mean may be inaccurate\n"
     ]
    },
    {
     "name": "stdout",
     "output_type": "stream",
     "text": [
      "SVD 수렴 문제 발생: SVD did not converge. 계속 진행합니다.\n"
     ]
    },
    {
     "name": "stderr",
     "output_type": "stream",
     "text": [
      "[I 2024-10-04 16:24:44,165] Trial 669 finished with value: 0.6939890710382514 and parameters: {'lr': 2.9697357729942037e-05, 'weight_decay': 0.0006491899237384777}. Best is trial 483 with value: 0.8469945355191256.\n",
      "WARNING: Maximum number of iterations 32 reached. The mean may be inaccurate\n",
      "[I 2024-10-04 16:29:33,465] Trial 670 finished with value: 0.5166666666666666 and parameters: {'lr': 0.0036466204206605283, 'weight_decay': 0.0016795731015868808}. Best is trial 483 with value: 0.8469945355191256.\n"
     ]
    },
    {
     "name": "stdout",
     "output_type": "stream",
     "text": [
      "SVD 수렴 문제 발생: SVD did not converge. 계속 진행합니다.\n"
     ]
    },
    {
     "name": "stderr",
     "output_type": "stream",
     "text": [
      "WARNING: Maximum number of iterations 32 reached. The mean may be inaccurate\n"
     ]
    },
    {
     "name": "stdout",
     "output_type": "stream",
     "text": [
      "SVD 수렴 문제 발생: SVD did not converge. 계속 진행합니다.\n"
     ]
    },
    {
     "name": "stderr",
     "output_type": "stream",
     "text": [
      "[I 2024-10-04 16:34:27,197] Trial 671 finished with value: 0.7113636363636364 and parameters: {'lr': 6.22503770307105e-05, 'weight_decay': 0.0013243677818519516}. Best is trial 483 with value: 0.8469945355191256.\n",
      "WARNING: Maximum number of iterations 32 reached. The mean may be inaccurate\n"
     ]
    },
    {
     "name": "stdout",
     "output_type": "stream",
     "text": [
      "SVD 수렴 문제 발생: SVD did not converge. 계속 진행합니다.\n"
     ]
    },
    {
     "name": "stderr",
     "output_type": "stream",
     "text": [
      "[I 2024-10-04 16:39:21,146] Trial 672 finished with value: 0.6987673343605547 and parameters: {'lr': 4.893723363792565e-06, 'weight_decay': 0.00010414076781091567}. Best is trial 483 with value: 0.8469945355191256.\n",
      "WARNING: Maximum number of iterations 32 reached. The mean may be inaccurate\n"
     ]
    },
    {
     "name": "stdout",
     "output_type": "stream",
     "text": [
      "SVD 수렴 문제 발생: SVD did not converge. 계속 진행합니다.\n"
     ]
    },
    {
     "name": "stderr",
     "output_type": "stream",
     "text": [
      "[I 2024-10-04 16:44:14,350] Trial 673 finished with value: 0.6671802773497688 and parameters: {'lr': 9.435267914981746e-06, 'weight_decay': 0.000871099004491251}. Best is trial 483 with value: 0.8469945355191256.\n",
      "WARNING: Maximum number of iterations 32 reached. The mean may be inaccurate\n"
     ]
    },
    {
     "name": "stdout",
     "output_type": "stream",
     "text": [
      "SVD 수렴 문제 발생: SVD did not converge. 계속 진행합니다.\n"
     ]
    },
    {
     "name": "stderr",
     "output_type": "stream",
     "text": [
      "[I 2024-10-04 16:49:08,011] Trial 674 finished with value: 0.6548387096774193 and parameters: {'lr': 4.685167962211765e-05, 'weight_decay': 0.0007262436234989654}. Best is trial 483 with value: 0.8469945355191256.\n",
      "WARNING: Maximum number of iterations 32 reached. The mean may be inaccurate\n"
     ]
    },
    {
     "name": "stdout",
     "output_type": "stream",
     "text": [
      "SVD 수렴 문제 발생: SVD did not converge. 계속 진행합니다.\n"
     ]
    },
    {
     "name": "stderr",
     "output_type": "stream",
     "text": [
      "[I 2024-10-04 16:54:00,256] Trial 675 finished with value: 0.6696969696969697 and parameters: {'lr': 3.4606562350190323e-06, 'weight_decay': 0.0005145638618049827}. Best is trial 483 with value: 0.8469945355191256.\n",
      "WARNING: Maximum number of iterations 32 reached. The mean may be inaccurate\n"
     ]
    },
    {
     "name": "stdout",
     "output_type": "stream",
     "text": [
      "SVD 수렴 문제 발생: SVD did not converge. 계속 진행합니다.\n"
     ]
    },
    {
     "name": "stderr",
     "output_type": "stream",
     "text": [
      "[I 2024-10-04 16:58:53,946] Trial 676 finished with value: 0.5911290322580646 and parameters: {'lr': 3.366111749025936e-05, 'weight_decay': 0.0011062100820227012}. Best is trial 483 with value: 0.8469945355191256.\n",
      "WARNING: Maximum number of iterations 32 reached. The mean may be inaccurate\n",
      "[I 2024-10-04 17:03:48,244] Trial 677 finished with value: 0.658312447786132 and parameters: {'lr': 2.247069725327385e-05, 'weight_decay': 4.7098455918203054e-05}. Best is trial 483 with value: 0.8469945355191256.\n"
     ]
    },
    {
     "name": "stdout",
     "output_type": "stream",
     "text": [
      "SVD 수렴 문제 발생: SVD did not converge. 계속 진행합니다.\n"
     ]
    },
    {
     "name": "stderr",
     "output_type": "stream",
     "text": [
      "WARNING: Maximum number of iterations 32 reached. The mean may be inaccurate\n"
     ]
    },
    {
     "name": "stdout",
     "output_type": "stream",
     "text": [
      "SVD 수렴 문제 발생: SVD did not converge. 계속 진행합니다.\n"
     ]
    },
    {
     "name": "stderr",
     "output_type": "stream",
     "text": [
      "[I 2024-10-04 17:08:40,208] Trial 678 finished with value: 0.7469696969696971 and parameters: {'lr': 1.265793809717335e-05, 'weight_decay': 0.0008304993749419337}. Best is trial 483 with value: 0.8469945355191256.\n",
      "WARNING: Maximum number of iterations 32 reached. The mean may be inaccurate\n"
     ]
    },
    {
     "name": "stdout",
     "output_type": "stream",
     "text": [
      "SVD 수렴 문제 발생: SVD did not converge. 계속 진행합니다.\n"
     ]
    },
    {
     "name": "stderr",
     "output_type": "stream",
     "text": [
      "[I 2024-10-04 17:13:32,180] Trial 679 finished with value: 0.6901515151515151 and parameters: {'lr': 2.6740692194774584e-05, 'weight_decay': 0.0005882983608968323}. Best is trial 483 with value: 0.8469945355191256.\n",
      "WARNING: Maximum number of iterations 32 reached. The mean may be inaccurate\n"
     ]
    },
    {
     "name": "stdout",
     "output_type": "stream",
     "text": [
      "SVD 수렴 문제 발생: SVD did not converge. 계속 진행합니다.\n"
     ]
    },
    {
     "name": "stderr",
     "output_type": "stream",
     "text": [
      "[I 2024-10-04 17:18:24,828] Trial 680 finished with value: 0.6371527777777777 and parameters: {'lr': 7.870154115625736e-05, 'weight_decay': 0.0012493351258166777}. Best is trial 483 with value: 0.8469945355191256.\n",
      "WARNING: Maximum number of iterations 32 reached. The mean may be inaccurate\n"
     ]
    },
    {
     "name": "stdout",
     "output_type": "stream",
     "text": [
      "SVD 수렴 문제 발생: SVD did not converge. 계속 진행합니다.\n"
     ]
    },
    {
     "name": "stderr",
     "output_type": "stream",
     "text": [
      "[I 2024-10-04 17:23:17,694] Trial 681 finished with value: 0.6362217017954722 and parameters: {'lr': 2.7758086955171933e-06, 'weight_decay': 0.001479925904807626}. Best is trial 483 with value: 0.8469945355191256.\n",
      "WARNING: Maximum number of iterations 32 reached. The mean may be inaccurate\n",
      "[I 2024-10-04 17:28:12,598] Trial 682 finished with value: 0.5565964090554254 and parameters: {'lr': 5.976787882068863e-06, 'weight_decay': 0.002255644533732405}. Best is trial 483 with value: 0.8469945355191256.\n"
     ]
    },
    {
     "name": "stdout",
     "output_type": "stream",
     "text": [
      "SVD 수렴 문제 발생: SVD did not converge. 계속 진행합니다.\n"
     ]
    },
    {
     "name": "stderr",
     "output_type": "stream",
     "text": [
      "WARNING: Maximum number of iterations 32 reached. The mean may be inaccurate\n"
     ]
    },
    {
     "name": "stdout",
     "output_type": "stream",
     "text": [
      "SVD 수렴 문제 발생: SVD did not converge. 계속 진행합니다.\n"
     ]
    },
    {
     "name": "stderr",
     "output_type": "stream",
     "text": [
      "[I 2024-10-04 17:33:04,603] Trial 683 finished with value: 0.6274193548387097 and parameters: {'lr': 3.918817983714177e-05, 'weight_decay': 0.0010528533972145604}. Best is trial 483 with value: 0.8469945355191256.\n",
      "WARNING: Maximum number of iterations 32 reached. The mean may be inaccurate\n"
     ]
    },
    {
     "name": "stdout",
     "output_type": "stream",
     "text": [
      "SVD 수렴 문제 발생: SVD did not converge. 계속 진행합니다.\n"
     ]
    },
    {
     "name": "stderr",
     "output_type": "stream",
     "text": [
      "[I 2024-10-04 17:37:56,854] Trial 684 finished with value: 0.646969696969697 and parameters: {'lr': 5.279737387456728e-05, 'weight_decay': 8.531828566222886e-05}. Best is trial 483 with value: 0.8469945355191256.\n",
      "WARNING: Maximum number of iterations 32 reached. The mean may be inaccurate\n"
     ]
    },
    {
     "name": "stdout",
     "output_type": "stream",
     "text": [
      "SVD 수렴 문제 발생: SVD did not converge. 계속 진행합니다.\n"
     ]
    },
    {
     "name": "stderr",
     "output_type": "stream",
     "text": [
      "[I 2024-10-04 17:42:48,978] Trial 685 finished with value: 0.46136363636363636 and parameters: {'lr': 3.0278979119071177e-05, 'weight_decay': 0.0006836121576148875}. Best is trial 483 with value: 0.8469945355191256.\n",
      "WARNING: Maximum number of iterations 32 reached. The mean may be inaccurate\n",
      "[I 2024-10-04 17:47:41,358] Trial 686 finished with value: 0.6674242424242425 and parameters: {'lr': 1.9012266720539477e-05, 'weight_decay': 0.0017664525560671985}. Best is trial 483 with value: 0.8469945355191256.\n"
     ]
    },
    {
     "name": "stdout",
     "output_type": "stream",
     "text": [
      "SVD 수렴 문제 발생: SVD did not converge. 계속 진행합니다.\n"
     ]
    },
    {
     "name": "stderr",
     "output_type": "stream",
     "text": [
      "WARNING: Maximum number of iterations 32 reached. The mean may be inaccurate\n"
     ]
    },
    {
     "name": "stdout",
     "output_type": "stream",
     "text": [
      "SVD 수렴 문제 발생: SVD did not converge. 계속 진행합니다.\n"
     ]
    },
    {
     "name": "stderr",
     "output_type": "stream",
     "text": [
      "[I 2024-10-04 17:52:31,976] Trial 687 finished with value: 0.6299765807962528 and parameters: {'lr': 0.00033023545657701113, 'weight_decay': 0.0008679712067839277}. Best is trial 483 with value: 0.8469945355191256.\n",
      "WARNING: Maximum number of iterations 32 reached. The mean may be inaccurate\n"
     ]
    },
    {
     "name": "stdout",
     "output_type": "stream",
     "text": [
      "SVD 수렴 문제 발생: SVD did not converge. 계속 진행합니다.\n"
     ]
    },
    {
     "name": "stderr",
     "output_type": "stream",
     "text": [
      "[I 2024-10-04 17:57:23,573] Trial 688 finished with value: 0.6908665105386417 and parameters: {'lr': 4.381310287326412e-05, 'weight_decay': 0.0005279484719293844}. Best is trial 483 with value: 0.8469945355191256.\n",
      "WARNING: Maximum number of iterations 32 reached. The mean may be inaccurate\n"
     ]
    },
    {
     "name": "stdout",
     "output_type": "stream",
     "text": [
      "SVD 수렴 문제 발생: SVD did not converge. 계속 진행합니다.\n"
     ]
    },
    {
     "name": "stderr",
     "output_type": "stream",
     "text": [
      "[I 2024-10-04 18:02:16,299] Trial 689 finished with value: 0.6325757575757576 and parameters: {'lr': 3.5706110284220185e-05, 'weight_decay': 0.0010376939642659782}. Best is trial 483 with value: 0.8469945355191256.\n",
      "WARNING: Maximum number of iterations 32 reached. The mean may be inaccurate\n"
     ]
    },
    {
     "name": "stdout",
     "output_type": "stream",
     "text": [
      "SVD 수렴 문제 발생: SVD did not converge. 계속 진행합니다.\n"
     ]
    },
    {
     "name": "stderr",
     "output_type": "stream",
     "text": [
      "[I 2024-10-04 18:07:08,161] Trial 690 finished with value: 0.5357406042741341 and parameters: {'lr': 5.9296733599517934e-05, 'weight_decay': 0.0007501812605317824}. Best is trial 483 with value: 0.8469945355191256.\n",
      "WARNING: Maximum number of iterations 32 reached. The mean may be inaccurate\n"
     ]
    },
    {
     "name": "stdout",
     "output_type": "stream",
     "text": [
      "SVD 수렴 문제 발생: SVD did not converge. 계속 진행합니다.\n"
     ]
    },
    {
     "name": "stderr",
     "output_type": "stream",
     "text": [
      "[I 2024-10-04 18:12:01,371] Trial 691 finished with value: 0.6777777777777777 and parameters: {'lr': 4.300954387823151e-06, 'weight_decay': 0.0013640135011745314}. Best is trial 483 with value: 0.8469945355191256.\n",
      "WARNING: Maximum number of iterations 32 reached. The mean may be inaccurate\n"
     ]
    },
    {
     "name": "stdout",
     "output_type": "stream",
     "text": [
      "SVD 수렴 문제 발생: SVD did not converge. 계속 진행합니다.\n"
     ]
    },
    {
     "name": "stderr",
     "output_type": "stream",
     "text": [
      "[I 2024-10-04 18:16:52,999] Trial 692 finished with value: 0.6120967741935484 and parameters: {'lr': 2.7434368512331438e-05, 'weight_decay': 0.00011188023227201757}. Best is trial 483 with value: 0.8469945355191256.\n",
      "WARNING: Maximum number of iterations 32 reached. The mean may be inaccurate\n"
     ]
    },
    {
     "name": "stdout",
     "output_type": "stream",
     "text": [
      "SVD 수렴 문제 발생: SVD did not converge. 계속 진행합니다.\n"
     ]
    },
    {
     "name": "stderr",
     "output_type": "stream",
     "text": [
      "[I 2024-10-04 18:21:44,694] Trial 693 finished with value: 0.5932864949258392 and parameters: {'lr': 2.2673847031125915e-05, 'weight_decay': 0.0006154733123168841}. Best is trial 483 with value: 0.8469945355191256.\n",
      "WARNING: Maximum number of iterations 32 reached. The mean may be inaccurate\n",
      "[I 2024-10-04 18:26:37,320] Trial 694 finished with value: 0.7117794486215538 and parameters: {'lr': 1.4488001023610376e-05, 'weight_decay': 0.0004738180541376361}. Best is trial 483 with value: 0.8469945355191256.\n"
     ]
    },
    {
     "name": "stdout",
     "output_type": "stream",
     "text": [
      "SVD 수렴 문제 발생: SVD did not converge. 계속 진행합니다.\n"
     ]
    },
    {
     "name": "stderr",
     "output_type": "stream",
     "text": [
      "WARNING: Maximum number of iterations 32 reached. The mean may be inaccurate\n"
     ]
    },
    {
     "name": "stdout",
     "output_type": "stream",
     "text": [
      "SVD 수렴 문제 발생: SVD did not converge. 계속 진행합니다.\n"
     ]
    },
    {
     "name": "stderr",
     "output_type": "stream",
     "text": [
      "[I 2024-10-04 18:31:28,830] Trial 695 finished with value: 0.668939393939394 and parameters: {'lr': 7.494090095104564e-06, 'weight_decay': 0.0009062758831854756}. Best is trial 483 with value: 0.8469945355191256.\n",
      "WARNING: Maximum number of iterations 32 reached. The mean may be inaccurate\n"
     ]
    },
    {
     "name": "stdout",
     "output_type": "stream",
     "text": [
      "SVD 수렴 문제 발생: SVD did not converge. 계속 진행합니다.\n"
     ]
    },
    {
     "name": "stderr",
     "output_type": "stream",
     "text": [
      "[I 2024-10-04 18:36:20,999] Trial 696 finished with value: 0.6984848484848485 and parameters: {'lr': 4.278319735222458e-05, 'weight_decay': 0.0011565411430108682}. Best is trial 483 with value: 0.8469945355191256.\n",
      "WARNING: Maximum number of iterations 32 reached. The mean may be inaccurate\n"
     ]
    },
    {
     "name": "stdout",
     "output_type": "stream",
     "text": [
      "SVD 수렴 문제 발생: SVD did not converge. 계속 진행합니다.\n"
     ]
    },
    {
     "name": "stderr",
     "output_type": "stream",
     "text": [
      "[I 2024-10-04 18:41:11,035] Trial 697 finished with value: 0.5730994152046784 and parameters: {'lr': 3.329170514085717e-05, 'weight_decay': 0.0019822878169976402}. Best is trial 483 with value: 0.8469945355191256.\n",
      "WARNING: Maximum number of iterations 32 reached. The mean may be inaccurate\n"
     ]
    },
    {
     "name": "stdout",
     "output_type": "stream",
     "text": [
      "SVD 수렴 문제 발생: SVD did not converge. 계속 진행합니다.\n"
     ]
    },
    {
     "name": "stderr",
     "output_type": "stream",
     "text": [
      "[I 2024-10-04 18:46:01,948] Trial 698 finished with value: 0.5838709677419356 and parameters: {'lr': 7.885801352810843e-05, 'weight_decay': 0.001466926778123485}. Best is trial 483 with value: 0.8469945355191256.\n",
      "WARNING: Maximum number of iterations 32 reached. The mean may be inaccurate\n"
     ]
    },
    {
     "name": "stdout",
     "output_type": "stream",
     "text": [
      "SVD 수렴 문제 발생: SVD did not converge. 계속 진행합니다.\n"
     ]
    },
    {
     "name": "stderr",
     "output_type": "stream",
     "text": [
      "[I 2024-10-04 18:50:52,012] Trial 699 finished with value: 0.6482873851294904 and parameters: {'lr': 5.120607362768879e-05, 'weight_decay': 0.0007136101156527114}. Best is trial 483 with value: 0.8469945355191256.\n",
      "WARNING: Maximum number of iterations 32 reached. The mean may be inaccurate\n"
     ]
    },
    {
     "name": "stdout",
     "output_type": "stream",
     "text": [
      "SVD 수렴 문제 발생: SVD did not converge. 계속 진행합니다.\n"
     ]
    },
    {
     "name": "stderr",
     "output_type": "stream",
     "text": [
      "[I 2024-10-04 18:55:42,238] Trial 700 finished with value: 0.6431818181818182 and parameters: {'lr': 2.809348116552638e-05, 'weight_decay': 0.0010161542389108206}. Best is trial 483 with value: 0.8469945355191256.\n",
      "WARNING: Maximum number of iterations 32 reached. The mean may be inaccurate\n"
     ]
    },
    {
     "name": "stdout",
     "output_type": "stream",
     "text": [
      "SVD 수렴 문제 발생: SVD did not converge. 계속 진행합니다.\n"
     ]
    },
    {
     "name": "stderr",
     "output_type": "stream",
     "text": [
      "[I 2024-10-04 19:00:28,504] Trial 701 finished with value: 0.6381724392041267 and parameters: {'lr': 0.0019573905566426276, 'weight_decay': 0.0016733744346151313}. Best is trial 483 with value: 0.8469945355191256.\n",
      "WARNING: Maximum number of iterations 32 reached. The mean may be inaccurate\n"
     ]
    },
    {
     "name": "stdout",
     "output_type": "stream",
     "text": [
      "SVD 수렴 문제 발생: SVD did not converge. 계속 진행합니다.\n"
     ]
    },
    {
     "name": "stderr",
     "output_type": "stream",
     "text": [
      "[I 2024-10-04 19:05:17,362] Trial 702 finished with value: 0.6212121212121212 and parameters: {'lr': 1.9734229725939556e-05, 'weight_decay': 1.5867262273577665e-06}. Best is trial 483 with value: 0.8469945355191256.\n",
      "WARNING: Maximum number of iterations 32 reached. The mean may be inaccurate\n"
     ]
    },
    {
     "name": "stdout",
     "output_type": "stream",
     "text": [
      "SVD 수렴 문제 발생: SVD did not converge. 계속 진행합니다.\n"
     ]
    },
    {
     "name": "stderr",
     "output_type": "stream",
     "text": [
      "[I 2024-10-04 19:10:06,135] Trial 703 finished with value: 0.5581576893052304 and parameters: {'lr': 6.270264139857414e-05, 'weight_decay': 6.364008182336569e-05}. Best is trial 483 with value: 0.8469945355191256.\n",
      "WARNING: Maximum number of iterations 32 reached. The mean may be inaccurate\n"
     ]
    },
    {
     "name": "stdout",
     "output_type": "stream",
     "text": [
      "SVD 수렴 문제 발생: SVD did not converge. 계속 진행합니다.\n"
     ]
    },
    {
     "name": "stderr",
     "output_type": "stream",
     "text": [
      "[I 2024-10-04 19:14:54,865] Trial 704 finished with value: 0.7572209211553473 and parameters: {'lr': 3.9172211234741616e-05, 'weight_decay': 0.0007938945828181406}. Best is trial 483 with value: 0.8469945355191256.\n",
      "WARNING: Maximum number of iterations 32 reached. The mean may be inaccurate\n"
     ]
    },
    {
     "name": "stdout",
     "output_type": "stream",
     "text": [
      "SVD 수렴 문제 발생: SVD did not converge. 계속 진행합니다.\n"
     ]
    },
    {
     "name": "stderr",
     "output_type": "stream",
     "text": [
      "[I 2024-10-04 19:19:44,295] Trial 705 finished with value: 0.5840909090909091 and parameters: {'lr': 0.00026557087604698535, 'weight_decay': 0.0006208479041419065}. Best is trial 483 with value: 0.8469945355191256.\n",
      "WARNING: Maximum number of iterations 32 reached. The mean may be inaccurate\n"
     ]
    },
    {
     "name": "stdout",
     "output_type": "stream",
     "text": [
      "SVD 수렴 문제 발생: SVD did not converge. 계속 진행합니다.\n"
     ]
    },
    {
     "name": "stderr",
     "output_type": "stream",
     "text": [
      "[I 2024-10-04 19:24:33,041] Trial 706 finished with value: 0.7418546365914787 and parameters: {'lr': 1.081821605159174e-05, 'weight_decay': 0.0008153630068561192}. Best is trial 483 with value: 0.8469945355191256.\n",
      "WARNING: Maximum number of iterations 32 reached. The mean may be inaccurate\n"
     ]
    },
    {
     "name": "stdout",
     "output_type": "stream",
     "text": [
      "SVD 수렴 문제 발생: SVD did not converge. 계속 진행합니다.\n"
     ]
    },
    {
     "name": "stderr",
     "output_type": "stream",
     "text": [
      "[I 2024-10-04 19:29:21,667] Trial 707 finished with value: 0.7852965747702589 and parameters: {'lr': 2.5005091436722108e-05, 'weight_decay': 0.0006834865896239831}. Best is trial 483 with value: 0.8469945355191256.\n",
      "WARNING: Maximum number of iterations 32 reached. The mean may be inaccurate\n"
     ]
    },
    {
     "name": "stdout",
     "output_type": "stream",
     "text": [
      "SVD 수렴 문제 발생: SVD did not converge. 계속 진행합니다.\n"
     ]
    },
    {
     "name": "stderr",
     "output_type": "stream",
     "text": [
      "[I 2024-10-04 19:34:09,456] Trial 708 finished with value: 0.7525370804059328 and parameters: {'lr': 1.6923013442714515e-05, 'weight_decay': 0.0004699913215894521}. Best is trial 483 with value: 0.8469945355191256.\n",
      "[I 2024-10-04 19:38:58,627] Trial 709 finished with value: 0.7575534266764923 and parameters: {'lr': 2.1560820520979422e-05, 'weight_decay': 0.0005613923974297528}. Best is trial 483 with value: 0.8469945355191256.\n",
      "WARNING: Maximum number of iterations 32 reached. The mean may be inaccurate\n"
     ]
    },
    {
     "name": "stdout",
     "output_type": "stream",
     "text": [
      "SVD 수렴 문제 발생: SVD did not converge. 계속 진행합니다.\n"
     ]
    },
    {
     "name": "stderr",
     "output_type": "stream",
     "text": [
      "[I 2024-10-04 19:43:47,461] Trial 710 finished with value: 0.7016129032258065 and parameters: {'lr': 1.9071894577329037e-05, 'weight_decay': 0.0004323827102258971}. Best is trial 483 with value: 0.8469945355191256.\n",
      "WARNING: Maximum number of iterations 32 reached. The mean may be inaccurate\n",
      "[I 2024-10-04 19:48:36,893] Trial 711 finished with value: 0.6 and parameters: {'lr': 2.068448783343727e-05, 'weight_decay': 0.000573979750401949}. Best is trial 483 with value: 0.8469945355191256.\n"
     ]
    },
    {
     "name": "stdout",
     "output_type": "stream",
     "text": [
      "SVD 수렴 문제 발생: SVD did not converge. 계속 진행합니다.\n"
     ]
    },
    {
     "name": "stderr",
     "output_type": "stream",
     "text": [
      "WARNING: Maximum number of iterations 32 reached. The mean may be inaccurate\n"
     ]
    },
    {
     "name": "stdout",
     "output_type": "stream",
     "text": [
      "SVD 수렴 문제 발생: SVD did not converge. 계속 진행합니다.\n"
     ]
    },
    {
     "name": "stderr",
     "output_type": "stream",
     "text": [
      "[I 2024-10-04 19:53:24,253] Trial 712 finished with value: 0.6879815100154083 and parameters: {'lr': 1.4297631934760251e-05, 'weight_decay': 0.0006036029174983506}. Best is trial 483 with value: 0.8469945355191256.\n",
      "WARNING: Maximum number of iterations 32 reached. The mean may be inaccurate\n"
     ]
    },
    {
     "name": "stdout",
     "output_type": "stream",
     "text": [
      "SVD 수렴 문제 발생: SVD did not converge. 계속 진행합니다.\n"
     ]
    },
    {
     "name": "stderr",
     "output_type": "stream",
     "text": [
      "[I 2024-10-04 19:58:12,380] Trial 713 finished with value: 0.6128024980483997 and parameters: {'lr': 2.3383919229774757e-05, 'weight_decay': 0.000522192270672746}. Best is trial 483 with value: 0.8469945355191256.\n",
      "WARNING: Maximum number of iterations 32 reached. The mean may be inaccurate\n"
     ]
    },
    {
     "name": "stdout",
     "output_type": "stream",
     "text": [
      "SVD 수렴 문제 발생: SVD did not converge. 계속 진행합니다.\n"
     ]
    },
    {
     "name": "stderr",
     "output_type": "stream",
     "text": [
      "[I 2024-10-04 20:03:01,323] Trial 714 finished with value: 0.6768149882903981 and parameters: {'lr': 1.5638666388920325e-05, 'weight_decay': 0.00048668279278516206}. Best is trial 483 with value: 0.8469945355191256.\n",
      "WARNING: Maximum number of iterations 32 reached. The mean may be inaccurate\n",
      "[I 2024-10-04 20:07:51,307] Trial 715 finished with value: 0.6545454545454545 and parameters: {'lr': 2.2754153060256326e-05, 'weight_decay': 0.0006462967489701502}. Best is trial 483 with value: 0.8469945355191256.\n"
     ]
    },
    {
     "name": "stdout",
     "output_type": "stream",
     "text": [
      "SVD 수렴 문제 발생: SVD did not converge. 계속 진행합니다.\n"
     ]
    },
    {
     "name": "stderr",
     "output_type": "stream",
     "text": [
      "WARNING: Maximum number of iterations 32 reached. The mean may be inaccurate\n"
     ]
    },
    {
     "name": "stdout",
     "output_type": "stream",
     "text": [
      "SVD 수렴 문제 발생: SVD did not converge. 계속 진행합니다.\n"
     ]
    },
    {
     "name": "stderr",
     "output_type": "stream",
     "text": [
      "[I 2024-10-04 20:12:39,834] Trial 716 finished with value: 0.6346604215456674 and parameters: {'lr': 2.5141522848619257e-05, 'weight_decay': 0.00041253242898039045}. Best is trial 483 with value: 0.8469945355191256.\n",
      "WARNING: Maximum number of iterations 32 reached. The mean may be inaccurate\n"
     ]
    },
    {
     "name": "stdout",
     "output_type": "stream",
     "text": [
      "SVD 수렴 문제 발생: SVD did not converge. 계속 진행합니다.\n"
     ]
    },
    {
     "name": "stderr",
     "output_type": "stream",
     "text": [
      "[I 2024-10-04 20:17:28,831] Trial 717 finished with value: 0.7621212121212121 and parameters: {'lr': 2.0694033366727044e-05, 'weight_decay': 0.0006944540102166517}. Best is trial 483 with value: 0.8469945355191256.\n",
      "WARNING: Maximum number of iterations 32 reached. The mean may be inaccurate\n"
     ]
    },
    {
     "name": "stdout",
     "output_type": "stream",
     "text": [
      "SVD 수렴 문제 발생: SVD did not converge. 계속 진행합니다.\n"
     ]
    },
    {
     "name": "stderr",
     "output_type": "stream",
     "text": [
      "[I 2024-10-04 20:22:18,414] Trial 718 finished with value: 0.6869633099141296 and parameters: {'lr': 1.8116257260058787e-05, 'weight_decay': 0.0006838247358612888}. Best is trial 483 with value: 0.8469945355191256.\n",
      "WARNING: Maximum number of iterations 32 reached. The mean may be inaccurate\n"
     ]
    },
    {
     "name": "stdout",
     "output_type": "stream",
     "text": [
      "SVD 수렴 문제 발생: SVD did not converge. 계속 진행합니다.\n"
     ]
    },
    {
     "name": "stderr",
     "output_type": "stream",
     "text": [
      "[I 2024-10-04 20:27:06,755] Trial 719 finished with value: 0.6287878787878788 and parameters: {'lr': 1.7278424262150317e-05, 'weight_decay': 0.0005207331723835348}. Best is trial 483 with value: 0.8469945355191256.\n",
      "WARNING: Maximum number of iterations 32 reached. The mean may be inaccurate\n"
     ]
    },
    {
     "name": "stdout",
     "output_type": "stream",
     "text": [
      "SVD 수렴 문제 발생: SVD did not converge. 계속 진행합니다.\n"
     ]
    },
    {
     "name": "stderr",
     "output_type": "stream",
     "text": [
      "[I 2024-10-04 20:31:55,658] Trial 720 finished with value: 0.6454545454545454 and parameters: {'lr': 1.994264913422413e-05, 'weight_decay': 0.0007063266413498257}. Best is trial 483 with value: 0.8469945355191256.\n",
      "WARNING: Maximum number of iterations 32 reached. The mean may be inaccurate\n"
     ]
    },
    {
     "name": "stdout",
     "output_type": "stream",
     "text": [
      "SVD 수렴 문제 발생: SVD did not converge. 계속 진행합니다.\n"
     ]
    },
    {
     "name": "stderr",
     "output_type": "stream",
     "text": [
      "[I 2024-10-04 20:36:45,673] Trial 721 finished with value: 0.6557377049180328 and parameters: {'lr': 1.5148641660143476e-05, 'weight_decay': 0.0006033246080211647}. Best is trial 483 with value: 0.8469945355191256.\n",
      "WARNING: Maximum number of iterations 32 reached. The mean may be inaccurate\n"
     ]
    },
    {
     "name": "stdout",
     "output_type": "stream",
     "text": [
      "SVD 수렴 문제 발생: SVD did not converge. 계속 진행합니다.\n"
     ]
    },
    {
     "name": "stderr",
     "output_type": "stream",
     "text": [
      "[I 2024-10-04 20:41:35,362] Trial 722 finished with value: 0.6975806451612904 and parameters: {'lr': 2.0062316022505018e-05, 'weight_decay': 0.00073920157938818}. Best is trial 483 with value: 0.8469945355191256.\n",
      "WARNING: Maximum number of iterations 32 reached. The mean may be inaccurate\n"
     ]
    },
    {
     "name": "stdout",
     "output_type": "stream",
     "text": [
      "SVD 수렴 문제 발생: SVD did not converge. 계속 진행합니다.\n"
     ]
    },
    {
     "name": "stderr",
     "output_type": "stream",
     "text": [
      "[I 2024-10-04 20:46:24,662] Trial 723 finished with value: 0.6900584795321637 and parameters: {'lr': 1.2230779266497945e-05, 'weight_decay': 0.0005358721893425571}. Best is trial 483 with value: 0.8469945355191256.\n",
      "WARNING: Maximum number of iterations 32 reached. The mean may be inaccurate\n"
     ]
    },
    {
     "name": "stdout",
     "output_type": "stream",
     "text": [
      "SVD 수렴 문제 발생: SVD did not converge. 계속 진행합니다.\n"
     ]
    },
    {
     "name": "stderr",
     "output_type": "stream",
     "text": [
      "[I 2024-10-04 20:51:14,299] Trial 724 finished with value: 0.6598484848484849 and parameters: {'lr': 2.494135730254095e-05, 'weight_decay': 0.0008099120450969283}. Best is trial 483 with value: 0.8469945355191256.\n",
      "WARNING: Maximum number of iterations 32 reached. The mean may be inaccurate\n"
     ]
    },
    {
     "name": "stdout",
     "output_type": "stream",
     "text": [
      "SVD 수렴 문제 발생: SVD did not converge. 계속 진행합니다.\n"
     ]
    },
    {
     "name": "stderr",
     "output_type": "stream",
     "text": [
      "[I 2024-10-04 20:56:03,578] Trial 725 finished with value: 0.6516290726817043 and parameters: {'lr': 1.7114907686071337e-05, 'weight_decay': 0.000650821945070258}. Best is trial 483 with value: 0.8469945355191256.\n",
      "WARNING: Maximum number of iterations 32 reached. The mean may be inaccurate\n"
     ]
    },
    {
     "name": "stdout",
     "output_type": "stream",
     "text": [
      "SVD 수렴 문제 발생: SVD did not converge. 계속 진행합니다.\n"
     ]
    },
    {
     "name": "stderr",
     "output_type": "stream",
     "text": [
      "[I 2024-10-04 21:00:53,236] Trial 726 finished with value: 0.6530303030303031 and parameters: {'lr': 2.2193763620529906e-05, 'weight_decay': 0.00041996442996760324}. Best is trial 483 with value: 0.8469945355191256.\n",
      "WARNING: Maximum number of iterations 32 reached. The mean may be inaccurate\n"
     ]
    },
    {
     "name": "stdout",
     "output_type": "stream",
     "text": [
      "SVD 수렴 문제 발생: SVD did not converge. 계속 진행합니다.\n"
     ]
    },
    {
     "name": "stderr",
     "output_type": "stream",
     "text": [
      "[I 2024-10-04 21:05:43,804] Trial 727 finished with value: 0.6565183450429352 and parameters: {'lr': 2.5981498244026878e-05, 'weight_decay': 0.0005296667892416601}. Best is trial 483 with value: 0.8469945355191256.\n",
      "[I 2024-10-04 21:10:32,882] Trial 728 finished with value: 0.6128024980483997 and parameters: {'lr': 2.13361673476743e-05, 'weight_decay': 0.0008803014033131157}. Best is trial 483 with value: 0.8469945355191256.\n",
      "WARNING: Maximum number of iterations 32 reached. The mean may be inaccurate\n"
     ]
    },
    {
     "name": "stdout",
     "output_type": "stream",
     "text": [
      "SVD 수렴 문제 발생: SVD did not converge. 계속 진행합니다.\n"
     ]
    },
    {
     "name": "stderr",
     "output_type": "stream",
     "text": [
      "[I 2024-10-04 21:15:21,319] Trial 729 finished with value: 0.6370023419203746 and parameters: {'lr': 1.5546796626513358e-05, 'weight_decay': 0.0007477001071438114}. Best is trial 483 with value: 0.8469945355191256.\n",
      "WARNING: Maximum number of iterations 32 reached. The mean may be inaccurate\n",
      "[I 2024-10-04 21:20:11,033] Trial 730 finished with value: 0.7064516129032258 and parameters: {'lr': 2.601982951186514e-05, 'weight_decay': 0.0005822976390658215}. Best is trial 483 with value: 0.8469945355191256.\n"
     ]
    },
    {
     "name": "stdout",
     "output_type": "stream",
     "text": [
      "SVD 수렴 문제 발생: SVD did not converge. 계속 진행합니다.\n"
     ]
    },
    {
     "name": "stderr",
     "output_type": "stream",
     "text": [
      "WARNING: Maximum number of iterations 32 reached. The mean may be inaccurate\n",
      "[I 2024-10-04 21:24:59,221] Trial 731 finished with value: 0.5677419354838711 and parameters: {'lr': 1.9582289216438772e-05, 'weight_decay': 0.0007795433632921701}. Best is trial 483 with value: 0.8469945355191256.\n"
     ]
    },
    {
     "name": "stdout",
     "output_type": "stream",
     "text": [
      "SVD 수렴 문제 발생: SVD did not converge. 계속 진행합니다.\n"
     ]
    },
    {
     "name": "stderr",
     "output_type": "stream",
     "text": [
      "WARNING: Maximum number of iterations 32 reached. The mean may be inaccurate\n"
     ]
    },
    {
     "name": "stdout",
     "output_type": "stream",
     "text": [
      "SVD 수렴 문제 발생: SVD did not converge. 계속 진행합니다.\n"
     ]
    },
    {
     "name": "stderr",
     "output_type": "stream",
     "text": [
      "[I 2024-10-04 21:29:46,691] Trial 732 finished with value: 0.6653225806451613 and parameters: {'lr': 9.08425603862928e-06, 'weight_decay': 0.0004606462881713636}. Best is trial 483 with value: 0.8469945355191256.\n",
      "WARNING: Maximum number of iterations 32 reached. The mean may be inaccurate\n"
     ]
    },
    {
     "name": "stdout",
     "output_type": "stream",
     "text": [
      "SVD 수렴 문제 발생: SVD did not converge. 계속 진행합니다.\n"
     ]
    },
    {
     "name": "stderr",
     "output_type": "stream",
     "text": [
      "[I 2024-10-04 21:34:34,110] Trial 733 finished with value: 0.5821665438467207 and parameters: {'lr': 3.0647277233924612e-06, 'weight_decay': 0.000653126871576806}. Best is trial 483 with value: 0.8469945355191256.\n",
      "WARNING: Maximum number of iterations 32 reached. The mean may be inaccurate\n",
      "[I 2024-10-04 21:39:23,687] Trial 734 finished with value: 0.7049180327868853 and parameters: {'lr': 0.00037237875195271844, 'weight_decay': 0.000874789993613591}. Best is trial 483 with value: 0.8469945355191256.\n"
     ]
    },
    {
     "name": "stdout",
     "output_type": "stream",
     "text": [
      "SVD 수렴 문제 발생: SVD did not converge. 계속 진행합니다.\n"
     ]
    },
    {
     "name": "stderr",
     "output_type": "stream",
     "text": [
      "WARNING: Maximum number of iterations 32 reached. The mean may be inaccurate\n"
     ]
    },
    {
     "name": "stdout",
     "output_type": "stream",
     "text": [
      "SVD 수렴 문제 발생: SVD did not converge. 계속 진행합니다.\n"
     ]
    },
    {
     "name": "stderr",
     "output_type": "stream",
     "text": [
      "[I 2024-10-04 21:44:09,958] Trial 735 finished with value: 0.6575757575757576 and parameters: {'lr': 2.236085654431272e-06, 'weight_decay': 0.0005550940599061625}. Best is trial 483 with value: 0.8469945355191256.\n",
      "WARNING: Maximum number of iterations 32 reached. The mean may be inaccurate\n",
      "[I 2024-10-04 21:48:58,842] Trial 736 finished with value: 0.6401515151515151 and parameters: {'lr': 1.2109903611297555e-05, 'weight_decay': 0.0004019132262827992}. Best is trial 483 with value: 0.8469945355191256.\n"
     ]
    },
    {
     "name": "stdout",
     "output_type": "stream",
     "text": [
      "SVD 수렴 문제 발생: SVD did not converge. 계속 진행합니다.\n"
     ]
    },
    {
     "name": "stderr",
     "output_type": "stream",
     "text": [
      "WARNING: Maximum number of iterations 32 reached. The mean may be inaccurate\n"
     ]
    },
    {
     "name": "stdout",
     "output_type": "stream",
     "text": [
      "SVD 수렴 문제 발생: SVD did not converge. 계속 진행합니다.\n"
     ]
    },
    {
     "name": "stderr",
     "output_type": "stream",
     "text": [
      "[I 2024-10-04 21:53:46,212] Trial 737 finished with value: 0.580015612802498 and parameters: {'lr': 2.677060986967066e-05, 'weight_decay': 0.0007050228940764529}. Best is trial 483 with value: 0.8469945355191256.\n",
      "WARNING: Maximum number of iterations 32 reached. The mean may be inaccurate\n"
     ]
    },
    {
     "name": "stdout",
     "output_type": "stream",
     "text": [
      "SVD 수렴 문제 발생: SVD did not converge. 계속 진행합니다.\n"
     ]
    },
    {
     "name": "stderr",
     "output_type": "stream",
     "text": [
      "[I 2024-10-04 21:58:34,751] Trial 738 finished with value: 0.6741854636591479 and parameters: {'lr': 2.927723110275777e-05, 'weight_decay': 0.0008824714573075303}. Best is trial 483 with value: 0.8469945355191256.\n",
      "WARNING: Maximum number of iterations 32 reached. The mean may be inaccurate\n"
     ]
    },
    {
     "name": "stdout",
     "output_type": "stream",
     "text": [
      "SVD 수렴 문제 발생: SVD did not converge. 계속 진행합니다.\n"
     ]
    },
    {
     "name": "stderr",
     "output_type": "stream",
     "text": [
      "[I 2024-10-04 22:03:24,328] Trial 739 finished with value: 0.707936507936508 and parameters: {'lr': 1.6287205235307836e-05, 'weight_decay': 0.0006552322816661331}. Best is trial 483 with value: 0.8469945355191256.\n",
      "WARNING: Maximum number of iterations 32 reached. The mean may be inaccurate\n"
     ]
    },
    {
     "name": "stdout",
     "output_type": "stream",
     "text": [
      "SVD 수렴 문제 발생: SVD did not converge. 계속 진행합니다.\n"
     ]
    },
    {
     "name": "stderr",
     "output_type": "stream",
     "text": [
      "[I 2024-10-04 22:08:13,389] Trial 740 finished with value: 0.7121212121212122 and parameters: {'lr': 4.5425382233145546e-06, 'weight_decay': 0.000499354674722808}. Best is trial 483 with value: 0.8469945355191256.\n",
      "WARNING: Maximum number of iterations 32 reached. The mean may be inaccurate\n"
     ]
    },
    {
     "name": "stdout",
     "output_type": "stream",
     "text": [
      "SVD 수렴 문제 발생: SVD did not converge. 계속 진행합니다.\n"
     ]
    },
    {
     "name": "stderr",
     "output_type": "stream",
     "text": [
      "[I 2024-10-04 22:13:02,412] Trial 741 finished with value: 0.6213895394223263 and parameters: {'lr': 3.7811390035136135e-06, 'weight_decay': 0.0008164716870175935}. Best is trial 483 with value: 0.8469945355191256.\n",
      "WARNING: Maximum number of iterations 32 reached. The mean may be inaccurate\n"
     ]
    },
    {
     "name": "stdout",
     "output_type": "stream",
     "text": [
      "SVD 수렴 문제 발생: SVD did not converge. 계속 진행합니다.\n"
     ]
    },
    {
     "name": "stderr",
     "output_type": "stream",
     "text": [
      "[I 2024-10-04 22:17:51,856] Trial 742 finished with value: 0.5977272727272728 and parameters: {'lr': 2.050586577113887e-05, 'weight_decay': 0.0009962261717336267}. Best is trial 483 with value: 0.8469945355191256.\n",
      "WARNING: Maximum number of iterations 32 reached. The mean may be inaccurate\n"
     ]
    },
    {
     "name": "stdout",
     "output_type": "stream",
     "text": [
      "SVD 수렴 문제 발생: SVD did not converge. 계속 진행합니다.\n"
     ]
    },
    {
     "name": "stderr",
     "output_type": "stream",
     "text": [
      "[I 2024-10-04 22:22:40,414] Trial 743 finished with value: 0.6121212121212121 and parameters: {'lr': 2.777316350573786e-05, 'weight_decay': 0.0005932183501669034}. Best is trial 483 with value: 0.8469945355191256.\n",
      "WARNING: Maximum number of iterations 32 reached. The mean may be inaccurate\n"
     ]
    },
    {
     "name": "stdout",
     "output_type": "stream",
     "text": [
      "SVD 수렴 문제 발생: SVD did not converge. 계속 진행합니다.\n"
     ]
    },
    {
     "name": "stderr",
     "output_type": "stream",
     "text": [
      "[I 2024-10-04 22:27:29,442] Trial 744 finished with value: 0.6140350877192983 and parameters: {'lr': 2.3529797235010997e-05, 'weight_decay': 0.0008028550079326141}. Best is trial 483 with value: 0.8469945355191256.\n",
      "WARNING: Maximum number of iterations 32 reached. The mean may be inaccurate\n"
     ]
    },
    {
     "name": "stdout",
     "output_type": "stream",
     "text": [
      "SVD 수렴 문제 발생: SVD did not converge. 계속 진행합니다.\n"
     ]
    },
    {
     "name": "stderr",
     "output_type": "stream",
     "text": [
      "[I 2024-10-04 22:32:18,219] Trial 745 finished with value: 0.5221386800334169 and parameters: {'lr': 2.4750053067421643e-06, 'weight_decay': 0.0007161762073199235}. Best is trial 483 with value: 0.8469945355191256.\n",
      "WARNING: Maximum number of iterations 32 reached. The mean may be inaccurate\n"
     ]
    },
    {
     "name": "stdout",
     "output_type": "stream",
     "text": [
      "SVD 수렴 문제 발생: SVD did not converge. 계속 진행합니다.\n"
     ]
    },
    {
     "name": "stderr",
     "output_type": "stream",
     "text": [
      "[I 2024-10-04 22:37:06,913] Trial 746 finished with value: 0.6287878787878788 and parameters: {'lr': 3.0640854595493545e-05, 'weight_decay': 0.0004672196136965046}. Best is trial 483 with value: 0.8469945355191256.\n",
      "WARNING: Maximum number of iterations 32 reached. The mean may be inaccurate\n"
     ]
    },
    {
     "name": "stdout",
     "output_type": "stream",
     "text": [
      "SVD 수렴 문제 발생: SVD did not converge. 계속 진행합니다.\n"
     ]
    },
    {
     "name": "stderr",
     "output_type": "stream",
     "text": [
      "[I 2024-10-04 22:41:56,027] Trial 747 finished with value: 0.6712121212121213 and parameters: {'lr': 6.933217909308413e-06, 'weight_decay': 0.0010251999737958335}. Best is trial 483 with value: 0.8469945355191256.\n",
      "WARNING: Maximum number of iterations 32 reached. The mean may be inaccurate\n"
     ]
    },
    {
     "name": "stdout",
     "output_type": "stream",
     "text": [
      "SVD 수렴 문제 발생: SVD did not converge. 계속 진행합니다.\n"
     ]
    },
    {
     "name": "stderr",
     "output_type": "stream",
     "text": [
      "[I 2024-10-04 22:46:45,765] Trial 748 finished with value: 0.6712121212121211 and parameters: {'lr': 5.514169059456117e-06, 'weight_decay': 0.0005737759572107305}. Best is trial 483 with value: 0.8469945355191256.\n",
      "WARNING: Maximum number of iterations 32 reached. The mean may be inaccurate\n"
     ]
    },
    {
     "name": "stdout",
     "output_type": "stream",
     "text": [
      "SVD 수렴 문제 발생: SVD did not converge. 계속 진행합니다.\n"
     ]
    },
    {
     "name": "stderr",
     "output_type": "stream",
     "text": [
      "[I 2024-10-04 22:51:35,212] Trial 749 finished with value: 0.5370804059328649 and parameters: {'lr': 0.0004651668259250579, 'weight_decay': 0.00036309425562915045}. Best is trial 483 with value: 0.8469945355191256.\n",
      "WARNING: Maximum number of iterations 32 reached. The mean may be inaccurate\n",
      "[I 2024-10-04 22:56:24,886] Trial 750 finished with value: 0.6034348165495707 and parameters: {'lr': 1.796127714560104e-05, 'weight_decay': 0.0008793033930156061}. Best is trial 483 with value: 0.8469945355191256.\n"
     ]
    },
    {
     "name": "stdout",
     "output_type": "stream",
     "text": [
      "SVD 수렴 문제 발생: SVD did not converge. 계속 진행합니다.\n"
     ]
    },
    {
     "name": "stderr",
     "output_type": "stream",
     "text": [
      "WARNING: Maximum number of iterations 32 reached. The mean may be inaccurate\n"
     ]
    },
    {
     "name": "stdout",
     "output_type": "stream",
     "text": [
      "SVD 수렴 문제 발생: SVD did not converge. 계속 진행합니다.\n"
     ]
    },
    {
     "name": "stderr",
     "output_type": "stream",
     "text": [
      "[I 2024-10-04 23:01:12,645] Trial 751 finished with value: 0.6424668227946917 and parameters: {'lr': 1.2712461322235615e-05, 'weight_decay': 0.0006705116017963979}. Best is trial 483 with value: 0.8469945355191256.\n",
      "WARNING: Maximum number of iterations 32 reached. The mean may be inaccurate\n"
     ]
    },
    {
     "name": "stdout",
     "output_type": "stream",
     "text": [
      "SVD 수렴 문제 발생: SVD did not converge. 계속 진행합니다.\n"
     ]
    },
    {
     "name": "stderr",
     "output_type": "stream",
     "text": [
      "[I 2024-10-04 23:06:01,638] Trial 752 finished with value: 0.6904937361827561 and parameters: {'lr': 2.363678535904476e-05, 'weight_decay': 0.0009680184961946367}. Best is trial 483 with value: 0.8469945355191256.\n",
      "WARNING: Maximum number of iterations 32 reached. The mean may be inaccurate\n"
     ]
    },
    {
     "name": "stdout",
     "output_type": "stream",
     "text": [
      "SVD 수렴 문제 발생: SVD did not converge. 계속 진행합니다.\n"
     ]
    },
    {
     "name": "stderr",
     "output_type": "stream",
     "text": [
      "[I 2024-10-04 23:10:51,513] Trial 753 finished with value: 0.733500417710944 and parameters: {'lr': 3.113438696843596e-05, 'weight_decay': 0.0007492562477616469}. Best is trial 483 with value: 0.8469945355191256.\n",
      "WARNING: Maximum number of iterations 32 reached. The mean may be inaccurate\n"
     ]
    },
    {
     "name": "stdout",
     "output_type": "stream",
     "text": [
      "SVD 수렴 문제 발생: SVD did not converge. 계속 진행합니다.\n"
     ]
    },
    {
     "name": "stderr",
     "output_type": "stream",
     "text": [
      "[I 2024-10-04 23:15:37,480] Trial 754 finished with value: 0.6306451612903227 and parameters: {'lr': 0.0026762820495044182, 'weight_decay': 0.0005716323100540398}. Best is trial 483 with value: 0.8469945355191256.\n",
      "WARNING: Maximum number of iterations 32 reached. The mean may be inaccurate\n"
     ]
    },
    {
     "name": "stdout",
     "output_type": "stream",
     "text": [
      "SVD 수렴 문제 발생: SVD did not converge. 계속 진행합니다.\n"
     ]
    },
    {
     "name": "stderr",
     "output_type": "stream",
     "text": [
      "[I 2024-10-04 23:20:26,989] Trial 755 finished with value: 0.6257309941520467 and parameters: {'lr': 2.2823452639939383e-05, 'weight_decay': 0.0004998058512929877}. Best is trial 483 with value: 0.8469945355191256.\n",
      "WARNING: Maximum number of iterations 32 reached. The mean may be inaccurate\n"
     ]
    },
    {
     "name": "stdout",
     "output_type": "stream",
     "text": [
      "SVD 수렴 문제 발생: SVD did not converge. 계속 진행합니다.\n"
     ]
    },
    {
     "name": "stderr",
     "output_type": "stream",
     "text": [
      "[I 2024-10-04 23:25:16,361] Trial 756 finished with value: 0.6026541764246682 and parameters: {'lr': 2.087523628206327e-06, 'weight_decay': 0.0009897076490539487}. Best is trial 483 with value: 0.8469945355191256.\n",
      "WARNING: Maximum number of iterations 32 reached. The mean may be inaccurate\n"
     ]
    },
    {
     "name": "stdout",
     "output_type": "stream",
     "text": [
      "SVD 수렴 문제 발생: SVD did not converge. 계속 진행합니다.\n"
     ]
    },
    {
     "name": "stderr",
     "output_type": "stream",
     "text": [
      "[I 2024-10-04 23:30:06,113] Trial 757 finished with value: 0.5909445745511319 and parameters: {'lr': 3.528211372597542e-05, 'weight_decay': 0.0006956431378298652}. Best is trial 483 with value: 0.8469945355191256.\n",
      "WARNING: Maximum number of iterations 32 reached. The mean may be inaccurate\n"
     ]
    },
    {
     "name": "stdout",
     "output_type": "stream",
     "text": [
      "SVD 수렴 문제 발생: SVD did not converge. 계속 진행합니다.\n"
     ]
    },
    {
     "name": "stderr",
     "output_type": "stream",
     "text": [
      "[I 2024-10-04 23:34:54,415] Trial 758 finished with value: 0.5663934426229509 and parameters: {'lr': 0.00031023284378441833, 'weight_decay': 2.9268278621017263e-06}. Best is trial 483 with value: 0.8469945355191256.\n",
      "WARNING: Maximum number of iterations 32 reached. The mean may be inaccurate\n"
     ]
    },
    {
     "name": "stdout",
     "output_type": "stream",
     "text": [
      "SVD 수렴 문제 발생: SVD did not converge. 계속 진행합니다.\n"
     ]
    },
    {
     "name": "stderr",
     "output_type": "stream",
     "text": [
      "[I 2024-10-04 23:39:43,345] Trial 759 finished with value: 0.7242424242424242 and parameters: {'lr': 2.7638824541240392e-05, 'weight_decay': 0.0008185792527031392}. Best is trial 483 with value: 0.8469945355191256.\n",
      "WARNING: Maximum number of iterations 32 reached. The mean may be inaccurate\n"
     ]
    },
    {
     "name": "stdout",
     "output_type": "stream",
     "text": [
      "SVD 수렴 문제 발생: SVD did not converge. 계속 진행합니다.\n"
     ]
    },
    {
     "name": "stderr",
     "output_type": "stream",
     "text": [
      "[I 2024-10-04 23:44:31,377] Trial 760 finished with value: 0.6870967741935483 and parameters: {'lr': 1.5764519659206983e-05, 'weight_decay': 0.004062691022187576}. Best is trial 483 with value: 0.8469945355191256.\n",
      "WARNING: Maximum number of iterations 32 reached. The mean may be inaccurate\n"
     ]
    },
    {
     "name": "stdout",
     "output_type": "stream",
     "text": [
      "SVD 수렴 문제 발생: SVD did not converge. 계속 진행합니다.\n"
     ]
    },
    {
     "name": "stderr",
     "output_type": "stream",
     "text": [
      "[I 2024-10-04 23:49:19,154] Trial 761 finished with value: 0.6961805555555556 and parameters: {'lr': 1.9505268921663777e-05, 'weight_decay': 0.00044855116345534176}. Best is trial 483 with value: 0.8469945355191256.\n",
      "WARNING: Maximum number of iterations 32 reached. The mean may be inaccurate\n",
      "[I 2024-10-04 23:54:08,234] Trial 762 finished with value: 0.6385636221701796 and parameters: {'lr': 3.9174851278206524e-05, 'weight_decay': 0.0011325380666770454}. Best is trial 483 with value: 0.8469945355191256.\n"
     ]
    },
    {
     "name": "stdout",
     "output_type": "stream",
     "text": [
      "SVD 수렴 문제 발생: SVD did not converge. 계속 진행합니다.\n"
     ]
    },
    {
     "name": "stderr",
     "output_type": "stream",
     "text": [
      "WARNING: Maximum number of iterations 32 reached. The mean may be inaccurate\n"
     ]
    },
    {
     "name": "stdout",
     "output_type": "stream",
     "text": [
      "SVD 수렴 문제 발생: SVD did not converge. 계속 진행합니다.\n"
     ]
    },
    {
     "name": "stderr",
     "output_type": "stream",
     "text": [
      "[I 2024-10-04 23:58:54,545] Trial 763 finished with value: 0.6073770491803279 and parameters: {'lr': 2.4029012313471318e-05, 'weight_decay': 0.0006108347027559411}. Best is trial 483 with value: 0.8469945355191256.\n",
      "WARNING: Maximum number of iterations 32 reached. The mean may be inaccurate\n"
     ]
    },
    {
     "name": "stdout",
     "output_type": "stream",
     "text": [
      "SVD 수렴 문제 발생: SVD did not converge. 계속 진행합니다.\n"
     ]
    },
    {
     "name": "stderr",
     "output_type": "stream",
     "text": [
      "[I 2024-10-05 00:03:41,325] Trial 764 finished with value: 0.7217741935483871 and parameters: {'lr': 3.218375754111551e-06, 'weight_decay': 0.0008845950703578861}. Best is trial 483 with value: 0.8469945355191256.\n",
      "WARNING: Maximum number of iterations 32 reached. The mean may be inaccurate\n"
     ]
    },
    {
     "name": "stdout",
     "output_type": "stream",
     "text": [
      "SVD 수렴 문제 발생: SVD did not converge. 계속 진행합니다.\n"
     ]
    },
    {
     "name": "stderr",
     "output_type": "stream",
     "text": [
      "[I 2024-10-05 00:08:28,001] Trial 765 finished with value: 0.6173767752715121 and parameters: {'lr': 8.187999360500523e-06, 'weight_decay': 0.0006689575624453465}. Best is trial 483 with value: 0.8469945355191256.\n",
      "WARNING: Maximum number of iterations 32 reached. The mean may be inaccurate\n"
     ]
    },
    {
     "name": "stdout",
     "output_type": "stream",
     "text": [
      "SVD 수렴 문제 발생: SVD did not converge. 계속 진행합니다.\n"
     ]
    },
    {
     "name": "stderr",
     "output_type": "stream",
     "text": [
      "[I 2024-10-05 00:13:15,506] Trial 766 finished with value: 0.725 and parameters: {'lr': 1.0122440894267764e-05, 'weight_decay': 0.002704661950886604}. Best is trial 483 with value: 0.8469945355191256.\n",
      "WARNING: Maximum number of iterations 32 reached. The mean may be inaccurate\n"
     ]
    },
    {
     "name": "stdout",
     "output_type": "stream",
     "text": [
      "SVD 수렴 문제 발생: SVD did not converge. 계속 진행합니다.\n"
     ]
    },
    {
     "name": "stderr",
     "output_type": "stream",
     "text": [
      "[I 2024-10-05 00:18:02,746] Trial 767 finished with value: 0.6451612903225806 and parameters: {'lr': 5.884636648208547e-06, 'weight_decay': 0.0011324816209962111}. Best is trial 483 with value: 0.8469945355191256.\n",
      "WARNING: Maximum number of iterations 32 reached. The mean may be inaccurate\n",
      "[I 2024-10-05 00:22:51,278] Trial 768 finished with value: 0.6572989851678376 and parameters: {'lr': 0.00025790080439336754, 'weight_decay': 0.000798465363173817}. Best is trial 483 with value: 0.8469945355191256.\n"
     ]
    },
    {
     "name": "stdout",
     "output_type": "stream",
     "text": [
      "SVD 수렴 문제 발생: SVD did not converge. 계속 진행합니다.\n"
     ]
    },
    {
     "name": "stderr",
     "output_type": "stream",
     "text": [
      "WARNING: Maximum number of iterations 32 reached. The mean may be inaccurate\n"
     ]
    },
    {
     "name": "stdout",
     "output_type": "stream",
     "text": [
      "SVD 수렴 문제 발생: SVD did not converge. 계속 진행합니다.\n"
     ]
    },
    {
     "name": "stderr",
     "output_type": "stream",
     "text": [
      "[I 2024-10-05 00:27:37,124] Trial 769 finished with value: 0.5199063231850117 and parameters: {'lr': 0.0005862784926405059, 'weight_decay': 0.0005580517756904617}. Best is trial 483 with value: 0.8469945355191256.\n",
      "WARNING: Maximum number of iterations 32 reached. The mean may be inaccurate\n"
     ]
    },
    {
     "name": "stdout",
     "output_type": "stream",
     "text": [
      "SVD 수렴 문제 발생: SVD did not converge. 계속 진행합니다.\n"
     ]
    },
    {
     "name": "stderr",
     "output_type": "stream",
     "text": [
      "[I 2024-10-05 00:32:23,328] Trial 770 finished with value: 0.7765151515151515 and parameters: {'lr': 1.64610568709467e-06, 'weight_decay': 0.00039802199410998696}. Best is trial 483 with value: 0.8469945355191256.\n",
      "WARNING: Maximum number of iterations 32 reached. The mean may be inaccurate\n"
     ]
    },
    {
     "name": "stdout",
     "output_type": "stream",
     "text": [
      "SVD 수렴 문제 발생: SVD did not converge. 계속 진행합니다.\n"
     ]
    },
    {
     "name": "stderr",
     "output_type": "stream",
     "text": [
      "[I 2024-10-05 00:37:10,754] Trial 771 finished with value: 0.5772727272727273 and parameters: {'lr': 2.136463663047949e-06, 'weight_decay': 0.0003119083468425812}. Best is trial 483 with value: 0.8469945355191256.\n",
      "WARNING: Maximum number of iterations 32 reached. The mean may be inaccurate\n"
     ]
    },
    {
     "name": "stdout",
     "output_type": "stream",
     "text": [
      "SVD 수렴 문제 발생: SVD did not converge. 계속 진행합니다.\n"
     ]
    },
    {
     "name": "stderr",
     "output_type": "stream",
     "text": [
      "[I 2024-10-05 00:46:46,083] Trial 773 finished with value: 0.6471506635441062 and parameters: {'lr': 0.0003633666673811937, 'weight_decay': 0.0003311809261915245}. Best is trial 483 with value: 0.8469945355191256.\n",
      "WARNING: Maximum number of iterations 32 reached. The mean may be inaccurate\n"
     ]
    },
    {
     "name": "stdout",
     "output_type": "stream",
     "text": [
      "SVD 수렴 문제 발생: SVD did not converge. 계속 진행합니다.\n"
     ]
    },
    {
     "name": "stderr",
     "output_type": "stream",
     "text": [
      "[I 2024-10-05 00:51:34,631] Trial 774 finished with value: 0.7287878787878788 and parameters: {'lr': 1.5604125434827455e-06, 'weight_decay': 0.00038677302493592163}. Best is trial 483 with value: 0.8469945355191256.\n",
      "WARNING: Maximum number of iterations 32 reached. The mean may be inaccurate\n",
      "[I 2024-10-05 00:56:23,793] Trial 775 finished with value: 0.5784543325526932 and parameters: {'lr': 1.3675928544787323e-05, 'weight_decay': 0.0004508583362868905}. Best is trial 483 with value: 0.8469945355191256.\n"
     ]
    },
    {
     "name": "stdout",
     "output_type": "stream",
     "text": [
      "SVD 수렴 문제 발생: SVD did not converge. 계속 진행합니다.\n"
     ]
    },
    {
     "name": "stderr",
     "output_type": "stream",
     "text": [
      "WARNING: Maximum number of iterations 32 reached. The mean may be inaccurate\n"
     ]
    },
    {
     "name": "stdout",
     "output_type": "stream",
     "text": [
      "SVD 수렴 문제 발생: SVD did not converge. 계속 진행합니다.\n"
     ]
    },
    {
     "name": "stderr",
     "output_type": "stream",
     "text": [
      "[I 2024-10-05 01:01:10,792] Trial 776 finished with value: 0.5911290322580645 and parameters: {'lr': 3.249835224933133e-05, 'weight_decay': 0.00038627981708226877}. Best is trial 483 with value: 0.8469945355191256.\n",
      "WARNING: Maximum number of iterations 32 reached. The mean may be inaccurate\n"
     ]
    },
    {
     "name": "stdout",
     "output_type": "stream",
     "text": [
      "SVD 수렴 문제 발생: SVD did not converge. 계속 진행합니다.\n"
     ]
    },
    {
     "name": "stderr",
     "output_type": "stream",
     "text": [
      "[I 2024-10-05 01:05:58,669] Trial 777 finished with value: 0.6878787878787879 and parameters: {'lr': 1.8338129274002778e-06, 'weight_decay': 0.0004480938498857064}. Best is trial 483 with value: 0.8469945355191256.\n",
      "WARNING: Maximum number of iterations 32 reached. The mean may be inaccurate\n",
      "[I 2024-10-05 01:10:49,125] Trial 778 finished with value: 0.6757553426676493 and parameters: {'lr': 2.9677310851341946e-06, 'weight_decay': 0.0005168606110527186}. Best is trial 483 with value: 0.8469945355191256.\n"
     ]
    },
    {
     "name": "stdout",
     "output_type": "stream",
     "text": [
      "SVD 수렴 문제 발생: SVD did not converge. 계속 진행합니다.\n"
     ]
    },
    {
     "name": "stderr",
     "output_type": "stream",
     "text": [
      "WARNING: Maximum number of iterations 32 reached. The mean may be inaccurate\n"
     ]
    },
    {
     "name": "stdout",
     "output_type": "stream",
     "text": [
      "SVD 수렴 문제 발생: SVD did not converge. 계속 진행합니다.\n"
     ]
    },
    {
     "name": "stderr",
     "output_type": "stream",
     "text": [
      "[I 2024-10-05 01:15:36,850] Trial 779 finished with value: 0.6524193548387096 and parameters: {'lr': 2.7278557664848357e-05, 'weight_decay': 0.00036969400913259236}. Best is trial 483 with value: 0.8469945355191256.\n",
      "WARNING: Maximum number of iterations 32 reached. The mean may be inaccurate\n"
     ]
    },
    {
     "name": "stdout",
     "output_type": "stream",
     "text": [
      "SVD 수렴 문제 발생: SVD did not converge. 계속 진행합니다.\n"
     ]
    },
    {
     "name": "stderr",
     "output_type": "stream",
     "text": [
      "[I 2024-10-05 01:20:25,295] Trial 780 finished with value: 0.6416861826697893 and parameters: {'lr': 4.0697111705708465e-05, 'weight_decay': 0.0005031718262344086}. Best is trial 483 with value: 0.8469945355191256.\n",
      "WARNING: Maximum number of iterations 32 reached. The mean may be inaccurate\n"
     ]
    },
    {
     "name": "stdout",
     "output_type": "stream",
     "text": [
      "SVD 수렴 문제 발생: SVD did not converge. 계속 진행합니다.\n"
     ]
    },
    {
     "name": "stderr",
     "output_type": "stream",
     "text": [
      "[I 2024-10-05 01:25:12,642] Trial 781 finished with value: 0.6015037593984963 and parameters: {'lr': 3.3265705833206337e-05, 'weight_decay': 0.0005711555068018813}. Best is trial 483 with value: 0.8469945355191256.\n",
      "WARNING: Maximum number of iterations 32 reached. The mean may be inaccurate\n"
     ]
    },
    {
     "name": "stdout",
     "output_type": "stream",
     "text": [
      "SVD 수렴 문제 발생: SVD did not converge. 계속 진행합니다.\n"
     ]
    },
    {
     "name": "stderr",
     "output_type": "stream",
     "text": [
      "[I 2024-10-05 01:29:59,985] Trial 782 finished with value: 0.6221701795472286 and parameters: {'lr': 0.0007710398305674959, 'weight_decay': 0.0006434785766381506}. Best is trial 483 with value: 0.8469945355191256.\n",
      "WARNING: Maximum number of iterations 32 reached. The mean may be inaccurate\n"
     ]
    },
    {
     "name": "stdout",
     "output_type": "stream",
     "text": [
      "SVD 수렴 문제 발생: SVD did not converge. 계속 진행합니다.\n"
     ]
    },
    {
     "name": "stderr",
     "output_type": "stream",
     "text": [
      "[I 2024-10-05 01:34:46,702] Trial 783 finished with value: 0.6612021857923497 and parameters: {'lr': 2.092237157083097e-05, 'weight_decay': 0.00047944714365789464}. Best is trial 483 with value: 0.8469945355191256.\n",
      "WARNING: Maximum number of iterations 32 reached. The mean may be inaccurate\n"
     ]
    },
    {
     "name": "stdout",
     "output_type": "stream",
     "text": [
      "SVD 수렴 문제 발생: SVD did not converge. 계속 진행합니다.\n"
     ]
    },
    {
     "name": "stderr",
     "output_type": "stream",
     "text": [
      "[I 2024-10-05 01:39:34,311] Trial 784 finished with value: 0.6196969696969697 and parameters: {'lr': 4.689857010920418e-05, 'weight_decay': 0.00034719393808796775}. Best is trial 483 with value: 0.8469945355191256.\n",
      "WARNING: Maximum number of iterations 32 reached. The mean may be inaccurate\n"
     ]
    },
    {
     "name": "stdout",
     "output_type": "stream",
     "text": [
      "SVD 수렴 문제 발생: SVD did not converge. 계속 진행합니다.\n"
     ]
    },
    {
     "name": "stderr",
     "output_type": "stream",
     "text": [
      "[I 2024-10-05 01:44:22,359] Trial 785 finished with value: 0.6008064516129032 and parameters: {'lr': 2.5809504961661918e-05, 'weight_decay': 0.001231761520877032}. Best is trial 483 with value: 0.8469945355191256.\n",
      "WARNING: Maximum number of iterations 32 reached. The mean may be inaccurate\n"
     ]
    },
    {
     "name": "stdout",
     "output_type": "stream",
     "text": [
      "SVD 수렴 문제 발생: SVD did not converge. 계속 진행합니다.\n"
     ]
    },
    {
     "name": "stderr",
     "output_type": "stream",
     "text": [
      "[I 2024-10-05 01:49:08,948] Trial 786 finished with value: 0.6782258064516129 and parameters: {'lr': 3.6737706548399004e-06, 'weight_decay': 0.00043096007460958943}. Best is trial 483 with value: 0.8469945355191256.\n",
      "WARNING: Maximum number of iterations 32 reached. The mean may be inaccurate\n"
     ]
    },
    {
     "name": "stdout",
     "output_type": "stream",
     "text": [
      "SVD 수렴 문제 발생: SVD did not converge. 계속 진행합니다.\n"
     ]
    },
    {
     "name": "stderr",
     "output_type": "stream",
     "text": [
      "[I 2024-10-05 01:53:56,111] Trial 787 finished with value: 0.6967741935483871 and parameters: {'lr': 1.947399694464799e-05, 'weight_decay': 0.0006222441800770521}. Best is trial 483 with value: 0.8469945355191256.\n",
      "WARNING: Maximum number of iterations 32 reached. The mean may be inaccurate\n"
     ]
    },
    {
     "name": "stdout",
     "output_type": "stream",
     "text": [
      "SVD 수렴 문제 발생: SVD did not converge. 계속 진행합니다.\n"
     ]
    },
    {
     "name": "stderr",
     "output_type": "stream",
     "text": [
      "[I 2024-10-05 01:58:43,727] Trial 788 finished with value: 0.5909445745511319 and parameters: {'lr': 0.00043466339499074964, 'weight_decay': 0.0009712544204755373}. Best is trial 483 with value: 0.8469945355191256.\n",
      "WARNING: Maximum number of iterations 32 reached. The mean may be inaccurate\n"
     ]
    },
    {
     "name": "stdout",
     "output_type": "stream",
     "text": [
      "SVD 수렴 문제 발생: SVD did not converge. 계속 진행합니다.\n"
     ]
    },
    {
     "name": "stderr",
     "output_type": "stream",
     "text": [
      "[I 2024-10-05 02:03:30,801] Trial 789 finished with value: 0.6151515151515152 and parameters: {'lr': 2.7277849784136438e-06, 'weight_decay': 0.0007448610539533799}. Best is trial 483 with value: 0.8469945355191256.\n",
      "WARNING: Maximum number of iterations 32 reached. The mean may be inaccurate\n"
     ]
    },
    {
     "name": "stdout",
     "output_type": "stream",
     "text": [
      "SVD 수렴 문제 발생: SVD did not converge. 계속 진행합니다.\n"
     ]
    },
    {
     "name": "stderr",
     "output_type": "stream",
     "text": [
      "[I 2024-10-05 02:08:18,992] Trial 790 finished with value: 0.7475806451612903 and parameters: {'lr': 3.7108688898647476e-05, 'weight_decay': 0.001564769761955538}. Best is trial 483 with value: 0.8469945355191256.\n",
      "WARNING: Maximum number of iterations 32 reached. The mean may be inaccurate\n"
     ]
    },
    {
     "name": "stdout",
     "output_type": "stream",
     "text": [
      "SVD 수렴 문제 발생: SVD did not converge. 계속 진행합니다.\n"
     ]
    },
    {
     "name": "stderr",
     "output_type": "stream",
     "text": [
      "[I 2024-10-05 02:13:08,174] Trial 791 finished with value: 0.6658860265417642 and parameters: {'lr': 2.869254325855955e-05, 'weight_decay': 0.0005302298421799063}. Best is trial 483 with value: 0.8469945355191256.\n",
      "WARNING: Maximum number of iterations 32 reached. The mean may be inaccurate\n",
      "[I 2024-10-05 02:32:19,216] Trial 795 finished with value: 0.633879781420765 and parameters: {'lr': 3.239782153352117e-05, 'weight_decay': 0.0009652445741817949}. Best is trial 483 with value: 0.8469945355191256.\n",
      "WARNING: Maximum number of iterations 32 reached. The mean may be inaccurate\n"
     ]
    },
    {
     "name": "stdout",
     "output_type": "stream",
     "text": [
      "SVD 수렴 문제 발생: SVD did not converge. 계속 진행합니다.\n"
     ]
    },
    {
     "name": "stderr",
     "output_type": "stream",
     "text": [
      "[I 2024-10-05 02:37:06,140] Trial 796 finished with value: 0.5363636363636364 and parameters: {'lr': 0.00017261970570805134, 'weight_decay': 0.0007462670268201445}. Best is trial 483 with value: 0.8469945355191256.\n",
      "WARNING: Maximum number of iterations 32 reached. The mean may be inaccurate\n"
     ]
    },
    {
     "name": "stdout",
     "output_type": "stream",
     "text": [
      "SVD 수렴 문제 발생: SVD did not converge. 계속 진행합니다.\n"
     ]
    },
    {
     "name": "stderr",
     "output_type": "stream",
     "text": [
      "[I 2024-10-05 02:46:36,618] Trial 798 finished with value: 0.678030303030303 and parameters: {'lr': 1.3571542658259587e-05, 'weight_decay': 0.0018499299678834777}. Best is trial 483 with value: 0.8469945355191256.\n",
      "WARNING: Maximum number of iterations 32 reached. The mean may be inaccurate\n"
     ]
    },
    {
     "name": "stdout",
     "output_type": "stream",
     "text": [
      "SVD 수렴 문제 발생: SVD did not converge. 계속 진행합니다.\n"
     ]
    },
    {
     "name": "stderr",
     "output_type": "stream",
     "text": [
      "[I 2024-10-05 02:51:24,133] Trial 799 finished with value: 0.6846774193548387 and parameters: {'lr': 2.014414120277333e-06, 'weight_decay': 0.0012576809475929082}. Best is trial 483 with value: 0.8469945355191256.\n",
      "WARNING: Maximum number of iterations 32 reached. The mean may be inaccurate\n"
     ]
    },
    {
     "name": "stdout",
     "output_type": "stream",
     "text": [
      "SVD 수렴 문제 발생: SVD did not converge. 계속 진행합니다.\n"
     ]
    },
    {
     "name": "stderr",
     "output_type": "stream",
     "text": [
      "[I 2024-10-05 02:56:11,845] Trial 800 finished with value: 0.5887096774193549 and parameters: {'lr': 5.205256806100606e-05, 'weight_decay': 0.0006354123170010046}. Best is trial 483 with value: 0.8469945355191256.\n",
      "WARNING: Maximum number of iterations 32 reached. The mean may be inaccurate\n"
     ]
    },
    {
     "name": "stdout",
     "output_type": "stream",
     "text": [
      "SVD 수렴 문제 발생: SVD did not converge. 계속 진행합니다.\n"
     ]
    },
    {
     "name": "stderr",
     "output_type": "stream",
     "text": [
      "[I 2024-10-05 03:00:58,039] Trial 801 finished with value: 0.6702619414483821 and parameters: {'lr': 0.00020437882507747912, 'weight_decay': 0.0010766636176768164}. Best is trial 483 with value: 0.8469945355191256.\n",
      "WARNING: Maximum number of iterations 32 reached. The mean may be inaccurate\n"
     ]
    },
    {
     "name": "stdout",
     "output_type": "stream",
     "text": [
      "SVD 수렴 문제 발생: SVD did not converge. 계속 진행합니다.\n"
     ]
    },
    {
     "name": "stderr",
     "output_type": "stream",
     "text": [
      "[I 2024-10-05 03:05:44,094] Trial 802 finished with value: 0.737656595431098 and parameters: {'lr': 2.4996096050164424e-05, 'weight_decay': 0.00044512849336265605}. Best is trial 483 with value: 0.8469945355191256.\n",
      "WARNING: Maximum number of iterations 32 reached. The mean may be inaccurate\n"
     ]
    },
    {
     "name": "stdout",
     "output_type": "stream",
     "text": [
      "SVD 수렴 문제 발생: SVD did not converge. 계속 진행합니다.\n"
     ]
    },
    {
     "name": "stderr",
     "output_type": "stream",
     "text": [
      "[I 2024-10-05 03:10:30,728] Trial 803 finished with value: 0.6385636221701796 and parameters: {'lr': 3.7901246916903165e-05, 'weight_decay': 0.0008992125381717071}. Best is trial 483 with value: 0.8469945355191256.\n",
      "WARNING: Maximum number of iterations 32 reached. The mean may be inaccurate\n"
     ]
    },
    {
     "name": "stdout",
     "output_type": "stream",
     "text": [
      "SVD 수렴 문제 발생: SVD did not converge. 계속 진행합니다.\n"
     ]
    },
    {
     "name": "stderr",
     "output_type": "stream",
     "text": [
      "[I 2024-10-05 03:15:17,032] Trial 804 finished with value: 0.7000835421888054 and parameters: {'lr': 0.00032239140489859496, 'weight_decay': 0.0005866147292785429}. Best is trial 483 with value: 0.8469945355191256.\n",
      "WARNING: Maximum number of iterations 32 reached. The mean may be inaccurate\n"
     ]
    },
    {
     "name": "stdout",
     "output_type": "stream",
     "text": [
      "SVD 수렴 문제 발생: SVD did not converge. 계속 진행합니다.\n"
     ]
    },
    {
     "name": "stderr",
     "output_type": "stream",
     "text": [
      "[I 2024-10-05 03:20:05,309] Trial 805 finished with value: 0.6765151515151515 and parameters: {'lr': 2.7409157214806377e-05, 'weight_decay': 0.0007704509392602308}. Best is trial 483 with value: 0.8469945355191256.\n",
      "WARNING: Maximum number of iterations 32 reached. The mean may be inaccurate\n"
     ]
    },
    {
     "name": "stdout",
     "output_type": "stream",
     "text": [
      "SVD 수렴 문제 발생: SVD did not converge. 계속 진행합니다.\n"
     ]
    },
    {
     "name": "stderr",
     "output_type": "stream",
     "text": [
      "[I 2024-10-05 03:24:52,646] Trial 806 finished with value: 0.7241935483870968 and parameters: {'lr': 1.6824362099828264e-06, 'weight_decay': 0.0013043141467899806}. Best is trial 483 with value: 0.8469945355191256.\n",
      "WARNING: Maximum number of iterations 32 reached. The mean may be inaccurate\n"
     ]
    },
    {
     "name": "stdout",
     "output_type": "stream",
     "text": [
      "SVD 수렴 문제 발생: SVD did not converge. 계속 진행합니다.\n"
     ]
    },
    {
     "name": "stderr",
     "output_type": "stream",
     "text": [
      "[I 2024-10-05 03:29:38,741] Trial 807 finished with value: 0.726775956284153 and parameters: {'lr': 2.0303462854651245e-05, 'weight_decay': 0.0005437144772596106}. Best is trial 483 with value: 0.8469945355191256.\n",
      "WARNING: Maximum number of iterations 32 reached. The mean may be inaccurate\n"
     ]
    },
    {
     "name": "stdout",
     "output_type": "stream",
     "text": [
      "SVD 수렴 문제 발생: SVD did not converge. 계속 진행합니다.\n"
     ]
    },
    {
     "name": "stderr",
     "output_type": "stream",
     "text": [
      "[I 2024-10-05 03:34:24,376] Trial 808 finished with value: 0.654032258064516 and parameters: {'lr': 1.584692664898551e-05, 'weight_decay': 0.0015964609455285394}. Best is trial 483 with value: 0.8469945355191256.\n",
      "WARNING: Maximum number of iterations 32 reached. The mean may be inaccurate\n"
     ]
    },
    {
     "name": "stdout",
     "output_type": "stream",
     "text": [
      "SVD 수렴 문제 발생: SVD did not converge. 계속 진행합니다.\n"
     ]
    },
    {
     "name": "stderr",
     "output_type": "stream",
     "text": [
      "[I 2024-10-05 03:39:10,157] Trial 809 finished with value: 0.6917293233082707 and parameters: {'lr': 3.042073763672441e-05, 'weight_decay': 0.0008578248780646131}. Best is trial 483 with value: 0.8469945355191256.\n",
      "WARNING: Maximum number of iterations 32 reached. The mean may be inaccurate\n"
     ]
    },
    {
     "name": "stdout",
     "output_type": "stream",
     "text": [
      "SVD 수렴 문제 발생: SVD did not converge. 계속 진행합니다.\n"
     ]
    },
    {
     "name": "stderr",
     "output_type": "stream",
     "text": [
      "WARNING: Maximum number of iterations 32 reached. The mean may be inaccurate\n"
     ]
    },
    {
     "name": "stdout",
     "output_type": "stream",
     "text": [
      "SVD 수렴 문제 발생: SVD did not converge. 계속 진행합니다.\n"
     ]
    },
    {
     "name": "stderr",
     "output_type": "stream",
     "text": [
      "[I 2024-10-05 03:48:38,428] Trial 811 finished with value: 0.6507575757575758 and parameters: {'lr': 0.0033242307438904406, 'weight_decay': 0.0010761583553780183}. Best is trial 483 with value: 0.8469945355191256.\n",
      "WARNING: Maximum number of iterations 32 reached. The mean may be inaccurate\n",
      "[I 2024-10-05 03:53:25,415] Trial 812 finished with value: 0.6799375487900079 and parameters: {'lr': 3.477890367157514e-05, 'weight_decay': 0.000711051667499299}. Best is trial 483 with value: 0.8469945355191256.\n"
     ]
    },
    {
     "name": "stdout",
     "output_type": "stream",
     "text": [
      "SVD 수렴 문제 발생: SVD did not converge. 계속 진행합니다.\n"
     ]
    },
    {
     "name": "stderr",
     "output_type": "stream",
     "text": [
      "WARNING: Maximum number of iterations 32 reached. The mean may be inaccurate\n",
      "[I 2024-10-05 03:58:06,483] Trial 813 finished with value: 0.48346774193548386 and parameters: {'lr': 0.006035899559462834, 'weight_decay': 0.00011730317531969425}. Best is trial 483 with value: 0.8469945355191256.\n"
     ]
    },
    {
     "name": "stdout",
     "output_type": "stream",
     "text": [
      "SVD 수렴 문제 발생: SVD did not converge. 계속 진행합니다.\n"
     ]
    },
    {
     "name": "stderr",
     "output_type": "stream",
     "text": [
      "WARNING: Maximum number of iterations 32 reached. The mean may be inaccurate\n"
     ]
    },
    {
     "name": "stdout",
     "output_type": "stream",
     "text": [
      "SVD 수렴 문제 발생: SVD did not converge. 계속 진행합니다.\n"
     ]
    },
    {
     "name": "stderr",
     "output_type": "stream",
     "text": [
      "[I 2024-10-05 04:02:51,635] Trial 814 finished with value: 0.5962121212121212 and parameters: {'lr': 5.657818324529204e-05, 'weight_decay': 0.0004477899322412993}. Best is trial 483 with value: 0.8469945355191256.\n",
      "WARNING: Maximum number of iterations 32 reached. The mean may be inaccurate\n"
     ]
    },
    {
     "name": "stdout",
     "output_type": "stream",
     "text": [
      "SVD 수렴 문제 발생: SVD did not converge. 계속 진행합니다.\n"
     ]
    },
    {
     "name": "stderr",
     "output_type": "stream",
     "text": [
      "[I 2024-10-05 04:07:37,251] Trial 815 finished with value: 0.6112412177985949 and parameters: {'lr': 0.0005334783641708224, 'weight_decay': 0.0006474955255702308}. Best is trial 483 with value: 0.8469945355191256.\n",
      "WARNING: Maximum number of iterations 32 reached. The mean may be inaccurate\n"
     ]
    },
    {
     "name": "stdout",
     "output_type": "stream",
     "text": [
      "SVD 수렴 문제 발생: SVD did not converge. 계속 진행합니다.\n"
     ]
    },
    {
     "name": "stderr",
     "output_type": "stream",
     "text": [
      "[I 2024-10-05 04:12:23,271] Trial 816 finished with value: 0.582258064516129 and parameters: {'lr': 4.327100878813395e-06, 'weight_decay': 0.0014506488806102467}. Best is trial 483 with value: 0.8469945355191256.\n",
      "WARNING: Maximum number of iterations 32 reached. The mean may be inaccurate\n"
     ]
    },
    {
     "name": "stdout",
     "output_type": "stream",
     "text": [
      "SVD 수렴 문제 발생: SVD did not converge. 계속 진행합니다.\n"
     ]
    },
    {
     "name": "stderr",
     "output_type": "stream",
     "text": [
      "[I 2024-10-05 04:17:09,769] Trial 817 finished with value: 0.6830601092896175 and parameters: {'lr': 2.107305304244946e-05, 'weight_decay': 0.00014823332905859534}. Best is trial 483 with value: 0.8469945355191256.\n",
      "WARNING: Maximum number of iterations 32 reached. The mean may be inaccurate\n"
     ]
    },
    {
     "name": "stdout",
     "output_type": "stream",
     "text": [
      "SVD 수렴 문제 발생: SVD did not converge. 계속 진행합니다.\n"
     ]
    },
    {
     "name": "stderr",
     "output_type": "stream",
     "text": [
      "[I 2024-10-05 04:21:55,776] Trial 818 finished with value: 0.6637096774193548 and parameters: {'lr': 0.0002830399681674017, 'weight_decay': 0.00033461355123289856}. Best is trial 483 with value: 0.8469945355191256.\n",
      "WARNING: Maximum number of iterations 32 reached. The mean may be inaccurate\n",
      "[I 2024-10-05 04:26:44,456] Trial 819 finished with value: 0.6174242424242424 and parameters: {'lr': 2.3295015188796177e-05, 'weight_decay': 0.0009380003090941441}. Best is trial 483 with value: 0.8469945355191256.\n"
     ]
    },
    {
     "name": "stdout",
     "output_type": "stream",
     "text": [
      "SVD 수렴 문제 발생: SVD did not converge. 계속 진행합니다.\n"
     ]
    },
    {
     "name": "stderr",
     "output_type": "stream",
     "text": [
      "WARNING: Maximum number of iterations 32 reached. The mean may be inaccurate\n",
      "[I 2024-10-05 04:31:31,426] Trial 820 finished with value: 0.48711943793911006 and parameters: {'lr': 3.112918208337544e-05, 'weight_decay': 0.0005525787101467748}. Best is trial 483 with value: 0.8469945355191256.\n"
     ]
    },
    {
     "name": "stdout",
     "output_type": "stream",
     "text": [
      "SVD 수렴 문제 발생: SVD did not converge. 계속 진행합니다.\n"
     ]
    },
    {
     "name": "stderr",
     "output_type": "stream",
     "text": [
      "WARNING: Maximum number of iterations 32 reached. The mean may be inaccurate\n"
     ]
    },
    {
     "name": "stdout",
     "output_type": "stream",
     "text": [
      "SVD 수렴 문제 발생: SVD did not converge. 계속 진행합니다.\n"
     ]
    },
    {
     "name": "stderr",
     "output_type": "stream",
     "text": [
      "[I 2024-10-05 04:36:16,273] Trial 821 finished with value: 0.7233870967741935 and parameters: {'lr': 4.045357483937108e-05, 'weight_decay': 0.0007506268577557491}. Best is trial 483 with value: 0.8469945355191256.\n",
      "WARNING: Maximum number of iterations 32 reached. The mean may be inaccurate\n"
     ]
    },
    {
     "name": "stdout",
     "output_type": "stream",
     "text": [
      "SVD 수렴 문제 발생: SVD did not converge. 계속 진행합니다.\n"
     ]
    },
    {
     "name": "stderr",
     "output_type": "stream",
     "text": [
      "[I 2024-10-05 04:41:02,044] Trial 822 finished with value: 0.6863636363636364 and parameters: {'lr': 1.8581981499617912e-05, 'weight_decay': 0.0011700622024629257}. Best is trial 483 with value: 0.8469945355191256.\n",
      "WARNING: Maximum number of iterations 32 reached. The mean may be inaccurate\n"
     ]
    },
    {
     "name": "stdout",
     "output_type": "stream",
     "text": [
      "SVD 수렴 문제 발생: SVD did not converge. 계속 진행합니다.\n"
     ]
    },
    {
     "name": "stderr",
     "output_type": "stream",
     "text": [
      "[I 2024-10-05 04:45:48,507] Trial 823 finished with value: 0.5463659147869675 and parameters: {'lr': 9.42677070041073e-06, 'weight_decay': 0.0002273145201105954}. Best is trial 483 with value: 0.8469945355191256.\n",
      "WARNING: Maximum number of iterations 32 reached. The mean may be inaccurate\n"
     ]
    },
    {
     "name": "stdout",
     "output_type": "stream",
     "text": [
      "SVD 수렴 문제 발생: SVD did not converge. 계속 진행합니다.\n"
     ]
    },
    {
     "name": "stderr",
     "output_type": "stream",
     "text": [
      "[I 2024-10-05 04:50:35,225] Trial 824 finished with value: 0.65807962529274 and parameters: {'lr': 0.0006836777664452062, 'weight_decay': 0.0020318374821565906}. Best is trial 483 with value: 0.8469945355191256.\n",
      "WARNING: Maximum number of iterations 32 reached. The mean may be inaccurate\n"
     ]
    },
    {
     "name": "stdout",
     "output_type": "stream",
     "text": [
      "SVD 수렴 문제 발생: SVD did not converge. 계속 진행합니다.\n"
     ]
    },
    {
     "name": "stderr",
     "output_type": "stream",
     "text": [
      "[I 2024-10-05 04:55:23,113] Trial 825 finished with value: 0.6356060606060606 and parameters: {'lr': 2.8423290619085555e-05, 'weight_decay': 0.0004970191833166199}. Best is trial 483 with value: 0.8469945355191256.\n",
      "WARNING: Maximum number of iterations 32 reached. The mean may be inaccurate\n"
     ]
    },
    {
     "name": "stdout",
     "output_type": "stream",
     "text": [
      "SVD 수렴 문제 발생: SVD did not converge. 계속 진행합니다.\n"
     ]
    },
    {
     "name": "stderr",
     "output_type": "stream",
     "text": [
      "[I 2024-10-05 05:00:04,311] Trial 826 finished with value: 0.5245967741935484 and parameters: {'lr': 0.009013476594120858, 'weight_decay': 0.0008510451802108208}. Best is trial 483 with value: 0.8469945355191256.\n",
      "WARNING: Maximum number of iterations 32 reached. The mean may be inaccurate\n"
     ]
    },
    {
     "name": "stdout",
     "output_type": "stream",
     "text": [
      "SVD 수렴 문제 발생: SVD did not converge. 계속 진행합니다.\n"
     ]
    },
    {
     "name": "stderr",
     "output_type": "stream",
     "text": [
      "[I 2024-10-05 05:04:51,958] Trial 827 finished with value: 0.6432748538011696 and parameters: {'lr': 1.1576778585763267e-05, 'weight_decay': 0.0006521585447369697}. Best is trial 483 with value: 0.8469945355191256.\n",
      "WARNING: Maximum number of iterations 32 reached. The mean may be inaccurate\n"
     ]
    },
    {
     "name": "stdout",
     "output_type": "stream",
     "text": [
      "SVD 수렴 문제 발생: SVD did not converge. 계속 진행합니다.\n"
     ]
    },
    {
     "name": "stderr",
     "output_type": "stream",
     "text": [
      "[I 2024-10-05 05:09:38,871] Trial 828 finished with value: 0.635483870967742 and parameters: {'lr': 5.049334934810347e-06, 'weight_decay': 0.001080235089745485}. Best is trial 483 with value: 0.8469945355191256.\n",
      "WARNING: Maximum number of iterations 32 reached. The mean may be inaccurate\n"
     ]
    },
    {
     "name": "stdout",
     "output_type": "stream",
     "text": [
      "SVD 수렴 문제 발생: SVD did not converge. 계속 진행합니다.\n"
     ]
    },
    {
     "name": "stderr",
     "output_type": "stream",
     "text": [
      "[I 2024-10-05 05:14:24,926] Trial 829 finished with value: 0.631076388888889 and parameters: {'lr': 2.5073372480839593e-06, 'weight_decay': 0.0013862729252563347}. Best is trial 483 with value: 0.8469945355191256.\n",
      "WARNING: Maximum number of iterations 32 reached. The mean may be inaccurate\n"
     ]
    },
    {
     "name": "stdout",
     "output_type": "stream",
     "text": [
      "SVD 수렴 문제 발생: SVD did not converge. 계속 진행합니다.\n"
     ]
    },
    {
     "name": "stderr",
     "output_type": "stream",
     "text": [
      "[I 2024-10-05 05:19:13,045] Trial 830 finished with value: 0.7030213706705969 and parameters: {'lr': 1.416529282396341e-06, 'weight_decay': 0.00042896735002719716}. Best is trial 483 with value: 0.8469945355191256.\n",
      "WARNING: Maximum number of iterations 32 reached. The mean may be inaccurate\n"
     ]
    },
    {
     "name": "stdout",
     "output_type": "stream",
     "text": [
      "SVD 수렴 문제 발생: SVD did not converge. 계속 진행합니다.\n"
     ]
    },
    {
     "name": "stderr",
     "output_type": "stream",
     "text": [
      "[I 2024-10-05 05:24:01,215] Trial 831 finished with value: 0.6499999999999999 and parameters: {'lr': 4.55267434853637e-05, 'weight_decay': 9.356995259480323e-05}. Best is trial 483 with value: 0.8469945355191256.\n",
      "WARNING: Maximum number of iterations 32 reached. The mean may be inaccurate\n"
     ]
    },
    {
     "name": "stdout",
     "output_type": "stream",
     "text": [
      "SVD 수렴 문제 발생: SVD did not converge. 계속 진행합니다.\n"
     ]
    },
    {
     "name": "stderr",
     "output_type": "stream",
     "text": [
      "[I 2024-10-05 05:28:49,540] Trial 832 finished with value: 0.5909445745511319 and parameters: {'lr': 3.481475274356064e-05, 'weight_decay': 0.0007431570373491195}. Best is trial 483 with value: 0.8469945355191256.\n",
      "WARNING: Maximum number of iterations 32 reached. The mean may be inaccurate\n"
     ]
    },
    {
     "name": "stdout",
     "output_type": "stream",
     "text": [
      "SVD 수렴 문제 발생: SVD did not converge. 계속 진행합니다.\n"
     ]
    },
    {
     "name": "stderr",
     "output_type": "stream",
     "text": [
      "[I 2024-10-05 05:33:37,624] Trial 833 finished with value: 0.6056451612903225 and parameters: {'lr': 1.7039528775987752e-05, 'weight_decay': 0.0017794139024268174}. Best is trial 483 with value: 0.8469945355191256.\n",
      "WARNING: Maximum number of iterations 32 reached. The mean may be inaccurate\n"
     ]
    },
    {
     "name": "stdout",
     "output_type": "stream",
     "text": [
      "SVD 수렴 문제 발생: SVD did not converge. 계속 진행합니다.\n"
     ]
    },
    {
     "name": "stderr",
     "output_type": "stream",
     "text": [
      "[I 2024-10-05 05:38:24,872] Trial 834 finished with value: 0.6510538641686182 and parameters: {'lr': 2.4191804845482022e-05, 'weight_decay': 0.0005684351597630044}. Best is trial 483 with value: 0.8469945355191256.\n",
      "WARNING: Maximum number of iterations 32 reached. The mean may be inaccurate\n"
     ]
    },
    {
     "name": "stdout",
     "output_type": "stream",
     "text": [
      "SVD 수렴 문제 발생: SVD did not converge. 계속 진행합니다.\n"
     ]
    },
    {
     "name": "stderr",
     "output_type": "stream",
     "text": [
      "[I 2024-10-05 05:43:11,549] Trial 835 finished with value: 0.6049960967993755 and parameters: {'lr': 3.3324550876999208e-06, 'weight_decay': 1.6668707971851117e-05}. Best is trial 483 with value: 0.8469945355191256.\n",
      "WARNING: Maximum number of iterations 32 reached. The mean may be inaccurate\n"
     ]
    },
    {
     "name": "stdout",
     "output_type": "stream",
     "text": [
      "SVD 수렴 문제 발생: SVD did not converge. 계속 진행합니다.\n"
     ]
    },
    {
     "name": "stderr",
     "output_type": "stream",
     "text": [
      "[I 2024-10-05 05:47:58,517] Trial 836 finished with value: 0.7103825136612022 and parameters: {'lr': 6.898226430034664e-06, 'weight_decay': 0.0009473240053977243}. Best is trial 483 with value: 0.8469945355191256.\n",
      "WARNING: Maximum number of iterations 32 reached. The mean may be inaccurate\n"
     ]
    },
    {
     "name": "stdout",
     "output_type": "stream",
     "text": [
      "SVD 수렴 문제 발생: SVD did not converge. 계속 진행합니다.\n"
     ]
    },
    {
     "name": "stderr",
     "output_type": "stream",
     "text": [
      "[I 2024-10-05 05:52:45,055] Trial 837 finished with value: 0.6455893832943013 and parameters: {'lr': 0.0009285135924095517, 'weight_decay': 0.0012030644316049616}. Best is trial 483 with value: 0.8469945355191256.\n",
      "WARNING: Maximum number of iterations 32 reached. The mean may be inaccurate\n"
     ]
    },
    {
     "name": "stdout",
     "output_type": "stream",
     "text": [
      "SVD 수렴 문제 발생: SVD did not converge. 계속 진행합니다.\n"
     ]
    },
    {
     "name": "stderr",
     "output_type": "stream",
     "text": [
      "[I 2024-10-05 05:57:31,358] Trial 838 finished with value: 0.6838709677419355 and parameters: {'lr': 0.00038907132823205065, 'weight_decay': 4.1401710381101185e-05}. Best is trial 483 with value: 0.8469945355191256.\n",
      "WARNING: Maximum number of iterations 32 reached. The mean may be inaccurate\n"
     ]
    },
    {
     "name": "stdout",
     "output_type": "stream",
     "text": [
      "SVD 수렴 문제 발생: SVD did not converge. 계속 진행합니다.\n"
     ]
    },
    {
     "name": "stderr",
     "output_type": "stream",
     "text": [
      "[I 2024-10-05 06:02:18,993] Trial 839 finished with value: 0.619047619047619 and parameters: {'lr': 4.99456102991216e-05, 'weight_decay': 0.00016908355225484572}. Best is trial 483 with value: 0.8469945355191256.\n",
      "WARNING: Maximum number of iterations 32 reached. The mean may be inaccurate\n"
     ]
    },
    {
     "name": "stdout",
     "output_type": "stream",
     "text": [
      "SVD 수렴 문제 발생: SVD did not converge. 계속 진행합니다.\n"
     ]
    },
    {
     "name": "stderr",
     "output_type": "stream",
     "text": [
      "[I 2024-10-05 06:07:05,931] Trial 840 finished with value: 0.6440281030444965 and parameters: {'lr': 2.657325026974725e-05, 'weight_decay': 0.0006625527776367266}. Best is trial 483 with value: 0.8469945355191256.\n",
      "WARNING: Maximum number of iterations 32 reached. The mean may be inaccurate\n"
     ]
    },
    {
     "name": "stdout",
     "output_type": "stream",
     "text": [
      "SVD 수렴 문제 발생: SVD did not converge. 계속 진행합니다.\n"
     ]
    },
    {
     "name": "stderr",
     "output_type": "stream",
     "text": [
      "[I 2024-10-05 06:11:50,753] Trial 841 finished with value: 0.5459677419354839 and parameters: {'lr': 0.0012066205904379703, 'weight_decay': 0.0008157222489658424}. Best is trial 483 with value: 0.8469945355191256.\n",
      "WARNING: Maximum number of iterations 32 reached. The mean may be inaccurate\n"
     ]
    },
    {
     "name": "stdout",
     "output_type": "stream",
     "text": [
      "SVD 수렴 문제 발생: SVD did not converge. 계속 진행합니다.\n"
     ]
    },
    {
     "name": "stderr",
     "output_type": "stream",
     "text": [
      "[I 2024-10-05 06:16:37,496] Trial 842 finished with value: 0.7408274785323966 and parameters: {'lr': 5.974634916979053e-05, 'weight_decay': 2.5422511541623928e-05}. Best is trial 483 with value: 0.8469945355191256.\n",
      "WARNING: Maximum number of iterations 32 reached. The mean may be inaccurate\n"
     ]
    },
    {
     "name": "stdout",
     "output_type": "stream",
     "text": [
      "SVD 수렴 문제 발생: SVD did not converge. 계속 진행합니다.\n"
     ]
    },
    {
     "name": "stderr",
     "output_type": "stream",
     "text": [
      "[I 2024-10-05 06:26:09,690] Trial 844 finished with value: 0.6604215456674473 and parameters: {'lr': 3.749552628796281e-05, 'weight_decay': 0.0005348507305818043}. Best is trial 483 with value: 0.8469945355191256.\n",
      "WARNING: Maximum number of iterations 32 reached. The mean may be inaccurate\n"
     ]
    },
    {
     "name": "stdout",
     "output_type": "stream",
     "text": [
      "SVD 수렴 문제 발생: SVD did not converge. 계속 진행합니다.\n"
     ]
    },
    {
     "name": "stderr",
     "output_type": "stream",
     "text": [
      "[I 2024-10-05 06:30:54,908] Trial 845 finished with value: 0.5755342667649226 and parameters: {'lr': 1.9681310175601306e-06, 'weight_decay': 5.492770345417627e-05}. Best is trial 483 with value: 0.8469945355191256.\n",
      "WARNING: Maximum number of iterations 32 reached. The mean may be inaccurate\n"
     ]
    },
    {
     "name": "stdout",
     "output_type": "stream",
     "text": [
      "SVD 수렴 문제 발생: SVD did not converge. 계속 진행합니다.\n"
     ]
    },
    {
     "name": "stderr",
     "output_type": "stream",
     "text": [
      "[I 2024-10-05 06:35:40,807] Trial 846 finished with value: 0.7007936507936507 and parameters: {'lr': 3.0610236974492255e-05, 'weight_decay': 0.00012608262832397024}. Best is trial 483 with value: 0.8469945355191256.\n",
      "WARNING: Maximum number of iterations 32 reached. The mean may be inaccurate\n"
     ]
    },
    {
     "name": "stdout",
     "output_type": "stream",
     "text": [
      "SVD 수렴 문제 발생: SVD did not converge. 계속 진행합니다.\n"
     ]
    },
    {
     "name": "stderr",
     "output_type": "stream",
     "text": [
      "[I 2024-10-05 06:40:25,772] Trial 847 finished with value: 0.6338797814207651 and parameters: {'lr': 1.923146301534193e-05, 'weight_decay': 0.0015825126544999014}. Best is trial 483 with value: 0.8469945355191256.\n",
      "WARNING: Maximum number of iterations 32 reached. The mean may be inaccurate\n"
     ]
    },
    {
     "name": "stdout",
     "output_type": "stream",
     "text": [
      "SVD 수렴 문제 발생: SVD did not converge. 계속 진행합니다.\n"
     ]
    },
    {
     "name": "stderr",
     "output_type": "stream",
     "text": [
      "[I 2024-10-05 06:45:10,746] Trial 848 finished with value: 0.5266129032258065 and parameters: {'lr': 2.430000120315583e-05, 'weight_decay': 0.002402114013680366}. Best is trial 483 with value: 0.8469945355191256.\n",
      "WARNING: Maximum number of iterations 32 reached. The mean may be inaccurate\n"
     ]
    },
    {
     "name": "stdout",
     "output_type": "stream",
     "text": [
      "SVD 수렴 문제 발생: SVD did not converge. 계속 진행합니다.\n"
     ]
    },
    {
     "name": "stderr",
     "output_type": "stream",
     "text": [
      "[I 2024-10-05 06:49:56,533] Trial 849 finished with value: 0.6963309914129586 and parameters: {'lr': 3.9829536392483945e-05, 'weight_decay': 0.0010158765003208678}. Best is trial 483 with value: 0.8469945355191256.\n",
      "WARNING: Maximum number of iterations 32 reached. The mean may be inaccurate\n"
     ]
    },
    {
     "name": "stdout",
     "output_type": "stream",
     "text": [
      "SVD 수렴 문제 발생: SVD did not converge. 계속 진행합니다.\n"
     ]
    },
    {
     "name": "stderr",
     "output_type": "stream",
     "text": [
      "[I 2024-10-05 06:54:40,993] Trial 850 finished with value: 0.5816640986132511 and parameters: {'lr': 0.00024713302701170745, 'weight_decay': 0.0006281171860683813}. Best is trial 483 with value: 0.8469945355191256.\n",
      "WARNING: Maximum number of iterations 32 reached. The mean may be inaccurate\n",
      "[I 2024-10-05 06:59:27,146] Trial 851 finished with value: 0.5971896955503513 and parameters: {'lr': 8.687563691547886e-05, 'weight_decay': 0.000833172369103626}. Best is trial 483 with value: 0.8469945355191256.\n"
     ]
    },
    {
     "name": "stdout",
     "output_type": "stream",
     "text": [
      "SVD 수렴 문제 발생: SVD did not converge. 계속 진행합니다.\n"
     ]
    },
    {
     "name": "stderr",
     "output_type": "stream",
     "text": [
      "WARNING: Maximum number of iterations 32 reached. The mean may be inaccurate\n"
     ]
    },
    {
     "name": "stdout",
     "output_type": "stream",
     "text": [
      "SVD 수렴 문제 발생: SVD did not converge. 계속 진행합니다.\n"
     ]
    },
    {
     "name": "stderr",
     "output_type": "stream",
     "text": [
      "[I 2024-10-05 07:04:09,971] Trial 852 finished with value: 0.6268540202966433 and parameters: {'lr': 3.196709895442908e-05, 'weight_decay': 0.0014173619573817056}. Best is trial 483 with value: 0.8469945355191256.\n",
      "WARNING: Maximum number of iterations 32 reached. The mean may be inaccurate\n"
     ]
    },
    {
     "name": "stdout",
     "output_type": "stream",
     "text": [
      "SVD 수렴 문제 발생: SVD did not converge. 계속 진행합니다.\n"
     ]
    },
    {
     "name": "stderr",
     "output_type": "stream",
     "text": [
      "[I 2024-10-05 07:08:53,606] Trial 853 finished with value: 0.6735445836403832 and parameters: {'lr': 7.019352007432606e-05, 'weight_decay': 0.0004815822151541965}. Best is trial 483 with value: 0.8469945355191256.\n",
      "WARNING: Maximum number of iterations 32 reached. The mean may be inaccurate\n"
     ]
    },
    {
     "name": "stdout",
     "output_type": "stream",
     "text": [
      "SVD 수렴 문제 발생: SVD did not converge. 계속 진행합니다.\n"
     ]
    },
    {
     "name": "stderr",
     "output_type": "stream",
     "text": [
      "[I 2024-10-05 07:13:37,548] Trial 854 finished with value: 0.5386363636363637 and parameters: {'lr': 0.0004554449531653445, 'weight_decay': 0.0007095976813774101}. Best is trial 483 with value: 0.8469945355191256.\n",
      "WARNING: Maximum number of iterations 32 reached. The mean may be inaccurate\n"
     ]
    },
    {
     "name": "stdout",
     "output_type": "stream",
     "text": [
      "SVD 수렴 문제 발생: SVD did not converge. 계속 진행합니다.\n"
     ]
    },
    {
     "name": "stderr",
     "output_type": "stream",
     "text": [
      "[I 2024-10-05 07:18:23,066] Trial 855 finished with value: 0.7197501951600312 and parameters: {'lr': 2.4627774034219325e-05, 'weight_decay': 0.0011992157404122}. Best is trial 483 with value: 0.8469945355191256.\n",
      "WARNING: Maximum number of iterations 32 reached. The mean may be inaccurate\n"
     ]
    },
    {
     "name": "stdout",
     "output_type": "stream",
     "text": [
      "SVD 수렴 문제 발생: SVD did not converge. 계속 진행합니다.\n"
     ]
    },
    {
     "name": "stderr",
     "output_type": "stream",
     "text": [
      "[I 2024-10-05 07:23:07,144] Trial 856 finished with value: 0.528030303030303 and parameters: {'lr': 2.1658428787093212e-05, 'weight_decay': 0.0009444794219675794}. Best is trial 483 with value: 0.8469945355191256.\n",
      "WARNING: Maximum number of iterations 32 reached. The mean may be inaccurate\n",
      "[I 2024-10-05 07:27:52,943] Trial 857 finished with value: 0.6193548387096774 and parameters: {'lr': 1.1130512185673543e-05, 'weight_decay': 0.000566291266514492}. Best is trial 483 with value: 0.8469945355191256.\n"
     ]
    },
    {
     "name": "stdout",
     "output_type": "stream",
     "text": [
      "SVD 수렴 문제 발생: SVD did not converge. 계속 진행합니다.\n"
     ]
    },
    {
     "name": "stderr",
     "output_type": "stream",
     "text": [
      "WARNING: Maximum number of iterations 32 reached. The mean may be inaccurate\n"
     ]
    },
    {
     "name": "stdout",
     "output_type": "stream",
     "text": [
      "SVD 수렴 문제 발생: SVD did not converge. 계속 진행합니다.\n"
     ]
    },
    {
     "name": "stderr",
     "output_type": "stream",
     "text": [
      "[I 2024-10-05 07:32:36,017] Trial 858 finished with value: 0.6712121212121211 and parameters: {'lr': 1.606994429165279e-05, 'weight_decay': 0.00040157680034799844}. Best is trial 483 with value: 0.8469945355191256.\n",
      "WARNING: Maximum number of iterations 32 reached. The mean may be inaccurate\n"
     ]
    },
    {
     "name": "stdout",
     "output_type": "stream",
     "text": [
      "SVD 수렴 문제 발생: SVD did not converge. 계속 진행합니다.\n"
     ]
    },
    {
     "name": "stderr",
     "output_type": "stream",
     "text": [
      "[I 2024-10-05 07:37:20,249] Trial 859 finished with value: 0.5870413739266198 and parameters: {'lr': 4.098017614350793e-06, 'weight_decay': 0.00010172294746533572}. Best is trial 483 with value: 0.8469945355191256.\n",
      "WARNING: Maximum number of iterations 32 reached. The mean may be inaccurate\n"
     ]
    },
    {
     "name": "stdout",
     "output_type": "stream",
     "text": [
      "SVD 수렴 문제 발생: SVD did not converge. 계속 진행합니다.\n"
     ]
    },
    {
     "name": "stderr",
     "output_type": "stream",
     "text": [
      "[I 2024-10-05 07:42:06,045] Trial 860 finished with value: 0.6666666666666667 and parameters: {'lr': 4.3067697846611965e-05, 'weight_decay': 0.0007565152161539006}. Best is trial 483 with value: 0.8469945355191256.\n",
      "WARNING: Maximum number of iterations 32 reached. The mean may be inaccurate\n"
     ]
    },
    {
     "name": "stdout",
     "output_type": "stream",
     "text": [
      "SVD 수렴 문제 발생: SVD did not converge. 계속 진행합니다.\n"
     ]
    },
    {
     "name": "stderr",
     "output_type": "stream",
     "text": [
      "[I 2024-10-05 07:46:51,173] Trial 861 finished with value: 0.7064793130366901 and parameters: {'lr': 2.744359391239091e-06, 'weight_decay': 0.00031172930589395715}. Best is trial 483 with value: 0.8469945355191256.\n",
      "[I 2024-10-05 07:51:37,625] Trial 862 finished with value: 0.7252146760343481 and parameters: {'lr': 4.916828637611717e-05, 'weight_decay': 0.00025985461665294524}. Best is trial 483 with value: 0.8469945355191256.\n",
      "WARNING: Maximum number of iterations 32 reached. The mean may be inaccurate\n"
     ]
    },
    {
     "name": "stdout",
     "output_type": "stream",
     "text": [
      "SVD 수렴 문제 발생: SVD did not converge. 계속 진행합니다.\n"
     ]
    },
    {
     "name": "stderr",
     "output_type": "stream",
     "text": [
      "[I 2024-10-05 07:56:22,776] Trial 863 finished with value: 0.6370023419203746 and parameters: {'lr': 8.200739003829239e-06, 'weight_decay': 7.036728472606415e-05}. Best is trial 483 with value: 0.8469945355191256.\n",
      "WARNING: Maximum number of iterations 32 reached. The mean may be inaccurate\n"
     ]
    },
    {
     "name": "stdout",
     "output_type": "stream",
     "text": [
      "SVD 수렴 문제 발생: SVD did not converge. 계속 진행합니다.\n"
     ]
    },
    {
     "name": "stderr",
     "output_type": "stream",
     "text": [
      "[I 2024-10-05 08:01:07,249] Trial 864 finished with value: 0.7333333333333333 and parameters: {'lr': 2.9333269720351012e-05, 'weight_decay': 0.0018858842588943333}. Best is trial 483 with value: 0.8469945355191256.\n",
      "WARNING: Maximum number of iterations 32 reached. The mean may be inaccurate\n"
     ]
    },
    {
     "name": "stdout",
     "output_type": "stream",
     "text": [
      "SVD 수렴 문제 발생: SVD did not converge. 계속 진행합니다.\n"
     ]
    },
    {
     "name": "stderr",
     "output_type": "stream",
     "text": [
      "[I 2024-10-05 08:05:51,778] Trial 865 finished with value: 0.6658860265417642 and parameters: {'lr': 3.652575992203011e-05, 'weight_decay': 0.0010027616434275886}. Best is trial 483 with value: 0.8469945355191256.\n",
      "WARNING: Maximum number of iterations 32 reached. The mean may be inaccurate\n"
     ]
    },
    {
     "name": "stdout",
     "output_type": "stream",
     "text": [
      "SVD 수렴 문제 발생: SVD did not converge. 계속 진행합니다.\n"
     ]
    },
    {
     "name": "stderr",
     "output_type": "stream",
     "text": [
      "[I 2024-10-05 08:10:36,579] Trial 866 finished with value: 0.6136363636363636 and parameters: {'lr': 5.9462996380282495e-05, 'weight_decay': 0.0004934697020312267}. Best is trial 483 with value: 0.8469945355191256.\n",
      "WARNING: Maximum number of iterations 32 reached. The mean may be inaccurate\n"
     ]
    },
    {
     "name": "stdout",
     "output_type": "stream",
     "text": [
      "SVD 수렴 문제 발생: SVD did not converge. 계속 진행합니다.\n"
     ]
    },
    {
     "name": "stderr",
     "output_type": "stream",
     "text": [
      "[I 2024-10-05 08:15:22,696] Trial 867 finished with value: 0.7403225806451612 and parameters: {'lr': 0.00022112466964075507, 'weight_decay': 0.0006304668249962166}. Best is trial 483 with value: 0.8469945355191256.\n",
      "WARNING: Maximum number of iterations 32 reached. The mean may be inaccurate\n"
     ]
    },
    {
     "name": "stdout",
     "output_type": "stream",
     "text": [
      "SVD 수렴 문제 발생: SVD did not converge. 계속 진행합니다.\n"
     ]
    },
    {
     "name": "stderr",
     "output_type": "stream",
     "text": [
      "[I 2024-10-05 08:20:08,248] Trial 868 finished with value: 0.5741935483870967 and parameters: {'lr': 1.6772534533321803e-06, 'weight_decay': 0.0012727417985014505}. Best is trial 483 with value: 0.8469945355191256.\n",
      "WARNING: Maximum number of iterations 32 reached. The mean may be inaccurate\n"
     ]
    },
    {
     "name": "stdout",
     "output_type": "stream",
     "text": [
      "SVD 수렴 문제 발생: SVD did not converge. 계속 진행합니다.\n"
     ]
    },
    {
     "name": "stderr",
     "output_type": "stream",
     "text": [
      "[I 2024-10-05 08:24:53,924] Trial 869 finished with value: 0.6598484848484848 and parameters: {'lr': 6.025264557488004e-06, 'weight_decay': 0.0007291231365302153}. Best is trial 483 with value: 0.8469945355191256.\n",
      "WARNING: Maximum number of iterations 32 reached. The mean may be inaccurate\n"
     ]
    },
    {
     "name": "stdout",
     "output_type": "stream",
     "text": [
      "SVD 수렴 문제 발생: SVD did not converge. 계속 진행합니다.\n"
     ]
    },
    {
     "name": "stderr",
     "output_type": "stream",
     "text": [
      "[I 2024-10-05 08:29:40,090] Trial 870 finished with value: 0.660483870967742 and parameters: {'lr': 0.00015491898379264258, 'weight_decay': 0.0015637504308850657}. Best is trial 483 with value: 0.8469945355191256.\n",
      "WARNING: Maximum number of iterations 32 reached. The mean may be inaccurate\n"
     ]
    },
    {
     "name": "stdout",
     "output_type": "stream",
     "text": [
      "SVD 수렴 문제 발생: SVD did not converge. 계속 진행합니다.\n"
     ]
    },
    {
     "name": "stderr",
     "output_type": "stream",
     "text": [
      "[I 2024-10-05 08:34:25,347] Trial 871 finished with value: 0.5772765246449457 and parameters: {'lr': 2.145884369130857e-05, 'weight_decay': 0.0011068673212191443}. Best is trial 483 with value: 0.8469945355191256.\n",
      "WARNING: Maximum number of iterations 32 reached. The mean may be inaccurate\n"
     ]
    },
    {
     "name": "stdout",
     "output_type": "stream",
     "text": [
      "SVD 수렴 문제 발생: SVD did not converge. 계속 진행합니다.\n"
     ]
    },
    {
     "name": "stderr",
     "output_type": "stream",
     "text": [
      "[I 2024-10-05 08:39:10,010] Trial 872 finished with value: 0.7040983606557377 and parameters: {'lr': 2.6443578700840246e-05, 'weight_decay': 0.0008725471079515895}. Best is trial 483 with value: 0.8469945355191256.\n",
      "WARNING: Maximum number of iterations 32 reached. The mean may be inaccurate\n",
      "[I 2024-10-05 08:43:55,327] Trial 873 finished with value: 0.6101694915254237 and parameters: {'lr': 1.7451989176950222e-05, 'weight_decay': 0.00012350034762992823}. Best is trial 483 with value: 0.8469945355191256.\n"
     ]
    },
    {
     "name": "stdout",
     "output_type": "stream",
     "text": [
      "SVD 수렴 문제 발생: SVD did not converge. 계속 진행합니다.\n"
     ]
    },
    {
     "name": "stderr",
     "output_type": "stream",
     "text": [
      "WARNING: Maximum number of iterations 32 reached. The mean may be inaccurate\n",
      "[I 2024-10-05 08:53:23,642] Trial 875 finished with value: 0.55 and parameters: {'lr': 0.001672951738988131, 'weight_decay': 0.00015137559303006452}. Best is trial 483 with value: 0.8469945355191256.\n"
     ]
    },
    {
     "name": "stdout",
     "output_type": "stream",
     "text": [
      "SVD 수렴 문제 발생: SVD did not converge. 계속 진행합니다.\n"
     ]
    },
    {
     "name": "stderr",
     "output_type": "stream",
     "text": [
      "WARNING: Maximum number of iterations 32 reached. The mean may be inaccurate\n"
     ]
    },
    {
     "name": "stdout",
     "output_type": "stream",
     "text": [
      "SVD 수렴 문제 발생: SVD did not converge. 계속 진행합니다.\n"
     ]
    },
    {
     "name": "stderr",
     "output_type": "stream",
     "text": [
      "[I 2024-10-05 08:58:08,333] Trial 876 finished with value: 0.6274018379281537 and parameters: {'lr': 3.307141262452471e-05, 'weight_decay': 0.0005527922721630026}. Best is trial 483 with value: 0.8469945355191256.\n",
      "WARNING: Maximum number of iterations 32 reached. The mean may be inaccurate\n"
     ]
    },
    {
     "name": "stdout",
     "output_type": "stream",
     "text": [
      "SVD 수렴 문제 발생: SVD did not converge. 계속 진행합니다.\n"
     ]
    },
    {
     "name": "stderr",
     "output_type": "stream",
     "text": [
      "[I 2024-10-05 09:02:54,467] Trial 877 finished with value: 0.6104838709677419 and parameters: {'lr': 4.571344529369021e-05, 'weight_decay': 0.0008428638501853196}. Best is trial 483 with value: 0.8469945355191256.\n",
      "WARNING: Maximum number of iterations 32 reached. The mean may be inaccurate\n"
     ]
    },
    {
     "name": "stdout",
     "output_type": "stream",
     "text": [
      "SVD 수렴 문제 발생: SVD did not converge. 계속 진행합니다.\n"
     ]
    },
    {
     "name": "stderr",
     "output_type": "stream",
     "text": [
      "[I 2024-10-05 09:07:40,916] Trial 878 finished with value: 0.7612903225806452 and parameters: {'lr': 1.3569349329407276e-05, 'weight_decay': 0.000664861494323473}. Best is trial 483 with value: 0.8469945355191256.\n",
      "WARNING: Maximum number of iterations 32 reached. The mean may be inaccurate\n"
     ]
    },
    {
     "name": "stdout",
     "output_type": "stream",
     "text": [
      "SVD 수렴 문제 발생: SVD did not converge. 계속 진행합니다.\n"
     ]
    },
    {
     "name": "stderr",
     "output_type": "stream",
     "text": [
      "[I 2024-10-05 09:12:27,461] Trial 879 finished with value: 0.6853352984524687 and parameters: {'lr': 1.3549561621841823e-05, 'weight_decay': 0.000499597645526064}. Best is trial 483 with value: 0.8469945355191256.\n",
      "WARNING: Maximum number of iterations 32 reached. The mean may be inaccurate\n"
     ]
    },
    {
     "name": "stdout",
     "output_type": "stream",
     "text": [
      "SVD 수렴 문제 발생: SVD did not converge. 계속 진행합니다.\n"
     ]
    },
    {
     "name": "stderr",
     "output_type": "stream",
     "text": [
      "[I 2024-10-05 09:17:13,886] Trial 880 finished with value: 0.6146926536731635 and parameters: {'lr': 1.5187431769532407e-05, 'weight_decay': 0.0006285838413249775}. Best is trial 483 with value: 0.8469945355191256.\n",
      "WARNING: Maximum number of iterations 32 reached. The mean may be inaccurate\n"
     ]
    },
    {
     "name": "stdout",
     "output_type": "stream",
     "text": [
      "SVD 수렴 문제 발생: SVD did not converge. 계속 진행합니다.\n"
     ]
    },
    {
     "name": "stderr",
     "output_type": "stream",
     "text": [
      "[I 2024-10-05 09:21:59,900] Trial 881 finished with value: 0.6518345042935207 and parameters: {'lr': 1.4692763366693046e-05, 'weight_decay': 0.00040538681812747536}. Best is trial 483 with value: 0.8469945355191256.\n",
      "WARNING: Maximum number of iterations 32 reached. The mean may be inaccurate\n"
     ]
    },
    {
     "name": "stdout",
     "output_type": "stream",
     "text": [
      "SVD 수렴 문제 발생: SVD did not converge. 계속 진행합니다.\n"
     ]
    },
    {
     "name": "stderr",
     "output_type": "stream",
     "text": [
      "[I 2024-10-05 09:26:46,018] Trial 882 finished with value: 0.5916666666666667 and parameters: {'lr': 1.1428594184832953e-05, 'weight_decay': 0.0006522169028023517}. Best is trial 483 with value: 0.8469945355191256.\n",
      "WARNING: Maximum number of iterations 32 reached. The mean may be inaccurate\n"
     ]
    },
    {
     "name": "stdout",
     "output_type": "stream",
     "text": [
      "SVD 수렴 문제 발생: SVD did not converge. 계속 진행합니다.\n"
     ]
    },
    {
     "name": "stderr",
     "output_type": "stream",
     "text": [
      "[I 2024-10-05 09:31:32,660] Trial 883 finished with value: 0.7396825396825397 and parameters: {'lr': 1.2430811305424576e-05, 'weight_decay': 0.0005446690547944496}. Best is trial 483 with value: 0.8469945355191256.\n",
      "WARNING: Maximum number of iterations 32 reached. The mean may be inaccurate\n"
     ]
    },
    {
     "name": "stdout",
     "output_type": "stream",
     "text": [
      "SVD 수렴 문제 발생: SVD did not converge. 계속 진행합니다.\n"
     ]
    },
    {
     "name": "stderr",
     "output_type": "stream",
     "text": [
      "[I 2024-10-05 09:36:19,008] Trial 884 finished with value: 0.6257575757575758 and parameters: {'lr': 8.460384155692048e-06, 'weight_decay': 0.0006754730587955393}. Best is trial 483 with value: 0.8469945355191256.\n",
      "WARNING: Maximum number of iterations 32 reached. The mean may be inaccurate\n"
     ]
    },
    {
     "name": "stdout",
     "output_type": "stream",
     "text": [
      "SVD 수렴 문제 발생: SVD did not converge. 계속 진행합니다.\n"
     ]
    },
    {
     "name": "stderr",
     "output_type": "stream",
     "text": [
      "[I 2024-10-05 09:41:05,595] Trial 885 finished with value: 0.5362903225806451 and parameters: {'lr': 9.562131564134606e-06, 'weight_decay': 0.00046769743818958297}. Best is trial 483 with value: 0.8469945355191256.\n",
      "WARNING: Maximum number of iterations 32 reached. The mean may be inaccurate\n"
     ]
    },
    {
     "name": "stdout",
     "output_type": "stream",
     "text": [
      "SVD 수렴 문제 발생: SVD did not converge. 계속 진행합니다.\n"
     ]
    },
    {
     "name": "stderr",
     "output_type": "stream",
     "text": [
      "[I 2024-10-05 09:45:52,831] Trial 886 finished with value: 0.5795454545454546 and parameters: {'lr': 1.9077551539768714e-05, 'weight_decay': 0.000594214672899971}. Best is trial 483 with value: 0.8469945355191256.\n",
      "WARNING: Maximum number of iterations 32 reached. The mean may be inaccurate\n"
     ]
    },
    {
     "name": "stdout",
     "output_type": "stream",
     "text": [
      "SVD 수렴 문제 발생: SVD did not converge. 계속 진행합니다.\n"
     ]
    },
    {
     "name": "stderr",
     "output_type": "stream",
     "text": [
      "WARNING: Maximum number of iterations 32 reached. The mean may be inaccurate\n",
      "[I 2024-10-05 09:55:26,785] Trial 888 finished with value: 0.6713505074160812 and parameters: {'lr': 1.775777294333068e-05, 'weight_decay': 0.0007775297299502647}. Best is trial 483 with value: 0.8469945355191256.\n"
     ]
    },
    {
     "name": "stdout",
     "output_type": "stream",
     "text": [
      "SVD 수렴 문제 발생: SVD did not converge. 계속 진행합니다.\n"
     ]
    },
    {
     "name": "stderr",
     "output_type": "stream",
     "text": [
      "WARNING: Maximum number of iterations 32 reached. The mean may be inaccurate\n"
     ]
    },
    {
     "name": "stdout",
     "output_type": "stream",
     "text": [
      "SVD 수렴 문제 발생: SVD did not converge. 계속 진행합니다.\n"
     ]
    },
    {
     "name": "stderr",
     "output_type": "stream",
     "text": [
      "[I 2024-10-05 10:00:12,362] Trial 889 finished with value: 0.6702619414483821 and parameters: {'lr': 2.1053057097690596e-05, 'weight_decay': 0.00048698152738524565}. Best is trial 483 with value: 0.8469945355191256.\n",
      "WARNING: Maximum number of iterations 32 reached. The mean may be inaccurate\n"
     ]
    },
    {
     "name": "stdout",
     "output_type": "stream",
     "text": [
      "SVD 수렴 문제 발생: SVD did not converge. 계속 진행합니다.\n"
     ]
    },
    {
     "name": "stderr",
     "output_type": "stream",
     "text": [
      "[I 2024-10-05 10:04:58,651] Trial 890 finished with value: 0.6900858704137393 and parameters: {'lr': 1.0974107274515688e-05, 'weight_decay': 0.0007097185846710991}. Best is trial 483 with value: 0.8469945355191256.\n",
      "WARNING: Maximum number of iterations 32 reached. The mean may be inaccurate\n"
     ]
    },
    {
     "name": "stdout",
     "output_type": "stream",
     "text": [
      "SVD 수렴 문제 발생: SVD did not converge. 계속 진행합니다.\n"
     ]
    },
    {
     "name": "stderr",
     "output_type": "stream",
     "text": [
      "[I 2024-10-05 10:09:45,119] Trial 891 finished with value: 0.7340909090909091 and parameters: {'lr': 1.3391509725662364e-05, 'weight_decay': 0.0001871853872364224}. Best is trial 483 with value: 0.8469945355191256.\n",
      "WARNING: Maximum number of iterations 32 reached. The mean may be inaccurate\n"
     ]
    },
    {
     "name": "stdout",
     "output_type": "stream",
     "text": [
      "SVD 수렴 문제 발생: SVD did not converge. 계속 진행합니다.\n"
     ]
    },
    {
     "name": "stderr",
     "output_type": "stream",
     "text": [
      "[I 2024-10-05 10:14:30,443] Trial 892 finished with value: 0.681060606060606 and parameters: {'lr': 7.2460328821643865e-06, 'weight_decay': 8.429537310671774e-05}. Best is trial 483 with value: 0.8469945355191256.\n",
      "WARNING: Maximum number of iterations 32 reached. The mean may be inaccurate\n"
     ]
    },
    {
     "name": "stdout",
     "output_type": "stream",
     "text": [
      "SVD 수렴 문제 발생: SVD did not converge. 계속 진행합니다.\n"
     ]
    },
    {
     "name": "stderr",
     "output_type": "stream",
     "text": [
      "[I 2024-10-05 10:19:15,564] Trial 893 finished with value: 0.5987509758001561 and parameters: {'lr': 2.3702307897674717e-05, 'weight_decay': 0.000560282465532886}. Best is trial 483 with value: 0.8469945355191256.\n",
      "WARNING: Maximum number of iterations 32 reached. The mean may be inaccurate\n"
     ]
    },
    {
     "name": "stdout",
     "output_type": "stream",
     "text": [
      "SVD 수렴 문제 발생: SVD did not converge. 계속 진행합니다.\n"
     ]
    },
    {
     "name": "stderr",
     "output_type": "stream",
     "text": [
      "[I 2024-10-05 10:24:01,142] Trial 894 finished with value: 0.6666666666666667 and parameters: {'lr': 2.7620685667092856e-05, 'weight_decay': 0.00044576793252333076}. Best is trial 483 with value: 0.8469945355191256.\n",
      "WARNING: Maximum number of iterations 32 reached. The mean may be inaccurate\n"
     ]
    },
    {
     "name": "stdout",
     "output_type": "stream",
     "text": [
      "SVD 수렴 문제 발생: SVD did not converge. 계속 진행합니다.\n"
     ]
    },
    {
     "name": "stderr",
     "output_type": "stream",
     "text": [
      "[I 2024-10-05 10:28:46,101] Trial 895 finished with value: 0.5830645161290322 and parameters: {'lr': 1.8561468749676567e-05, 'weight_decay': 0.0007730975420673301}. Best is trial 483 with value: 0.8469945355191256.\n",
      "WARNING: Maximum number of iterations 32 reached. The mean may be inaccurate\n"
     ]
    },
    {
     "name": "stdout",
     "output_type": "stream",
     "text": [
      "SVD 수렴 문제 발생: SVD did not converge. 계속 진행합니다.\n"
     ]
    },
    {
     "name": "stderr",
     "output_type": "stream",
     "text": [
      "[I 2024-10-05 10:33:32,782] Trial 896 finished with value: 0.5697577276524645 and parameters: {'lr': 3.4451383183569483e-06, 'weight_decay': 0.0006288545639755753}. Best is trial 483 with value: 0.8469945355191256.\n",
      "WARNING: Maximum number of iterations 32 reached. The mean may be inaccurate\n"
     ]
    },
    {
     "name": "stdout",
     "output_type": "stream",
     "text": [
      "SVD 수렴 문제 발생: SVD did not converge. 계속 진행합니다.\n"
     ]
    },
    {
     "name": "stderr",
     "output_type": "stream",
     "text": [
      "[I 2024-10-05 10:38:19,670] Trial 897 finished with value: 0.728813559322034 and parameters: {'lr': 9.994204252333989e-06, 'weight_decay': 0.0008466292818578633}. Best is trial 483 with value: 0.8469945355191256.\n",
      "WARNING: Maximum number of iterations 32 reached. The mean may be inaccurate\n"
     ]
    },
    {
     "name": "stdout",
     "output_type": "stream",
     "text": [
      "SVD 수렴 문제 발생: SVD did not converge. 계속 진행합니다.\n"
     ]
    },
    {
     "name": "stderr",
     "output_type": "stream",
     "text": [
      "WARNING: Maximum number of iterations 32 reached. The mean may be inaccurate\n"
     ]
    },
    {
     "name": "stdout",
     "output_type": "stream",
     "text": [
      "SVD 수렴 문제 발생: SVD did not converge. 계속 진행합니다.\n"
     ]
    },
    {
     "name": "stderr",
     "output_type": "stream",
     "text": [
      "[I 2024-10-05 10:47:51,874] Trial 899 finished with value: 0.5379513633014 and parameters: {'lr': 2.4172903409529353e-05, 'weight_decay': 0.0004143413757838738}. Best is trial 483 with value: 0.8469945355191256.\n",
      "WARNING: Maximum number of iterations 32 reached. The mean may be inaccurate\n"
     ]
    },
    {
     "name": "stdout",
     "output_type": "stream",
     "text": [
      "SVD 수렴 문제 발생: SVD did not converge. 계속 진행합니다.\n"
     ]
    },
    {
     "name": "stderr",
     "output_type": "stream",
     "text": [
      "[I 2024-10-05 10:52:37,920] Trial 900 finished with value: 0.59375 and parameters: {'lr': 3.003428652912839e-05, 'weight_decay': 0.0006853109442932208}. Best is trial 483 with value: 0.8469945355191256.\n",
      "WARNING: Maximum number of iterations 32 reached. The mean may be inaccurate\n"
     ]
    },
    {
     "name": "stdout",
     "output_type": "stream",
     "text": [
      "SVD 수렴 문제 발생: SVD did not converge. 계속 진행합니다.\n"
     ]
    },
    {
     "name": "stderr",
     "output_type": "stream",
     "text": [
      "[I 2024-10-05 10:57:22,963] Trial 901 finished with value: 0.6892230576441103 and parameters: {'lr': 2.0257466382294078e-05, 'weight_decay': 0.0009275589758582056}. Best is trial 483 with value: 0.8469945355191256.\n",
      "WARNING: Maximum number of iterations 32 reached. The mean may be inaccurate\n"
     ]
    },
    {
     "name": "stdout",
     "output_type": "stream",
     "text": [
      "SVD 수렴 문제 발생: SVD did not converge. 계속 진행합니다.\n"
     ]
    },
    {
     "name": "stderr",
     "output_type": "stream",
     "text": [
      "[I 2024-10-05 11:02:08,652] Trial 902 finished with value: 0.5932864949258392 and parameters: {'lr': 4.83589605584914e-06, 'weight_decay': 0.0005355802311139432}. Best is trial 483 with value: 0.8469945355191256.\n",
      "WARNING: Maximum number of iterations 32 reached. The mean may be inaccurate\n"
     ]
    },
    {
     "name": "stdout",
     "output_type": "stream",
     "text": [
      "SVD 수렴 문제 발생: SVD did not converge. 계속 진행합니다.\n"
     ]
    },
    {
     "name": "stderr",
     "output_type": "stream",
     "text": [
      "[I 2024-10-05 11:06:55,205] Trial 903 finished with value: 0.6416861826697892 and parameters: {'lr': 0.0006278215505051925, 'weight_decay': 0.0003597859295922252}. Best is trial 483 with value: 0.8469945355191256.\n",
      "WARNING: Maximum number of iterations 32 reached. The mean may be inaccurate\n"
     ]
    },
    {
     "name": "stdout",
     "output_type": "stream",
     "text": [
      "SVD 수렴 문제 발생: SVD did not converge. 계속 진행합니다.\n"
     ]
    },
    {
     "name": "stderr",
     "output_type": "stream",
     "text": [
      "[I 2024-10-05 11:11:42,036] Trial 904 finished with value: 0.5689393939393941 and parameters: {'lr': 2.5353979830775225e-05, 'weight_decay': 0.0006219990933745831}. Best is trial 483 with value: 0.8469945355191256.\n",
      "WARNING: Maximum number of iterations 32 reached. The mean may be inaccurate\n",
      "[I 2024-10-05 11:16:30,273] Trial 905 finished with value: 0.5268975681650699 and parameters: {'lr': 1.5360857292492125e-05, 'weight_decay': 0.0007556178186775569}. Best is trial 483 with value: 0.8469945355191256.\n"
     ]
    },
    {
     "name": "stdout",
     "output_type": "stream",
     "text": [
      "SVD 수렴 문제 발생: SVD did not converge. 계속 진행합니다.\n"
     ]
    },
    {
     "name": "stderr",
     "output_type": "stream",
     "text": [
      "WARNING: Maximum number of iterations 32 reached. The mean may be inaccurate\n",
      "[I 2024-10-05 11:21:17,179] Trial 906 finished with value: 0.5750000000000001 and parameters: {'lr': 1.3590076918246455e-06, 'weight_decay': 0.0009813461876065485}. Best is trial 483 with value: 0.8469945355191256.\n"
     ]
    },
    {
     "name": "stdout",
     "output_type": "stream",
     "text": [
      "SVD 수렴 문제 발생: SVD did not converge. 계속 진행합니다.\n"
     ]
    },
    {
     "name": "stderr",
     "output_type": "stream",
     "text": [
      "WARNING: Maximum number of iterations 32 reached. The mean may be inaccurate\n"
     ]
    },
    {
     "name": "stdout",
     "output_type": "stream",
     "text": [
      "SVD 수렴 문제 발생: SVD did not converge. 계속 진행합니다.\n"
     ]
    },
    {
     "name": "stderr",
     "output_type": "stream",
     "text": [
      "[I 2024-10-05 11:26:02,744] Trial 907 finished with value: 0.7435519528371407 and parameters: {'lr': 0.00030996597348754897, 'weight_decay': 0.0001401587401873008}. Best is trial 483 with value: 0.8469945355191256.\n",
      "WARNING: Maximum number of iterations 32 reached. The mean may be inaccurate\n"
     ]
    },
    {
     "name": "stdout",
     "output_type": "stream",
     "text": [
      "SVD 수렴 문제 발생: SVD did not converge. 계속 진행합니다.\n"
     ]
    },
    {
     "name": "stderr",
     "output_type": "stream",
     "text": [
      "[I 2024-10-05 11:30:49,045] Trial 908 finished with value: 0.6037878787878788 and parameters: {'lr': 3.468660412622522e-05, 'weight_decay': 0.0004687132618936047}. Best is trial 483 with value: 0.8469945355191256.\n",
      "WARNING: Maximum number of iterations 32 reached. The mean may be inaccurate\n"
     ]
    },
    {
     "name": "stdout",
     "output_type": "stream",
     "text": [
      "SVD 수렴 문제 발생: SVD did not converge. 계속 진행합니다.\n"
     ]
    },
    {
     "name": "stderr",
     "output_type": "stream",
     "text": [
      "[I 2024-10-05 11:35:36,061] Trial 909 finished with value: 0.6221311475409836 and parameters: {'lr': 0.0008359608584347042, 'weight_decay': 0.0007806335129963398}. Best is trial 483 with value: 0.8469945355191256.\n",
      "WARNING: Maximum number of iterations 32 reached. The mean may be inaccurate\n"
     ]
    },
    {
     "name": "stdout",
     "output_type": "stream",
     "text": [
      "SVD 수렴 문제 발생: SVD did not converge. 계속 진행합니다.\n"
     ]
    },
    {
     "name": "stderr",
     "output_type": "stream",
     "text": [
      "[I 2024-10-05 11:40:22,626] Trial 910 finished with value: 0.7818181818181817 and parameters: {'lr': 0.0005022909496825896, 'weight_decay': 0.0005885852249779698}. Best is trial 483 with value: 0.8469945355191256.\n",
      "WARNING: Maximum number of iterations 32 reached. The mean may be inaccurate\n",
      "[I 2024-10-05 11:45:11,302] Trial 911 finished with value: 0.6266129032258065 and parameters: {'lr': 0.0006511488676243066, 'weight_decay': 0.0006110925186320655}. Best is trial 483 with value: 0.8469945355191256.\n"
     ]
    },
    {
     "name": "stdout",
     "output_type": "stream",
     "text": [
      "SVD 수렴 문제 발생: SVD did not converge. 계속 진행합니다.\n"
     ]
    },
    {
     "name": "stderr",
     "output_type": "stream",
     "text": [
      "WARNING: Maximum number of iterations 32 reached. The mean may be inaccurate\n"
     ]
    },
    {
     "name": "stdout",
     "output_type": "stream",
     "text": [
      "SVD 수렴 문제 발생: SVD did not converge. 계속 진행합니다.\n"
     ]
    },
    {
     "name": "stderr",
     "output_type": "stream",
     "text": [
      "[I 2024-10-05 11:49:57,136] Trial 912 finished with value: 0.7291178766588602 and parameters: {'lr': 0.0004415285441764913, 'weight_decay': 0.0009062330717729299}. Best is trial 483 with value: 0.8469945355191256.\n",
      "[I 2024-10-05 11:54:43,002] Trial 913 finished with value: 0.6048387096774194 and parameters: {'lr': 0.0007070211821810832, 'weight_decay': 0.007095569430529007}. Best is trial 483 with value: 0.8469945355191256.\n",
      "WARNING: Maximum number of iterations 32 reached. The mean may be inaccurate\n"
     ]
    },
    {
     "name": "stdout",
     "output_type": "stream",
     "text": [
      "SVD 수렴 문제 발생: SVD did not converge. 계속 진행합니다.\n"
     ]
    },
    {
     "name": "stderr",
     "output_type": "stream",
     "text": [
      "[I 2024-10-05 11:59:30,032] Trial 914 finished with value: 0.6340852130325815 and parameters: {'lr': 0.0005511332988163874, 'weight_decay': 0.002156170538609481}. Best is trial 483 with value: 0.8469945355191256.\n",
      "WARNING: Maximum number of iterations 32 reached. The mean may be inaccurate\n"
     ]
    },
    {
     "name": "stdout",
     "output_type": "stream",
     "text": [
      "SVD 수렴 문제 발생: SVD did not converge. 계속 진행합니다.\n"
     ]
    },
    {
     "name": "stderr",
     "output_type": "stream",
     "text": [
      "[I 2024-10-05 12:04:16,806] Trial 915 finished with value: 0.6157059314954051 and parameters: {'lr': 1.7773640961601192e-05, 'weight_decay': 0.0005432024881443976}. Best is trial 483 with value: 0.8469945355191256.\n",
      "WARNING: Maximum number of iterations 32 reached. The mean may be inaccurate\n"
     ]
    },
    {
     "name": "stdout",
     "output_type": "stream",
     "text": [
      "SVD 수렴 문제 발생: SVD did not converge. 계속 진행합니다.\n"
     ]
    },
    {
     "name": "stderr",
     "output_type": "stream",
     "text": [
      "[I 2024-10-05 12:09:04,473] Trial 916 finished with value: 0.5339578454332552 and parameters: {'lr': 0.0004680578926187275, 'weight_decay': 0.0002862623252304078}. Best is trial 483 with value: 0.8469945355191256.\n",
      "WARNING: Maximum number of iterations 32 reached. The mean may be inaccurate\n"
     ]
    },
    {
     "name": "stdout",
     "output_type": "stream",
     "text": [
      "SVD 수렴 문제 발생: SVD did not converge. 계속 진행합니다.\n"
     ]
    },
    {
     "name": "stderr",
     "output_type": "stream",
     "text": [
      "[I 2024-10-05 12:13:48,677] Trial 917 finished with value: 0.5620608899297423 and parameters: {'lr': 0.0013538915684153166, 'weight_decay': 0.0007053284130053075}. Best is trial 483 with value: 0.8469945355191256.\n",
      "WARNING: Maximum number of iterations 32 reached. The mean may be inaccurate\n"
     ]
    },
    {
     "name": "stdout",
     "output_type": "stream",
     "text": [
      "SVD 수렴 문제 발생: SVD did not converge. 계속 진행합니다.\n"
     ]
    },
    {
     "name": "stderr",
     "output_type": "stream",
     "text": [
      "[I 2024-10-05 12:18:36,361] Trial 918 finished with value: 0.6291959406713505 and parameters: {'lr': 2.9965994072583897e-05, 'weight_decay': 0.0010821955928984179}. Best is trial 483 with value: 0.8469945355191256.\n",
      "WARNING: Maximum number of iterations 32 reached. The mean may be inaccurate\n"
     ]
    },
    {
     "name": "stdout",
     "output_type": "stream",
     "text": [
      "SVD 수렴 문제 발생: SVD did not converge. 계속 진행합니다.\n"
     ]
    },
    {
     "name": "stderr",
     "output_type": "stream",
     "text": [
      "[I 2024-10-05 12:23:23,778] Trial 919 finished with value: 0.6080645161290323 and parameters: {'lr': 2.141006997035802e-05, 'weight_decay': 0.0008045797867355375}. Best is trial 483 with value: 0.8469945355191256.\n",
      "WARNING: Maximum number of iterations 32 reached. The mean may be inaccurate\n",
      "[I 2024-10-05 12:28:12,246] Trial 920 finished with value: 0.6431818181818181 and parameters: {'lr': 0.0009860434440500116, 'weight_decay': 0.00021512665714499166}. Best is trial 483 with value: 0.8469945355191256.\n"
     ]
    },
    {
     "name": "stdout",
     "output_type": "stream",
     "text": [
      "SVD 수렴 문제 발생: SVD did not converge. 계속 진행합니다.\n"
     ]
    },
    {
     "name": "stderr",
     "output_type": "stream",
     "text": [
      "WARNING: Maximum number of iterations 32 reached. The mean may be inaccurate\n"
     ]
    },
    {
     "name": "stdout",
     "output_type": "stream",
     "text": [
      "SVD 수렴 문제 발생: SVD did not converge. 계속 진행합니다.\n"
     ]
    },
    {
     "name": "stderr",
     "output_type": "stream",
     "text": [
      "[I 2024-10-05 12:33:00,260] Trial 921 finished with value: 0.5880619012527635 and parameters: {'lr': 5.81684148914144e-06, 'weight_decay': 0.00048544730247149004}. Best is trial 483 with value: 0.8469945355191256.\n",
      "WARNING: Maximum number of iterations 32 reached. The mean may be inaccurate\n"
     ]
    },
    {
     "name": "stdout",
     "output_type": "stream",
     "text": [
      "SVD 수렴 문제 발생: SVD did not converge. 계속 진행합니다.\n"
     ]
    },
    {
     "name": "stderr",
     "output_type": "stream",
     "text": [
      "[I 2024-10-05 12:37:49,174] Trial 922 finished with value: 0.5371212121212121 and parameters: {'lr': 2.8551177874456755e-06, 'weight_decay': 0.0014444954796753178}. Best is trial 483 with value: 0.8469945355191256.\n",
      "WARNING: Maximum number of iterations 32 reached. The mean may be inaccurate\n"
     ]
    },
    {
     "name": "stdout",
     "output_type": "stream",
     "text": [
      "SVD 수렴 문제 발생: SVD did not converge. 계속 진행합니다.\n"
     ]
    },
    {
     "name": "stderr",
     "output_type": "stream",
     "text": [
      "[I 2024-10-05 12:42:37,891] Trial 923 finished with value: 0.6440677966101696 and parameters: {'lr': 3.644538615465641e-05, 'weight_decay': 0.0006527857252119803}. Best is trial 483 with value: 0.8469945355191256.\n",
      "WARNING: Maximum number of iterations 32 reached. The mean may be inaccurate\n"
     ]
    },
    {
     "name": "stdout",
     "output_type": "stream",
     "text": [
      "SVD 수렴 문제 발생: SVD did not converge. 계속 진행합니다.\n"
     ]
    },
    {
     "name": "stderr",
     "output_type": "stream",
     "text": [
      "[I 2024-10-05 12:47:25,816] Trial 924 finished with value: 0.7284878863826232 and parameters: {'lr': 0.0005113472543813385, 'weight_decay': 0.000124133421540864}. Best is trial 483 with value: 0.8469945355191256.\n",
      "WARNING: Maximum number of iterations 32 reached. The mean may be inaccurate\n",
      "[I 2024-10-05 12:52:15,676] Trial 925 finished with value: 0.6427419354838709 and parameters: {'lr': 1.2773601971077507e-05, 'weight_decay': 0.00040035889860211933}. Best is trial 483 with value: 0.8469945355191256.\n"
     ]
    },
    {
     "name": "stdout",
     "output_type": "stream",
     "text": [
      "SVD 수렴 문제 발생: SVD did not converge. 계속 진행합니다.\n"
     ]
    },
    {
     "name": "stderr",
     "output_type": "stream",
     "text": [
      "WARNING: Maximum number of iterations 32 reached. The mean may be inaccurate\n"
     ]
    },
    {
     "name": "stdout",
     "output_type": "stream",
     "text": [
      "SVD 수렴 문제 발생: SVD did not converge. 계속 진행합니다.\n"
     ]
    },
    {
     "name": "stderr",
     "output_type": "stream",
     "text": [
      "[I 2024-10-05 12:57:03,018] Trial 926 finished with value: 0.6386363636363637 and parameters: {'lr': 2.5272606196351662e-05, 'weight_decay': 0.0008852065549017781}. Best is trial 483 with value: 0.8469945355191256.\n",
      "WARNING: Maximum number of iterations 32 reached. The mean may be inaccurate\n"
     ]
    },
    {
     "name": "stdout",
     "output_type": "stream",
     "text": [
      "SVD 수렴 문제 발생: SVD did not converge. 계속 진행합니다.\n"
     ]
    },
    {
     "name": "stderr",
     "output_type": "stream",
     "text": [
      "[I 2024-10-05 13:01:51,087] Trial 927 finished with value: 0.6775956284153005 and parameters: {'lr': 2.1384918477583032e-05, 'weight_decay': 0.00017325766914373338}. Best is trial 483 with value: 0.8469945355191256.\n",
      "WARNING: Maximum number of iterations 32 reached. The mean may be inaccurate\n"
     ]
    },
    {
     "name": "stdout",
     "output_type": "stream",
     "text": [
      "SVD 수렴 문제 발생: SVD did not converge. 계속 진행합니다.\n"
     ]
    },
    {
     "name": "stderr",
     "output_type": "stream",
     "text": [
      "[I 2024-10-05 13:06:39,975] Trial 928 finished with value: 0.65807962529274 and parameters: {'lr': 2.9824487803160483e-05, 'weight_decay': 0.00010629417551861789}. Best is trial 483 with value: 0.8469945355191256.\n",
      "WARNING: Maximum number of iterations 32 reached. The mean may be inaccurate\n"
     ]
    },
    {
     "name": "stdout",
     "output_type": "stream",
     "text": [
      "SVD 수렴 문제 발생: SVD did not converge. 계속 진행합니다.\n"
     ]
    },
    {
     "name": "stderr",
     "output_type": "stream",
     "text": [
      "[I 2024-10-05 13:11:27,666] Trial 929 finished with value: 0.6053030303030302 and parameters: {'lr': 3.996873082617585e-06, 'weight_decay': 0.0005494883153771918}. Best is trial 483 with value: 0.8469945355191256.\n",
      "WARNING: Maximum number of iterations 32 reached. The mean may be inaccurate\n"
     ]
    },
    {
     "name": "stdout",
     "output_type": "stream",
     "text": [
      "SVD 수렴 문제 발생: SVD did not converge. 계속 진행합니다.\n"
     ]
    },
    {
     "name": "stderr",
     "output_type": "stream",
     "text": [
      "[I 2024-10-05 13:16:15,329] Trial 930 finished with value: 0.7024193548387097 and parameters: {'lr': 1.9076350077988175e-06, 'weight_decay': 0.0013009953348545255}. Best is trial 483 with value: 0.8469945355191256.\n",
      "WARNING: Maximum number of iterations 32 reached. The mean may be inaccurate\n"
     ]
    },
    {
     "name": "stdout",
     "output_type": "stream",
     "text": [
      "SVD 수렴 문제 발생: SVD did not converge. 계속 진행합니다.\n"
     ]
    },
    {
     "name": "stderr",
     "output_type": "stream",
     "text": [
      "[I 2024-10-05 13:21:03,811] Trial 931 finished with value: 0.6096774193548387 and parameters: {'lr': 3.792076240475862e-05, 'weight_decay': 0.0017696645554172918}. Best is trial 483 with value: 0.8469945355191256.\n",
      "WARNING: Maximum number of iterations 32 reached. The mean may be inaccurate\n",
      "[I 2024-10-05 13:25:53,120] Trial 932 finished with value: 0.6440281030444964 and parameters: {'lr': 1.632587082585525e-05, 'weight_decay': 0.000729079202687742}. Best is trial 483 with value: 0.8469945355191256.\n"
     ]
    },
    {
     "name": "stdout",
     "output_type": "stream",
     "text": [
      "SVD 수렴 문제 발생: SVD did not converge. 계속 진행합니다.\n"
     ]
    },
    {
     "name": "stderr",
     "output_type": "stream",
     "text": [
      "WARNING: Maximum number of iterations 32 reached. The mean may be inaccurate\n"
     ]
    },
    {
     "name": "stdout",
     "output_type": "stream",
     "text": [
      "SVD 수렴 문제 발생: SVD did not converge. 계속 진행합니다.\n"
     ]
    },
    {
     "name": "stderr",
     "output_type": "stream",
     "text": [
      "[I 2024-10-05 13:30:42,215] Trial 933 finished with value: 0.6791979949874686 and parameters: {'lr': 1.0240684405213457e-05, 'weight_decay': 0.0010320130205372744}. Best is trial 483 with value: 0.8469945355191256.\n",
      "WARNING: Maximum number of iterations 32 reached. The mean may be inaccurate\n"
     ]
    },
    {
     "name": "stdout",
     "output_type": "stream",
     "text": [
      "SVD 수렴 문제 발생: SVD did not converge. 계속 진행합니다.\n"
     ]
    },
    {
     "name": "stderr",
     "output_type": "stream",
     "text": [
      "[I 2024-10-05 13:35:31,977] Trial 934 finished with value: 0.681650700073692 and parameters: {'lr': 2.6741393085493473e-05, 'weight_decay': 7.987746777119447e-05}. Best is trial 483 with value: 0.8469945355191256.\n",
      "WARNING: Maximum number of iterations 32 reached. The mean may be inaccurate\n"
     ]
    },
    {
     "name": "stdout",
     "output_type": "stream",
     "text": [
      "SVD 수렴 문제 발생: SVD did not converge. 계속 진행합니다.\n"
     ]
    },
    {
     "name": "stderr",
     "output_type": "stream",
     "text": [
      "[I 2024-10-05 13:40:19,477] Trial 935 finished with value: 0.5331772053083529 and parameters: {'lr': 0.0019154518406951074, 'weight_decay': 0.0006076194738291805}. Best is trial 483 with value: 0.8469945355191256.\n",
      "WARNING: Maximum number of iterations 32 reached. The mean may be inaccurate\n"
     ]
    },
    {
     "name": "stdout",
     "output_type": "stream",
     "text": [
      "SVD 수렴 문제 발생: SVD did not converge. 계속 진행합니다.\n"
     ]
    },
    {
     "name": "stderr",
     "output_type": "stream",
     "text": [
      "[I 2024-10-05 13:45:08,961] Trial 936 finished with value: 0.6265151515151515 and parameters: {'lr': 2.1439941390624633e-05, 'weight_decay': 0.0008790448967282976}. Best is trial 483 with value: 0.8469945355191256.\n",
      "WARNING: Maximum number of iterations 32 reached. The mean may be inaccurate\n"
     ]
    },
    {
     "name": "stdout",
     "output_type": "stream",
     "text": [
      "SVD 수렴 문제 발생: SVD did not converge. 계속 진행합니다.\n"
     ]
    },
    {
     "name": "stderr",
     "output_type": "stream",
     "text": [
      "[I 2024-10-05 13:50:00,318] Trial 937 finished with value: 0.7106557377049181 and parameters: {'lr': 8.17435251881505e-06, 'weight_decay': 0.00043076598400951336}. Best is trial 483 with value: 0.8469945355191256.\n",
      "WARNING: Maximum number of iterations 32 reached. The mean may be inaccurate\n"
     ]
    },
    {
     "name": "stdout",
     "output_type": "stream",
     "text": [
      "SVD 수렴 문제 발생: SVD did not converge. 계속 진행합니다.\n"
     ]
    },
    {
     "name": "stderr",
     "output_type": "stream",
     "text": [
      "[I 2024-10-05 13:54:51,531] Trial 938 finished with value: 0.6411290322580646 and parameters: {'lr': 3.395575333814787e-05, 'weight_decay': 0.000701072796644572}. Best is trial 483 with value: 0.8469945355191256.\n",
      "WARNING: Maximum number of iterations 32 reached. The mean may be inaccurate\n"
     ]
    },
    {
     "name": "stdout",
     "output_type": "stream",
     "text": [
      "SVD 수렴 문제 발생: SVD did not converge. 계속 진행합니다.\n"
     ]
    },
    {
     "name": "stderr",
     "output_type": "stream",
     "text": [
      "[I 2024-10-05 13:59:42,006] Trial 939 finished with value: 0.6189393939393939 and parameters: {'lr': 2.8475764237290528e-05, 'weight_decay': 0.0003292283112529158}. Best is trial 483 with value: 0.8469945355191256.\n",
      "WARNING: Maximum number of iterations 32 reached. The mean may be inaccurate\n"
     ]
    },
    {
     "name": "stdout",
     "output_type": "stream",
     "text": [
      "SVD 수렴 문제 발생: SVD did not converge. 계속 진행합니다.\n"
     ]
    },
    {
     "name": "stderr",
     "output_type": "stream",
     "text": [
      "[I 2024-10-05 14:04:31,193] Trial 940 finished with value: 0.7024193548387097 and parameters: {'lr': 6.778579705151521e-06, 'weight_decay': 0.0010595342112726305}. Best is trial 483 with value: 0.8469945355191256.\n",
      "WARNING: Maximum number of iterations 32 reached. The mean may be inaccurate\n"
     ]
    },
    {
     "name": "stdout",
     "output_type": "stream",
     "text": [
      "SVD 수렴 문제 발생: SVD did not converge. 계속 진행합니다.\n"
     ]
    },
    {
     "name": "stderr",
     "output_type": "stream",
     "text": [
      "[I 2024-10-05 14:09:20,920] Trial 941 finished with value: 0.7181889149102264 and parameters: {'lr': 1.3800789411331063e-05, 'weight_decay': 0.0005274388205710702}. Best is trial 483 with value: 0.8469945355191256.\n",
      "WARNING: Maximum number of iterations 32 reached. The mean may be inaccurate\n"
     ]
    },
    {
     "name": "stdout",
     "output_type": "stream",
     "text": [
      "SVD 수렴 문제 발생: SVD did not converge. 계속 진행합니다.\n"
     ]
    },
    {
     "name": "stderr",
     "output_type": "stream",
     "text": [
      "[I 2024-10-05 14:14:11,370] Trial 942 finished with value: 0.6833333333333333 and parameters: {'lr': 2.5234048022144028e-06, 'weight_decay': 0.0012960280574882688}. Best is trial 483 with value: 0.8469945355191256.\n",
      "WARNING: Maximum number of iterations 32 reached. The mean may be inaccurate\n"
     ]
    },
    {
     "name": "stdout",
     "output_type": "stream",
     "text": [
      "SVD 수렴 문제 발생: SVD did not converge. 계속 진행합니다.\n"
     ]
    },
    {
     "name": "stderr",
     "output_type": "stream",
     "text": [
      "[I 2024-10-05 14:19:01,863] Trial 943 finished with value: 0.6086956521739131 and parameters: {'lr': 2.3515287615722987e-05, 'weight_decay': 0.0008174240993971408}. Best is trial 483 with value: 0.8469945355191256.\n",
      "WARNING: Maximum number of iterations 32 reached. The mean may be inaccurate\n"
     ]
    },
    {
     "name": "stdout",
     "output_type": "stream",
     "text": [
      "SVD 수렴 문제 발생: SVD did not converge. 계속 진행합니다.\n"
     ]
    },
    {
     "name": "stderr",
     "output_type": "stream",
     "text": [
      "[I 2024-10-05 14:23:52,106] Trial 944 finished with value: 0.6537878787878787 and parameters: {'lr': 3.982255886884932e-05, 'weight_decay': 0.0017739684209645032}. Best is trial 483 with value: 0.8469945355191256.\n",
      "WARNING: Maximum number of iterations 32 reached. The mean may be inaccurate\n"
     ]
    },
    {
     "name": "stdout",
     "output_type": "stream",
     "text": [
      "SVD 수렴 문제 발생: SVD did not converge. 계속 진행합니다.\n"
     ]
    },
    {
     "name": "stderr",
     "output_type": "stream",
     "text": [
      "[I 2024-10-05 14:28:41,903] Trial 945 finished with value: 0.6557377049180327 and parameters: {'lr': 1.7539843635397058e-05, 'weight_decay': 0.0005929018383801444}. Best is trial 483 with value: 0.8469945355191256.\n",
      "WARNING: Maximum number of iterations 32 reached. The mean may be inaccurate\n",
      "[I 2024-10-05 14:33:33,097] Trial 946 finished with value: 0.5878220140515222 and parameters: {'lr': 0.0005531301092740618, 'weight_decay': 6.602057395241139e-05}. Best is trial 483 with value: 0.8469945355191256.\n"
     ]
    },
    {
     "name": "stdout",
     "output_type": "stream",
     "text": [
      "SVD 수렴 문제 발생: SVD did not converge. 계속 진행합니다.\n"
     ]
    },
    {
     "name": "stderr",
     "output_type": "stream",
     "text": [
      "WARNING: Maximum number of iterations 32 reached. The mean may be inaccurate\n",
      "[I 2024-10-05 14:38:23,703] Trial 947 finished with value: 0.621969696969697 and parameters: {'lr': 3.1761539436132e-05, 'weight_decay': 0.002632084444207584}. Best is trial 483 with value: 0.8469945355191256.\n"
     ]
    },
    {
     "name": "stdout",
     "output_type": "stream",
     "text": [
      "SVD 수렴 문제 발생: SVD did not converge. 계속 진행합니다.\n"
     ]
    },
    {
     "name": "stderr",
     "output_type": "stream",
     "text": [
      "WARNING: Maximum number of iterations 32 reached. The mean may be inaccurate\n"
     ]
    },
    {
     "name": "stdout",
     "output_type": "stream",
     "text": [
      "SVD 수렴 문제 발생: SVD did not converge. 계속 진행합니다.\n"
     ]
    },
    {
     "name": "stderr",
     "output_type": "stream",
     "text": [
      "[I 2024-10-05 14:43:12,752] Trial 948 finished with value: 0.6895161290322581 and parameters: {'lr': 0.0007812122500244427, 'weight_decay': 0.00014156269896900076}. Best is trial 483 with value: 0.8469945355191256.\n",
      "WARNING: Maximum number of iterations 32 reached. The mean may be inaccurate\n"
     ]
    },
    {
     "name": "stdout",
     "output_type": "stream",
     "text": [
      "SVD 수렴 문제 발생: SVD did not converge. 계속 진행합니다.\n"
     ]
    },
    {
     "name": "stderr",
     "output_type": "stream",
     "text": [
      "[I 2024-10-05 14:48:04,066] Trial 949 finished with value: 0.6901515151515151 and parameters: {'lr': 1.9608554160374648e-05, 'weight_decay': 0.000966493147637926}. Best is trial 483 with value: 0.8469945355191256.\n",
      "WARNING: Maximum number of iterations 32 reached. The mean may be inaccurate\n"
     ]
    },
    {
     "name": "stdout",
     "output_type": "stream",
     "text": [
      "SVD 수렴 문제 발생: SVD did not converge. 계속 진행합니다.\n"
     ]
    },
    {
     "name": "stderr",
     "output_type": "stream",
     "text": [
      "[I 2024-10-05 14:52:54,491] Trial 950 finished with value: 0.5159090909090909 and parameters: {'lr': 3.4611936373213644e-06, 'weight_decay': 2.4258656762684145e-06}. Best is trial 483 with value: 0.8469945355191256.\n",
      "WARNING: Maximum number of iterations 32 reached. The mean may be inaccurate\n"
     ]
    },
    {
     "name": "stdout",
     "output_type": "stream",
     "text": [
      "SVD 수렴 문제 발생: SVD did not converge. 계속 진행합니다.\n"
     ]
    },
    {
     "name": "stderr",
     "output_type": "stream",
     "text": [
      "[I 2024-10-05 14:57:46,000] Trial 951 finished with value: 0.6685483870967741 and parameters: {'lr': 2.6106460428539564e-05, 'weight_decay': 0.0007270222788374036}. Best is trial 483 with value: 0.8469945355191256.\n",
      "WARNING: Maximum number of iterations 32 reached. The mean may be inaccurate\n"
     ]
    },
    {
     "name": "stdout",
     "output_type": "stream",
     "text": [
      "SVD 수렴 문제 발생: SVD did not converge. 계속 진행합니다.\n"
     ]
    },
    {
     "name": "stderr",
     "output_type": "stream",
     "text": [
      "[I 2024-10-05 15:02:36,589] Trial 952 finished with value: 0.7072599531615925 and parameters: {'lr': 1.46955999837778e-06, 'weight_decay': 0.0011576725532754066}. Best is trial 483 with value: 0.8469945355191256.\n",
      "WARNING: Maximum number of iterations 32 reached. The mean may be inaccurate\n"
     ]
    },
    {
     "name": "stdout",
     "output_type": "stream",
     "text": [
      "SVD 수렴 문제 발생: SVD did not converge. 계속 진행합니다.\n"
     ]
    },
    {
     "name": "stderr",
     "output_type": "stream",
     "text": [
      "[I 2024-10-05 15:07:28,775] Trial 953 finished with value: 0.6783762685402029 and parameters: {'lr': 3.595432209274056e-05, 'weight_decay': 0.00042383308585463073}. Best is trial 483 with value: 0.8469945355191256.\n",
      "WARNING: Maximum number of iterations 32 reached. The mean may be inaccurate\n"
     ]
    },
    {
     "name": "stdout",
     "output_type": "stream",
     "text": [
      "SVD 수렴 문제 발생: SVD did not converge. 계속 진행합니다.\n"
     ]
    },
    {
     "name": "stderr",
     "output_type": "stream",
     "text": [
      "[I 2024-10-05 15:12:19,472] Trial 954 finished with value: 0.6977272727272728 and parameters: {'lr': 2.1314662633860005e-06, 'weight_decay': 0.00010105901334085283}. Best is trial 483 with value: 0.8469945355191256.\n",
      "WARNING: Maximum number of iterations 32 reached. The mean may be inaccurate\n"
     ]
    },
    {
     "name": "stdout",
     "output_type": "stream",
     "text": [
      "SVD 수렴 문제 발생: SVD did not converge. 계속 진행합니다.\n"
     ]
    },
    {
     "name": "stderr",
     "output_type": "stream",
     "text": [
      "[I 2024-10-05 15:17:12,173] Trial 955 finished with value: 0.5995316159250585 and parameters: {'lr': 0.00041496574522448753, 'weight_decay': 0.0006530974337504093}. Best is trial 483 with value: 0.8469945355191256.\n",
      "WARNING: Maximum number of iterations 32 reached. The mean may be inaccurate\n"
     ]
    },
    {
     "name": "stdout",
     "output_type": "stream",
     "text": [
      "SVD 수렴 문제 발생: SVD did not converge. 계속 진행합니다.\n"
     ]
    },
    {
     "name": "stderr",
     "output_type": "stream",
     "text": [
      "[I 2024-10-05 15:22:04,593] Trial 956 finished with value: 0.603225806451613 and parameters: {'lr': 5.139876272849679e-06, 'weight_decay': 0.001457385782094472}. Best is trial 483 with value: 0.8469945355191256.\n",
      "WARNING: Maximum number of iterations 32 reached. The mean may be inaccurate\n"
     ]
    },
    {
     "name": "stdout",
     "output_type": "stream",
     "text": [
      "SVD 수렴 문제 발생: SVD did not converge. 계속 진행합니다.\n"
     ]
    },
    {
     "name": "stderr",
     "output_type": "stream",
     "text": [
      "[I 2024-10-05 15:26:57,291] Trial 957 finished with value: 0.6237314597970335 and parameters: {'lr': 2.3552778892182154e-05, 'weight_decay': 0.0005003499021477643}. Best is trial 483 with value: 0.8469945355191256.\n",
      "WARNING: Maximum number of iterations 32 reached. The mean may be inaccurate\n"
     ]
    },
    {
     "name": "stdout",
     "output_type": "stream",
     "text": [
      "SVD 수렴 문제 발생: SVD did not converge. 계속 진행합니다.\n"
     ]
    },
    {
     "name": "stderr",
     "output_type": "stream",
     "text": [
      "[I 2024-10-05 15:31:50,321] Trial 958 finished with value: 0.6846774193548386 and parameters: {'lr': 1.1089605625128074e-05, 'weight_decay': 0.0007827195940640822}. Best is trial 483 with value: 0.8469945355191256.\n",
      "WARNING: Maximum number of iterations 32 reached. The mean may be inaccurate\n"
     ]
    },
    {
     "name": "stdout",
     "output_type": "stream",
     "text": [
      "SVD 수렴 문제 발생: SVD did not converge. 계속 진행합니다.\n"
     ]
    },
    {
     "name": "stderr",
     "output_type": "stream",
     "text": [
      "[I 2024-10-05 15:36:42,586] Trial 959 finished with value: 0.7423887587822015 and parameters: {'lr': 2.9658347158228227e-05, 'weight_decay': 0.0009528216928491484}. Best is trial 483 with value: 0.8469945355191256.\n",
      "WARNING: Maximum number of iterations 32 reached. The mean may be inaccurate\n"
     ]
    },
    {
     "name": "stdout",
     "output_type": "stream",
     "text": [
      "SVD 수렴 문제 발생: SVD did not converge. 계속 진행합니다.\n"
     ]
    },
    {
     "name": "stderr",
     "output_type": "stream",
     "text": [
      "[I 2024-10-05 15:41:33,152] Trial 960 finished with value: 0.6791979949874687 and parameters: {'lr': 0.0011423885639002638, 'weight_decay': 0.002081522836586529}. Best is trial 483 with value: 0.8469945355191256.\n",
      "WARNING: Maximum number of iterations 32 reached. The mean may be inaccurate\n"
     ]
    },
    {
     "name": "stdout",
     "output_type": "stream",
     "text": [
      "SVD 수렴 문제 발생: SVD did not converge. 계속 진행합니다.\n"
     ]
    },
    {
     "name": "stderr",
     "output_type": "stream",
     "text": [
      "[I 2024-10-05 15:46:25,044] Trial 961 finished with value: 0.6485568760611204 and parameters: {'lr': 1.4178422222273038e-05, 'weight_decay': 0.0005882755984323269}. Best is trial 483 with value: 0.8469945355191256.\n",
      "WARNING: Maximum number of iterations 32 reached. The mean may be inaccurate\n"
     ]
    },
    {
     "name": "stdout",
     "output_type": "stream",
     "text": [
      "SVD 수렴 문제 발생: SVD did not converge. 계속 진행합니다.\n"
     ]
    },
    {
     "name": "stderr",
     "output_type": "stream",
     "text": [
      "[I 2024-10-05 15:51:16,860] Trial 962 finished with value: 0.7161290322580645 and parameters: {'lr': 4.339856203014981e-05, 'weight_decay': 0.0003763715609943418}. Best is trial 483 with value: 0.8469945355191256.\n",
      "WARNING: Maximum number of iterations 32 reached. The mean may be inaccurate\n"
     ]
    },
    {
     "name": "stdout",
     "output_type": "stream",
     "text": [
      "SVD 수렴 문제 발생: SVD did not converge. 계속 진행합니다.\n"
     ]
    },
    {
     "name": "stderr",
     "output_type": "stream",
     "text": [
      "[I 2024-10-05 15:56:08,104] Trial 963 finished with value: 0.6782258064516129 and parameters: {'lr': 1.778453693742357e-05, 'weight_decay': 0.0011414335708076818}. Best is trial 483 with value: 0.8469945355191256.\n",
      "WARNING: Maximum number of iterations 32 reached. The mean may be inaccurate\n"
     ]
    },
    {
     "name": "stdout",
     "output_type": "stream",
     "text": [
      "SVD 수렴 문제 발생: SVD did not converge. 계속 진행합니다.\n"
     ]
    },
    {
     "name": "stderr",
     "output_type": "stream",
     "text": [
      "[I 2024-10-05 16:00:59,242] Trial 964 finished with value: 0.6018735362997658 and parameters: {'lr': 2.134059244088337e-05, 'weight_decay': 0.0007969785870922972}. Best is trial 483 with value: 0.8469945355191256.\n",
      "WARNING: Maximum number of iterations 32 reached. The mean may be inaccurate\n"
     ]
    },
    {
     "name": "stdout",
     "output_type": "stream",
     "text": [
      "SVD 수렴 문제 발생: SVD did not converge. 계속 진행합니다.\n"
     ]
    },
    {
     "name": "stderr",
     "output_type": "stream",
     "text": [
      "[I 2024-10-05 16:05:52,028] Trial 965 finished with value: 0.7075757575757575 and parameters: {'lr': 3.576201859026323e-05, 'weight_decay': 0.0004988376940237057}. Best is trial 483 with value: 0.8469945355191256.\n",
      "WARNING: Maximum number of iterations 32 reached. The mean may be inaccurate\n"
     ]
    },
    {
     "name": "stdout",
     "output_type": "stream",
     "text": [
      "SVD 수렴 문제 발생: SVD did not converge. 계속 진행합니다.\n"
     ]
    },
    {
     "name": "stderr",
     "output_type": "stream",
     "text": [
      "[I 2024-10-05 16:10:44,014] Trial 966 finished with value: 0.7002341920374707 and parameters: {'lr': 2.6934752555296647e-05, 'weight_decay': 9.06920272680657e-05}. Best is trial 483 with value: 0.8469945355191256.\n",
      "WARNING: Maximum number of iterations 32 reached. The mean may be inaccurate\n"
     ]
    },
    {
     "name": "stdout",
     "output_type": "stream",
     "text": [
      "SVD 수렴 문제 발생: SVD did not converge. 계속 진행합니다.\n"
     ]
    },
    {
     "name": "stderr",
     "output_type": "stream",
     "text": [
      "[I 2024-10-05 16:15:35,124] Trial 967 finished with value: 0.7096774193548387 and parameters: {'lr': 4.641617268791159e-05, 'weight_decay': 0.0006809602341232819}. Best is trial 483 with value: 0.8469945355191256.\n",
      "WARNING: Maximum number of iterations 32 reached. The mean may be inaccurate\n"
     ]
    },
    {
     "name": "stdout",
     "output_type": "stream",
     "text": [
      "SVD 수렴 문제 발생: SVD did not converge. 계속 진행합니다.\n"
     ]
    },
    {
     "name": "stderr",
     "output_type": "stream",
     "text": [
      "[I 2024-10-05 16:20:21,338] Trial 968 finished with value: 0.5785229202037351 and parameters: {'lr': 0.004722834327916156, 'weight_decay': 0.00023991940272386769}. Best is trial 483 with value: 0.8469945355191256.\n",
      "WARNING: Maximum number of iterations 32 reached. The mean may be inaccurate\n"
     ]
    },
    {
     "name": "stdout",
     "output_type": "stream",
     "text": [
      "SVD 수렴 문제 발생: SVD did not converge. 계속 진행합니다.\n"
     ]
    },
    {
     "name": "stderr",
     "output_type": "stream",
     "text": [
      "[I 2024-10-05 16:25:12,772] Trial 969 finished with value: 0.6169354838709677 and parameters: {'lr': 1.6742321509123857e-06, 'weight_decay': 0.0015706703332436652}. Best is trial 483 with value: 0.8469945355191256.\n",
      "WARNING: Maximum number of iterations 32 reached. The mean may be inaccurate\n",
      "[I 2024-10-05 16:30:03,176] Trial 970 finished with value: 0.6073517126148705 and parameters: {'lr': 3.1576300028798316e-06, 'weight_decay': 0.0008618096193197099}. Best is trial 483 with value: 0.8469945355191256.\n"
     ]
    },
    {
     "name": "stdout",
     "output_type": "stream",
     "text": [
      "SVD 수렴 문제 발생: SVD did not converge. 계속 진행합니다.\n"
     ]
    },
    {
     "name": "stderr",
     "output_type": "stream",
     "text": [
      "WARNING: Maximum number of iterations 32 reached. The mean may be inaccurate\n"
     ]
    },
    {
     "name": "stdout",
     "output_type": "stream",
     "text": [
      "SVD 수렴 문제 발생: SVD did not converge. 계속 진행합니다.\n"
     ]
    },
    {
     "name": "stderr",
     "output_type": "stream",
     "text": [
      "[I 2024-10-05 16:34:54,289] Trial 971 finished with value: 0.6174863387978142 and parameters: {'lr': 3.272966430995297e-05, 'weight_decay': 0.005104456396983599}. Best is trial 483 with value: 0.8469945355191256.\n",
      "WARNING: Maximum number of iterations 32 reached. The mean may be inaccurate\n"
     ]
    },
    {
     "name": "stdout",
     "output_type": "stream",
     "text": [
      "SVD 수렴 문제 발생: SVD did not converge. 계속 진행합니다.\n"
     ]
    },
    {
     "name": "stderr",
     "output_type": "stream",
     "text": [
      "[I 2024-10-05 16:39:45,239] Trial 972 finished with value: 0.6449456975772765 and parameters: {'lr': 8.767740997024634e-06, 'weight_decay': 0.0001558219350936979}. Best is trial 483 with value: 0.8469945355191256.\n",
      "WARNING: Maximum number of iterations 32 reached. The mean may be inaccurate\n"
     ]
    },
    {
     "name": "stdout",
     "output_type": "stream",
     "text": [
      "SVD 수렴 문제 발생: SVD did not converge. 계속 진행합니다.\n"
     ]
    },
    {
     "name": "stderr",
     "output_type": "stream",
     "text": [
      "[I 2024-10-05 16:44:37,066] Trial 973 finished with value: 0.5959677419354839 and parameters: {'lr': 2.2418273179119846e-05, 'weight_decay': 0.0001245186083734052}. Best is trial 483 with value: 0.8469945355191256.\n",
      "WARNING: Maximum number of iterations 32 reached. The mean may be inaccurate\n"
     ]
    },
    {
     "name": "stdout",
     "output_type": "stream",
     "text": [
      "SVD 수렴 문제 발생: SVD did not converge. 계속 진행합니다.\n"
     ]
    },
    {
     "name": "stderr",
     "output_type": "stream",
     "text": [
      "[I 2024-10-05 16:49:28,169] Trial 974 finished with value: 0.636698599852616 and parameters: {'lr': 1.6510894509123575e-05, 'weight_decay': 0.0005899355176705308}. Best is trial 483 with value: 0.8469945355191256.\n",
      "WARNING: Maximum number of iterations 32 reached. The mean may be inaccurate\n"
     ]
    },
    {
     "name": "stdout",
     "output_type": "stream",
     "text": [
      "SVD 수렴 문제 발생: SVD did not converge. 계속 진행합니다.\n"
     ]
    },
    {
     "name": "stderr",
     "output_type": "stream",
     "text": [
      "[I 2024-10-05 16:54:17,750] Trial 975 finished with value: 0.6986729117876659 and parameters: {'lr': 3.907241870094784e-05, 'weight_decay': 0.0010110914202614116}. Best is trial 483 with value: 0.8469945355191256.\n",
      "WARNING: Maximum number of iterations 32 reached. The mean may be inaccurate\n",
      "[I 2024-10-05 16:59:07,822] Trial 976 finished with value: 0.6042154566744731 and parameters: {'lr': 0.00038224594879669857, 'weight_decay': 0.0012712862436659656}. Best is trial 483 with value: 0.8469945355191256.\n"
     ]
    },
    {
     "name": "stdout",
     "output_type": "stream",
     "text": [
      "SVD 수렴 문제 발생: SVD did not converge. 계속 진행합니다.\n"
     ]
    },
    {
     "name": "stderr",
     "output_type": "stream",
     "text": [
      "WARNING: Maximum number of iterations 32 reached. The mean may be inaccurate\n"
     ]
    },
    {
     "name": "stdout",
     "output_type": "stream",
     "text": [
      "SVD 수렴 문제 발생: SVD did not converge. 계속 진행합니다.\n"
     ]
    },
    {
     "name": "stderr",
     "output_type": "stream",
     "text": [
      "[I 2024-10-05 17:03:56,967] Trial 977 finished with value: 0.671664167916042 and parameters: {'lr': 2.6508829102081116e-05, 'weight_decay': 0.00046513289057801486}. Best is trial 483 with value: 0.8469945355191256.\n",
      "WARNING: Maximum number of iterations 32 reached. The mean may be inaccurate\n"
     ]
    },
    {
     "name": "stdout",
     "output_type": "stream",
     "text": [
      "SVD 수렴 문제 발생: SVD did not converge. 계속 진행합니다.\n"
     ]
    },
    {
     "name": "stderr",
     "output_type": "stream",
     "text": [
      "[I 2024-10-05 17:08:47,596] Trial 978 finished with value: 0.5940671350507416 and parameters: {'lr': 4.260739978348289e-06, 'weight_decay': 0.000680264323563763}. Best is trial 483 with value: 0.8469945355191256.\n",
      "WARNING: Maximum number of iterations 32 reached. The mean may be inaccurate\n"
     ]
    },
    {
     "name": "stdout",
     "output_type": "stream",
     "text": [
      "SVD 수렴 문제 발생: SVD did not converge. 계속 진행합니다.\n"
     ]
    },
    {
     "name": "stderr",
     "output_type": "stream",
     "text": [
      "[I 2024-10-05 17:13:39,410] Trial 979 finished with value: 0.6204545454545455 and parameters: {'lr': 1.2328919374626152e-05, 'weight_decay': 0.000336208825253492}. Best is trial 483 with value: 0.8469945355191256.\n",
      "WARNING: Maximum number of iterations 32 reached. The mean may be inaccurate\n"
     ]
    },
    {
     "name": "stdout",
     "output_type": "stream",
     "text": [
      "SVD 수렴 문제 발생: SVD did not converge. 계속 진행합니다.\n"
     ]
    },
    {
     "name": "stderr",
     "output_type": "stream",
     "text": [
      "[I 2024-10-05 17:18:31,420] Trial 980 finished with value: 0.6007936507936509 and parameters: {'lr': 3.0839903107980286e-05, 'weight_decay': 0.0008311801097018106}. Best is trial 483 with value: 0.8469945355191256.\n",
      "WARNING: Maximum number of iterations 32 reached. The mean may be inaccurate\n"
     ]
    },
    {
     "name": "stdout",
     "output_type": "stream",
     "text": [
      "SVD 수렴 문제 발생: SVD did not converge. 계속 진행합니다.\n"
     ]
    },
    {
     "name": "stderr",
     "output_type": "stream",
     "text": [
      "[I 2024-10-05 17:23:23,730] Trial 981 finished with value: 0.5798387096774194 and parameters: {'lr': 0.0001773963536793405, 'weight_decay': 0.0017185124864016257}. Best is trial 483 with value: 0.8469945355191256.\n",
      "WARNING: Maximum number of iterations 32 reached. The mean may be inaccurate\n"
     ]
    },
    {
     "name": "stdout",
     "output_type": "stream",
     "text": [
      "SVD 수렴 문제 발생: SVD did not converge. 계속 진행합니다.\n"
     ]
    },
    {
     "name": "stderr",
     "output_type": "stream",
     "text": [
      "[I 2024-10-05 17:28:15,662] Trial 982 finished with value: 0.6274193548387097 and parameters: {'lr': 7.215506256075575e-06, 'weight_decay': 5.376834838701949e-05}. Best is trial 483 with value: 0.8469945355191256.\n",
      "WARNING: Maximum number of iterations 32 reached. The mean may be inaccurate\n"
     ]
    },
    {
     "name": "stdout",
     "output_type": "stream",
     "text": [
      "SVD 수렴 문제 발생: SVD did not converge. 계속 진행합니다.\n"
     ]
    },
    {
     "name": "stderr",
     "output_type": "stream",
     "text": [
      "[I 2024-10-05 17:33:08,306] Trial 983 finished with value: 0.6659090909090908 and parameters: {'lr': 2.0688769473694024e-05, 'weight_decay': 0.0005437507713619079}. Best is trial 483 with value: 0.8469945355191256.\n",
      "WARNING: Maximum number of iterations 32 reached. The mean may be inaccurate\n"
     ]
    },
    {
     "name": "stdout",
     "output_type": "stream",
     "text": [
      "SVD 수렴 문제 발생: SVD did not converge. 계속 진행합니다.\n"
     ]
    },
    {
     "name": "stderr",
     "output_type": "stream",
     "text": [
      "[I 2024-10-05 17:37:59,685] Trial 984 finished with value: 0.5460574797347089 and parameters: {'lr': 0.0006040014825530673, 'weight_decay': 0.0010021747308153867}. Best is trial 483 with value: 0.8469945355191256.\n",
      "WARNING: Maximum number of iterations 32 reached. The mean may be inaccurate\n"
     ]
    },
    {
     "name": "stdout",
     "output_type": "stream",
     "text": [
      "SVD 수렴 문제 발생: SVD did not converge. 계속 진행합니다.\n"
     ]
    },
    {
     "name": "stderr",
     "output_type": "stream",
     "text": [
      "[I 2024-10-05 17:42:51,135] Trial 985 finished with value: 0.7000000000000001 and parameters: {'lr': 1.1908524780057027e-06, 'weight_decay': 0.0006549575041092087}. Best is trial 483 with value: 0.8469945355191256.\n",
      "WARNING: Maximum number of iterations 32 reached. The mean may be inaccurate\n",
      "[I 2024-10-05 17:47:44,140] Trial 986 finished with value: 0.5661290322580645 and parameters: {'lr': 4.949757211722582e-05, 'weight_decay': 0.00019144084705925455}. Best is trial 483 with value: 0.8469945355191256.\n"
     ]
    },
    {
     "name": "stdout",
     "output_type": "stream",
     "text": [
      "SVD 수렴 문제 발생: SVD did not converge. 계속 진행합니다.\n"
     ]
    },
    {
     "name": "stderr",
     "output_type": "stream",
     "text": [
      "WARNING: Maximum number of iterations 32 reached. The mean may be inaccurate\n",
      "[I 2024-10-05 17:57:08,130] Trial 987 finished with value: 0.5333333333333333 and parameters: {'lr': 2.445169599346797e-06, 'weight_decay': 0.0007872628409428696}. Best is trial 483 with value: 0.8469945355191256.\n"
     ]
    },
    {
     "name": "stdout",
     "output_type": "stream",
     "text": [
      "SVD 수렴 문제 발생: SVD did not converge. 계속 진행합니다.\n"
     ]
    },
    {
     "name": "stderr",
     "output_type": "stream",
     "text": [
      "WARNING: Maximum number of iterations 32 reached. The mean may be inaccurate\n"
     ]
    },
    {
     "name": "stdout",
     "output_type": "stream",
     "text": [
      "SVD 수렴 문제 발생: SVD did not converge. 계속 진행합니다.\n"
     ]
    },
    {
     "name": "stderr",
     "output_type": "stream",
     "text": [
      "[I 2024-10-05 18:06:54,310] Trial 988 finished with value: 0.6380208333333333 and parameters: {'lr': 2.519569696097969e-05, 'weight_decay': 0.0012949292617658774}. Best is trial 483 with value: 0.8469945355191256.\n",
      "WARNING: Maximum number of iterations 32 reached. The mean may be inaccurate\n"
     ]
    },
    {
     "name": "stdout",
     "output_type": "stream",
     "text": [
      "SVD 수렴 문제 발생: SVD did not converge. 계속 진행합니다.\n"
     ]
    },
    {
     "name": "stderr",
     "output_type": "stream",
     "text": [
      "[I 2024-10-05 18:16:41,938] Trial 989 finished with value: 0.6393939393939394 and parameters: {'lr': 3.952564110743519e-05, 'weight_decay': 0.00043822661972333195}. Best is trial 483 with value: 0.8469945355191256.\n",
      "WARNING: Maximum number of iterations 32 reached. The mean may be inaccurate\n"
     ]
    },
    {
     "name": "stdout",
     "output_type": "stream",
     "text": [
      "SVD 수렴 문제 발생: SVD did not converge. 계속 진행합니다.\n"
     ]
    },
    {
     "name": "stderr",
     "output_type": "stream",
     "text": [
      "[I 2024-10-05 18:26:29,411] Trial 990 finished with value: 0.6992481203007519 and parameters: {'lr': 1.9282019235767658e-05, 'weight_decay': 0.000115283856435823}. Best is trial 483 with value: 0.8469945355191256.\n",
      "WARNING: Maximum number of iterations 32 reached. The mean may be inaccurate\n"
     ]
    },
    {
     "name": "stdout",
     "output_type": "stream",
     "text": [
      "SVD 수렴 문제 발생: SVD did not converge. 계속 진행합니다.\n"
     ]
    },
    {
     "name": "stderr",
     "output_type": "stream",
     "text": [
      "[I 2024-10-05 18:36:18,362] Trial 991 finished with value: 0.6240601503759399 and parameters: {'lr': 3.185431899670676e-05, 'weight_decay': 0.0005739587887483613}. Best is trial 483 with value: 0.8469945355191256.\n",
      "WARNING: Maximum number of iterations 32 reached. The mean may be inaccurate\n"
     ]
    },
    {
     "name": "stdout",
     "output_type": "stream",
     "text": [
      "SVD 수렴 문제 발생: SVD did not converge. 계속 진행합니다.\n"
     ]
    },
    {
     "name": "stderr",
     "output_type": "stream",
     "text": [
      "[I 2024-10-05 18:46:09,549] Trial 992 finished with value: 0.6916471506635441 and parameters: {'lr': 1.7649876414680076e-05, 'weight_decay': 0.0009427163963672381}. Best is trial 483 with value: 0.8469945355191256.\n",
      "WARNING: Maximum number of iterations 32 reached. The mean may be inaccurate\n"
     ]
    },
    {
     "name": "stdout",
     "output_type": "stream",
     "text": [
      "SVD 수렴 문제 발생: SVD did not converge. 계속 진행합니다.\n"
     ]
    },
    {
     "name": "stderr",
     "output_type": "stream",
     "text": [
      "[I 2024-10-05 18:55:58,762] Trial 993 finished with value: 0.7308998302207131 and parameters: {'lr': 1.3469134577790578e-05, 'weight_decay': 0.0007404533097580765}. Best is trial 483 with value: 0.8469945355191256.\n",
      "WARNING: Maximum number of iterations 32 reached. The mean may be inaccurate\n"
     ]
    },
    {
     "name": "stdout",
     "output_type": "stream",
     "text": [
      "SVD 수렴 문제 발생: SVD did not converge. 계속 진행합니다.\n"
     ]
    },
    {
     "name": "stderr",
     "output_type": "stream",
     "text": [
      "[I 2024-10-05 19:05:45,546] Trial 994 finished with value: 0.6116433308769343 and parameters: {'lr': 2.8365971255023738e-05, 'weight_decay': 0.0014434440898598525}. Best is trial 483 with value: 0.8469945355191256.\n",
      "WARNING: Maximum number of iterations 32 reached. The mean may be inaccurate\n"
     ]
    },
    {
     "name": "stdout",
     "output_type": "stream",
     "text": [
      "SVD 수렴 문제 발생: SVD did not converge. 계속 진행합니다.\n"
     ]
    },
    {
     "name": "stderr",
     "output_type": "stream",
     "text": [
      "[I 2024-10-05 19:15:32,220] Trial 995 finished with value: 0.6403225806451613 and parameters: {'lr': 5.823492840838819e-06, 'weight_decay': 0.0011458426590808045}. Best is trial 483 with value: 0.8469945355191256.\n",
      "WARNING: Maximum number of iterations 32 reached. The mean may be inaccurate\n"
     ]
    },
    {
     "name": "stdout",
     "output_type": "stream",
     "text": [
      "SVD 수렴 문제 발생: SVD did not converge. 계속 진행합니다.\n"
     ]
    },
    {
     "name": "stderr",
     "output_type": "stream",
     "text": [
      "[I 2024-10-05 19:25:17,340] Trial 996 finished with value: 0.6636363636363637 and parameters: {'lr': 0.000511486941909485, 'weight_decay': 0.0019349751711734058}. Best is trial 483 with value: 0.8469945355191256.\n",
      "WARNING: Maximum number of iterations 32 reached. The mean may be inaccurate\n"
     ]
    },
    {
     "name": "stdout",
     "output_type": "stream",
     "text": [
      "SVD 수렴 문제 발생: SVD did not converge. 계속 진행합니다.\n"
     ]
    },
    {
     "name": "stderr",
     "output_type": "stream",
     "text": [
      "[I 2024-10-05 19:35:00,628] Trial 997 finished with value: 0.5975806451612904 and parameters: {'lr': 1.8994388076829839e-06, 'weight_decay': 0.0006945109389568442}. Best is trial 483 with value: 0.8469945355191256.\n",
      "WARNING: Maximum number of iterations 32 reached. The mean may be inaccurate\n"
     ]
    },
    {
     "name": "stdout",
     "output_type": "stream",
     "text": [
      "SVD 수렴 문제 발생: SVD did not converge. 계속 진행합니다.\n"
     ]
    },
    {
     "name": "stderr",
     "output_type": "stream",
     "text": [
      "[I 2024-10-05 19:44:46,723] Trial 998 finished with value: 0.6983870967741935 and parameters: {'lr': 2.276271849974255e-05, 'weight_decay': 0.0005036870292967698}. Best is trial 483 with value: 0.8469945355191256.\n",
      "WARNING: Maximum number of iterations 32 reached. The mean may be inaccurate\n"
     ]
    },
    {
     "name": "stdout",
     "output_type": "stream",
     "text": [
      "SVD 수렴 문제 발생: SVD did not converge. 계속 진행합니다.\n"
     ]
    },
    {
     "name": "stderr",
     "output_type": "stream",
     "text": [
      "[I 2024-10-05 19:54:32,954] Trial 999 finished with value: 0.5280303030303031 and parameters: {'lr': 0.0008374075362027547, 'weight_decay': 0.0008938366362920961}. Best is trial 483 with value: 0.8469945355191256.\n"
     ]
    },
    {
     "name": "stdout",
     "output_type": "stream",
     "text": [
      "Best trial AUC: 0.8469945355191256\n",
      "Best hyperparameters: {'lr': 2.7954302132304642e-05, 'weight_decay': 0.000786097250513217}\n"
     ]
    }
   ],
   "source": [
    "import numpy as np\n",
    "import torch\n",
    "import torch.optim as optim\n",
    "import torch.nn as nn\n",
    "import torchvision.transforms as transforms\n",
    "import torchvision.models as models\n",
    "from torch.utils.data import TensorDataset, DataLoader\n",
    "from sklearn.model_selection import KFold\n",
    "from sklearn.preprocessing import LabelEncoder\n",
    "from sklearn.metrics import accuracy_score, roc_curve, roc_auc_score\n",
    "from sklearn.utils import shuffle\n",
    "import optuna\n",
    "\n",
    "# 5-Fold Cross-Validation 적용\n",
    "kf = KFold(n_splits=10, shuffle=True)\n",
    "\n",
    "# 정확도 및 AUC 저장 리스트\n",
    "accuracies = []\n",
    "aucs = []\n",
    "\n",
    "le = LabelEncoder()  # 라벨 인코더\n",
    "\n",
    "pixel_size = (224, 224)\n",
    "sphere = Hypersphere(dim=36348)  # Tangent PCA 적용을 위해 실제 차원보다 한 차원 낮은 Hypersphere 선언\n",
    "it = ImageTransformer(\n",
    "    feature_extractor=TangentPCA(sphere, n_components=2),\n",
    "    pixels=pixel_size)  # TangentPCA의 기본 중심점은 frechet mean\n",
    "\n",
    "# Optuna Study 생성\n",
    "study = optuna.create_study(direction='maximize')\n",
    "\n",
    "# Optuna에서 lr과 weight_decay를 최적화하기 위해 트라이얼 생성\n",
    "def optimize_trial(trial):\n",
    "    # 학습률과 weight_decay를 Optuna에서 최적화할 하이퍼파라미터로 설정\n",
    "    lr = trial.suggest_float('lr', 1e-6, 1e-2, log=True)\n",
    "    weight_decay = trial.suggest_float('weight_decay', 1e-6, 1e-2, log=True)\n",
    "    \n",
    "    actual_labels_list = []\n",
    "    probs_list = []\n",
    "    \n",
    "    for train_index, test_index in kf.split(X):\n",
    "        # Train/Test Split\n",
    "        X_train, X_test = X[train_index], X[test_index]\n",
    "        y_train, y_test = y[train_index], y[test_index]\n",
    "\n",
    "        # ImageTransformer 적용 (예외 처리 추가)\n",
    "        try:\n",
    "            it.fit(X_train, y=y_train, plot=False)\n",
    "        except Exception as e:\n",
    "            print(f\"SVD 수렴 문제 발생: {e}. 계속 진행합니다.\")\n",
    "            continue  # 수렴 문제 발생 시 다음 루프로 넘어감\n",
    "\n",
    "        X_train_img = it.transform(X_train)\n",
    "        X_test_img = it.transform(X_test)\n",
    "\n",
    "        fdm = it.feature_density_matrix()\n",
    "        fdm_nonzero_indices = np.nonzero(fdm)\n",
    "        X_train_img = it.transform(X_train)\n",
    "        X_test_img = it.transform(X_test)\n",
    "        epsilon = 1e-8\n",
    "        for i in range(len(X_train_img)):\n",
    "            for channel in range(3):\n",
    "                X_train_img[i][fdm_nonzero_indices[0], fdm_nonzero_indices[1], channel] += epsilon\n",
    "\n",
    "        preprocess = transforms.Compose([\n",
    "            transforms.ToTensor()\n",
    "        ])\n",
    "\n",
    "        # Tensor로 변환\n",
    "        X_train_tensor = torch.stack([preprocess(img) for img in X_train_img]).float()\n",
    "        y_train_tensor = torch.from_numpy(le.fit_transform(y_train))\n",
    "\n",
    "        X_test_tensor = torch.stack([preprocess(img) for img in X_test_img]).float()\n",
    "        y_test_tensor = torch.from_numpy(le.transform(y_test))\n",
    "\n",
    "        # DataLoader 설정\n",
    "        batch_size = 32\n",
    "        trainset = TensorDataset(X_train_tensor, y_train_tensor)\n",
    "        trainloader = DataLoader(trainset, batch_size=batch_size, shuffle=True)\n",
    "\n",
    "        testset = TensorDataset(X_test_tensor, y_test_tensor)\n",
    "        testloader = DataLoader(testset, batch_size=1, shuffle=False)\n",
    "\n",
    "        # EfficientNet B0 모델을 로드하고 이진 분류를 위한 구조로 수정\n",
    "        #model = models.efficientnet_b0(weights='DEFAULT')\n",
    "        # 마지막 fully connected layer를 이진 분류용으로 수정\n",
    "        #num_ftrs = model.classifier[1].in_features\n",
    "        #model.classifier[1] = nn.Linear(num_ftrs, 1)  # 이진 분류용 출력층\n",
    "        model = models.resnet50(weights='DEFAULT')\n",
    "        \n",
    "        # 마지막 fully connected layer를 이진 분류용으로 수정\n",
    "        num_ftrs = model.fc.in_features\n",
    "        model.fc = nn.Linear(num_ftrs, 1)  # 이진 분류용 출력층\n",
    "        \n",
    "        # 손실 함수 및 옵티마이저 설정\n",
    "        criterion = nn.BCEWithLogitsLoss()\n",
    "        optimizer = optim.AdamW(model.parameters(), lr=lr, weight_decay=weight_decay)\n",
    "\n",
    "        # 모델을 GPU로 이동\n",
    "        device = torch.device('cuda' if torch.cuda.is_available() else 'cpu')\n",
    "        model.to(device)\n",
    "\n",
    "        # 학습 시작\n",
    "        epochs = 100  # 최적화 탐색을 위해 에포크 수를 적게 설정\n",
    "        for epoch in range(epochs):\n",
    "            model.train()\n",
    "            running_loss = 0.0\n",
    "\n",
    "            for i, data in enumerate(trainloader, 0):\n",
    "                inputs, labels = data\n",
    "                inputs = inputs.to(device)\n",
    "                labels = labels.to(device).float()\n",
    "\n",
    "                optimizer.zero_grad()\n",
    "                outputs = model(inputs)\n",
    "                loss = criterion(outputs, labels.unsqueeze(1))\n",
    "                loss.backward()\n",
    "                optimizer.step()\n",
    "\n",
    "                running_loss += loss.item()\n",
    "        \n",
    "        # 평가 모드로 전환\n",
    "        model.eval()\n",
    "\n",
    "        with torch.no_grad():\n",
    "            for data in testloader:\n",
    "                inputs, labels = data\n",
    "                inputs = inputs.to(device)\n",
    "                labels = labels.to(device).float()\n",
    "\n",
    "                outputs = model(inputs)\n",
    "                probs = torch.sigmoid(outputs).cpu().numpy()\n",
    "\n",
    "                # 실제 레이블 및 확률 값 저장 (AUC 계산용)\n",
    "                actual_labels_list.append(labels.cpu().numpy()[0])\n",
    "                probs_list.append(probs[0])\n",
    "\n",
    "    # AUC 계산\n",
    "    try:\n",
    "        auc = roc_auc_score(actual_labels_list, probs_list)\n",
    "    except ValueError:\n",
    "        # AUC 계산이 실패하는 경우 예외 처리\n",
    "        print(\"AUC 계산에 실패했습니다.\")\n",
    "        auc = 0.0\n",
    "\n",
    "    # Optuna는 목적 함수를 최대화해야 하므로 AUC 반환\n",
    "    return auc\n",
    "\n",
    "# Optuna 최적화 실행\n",
    "study.optimize(optimize_trial, n_trials=1000)\n",
    "\n",
    "# 최적화 결과 출력\n",
    "print(f'Best trial AUC: {study.best_trial.value}')\n",
    "print(f'Best hyperparameters: {study.best_trial.params}')"
   ]
  },
  {
   "cell_type": "code",
   "execution_count": null,
   "id": "60f52773-5ed4-44fd-b42a-e28504e58ec5",
   "metadata": {},
   "outputs": [],
   "source": []
  }
 ],
 "metadata": {
  "kernelspec": {
   "display_name": "Python 3 (ipykernel)",
   "language": "python",
   "name": "python3"
  },
  "language_info": {
   "codemirror_mode": {
    "name": "ipython",
    "version": 3
   },
   "file_extension": ".py",
   "mimetype": "text/x-python",
   "name": "python",
   "nbconvert_exporter": "python",
   "pygments_lexer": "ipython3",
   "version": "3.9.19"
  }
 },
 "nbformat": 4,
 "nbformat_minor": 5
}
